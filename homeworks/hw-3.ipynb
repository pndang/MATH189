{
 "cells": [
  {
   "cell_type": "markdown",
   "metadata": {},
   "source": [
    "## HW-3 • Math 189 • Wi 2024\n",
    "### Due Date: Sat, Mar 16th 2024\n",
    "\n",
    "> NAME: $\\color{red}{\\text{    Phu Dang     }}$\n",
    "> \n",
    "> PID: $\\color{red}{\\text{    A16913100     }}$\n",
    ">\n",
    "> "
   ]
  },
  {
   "cell_type": "markdown",
   "metadata": {},
   "source": [
    "---\n",
    "\n",
    "## Instructions\n",
    "* Submit your solutions online on Gradescope\n",
    "* Look at the detailed instructions [here](https://ucsd-math189-wi24.github.io/syllabus.html#assignments)\n",
    "\n",
    "\n",
    "I certify that the following write-up is my own work, and have abided by the UCSD Academic Integrity Guidelines.\n",
    "\n",
    "- [x] Yes\n",
    "- [ ] No\n",
    "\n",
    "---"
   ]
  },
  {
   "cell_type": "code",
   "execution_count": 37,
   "metadata": {},
   "outputs": [],
   "source": [
    "import numpy as np\n",
    "import pandas as pd\n",
    "\n",
    "import matplotlib.pyplot as plt\n",
    "import seaborn as sns\n",
    "\n",
    "import scipy.stats as stats\n",
    "import statsmodels.api as sm\n",
    "import statsmodels.formula.api as smf\n",
    "from statsmodels.stats.outliers_influence import variance_inflation_factor\n",
    "\n",
    "import sklearn\n",
    "from sklearn.metrics import confusion_matrix, accuracy_score, roc_curve, roc_auc_score\n",
    "\n",
    "## Configurations\n",
    "%matplotlib inline"
   ]
  },
  {
   "cell_type": "markdown",
   "metadata": {},
   "source": [
    "# Question 1"
   ]
  },
  {
   "cell_type": "markdown",
   "metadata": {},
   "source": [
    "> ##### Linear regression"
   ]
  },
  {
   "cell_type": "markdown",
   "metadata": {},
   "source": [
    "The `data` folder contains the `housing.csv` dataset which contains housing prices in California from the 1990 California census. The objective is to predict the median house price for California districts based on various features. The features are the following:\n",
    "\n",
    "1. `longitude`: A measure of how far west a house is; a higher value is farther west\n",
    "2. `latitude`: A measure of how far north a house is; a higher value is farther north\n",
    "3. `housing_median_age`: Median age of a house within a block; a lower number is a newer building\n",
    "4. `total_rooms`: Total number of rooms within a block\n",
    "5. `total_bedrooms`: Total number of bedrooms within a block\n",
    "6. `population`: Total number of people residing within a block\n",
    "7. `households`: Total number of households, a group of people residing within a home unit, for a block\n",
    "8. `median_income`: Median income for households within a block of houses\n",
    "9. `median_house_value`: Median house value for households within a block\n",
    "10. `ocean_proximity`: Location of the house w.r.t ocean/sea\n"
   ]
  },
  {
   "cell_type": "markdown",
   "metadata": {},
   "source": [
    "> a. Load the dataset and display the first 5 rows of the dataset."
   ]
  },
  {
   "cell_type": "code",
   "execution_count": 38,
   "metadata": {},
   "outputs": [
    {
     "data": {
      "text/html": [
       "<div>\n",
       "<style scoped>\n",
       "    .dataframe tbody tr th:only-of-type {\n",
       "        vertical-align: middle;\n",
       "    }\n",
       "\n",
       "    .dataframe tbody tr th {\n",
       "        vertical-align: top;\n",
       "    }\n",
       "\n",
       "    .dataframe thead th {\n",
       "        text-align: right;\n",
       "    }\n",
       "</style>\n",
       "<table border=\"1\" class=\"dataframe\">\n",
       "  <thead>\n",
       "    <tr style=\"text-align: right;\">\n",
       "      <th></th>\n",
       "      <th>longitude</th>\n",
       "      <th>latitude</th>\n",
       "      <th>housing_median_age</th>\n",
       "      <th>total_rooms</th>\n",
       "      <th>total_bedrooms</th>\n",
       "      <th>population</th>\n",
       "      <th>households</th>\n",
       "      <th>median_income</th>\n",
       "      <th>median_house_value</th>\n",
       "      <th>ocean_proximity</th>\n",
       "    </tr>\n",
       "  </thead>\n",
       "  <tbody>\n",
       "    <tr>\n",
       "      <th>0</th>\n",
       "      <td>-122.23</td>\n",
       "      <td>37.88</td>\n",
       "      <td>41.0</td>\n",
       "      <td>880.0</td>\n",
       "      <td>129.0</td>\n",
       "      <td>322.0</td>\n",
       "      <td>126.0</td>\n",
       "      <td>8.3252</td>\n",
       "      <td>452600.0</td>\n",
       "      <td>NEAR BAY</td>\n",
       "    </tr>\n",
       "    <tr>\n",
       "      <th>1</th>\n",
       "      <td>-122.22</td>\n",
       "      <td>37.86</td>\n",
       "      <td>21.0</td>\n",
       "      <td>7099.0</td>\n",
       "      <td>1106.0</td>\n",
       "      <td>2401.0</td>\n",
       "      <td>1138.0</td>\n",
       "      <td>8.3014</td>\n",
       "      <td>358500.0</td>\n",
       "      <td>NEAR BAY</td>\n",
       "    </tr>\n",
       "    <tr>\n",
       "      <th>2</th>\n",
       "      <td>-122.24</td>\n",
       "      <td>37.85</td>\n",
       "      <td>52.0</td>\n",
       "      <td>1467.0</td>\n",
       "      <td>190.0</td>\n",
       "      <td>496.0</td>\n",
       "      <td>177.0</td>\n",
       "      <td>7.2574</td>\n",
       "      <td>352100.0</td>\n",
       "      <td>NEAR BAY</td>\n",
       "    </tr>\n",
       "    <tr>\n",
       "      <th>3</th>\n",
       "      <td>-122.25</td>\n",
       "      <td>37.85</td>\n",
       "      <td>52.0</td>\n",
       "      <td>1274.0</td>\n",
       "      <td>235.0</td>\n",
       "      <td>558.0</td>\n",
       "      <td>219.0</td>\n",
       "      <td>5.6431</td>\n",
       "      <td>341300.0</td>\n",
       "      <td>NEAR BAY</td>\n",
       "    </tr>\n",
       "    <tr>\n",
       "      <th>4</th>\n",
       "      <td>-122.25</td>\n",
       "      <td>37.85</td>\n",
       "      <td>52.0</td>\n",
       "      <td>1627.0</td>\n",
       "      <td>280.0</td>\n",
       "      <td>565.0</td>\n",
       "      <td>259.0</td>\n",
       "      <td>3.8462</td>\n",
       "      <td>342200.0</td>\n",
       "      <td>NEAR BAY</td>\n",
       "    </tr>\n",
       "  </tbody>\n",
       "</table>\n",
       "</div>"
      ],
      "text/plain": [
       "   longitude  latitude  housing_median_age  total_rooms  total_bedrooms  \\\n",
       "0    -122.23     37.88                41.0        880.0           129.0   \n",
       "1    -122.22     37.86                21.0       7099.0          1106.0   \n",
       "2    -122.24     37.85                52.0       1467.0           190.0   \n",
       "3    -122.25     37.85                52.0       1274.0           235.0   \n",
       "4    -122.25     37.85                52.0       1627.0           280.0   \n",
       "\n",
       "   population  households  median_income  median_house_value ocean_proximity  \n",
       "0       322.0       126.0         8.3252            452600.0        NEAR BAY  \n",
       "1      2401.0      1138.0         8.3014            358500.0        NEAR BAY  \n",
       "2       496.0       177.0         7.2574            352100.0        NEAR BAY  \n",
       "3       558.0       219.0         5.6431            341300.0        NEAR BAY  \n",
       "4       565.0       259.0         3.8462            342200.0        NEAR BAY  "
      ]
     },
     "execution_count": 38,
     "metadata": {},
     "output_type": "execute_result"
    }
   ],
   "source": [
    "path = \"C:/Users/phuro/UCSD/MATH189/MATH189/homeworks/data/housing.csv\"\n",
    "df = pd.read_csv(path)\n",
    "df.head()"
   ]
  },
  {
   "cell_type": "markdown",
   "metadata": {},
   "source": [
    "> b. Describe the data type (e.g., categorical, discrete quantitative, etc.) of each variable in the dataset. If you identify any categorical variables, explicitly convert them to categorical variables in your pandas dataframe."
   ]
  },
  {
   "cell_type": "code",
   "execution_count": 39,
   "metadata": {},
   "outputs": [],
   "source": [
    "possible_types = ['categorical', 'ordinal', 'discrete quantitative', 'continuous quantitative']"
   ]
  },
  {
   "cell_type": "markdown",
   "metadata": {},
   "source": [
    "**Answer**: \n",
    "- longitude: **continuous quantitative**\n",
    "- latitude: **continuous quantitative**\n",
    "- housing_median_age: **discrete quantitative**\n",
    "- total_rooms: **discrete quantitative**\n",
    "- total_bedrooms: **discrete quantitative**\n",
    "- population: **discrete quantitative**\n",
    "- households: **discrete quantitative**\n",
    "- median_income: **continuous quantitative**\n",
    "- median_house_value: **continuous quantitative**\n",
    "- ocean_proximity: **categorical**\n",
    "\n",
    "**Clarification**: many of the discrete quantitative variables above also make sense to be continuous quantitive, such as how 0.5 can be considered half a year. However, I chose discrete because all of the data points are integers."
   ]
  },
  {
   "cell_type": "code",
   "execution_count": 40,
   "metadata": {},
   "outputs": [],
   "source": [
    "df = df.dropna()"
   ]
  },
  {
   "cell_type": "code",
   "execution_count": 41,
   "metadata": {},
   "outputs": [],
   "source": [
    "df['households'] = df['households'].astype(int)\n",
    "df['population'] = df['population'].astype(int)\n",
    "df['total_bedrooms'] = [int(_) if not np.isnan(_) else _ for _ in df['total_bedrooms']]\n",
    "df['total_rooms'] = df['total_rooms'].astype(int)\n",
    "df['housing_median_age'] = df['housing_median_age'].astype(int)"
   ]
  },
  {
   "cell_type": "code",
   "execution_count": 42,
   "metadata": {},
   "outputs": [
    {
     "data": {
      "text/html": [
       "<div>\n",
       "<style scoped>\n",
       "    .dataframe tbody tr th:only-of-type {\n",
       "        vertical-align: middle;\n",
       "    }\n",
       "\n",
       "    .dataframe tbody tr th {\n",
       "        vertical-align: top;\n",
       "    }\n",
       "\n",
       "    .dataframe thead th {\n",
       "        text-align: right;\n",
       "    }\n",
       "</style>\n",
       "<table border=\"1\" class=\"dataframe\">\n",
       "  <thead>\n",
       "    <tr style=\"text-align: right;\">\n",
       "      <th></th>\n",
       "      <th>longitude</th>\n",
       "      <th>latitude</th>\n",
       "      <th>housing_median_age</th>\n",
       "      <th>total_rooms</th>\n",
       "      <th>total_bedrooms</th>\n",
       "      <th>population</th>\n",
       "      <th>households</th>\n",
       "      <th>median_income</th>\n",
       "      <th>median_house_value</th>\n",
       "      <th>ocean_proximity</th>\n",
       "    </tr>\n",
       "  </thead>\n",
       "  <tbody>\n",
       "    <tr>\n",
       "      <th>0</th>\n",
       "      <td>-122.23</td>\n",
       "      <td>37.88</td>\n",
       "      <td>41</td>\n",
       "      <td>880</td>\n",
       "      <td>129</td>\n",
       "      <td>322</td>\n",
       "      <td>126</td>\n",
       "      <td>8.3252</td>\n",
       "      <td>452600.0</td>\n",
       "      <td>NEAR BAY</td>\n",
       "    </tr>\n",
       "    <tr>\n",
       "      <th>1</th>\n",
       "      <td>-122.22</td>\n",
       "      <td>37.86</td>\n",
       "      <td>21</td>\n",
       "      <td>7099</td>\n",
       "      <td>1106</td>\n",
       "      <td>2401</td>\n",
       "      <td>1138</td>\n",
       "      <td>8.3014</td>\n",
       "      <td>358500.0</td>\n",
       "      <td>NEAR BAY</td>\n",
       "    </tr>\n",
       "    <tr>\n",
       "      <th>2</th>\n",
       "      <td>-122.24</td>\n",
       "      <td>37.85</td>\n",
       "      <td>52</td>\n",
       "      <td>1467</td>\n",
       "      <td>190</td>\n",
       "      <td>496</td>\n",
       "      <td>177</td>\n",
       "      <td>7.2574</td>\n",
       "      <td>352100.0</td>\n",
       "      <td>NEAR BAY</td>\n",
       "    </tr>\n",
       "    <tr>\n",
       "      <th>3</th>\n",
       "      <td>-122.25</td>\n",
       "      <td>37.85</td>\n",
       "      <td>52</td>\n",
       "      <td>1274</td>\n",
       "      <td>235</td>\n",
       "      <td>558</td>\n",
       "      <td>219</td>\n",
       "      <td>5.6431</td>\n",
       "      <td>341300.0</td>\n",
       "      <td>NEAR BAY</td>\n",
       "    </tr>\n",
       "    <tr>\n",
       "      <th>4</th>\n",
       "      <td>-122.25</td>\n",
       "      <td>37.85</td>\n",
       "      <td>52</td>\n",
       "      <td>1627</td>\n",
       "      <td>280</td>\n",
       "      <td>565</td>\n",
       "      <td>259</td>\n",
       "      <td>3.8462</td>\n",
       "      <td>342200.0</td>\n",
       "      <td>NEAR BAY</td>\n",
       "    </tr>\n",
       "  </tbody>\n",
       "</table>\n",
       "</div>"
      ],
      "text/plain": [
       "   longitude  latitude  housing_median_age  total_rooms  total_bedrooms  \\\n",
       "0    -122.23     37.88                  41          880             129   \n",
       "1    -122.22     37.86                  21         7099            1106   \n",
       "2    -122.24     37.85                  52         1467             190   \n",
       "3    -122.25     37.85                  52         1274             235   \n",
       "4    -122.25     37.85                  52         1627             280   \n",
       "\n",
       "   population  households  median_income  median_house_value ocean_proximity  \n",
       "0         322         126         8.3252            452600.0        NEAR BAY  \n",
       "1        2401        1138         8.3014            358500.0        NEAR BAY  \n",
       "2         496         177         7.2574            352100.0        NEAR BAY  \n",
       "3         558         219         5.6431            341300.0        NEAR BAY  \n",
       "4         565         259         3.8462            342200.0        NEAR BAY  "
      ]
     },
     "execution_count": 42,
     "metadata": {},
     "output_type": "execute_result"
    }
   ],
   "source": [
    "df.head()"
   ]
  },
  {
   "cell_type": "markdown",
   "metadata": {},
   "source": [
    "> c. Fit a linear regression model to predict the `median_house_value` based on all other covariates. "
   ]
  },
  {
   "cell_type": "code",
   "execution_count": 43,
   "metadata": {},
   "outputs": [],
   "source": [
    "# oceanProxMap = {\n",
    "#     'ISLAND': 0,\n",
    "#     'NEAR OCEAN': 1,\n",
    "#     'NEAR BAY': 2, \n",
    "#     '<1H OCEAN': 3, \n",
    "#     'INLAND': 4,  \n",
    "#     }\n",
    "\n",
    "df['ocean_proximity'] = df['ocean_proximity'].astype('category')"
   ]
  },
  {
   "cell_type": "code",
   "execution_count": 44,
   "metadata": {},
   "outputs": [
    {
     "data": {
      "text/html": [
       "<div>\n",
       "<style scoped>\n",
       "    .dataframe tbody tr th:only-of-type {\n",
       "        vertical-align: middle;\n",
       "    }\n",
       "\n",
       "    .dataframe tbody tr th {\n",
       "        vertical-align: top;\n",
       "    }\n",
       "\n",
       "    .dataframe thead th {\n",
       "        text-align: right;\n",
       "    }\n",
       "</style>\n",
       "<table border=\"1\" class=\"dataframe\">\n",
       "  <thead>\n",
       "    <tr style=\"text-align: right;\">\n",
       "      <th></th>\n",
       "      <th>longitude</th>\n",
       "      <th>latitude</th>\n",
       "      <th>housing_median_age</th>\n",
       "      <th>total_rooms</th>\n",
       "      <th>total_bedrooms</th>\n",
       "      <th>population</th>\n",
       "      <th>households</th>\n",
       "      <th>median_income</th>\n",
       "      <th>median_house_value</th>\n",
       "      <th>ocean_proximity</th>\n",
       "    </tr>\n",
       "  </thead>\n",
       "  <tbody>\n",
       "    <tr>\n",
       "      <th>0</th>\n",
       "      <td>-122.23</td>\n",
       "      <td>37.88</td>\n",
       "      <td>41</td>\n",
       "      <td>880</td>\n",
       "      <td>129</td>\n",
       "      <td>322</td>\n",
       "      <td>126</td>\n",
       "      <td>8.3252</td>\n",
       "      <td>452600.0</td>\n",
       "      <td>NEAR BAY</td>\n",
       "    </tr>\n",
       "    <tr>\n",
       "      <th>1</th>\n",
       "      <td>-122.22</td>\n",
       "      <td>37.86</td>\n",
       "      <td>21</td>\n",
       "      <td>7099</td>\n",
       "      <td>1106</td>\n",
       "      <td>2401</td>\n",
       "      <td>1138</td>\n",
       "      <td>8.3014</td>\n",
       "      <td>358500.0</td>\n",
       "      <td>NEAR BAY</td>\n",
       "    </tr>\n",
       "  </tbody>\n",
       "</table>\n",
       "</div>"
      ],
      "text/plain": [
       "   longitude  latitude  housing_median_age  total_rooms  total_bedrooms  \\\n",
       "0    -122.23     37.88                  41          880             129   \n",
       "1    -122.22     37.86                  21         7099            1106   \n",
       "\n",
       "   population  households  median_income  median_house_value ocean_proximity  \n",
       "0         322         126         8.3252            452600.0        NEAR BAY  \n",
       "1        2401        1138         8.3014            358500.0        NEAR BAY  "
      ]
     },
     "execution_count": 44,
     "metadata": {},
     "output_type": "execute_result"
    }
   ],
   "source": [
    "df.head(2)"
   ]
  },
  {
   "cell_type": "code",
   "execution_count": 45,
   "metadata": {},
   "outputs": [
    {
     "data": {
      "text/plain": [
       "'median_house_value ~ households + housing_median_age + latitude + longitude + median_income + ocean_proximity + population + total_bedrooms + total_rooms'"
      ]
     },
     "execution_count": 45,
     "metadata": {},
     "output_type": "execute_result"
    }
   ],
   "source": [
    "'median_house_value ~ ' + ' + '.join(df.columns.difference(['median_house_value']))"
   ]
  },
  {
   "cell_type": "code",
   "execution_count": 46,
   "metadata": {},
   "outputs": [
    {
     "name": "stdout",
     "output_type": "stream",
     "text": [
      "median_house_value ~ households + housing_median_age + latitude + longitude + median_income + ocean_proximity + population + total_bedrooms + total_rooms\n",
      "                            OLS Regression Results                            \n",
      "==============================================================================\n",
      "Dep. Variable:     median_house_value   R-squared:                       0.646\n",
      "Model:                            OLS   Adj. R-squared:                  0.646\n",
      "Method:                 Least Squares   F-statistic:                     3112.\n",
      "Date:                Fri, 15 Mar 2024   Prob (F-statistic):               0.00\n",
      "Time:                        20:08:25   Log-Likelihood:            -2.5655e+05\n",
      "No. Observations:               20433   AIC:                         5.131e+05\n",
      "Df Residuals:                   20420   BIC:                         5.132e+05\n",
      "Df Model:                          12                                         \n",
      "Covariance Type:            nonrobust                                         \n",
      "=================================================================================================\n",
      "                                    coef    std err          t      P>|t|      [0.025      0.975]\n",
      "-------------------------------------------------------------------------------------------------\n",
      "Intercept                      -2.27e+06    8.8e+04    -25.791      0.000   -2.44e+06    -2.1e+06\n",
      "ocean_proximity[T.INLAND]     -3.928e+04   1744.258    -22.522      0.000   -4.27e+04   -3.59e+04\n",
      "ocean_proximity[T.ISLAND]      1.529e+05   3.07e+04      4.974      0.000    9.26e+04    2.13e+05\n",
      "ocean_proximity[T.NEAR BAY]   -3954.0516   1913.339     -2.067      0.039   -7704.350    -203.753\n",
      "ocean_proximity[T.NEAR OCEAN]  4278.1343   1569.525      2.726      0.006    1201.739    7354.530\n",
      "households                       49.6173      7.451      6.659      0.000      35.012      64.222\n",
      "housing_median_age             1072.5200     43.886     24.439      0.000     986.501    1158.540\n",
      "latitude                      -2.548e+04   1004.702    -25.363      0.000   -2.75e+04   -2.35e+04\n",
      "longitude                     -2.681e+04   1019.651    -26.296      0.000   -2.88e+04   -2.48e+04\n",
      "median_income                  3.926e+04    338.005    116.151      0.000    3.86e+04    3.99e+04\n",
      "population                      -37.9691      1.076    -35.282      0.000     -40.078     -35.860\n",
      "total_bedrooms                  100.5563      6.869     14.640      0.000      87.093     114.019\n",
      "total_rooms                      -6.1933      0.791     -7.825      0.000      -7.745      -4.642\n",
      "==============================================================================\n",
      "Omnibus:                     5049.292   Durbin-Watson:                   0.977\n",
      "Prob(Omnibus):                  0.000   Jarque-Bera (JB):            19123.138\n",
      "Skew:                           1.197   Prob(JB):                         0.00\n",
      "Kurtosis:                       7.090   Cond. No.                     7.24e+05\n",
      "==============================================================================\n",
      "\n",
      "Notes:\n",
      "[1] Standard Errors assume that the covariance matrix of the errors is correctly specified.\n",
      "[2] The condition number is large, 7.24e+05. This might indicate that there are\n",
      "strong multicollinearity or other numerical problems.\n"
     ]
    }
   ],
   "source": [
    "formula = 'median_house_value ~ ' + ' + '.join(df.columns.difference(['median_house_value']))\n",
    "print(formula)\n",
    "full_model = smf.ols(formula, data=df).fit()\n",
    "print(full_model.summary())"
   ]
  },
  {
   "cell_type": "markdown",
   "metadata": {},
   "source": [
    "> d. Based on the summary of the linear regression model, do you think this is a good fit for the data? Explain your answer."
   ]
  },
  {
   "cell_type": "markdown",
   "metadata": {},
   "source": [
    "**Answer**: With a R-squared value of 0.64, meaning 64% of the variance in the target variable explained by the input data, the features decently capture / account for the variability in the median house value. However, with an extremely high condition number, 7.24e+05, the model seems to exhibit a strong degree of multicollinearity among the features. In the context of best practices predictive analyses, the model is not a good fit for the data."
   ]
  },
  {
   "cell_type": "markdown",
   "metadata": {},
   "source": [
    "> e. Comment on the model assumptions and to what extent they are satisfied or not satisfied."
   ]
  },
  {
   "cell_type": "code",
   "execution_count": 47,
   "metadata": {},
   "outputs": [
    {
     "data": {
      "text/plain": [
       "<AxesSubplot:xlabel='longitude', ylabel='median_house_value'>"
      ]
     },
     "execution_count": 47,
     "metadata": {},
     "output_type": "execute_result"
    },
    {
     "data": {
      "image/png": "[encoded data removed]",
      "text/plain": [
       "<Figure size 432x288 with 1 Axes>"
      ]
     },
     "metadata": {
      "needs_background": "light"
     },
     "output_type": "display_data"
    }
   ],
   "source": [
    "sns.scatterplot(x=df['longitude'], y=df['median_house_value'])"
   ]
  },
  {
   "cell_type": "markdown",
   "metadata": {},
   "source": [
    "**Answer**: One critical assumption behind linear regression models is linearity among features against the target variable. By intution, one may presume that longitude and latitude may not realistically have a linear relationship with median house value, which is confirmed by the visualization above, where longitude does not have a linear relationship with median house value. Hence, the model assumptions are not satisfied."
   ]
  },
  {
   "cell_type": "markdown",
   "metadata": {},
   "source": [
    "> f. Compute the variance inflation factor (VIF) for each covariate. What do you observe?"
   ]
  },
  {
   "cell_type": "code",
   "execution_count": 48,
   "metadata": {},
   "outputs": [
    {
     "name": "stdout",
     "output_type": "stream",
     "text": [
      "VIF: ocean_proximity[T.INLAND]: 2.8597988166637696\n",
      "VIF: ocean_proximity[T.ISLAND]: 1.0022025466355962\n",
      "VIF: ocean_proximity[T.NEAR BAY]: 1.5670986217391483\n",
      "VIF: ocean_proximity[T.NEAR OCEAN]: 1.1967484675438809\n",
      "VIF: households: 35.17337501008421\n",
      "VIF: housing_median_age: 1.3236221972508975\n",
      "VIF: latitude: 19.969175925581585\n",
      "VIF: longitude: 18.090772087952747\n",
      "VIF: median_income: 1.786366625322834\n",
      "VIF: population: 6.446223241301073\n",
      "VIF: total_bedrooms: 36.30988317301832\n",
      "VIF: total_rooms: 12.966421703388841\n"
     ]
    }
   ],
   "source": [
    "exog = full_model.model.exog\n",
    "feat = full_model.params.index \n",
    "for i in range(1, exog.shape[1]):\n",
    "    print(f\"VIF: {feat[i]}: {variance_inflation_factor(exog, i)}\")"
   ]
  },
  {
   "cell_type": "markdown",
   "metadata": {},
   "source": [
    "**Answer**: There are numerous features with a quite high variance inflation factor. If we use a threshold of 10 as \"no go\", each of the variables \"households\", 'latitude\", \"longitude\", \"total_bedrooms\", \"total_rooms\" has a variance inflation factor well above 10, this indicates a strong degree of multicollinearity with other variables. \"Population\" shows moderate correlatio at a VIF of 6.4. The rest of the features shows low degrees of multicollinearity with VIFs lower than 5. "
   ]
  },
  {
   "cell_type": "markdown",
   "metadata": {},
   "source": [
    "> g. Drop the covariate(s) with a variance inflation factor greater than 5 and fit the linear regression model again."
   ]
  },
  {
   "cell_type": "code",
   "execution_count": 49,
   "metadata": {},
   "outputs": [
    {
     "data": {
      "text/html": [
       "<div>\n",
       "<style scoped>\n",
       "    .dataframe tbody tr th:only-of-type {\n",
       "        vertical-align: middle;\n",
       "    }\n",
       "\n",
       "    .dataframe tbody tr th {\n",
       "        vertical-align: top;\n",
       "    }\n",
       "\n",
       "    .dataframe thead th {\n",
       "        text-align: right;\n",
       "    }\n",
       "</style>\n",
       "<table border=\"1\" class=\"dataframe\">\n",
       "  <thead>\n",
       "    <tr style=\"text-align: right;\">\n",
       "      <th></th>\n",
       "      <th>housing_median_age</th>\n",
       "      <th>median_income</th>\n",
       "      <th>median_house_value</th>\n",
       "      <th>ocean_proximity</th>\n",
       "    </tr>\n",
       "  </thead>\n",
       "  <tbody>\n",
       "    <tr>\n",
       "      <th>0</th>\n",
       "      <td>41</td>\n",
       "      <td>8.3252</td>\n",
       "      <td>452600.0</td>\n",
       "      <td>NEAR BAY</td>\n",
       "    </tr>\n",
       "    <tr>\n",
       "      <th>1</th>\n",
       "      <td>21</td>\n",
       "      <td>8.3014</td>\n",
       "      <td>358500.0</td>\n",
       "      <td>NEAR BAY</td>\n",
       "    </tr>\n",
       "  </tbody>\n",
       "</table>\n",
       "</div>"
      ],
      "text/plain": [
       "   housing_median_age  median_income  median_house_value ocean_proximity\n",
       "0                  41         8.3252            452600.0        NEAR BAY\n",
       "1                  21         8.3014            358500.0        NEAR BAY"
      ]
     },
     "execution_count": 49,
     "metadata": {},
     "output_type": "execute_result"
    }
   ],
   "source": [
    "df1g = df.drop(columns=['households', 'latitude', 'longitude', 'population', \\\n",
    "    'total_bedrooms', 'total_rooms'])\n",
    "df1g.head(2)"
   ]
  },
  {
   "cell_type": "code",
   "execution_count": 50,
   "metadata": {},
   "outputs": [
    {
     "name": "stdout",
     "output_type": "stream",
     "text": [
      "median_house_value ~ housing_median_age + median_income + ocean_proximity\n",
      "                            OLS Regression Results                            \n",
      "==============================================================================\n",
      "Dep. Variable:     median_house_value   R-squared:                       0.597\n",
      "Model:                            OLS   Adj. R-squared:                  0.597\n",
      "Method:                 Least Squares   F-statistic:                     5045.\n",
      "Date:                Fri, 15 Mar 2024   Prob (F-statistic):               0.00\n",
      "Time:                        20:08:51   Log-Likelihood:            -2.5788e+05\n",
      "No. Observations:               20433   AIC:                         5.158e+05\n",
      "Df Residuals:                   20426   BIC:                         5.158e+05\n",
      "Df Model:                           6                                         \n",
      "Covariance Type:            nonrobust                                         \n",
      "=================================================================================================\n",
      "                                    coef    std err          t      P>|t|      [0.025      0.975]\n",
      "-------------------------------------------------------------------------------------------------\n",
      "Intercept                      5.141e+04   2060.180     24.955      0.000    4.74e+04    5.55e+04\n",
      "ocean_proximity[T.INLAND]     -7.172e+04   1255.670    -57.114      0.000   -7.42e+04   -6.93e+04\n",
      "ocean_proximity[T.ISLAND]      1.847e+05   3.28e+04      5.634      0.000     1.2e+05    2.49e+05\n",
      "ocean_proximity[T.NEAR BAY]    1.324e+04   1759.412      7.525      0.000    9790.965    1.67e+04\n",
      "ocean_proximity[T.NEAR OCEAN]  1.732e+04   1625.455     10.658      0.000    1.41e+04    2.05e+04\n",
      "housing_median_age              930.5206     43.669     21.308      0.000     844.926    1016.115\n",
      "median_income                   3.82e+04    283.224    134.863      0.000    3.76e+04    3.88e+04\n",
      "==============================================================================\n",
      "Omnibus:                     4612.911   Durbin-Watson:                   0.817\n",
      "Prob(Omnibus):                  0.000   Jarque-Bera (JB):            12326.813\n",
      "Skew:                           1.213   Prob(JB):                         0.00\n",
      "Kurtosis:                       5.931   Cond. No.                     2.01e+03\n",
      "==============================================================================\n",
      "\n",
      "Notes:\n",
      "[1] Standard Errors assume that the covariance matrix of the errors is correctly specified.\n",
      "[2] The condition number is large, 2.01e+03. This might indicate that there are\n",
      "strong multicollinearity or other numerical problems.\n"
     ]
    }
   ],
   "source": [
    "formula = 'median_house_value ~ ' + ' + '.join(\n",
    "    df1g.columns.difference(['median_house_value'])\n",
    ")\n",
    "print(formula)\n",
    "new_model = smf.ols(formula, data=df1g).fit()\n",
    "print(new_model.summary())"
   ]
  },
  {
   "cell_type": "markdown",
   "metadata": {},
   "source": [
    "> h. Based on the summary of the regression model `new_model` interpret the coefficients of the covariates."
   ]
  },
  {
   "cell_type": "markdown",
   "metadata": {},
   "source": [
    "**Answer**: \n",
    "\n",
    "The \"hold all other variables constant\" assumption applies for all interpretations below.\n",
    "\n",
    "- **Intercept (51410)**: The predicted median house value when all of the other features are zero, which is $51410, this also represents the bias of the model in its risk-minimization process.\n",
    "\n",
    "- **ocean_proximity - inland (-71720)**: The predicted median home value decreases by approximately $71720 if the subject house is located inland.\n",
    "\n",
    "- **ocean_proximity - island (184700)**: The predicted median home value increases by approximately $184700 if the subject house is located on an island.\n",
    "\n",
    "- **ocean_proximity - near bay (13240)**: The predicted median home value increases by approximately $13240 if the subject house is located near bay.\n",
    "\n",
    "- **ocean_proximity - near ocean (17320)**: The predicted median home value increases by approximately $17320 if the subject house is located near ocean.\n",
    "\n",
    "- **housing_median_age (930.5)**: The predicted median home value increases by approximately $930.5 for each unit (year) increase in the median age of homes in the subject block.\n",
    "\n",
    "- **median_income (38200)**: The predicted median home value increases by approximately $38200 for each unit increase in the median income in the subject block."
   ]
  },
  {
   "cell_type": "markdown",
   "metadata": {},
   "source": [
    "> i. Holding all other covariates constant, which of the `ocean_proximity` categories do you expect to find a house with the highest median house value? Why?"
   ]
  },
  {
   "cell_type": "code",
   "execution_count": 51,
   "metadata": {},
   "outputs": [
    {
     "data": {
      "text/plain": [
       "ocean_proximity\n",
       "<1H OCEAN     215000.0\n",
       "INLAND        108700.0\n",
       "ISLAND        414700.0\n",
       "NEAR BAY      233800.0\n",
       "NEAR OCEAN    228750.0\n",
       "Name: median_house_value, dtype: float64"
      ]
     },
     "execution_count": 51,
     "metadata": {},
     "output_type": "execute_result"
    }
   ],
   "source": [
    "df.groupby('ocean_proximity')['median_house_value'].median()"
   ]
  },
  {
   "cell_type": "markdown",
   "metadata": {},
   "source": [
    "**Answer**: Holding all other variables constant, I expect the \"island\" category to possess a house with the highest median house value, assuming we are calculating \"highest median value\" relative to other houses within the subject house's block. This is because building, maintaining, and funding a house on an island can be very expensive. On islands: mails, utilities, and other services have to delivered in special ways; it also makes sense for there to be great additional costs for such high degrees of exclusivity and privacy, such as special fees, taxes, and miscellaneous costs associated with up-keeping an island property."
   ]
  },
  {
   "cell_type": "markdown",
   "metadata": {},
   "source": [
    "---"
   ]
  },
  {
   "cell_type": "markdown",
   "metadata": {},
   "source": [
    "# Question 2"
   ]
  },
  {
   "cell_type": "markdown",
   "metadata": {},
   "source": [
    "For this question, we are going to use the `abortion` dataset which consists of Abortion Opinions in the General Social Survey (GSS) from 1977 to 2018. The article related to the dataset can be found [here](https://gss.norc.org/Documents/reports/methodological-reports/MR133%20Abortion.pdf).\n",
    "\n",
    "The data has been preprocessed and is available in the `data` folder as `abortion.csv`. The dataset contains the following columns:\n",
    "\n",
    "1. `abortion`: Do you think that abortion should be legal for any reason?\n",
    "2. `year`: Year of the survey\n",
    "3. `age`: Respondent's age\n",
    "4. `sex`: Respondent's sex\n",
    "5. `race`: Respondent's race\n",
    "6. `education`: How many years of education has the respondent completed\n",
    "7. `relactiv`: Self-reported religiosity\n",
    "8. `pid`: Respondent's political party identification (0: strong democrat ... 6: strong republican)\n"
   ]
  },
  {
   "cell_type": "markdown",
   "metadata": {},
   "source": [
    "<br><br><br><br>"
   ]
  },
  {
   "cell_type": "markdown",
   "metadata": {},
   "source": [
    "> a. Load the dataset and display the first 5 rows of the dataset."
   ]
  },
  {
   "cell_type": "code",
   "execution_count": 52,
   "metadata": {},
   "outputs": [
    {
     "data": {
      "text/html": [
       "<div>\n",
       "<style scoped>\n",
       "    .dataframe tbody tr th:only-of-type {\n",
       "        vertical-align: middle;\n",
       "    }\n",
       "\n",
       "    .dataframe tbody tr th {\n",
       "        vertical-align: top;\n",
       "    }\n",
       "\n",
       "    .dataframe thead th {\n",
       "        text-align: right;\n",
       "    }\n",
       "</style>\n",
       "<table border=\"1\" class=\"dataframe\">\n",
       "  <thead>\n",
       "    <tr style=\"text-align: right;\">\n",
       "      <th></th>\n",
       "      <th>year</th>\n",
       "      <th>age</th>\n",
       "      <th>race</th>\n",
       "      <th>sex</th>\n",
       "      <th>educ</th>\n",
       "      <th>relactiv</th>\n",
       "      <th>pid</th>\n",
       "      <th>abortion</th>\n",
       "    </tr>\n",
       "  </thead>\n",
       "  <tbody>\n",
       "    <tr>\n",
       "      <th>0</th>\n",
       "      <td>2006</td>\n",
       "      <td>50.0</td>\n",
       "      <td>Black</td>\n",
       "      <td>Female</td>\n",
       "      <td>13.0</td>\n",
       "      <td>4.0</td>\n",
       "      <td>0.0</td>\n",
       "      <td>1.0</td>\n",
       "    </tr>\n",
       "    <tr>\n",
       "      <th>1</th>\n",
       "      <td>2006</td>\n",
       "      <td>50.0</td>\n",
       "      <td>Black</td>\n",
       "      <td>Female</td>\n",
       "      <td>12.0</td>\n",
       "      <td>1.0</td>\n",
       "      <td>0.0</td>\n",
       "      <td>1.0</td>\n",
       "    </tr>\n",
       "    <tr>\n",
       "      <th>2</th>\n",
       "      <td>2006</td>\n",
       "      <td>20.0</td>\n",
       "      <td>Black</td>\n",
       "      <td>Male</td>\n",
       "      <td>14.0</td>\n",
       "      <td>1.0</td>\n",
       "      <td>0.0</td>\n",
       "      <td>1.0</td>\n",
       "    </tr>\n",
       "    <tr>\n",
       "      <th>3</th>\n",
       "      <td>2006</td>\n",
       "      <td>29.0</td>\n",
       "      <td>Black</td>\n",
       "      <td>Female</td>\n",
       "      <td>12.0</td>\n",
       "      <td>1.0</td>\n",
       "      <td>3.0</td>\n",
       "      <td>1.0</td>\n",
       "    </tr>\n",
       "    <tr>\n",
       "      <th>4</th>\n",
       "      <td>2006</td>\n",
       "      <td>23.0</td>\n",
       "      <td>Black</td>\n",
       "      <td>Female</td>\n",
       "      <td>16.0</td>\n",
       "      <td>1.0</td>\n",
       "      <td>0.0</td>\n",
       "      <td>1.0</td>\n",
       "    </tr>\n",
       "  </tbody>\n",
       "</table>\n",
       "</div>"
      ],
      "text/plain": [
       "   year   age   race     sex  educ  relactiv  pid  abortion\n",
       "0  2006  50.0  Black  Female  13.0       4.0  0.0       1.0\n",
       "1  2006  50.0  Black  Female  12.0       1.0  0.0       1.0\n",
       "2  2006  20.0  Black    Male  14.0       1.0  0.0       1.0\n",
       "3  2006  29.0  Black  Female  12.0       1.0  3.0       1.0\n",
       "4  2006  23.0  Black  Female  16.0       1.0  0.0       1.0"
      ]
     },
     "execution_count": 52,
     "metadata": {},
     "output_type": "execute_result"
    }
   ],
   "source": [
    "path = \"C:/Users/phuro/UCSD/MATH189/MATH189/homeworks/data/abortion.csv\"\n",
    "df = pd.read_csv(path)\n",
    "df.head()"
   ]
  },
  {
   "cell_type": "markdown",
   "metadata": {},
   "source": [
    "> b. Summarize the data type (e.g., categorical, discrete quantitative, etc.) of each variable in the dataset. If you identify any categorical variables, explicitly convert them to categorical variables in your pandas dataframe."
   ]
  },
  {
   "cell_type": "code",
   "execution_count": 53,
   "metadata": {},
   "outputs": [
    {
     "data": {
      "text/plain": [
       "['categorical', 'ordinal', 'discrete quantitative', 'continuous quantitative']"
      ]
     },
     "execution_count": 53,
     "metadata": {},
     "output_type": "execute_result"
    }
   ],
   "source": [
    "possible_types"
   ]
  },
  {
   "cell_type": "code",
   "execution_count": 54,
   "metadata": {},
   "outputs": [
    {
     "data": {
      "text/plain": [
       "array([50., 20., 29., 23., 32., 81., 47., 26., 68., 25., 52., 62., 56.,\n",
       "       30., 37., 31., 70., 36., 39., 48., 88., 42., 43., 33., 75., 85.,\n",
       "       58., 40., 35., 77., 51., 54., 57., 28., 83., 53., 27., 38., 60.,\n",
       "       49., 22., 86., 34., 41., 24., 64., 73., 74., 66., 76., 67., 78.,\n",
       "       45., 55., 44., 18., 46., 71., 59., 69., 65., 89., 61., 19., 63.,\n",
       "       72., 21., 80., 82., 79., 87., 84.])"
      ]
     },
     "execution_count": 54,
     "metadata": {},
     "output_type": "execute_result"
    }
   ],
   "source": [
    "df.age.unique()"
   ]
  },
  {
   "cell_type": "markdown",
   "metadata": {},
   "source": [
    "**Answer**:\n",
    "- year: **ordinal**\n",
    "- age: **discrete quantitative**\n",
    "- race: **categorical**\n",
    "- sex: **categorical**\n",
    "- educ: **discrete quantitative**\n",
    "- relactiv: **discrete quantitative**\n",
    "- pid: **ordinal**\n",
    "- abortion: **categorical**\n",
    "\n",
    "**Clarification**: many of the discrete quantitative variables above also make sense to be continuous quantitive, such as how 0.5 can be considered half a year. However, I chose discrete because all of the data points are integers."
   ]
  },
  {
   "cell_type": "code",
   "execution_count": 55,
   "metadata": {},
   "outputs": [],
   "source": [
    "# raceMapping = {'Black': 0, 'Other': 1, \"White\": 2}\n",
    "# sexMapping = {'Female': 0, 'Male': 1}\n",
    "\n",
    "df['race'] = df['race'].astype('category')\n",
    "df['sex'] = df['sex'].astype('category')"
   ]
  },
  {
   "cell_type": "code",
   "execution_count": 56,
   "metadata": {},
   "outputs": [
    {
     "data": {
      "text/html": [
       "<div>\n",
       "<style scoped>\n",
       "    .dataframe tbody tr th:only-of-type {\n",
       "        vertical-align: middle;\n",
       "    }\n",
       "\n",
       "    .dataframe tbody tr th {\n",
       "        vertical-align: top;\n",
       "    }\n",
       "\n",
       "    .dataframe thead th {\n",
       "        text-align: right;\n",
       "    }\n",
       "</style>\n",
       "<table border=\"1\" class=\"dataframe\">\n",
       "  <thead>\n",
       "    <tr style=\"text-align: right;\">\n",
       "      <th></th>\n",
       "      <th>year</th>\n",
       "      <th>age</th>\n",
       "      <th>race</th>\n",
       "      <th>sex</th>\n",
       "      <th>educ</th>\n",
       "      <th>relactiv</th>\n",
       "      <th>pid</th>\n",
       "      <th>abortion</th>\n",
       "    </tr>\n",
       "  </thead>\n",
       "  <tbody>\n",
       "    <tr>\n",
       "      <th>0</th>\n",
       "      <td>2006</td>\n",
       "      <td>50.0</td>\n",
       "      <td>Black</td>\n",
       "      <td>Female</td>\n",
       "      <td>13.0</td>\n",
       "      <td>4.0</td>\n",
       "      <td>0.0</td>\n",
       "      <td>1.0</td>\n",
       "    </tr>\n",
       "    <tr>\n",
       "      <th>1</th>\n",
       "      <td>2006</td>\n",
       "      <td>50.0</td>\n",
       "      <td>Black</td>\n",
       "      <td>Female</td>\n",
       "      <td>12.0</td>\n",
       "      <td>1.0</td>\n",
       "      <td>0.0</td>\n",
       "      <td>1.0</td>\n",
       "    </tr>\n",
       "  </tbody>\n",
       "</table>\n",
       "</div>"
      ],
      "text/plain": [
       "   year   age   race     sex  educ  relactiv  pid  abortion\n",
       "0  2006  50.0  Black  Female  13.0       4.0  0.0       1.0\n",
       "1  2006  50.0  Black  Female  12.0       1.0  0.0       1.0"
      ]
     },
     "execution_count": 56,
     "metadata": {},
     "output_type": "execute_result"
    }
   ],
   "source": [
    "df.head(2)"
   ]
  },
  {
   "cell_type": "markdown",
   "metadata": {},
   "source": [
    "> c. Fit a logistic regression model to predict the `abortion` based on all other covariates."
   ]
  },
  {
   "cell_type": "code",
   "execution_count": 57,
   "metadata": {},
   "outputs": [
    {
     "name": "stdout",
     "output_type": "stream",
     "text": [
      "abortion ~ age + educ + pid + race + relactiv + sex + year\n",
      "Optimization terminated successfully.\n",
      "         Current function value: 0.285870\n",
      "         Iterations 8\n",
      "                           Logit Regression Results                           \n",
      "==============================================================================\n",
      "Dep. Variable:               abortion   No. Observations:                10133\n",
      "Model:                          Logit   Df Residuals:                    10124\n",
      "Method:                           MLE   Df Model:                            8\n",
      "Date:                Fri, 15 Mar 2024   Pseudo R-squ.:                  0.1187\n",
      "Time:                        20:20:40   Log-Likelihood:                -2896.7\n",
      "converged:                       True   LL-Null:                       -3286.8\n",
      "Covariance Type:            nonrobust   LLR p-value:                3.843e-163\n",
      "=================================================================================\n",
      "                    coef    std err          z      P>|z|      [0.025      0.975]\n",
      "---------------------------------------------------------------------------------\n",
      "Intercept         8.1231     16.745      0.485      0.628     -24.696      40.942\n",
      "race[T.Other]    -0.2254      0.140     -1.613      0.107      -0.499       0.049\n",
      "race[T.White]     0.0607      0.112      0.544      0.587      -0.158       0.280\n",
      "sex[T.Male]       0.2298      0.072      3.191      0.001       0.089       0.371\n",
      "age               0.0064      0.002      3.102      0.002       0.002       0.010\n",
      "educ              0.1294      0.011     11.538      0.000       0.107       0.151\n",
      "pid              -0.2622      0.020    -13.379      0.000      -0.301      -0.224\n",
      "relactiv         -0.2668      0.014    -19.424      0.000      -0.294      -0.240\n",
      "year             -0.0031      0.008     -0.375      0.708      -0.019       0.013\n",
      "=================================================================================\n"
     ]
    }
   ],
   "source": [
    "formula = 'abortion ~ ' + ' + '.join(df.columns.difference(['abortion']))\n",
    "print(formula)\n",
    "model1 = smf.logit(formula, data=df).fit()\n",
    "print(model1.summary())"
   ]
  },
  {
   "cell_type": "markdown",
   "metadata": {},
   "source": [
    "> d. Identify the covariates which are statistically significant at a 15% significance level."
   ]
  },
  {
   "cell_type": "code",
   "execution_count": 58,
   "metadata": {},
   "outputs": [
    {
     "data": {
      "text/plain": [
       "['race[T.Other]', 'sex[T.Male]', 'age', 'educ', 'pid', 'relactiv']"
      ]
     },
     "execution_count": 58,
     "metadata": {},
     "output_type": "execute_result"
    }
   ],
   "source": [
    "significant = model1.pvalues[model1.pvalues < 0.15].index.to_list()\n",
    "significant"
   ]
  },
  {
   "cell_type": "markdown",
   "metadata": {},
   "source": [
    "> e. Based on the variables you identified in part d, fit a new logistic regression model only including those covariates."
   ]
  },
  {
   "cell_type": "code",
   "execution_count": 59,
   "metadata": {},
   "outputs": [],
   "source": [
    "significant = ['race', 'sex'] + significant[2:]\n",
    "\n",
    "df2e = df.drop(columns=[feat \\\n",
    "    for feat in df.columns \n",
    "    if feat not in significant+['abortion']\n",
    "])"
   ]
  },
  {
   "cell_type": "code",
   "execution_count": 60,
   "metadata": {},
   "outputs": [
    {
     "data": {
      "text/html": [
       "<div>\n",
       "<style scoped>\n",
       "    .dataframe tbody tr th:only-of-type {\n",
       "        vertical-align: middle;\n",
       "    }\n",
       "\n",
       "    .dataframe tbody tr th {\n",
       "        vertical-align: top;\n",
       "    }\n",
       "\n",
       "    .dataframe thead th {\n",
       "        text-align: right;\n",
       "    }\n",
       "</style>\n",
       "<table border=\"1\" class=\"dataframe\">\n",
       "  <thead>\n",
       "    <tr style=\"text-align: right;\">\n",
       "      <th></th>\n",
       "      <th>age</th>\n",
       "      <th>race</th>\n",
       "      <th>sex</th>\n",
       "      <th>educ</th>\n",
       "      <th>relactiv</th>\n",
       "      <th>pid</th>\n",
       "      <th>abortion</th>\n",
       "    </tr>\n",
       "  </thead>\n",
       "  <tbody>\n",
       "    <tr>\n",
       "      <th>0</th>\n",
       "      <td>50.0</td>\n",
       "      <td>Black</td>\n",
       "      <td>Female</td>\n",
       "      <td>13.0</td>\n",
       "      <td>4.0</td>\n",
       "      <td>0.0</td>\n",
       "      <td>1.0</td>\n",
       "    </tr>\n",
       "    <tr>\n",
       "      <th>1</th>\n",
       "      <td>50.0</td>\n",
       "      <td>Black</td>\n",
       "      <td>Female</td>\n",
       "      <td>12.0</td>\n",
       "      <td>1.0</td>\n",
       "      <td>0.0</td>\n",
       "      <td>1.0</td>\n",
       "    </tr>\n",
       "  </tbody>\n",
       "</table>\n",
       "</div>"
      ],
      "text/plain": [
       "    age   race     sex  educ  relactiv  pid  abortion\n",
       "0  50.0  Black  Female  13.0       4.0  0.0       1.0\n",
       "1  50.0  Black  Female  12.0       1.0  0.0       1.0"
      ]
     },
     "execution_count": 60,
     "metadata": {},
     "output_type": "execute_result"
    }
   ],
   "source": [
    "df2e.head(2)"
   ]
  },
  {
   "cell_type": "code",
   "execution_count": 61,
   "metadata": {},
   "outputs": [
    {
     "name": "stdout",
     "output_type": "stream",
     "text": [
      "abortion ~ age + educ + pid + race + relactiv + sex\n",
      "Optimization terminated successfully.\n",
      "         Current function value: 0.285877\n",
      "         Iterations 7\n",
      "                           Logit Regression Results                           \n",
      "==============================================================================\n",
      "Dep. Variable:               abortion   No. Observations:                10133\n",
      "Model:                          Logit   Df Residuals:                    10125\n",
      "Method:                           MLE   Df Model:                            7\n",
      "Date:                Fri, 15 Mar 2024   Pseudo R-squ.:                  0.1187\n",
      "Time:                        20:22:47   Log-Likelihood:                -2896.8\n",
      "converged:                       True   LL-Null:                       -3286.8\n",
      "Covariance Type:            nonrobust   LLR p-value:                3.762e-164\n",
      "=================================================================================\n",
      "                    coef    std err          z      P>|z|      [0.025      0.975]\n",
      "---------------------------------------------------------------------------------\n",
      "Intercept         1.8498      0.201      9.200      0.000       1.456       2.244\n",
      "race[T.Other]    -0.2252      0.140     -1.612      0.107      -0.499       0.049\n",
      "race[T.White]     0.0615      0.112      0.550      0.582      -0.158       0.281\n",
      "sex[T.Male]       0.2295      0.072      3.186      0.001       0.088       0.371\n",
      "age               0.0063      0.002      3.085      0.002       0.002       0.010\n",
      "educ              0.1291      0.011     11.539      0.000       0.107       0.151\n",
      "pid              -0.2621      0.020    -13.375      0.000      -0.300      -0.224\n",
      "relactiv         -0.2666      0.014    -19.424      0.000      -0.294      -0.240\n",
      "=================================================================================\n"
     ]
    }
   ],
   "source": [
    "formula = 'abortion ~ ' + ' + '.join(df2e.columns.difference(['abortion']))\n",
    "print(formula)\n",
    "model2 = smf.logit(formula, data=df2e).fit()\n",
    "print(model2.summary())"
   ]
  },
  {
   "cell_type": "markdown",
   "metadata": {},
   "source": [
    "> f. Include an interaction term between `sex` and `pid` in your logistic regression model."
   ]
  },
  {
   "cell_type": "code",
   "execution_count": 62,
   "metadata": {},
   "outputs": [
    {
     "name": "stdout",
     "output_type": "stream",
     "text": [
      "abortion ~ race + age + educ + pid + relactiv + sex + sex:pid\n",
      "Optimization terminated successfully.\n",
      "         Current function value: 0.285772\n",
      "         Iterations 7\n",
      "                           Logit Regression Results                           \n",
      "==============================================================================\n",
      "Dep. Variable:               abortion   No. Observations:                10133\n",
      "Model:                          Logit   Df Residuals:                    10124\n",
      "Method:                           MLE   Df Model:                            8\n",
      "Date:                Fri, 15 Mar 2024   Pseudo R-squ.:                  0.1190\n",
      "Time:                        20:22:50   Log-Likelihood:                -2895.7\n",
      "converged:                       True   LL-Null:                       -3286.8\n",
      "Covariance Type:            nonrobust   LLR p-value:                1.432e-163\n",
      "===================================================================================\n",
      "                      coef    std err          z      P>|z|      [0.025      0.975]\n",
      "-----------------------------------------------------------------------------------\n",
      "Intercept           1.9227      0.208      9.264      0.000       1.516       2.329\n",
      "race[T.Other]      -0.2195      0.140     -1.571      0.116      -0.493       0.054\n",
      "race[T.White]       0.0676      0.112      0.605      0.545      -0.151       0.287\n",
      "sex[T.Male]         0.0409      0.147      0.279      0.781      -0.247       0.329\n",
      "age                 0.0063      0.002      3.061      0.002       0.002       0.010\n",
      "educ                0.1285      0.011     11.476      0.000       0.107       0.150\n",
      "pid                -0.2825      0.024    -11.680      0.000      -0.330      -0.235\n",
      "sex[T.Male]:pid     0.0538      0.037      1.462      0.144      -0.018       0.126\n",
      "relactiv           -0.2662      0.014    -19.391      0.000      -0.293      -0.239\n",
      "===================================================================================\n"
     ]
    }
   ],
   "source": [
    "formula = 'abortion ~ ' + 'race + age + educ + pid + relactiv + sex + sex:pid'\n",
    "print(formula)\n",
    "model3 = smf.logit(formula, data=df2e).fit()\n",
    "print(model3.summary())"
   ]
  },
  {
   "cell_type": "markdown",
   "metadata": {},
   "source": [
    "> g. Is there sufficient evidence to conclude that the `sex` moderates the effect of `pid` on abortion opinion? Explain your answer."
   ]
  },
  {
   "cell_type": "markdown",
   "metadata": {},
   "source": [
    "**Answer**: Although it appears that the effect of \"pid\" on abortion opinion changes, even reverses (opposite sign interaction coefficient), when interacting with \"sex\", the p-value associated with the interaction term is 0.144, which is not statistically significant regardless of any threshold we choose. Therefore, we do not have sufficient evidence to conclude that \"sex\" moderates the effect of \"pid\" on abortion opinion."
   ]
  },
  {
   "cell_type": "markdown",
   "metadata": {},
   "source": [
    "> h. Interpret each coefficient associated with the covariates in the new logistic regression model, `model3`."
   ]
  },
  {
   "cell_type": "markdown",
   "metadata": {},
   "source": [
    "**Answer**: \n",
    "\n",
    "The \"hold all other variables constant\" assumption applies for all interpretations below.\n",
    "\n",
    "- **Intercept (1.9227)**: When all other features are zero, the odds of an individual to think abortion should be legal is exp(1.9227), or 6.84, times higher than the odds of that individual to think abortion should be illegal.\n",
    "\n",
    "- **Race - other (-0.2195)**: The log oods of an individual to think abortion should be legal decreases by 0.2195 if the individual is in the \"other\" race category.\n",
    "\n",
    "- **Race - white (0.0676)**: The log oods of an individual to think abortion should be legal increases by 0.0676 if the individual is in the \"white\" race category.\n",
    "\n",
    "- **age (0.0063)**: The log odds of an individual to think abortion should be legal increases by 0.0063 for every additional year of age.\n",
    "\n",
    "- **educ (0.1285)**: The log odds of an invididual to think abortion should be legal increases by 0.1285 for every additional year in education completed.\n",
    "\n",
    "- **pid (-0.2825)**: The log odds of an individual to think abortion should be legal decreases by 0.2825 for every additional increase of \"1\" on the party alignment scale, the scale being discrete from 0 to 6, where an increase means stronger alignment with the republican party.\n",
    "\n",
    "- **relactiv (-0.2662)**: The log odds of an individual to think abortion should be legal decreases by 0.2662 for every additional one-unit increase in the self-reported religiosity metric, the metric being discrete from 1 to 10.\n",
    "\n",
    "- **sex - male (0.0409)**: The individual is exp(0.0409), or 1.04, times more likely to think abortion should be legal when the individual is male.\n",
    "\n",
    "- **sex:pid (0.0538)**: If the individual is male, the odds of that individual to think abortion should be legal increases by 0.0538 for every additional increase of \"1\" on the party alignment scale, the scale being discrete from 0 to 6, where an increase means stronger alignment with the republican party."
   ]
  },
  {
   "cell_type": "markdown",
   "metadata": {},
   "source": [
    "> i. Print the confusion matrix and report the classification accuracy of `model3`."
   ]
  },
  {
   "cell_type": "code",
   "execution_count": 63,
   "metadata": {},
   "outputs": [
    {
     "name": "stdout",
     "output_type": "stream",
     "text": [
      "confusion matrix:\n",
      "[[  22  988]\n",
      " [  29 9094]]\n",
      "\n",
      "classification accuracy:\n",
      "0.8996348564097503\n"
     ]
    }
   ],
   "source": [
    "pred = model3.predict(df2e)\n",
    "pred = (pred > 0.5).astype(int)\n",
    "\n",
    "print(\"confusion matrix:\")\n",
    "print(confusion_matrix(df2e['abortion'], pred))\n",
    "\n",
    "print()\n",
    "\n",
    "print(\"classification accuracy:\")\n",
    "print(accuracy_score(df2e['abortion'], pred))"
   ]
  },
  {
   "cell_type": "markdown",
   "metadata": {},
   "source": [
    "> j. Plot the ROC curve and compute the AUC of `model3`."
   ]
  },
  {
   "cell_type": "code",
   "execution_count": 64,
   "metadata": {},
   "outputs": [
    {
     "data": {
      "image/png": "[encoded data removed]",
      "text/plain": [
       "<Figure size 432x288 with 1 Axes>"
      ]
     },
     "metadata": {
      "needs_background": "light"
     },
     "output_type": "display_data"
    }
   ],
   "source": [
    "fpr, tpr, thresholds = roc_curve(df2e['abortion'], model3.predict(df2e))\n",
    "plt.plot(fpr, tpr)\n",
    "plt.xlabel('False Positive Rate')\n",
    "plt.ylabel('True Positive Rate')\n",
    "plt.title('ROC Curve')\n",
    "plt.show()"
   ]
  },
  {
   "cell_type": "code",
   "execution_count": 65,
   "metadata": {},
   "outputs": [
    {
     "name": "stdout",
     "output_type": "stream",
     "text": [
      "roc auc score:\n",
      "0.7537562010064867\n"
     ]
    }
   ],
   "source": [
    "print(\"roc auc score:\")\n",
    "print(roc_auc_score(df2e['abortion'], model3.predict(df2e)))"
   ]
  },
  {
   "cell_type": "code",
   "execution_count": null,
   "metadata": {},
   "outputs": [],
   "source": []
  }
 ],
 "metadata": {
  "kernelspec": {
   "display_name": "Python 3 (ipykernel)",
   "language": "python",
   "name": "python3"
  },
  "language_info": {
   "codemirror_mode": {
    "name": "ipython",
    "version": 3
   },
   "file_extension": ".py",
   "mimetype": "text/x-python",
   "name": "python",
   "nbconvert_exporter": "python",
   "pygments_lexer": "ipython3",
   "version": "3.9.2"
  }
 },
 "nbformat": 4,
 "nbformat_minor": 2
}
