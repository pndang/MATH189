{
 "cells": [
  {
   "cell_type": "markdown",
   "metadata": {},
   "source": [
    "## HW-1 • Math 189 • Wi 2024\n",
    "### Due Date: Wed, Jan 24\n",
    "\n",
    "> NAME: $\\color{red}{\\text{    Phu Dang     }}$\n",
    "> \n",
    "> PID: $\\color{red}{\\text{    A16913100     }}$\n",
    ">\n",
    "> "
   ]
  },
  {
   "cell_type": "markdown",
   "metadata": {},
   "source": [
    "---\n",
    "\n",
    "## Instructions\n",
    "* Submit your solutions online on Gradescope\n",
    "* Look at the detailed instructions [here](https://ucsd-math189-wi24.github.io/syllabus.html#assignments)\n",
    "\n",
    "\n",
    "I certify that the following write-up is my own work, and have abided by the UCSD Academic Integrity Guidelines.\n",
    "\n",
    "- [x] Yes\n",
    "- [ ] No\n",
    "\n",
    "---"
   ]
  },
  {
   "cell_type": "markdown",
   "metadata": {},
   "source": [
    "# Question 1"
   ]
  },
  {
   "cell_type": "markdown",
   "metadata": {},
   "source": [
    "For this question you will use the class data from HW-0 to generate insights with the help of `pandas`\n",
    "\n",
    "The dataset `student_data_189.csv` is available on Github [here](https://github.com/ucsd-math189-wi24/materials) or on Canvas in the Files tab. \n",
    "\n",
    "<br></br>"
   ]
  },
  {
   "cell_type": "code",
   "execution_count": 24,
   "metadata": {},
   "outputs": [],
   "source": [
    "import numpy as np\n",
    "import pandas as pd\n",
    "import matplotlib.pyplot as plt\n",
    "import seaborn as sns\n",
    "\n",
    "import warnings\n",
    "warnings.filterwarnings(\"ignore\")"
   ]
  },
  {
   "cell_type": "markdown",
   "metadata": {},
   "source": [
    "\n",
    "a. Read the dataset as a pandas dataframe and print the first 5 rows of the dataframe."
   ]
  },
  {
   "cell_type": "code",
   "execution_count": 25,
   "metadata": {},
   "outputs": [
    {
     "data": {
      "text/html": [
       "<div>\n",
       "<style scoped>\n",
       "    .dataframe tbody tr th:only-of-type {\n",
       "        vertical-align: middle;\n",
       "    }\n",
       "\n",
       "    .dataframe tbody tr th {\n",
       "        vertical-align: top;\n",
       "    }\n",
       "\n",
       "    .dataframe thead th {\n",
       "        text-align: right;\n",
       "    }\n",
       "</style>\n",
       "<table border=\"1\" class=\"dataframe\">\n",
       "  <thead>\n",
       "    <tr style=\"text-align: right;\">\n",
       "      <th></th>\n",
       "      <th>name</th>\n",
       "      <th>fav_color</th>\n",
       "      <th>math183_excited</th>\n",
       "      <th>seat_comfort</th>\n",
       "      <th>year</th>\n",
       "      <th>major</th>\n",
       "      <th>wi24_credits</th>\n",
       "      <th>time_reading</th>\n",
       "      <th>time_physical</th>\n",
       "      <th>time_online</th>\n",
       "      <th>sex</th>\n",
       "    </tr>\n",
       "  </thead>\n",
       "  <tbody>\n",
       "    <tr>\n",
       "      <th>0</th>\n",
       "      <td>student 1</td>\n",
       "      <td>Purple</td>\n",
       "      <td>Very excited</td>\n",
       "      <td>Meh</td>\n",
       "      <td>3</td>\n",
       "      <td>Engineering</td>\n",
       "      <td>16</td>\n",
       "      <td>1.0</td>\n",
       "      <td>0.5</td>\n",
       "      <td>8.0</td>\n",
       "      <td>M</td>\n",
       "    </tr>\n",
       "    <tr>\n",
       "      <th>1</th>\n",
       "      <td>student 2</td>\n",
       "      <td>Pink</td>\n",
       "      <td>Very excited</td>\n",
       "      <td>Meh</td>\n",
       "      <td>4</td>\n",
       "      <td>Social Sciences</td>\n",
       "      <td>20</td>\n",
       "      <td>0.5</td>\n",
       "      <td>1.0</td>\n",
       "      <td>1.5</td>\n",
       "      <td>F</td>\n",
       "    </tr>\n",
       "    <tr>\n",
       "      <th>2</th>\n",
       "      <td>student 3</td>\n",
       "      <td>black</td>\n",
       "      <td>Super stoked</td>\n",
       "      <td>Meh</td>\n",
       "      <td>3</td>\n",
       "      <td>Data Science</td>\n",
       "      <td>16</td>\n",
       "      <td>0.0</td>\n",
       "      <td>2.0</td>\n",
       "      <td>2.0</td>\n",
       "      <td>M</td>\n",
       "    </tr>\n",
       "    <tr>\n",
       "      <th>3</th>\n",
       "      <td>student 4</td>\n",
       "      <td>NaN</td>\n",
       "      <td>Slightly excited</td>\n",
       "      <td>Meh</td>\n",
       "      <td>3</td>\n",
       "      <td>Data Science</td>\n",
       "      <td>12</td>\n",
       "      <td>0.1</td>\n",
       "      <td>1.0</td>\n",
       "      <td>2.0</td>\n",
       "      <td>M</td>\n",
       "    </tr>\n",
       "    <tr>\n",
       "      <th>4</th>\n",
       "      <td>student 5</td>\n",
       "      <td>red</td>\n",
       "      <td>Slightly excited</td>\n",
       "      <td>Meh</td>\n",
       "      <td>4</td>\n",
       "      <td>Engineering</td>\n",
       "      <td>16</td>\n",
       "      <td>0.0</td>\n",
       "      <td>2.0</td>\n",
       "      <td>3.0</td>\n",
       "      <td>M</td>\n",
       "    </tr>\n",
       "  </tbody>\n",
       "</table>\n",
       "</div>"
      ],
      "text/plain": [
       "        name fav_color   math183_excited seat_comfort year            major  \\\n",
       "0  student 1    Purple      Very excited          Meh    3      Engineering   \n",
       "1  student 2      Pink      Very excited          Meh    4  Social Sciences   \n",
       "2  student 3     black      Super stoked          Meh    3     Data Science   \n",
       "3  student 4       NaN  Slightly excited          Meh    3     Data Science   \n",
       "4  student 5       red  Slightly excited          Meh    4      Engineering   \n",
       "\n",
       "   wi24_credits  time_reading  time_physical  time_online sex  \n",
       "0            16           1.0            0.5          8.0   M  \n",
       "1            20           0.5            1.0          1.5   F  \n",
       "2            16           0.0            2.0          2.0   M  \n",
       "3            12           0.1            1.0          2.0   M  \n",
       "4            16           0.0            2.0          3.0   M  "
      ]
     },
     "execution_count": 25,
     "metadata": {},
     "output_type": "execute_result"
    }
   ],
   "source": [
    "df = pd.read_csv(\"data/student_data_189.csv\")\n",
    "df.head()"
   ]
  },
  {
   "cell_type": "markdown",
   "metadata": {},
   "source": [
    "b. Print the number of variables and the number of observations in the dataset."
   ]
  },
  {
   "cell_type": "code",
   "execution_count": 26,
   "metadata": {},
   "outputs": [
    {
     "name": "stdout",
     "output_type": "stream",
     "text": [
      "Number of Variables: 11\n",
      "Number of Observations: 275\n"
     ]
    }
   ],
   "source": [
    "print(f\"Number of Variables: {df.shape[1]}\\nNumber of Observations: {df.shape[0]}\")"
   ]
  },
  {
   "cell_type": "markdown",
   "metadata": {},
   "source": [
    "c. Describe the type for each variable you answered in your survey. "
   ]
  },
  {
   "cell_type": "code",
   "execution_count": 27,
   "metadata": {},
   "outputs": [],
   "source": [
    "# use df.columns to get the column names\n",
    "possible_types = ['categorical', 'ordinal', 'discrete quantitative', 'continuous quantitative']"
   ]
  },
  {
   "cell_type": "code",
   "execution_count": 28,
   "metadata": {},
   "outputs": [
    {
     "data": {
      "text/plain": [
       "Index(['name', 'fav_color', 'math183_excited', 'seat_comfort', 'year', 'major',\n",
       "       'wi24_credits', 'time_reading', 'time_physical', 'time_online', 'sex'],\n",
       "      dtype='object')"
      ]
     },
     "execution_count": 28,
     "metadata": {},
     "output_type": "execute_result"
    }
   ],
   "source": [
    "df.columns"
   ]
  },
  {
   "cell_type": "code",
   "execution_count": 29,
   "metadata": {},
   "outputs": [
    {
     "data": {
      "text/plain": [
       "array(['Meh', 'Awful', 'Bad', 'Pretty good', 'Super comfy', nan],\n",
       "      dtype=object)"
      ]
     },
     "execution_count": 29,
     "metadata": {},
     "output_type": "execute_result"
    }
   ],
   "source": [
    "df['seat_comfort'].unique()"
   ]
  },
  {
   "cell_type": "markdown",
   "metadata": {},
   "source": [
    "**Answer**:\n",
    "\n",
    "name: categorical \\\n",
    "fav_color: categorical \\\n",
    "math183_excited: ordinal \\\n",
    "seat_comfort: ordinal \\\n",
    "year: ordinal \\\n",
    "major: categorical \\\n",
    "wi24_credits: discrete quantitative \\\n",
    "time_reading: continuous quantitative \\\n",
    "time_physical: continuous quantitative \\\n",
    "time_online: continuous quantitative \\\n",
    "sex: categorical"
   ]
  },
  {
   "cell_type": "markdown",
   "metadata": {},
   "source": [
    "d. create a boxplot of the number of hours of physical activity by sex. Do you see any differences?"
   ]
  },
  {
   "cell_type": "code",
   "execution_count": 35,
   "metadata": {},
   "outputs": [
    {
     "data": {
      "text/plain": [
       "Text(0.5, 1.0, 'Dist of MATH 189 students hours of phys. activity by gender')"
      ]
     },
     "execution_count": 35,
     "metadata": {},
     "output_type": "execute_result"
    },
    {
     "data": {
      "image/png": "[encoded data removed]",
      "text/plain": [
       "<Figure size 432x288 with 1 Axes>"
      ]
     },
     "metadata": {
      "needs_background": "light"
     },
     "output_type": "display_data"
    }
   ],
   "source": [
    "sns.boxplot(data=df, y='time_physical', x='sex');\n",
    "plt.title(\"Dist of MATH 189 students hours of phys. activity by gender\")"
   ]
  },
  {
   "cell_type": "markdown",
   "metadata": {},
   "source": [
    "**Comment**: The two boxplots are similar with male showing slightly higher median hours of physical activity, as well as higher lower quartile and upper quartile. The interquartile ranges are similar across two sexes, as well as the range (excluding outliers). Both boxplots have outliers with the female distribution possessing a significantly high outlier at 40 hours."
   ]
  },
  {
   "cell_type": "markdown",
   "metadata": {},
   "source": [
    "e. create a boxplot of the number of credits taken by sex. Do you see any differences?"
   ]
  },
  {
   "cell_type": "code",
   "execution_count": 36,
   "metadata": {},
   "outputs": [
    {
     "data": {
      "text/plain": [
       "Text(0.5, 1.0, 'Dist of MATH 189 students wi24 credits by gender')"
      ]
     },
     "execution_count": 36,
     "metadata": {},
     "output_type": "execute_result"
    },
    {
     "data": {
      "image/png": "[encoded data removed]",
      "text/plain": [
       "<Figure size 432x288 with 1 Axes>"
      ]
     },
     "metadata": {
      "needs_background": "light"
     },
     "output_type": "display_data"
    }
   ],
   "source": [
    "sns.boxplot(data=df, y='wi24_credits', x='sex');\n",
    "plt.title(\"Dist of MATH 189 students wi24 credits by gender\")"
   ]
  },
  {
   "cell_type": "code",
   "execution_count": 37,
   "metadata": {},
   "outputs": [
    {
     "data": {
      "text/plain": [
       "True"
      ]
     },
     "execution_count": 37,
     "metadata": {},
     "output_type": "execute_result"
    }
   ],
   "source": [
    "df[(df['sex']=='F')]['wi24_credits'].median() == df[(df['sex']=='M')]['wi24_credits'].median()"
   ]
  },
  {
   "cell_type": "markdown",
   "metadata": {},
   "source": [
    "**Comment**: The two boxplots have the same median at 16 credits, including similar interquartile ranges. Notably, the female distribution lies at higher credit counts as indicated by (outliers excluded) higher min, max, lower quartile, and upper quartile."
   ]
  },
  {
   "cell_type": "markdown",
   "metadata": {},
   "source": [
    "e. create a scatterplot of the number of hours of physical activity vs. the number of hours online. Do you see any patterns?"
   ]
  },
  {
   "cell_type": "code",
   "execution_count": 84,
   "metadata": {},
   "outputs": [
    {
     "data": {
      "image/png": "[encoded data removed]",
      "text/plain": [
       "<Figure size 432x288 with 1 Axes>"
      ]
     },
     "metadata": {
      "needs_background": "light"
     },
     "output_type": "display_data"
    }
   ],
   "source": [
    "sns.scatterplot(data=df, x='time_physical', y='time_online', color='teal')\n",
    "plt.title(\"Hours of phys. activity and hours online\");"
   ]
  },
  {
   "cell_type": "markdown",
   "metadata": {},
   "source": [
    "**Comment**: The data points cluster at the region below 5 hours of physical activity and below 10 hours online. Excluding outliers, the data possesses a positive association; however, the cluster undermines this observation as the majority of points lie in the cluster. Extreme outliers represent the two extreme cases where a student either spent lots of time with physical activity and little time online, or lots of time online with little time of physical activity."
   ]
  },
  {
   "cell_type": "markdown",
   "metadata": {},
   "source": [
    "f. create a bar chart for the overall comfort in the classroom's seating"
   ]
  },
  {
   "cell_type": "code",
   "execution_count": 42,
   "metadata": {},
   "outputs": [
    {
     "data": {
      "image/png": "[encoded data removed]",
      "text/plain": [
       "<Figure size 432x288 with 1 Axes>"
      ]
     },
     "metadata": {
      "needs_background": "light"
     },
     "output_type": "display_data"
    }
   ],
   "source": [
    "seatComfortCounts = df['seat_comfort'].value_counts()\n",
    "plt.bar(seatComfortCounts.keys().tolist(), seatComfortCounts.tolist(), color=\"teal\")\n",
    "plt.xlabel(\"seating quality\")\n",
    "plt.ylabel(\"count\")\n",
    "plt.title(\"Distribution of MATH 189 seating comfort\");"
   ]
  },
  {
   "cell_type": "markdown",
   "metadata": {},
   "source": [
    "g. create another column called `fav_color_simplified` which keeps the five most popular `fav_colors` as is, but changes every other color to `other`. Create a bar chart of the new column `color`."
   ]
  },
  {
   "cell_type": "code",
   "execution_count": 43,
   "metadata": {},
   "outputs": [
    {
     "data": {
      "text/plain": [
       "['blue', 'green', 'black', 'purple', 'red']"
      ]
     },
     "execution_count": 43,
     "metadata": {},
     "output_type": "execute_result"
    }
   ],
   "source": [
    "# determine the three most popular colors here\n",
    "# Hint: you can use the .value_counts() for this\n",
    "df['fav_color'] = df['fav_color'].str.lower() \n",
    "popular_colors = df['fav_color'].value_counts()[:5].keys().tolist()\n",
    "popular_colors"
   ]
  },
  {
   "cell_type": "code",
   "execution_count": 44,
   "metadata": {},
   "outputs": [
    {
     "data": {
      "text/plain": [
       "array(['purple', 'pink', 'black', nan, 'red', 'white', 'skyblue', 'blue',\n",
       "       'green', 'grey', 'yellow', 'ocean blue', 'lavender', 'aquamarine',\n",
       "       'purple/lavender', 'blue.', 'beige', 'forest green', 'turquoise',\n",
       "       'blazck', 'blue !', 'sky blue', 'pastel blue', 'orange', 'gold',\n",
       "       'dark blue/purple', 'lavendar', 'brown', 'silver', 'rice white',\n",
       "       'aria', 'blue/red', 'sapphire', 'magenta', 'light green',\n",
       "       'cornflower blue', \"i don't know\", 'baby blue', 'cornsilk',\n",
       "       \"blue but i'm a fan of teal\", '1', 'coral', 'clear'], dtype=object)"
      ]
     },
     "execution_count": 44,
     "metadata": {},
     "output_type": "execute_result"
    }
   ],
   "source": [
    "df['fav_color'].unique()"
   ]
  },
  {
   "cell_type": "code",
   "execution_count": 45,
   "metadata": {},
   "outputs": [],
   "source": [
    "df['fav_color_simplified'] = df['fav_color'].apply(lambda x: \"other\" if x not in popular_colors else x)"
   ]
  },
  {
   "cell_type": "code",
   "execution_count": 46,
   "metadata": {},
   "outputs": [
    {
     "data": {
      "text/plain": [
       "other     99\n",
       "blue      70\n",
       "green     31\n",
       "black     29\n",
       "purple    23\n",
       "red       23\n",
       "Name: fav_color_simplified, dtype: int64"
      ]
     },
     "execution_count": 46,
     "metadata": {},
     "output_type": "execute_result"
    }
   ],
   "source": [
    "df['fav_color_simplified'].value_counts()"
   ]
  },
  {
   "cell_type": "code",
   "execution_count": 83,
   "metadata": {},
   "outputs": [
    {
     "data": {
      "image/png": "[encoded data removed]",
      "text/plain": [
       "<Figure size 432x288 with 1 Axes>"
      ]
     },
     "metadata": {
      "needs_background": "light"
     },
     "output_type": "display_data"
    }
   ],
   "source": [
    "# insert your plot code here\n",
    "favColorCounts = df['fav_color_simplified'].value_counts()\n",
    "plt.bar(favColorCounts.keys().tolist(), favColorCounts.tolist(), color=\"teal\")\n",
    "plt.xlabel(\"fav color\")\n",
    "plt.ylabel(\"count\")\n",
    "plt.title(\"Distribution of MATH 189 students fav color\");"
   ]
  },
  {
   "cell_type": "markdown",
   "metadata": {},
   "source": [
    "---"
   ]
  },
  {
   "cell_type": "markdown",
   "metadata": {},
   "source": [
    "# Question 2"
   ]
  },
  {
   "cell_type": "markdown",
   "metadata": {},
   "source": [
    "Consider the following list:"
   ]
  },
  {
   "cell_type": "code",
   "execution_count": 48,
   "metadata": {},
   "outputs": [],
   "source": [
    "my_list = [\n",
    "    \"+0.07\",\n",
    "    \"-0.07\",\n",
    "    \"+0.25\",\n",
    "    \"-0.84\",\n",
    "    \"+0.32\",\n",
    "    \"-0.24\",\n",
    "    \"-0.97\",\n",
    "    \"-0.36\",\n",
    "    \"+1.76\",\n",
    "    \"-0.36\"\n",
    "]"
   ]
  },
  {
   "cell_type": "markdown",
   "metadata": {},
   "source": [
    "a. What type of data type does the list contain?"
   ]
  },
  {
   "cell_type": "markdown",
   "metadata": {},
   "source": [
    "**Answer**: The list contains values with data type **string** <br>\n",
    "--> <code> type(my_list[0]) </code> = str"
   ]
  },
  {
   "cell_type": "markdown",
   "metadata": {},
   "source": [
    "b. Create two new lists called `my_list_float`, `my_vec_int` and `my_array` which converts `my_list` to Float, Integer and `numpy array` types, respectively, "
   ]
  },
  {
   "cell_type": "code",
   "execution_count": 50,
   "metadata": {},
   "outputs": [],
   "source": [
    "my_list_float = [float(datum) for datum in my_list]\n",
    "my_list_int = [int(np.round(float(datum))) for datum in my_list]\n",
    "my_array = np.array([float(datum) for datum in my_list])"
   ]
  },
  {
   "cell_type": "code",
   "execution_count": 54,
   "metadata": {},
   "outputs": [
    {
     "name": "stdout",
     "output_type": "stream",
     "text": [
      "<class 'float'>\n"
     ]
    },
    {
     "data": {
      "text/plain": [
       "([0.07, -0.07, 0.25, -0.84, 0.32, -0.24, -0.97, -0.36, 1.76, -0.36], None)"
      ]
     },
     "execution_count": 54,
     "metadata": {},
     "output_type": "execute_result"
    }
   ],
   "source": [
    "my_list_float, print(type(my_list_float[0]))"
   ]
  },
  {
   "cell_type": "code",
   "execution_count": 55,
   "metadata": {},
   "outputs": [
    {
     "name": "stdout",
     "output_type": "stream",
     "text": [
      "<class 'int'>\n"
     ]
    },
    {
     "data": {
      "text/plain": [
       "([0, 0, 0, -1, 0, 0, -1, 0, 2, 0], None)"
      ]
     },
     "execution_count": 55,
     "metadata": {},
     "output_type": "execute_result"
    }
   ],
   "source": [
    "my_list_int, print(type(my_list_int[0]))"
   ]
  },
  {
   "cell_type": "code",
   "execution_count": 57,
   "metadata": {},
   "outputs": [
    {
     "name": "stdout",
     "output_type": "stream",
     "text": [
      "<class 'numpy.float64'>\n"
     ]
    },
    {
     "data": {
      "text/plain": [
       "array([ 0.07, -0.07,  0.25, -0.84,  0.32, -0.24, -0.97, -0.36,  1.76,\n",
       "       -0.36])"
      ]
     },
     "execution_count": 57,
     "metadata": {},
     "output_type": "execute_result"
    }
   ],
   "source": [
    "print(type(my_array[0]))\n",
    "my_array"
   ]
  },
  {
   "cell_type": "markdown",
   "metadata": {},
   "source": [
    "c. what is the difference between `my_list_float` and `my_array`? e.g., what happens when you multiply them by 2?"
   ]
  },
  {
   "cell_type": "code",
   "execution_count": 58,
   "metadata": {},
   "outputs": [
    {
     "data": {
      "text/plain": [
       "[0.07,\n",
       " -0.07,\n",
       " 0.25,\n",
       " -0.84,\n",
       " 0.32,\n",
       " -0.24,\n",
       " -0.97,\n",
       " -0.36,\n",
       " 1.76,\n",
       " -0.36,\n",
       " 0.07,\n",
       " -0.07,\n",
       " 0.25,\n",
       " -0.84,\n",
       " 0.32,\n",
       " -0.24,\n",
       " -0.97,\n",
       " -0.36,\n",
       " 1.76,\n",
       " -0.36]"
      ]
     },
     "execution_count": 58,
     "metadata": {},
     "output_type": "execute_result"
    }
   ],
   "source": [
    "my_list_float * 2"
   ]
  },
  {
   "cell_type": "code",
   "execution_count": 59,
   "metadata": {},
   "outputs": [
    {
     "data": {
      "text/plain": [
       "array([ 0.14, -0.14,  0.5 , -1.68,  0.64, -0.48, -1.94, -0.72,  3.52,\n",
       "       -0.72])"
      ]
     },
     "execution_count": 59,
     "metadata": {},
     "output_type": "execute_result"
    }
   ],
   "source": [
    "my_array * 2"
   ]
  },
  {
   "cell_type": "markdown",
   "metadata": {},
   "source": [
    "**Answer**: When multiplying <code>my_list_float</code> by 2, the result is another copy of <code>my_list_float</code> appended to the end of the list, resulting in a list twice the original length of <code>my_list_float</code>. Whereas when multiplying <code>my_array</code> by 2, the result is an array with the same dimension as original with each value doubled through element-wise multiplication by 2."
   ]
  },
  {
   "cell_type": "markdown",
   "metadata": {},
   "source": [
    "d.  Let's call `my_array` as `x`. Compute the $\\ell_2$ and $\\ell_1$ norm of `x`, and compute the dot product of `x` with itself."
   ]
  },
  {
   "cell_type": "code",
   "execution_count": 61,
   "metadata": {},
   "outputs": [],
   "source": [
    "l2_norm = np.sqrt(sum(my_array**2))\n",
    "l1_norm = sum(abs(my_array))\n",
    "x_dot_x = np.dot(my_array, my_array)"
   ]
  },
  {
   "cell_type": "code",
   "execution_count": 63,
   "metadata": {},
   "outputs": [
    {
     "name": "stdout",
     "output_type": "stream",
     "text": [
      "l2 norm: 2.28814335215257\n",
      "l1 norm: 5.24\n",
      "x dot x: 5.2356\n"
     ]
    }
   ],
   "source": [
    "print(f'l2 norm: {l2_norm}')\n",
    "print(f'l1 norm: {l1_norm}')\n",
    "print(f'x dot x: {x_dot_x}')"
   ]
  },
  {
   "cell_type": "markdown",
   "metadata": {},
   "source": [
    "e. Let $A$ be the following matrix:"
   ]
  },
  {
   "cell_type": "code",
   "execution_count": 65,
   "metadata": {},
   "outputs": [],
   "source": [
    "np.random.seed(42)\n",
    "A = np.random.randn(1000, 10)"
   ]
  },
  {
   "cell_type": "code",
   "execution_count": 66,
   "metadata": {},
   "outputs": [
    {
     "data": {
      "text/plain": [
       "(1000, 10)"
      ]
     },
     "execution_count": 66,
     "metadata": {},
     "output_type": "execute_result"
    }
   ],
   "source": [
    "A.shape"
   ]
  },
  {
   "cell_type": "markdown",
   "metadata": {},
   "source": [
    "Find the row-wise and column-wise mean of $A$."
   ]
  },
  {
   "cell_type": "code",
   "execution_count": 67,
   "metadata": {},
   "outputs": [],
   "source": [
    "row_mean = np.mean(A, axis=1)\n",
    "col_mean = np.mean(A, axis=0)"
   ]
  },
  {
   "cell_type": "code",
   "execution_count": 71,
   "metadata": {},
   "outputs": [
    {
     "name": "stdout",
     "output_type": "stream",
     "text": [
      "[ 0.44806111 -0.79065823 -0.22184356 -0.31010667 -0.25282217  0.19944143\n",
      " -0.01505699 -0.04773612  0.10144743 -0.14919139]\n"
     ]
    },
    {
     "data": {
      "text/plain": [
       "1000"
      ]
     },
     "execution_count": 71,
     "metadata": {},
     "output_type": "execute_result"
    }
   ],
   "source": [
    "print(row_mean[:10])\n",
    "row_mean.size"
   ]
  },
  {
   "cell_type": "code",
   "execution_count": 73,
   "metadata": {},
   "outputs": [
    {
     "name": "stdout",
     "output_type": "stream",
     "text": [
      "[ 0.01078754  0.03129239 -0.02254179 -0.04307534  0.0136216  -0.02925192\n",
      " -0.00268887  0.00549542 -0.0231036   0.03810474]\n"
     ]
    },
    {
     "data": {
      "text/plain": [
       "10"
      ]
     },
     "execution_count": 73,
     "metadata": {},
     "output_type": "execute_result"
    }
   ],
   "source": [
    "print(col_mean)\n",
    "col_mean.size"
   ]
  },
  {
   "cell_type": "markdown",
   "metadata": {},
   "source": [
    "f. Find the top 2 eigenvalues and eigenvectors of $A^{\\top}A$."
   ]
  },
  {
   "cell_type": "code",
   "execution_count": 74,
   "metadata": {},
   "outputs": [],
   "source": [
    "eigenvalues, eigenvectors = np.linalg.eig(np.dot(A.transpose(), A))\n",
    "top2_eigenvalues = np.sort(eigenvalues)[-2:]\n",
    "top2_eigenvectors = eigenvectors[:, np.argsort(eigenvalues)[::-1][:2]]"
   ]
  },
  {
   "cell_type": "code",
   "execution_count": 75,
   "metadata": {},
   "outputs": [
    {
     "data": {
      "text/plain": [
       "array([1114.28615619, 1170.65372153])"
      ]
     },
     "execution_count": 75,
     "metadata": {},
     "output_type": "execute_result"
    }
   ],
   "source": [
    "top2_eigenvalues"
   ]
  },
  {
   "cell_type": "code",
   "execution_count": 76,
   "metadata": {},
   "outputs": [
    {
     "data": {
      "text/plain": [
       "array([[ 0.16316944, -0.00556311],\n",
       "       [-0.01221066,  0.57900671],\n",
       "       [ 0.08944438, -0.14820655],\n",
       "       [-0.18573084,  0.12693205],\n",
       "       [-0.11024969,  0.17805303],\n",
       "       [-0.5055767 , -0.55992381],\n",
       "       [ 0.64029851,  0.06423441],\n",
       "       [-0.439668  ,  0.45026517],\n",
       "       [-0.21951186,  0.27241505],\n",
       "       [-0.10720078,  0.01873678]])"
      ]
     },
     "execution_count": 76,
     "metadata": {},
     "output_type": "execute_result"
    }
   ],
   "source": [
    "top2_eigenvectors"
   ]
  },
  {
   "cell_type": "markdown",
   "metadata": {},
   "source": [
    "g. Let $v$ be the vector obtained by **summing** the squares of the rows of $A$. Plot the histogram of $v$ with the $Y-$axis to show the **_normalized frequency_** of each bin."
   ]
  },
  {
   "cell_type": "code",
   "execution_count": 77,
   "metadata": {},
   "outputs": [
    {
     "data": {
      "image/png": "[encoded data removed]",
      "text/plain": [
       "<Figure size 360x360 with 1 Axes>"
      ]
     },
     "metadata": {
      "needs_background": "light"
     },
     "output_type": "display_data"
    }
   ],
   "source": [
    "v = np.sum(A**2, axis=1)\n",
    "\n",
    "fig, ax = plt.subplots(1, 1, figsize=(5, 5))\n",
    "# plot the histogram here\n",
    "plt.hist(v, density=True, color=\"teal\");"
   ]
  },
  {
   "cell_type": "markdown",
   "metadata": {},
   "source": [
    "h. Using the same `fig, ax` objects from part (g). overlay the probability density function of the $\\chi^2(10)$ distribution—the `chi2` distribution with 10 degrees."
   ]
  },
  {
   "cell_type": "code",
   "execution_count": 78,
   "metadata": {},
   "outputs": [],
   "source": [
    "import scipy.stats as stats"
   ]
  },
  {
   "cell_type": "code",
   "execution_count": 82,
   "metadata": {},
   "outputs": [
    {
     "data": {
      "image/png": "[encoded data removed]",
      "text/plain": [
       "<Figure size 360x360 with 1 Axes>"
      ]
     },
     "execution_count": 82,
     "metadata": {},
     "output_type": "execute_result"
    }
   ],
   "source": [
    "x_range = np.linspace(0, 30, 1000)\n",
    "y = stats.chi2.pdf(x_range, df=10)\n",
    "\n",
    "ax.plot(x_range, y)\n",
    "ax.set_xlabel('Sum of row squares')\n",
    "ax.set_ylabel('Normalized frequency & PDF')\n",
    "ax.set_title('Dist of v and chi2(df=10)')\n",
    "fig"
   ]
  },
  {
   "cell_type": "markdown",
   "metadata": {},
   "source": [
    "i. What do you observe in the previous plot? Why do you think this is the case?"
   ]
  },
  {
   "cell_type": "markdown",
   "metadata": {},
   "source": [
    "**Answer**: The PDF of the $\\chi^2(10)$ distribution follows the density of the distribution of v quite well. This is because the $\\chi^2$ distribution with 10 degrees of freedom is analogous to the distribution of the sum of squares of 10 standard normal random variables, which is how v was generated using A, whose values (10 per instance) are from the standard normal distribution."
   ]
  }
 ],
 "metadata": {
  "kernelspec": {
   "display_name": "Python 3 (ipykernel)",
   "language": "python",
   "name": "python3"
  },
  "language_info": {
   "codemirror_mode": {
    "name": "ipython",
    "version": 3
   },
   "file_extension": ".py",
   "mimetype": "text/x-python",
   "name": "python",
   "nbconvert_exporter": "python",
   "pygments_lexer": "ipython3",
   "version": "3.9.12"
  }
 },
 "nbformat": 4,
 "nbformat_minor": 2
}
