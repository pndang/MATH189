{
 "cells": [
  {
   "cell_type": "markdown",
   "id": "200e3bab",
   "metadata": {
    "editable": true,
    "slideshow": {
     "slide_type": "slide"
    },
    "tags": []
   },
   "source": [
    "# Week 6\n",
    "## MATH 189 • Data Analysis & Inference • Wi 2024\n",
    "### Siddharth Vishwanath"
   ]
  },
  {
   "cell_type": "markdown",
   "id": "8700143e-29e1-4307-9662-02a03e22ef20",
   "metadata": {},
   "source": [
    "% # %load tex-macros\n",
    "<div hidden>\n",
    "\\newcommand{\\require}[1]{}\n",
    "\n",
    "$\\require{begingroup}\\require{newcommand}$\n",
    "$\\long\\def \\forcecommand #1{\\providecommand{#1}{}\\renewcommand{#1}}$\n",
    "$\\forcecommand{\\defeq}{\\stackrel{\\small\\bullet}{=}}$\n",
    "$\\forcecommand{\\ra}{\\rangle}$\n",
    "$\\forcecommand{\\la}{\\langle}$\n",
    "$\\forcecommand{\\pr}{{\\mathbb P}}$\n",
    "$\\forcecommand{\\qr}{{\\mathbb Q}}$\n",
    "$\\forcecommand{\\xv}{{\\boldsymbol{x}}}$\n",
    "$\\forcecommand{\\av}{{\\boldsymbol{a}}}$\n",
    "$\\forcecommand{\\bv}{{\\boldsymbol{b}}}$\n",
    "$\\forcecommand{\\cv}{{\\boldsymbol{c}}}$\n",
    "$\\forcecommand{\\dv}{{\\boldsymbol{d}}}$\n",
    "$\\forcecommand{\\ev}{{\\boldsymbol{e}}}$\n",
    "$\\forcecommand{\\fv}{{\\boldsymbol{f}}}$\n",
    "$\\forcecommand{\\gv}{{\\boldsymbol{g}}}$\n",
    "$\\forcecommand{\\hv}{{\\boldsymbol{h}}}$\n",
    "$\\forcecommand{\\nv}{{\\boldsymbol{n}}}$\n",
    "$\\forcecommand{\\sv}{{\\boldsymbol{s}}}$\n",
    "$\\forcecommand{\\tv}{{\\boldsymbol{t}}}$\n",
    "$\\forcecommand{\\uv}{{\\boldsymbol{u}}}$\n",
    "$\\forcecommand{\\vv}{{\\boldsymbol{v}}}$\n",
    "$\\forcecommand{\\wv}{{\\boldsymbol{w}}}$\n",
    "$\\forcecommand{\\zerov}{{\\mathbf{0}}}$\n",
    "$\\forcecommand{\\onev}{{\\mathbf{0}}}$\n",
    "$\\forcecommand{\\phiv}{{\\boldsymbol{\\phi}}}$\n",
    "$\\forcecommand{\\cc}{{\\check{C}}}$\n",
    "$\\forcecommand{\\xv}{{\\boldsymbol{x}}}$\n",
    "$\\forcecommand{\\Xv}{{\\boldsymbol{X}\\!}}$\n",
    "$\\forcecommand{\\yv}{{\\boldsymbol{y}}}$\n",
    "$\\forcecommand{\\Yv}{{\\boldsymbol{Y}}}$\n",
    "$\\forcecommand{\\zv}{{\\boldsymbol{z}}}$\n",
    "$\\forcecommand{\\Zv}{{\\boldsymbol{Z}}}$\n",
    "$\\forcecommand{\\Iv}{{\\boldsymbol{I}}}$\n",
    "$\\forcecommand{\\Jv}{{\\boldsymbol{J}}}$\n",
    "$\\forcecommand{\\Cv}{{\\boldsymbol{C}}}$\n",
    "$\\forcecommand{\\Ev}{{\\boldsymbol{E}}}$\n",
    "$\\forcecommand{\\Fv}{{\\boldsymbol{F}}}$\n",
    "$\\forcecommand{\\Gv}{{\\boldsymbol{G}}}$\n",
    "$\\forcecommand{\\Hv}{{\\boldsymbol{H}}}$\n",
    "$\\forcecommand{\\alphav}{{\\boldsymbol{\\alpha}}}$\n",
    "$\\forcecommand{\\epsilonv}{{\\boldsymbol{\\epsilon}}}$\n",
    "$\\forcecommand{\\betav}{{\\boldsymbol{\\beta}}}$\n",
    "$\\forcecommand{\\deltav}{{\\boldsymbol{\\delta}}}$\n",
    "$\\forcecommand{\\gammav}{{\\boldsymbol{\\gamma}}}$\n",
    "$\\forcecommand{\\etav}{{\\boldsymbol{\\eta}}}$\n",
    "$\\forcecommand{\\piv}{{\\boldsymbol{\\pi}}}$\n",
    "$\\forcecommand{\\thetav}{{\\boldsymbol{\\theta}}}$\n",
    "$\\forcecommand{\\tauv}{{\\boldsymbol{\\tau}}}$\n",
    "$\\forcecommand{\\muv}{{\\boldsymbol{\\mu}}}$\n",
    "$%$\n",
    "$\\forcecommand{\\sd}{\\text{SD}}$\n",
    "$\\forcecommand{\\se}{\\text{SE}}$\n",
    "$\\forcecommand{\\med}{\\text{median}}$\n",
    "$\\forcecommand{\\median}{\\text{median}}$\n",
    "$%$\n",
    "$\\forcecommand{\\Ber}{{\\text{Ber}}}$\n",
    "$\\forcecommand{\\Bin}{{\\text{Bin}}}$\n",
    "$\\forcecommand{\\Geo}{{\\text{Geo}}}$\n",
    "$\\forcecommand{\\Unif}{{\\text{Unif}}}$\n",
    "$\\forcecommand{\\Poi}{{\\text{Poi}}}$\n",
    "$\\forcecommand{\\Exp}{{\\text{Exp}}}$\n",
    "$\\forcecommand{\\Chisq}{{\\chi^2}}$\n",
    "$\\forcecommand{\\N}{\\mathbb{N}}$\n",
    "$\\forcecommand{\\iid}{{\\stackrel{iid}{\\sim}}}$\n",
    "$\\forcecommand{\\px}{p_{X}}$\n",
    "$\\forcecommand{\\fx}{f_{X}}$\n",
    "$\\forcecommand{\\Fx}{F_{X}}$\n",
    "$\\forcecommand{\\py}{p_{Y}}$\n",
    "$\\forcecommand{\\pxy}{p_{X,Y}}$\n",
    "$\\forcecommand{\\po}{{p_0}}$\n",
    "$\\forcecommand{\\pa}{{p_a}}$\n",
    "$\\forcecommand{\\Xbar}{\\overline{X}}$\n",
    "$\\forcecommand{\\Ybar}{\\overline{Y}}$\n",
    "$\\forcecommand{\\Zbar}{\\overline{Z}}$\n",
    "$\\forcecommand{\\nXbar}{n \\cdot \\overline{X}}$\n",
    "$\\forcecommand{\\nYbar}{n \\cdot \\overline{Y}}$\n",
    "$\\forcecommand{\\nZbar}{n \\cdot \\overline{Z}}$\n",
    "$\\forcecommand{\\Xn}{X_1, X_2, \\dots, X_n}$\n",
    "$\\forcecommand{\\Xm}{{X_1, X_2, \\dots, X_m}}$\n",
    "$\\forcecommand{\\Yn}{Y_1, Y_2, \\dots, Y_n}$\n",
    "$\\forcecommand{\\Ym}{{Y_1, Y_2, \\dots, Y_m}}$\n",
    "$\\forcecommand{\\sumXn}{X_1 + X_2 + \\dots + X_n}$\n",
    "$\\forcecommand{\\sumym}{Y_1 + Y_2 + \\dots + Y_m}$\n",
    "$\\forcecommand{\\la}{\\ell_\\alpha}$\n",
    "$\\forcecommand{\\ua}{u_\\alpha}$\n",
    "$\\forcecommand{\\at}{{\\alpha/2}}$\n",
    "$\\forcecommand{\\mux}{\\mu_{X}}$\n",
    "$\\forcecommand{\\muy}{\\mu_{Y}}$\n",
    "$\\forcecommand{\\sx}{\\sigma_{X}}$\n",
    "$\\forcecommand{\\sy}{\\sigma_{Y}}$\n",
    "$\\forcecommand{\\pvalue}{$p$-value}$\n",
    "$\\forcecommand{\\Ho}{H_{0}}$\n",
    "$\\forcecommand{\\Ha}{H_{a}}$\n",
    "$\\forcecommand{\\pvalue}{p\\text{-value}}$\n",
    "\n",
    "\\vskip-\\parskip\n",
    "\\vskip-\\baselineskip\n",
    "</div>"
   ]
  },
  {
   "cell_type": "markdown",
   "id": "3b96abc1",
   "metadata": {
    "editable": true,
    "slideshow": {
     "slide_type": "slide"
    },
    "tags": []
   },
   "source": [
    "## Agenda\n",
    "---\n",
    "\n",
    "#### Regression Analysis\n",
    "\n",
    "1. Regression in a single variable\n",
    "    * Simple Linear Regression\n",
    "    * Estimation of the regression line\n",
    "    * Coefficients, Predictions, Residuals\n",
    "    \n",
    "2. Interpretation of the regression line\n",
    "    * Sum of squares\n",
    "    * Correlation\n",
    "    * Maximum likelihood estimation\n",
    "\n",
    "3. Regression in multiple variables\n",
    "    * Multiple Linear Regression\n",
    "    * Estimation of the regression plane\n",
    "    * Coefficients, Predictions, Residuals\n",
    "\n",
    "4. Diagnostics\n",
    "    * Residual diagnostics\n",
    "    * Outliers and influential points\n",
    "    * Transformations\n",
    "\n",
    "5. Hypothesis Testing\n",
    "    * Testing the coefficients\n",
    "    * Testing the model itself\n",
    "    * Testing effects of multiple variables\n",
    "\n",
    "---"
   ]
  },
  {
   "cell_type": "markdown",
   "id": "d19ea4ab",
   "metadata": {},
   "source": [
    "Packages:"
   ]
  },
  {
   "cell_type": "code",
   "execution_count": 1,
   "id": "36f314af",
   "metadata": {
    "editable": true,
    "slideshow": {
     "slide_type": ""
    },
    "tags": []
   },
   "outputs": [
    {
     "name": "stderr",
     "output_type": "stream",
     "text": [
      "/var/folders/hj/8xqq0_jd37l1yy3gsych74_r0000gq/T/ipykernel_43177/779697241.py:2: DeprecationWarning: \n",
      "Pyarrow will become a required dependency of pandas in the next major release of pandas (pandas 3.0),\n",
      "(to allow more performant data types, such as the Arrow string type, and better interoperability with other libraries)\n",
      "but was not found to be installed on your system.\n",
      "If this would cause problems for you,\n",
      "please provide us feedback at https://github.com/pandas-dev/pandas/issues/54466\n",
      "        \n",
      "  import pandas as pd\n"
     ]
    }
   ],
   "source": [
    "import numpy as np\n",
    "import pandas as pd\n",
    "import scipy.stats as stats\n",
    "\n",
    "import seaborn as sns\n",
    "import matplotlib.pyplot as plt\n",
    "\n",
    "import statsmodels\n",
    "import statsmodels.api as sm\n",
    "import statsmodels.formula.api as smf\n",
    "\n",
    "# Optional \n",
    "import ipywidgets as widgets\n",
    "from ipywidgets import interact, fixed\n",
    "%matplotlib inline"
   ]
  },
  {
   "cell_type": "markdown",
   "id": "a41157f8",
   "metadata": {},
   "source": [
    "---"
   ]
  },
  {
   "cell_type": "markdown",
   "id": "330bbb88",
   "metadata": {},
   "source": [
    "<br></br><br></br>\n",
    "\n",
    "\n",
    "## §1. Regression in a single variable\n",
    "\n",
    "\n",
    "### 1.1 Simple Linear Regression\n",
    "\n",
    "> #### Definition\n",
    ">\n",
    "> Suppose we have a dataset of $n$ observations $(x_1, y_1), (x_2, y_2), \\dots, (x_n, y_n)$, where $x_i$ is the independent variable and $y_i$ is the dependent variable.\n",
    "> \n",
    "> How can we model the relationship between $x$ and $y$?"
   ]
  },
  {
   "cell_type": "code",
   "execution_count": 2,
   "id": "2f1214c6",
   "metadata": {},
   "outputs": [
    {
     "data": {
      "text/plain": [
       "<Axes: >"
      ]
     },
     "execution_count": 2,
     "metadata": {},
     "output_type": "execute_result"
    },
    {
     "data": {
      "image/png": "[encoded data removed]",
      "text/plain": [
       "<Figure size 640x480 with 1 Axes>"
      ]
     },
     "metadata": {},
     "output_type": "display_data"
    }
   ],
   "source": [
    "x, y = np.random.multivariate_normal([0, 1], [[1, 0.96], [0.96, 1]], 50).T\n",
    "sns.scatterplot(x=x, y=y)"
   ]
  },
  {
   "cell_type": "markdown",
   "id": "916b343d",
   "metadata": {},
   "source": [
    "The simple linear regression model assumes that the relationship between the two variables is linear, and can be expressed as:\n",
    "\n",
    "$$\n",
    "y_i = \\beta_0 + \\beta_1 x_i + \\epsilon_i\n",
    "$$\n",
    "\n",
    "where $\\beta_0$ and $\\beta_1$ are the intercept and slope of the line, and $\\epsilon_i$ is the error term. The error term captures the difference between the observed value $y_i$ and the value predicted by the model $\\beta_0 + \\beta_1 x_i$.\n",
    "\n",
    "\n",
    "The goal of simple linear regression is to estimate the values of $\\beta_0$ and $\\beta_1$ that best fit the data."
   ]
  },
  {
   "cell_type": "code",
   "execution_count": 3,
   "id": "c7fe5dad",
   "metadata": {},
   "outputs": [
    {
     "data": {
      "application/vnd.jupyter.widget-view+json": {
       "model_id": "50d2d30ce8f04e51b24c3bd39ff8d260",
       "version_major": 2,
       "version_minor": 0
      },
      "text/plain": [
       "interactive(children=(FloatSlider(value=0.0, description='b0', max=2.0, min=-2.0), FloatSlider(value=0.0, desc…"
      ]
     },
     "metadata": {},
     "output_type": "display_data"
    }
   ],
   "source": [
    "@interact(b0=(-2, 2, 0.1), b1=(-2, 2, 0.1), residuals=False)\n",
    "\n",
    "def plot_regression(b0, b1, residuals):\n",
    "    plt.plot(x, b0 + b1*x, color='r')\n",
    "    if residuals:\n",
    "        for i in range(len(x)):\n",
    "            plt.plot([x[i], x[i]], [b0 + b1*x[i], y[i]], color='black', alpha=0.5, linestyle='--')\n",
    "    sns.scatterplot(x=x, y=y)\n",
    "    \n",
    "    plt.xlim(-3, 3); plt.ylim(-3, 3)\n",
    "    "
   ]
  },
  {
   "cell_type": "markdown",
   "id": "9c5d0f21",
   "metadata": {},
   "source": [
    "The line of best fit is given by the equation:\n",
    "\n",
    "$$\n",
    "\\hat{y} = \\hat{\\beta}_0 + \\hat{\\beta}_1 x\n",
    "$$\n",
    "\n",
    "where $\\hat{\\beta}_0$ and $\\hat{\\beta}_1$ are the estimated values of the intercept and slope, and $\\hat{y}$ is the predicted value of $y$."
   ]
  },
  {
   "cell_type": "markdown",
   "id": "22fb002b",
   "metadata": {},
   "source": [
    "> What is the best way to estimate the values of $\\beta_0$ and $\\beta_1$?"
   ]
  },
  {
   "cell_type": "markdown",
   "id": "ad694aa4",
   "metadata": {},
   "source": [
    "The method of least squares is used to estimate the values of $\\beta_0$ and $\\beta_1$ that minimize the sum of the squared differences between the observed and predicted values $\\hat y$, i.e., \n",
    "\n",
    "$$\n",
    "\\text{Loss}(\\beta_0, \\beta_1) = \\sum_{i=1}^n (y_i - \\hat{y}_i)^2 = \\sum_{i=1}^n (y_i - \\beta_0 - \\beta_1 x_i)^2\n",
    "$$\n",
    "\n",
    "and, \n",
    "\n",
    "$$\n",
    "\\hat{\\beta_0}, \\hat{\\beta_1} = \\underset{\\beta_1 \\in \\R}{\\underset{\\beta_0 \\in \\R}{\\text{argmin}}}  \\ \\ \\ \\text{Loss}(\\beta_0, \\beta_1)\n",
    "$$"
   ]
  },
  {
   "cell_type": "markdown",
   "id": "10d9e5d8",
   "metadata": {},
   "source": [
    "<br></br><br></br>\n",
    "\n",
    "---"
   ]
  },
  {
   "cell_type": "markdown",
   "id": "8ccaebc2",
   "metadata": {},
   "source": [
    "<br></br><br></br>\n",
    "\n",
    "### 1.2 Estimation of the regression line\n",
    "\n",
    "Let $\\xv = (x_1, x_2, \\dots, x_n) \\in \\R^n$ is the vector of independent variables and $\\yv$ is the vector of dependent variables, and let $\\Xv$ be the matrix of the independent variables along with a column of 1's, i.e., \n",
    "\n",
    "$$\n",
    "\\Xv = \\Big[\\mathbf{1} \\Big| \\xv\\Big] = \n",
    "\\begin{pmatrix}\n",
    "1 & x_1 \\\\\n",
    "1 & x_2 \\\\\n",
    "\\vdots & \\vdots \\\\\n",
    "1 & x_n\n",
    "\\end{pmatrix}\n",
    "$$\n",
    "\n",
    "\n",
    "\n",
    "then the estimated values of $\\beta_0$ and $\\beta_1$ are given by:\n",
    "\n",
    "$$\n",
    "\\begin{pmatrix}\n",
    "\\hat{\\beta}_0 \\\\ \\\\\n",
    "\\hat{\\beta}_1\n",
    "\\end{pmatrix} = \n",
    "(\\Xv^T \\Xv)^{-1} \\Xv^T \\yv = \n",
    "\\begin{pmatrix}\n",
    "n & \\sum x_i \\\\ \\\\\n",
    "\\sum x_i & \\sum x_i^2\n",
    "\\end{pmatrix}^{-1}\n",
    "\\begin{pmatrix}\n",
    "\\sum y_i \\\\ \\\\\n",
    "\\sum x_i y_i\n",
    "\\end{pmatrix}\n",
    "$$"
   ]
  },
  {
   "cell_type": "code",
   "execution_count": 4,
   "id": "f0e586f9",
   "metadata": {},
   "outputs": [
    {
     "data": {
      "text/plain": [
       "(array([[ 50.        , -10.47168295],\n",
       "        [-10.47168295,  44.19438443]]),\n",
       " array([[ 50.        , -10.47168295],\n",
       "        [-10.47168295,  44.19438443]]))"
      ]
     },
     "execution_count": 4,
     "metadata": {},
     "output_type": "execute_result"
    }
   ],
   "source": [
    "n = len(x)\n",
    "\n",
    "X = np.column_stack((np.ones(n), x))\n",
    "\n",
    "XtX = np.array([\n",
    "    [ n,        x.sum() ],\n",
    "    [ x.sum(), (x**2).sum() ]\n",
    "])\n",
    "\n",
    "X.T.dot(X), XtX"
   ]
  },
  {
   "cell_type": "code",
   "execution_count": 5,
   "id": "500a81dd",
   "metadata": {},
   "outputs": [
    {
     "data": {
      "text/plain": [
       "(0.9713400817614652, 0.9166694091514263)"
      ]
     },
     "execution_count": 5,
     "metadata": {},
     "output_type": "execute_result"
    }
   ],
   "source": [
    "b = np.linalg.inv(X.T.dot(X))\\\n",
    "    .dot(X.T).dot(y)\n",
    "\n",
    "b0, b1 = b\n",
    "b0, b1"
   ]
  },
  {
   "cell_type": "code",
   "execution_count": 6,
   "id": "d9fd330c",
   "metadata": {},
   "outputs": [
    {
     "data": {
      "text/plain": [
       "[<matplotlib.lines.Line2D at 0x280ef30d0>]"
      ]
     },
     "execution_count": 6,
     "metadata": {},
     "output_type": "execute_result"
    },
    {
     "data": {
      "image/png": "[encoded data removed]",
      "text/plain": [
       "<Figure size 640x480 with 1 Axes>"
      ]
     },
     "metadata": {},
     "output_type": "display_data"
    }
   ],
   "source": [
    "sns.scatterplot(x=x, y=y)\n",
    "plt.plot(x, b0 + b1*x, color='r')"
   ]
  },
  {
   "cell_type": "markdown",
   "id": "aee2a130",
   "metadata": {},
   "source": [
    "### §1.3 Coefficients, Predictions, Residuals\n",
    "\n",
    "> #### Coefficients\n",
    "The coefficients of the regression line are the estimated values of $\\beta_0$ and $\\beta_1$, i.e., $\\hat{\\beta}_0$ and $\\hat{\\beta}_1$.\n",
    "\n",
    "<br></br>"
   ]
  },
  {
   "cell_type": "markdown",
   "id": "98e7cd87",
   "metadata": {},
   "source": [
    "> #### Predicted values\n",
    "The predicted/fitted value of $y$ for a given value of $x$ is given by:\n",
    "\n",
    "$$\n",
    "\\hat{y} = \n",
    "\\begin{bmatrix}\n",
    "1 &  x\n",
    "\\end{bmatrix}\n",
    "\\begin{pmatrix}\n",
    "\\hat{\\beta}_0 \\\\ \\\\\n",
    "\\hat{\\beta}_1\n",
    "\\end{pmatrix}\n",
    "= \\hat{\\beta}_0 + \\hat{\\beta}_1 x\n",
    "$$\n",
    "\n",
    "<br></br>\n"
   ]
  },
  {
   "cell_type": "code",
   "execution_count": 7,
   "id": "464506f2",
   "metadata": {},
   "outputs": [],
   "source": [
    "yhat = X @ b"
   ]
  },
  {
   "cell_type": "markdown",
   "id": "58721c3a",
   "metadata": {},
   "source": [
    "Given a new value $x^*$ the predicted value of $y$ is given by:\n",
    "\n",
    "$$\n",
    "\\hat{y^*} = \n",
    "\\begin{bmatrix}\n",
    "1 & x^*\n",
    "\\end{bmatrix}\n",
    "\\begin{pmatrix}\n",
    "\\hat\\beta_0 \\\\ \\\\\n",
    "\\hat\\beta_1\n",
    "\\end{pmatrix}\n",
    "=  \\hat\\beta_0 + \\hat\\beta_1 x^*\n",
    "$$"
   ]
  },
  {
   "cell_type": "code",
   "execution_count": 8,
   "id": "0c8c73e2-529f-4a26-a742-2835360c7e54",
   "metadata": {},
   "outputs": [
    {
     "data": {
      "text/plain": [
       "1.8880094909128915"
      ]
     },
     "execution_count": 8,
     "metadata": {},
     "output_type": "execute_result"
    }
   ],
   "source": [
    "x_star = 1.0\n",
    "np.array([1, x_star]).T.dot(b)"
   ]
  },
  {
   "cell_type": "markdown",
   "id": "a52a48bd",
   "metadata": {},
   "source": [
    "> #### Residuals\n",
    "The residual for the $i$-th observation is the difference between the observed and predicted values of $y$, i.e.,\n",
    "\n",
    "$$\n",
    "e_i = y_i - \\hat{y}_i\n",
    "$$"
   ]
  },
  {
   "cell_type": "code",
   "execution_count": 9,
   "id": "fe77ff18",
   "metadata": {},
   "outputs": [
    {
     "data": {
      "text/plain": [
       "array([-0.27040199,  0.3421458 ,  0.28253979,  0.1863014 ,  0.35002073,\n",
       "       -0.21583512, -0.2207439 ,  0.45803072, -0.56987756,  0.64503678,\n",
       "        0.05545064,  0.29069715, -0.32331663, -0.24921813, -0.41097624,\n",
       "       -0.25496408, -0.39211571,  0.11556647,  0.07979549, -0.10094122,\n",
       "       -0.21461944,  0.10840323, -0.21324343, -0.17549424,  0.21184357,\n",
       "        0.19452616, -0.21832448,  0.60664569,  0.6343049 ,  0.1588504 ,\n",
       "       -0.53469809, -0.14344628, -0.28075842, -0.06670612,  0.03947202,\n",
       "       -0.08443126,  0.17495933,  0.21979658, -0.10571454,  0.20000634,\n",
       "        0.4058391 , -0.28924211, -0.27112534,  0.03489754, -0.18209921,\n",
       "        0.11389882, -0.22503748,  0.41409645, -0.13097583, -0.17881828])"
      ]
     },
     "execution_count": 9,
     "metadata": {},
     "output_type": "execute_result"
    }
   ],
   "source": [
    "residuals = y - yhat\n",
    "residuals"
   ]
  },
  {
   "cell_type": "markdown",
   "id": "17894f40",
   "metadata": {},
   "source": [
    "<br></br><br>"
   ]
  },
  {
   "cell_type": "code",
   "execution_count": 10,
   "id": "dd1b1746",
   "metadata": {},
   "outputs": [
    {
     "data": {
      "application/vnd.jupyter.widget-view+json": {
       "model_id": "bb8e029f336443e891c3f466e8af06c0",
       "version_major": 2,
       "version_minor": 0
      },
      "text/plain": [
       "interactive(children=(Checkbox(value=False, description='predicted'), Checkbox(value=False, description='resid…"
      ]
     },
     "metadata": {},
     "output_type": "display_data"
    }
   ],
   "source": [
    "@interact(predicted = False, residuals = False)\n",
    "\n",
    "def plot_regression(predicted, residuals):\n",
    "    # plt.plot(x, b0 + b1*x, color='r')\n",
    "    if predicted:\n",
    "        plt.scatter(x, b0 + b1*x, color='r')\n",
    "    if residuals:\n",
    "        for i in range(len(x)):\n",
    "            plt.plot([x[i], x[i]], [b0 + b1*x[i], y[i]], color='black', alpha=0.5, linestyle='--')\n",
    "    sns.scatterplot(x=x, y=y)"
   ]
  },
  {
   "cell_type": "markdown",
   "id": "07c2c270",
   "metadata": {},
   "source": [
    "---\n",
    "<br></br><br></br><br></br>\n",
    "<br></br><br></br><br></br>"
   ]
  },
  {
   "cell_type": "markdown",
   "id": "b2e98523",
   "metadata": {},
   "source": [
    "## §2. Interpretation of the regression line\n",
    "\n",
    "\n",
    "### Three different interpretations of the linear regression\n",
    "\n",
    "<br></br><br></br>"
   ]
  },
  {
   "cell_type": "markdown",
   "id": "c01c8b58",
   "metadata": {},
   "source": [
    "> ##### 1. Sum of squares interpretation\n",
    "\n",
    "The fitted regression equation $y = \\hat{\\beta}_0 + \\hat{\\beta}_1 x$ can be interpreted as the best linear approximation to the relationship between $x$ and $y$ in terms of minimizing the sum of squares of the residuals, i.e., \n",
    "\n",
    "$$\n",
    "\\hat\\beta_0, \\hat\\beta_1 = \\underset{\\beta_1 \\in \\R}{\\underset{\\beta_0 \\in \\R}{\\text{min}}} \\ \\  \\sum_{i=1}^n (y_i - \\beta_0 - \\beta_1 x_i)^2\n",
    "$$\n",
    "\n",
    "\n",
    "<br></br><br></br><br></br>"
   ]
  },
  {
   "cell_type": "markdown",
   "id": "40bd2519",
   "metadata": {},
   "source": [
    "> ##### 2. Correlation interpretation\n",
    "\n",
    "The slope of the regression line $\\hat{\\beta}_1$ is a measure of the correlation between the independent and dependent variables, i.e.,\n",
    "\n",
    "$$\n",
    "\\hat{\\beta}_1 = \\frac{\\displaystyle\\sum_{i=1}^n (x_i - \\bar{x})(y_i - \\bar{y})}{\\displaystyle\\sum_{i=1}^n (x_i - \\bar{x})^2} = r_{xy} \\cdot \\frac{s_y}{s_x}\n",
    "$$\n",
    "\n",
    "where $s_x$ and $s_y$ are the standard deviations of $x$ and $y$, and $r_{xy}$ is the correlation coefficient between $x$ and $y$ given by:\n",
    "\n",
    "$$\n",
    "r_{xy} = \\frac{\\displaystyle\\sum_{i=1}^n (x_i - \\bar{x})(y_i - \\bar{y})}{\\sqrt{\\displaystyle\\sum_{i=1}^n (x_i - \\bar{x})^2} \\cdot \\sqrt{\\displaystyle\\sum_{i=1}^n (y_i - \\bar{y})^2}}\n",
    "$$\n",
    "\n",
    "<br></br><br></br><br></br>"
   ]
  },
  {
   "cell_type": "markdown",
   "id": "d72f224f",
   "metadata": {},
   "source": [
    "> ##### 3. Maximum likelihood interpretation\n",
    "\n",
    "\n",
    "\n",
    "> ##### Assumption\n",
    "Suppose the error terms $\\epsilon_i$ are normally distributed with mean 0 and variance $\\sigma^2$, i.e., $\\epsilon_i \\sim N(0, \\sigma^2)$. Then the distribution of the dependent variable $y$ **given** the independent variable $x$ is given by:\n",
    "\n",
    "$$\n",
    "y_i \\sim N(\\beta_0 + \\beta_1 x_i, \\sigma^2),\n",
    "$$\n",
    "\n",
    "where the unknown population parameters are $\\beta_0$, $\\beta_1$, and $\\sigma^2$.\n",
    "\n",
    "\n",
    "\n",
    "\n",
    "> ##### Probability density function\n",
    "\n",
    "If $y_i | x_i \\sim N(\\beta_0 + \\beta_1 x_i, \\sigma^2)$, the probability density function of $y_i$ given $x_i$ is given by:\n",
    "\n",
    "$$\n",
    "f(y_i | x_i, \\beta_0, \\beta_1, \\sigma^2) = \\frac{1}{\\sqrt{2\\pi\\sigma^2}} \\exp\\left(-\\frac{(y_i - \\beta_0 - \\beta_1 x_i)^2}{2\\sigma^2}\\right)\n",
    "$$\n",
    "\n",
    "and \n",
    "\n",
    "$$\n",
    "\\log f(y_i | x_i, \\beta_0, \\beta_1, \\sigma^2) = \\log(\\frac{1}{\\sqrt{2\\pi\\sigma^2}}) - \\color{red}{\\frac{(y_i - \\beta_0 - \\beta_1 x_i)^2}{2\\sigma^2}}\n",
    "$$\n",
    "\n",
    "\n",
    "> ##### Likelihood function\n",
    "\n",
    "The likelihood function of the parameters $\\beta_0$, $\\beta_1$, and $\\sigma^2$ given the observed data is given by:\n",
    "\n",
    "$$\n",
    "L(\\beta_0, \\beta_1, \\sigma^2) = \\prod_{i=1}^n f(y_i | x_i, \\beta_0, \\beta_1, \\sigma^2)\n",
    "$$\n",
    "\n",
    "\n",
    "\n",
    "> ##### log-likelihood function\n",
    "\n",
    "\n",
    "The log-likelihood function of the parameters $\\beta_0$, $\\beta_1$, and $\\sigma^2$ given the observed data is given by:\n",
    "\n",
    "$$\n",
    "\\begin{aligned}\n",
    "\\ell(\\beta_0, \\beta_1, \\sigma^2 | \\xv, \\yv) &= \\sum_{i=1}^n \\log f(y_i | x_i, \\beta_0, \\beta_1, \\sigma^2)\\\\ &= -\\frac{n}{2} \\log(2\\pi\\sigma^2) - \\frac{1}{2\\sigma^2} \\sum_{i=1}^n (y_i - \\beta_0 - \\beta_1 x_i)^2\n",
    "\\end{aligned}\n",
    "$$\n",
    "\n",
    "\n",
    "> ##### Maximum likelihood estimation\n",
    "\n",
    "The maximum likelihood estimates of the parameters $\\beta_0$, $\\beta_1$, and $\\sigma^2$ are given by:\n",
    "\n",
    "$$\n",
    "\\begin{aligned}\n",
    "\\hat{\\beta}_0, \\hat{\\beta}_1, \\hat{\\sigma}^2 \n",
    "&= \\underset{\\beta_1 \\in \\R}{\\underset{\\beta_0 \\in \\R}{\\underset{\\sigma^2 \\in \\R^+}{\\text{argmax}}}} \\ \\ \\ell(\\beta_0, \\beta_1, \\sigma^2 | \\xv, \\yv)\\\\ \\\\\n",
    "&= \\underset{\\beta_1 \\in \\R}{\\underset{\\beta_0 \\in \\R}{\\underset{\\sigma^2 \\in \\R^+}{\\text{argmin}}}} \\ \\ \\frac{1}{2\\sigma^2} \\sum_{i=1}^n (y_i - \\beta_0 - \\beta_1 x_i)^2 -\\frac{n}{2} \\log(2\\pi\\sigma^2)\n",
    "\\end{aligned}\n",
    "$$\n"
   ]
  },
  {
   "cell_type": "markdown",
   "id": "01d83c83",
   "metadata": {},
   "source": [
    "From this, we get the same estimates of $\\hat{\\beta}_0$ and $\\hat{\\beta}_1$ as before, i.e.,\n",
    "\n",
    "$$\n",
    "\\begin{pmatrix}\n",
    "\\hat{\\beta}_0 \\\\ \\\\\n",
    "\\hat{\\beta}_1\n",
    "\\end{pmatrix} = \n",
    "(\\Xv^T \\Xv)^{-1} \\Xv^T \\yv\n",
    "$$"
   ]
  },
  {
   "cell_type": "markdown",
   "id": "603686ef",
   "metadata": {},
   "source": [
    "But, we also get an estimate of the variance of the error term $\\hat{\\sigma}^2$ given by:\n",
    "\n",
    "$$\n",
    "\\hat{\\sigma}^2 = \\frac{1}{n-2} \\sum_{i=1}^n (y_i - \\hat{y}_i)^2\n",
    "$$\n",
    "\n",
    "$\\scriptscriptstyle{(\\text{this is actually a REML estimator as opposed to an ML estimator})}$"
   ]
  },
  {
   "cell_type": "markdown",
   "id": "4d050e61",
   "metadata": {},
   "source": [
    "**It is this interpretation of the linear regression that allows us to perform hypothesis tests and construct confidence intervals for the parameters $\\beta_0$ and $\\beta_1$.**"
   ]
  },
  {
   "cell_type": "markdown",
   "id": "9af9264a",
   "metadata": {},
   "source": [
    "---\n",
    "\n",
    "<br></br><br></br><br></br>\n",
    "<br></br><br></br><br></br>"
   ]
  },
  {
   "cell_type": "markdown",
   "id": "90fe874a",
   "metadata": {},
   "source": [
    "# §3. Regression in multiple variables\n",
    "\n",
    "Suppose we $p$ variables $x_1, x_2, \\dots, x_p$ and a dependent variable $y$, and a dataset of $n$ observations\n",
    "\n",
    "$$\n",
    "\\begin{pmatrix}\n",
    "x_{11} & x_{12} & \\dots & x_{1p} & y_1 \\\\\n",
    "x_{21} & x_{22} & \\dots & x_{2p} & y_2 \\\\\n",
    "\\vdots & \\vdots & \\vdots & \\vdots & \\vdots \\\\\n",
    "x_{n1} & x_{n2} & \\dots & x_{np} & y_n \\\\\n",
    "\\end{pmatrix}\n",
    "$$\n",
    "\n",
    "\n",
    "where $x_{ij}$ is the value of:\n",
    "\n",
    "* the $i$-th observation of\n",
    "* the $j$-th independent variable\n",
    "\n",
    "and $y_i$ is the value of the dependent variable for the $i$-th observation.\n",
    "\n",
    "\n",
    "> Question: How can we model the relationship between the $p$ independent variables and the dependent variable?"
   ]
  },
  {
   "cell_type": "markdown",
   "id": "e46e4d98",
   "metadata": {},
   "source": [
    "##### Example\n",
    "\n",
    "Suppose $p=2$ and we have two independent variables $x_1$ and $x_2$, and a dependent variable $y$"
   ]
  },
  {
   "cell_type": "code",
   "execution_count": 14,
   "id": "96adda18",
   "metadata": {},
   "outputs": [],
   "source": [
    "x1 = np.random.rand(200) - 0.5\n",
    "x2 = np.random.rand(200) - 0.5\n",
    "y = 5 + 2*x1 + 3*x2 + 0.5 * np.random.normal(size=200)"
   ]
  },
  {
   "cell_type": "code",
   "execution_count": 15,
   "id": "e2df1409",
   "metadata": {},
   "outputs": [
    {
     "data": {
      "application/vnd.plotly.v1+json": {
       "config": {
        "plotlyServerURL": "https://plot.ly"
       },
       "data": [
        {
         "hovertemplate": "x=%{x}<br>y=%{y}<br>z=%{z}<extra></extra>",
         "legendgroup": "",
         "marker": {
          "color": "#636efa",
          "size": 5,
          "symbol": "circle"
         },
         "mode": "markers",
         "name": "",
         "scene": "scene",
         "showlegend": false,
         "type": "scatter3d",
         "x": [
          0.12144165250060368,
          -0.4406561143069513,
          0.40568659480625413,
          0.3352800324704611,
          -0.006008820366989465,
          -0.37809859636583965,
          -0.18767304239980487,
          -0.3450876372062479,
          -0.07953959328648386,
          -0.17864769894518717,
          -0.30304593178486017,
          0.4501399197367657,
          -0.09182323121316782,
          0.38414198340494543,
          0.317719061484399,
          0.16434132792379996,
          -0.24129754301159878,
          0.23291374763568262,
          -0.15641851302448728,
          -0.27044124391824853,
          -0.2925919759737996,
          -0.28398885796119644,
          -0.49889635508824237,
          -0.1702518334031221,
          0.2942525118255873,
          0.18716761056407172,
          -0.399274866591396,
          0.2630299443377375,
          0.29493948041050155,
          -0.011266039995979304,
          -0.15365622672510082,
          -0.4459392822494592,
          -0.03493903171952617,
          0.017697614259304606,
          -0.4713300648777866,
          0.005723036348394772,
          -0.4869228919826516,
          0.4440603488393936,
          -0.16880020921800254,
          -0.11645938167655745,
          0.06066607981731165,
          0.025087198459898374,
          -0.31134511446619206,
          0.061615886618530236,
          -0.3947016027588709,
          0.4461362475707079,
          -0.20571446167149632,
          -0.10081651228792343,
          0.25351834746713653,
          -0.31417113041024725,
          -0.33086675554864564,
          0.3124706220439699,
          0.2627436167671665,
          -0.3325638415370902,
          -0.19512229932011182,
          0.21606812241632423,
          -0.21517913070135108,
          -0.2274880517205944,
          -0.15905919688576398,
          0.054098183804342725,
          -0.07618807007662654,
          0.3504986505297286,
          -0.32810354753674087,
          0.10935039607609187,
          0.47858901399125553,
          -0.322913029166245,
          -0.38480926559051964,
          0.22869022787217885,
          0.2775246500288714,
          0.31429272882011927,
          -0.3319308295479191,
          -0.39436191613230265,
          0.43771282656757105,
          -0.13240242109409717,
          -0.004854257498698833,
          -0.1298651665315057,
          -0.07196115243412926,
          0.3133158962878151,
          -0.385057266155474,
          -0.12516858794553465,
          -0.27057726171895036,
          -0.26060192971347607,
          0.38338279943394116,
          0.02984912636418824,
          -0.4367627438108651,
          -0.12092005562076336,
          0.49976002817362397,
          0.43589218562365883,
          -0.3392891084552928,
          -0.39338718646228243,
          -0.04447225403884325,
          -0.11907195249127467,
          0.2438385969540674,
          0.4867617505466162,
          -0.43233486854362424,
          -0.41148205224270684,
          0.14343071813044805,
          -0.03898245666331657,
          -0.28505215372983017,
          0.3131629323008023,
          0.07345013913364418,
          -0.224690277814111,
          0.4986169134310079,
          0.06332507045634317,
          0.143851982313147,
          0.28522856161711885,
          0.3137562833067036,
          -0.383343689924767,
          0.3325113768324942,
          0.30085935747474646,
          -0.08577300604953708,
          -0.09516031690445848,
          -0.026103869154075587,
          0.4746425445885625,
          0.2374841826025873,
          -0.2653185398128667,
          0.14586879820560628,
          -0.11123796331362656,
          -0.4043552365340941,
          -0.48297274298064463,
          -0.42263074069852014,
          -0.247786328863686,
          -0.49895937328467743,
          -0.24767366430485238,
          -0.13272382671823402,
          0.3406503945187752,
          0.4459556686854118,
          0.37597721765618286,
          -0.28884285763616835,
          0.4025085894709869,
          -0.45270046838924793,
          -0.3941085434241286,
          0.35482746450500646,
          0.4703525268702994,
          0.4642003270284497,
          -0.2520387137954623,
          -0.2778725732551589,
          -0.11060732275278728,
          -0.4095404032900266,
          -0.06886813949486903,
          -0.1532463717326653,
          0.3106888468104435,
          -0.30718036019056294,
          -0.3457769211196783,
          0.27822003139995655,
          0.23621770419309518,
          0.218012955140634,
          0.44499247048322643,
          -0.37615474664540416,
          -0.09846341725953234,
          0.20770743191087104,
          -0.00977771755538892,
          -0.3966675191774556,
          0.3832841111655535,
          -0.2653416354836755,
          0.33094625203544414,
          0.05791779417096299,
          0.306513031484717,
          -0.3436514565278347,
          0.26004242919409226,
          0.24472560911979457,
          -0.20893267941698557,
          -0.21774339725340397,
          -0.2669292141360541,
          -0.028983408964611046,
          0.3329288855687357,
          0.17886720469418482,
          0.453229695461146,
          0.22667669599914764,
          -0.3289969638298271,
          0.39943773346644285,
          -0.25053451970920027,
          0.45329571005484004,
          0.2302545414096845,
          -0.47523604462969027,
          -0.09956522276878832,
          -0.050252450783962455,
          0.18245334384662215,
          -0.1389410760955324,
          -0.018730512781476083,
          0.2320422828907892,
          -0.03463384423970062,
          0.07558185602890655,
          -0.37185417596497417,
          -0.2853002949794917,
          0.3522991548881017,
          0.17447504136990266,
          -0.11759727551857613,
          0.4786774217697257,
          -0.28640185395101847,
          0.2221031869888983,
          0.012544492455436318,
          0.04464284672547214,
          -0.47138066782518273,
          -0.18082467039533612,
          0.4046870464873522,
          0.35341025656593006,
          0.004693736842030227,
          -0.0879850403176371,
          0.334477168993767
         ],
         "y": [
          -0.004456177847255938,
          -0.238382933849711,
          -0.11166165687437368,
          -0.12793652870918337,
          -0.12591052911831946,
          0.08345440354327471,
          -0.18269731675088163,
          0.39699257190128734,
          -0.33549558415757974,
          -0.4603681411207635,
          0.23952141990151288,
          0.22519552452492464,
          0.3819453119278987,
          -0.3144504853618616,
          0.49824217743717525,
          0.3077342937625719,
          0.29170320458282584,
          -0.15515330632407076,
          -0.12145354485654825,
          0.1678887723347945,
          -0.05116145458836319,
          -0.4535720759181593,
          -0.420068914612009,
          -0.32880876071040865,
          -0.48989532399474545,
          -0.16436844371824844,
          0.1645834135548897,
          -0.48418752857662417,
          0.17328464324689652,
          0.4587099833945756,
          -0.020677768621120696,
          -0.09181131558301814,
          0.10647093687964371,
          -0.08540618335262884,
          0.17741967652373425,
          0.4133915220740647,
          -0.34950164060268074,
          -0.12809667814910897,
          0.13022775330721126,
          0.062260620462379346,
          0.1905795910975181,
          -0.037648190544751436,
          0.4671353161928504,
          0.3818282358264341,
          0.1735181667568345,
          0.11105535299383362,
          -0.3875666129162152,
          -0.29180635588090686,
          -0.029947734167564244,
          0.19093103806699785,
          -0.42536248938219434,
          -0.43819493034175283,
          0.43751872101875,
          0.1320860530839707,
          0.21841666031835227,
          0.11409441627913108,
          -0.3744515443034221,
          -0.35022006782791715,
          0.27211781938434887,
          -0.11068124280908809,
          0.28653698261932303,
          0.16985874146172986,
          0.14872284260441937,
          -0.1483194942770264,
          -0.07003706053415892,
          -0.3404541982568021,
          0.14313115045137126,
          0.3198354197740291,
          -0.38212283418851567,
          -0.35938701163706843,
          0.0905100079399731,
          -0.47662339052852776,
          -0.34221538497809845,
          0.16632189767105443,
          0.018959698828485028,
          0.0849689943064037,
          -0.1671806536070547,
          0.3118878584221825,
          -0.48219942134858385,
          0.32203059047395644,
          0.23208500201346627,
          -0.22993685582784296,
          -0.14614335632525777,
          -0.10031984540414973,
          0.11201525079679786,
          -0.25122140566545936,
          -0.11005232098510809,
          0.3972644008879094,
          0.15626802766825332,
          0.4817976522504953,
          -0.1333417328181109,
          -0.38379510314925636,
          -0.4317968200398381,
          -0.28626323773392015,
          -0.06931126035566992,
          0.23134175415714364,
          -0.4669889813831575,
          -0.048859897238417216,
          -0.3684997853464469,
          -0.06717667461046106,
          -0.3799438231775174,
          0.39486180325804,
          0.00385810740666348,
          -0.4099109892439161,
          -0.1133433409381489,
          -0.48161446745387837,
          -0.49547501976711705,
          -0.23502404756361805,
          0.08769684060697958,
          0.17869582625364488,
          -0.2936210034286253,
          -0.39038120497231343,
          -0.4194470905999622,
          -0.22579748455612947,
          0.01463347642141477,
          0.056583509557364575,
          0.3122004621745569,
          -0.23083186314575033,
          0.3047573275217462,
          0.18786787196774968,
          0.06286086436304494,
          -0.13213963303746734,
          -0.36945226858696745,
          -0.1951777987087604,
          0.43363009080819115,
          0.06386432282734888,
          0.2899162988912426,
          0.36663621118833,
          0.11039093866433158,
          -0.10215221202885616,
          0.42973041186337224,
          -0.18505762319978913,
          -0.013705588186292972,
          0.32819012212096577,
          -0.021763054920811542,
          0.2198053596670152,
          0.4569309485090046,
          -0.05035617027249917,
          -0.4916962733884751,
          -0.05796413878682183,
          0.33220693109255506,
          0.38764391523530495,
          -0.4148433553570978,
          0.30529928745440005,
          -0.40854319546252416,
          0.35814077867880223,
          0.1893254058649776,
          0.1843474360856172,
          -0.48305145846380515,
          -0.49930401557882753,
          0.2720698438303839,
          -0.3673201186330268,
          -0.46690102703966374,
          0.31870856298958594,
          -0.28164443227107294,
          0.14887037182143548,
          -0.22606803570799971,
          0.41583671846315384,
          -0.3554963316466242,
          -0.42049037767664965,
          -0.11377392074851267,
          0.2999620953234339,
          0.18331276318894862,
          0.4931505977255275,
          -0.04380381812577128,
          0.2298153907307876,
          -0.1733856397942658,
          -0.1428658727961163,
          0.45628172474220996,
          -0.07871267080749467,
          0.13465059674692637,
          0.2765488581988492,
          0.2375844760692647,
          -0.027539183547012125,
          -0.3882287971883416,
          0.03834236774271538,
          0.3105584754823789,
          0.49108841523676006,
          0.1622996376095217,
          -0.3986538517345606,
          0.4518368384997352,
          0.2974001761938997,
          0.11269558460201912,
          0.08365560832753682,
          0.2627476487640791,
          -0.12253873810429872,
          0.1286915528790109,
          0.277004981369239,
          0.3907913686448313,
          -0.004380623594082311,
          -0.4860873996941214,
          -0.03858702488299548,
          0.43197856942661306,
          -0.30486394999464195,
          -0.41026576701345874,
          -0.2692629257698059,
          0.13566721434835416,
          0.006408090427834079,
          0.37359253978335427,
          -0.06863360290016518
         ],
         "z": [
          4.683373712351318,
          3.180491540751335,
          5.709014195534567,
          5.437583318152146,
          4.797086358499743,
          5.364659576583001,
          3.8422975348980546,
          5.738885727893201,
          4.303278245260008,
          3.155101811504448,
          5.171004424890052,
          7.118393237983449,
          5.616118941477606,
          5.5026043518476255,
          7.346430736921712,
          5.871382995184278,
          5.6688986163737365,
          4.280093397006368,
          4.480350561551515,
          5.096075065948993,
          4.556567981751605,
          2.9090776562740857,
          2.055439835062809,
          3.4761591139821,
          4.340295180822563,
          3.8826620028768,
          4.0887996194311675,
          3.665240273445738,
          6.738409656754615,
          6.003797975168533,
          4.276421335114032,
          3.562017253712563,
          4.55402715326334,
          5.0704060398109565,
          4.539881498819783,
          6.639624852050194,
          2.3108222576871507,
          6.00290724468414,
          5.93299300950885,
          4.594239206301839,
          5.778936735700045,
          5.0278456481239955,
          4.743988288628843,
          5.851833424476499,
          4.162801508749898,
          7.304646427682947,
          4.199610000378271,
          4.025766675461632,
          5.6291349273826015,
          4.42109667135762,
          2.8889431037977724,
          4.502382965467118,
          6.954841792183532,
          4.791294360441535,
          4.819410849428133,
          6.076263639783676,
          2.588650363364638,
          3.7956332989689052,
          5.379009934566962,
          4.5434553462037455,
          5.866576256047092,
          5.518762555505934,
          4.892404962279632,
          5.121537741538224,
          6.006368381471785,
          3.168997945926886,
          5.127989316467126,
          6.057479591330454,
          4.731089173314792,
          4.620967894286614,
          4.495124553326117,
          2.9696806539447755,
          3.9882024688855804,
          5.3763416189504385,
          5.070608777530892,
          4.846149875254769,
          4.097232743806008,
          6.065937563576713,
          3.259777331980728,
          6.446573430302509,
          4.3220679299138185,
          3.198241813815712,
          5.581876333861925,
          4.810989689382754,
          4.072718862437314,
          4.563892349181242,
          5.471362444346371,
          7.044003148899616,
          4.241752175984812,
          6.218379590106508,
          4.275490689569351,
          3.7458248216803627,
          4.673804903427145,
          4.888421156651512,
          3.89492301283608,
          4.547704867309914,
          3.862946578231851,
          4.914911997816569,
          3.3529374984640223,
          5.332908006203062,
          3.972284869013489,
          5.527304410922899,
          6.851509533509448,
          4.328338543938746,
          5.121589626292236,
          4.946674612836384,
          4.324929996591347,
          3.867623263096765,
          4.940190789770257,
          5.813145395194267,
          4.030118622558581,
          3.7692187767685876,
          3.9501266958095504,
          5.871202708054582,
          6.365031048699112,
          5.163640844956605,
          6.334480514121441,
          4.128877849145956,
          4.851721885347027,
          4.569076555653638,
          4.2927782380610795,
          3.831241760945251,
          2.65396429910654,
          3.803710661179159,
          6.217445349059043,
          5.879999407044472,
          7.054662218361633,
          6.5374707098240235,
          4.421891499342739,
          6.219118239591237,
          5.164564415039339,
          3.896306911457385,
          5.764922259799855,
          7.352198167357331,
          6.267306232418046,
          5.456508347317038,
          5.940081478700414,
          4.826246939675978,
          2.415259007561433,
          4.945445181679294,
          6.610193256749017,
          5.557574629719367,
          2.3099554049943967,
          5.968212750443499,
          4.217615143964579,
          7.549775844112759,
          6.147919358735879,
          6.463663298131148,
          3.0366204587260146,
          4.330152940826724,
          6.240805171653509,
          4.065780740551786,
          2.2622396848167137,
          6.037111546984512,
          3.015684451026322,
          6.4297974569370595,
          4.778666631596106,
          7.5565384015826575,
          3.268814918984846,
          4.274292890524574,
          4.8548414079132405,
          5.134892458270257,
          5.046671544228387,
          7.222944867021398,
          4.990318543313125,
          6.389464246665091,
          4.697752499974743,
          6.396832357971726,
          6.340531814337305,
          3.1041102154341607,
          6.239077307093582,
          4.985320759384258,
          6.693684790269761,
          5.588731386340266,
          2.5707061067959063,
          5.252051322317039,
          6.133717880457706,
          7.230766827613687,
          5.292346620608453,
          3.953738544884101,
          6.499655754558959,
          5.947379058617902,
          5.418903216724425,
          2.9720091600516882,
          4.8243240905163285,
          5.222519329957726,
          5.4199313535169225,
          5.557842334169925,
          6.719870213296704,
          4.178338275420072,
          4.378650672576521,
          6.009562636654625,
          6.719734408975944,
          4.389086905276711,
          3.4227700420840645,
          5.04892700659071,
          7.425832947047588,
          5.426052303067561,
          5.738043584609221,
          5.400980934775373
         ]
        }
       ],
       "layout": {
        "autosize": true,
        "legend": {
         "tracegroupgap": 0
        },
        "margin": {
         "b": 0,
         "l": 0,
         "r": 0,
         "t": 0
        },
        "scene": {
         "aspectmode": "auto",
         "aspectratio": {
          "x": 1,
          "y": 1,
          "z": 1
         },
         "camera": {
          "center": {
           "x": 0,
           "y": 0,
           "z": 0
          },
          "eye": {
           "x": -0.566973118198489,
           "y": 1.909285707914044,
           "z": 0.848922592934981
          },
          "projection": {
           "type": "perspective"
          },
          "up": {
           "x": 0,
           "y": 0,
           "z": 1
          }
         },
         "domain": {
          "x": [
           0,
           1
          ],
          "y": [
           0,
           1
          ]
         },
         "xaxis": {
          "title": {
           "text": "X1"
          },
          "type": "linear"
         },
         "yaxis": {
          "title": {
           "text": "X2"
          },
          "type": "linear"
         },
         "zaxis": {
          "title": {
           "text": "Y"
          },
          "type": "linear"
         }
        },
        "template": {
         "data": {
          "bar": [
           {
            "error_x": {
             "color": "#2a3f5f"
            },
            "error_y": {
             "color": "#2a3f5f"
            },
            "marker": {
             "line": {
              "color": "#E5ECF6",
              "width": 0.5
             },
             "pattern": {
              "fillmode": "overlay",
              "size": 10,
              "solidity": 0.2
             }
            },
            "type": "bar"
           }
          ],
          "barpolar": [
           {
            "marker": {
             "line": {
              "color": "#E5ECF6",
              "width": 0.5
             },
             "pattern": {
              "fillmode": "overlay",
              "size": 10,
              "solidity": 0.2
             }
            },
            "type": "barpolar"
           }
          ],
          "carpet": [
           {
            "aaxis": {
             "endlinecolor": "#2a3f5f",
             "gridcolor": "white",
             "linecolor": "white",
             "minorgridcolor": "white",
             "startlinecolor": "#2a3f5f"
            },
            "baxis": {
             "endlinecolor": "#2a3f5f",
             "gridcolor": "white",
             "linecolor": "white",
             "minorgridcolor": "white",
             "startlinecolor": "#2a3f5f"
            },
            "type": "carpet"
           }
          ],
          "choropleth": [
           {
            "colorbar": {
             "outlinewidth": 0,
             "ticks": ""
            },
            "type": "choropleth"
           }
          ],
          "contour": [
           {
            "colorbar": {
             "outlinewidth": 0,
             "ticks": ""
            },
            "colorscale": [
             [
              0,
              "#0d0887"
             ],
             [
              0.1111111111111111,
              "#46039f"
             ],
             [
              0.2222222222222222,
              "#7201a8"
             ],
             [
              0.3333333333333333,
              "#9c179e"
             ],
             [
              0.4444444444444444,
              "#bd3786"
             ],
             [
              0.5555555555555556,
              "#d8576b"
             ],
             [
              0.6666666666666666,
              "#ed7953"
             ],
             [
              0.7777777777777778,
              "#fb9f3a"
             ],
             [
              0.8888888888888888,
              "#fdca26"
             ],
             [
              1,
              "#f0f921"
             ]
            ],
            "type": "contour"
           }
          ],
          "contourcarpet": [
           {
            "colorbar": {
             "outlinewidth": 0,
             "ticks": ""
            },
            "type": "contourcarpet"
           }
          ],
          "heatmap": [
           {
            "colorbar": {
             "outlinewidth": 0,
             "ticks": ""
            },
            "colorscale": [
             [
              0,
              "#0d0887"
             ],
             [
              0.1111111111111111,
              "#46039f"
             ],
             [
              0.2222222222222222,
              "#7201a8"
             ],
             [
              0.3333333333333333,
              "#9c179e"
             ],
             [
              0.4444444444444444,
              "#bd3786"
             ],
             [
              0.5555555555555556,
              "#d8576b"
             ],
             [
              0.6666666666666666,
              "#ed7953"
             ],
             [
              0.7777777777777778,
              "#fb9f3a"
             ],
             [
              0.8888888888888888,
              "#fdca26"
             ],
             [
              1,
              "#f0f921"
             ]
            ],
            "type": "heatmap"
           }
          ],
          "heatmapgl": [
           {
            "colorbar": {
             "outlinewidth": 0,
             "ticks": ""
            },
            "colorscale": [
             [
              0,
              "#0d0887"
             ],
             [
              0.1111111111111111,
              "#46039f"
             ],
             [
              0.2222222222222222,
              "#7201a8"
             ],
             [
              0.3333333333333333,
              "#9c179e"
             ],
             [
              0.4444444444444444,
              "#bd3786"
             ],
             [
              0.5555555555555556,
              "#d8576b"
             ],
             [
              0.6666666666666666,
              "#ed7953"
             ],
             [
              0.7777777777777778,
              "#fb9f3a"
             ],
             [
              0.8888888888888888,
              "#fdca26"
             ],
             [
              1,
              "#f0f921"
             ]
            ],
            "type": "heatmapgl"
           }
          ],
          "histogram": [
           {
            "marker": {
             "pattern": {
              "fillmode": "overlay",
              "size": 10,
              "solidity": 0.2
             }
            },
            "type": "histogram"
           }
          ],
          "histogram2d": [
           {
            "colorbar": {
             "outlinewidth": 0,
             "ticks": ""
            },
            "colorscale": [
             [
              0,
              "#0d0887"
             ],
             [
              0.1111111111111111,
              "#46039f"
             ],
             [
              0.2222222222222222,
              "#7201a8"
             ],
             [
              0.3333333333333333,
              "#9c179e"
             ],
             [
              0.4444444444444444,
              "#bd3786"
             ],
             [
              0.5555555555555556,
              "#d8576b"
             ],
             [
              0.6666666666666666,
              "#ed7953"
             ],
             [
              0.7777777777777778,
              "#fb9f3a"
             ],
             [
              0.8888888888888888,
              "#fdca26"
             ],
             [
              1,
              "#f0f921"
             ]
            ],
            "type": "histogram2d"
           }
          ],
          "histogram2dcontour": [
           {
            "colorbar": {
             "outlinewidth": 0,
             "ticks": ""
            },
            "colorscale": [
             [
              0,
              "#0d0887"
             ],
             [
              0.1111111111111111,
              "#46039f"
             ],
             [
              0.2222222222222222,
              "#7201a8"
             ],
             [
              0.3333333333333333,
              "#9c179e"
             ],
             [
              0.4444444444444444,
              "#bd3786"
             ],
             [
              0.5555555555555556,
              "#d8576b"
             ],
             [
              0.6666666666666666,
              "#ed7953"
             ],
             [
              0.7777777777777778,
              "#fb9f3a"
             ],
             [
              0.8888888888888888,
              "#fdca26"
             ],
             [
              1,
              "#f0f921"
             ]
            ],
            "type": "histogram2dcontour"
           }
          ],
          "mesh3d": [
           {
            "colorbar": {
             "outlinewidth": 0,
             "ticks": ""
            },
            "type": "mesh3d"
           }
          ],
          "parcoords": [
           {
            "line": {
             "colorbar": {
              "outlinewidth": 0,
              "ticks": ""
             }
            },
            "type": "parcoords"
           }
          ],
          "pie": [
           {
            "automargin": true,
            "type": "pie"
           }
          ],
          "scatter": [
           {
            "fillpattern": {
             "fillmode": "overlay",
             "size": 10,
             "solidity": 0.2
            },
            "type": "scatter"
           }
          ],
          "scatter3d": [
           {
            "line": {
             "colorbar": {
              "outlinewidth": 0,
              "ticks": ""
             }
            },
            "marker": {
             "colorbar": {
              "outlinewidth": 0,
              "ticks": ""
             }
            },
            "type": "scatter3d"
           }
          ],
          "scattercarpet": [
           {
            "marker": {
             "colorbar": {
              "outlinewidth": 0,
              "ticks": ""
             }
            },
            "type": "scattercarpet"
           }
          ],
          "scattergeo": [
           {
            "marker": {
             "colorbar": {
              "outlinewidth": 0,
              "ticks": ""
             }
            },
            "type": "scattergeo"
           }
          ],
          "scattergl": [
           {
            "marker": {
             "colorbar": {
              "outlinewidth": 0,
              "ticks": ""
             }
            },
            "type": "scattergl"
           }
          ],
          "scattermapbox": [
           {
            "marker": {
             "colorbar": {
              "outlinewidth": 0,
              "ticks": ""
             }
            },
            "type": "scattermapbox"
           }
          ],
          "scatterpolar": [
           {
            "marker": {
             "colorbar": {
              "outlinewidth": 0,
              "ticks": ""
             }
            },
            "type": "scatterpolar"
           }
          ],
          "scatterpolargl": [
           {
            "marker": {
             "colorbar": {
              "outlinewidth": 0,
              "ticks": ""
             }
            },
            "type": "scatterpolargl"
           }
          ],
          "scatterternary": [
           {
            "marker": {
             "colorbar": {
              "outlinewidth": 0,
              "ticks": ""
             }
            },
            "type": "scatterternary"
           }
          ],
          "surface": [
           {
            "colorbar": {
             "outlinewidth": 0,
             "ticks": ""
            },
            "colorscale": [
             [
              0,
              "#0d0887"
             ],
             [
              0.1111111111111111,
              "#46039f"
             ],
             [
              0.2222222222222222,
              "#7201a8"
             ],
             [
              0.3333333333333333,
              "#9c179e"
             ],
             [
              0.4444444444444444,
              "#bd3786"
             ],
             [
              0.5555555555555556,
              "#d8576b"
             ],
             [
              0.6666666666666666,
              "#ed7953"
             ],
             [
              0.7777777777777778,
              "#fb9f3a"
             ],
             [
              0.8888888888888888,
              "#fdca26"
             ],
             [
              1,
              "#f0f921"
             ]
            ],
            "type": "surface"
           }
          ],
          "table": [
           {
            "cells": {
             "fill": {
              "color": "#EBF0F8"
             },
             "line": {
              "color": "white"
             }
            },
            "header": {
             "fill": {
              "color": "#C8D4E3"
             },
             "line": {
              "color": "white"
             }
            },
            "type": "table"
           }
          ]
         },
         "layout": {
          "annotationdefaults": {
           "arrowcolor": "#2a3f5f",
           "arrowhead": 0,
           "arrowwidth": 1
          },
          "autotypenumbers": "strict",
          "coloraxis": {
           "colorbar": {
            "outlinewidth": 0,
            "ticks": ""
           }
          },
          "colorscale": {
           "diverging": [
            [
             0,
             "#8e0152"
            ],
            [
             0.1,
             "#c51b7d"
            ],
            [
             0.2,
             "#de77ae"
            ],
            [
             0.3,
             "#f1b6da"
            ],
            [
             0.4,
             "#fde0ef"
            ],
            [
             0.5,
             "#f7f7f7"
            ],
            [
             0.6,
             "#e6f5d0"
            ],
            [
             0.7,
             "#b8e186"
            ],
            [
             0.8,
             "#7fbc41"
            ],
            [
             0.9,
             "#4d9221"
            ],
            [
             1,
             "#276419"
            ]
           ],
           "sequential": [
            [
             0,
             "#0d0887"
            ],
            [
             0.1111111111111111,
             "#46039f"
            ],
            [
             0.2222222222222222,
             "#7201a8"
            ],
            [
             0.3333333333333333,
             "#9c179e"
            ],
            [
             0.4444444444444444,
             "#bd3786"
            ],
            [
             0.5555555555555556,
             "#d8576b"
            ],
            [
             0.6666666666666666,
             "#ed7953"
            ],
            [
             0.7777777777777778,
             "#fb9f3a"
            ],
            [
             0.8888888888888888,
             "#fdca26"
            ],
            [
             1,
             "#f0f921"
            ]
           ],
           "sequentialminus": [
            [
             0,
             "#0d0887"
            ],
            [
             0.1111111111111111,
             "#46039f"
            ],
            [
             0.2222222222222222,
             "#7201a8"
            ],
            [
             0.3333333333333333,
             "#9c179e"
            ],
            [
             0.4444444444444444,
             "#bd3786"
            ],
            [
             0.5555555555555556,
             "#d8576b"
            ],
            [
             0.6666666666666666,
             "#ed7953"
            ],
            [
             0.7777777777777778,
             "#fb9f3a"
            ],
            [
             0.8888888888888888,
             "#fdca26"
            ],
            [
             1,
             "#f0f921"
            ]
           ]
          },
          "colorway": [
           "#636efa",
           "#EF553B",
           "#00cc96",
           "#ab63fa",
           "#FFA15A",
           "#19d3f3",
           "#FF6692",
           "#B6E880",
           "#FF97FF",
           "#FECB52"
          ],
          "font": {
           "color": "#2a3f5f"
          },
          "geo": {
           "bgcolor": "white",
           "lakecolor": "white",
           "landcolor": "#E5ECF6",
           "showlakes": true,
           "showland": true,
           "subunitcolor": "white"
          },
          "hoverlabel": {
           "align": "left"
          },
          "hovermode": "closest",
          "mapbox": {
           "style": "light"
          },
          "paper_bgcolor": "white",
          "plot_bgcolor": "#E5ECF6",
          "polar": {
           "angularaxis": {
            "gridcolor": "white",
            "linecolor": "white",
            "ticks": ""
           },
           "bgcolor": "#E5ECF6",
           "radialaxis": {
            "gridcolor": "white",
            "linecolor": "white",
            "ticks": ""
           }
          },
          "scene": {
           "xaxis": {
            "backgroundcolor": "#E5ECF6",
            "gridcolor": "white",
            "gridwidth": 2,
            "linecolor": "white",
            "showbackground": true,
            "ticks": "",
            "zerolinecolor": "white"
           },
           "yaxis": {
            "backgroundcolor": "#E5ECF6",
            "gridcolor": "white",
            "gridwidth": 2,
            "linecolor": "white",
            "showbackground": true,
            "ticks": "",
            "zerolinecolor": "white"
           },
           "zaxis": {
            "backgroundcolor": "#E5ECF6",
            "gridcolor": "white",
            "gridwidth": 2,
            "linecolor": "white",
            "showbackground": true,
            "ticks": "",
            "zerolinecolor": "white"
           }
          },
          "shapedefaults": {
           "line": {
            "color": "#2a3f5f"
           }
          },
          "ternary": {
           "aaxis": {
            "gridcolor": "white",
            "linecolor": "white",
            "ticks": ""
           },
           "baxis": {
            "gridcolor": "white",
            "linecolor": "white",
            "ticks": ""
           },
           "bgcolor": "#E5ECF6",
           "caxis": {
            "gridcolor": "white",
            "linecolor": "white",
            "ticks": ""
           }
          },
          "title": {
           "x": 0.05
          },
          "xaxis": {
           "automargin": true,
           "gridcolor": "white",
           "linecolor": "white",
           "ticks": "",
           "title": {
            "standoff": 15
           },
           "zerolinecolor": "white",
           "zerolinewidth": 2
          },
          "yaxis": {
           "automargin": true,
           "gridcolor": "white",
           "linecolor": "white",
           "ticks": "",
           "title": {
            "standoff": 15
           },
           "zerolinecolor": "white",
           "zerolinewidth": 2
          }
         }
        }
       }
      },
      "image/png": "[encoded data removed]",
      "text/html": [
       "<div>                            <div id=\"d2d04f2f-e2e3-419e-909a-4bbfb5c81def\" class=\"plotly-graph-div\" style=\"height:525px; width:100%;\"></div>            <script type=\"text/javascript\">                require([\"plotly\"], function(Plotly) {                    window.PLOTLYENV=window.PLOTLYENV || {};                                    if (document.getElementById(\"d2d04f2f-e2e3-419e-909a-4bbfb5c81def\")) {                    Plotly.newPlot(                        \"d2d04f2f-e2e3-419e-909a-4bbfb5c81def\",                        [{\"hovertemplate\":\"x=%{x}\\u003cbr\\u003ey=%{y}\\u003cbr\\u003ez=%{z}\\u003cextra\\u003e\\u003c\\u002fextra\\u003e\",\"legendgroup\":\"\",\"marker\":{\"color\":\"#636efa\",\"symbol\":\"circle\",\"size\":5},\"mode\":\"markers\",\"name\":\"\",\"scene\":\"scene\",\"showlegend\":false,\"x\":[0.12144165250060368,-0.4406561143069513,0.40568659480625413,0.3352800324704611,-0.006008820366989465,-0.37809859636583965,-0.18767304239980487,-0.3450876372062479,-0.07953959328648386,-0.17864769894518717,-0.30304593178486017,0.4501399197367657,-0.09182323121316782,0.38414198340494543,0.317719061484399,0.16434132792379996,-0.24129754301159878,0.23291374763568262,-0.15641851302448728,-0.27044124391824853,-0.2925919759737996,-0.28398885796119644,-0.49889635508824237,-0.1702518334031221,0.2942525118255873,0.18716761056407172,-0.399274866591396,0.2630299443377375,0.29493948041050155,-0.011266039995979304,-0.15365622672510082,-0.4459392822494592,-0.03493903171952617,0.017697614259304606,-0.4713300648777866,0.005723036348394772,-0.4869228919826516,0.4440603488393936,-0.16880020921800254,-0.11645938167655745,0.06066607981731165,0.025087198459898374,-0.31134511446619206,0.061615886618530236,-0.3947016027588709,0.4461362475707079,-0.20571446167149632,-0.10081651228792343,0.25351834746713653,-0.31417113041024725,-0.33086675554864564,0.3124706220439699,0.2627436167671665,-0.3325638415370902,-0.19512229932011182,0.21606812241632423,-0.21517913070135108,-0.2274880517205944,-0.15905919688576398,0.054098183804342725,-0.07618807007662654,0.3504986505297286,-0.32810354753674087,0.10935039607609187,0.47858901399125553,-0.322913029166245,-0.38480926559051964,0.22869022787217885,0.2775246500288714,0.31429272882011927,-0.3319308295479191,-0.39436191613230265,0.43771282656757105,-0.13240242109409717,-0.004854257498698833,-0.1298651665315057,-0.07196115243412926,0.3133158962878151,-0.385057266155474,-0.12516858794553465,-0.27057726171895036,-0.26060192971347607,0.38338279943394116,0.02984912636418824,-0.4367627438108651,-0.12092005562076336,0.49976002817362397,0.43589218562365883,-0.3392891084552928,-0.39338718646228243,-0.04447225403884325,-0.11907195249127467,0.2438385969540674,0.4867617505466162,-0.43233486854362424,-0.41148205224270684,0.14343071813044805,-0.03898245666331657,-0.28505215372983017,0.3131629323008023,0.07345013913364418,-0.224690277814111,0.4986169134310079,0.06332507045634317,0.143851982313147,0.28522856161711885,0.3137562833067036,-0.383343689924767,0.3325113768324942,0.30085935747474646,-0.08577300604953708,-0.09516031690445848,-0.026103869154075587,0.4746425445885625,0.2374841826025873,-0.2653185398128667,0.14586879820560628,-0.11123796331362656,-0.4043552365340941,-0.48297274298064463,-0.42263074069852014,-0.247786328863686,-0.49895937328467743,-0.24767366430485238,-0.13272382671823402,0.3406503945187752,0.4459556686854118,0.37597721765618286,-0.28884285763616835,0.4025085894709869,-0.45270046838924793,-0.3941085434241286,0.35482746450500646,0.4703525268702994,0.4642003270284497,-0.2520387137954623,-0.2778725732551589,-0.11060732275278728,-0.4095404032900266,-0.06886813949486903,-0.1532463717326653,0.3106888468104435,-0.30718036019056294,-0.3457769211196783,0.27822003139995655,0.23621770419309518,0.218012955140634,0.44499247048322643,-0.37615474664540416,-0.09846341725953234,0.20770743191087104,-0.00977771755538892,-0.3966675191774556,0.3832841111655535,-0.2653416354836755,0.33094625203544414,0.05791779417096299,0.306513031484717,-0.3436514565278347,0.26004242919409226,0.24472560911979457,-0.20893267941698557,-0.21774339725340397,-0.2669292141360541,-0.028983408964611046,0.3329288855687357,0.17886720469418482,0.453229695461146,0.22667669599914764,-0.3289969638298271,0.39943773346644285,-0.25053451970920027,0.45329571005484004,0.2302545414096845,-0.47523604462969027,-0.09956522276878832,-0.050252450783962455,0.18245334384662215,-0.1389410760955324,-0.018730512781476083,0.2320422828907892,-0.03463384423970062,0.07558185602890655,-0.37185417596497417,-0.2853002949794917,0.3522991548881017,0.17447504136990266,-0.11759727551857613,0.4786774217697257,-0.28640185395101847,0.2221031869888983,0.012544492455436318,0.04464284672547214,-0.47138066782518273,-0.18082467039533612,0.4046870464873522,0.35341025656593006,0.004693736842030227,-0.0879850403176371,0.334477168993767],\"y\":[-0.004456177847255938,-0.238382933849711,-0.11166165687437368,-0.12793652870918337,-0.12591052911831946,0.08345440354327471,-0.18269731675088163,0.39699257190128734,-0.33549558415757974,-0.4603681411207635,0.23952141990151288,0.22519552452492464,0.3819453119278987,-0.3144504853618616,0.49824217743717525,0.3077342937625719,0.29170320458282584,-0.15515330632407076,-0.12145354485654825,0.1678887723347945,-0.05116145458836319,-0.4535720759181593,-0.420068914612009,-0.32880876071040865,-0.48989532399474545,-0.16436844371824844,0.1645834135548897,-0.48418752857662417,0.17328464324689652,0.4587099833945756,-0.020677768621120696,-0.09181131558301814,0.10647093687964371,-0.08540618335262884,0.17741967652373425,0.4133915220740647,-0.34950164060268074,-0.12809667814910897,0.13022775330721126,0.062260620462379346,0.1905795910975181,-0.037648190544751436,0.4671353161928504,0.3818282358264341,0.1735181667568345,0.11105535299383362,-0.3875666129162152,-0.29180635588090686,-0.029947734167564244,0.19093103806699785,-0.42536248938219434,-0.43819493034175283,0.43751872101875,0.1320860530839707,0.21841666031835227,0.11409441627913108,-0.3744515443034221,-0.35022006782791715,0.27211781938434887,-0.11068124280908809,0.28653698261932303,0.16985874146172986,0.14872284260441937,-0.1483194942770264,-0.07003706053415892,-0.3404541982568021,0.14313115045137126,0.3198354197740291,-0.38212283418851567,-0.35938701163706843,0.0905100079399731,-0.47662339052852776,-0.34221538497809845,0.16632189767105443,0.018959698828485028,0.0849689943064037,-0.1671806536070547,0.3118878584221825,-0.48219942134858385,0.32203059047395644,0.23208500201346627,-0.22993685582784296,-0.14614335632525777,-0.10031984540414973,0.11201525079679786,-0.25122140566545936,-0.11005232098510809,0.3972644008879094,0.15626802766825332,0.4817976522504953,-0.1333417328181109,-0.38379510314925636,-0.4317968200398381,-0.28626323773392015,-0.06931126035566992,0.23134175415714364,-0.4669889813831575,-0.048859897238417216,-0.3684997853464469,-0.06717667461046106,-0.3799438231775174,0.39486180325804,0.00385810740666348,-0.4099109892439161,-0.1133433409381489,-0.48161446745387837,-0.49547501976711705,-0.23502404756361805,0.08769684060697958,0.17869582625364488,-0.2936210034286253,-0.39038120497231343,-0.4194470905999622,-0.22579748455612947,0.01463347642141477,0.056583509557364575,0.3122004621745569,-0.23083186314575033,0.3047573275217462,0.18786787196774968,0.06286086436304494,-0.13213963303746734,-0.36945226858696745,-0.1951777987087604,0.43363009080819115,0.06386432282734888,0.2899162988912426,0.36663621118833,0.11039093866433158,-0.10215221202885616,0.42973041186337224,-0.18505762319978913,-0.013705588186292972,0.32819012212096577,-0.021763054920811542,0.2198053596670152,0.4569309485090046,-0.05035617027249917,-0.4916962733884751,-0.05796413878682183,0.33220693109255506,0.38764391523530495,-0.4148433553570978,0.30529928745440005,-0.40854319546252416,0.35814077867880223,0.1893254058649776,0.1843474360856172,-0.48305145846380515,-0.49930401557882753,0.2720698438303839,-0.3673201186330268,-0.46690102703966374,0.31870856298958594,-0.28164443227107294,0.14887037182143548,-0.22606803570799971,0.41583671846315384,-0.3554963316466242,-0.42049037767664965,-0.11377392074851267,0.2999620953234339,0.18331276318894862,0.4931505977255275,-0.04380381812577128,0.2298153907307876,-0.1733856397942658,-0.1428658727961163,0.45628172474220996,-0.07871267080749467,0.13465059674692637,0.2765488581988492,0.2375844760692647,-0.027539183547012125,-0.3882287971883416,0.03834236774271538,0.3105584754823789,0.49108841523676006,0.1622996376095217,-0.3986538517345606,0.4518368384997352,0.2974001761938997,0.11269558460201912,0.08365560832753682,0.2627476487640791,-0.12253873810429872,0.1286915528790109,0.277004981369239,0.3907913686448313,-0.004380623594082311,-0.4860873996941214,-0.03858702488299548,0.43197856942661306,-0.30486394999464195,-0.41026576701345874,-0.2692629257698059,0.13566721434835416,0.006408090427834079,0.37359253978335427,-0.06863360290016518],\"z\":[4.683373712351318,3.180491540751335,5.709014195534567,5.437583318152146,4.797086358499743,5.364659576583001,3.8422975348980546,5.738885727893201,4.303278245260008,3.155101811504448,5.171004424890052,7.118393237983449,5.616118941477606,5.5026043518476255,7.346430736921712,5.871382995184278,5.6688986163737365,4.280093397006368,4.480350561551515,5.096075065948993,4.556567981751605,2.9090776562740857,2.055439835062809,3.4761591139821,4.340295180822563,3.8826620028768,4.0887996194311675,3.665240273445738,6.738409656754615,6.003797975168533,4.276421335114032,3.562017253712563,4.55402715326334,5.0704060398109565,4.539881498819783,6.639624852050194,2.3108222576871507,6.00290724468414,5.93299300950885,4.594239206301839,5.778936735700045,5.0278456481239955,4.743988288628843,5.851833424476499,4.162801508749898,7.304646427682947,4.199610000378271,4.025766675461632,5.6291349273826015,4.42109667135762,2.8889431037977724,4.502382965467118,6.954841792183532,4.791294360441535,4.819410849428133,6.076263639783676,2.588650363364638,3.7956332989689052,5.379009934566962,4.5434553462037455,5.866576256047092,5.518762555505934,4.892404962279632,5.121537741538224,6.006368381471785,3.168997945926886,5.127989316467126,6.057479591330454,4.731089173314792,4.620967894286614,4.495124553326117,2.9696806539447755,3.9882024688855804,5.3763416189504385,5.070608777530892,4.846149875254769,4.097232743806008,6.065937563576713,3.259777331980728,6.446573430302509,4.3220679299138185,3.198241813815712,5.581876333861925,4.810989689382754,4.072718862437314,4.563892349181242,5.471362444346371,7.044003148899616,4.241752175984812,6.218379590106508,4.275490689569351,3.7458248216803627,4.673804903427145,4.888421156651512,3.89492301283608,4.547704867309914,3.862946578231851,4.914911997816569,3.3529374984640223,5.332908006203062,3.972284869013489,5.527304410922899,6.851509533509448,4.328338543938746,5.121589626292236,4.946674612836384,4.324929996591347,3.867623263096765,4.940190789770257,5.813145395194267,4.030118622558581,3.7692187767685876,3.9501266958095504,5.871202708054582,6.365031048699112,5.163640844956605,6.334480514121441,4.128877849145956,4.851721885347027,4.569076555653638,4.2927782380610795,3.831241760945251,2.65396429910654,3.803710661179159,6.217445349059043,5.879999407044472,7.054662218361633,6.5374707098240235,4.421891499342739,6.219118239591237,5.164564415039339,3.896306911457385,5.764922259799855,7.352198167357331,6.267306232418046,5.456508347317038,5.940081478700414,4.826246939675978,2.415259007561433,4.945445181679294,6.610193256749017,5.557574629719367,2.3099554049943967,5.968212750443499,4.217615143964579,7.549775844112759,6.147919358735879,6.463663298131148,3.0366204587260146,4.330152940826724,6.240805171653509,4.065780740551786,2.2622396848167137,6.037111546984512,3.015684451026322,6.4297974569370595,4.778666631596106,7.5565384015826575,3.268814918984846,4.274292890524574,4.8548414079132405,5.134892458270257,5.046671544228387,7.222944867021398,4.990318543313125,6.389464246665091,4.697752499974743,6.396832357971726,6.340531814337305,3.1041102154341607,6.239077307093582,4.985320759384258,6.693684790269761,5.588731386340266,2.5707061067959063,5.252051322317039,6.133717880457706,7.230766827613687,5.292346620608453,3.953738544884101,6.499655754558959,5.947379058617902,5.418903216724425,2.9720091600516882,4.8243240905163285,5.222519329957726,5.4199313535169225,5.557842334169925,6.719870213296704,4.178338275420072,4.378650672576521,6.009562636654625,6.719734408975944,4.389086905276711,3.4227700420840645,5.04892700659071,7.425832947047588,5.426052303067561,5.738043584609221,5.400980934775373],\"type\":\"scatter3d\"}],                        {\"template\":{\"data\":{\"histogram2dcontour\":[{\"type\":\"histogram2dcontour\",\"colorbar\":{\"outlinewidth\":0,\"ticks\":\"\"},\"colorscale\":[[0.0,\"#0d0887\"],[0.1111111111111111,\"#46039f\"],[0.2222222222222222,\"#7201a8\"],[0.3333333333333333,\"#9c179e\"],[0.4444444444444444,\"#bd3786\"],[0.5555555555555556,\"#d8576b\"],[0.6666666666666666,\"#ed7953\"],[0.7777777777777778,\"#fb9f3a\"],[0.8888888888888888,\"#fdca26\"],[1.0,\"#f0f921\"]]}],\"choropleth\":[{\"type\":\"choropleth\",\"colorbar\":{\"outlinewidth\":0,\"ticks\":\"\"}}],\"histogram2d\":[{\"type\":\"histogram2d\",\"colorbar\":{\"outlinewidth\":0,\"ticks\":\"\"},\"colorscale\":[[0.0,\"#0d0887\"],[0.1111111111111111,\"#46039f\"],[0.2222222222222222,\"#7201a8\"],[0.3333333333333333,\"#9c179e\"],[0.4444444444444444,\"#bd3786\"],[0.5555555555555556,\"#d8576b\"],[0.6666666666666666,\"#ed7953\"],[0.7777777777777778,\"#fb9f3a\"],[0.8888888888888888,\"#fdca26\"],[1.0,\"#f0f921\"]]}],\"heatmap\":[{\"type\":\"heatmap\",\"colorbar\":{\"outlinewidth\":0,\"ticks\":\"\"},\"colorscale\":[[0.0,\"#0d0887\"],[0.1111111111111111,\"#46039f\"],[0.2222222222222222,\"#7201a8\"],[0.3333333333333333,\"#9c179e\"],[0.4444444444444444,\"#bd3786\"],[0.5555555555555556,\"#d8576b\"],[0.6666666666666666,\"#ed7953\"],[0.7777777777777778,\"#fb9f3a\"],[0.8888888888888888,\"#fdca26\"],[1.0,\"#f0f921\"]]}],\"heatmapgl\":[{\"type\":\"heatmapgl\",\"colorbar\":{\"outlinewidth\":0,\"ticks\":\"\"},\"colorscale\":[[0.0,\"#0d0887\"],[0.1111111111111111,\"#46039f\"],[0.2222222222222222,\"#7201a8\"],[0.3333333333333333,\"#9c179e\"],[0.4444444444444444,\"#bd3786\"],[0.5555555555555556,\"#d8576b\"],[0.6666666666666666,\"#ed7953\"],[0.7777777777777778,\"#fb9f3a\"],[0.8888888888888888,\"#fdca26\"],[1.0,\"#f0f921\"]]}],\"contourcarpet\":[{\"type\":\"contourcarpet\",\"colorbar\":{\"outlinewidth\":0,\"ticks\":\"\"}}],\"contour\":[{\"type\":\"contour\",\"colorbar\":{\"outlinewidth\":0,\"ticks\":\"\"},\"colorscale\":[[0.0,\"#0d0887\"],[0.1111111111111111,\"#46039f\"],[0.2222222222222222,\"#7201a8\"],[0.3333333333333333,\"#9c179e\"],[0.4444444444444444,\"#bd3786\"],[0.5555555555555556,\"#d8576b\"],[0.6666666666666666,\"#ed7953\"],[0.7777777777777778,\"#fb9f3a\"],[0.8888888888888888,\"#fdca26\"],[1.0,\"#f0f921\"]]}],\"surface\":[{\"type\":\"surface\",\"colorbar\":{\"outlinewidth\":0,\"ticks\":\"\"},\"colorscale\":[[0.0,\"#0d0887\"],[0.1111111111111111,\"#46039f\"],[0.2222222222222222,\"#7201a8\"],[0.3333333333333333,\"#9c179e\"],[0.4444444444444444,\"#bd3786\"],[0.5555555555555556,\"#d8576b\"],[0.6666666666666666,\"#ed7953\"],[0.7777777777777778,\"#fb9f3a\"],[0.8888888888888888,\"#fdca26\"],[1.0,\"#f0f921\"]]}],\"mesh3d\":[{\"type\":\"mesh3d\",\"colorbar\":{\"outlinewidth\":0,\"ticks\":\"\"}}],\"scatter\":[{\"fillpattern\":{\"fillmode\":\"overlay\",\"size\":10,\"solidity\":0.2},\"type\":\"scatter\"}],\"parcoords\":[{\"type\":\"parcoords\",\"line\":{\"colorbar\":{\"outlinewidth\":0,\"ticks\":\"\"}}}],\"scatterpolargl\":[{\"type\":\"scatterpolargl\",\"marker\":{\"colorbar\":{\"outlinewidth\":0,\"ticks\":\"\"}}}],\"bar\":[{\"error_x\":{\"color\":\"#2a3f5f\"},\"error_y\":{\"color\":\"#2a3f5f\"},\"marker\":{\"line\":{\"color\":\"#E5ECF6\",\"width\":0.5},\"pattern\":{\"fillmode\":\"overlay\",\"size\":10,\"solidity\":0.2}},\"type\":\"bar\"}],\"scattergeo\":[{\"type\":\"scattergeo\",\"marker\":{\"colorbar\":{\"outlinewidth\":0,\"ticks\":\"\"}}}],\"scatterpolar\":[{\"type\":\"scatterpolar\",\"marker\":{\"colorbar\":{\"outlinewidth\":0,\"ticks\":\"\"}}}],\"histogram\":[{\"marker\":{\"pattern\":{\"fillmode\":\"overlay\",\"size\":10,\"solidity\":0.2}},\"type\":\"histogram\"}],\"scattergl\":[{\"type\":\"scattergl\",\"marker\":{\"colorbar\":{\"outlinewidth\":0,\"ticks\":\"\"}}}],\"scatter3d\":[{\"type\":\"scatter3d\",\"line\":{\"colorbar\":{\"outlinewidth\":0,\"ticks\":\"\"}},\"marker\":{\"colorbar\":{\"outlinewidth\":0,\"ticks\":\"\"}}}],\"scattermapbox\":[{\"type\":\"scattermapbox\",\"marker\":{\"colorbar\":{\"outlinewidth\":0,\"ticks\":\"\"}}}],\"scatterternary\":[{\"type\":\"scatterternary\",\"marker\":{\"colorbar\":{\"outlinewidth\":0,\"ticks\":\"\"}}}],\"scattercarpet\":[{\"type\":\"scattercarpet\",\"marker\":{\"colorbar\":{\"outlinewidth\":0,\"ticks\":\"\"}}}],\"carpet\":[{\"aaxis\":{\"endlinecolor\":\"#2a3f5f\",\"gridcolor\":\"white\",\"linecolor\":\"white\",\"minorgridcolor\":\"white\",\"startlinecolor\":\"#2a3f5f\"},\"baxis\":{\"endlinecolor\":\"#2a3f5f\",\"gridcolor\":\"white\",\"linecolor\":\"white\",\"minorgridcolor\":\"white\",\"startlinecolor\":\"#2a3f5f\"},\"type\":\"carpet\"}],\"table\":[{\"cells\":{\"fill\":{\"color\":\"#EBF0F8\"},\"line\":{\"color\":\"white\"}},\"header\":{\"fill\":{\"color\":\"#C8D4E3\"},\"line\":{\"color\":\"white\"}},\"type\":\"table\"}],\"barpolar\":[{\"marker\":{\"line\":{\"color\":\"#E5ECF6\",\"width\":0.5},\"pattern\":{\"fillmode\":\"overlay\",\"size\":10,\"solidity\":0.2}},\"type\":\"barpolar\"}],\"pie\":[{\"automargin\":true,\"type\":\"pie\"}]},\"layout\":{\"autotypenumbers\":\"strict\",\"colorway\":[\"#636efa\",\"#EF553B\",\"#00cc96\",\"#ab63fa\",\"#FFA15A\",\"#19d3f3\",\"#FF6692\",\"#B6E880\",\"#FF97FF\",\"#FECB52\"],\"font\":{\"color\":\"#2a3f5f\"},\"hovermode\":\"closest\",\"hoverlabel\":{\"align\":\"left\"},\"paper_bgcolor\":\"white\",\"plot_bgcolor\":\"#E5ECF6\",\"polar\":{\"bgcolor\":\"#E5ECF6\",\"angularaxis\":{\"gridcolor\":\"white\",\"linecolor\":\"white\",\"ticks\":\"\"},\"radialaxis\":{\"gridcolor\":\"white\",\"linecolor\":\"white\",\"ticks\":\"\"}},\"ternary\":{\"bgcolor\":\"#E5ECF6\",\"aaxis\":{\"gridcolor\":\"white\",\"linecolor\":\"white\",\"ticks\":\"\"},\"baxis\":{\"gridcolor\":\"white\",\"linecolor\":\"white\",\"ticks\":\"\"},\"caxis\":{\"gridcolor\":\"white\",\"linecolor\":\"white\",\"ticks\":\"\"}},\"coloraxis\":{\"colorbar\":{\"outlinewidth\":0,\"ticks\":\"\"}},\"colorscale\":{\"sequential\":[[0.0,\"#0d0887\"],[0.1111111111111111,\"#46039f\"],[0.2222222222222222,\"#7201a8\"],[0.3333333333333333,\"#9c179e\"],[0.4444444444444444,\"#bd3786\"],[0.5555555555555556,\"#d8576b\"],[0.6666666666666666,\"#ed7953\"],[0.7777777777777778,\"#fb9f3a\"],[0.8888888888888888,\"#fdca26\"],[1.0,\"#f0f921\"]],\"sequentialminus\":[[0.0,\"#0d0887\"],[0.1111111111111111,\"#46039f\"],[0.2222222222222222,\"#7201a8\"],[0.3333333333333333,\"#9c179e\"],[0.4444444444444444,\"#bd3786\"],[0.5555555555555556,\"#d8576b\"],[0.6666666666666666,\"#ed7953\"],[0.7777777777777778,\"#fb9f3a\"],[0.8888888888888888,\"#fdca26\"],[1.0,\"#f0f921\"]],\"diverging\":[[0,\"#8e0152\"],[0.1,\"#c51b7d\"],[0.2,\"#de77ae\"],[0.3,\"#f1b6da\"],[0.4,\"#fde0ef\"],[0.5,\"#f7f7f7\"],[0.6,\"#e6f5d0\"],[0.7,\"#b8e186\"],[0.8,\"#7fbc41\"],[0.9,\"#4d9221\"],[1,\"#276419\"]]},\"xaxis\":{\"gridcolor\":\"white\",\"linecolor\":\"white\",\"ticks\":\"\",\"title\":{\"standoff\":15},\"zerolinecolor\":\"white\",\"automargin\":true,\"zerolinewidth\":2},\"yaxis\":{\"gridcolor\":\"white\",\"linecolor\":\"white\",\"ticks\":\"\",\"title\":{\"standoff\":15},\"zerolinecolor\":\"white\",\"automargin\":true,\"zerolinewidth\":2},\"scene\":{\"xaxis\":{\"backgroundcolor\":\"#E5ECF6\",\"gridcolor\":\"white\",\"linecolor\":\"white\",\"showbackground\":true,\"ticks\":\"\",\"zerolinecolor\":\"white\",\"gridwidth\":2},\"yaxis\":{\"backgroundcolor\":\"#E5ECF6\",\"gridcolor\":\"white\",\"linecolor\":\"white\",\"showbackground\":true,\"ticks\":\"\",\"zerolinecolor\":\"white\",\"gridwidth\":2},\"zaxis\":{\"backgroundcolor\":\"#E5ECF6\",\"gridcolor\":\"white\",\"linecolor\":\"white\",\"showbackground\":true,\"ticks\":\"\",\"zerolinecolor\":\"white\",\"gridwidth\":2}},\"shapedefaults\":{\"line\":{\"color\":\"#2a3f5f\"}},\"annotationdefaults\":{\"arrowcolor\":\"#2a3f5f\",\"arrowhead\":0,\"arrowwidth\":1},\"geo\":{\"bgcolor\":\"white\",\"landcolor\":\"#E5ECF6\",\"subunitcolor\":\"white\",\"showland\":true,\"showlakes\":true,\"lakecolor\":\"white\"},\"title\":{\"x\":0.05},\"mapbox\":{\"style\":\"light\"}}},\"scene\":{\"domain\":{\"x\":[0.0,1.0],\"y\":[0.0,1.0]},\"xaxis\":{\"title\":{\"text\":\"X1\"}},\"yaxis\":{\"title\":{\"text\":\"X2\"}},\"zaxis\":{\"title\":{\"text\":\"Y\"}}},\"legend\":{\"tracegroupgap\":0},\"margin\":{\"t\":0,\"l\":0,\"r\":0,\"b\":0}},                        {\"responsive\": true}                    ).then(function(){\n",
       "                            \n",
       "var gd = document.getElementById('d2d04f2f-e2e3-419e-909a-4bbfb5c81def');\n",
       "var x = new MutationObserver(function (mutations, observer) {{\n",
       "        var display = window.getComputedStyle(gd).display;\n",
       "        if (!display || display === 'none') {{\n",
       "            console.log([gd, 'removed!']);\n",
       "            Plotly.purge(gd);\n",
       "            observer.disconnect();\n",
       "        }}\n",
       "}});\n",
       "\n",
       "// Listen for the removal of the full notebook cells\n",
       "var notebookContainer = gd.closest('#notebook-container');\n",
       "if (notebookContainer) {{\n",
       "    x.observe(notebookContainer, {childList: true});\n",
       "}}\n",
       "\n",
       "// Listen for the clearing of the current output cell\n",
       "var outputEl = gd.closest('.output');\n",
       "if (outputEl) {{\n",
       "    x.observe(outputEl, {childList: true});\n",
       "}}\n",
       "\n",
       "                        })                };                });            </script>        </div>"
      ]
     },
     "metadata": {},
     "output_type": "display_data"
    }
   ],
   "source": [
    "import plotly.express as px\n",
    "import plotly.graph_objects as go\n",
    "\n",
    "fig = px.scatter_3d(x=x1, y=x2, z=y)\n",
    "# set axis labels and dcrease marker size\n",
    "fig.update_layout(\n",
    "    scene = dict(\n",
    "        xaxis_title='X1',\n",
    "        yaxis_title='X2',\n",
    "        zaxis_title='Y'),\n",
    "        margin=dict(l=0, r=0, b=0, t=0\n",
    "    )\n",
    ")\n",
    "fig.update_traces(marker=dict(size=5))\n",
    "fig.show()"
   ]
  },
  {
   "cell_type": "markdown",
   "id": "f944b645-8b02-4b65-9760-8e0c24c5ac47",
   "metadata": {},
   "source": [
    "$$\n",
    "y = \\beta_0 + \\beta_1 x_1 + \\beta_2 x_2\n",
    "$$"
   ]
  },
  {
   "cell_type": "code",
   "execution_count": 16,
   "id": "0102349b-786f-4570-8d7d-7b999801d929",
   "metadata": {},
   "outputs": [
    {
     "data": {
      "application/vnd.jupyter.widget-view+json": {
       "model_id": "52d8f682b7974f69841955b173b52c72",
       "version_major": 2,
       "version_minor": 0
      },
      "text/plain": [
       "interactive(children=(FloatSlider(value=0.0, description='b0', max=10.0, min=-10.0, step=0.5), FloatSlider(val…"
      ]
     },
     "metadata": {},
     "output_type": "display_data"
    }
   ],
   "source": [
    "@interact(b0=(-10, 10, 0.5), b1=(-5, 5, 0.25), b2=(-5, 5, 0.25), residuals=False)\n",
    "\n",
    "def plot_regression(b0, b1, b2, residuals):\n",
    "    fig = px.scatter_3d(x=x1, y=x2, z=y)\n",
    "    fig.update_layout(\n",
    "        scene = dict(\n",
    "            xaxis_title='X1',\n",
    "            yaxis_title='X2',\n",
    "            zaxis_title='Y'),\n",
    "            margin=dict(l=0, r=0, b=0, t=0\n",
    "        )\n",
    "    )\n",
    "    fig.update_traces(marker=dict(size=5))\n",
    "    \n",
    "    x1_grid, x2_grid = np.meshgrid(np.linspace(-0.5, 0.5, 100), np.linspace(-0.5, 0.5, 100))\n",
    "    yhat = b0 + b1 * x1_grid + b2 * x2_grid\n",
    "    fig.add_trace(\n",
    "        go.Surface(x=x1_grid, y=x2_grid, z=yhat, opacity=0.5)\n",
    "    )\n",
    "    if residuals:\n",
    "        for i in range(len(x1)):\n",
    "            fig.add_trace(\n",
    "                go.Scatter3d(x=[x1[i], x1[i]], y=[x2[i], x2[i]], z=[b0 + b1*x1[i] + b2*x2[i], y[i]], mode='lines', line=dict(color='black', width=2))\n",
    "            )\n",
    "    fig.update_layout(showlegend=False, scene_camera=dict(eye=dict(x=2.0, y=0.5, z=0.1)))\n",
    "    fig.show()"
   ]
  },
  {
   "cell_type": "markdown",
   "id": "ccedb2a2",
   "metadata": {},
   "source": [
    "The line of best fit is given by the equation:\n",
    "\n",
    "$$\n",
    "\\hat{y} = \\hat{\\beta}_0 + \\hat{\\beta}_1 x_1 + \\hat{\\beta}_2 x_2 + \\dots + \\hat{\\beta}_p x_p\n",
    "$$\n",
    "\n",
    "where $\\hat{\\beta}_0, \\hat{\\beta}_1, \\hat{\\beta}_2, \\dots, \\hat{\\beta}_p$ are the estimated values of the intercept and slopes, and $\\hat{y}$ is the predicted value of $y$."
   ]
  },
  {
   "cell_type": "markdown",
   "id": "14dc81ac",
   "metadata": {},
   "source": [
    "> What is the best way to estimate the values of $\\beta_0$ and $\\beta_1$?"
   ]
  },
  {
   "cell_type": "markdown",
   "id": "31580189",
   "metadata": {},
   "source": [
    "Similar to the univariate regression model, the method of least squares is used to estimate the values of $\\beta_0, \\beta_1, \\dots, \\beta_p$ that minimize the sum of the squared differences between the observed and predicted values $\\hat y$, i.e.,\n",
    "\n",
    "$$\n",
    "\\text{Loss}(\\beta_0, \\beta_1, \\dots, \\beta_p) = \\sum_{i=1}^n (y_i - \\hat{y}_i)^2 = \\sum_{i=1}^n (y_i - \\beta_0 - \\beta_1 x_{i1} - \\beta_2 x_{i2} - \\dots - \\beta_p x_{ip})^2\n",
    "$$\n",
    "\n",
    "and, \n",
    "\n",
    "$$\n",
    "\\hat{\\beta_0}, \\hat{\\beta_1}, \\dots, \\hat{\\beta_p} = \\underset{\\beta_0, \\beta_1, \\dots, \\beta_p}{\\text{argmin}}  \\ \\ \\ \\text{Loss}(\\beta_0, \\beta_1, \\dots, \\beta_p) = \\underset{\\beta_0, \\beta_1, \\dots, \\beta_p}{\\text{argmin}}  \\ \\ \\  \\sum_{i=1}^n (y_i - \\beta_0 - \\beta_1 x_{i1} - \\beta_2 x_{i2} - \\dots - \\beta_p x_{ip})^2\n",
    "$$\n"
   ]
  },
  {
   "cell_type": "markdown",
   "id": "3d6fa339",
   "metadata": {},
   "source": [
    "### §1.3 Coefficients, Predictions, Residuals\n"
   ]
  },
  {
   "cell_type": "markdown",
   "id": "50c56f72",
   "metadata": {},
   "source": [
    "> #### Coefficients\n",
    "\n",
    "Let $\\Xv$ be the matrix of the independent variables along with a column of 1's, i.e.,\n",
    "\n",
    "$$\n",
    "\\Xv = \\Big[\\mathbf{1} \\Big| \\xv_1 \\Big| \\xv_2 \\Big| \\dots \\Big| \\xv_p\\Big] =\n",
    "\\begin{pmatrix}\n",
    "1 & x_{11} & x_{12} & \\dots & x_{1p} \\\\\n",
    "1 & x_{21} & x_{22} & \\dots & x_{2p} \\\\\n",
    "\\vdots & \\vdots & \\vdots & \\vdots & \\vdots \\\\\n",
    "1 & x_{n1} & x_{n2} & \\dots & x_{np} \\\\\n",
    "\\end{pmatrix}\n",
    "$$\n",
    "\n",
    "and let $\\yv \\in \\R^n$ be the observed values of $y_1, y_2, \\dots, y_n$. Then the estimated values of $\\betav = (\\beta_0, \\beta_1, \\dots, \\beta_p) \\in \\R^{p+1}$ are given by:\n",
    "\n",
    "$$\n",
    "\\color{red}{\\boxed{\\hat\\betav = (\\Xv^T \\Xv)^{-1} \\Xv^T \\yv}}\n",
    "$$\n",
    "\n",
    "\n",
    "Equivalently,\n",
    "\n",
    "$$\n",
    "\\begin{pmatrix}\n",
    "\\hat{\\beta}_0 \\\\ \\\\\n",
    "\\hat{\\beta}_1 \\\\ \\\\\n",
    "\\vdots \\\\ \\\\\n",
    "\\hat{\\beta}_p\n",
    "\\end{pmatrix} = \n",
    "\\begin{pmatrix}\n",
    "n & \\sum x_{i1} & \\sum x_{i2} & \\dots & \\sum x_{ip} \\\\ \\\\\n",
    "\\sum x_{i1} & \\sum x_{i1}^2 & \\sum x_{i1}x_{i2} & \\dots & \\sum x_{i1}x_{ip} \\\\ \\\\\n",
    "\\vdots & \\vdots & \\vdots & \\vdots & \\vdots \\\\ \\\\\n",
    "\\sum x_{ip} & \\sum x_{i1}x_{ip} & \\sum x_{i2}x_{ip} & \\dots & \\sum x_{ip}^2\n",
    "\\end{pmatrix}^{-1}\n",
    "\\begin{pmatrix}\n",
    "\\sum y_i \\\\ \\\\\n",
    "\\sum x_{i1}y_i \\\\ \\\\\n",
    "\\vdots \\\\ \\\\\n",
    "\\sum x_{ip}y_i\n",
    "\\end{pmatrix}\n",
    "$$\n",
    "\n",
    "<br></br>"
   ]
  },
  {
   "cell_type": "code",
   "execution_count": 19,
   "id": "09bfaa27",
   "metadata": {},
   "outputs": [
    {
     "data": {
      "text/plain": [
       "array([5.03162789, 2.29218352, 2.91480841])"
      ]
     },
     "execution_count": 19,
     "metadata": {},
     "output_type": "execute_result"
    }
   ],
   "source": [
    "n = len(y)\n",
    "X = np.column_stack((np.ones(n), x1, x2))\n",
    "b = np.linalg.inv(X.T.dot(X)).dot(X.T).dot(y)\n",
    "b"
   ]
  },
  {
   "cell_type": "markdown",
   "id": "306d4560",
   "metadata": {},
   "source": [
    "> #### Predicted values\n",
    "The predicted/fitted value of $y$ for a given value of $x$ is given by:\n",
    "\n",
    "$$\n",
    "\\hat{y} = \n",
    "\\begin{bmatrix}\n",
    "1 & X\n",
    "\\end{bmatrix}\n",
    "\\begin{pmatrix}\n",
    "\\hat{\\beta}_0 \\\\ \\\\\n",
    "\\hat{\\beta}_1\n",
    "\\end{pmatrix}\n",
    "= \\hat{\\beta}_0 + \\hat{\\beta}_1 x\n",
    "$$\n",
    "\n",
    "<br></br>\n"
   ]
  },
  {
   "cell_type": "markdown",
   "id": "f587069e-1c55-416d-a385-776702ed61ad",
   "metadata": {},
   "source": [
    "$$\n",
    "\\hat y = [1 | x_1 | x_2 \\dots x_p]^\\top \\begin{bmatrix}\n",
    "\\hat\\beta_0\\\\\n",
    "\\hat\\beta_1\\\\\n",
    "\\dots\\\\\n",
    "\\hat\\beta_1\\\\\n",
    "\\end{bmatrix}\n",
    "$$"
   ]
  },
  {
   "cell_type": "markdown",
   "id": "965da691-821f-44c9-a45e-8c621e8fc869",
   "metadata": {},
   "source": [
    "$$\n",
    "\\hat y = \\hat\\beta_0 + \\hat\\beta_1x_1 + \\dots + \\hat\\beta_p x_p\n",
    "$$"
   ]
  },
  {
   "cell_type": "code",
   "execution_count": 25,
   "id": "dce98339",
   "metadata": {},
   "outputs": [],
   "source": [
    "yhat = X @ b\n",
    "# sns.histplot(yhat)"
   ]
  },
  {
   "cell_type": "markdown",
   "id": "43c7e57d",
   "metadata": {},
   "source": [
    "Given a new value $x^*$ the predicted value of $y$ is given by:\n",
    "\n",
    "$$\n",
    "\\hat{y^*} = \n",
    "\\begin{bmatrix}\n",
    "1 | & x_1^* | \\dots | x_p^*\n",
    "\\end{bmatrix}\n",
    "\\begin{pmatrix}\n",
    "\\hat\\beta_0 \\\\\n",
    "\\hat\\beta_1 \\\\\n",
    "\\vdots \\\\\n",
    "\\hat\\beta_p\n",
    "\\end{pmatrix}\n",
    "=  b_0 + b_1 x^*\n",
    "$$"
   ]
  },
  {
   "cell_type": "markdown",
   "id": "d5af4579",
   "metadata": {},
   "source": [
    "> #### Residuals\n",
    "The residual for the $i$-th observation is the difference between the observed and predicted values of $y$, i.e.,\n",
    "\n",
    "$$\n",
    "e_i = y_i - \\hat{y}_i\n",
    "$$"
   ]
  },
  {
   "cell_type": "code",
   "execution_count": 26,
   "id": "9ee9741d",
   "metadata": {},
   "outputs": [
    {
     "data": {
      "text/plain": [
       "<Axes: ylabel='Count'>"
      ]
     },
     "execution_count": 26,
     "metadata": {},
     "output_type": "execute_result"
    },
    {
     "data": {
      "image/png": "[encoded data removed]",
      "text/plain": [
       "<Figure size 640x480 with 1 Axes>"
      ]
     },
     "metadata": {},
     "output_type": "display_data"
    }
   ],
   "source": [
    "residuals = y - yhat\n",
    "sns.histplot(residuals)"
   ]
  },
  {
   "cell_type": "markdown",
   "id": "78eef89e",
   "metadata": {},
   "source": [
    "---\n",
    "\n",
    "<br></br><br></br><br></br>\n",
    "<br></br><br></br><br></br>\n"
   ]
  },
  {
   "cell_type": "markdown",
   "id": "9acd1626",
   "metadata": {},
   "source": [
    "### §3.2 Interpretation of the regression model and the coefficients\n",
    "\n",
    "The interpretation of the regression model is similar to the univariate regression model.\n",
    "\n",
    "The observed value of $y$ is given by:\n",
    "\n",
    "$$\n",
    "y_i = \\beta_0 + \\beta_1 x_{i1} + \\beta_2 x_{i2} + \\dots + \\beta_p x_{ip} + \\epsilon_i\n",
    "$$\n",
    "\n",
    "where $\\epsilon_i \\sim N(0, \\sigma^2)$, and the distribution of $y_i$ given the independent variables is given by:\n",
    "\n",
    "$$\n",
    "y_i | x_{i1}, x_{i2}, \\dots, x_{ip} \\sim N(\\beta_0 + \\beta_1 x_{i1} + \\beta_2 x_{i2} + \\dots + \\beta_p x_{ip}, \\sigma^2)\n",
    "$$\n",
    "\n",
    "The estimated value $\\hat\\betav$ is the maximum likelihood estimate of the population parameters $\\betav$, and the estimated value $\\hat\\sigma^2$ is the maximum likelihood estimate of the variance of the error term $\\epsilon_i$ given by:\n",
    "\n",
    "$$\n",
    "\\hat{\\sigma}^2 = \\frac{1}{n-p} \\sum_{i=1}^n (y_i - \\hat{y}_i)^2\n",
    "$$\n"
   ]
  },
  {
   "cell_type": "markdown",
   "id": "82eba01e",
   "metadata": {},
   "source": [
    "\n",
    "<br></br><br></br><br></br>"
   ]
  },
  {
   "cell_type": "markdown",
   "id": "dda6ad73",
   "metadata": {},
   "source": [
    "**But the interpretation of the coefficients is slightly different.**\n",
    "\n",
    "> #### Interpretation Coefficients\n",
    "\n",
    "The coefficients of the regression model are the estimated values of $\\beta_0, \\beta_1, \\dots, \\beta_p$, i.e., $\\hat{\\beta}_0, \\hat{\\beta}_1, \\dots, \\hat{\\beta}_p$.\n",
    "\n",
    "\n",
    "Recall that if $y_i \\sim N(\\beta_0 + \\beta_1 x_{i1} + \\beta_2 x_{i2} + \\dots + \\beta_p x_{ip}, \\sigma^2)$, then the expected value of $y_i$ given the independent variables is given by:\n",
    "\n",
    "$$\n",
    "\\mathbb E\\Big(y_i \\Big| x_{i1}, x_{i2}, \\dots, x_{ip}\\Big) = \\hat y_i = \\hat\\beta_0 + \\hat\\beta_1 x_{11} + \\hat\\beta_2 x_2 + \\dots + \\hat\\beta_p x_p\n",
    "$$\n",
    "\n",
    "Then, the partial derivative of the expected value of $y_i$ with respect to the $j$-th independent variable is given by:\n",
    "\n",
    "$$\n",
    "\\frac{\\partial \\hat y}{\\partial x_j} = \\hat\\beta_j\n",
    "$$\n",
    "\n",
    "The interpretation of the coefficients is as follows:\n",
    "\n",
    "* $\\hat{\\beta}_0$ is the expected value of the dependent variable when all the independent variables are 0.\n",
    "* $\\hat{\\beta}_1$ is the change in the expected value of $y$ for a one-unit change in $x_1$, holding all other variables constant.\n",
    "* $\\hat{\\beta}_2$ is the change in the expected value of $y$ for a one-unit change in $x_2$, holding all other variables constant.\n",
    "* $\\vdots$\n",
    "* $\\hat{\\beta}_p$ is the change in the expected value of $y$ for a one-unit change in $x_p$, holding all other variables constant."
   ]
  },
  {
   "cell_type": "markdown",
   "id": "2bd1cda9",
   "metadata": {},
   "source": [
    "---\n",
    "\n",
    "<br></br><br></br><br></br>\n",
    "<br></br><br></br><br></br>"
   ]
  },
  {
   "cell_type": "markdown",
   "id": "b16a1a51",
   "metadata": {},
   "source": [
    "In Python we can use the `OLS` function from `statsmodels` package to perform linear regression."
   ]
  },
  {
   "cell_type": "code",
   "execution_count": 32,
   "id": "9821f60f",
   "metadata": {},
   "outputs": [
    {
     "data": {
      "text/html": [
       "<table class=\"simpletable\">\n",
       "<caption>OLS Regression Results</caption>\n",
       "<tr>\n",
       "  <th>Dep. Variable:</th>            <td>y</td>        <th>  R-squared:         </th> <td>   0.849</td>\n",
       "</tr>\n",
       "<tr>\n",
       "  <th>Model:</th>                   <td>OLS</td>       <th>  Adj. R-squared:    </th> <td>   0.848</td>\n",
       "</tr>\n",
       "<tr>\n",
       "  <th>Method:</th>             <td>Least Squares</td>  <th>  F-statistic:       </th> <td>   555.4</td>\n",
       "</tr>\n",
       "<tr>\n",
       "  <th>Date:</th>             <td>Fri, 16 Feb 2024</td> <th>  Prob (F-statistic):</th> <td>1.07e-81</td>\n",
       "</tr>\n",
       "<tr>\n",
       "  <th>Time:</th>                 <td>12:32:19</td>     <th>  Log-Likelihood:    </th> <td> -132.13</td>\n",
       "</tr>\n",
       "<tr>\n",
       "  <th>No. Observations:</th>      <td>   200</td>      <th>  AIC:               </th> <td>   270.3</td>\n",
       "</tr>\n",
       "<tr>\n",
       "  <th>Df Residuals:</th>          <td>   197</td>      <th>  BIC:               </th> <td>   280.2</td>\n",
       "</tr>\n",
       "<tr>\n",
       "  <th>Df Model:</th>              <td>     2</td>      <th>                     </th>     <td> </td>   \n",
       "</tr>\n",
       "<tr>\n",
       "  <th>Covariance Type:</th>      <td>nonrobust</td>    <th>                     </th>     <td> </td>   \n",
       "</tr>\n",
       "</table>\n",
       "<table class=\"simpletable\">\n",
       "<tr>\n",
       "    <td></td>       <th>coef</th>     <th>std err</th>      <th>t</th>      <th>P>|t|</th>  <th>[0.025</th>    <th>0.975]</th>  \n",
       "</tr>\n",
       "<tr>\n",
       "  <th>const</th> <td>    5.0316</td> <td>    0.033</td> <td>  150.595</td> <td> 0.000</td> <td>    4.966</td> <td>    5.098</td>\n",
       "</tr>\n",
       "<tr>\n",
       "  <th>x1</th>    <td>    2.2922</td> <td>    0.114</td> <td>   20.145</td> <td> 0.000</td> <td>    2.068</td> <td>    2.517</td>\n",
       "</tr>\n",
       "<tr>\n",
       "  <th>x2</th>    <td>    2.9148</td> <td>    0.116</td> <td>   25.194</td> <td> 0.000</td> <td>    2.687</td> <td>    3.143</td>\n",
       "</tr>\n",
       "</table>\n",
       "<table class=\"simpletable\">\n",
       "<tr>\n",
       "  <th>Omnibus:</th>       <td> 3.741</td> <th>  Durbin-Watson:     </th> <td>   1.912</td>\n",
       "</tr>\n",
       "<tr>\n",
       "  <th>Prob(Omnibus):</th> <td> 0.154</td> <th>  Jarque-Bera (JB):  </th> <td>   4.541</td>\n",
       "</tr>\n",
       "<tr>\n",
       "  <th>Skew:</th>          <td> 0.024</td> <th>  Prob(JB):          </th> <td>   0.103</td>\n",
       "</tr>\n",
       "<tr>\n",
       "  <th>Kurtosis:</th>      <td> 3.737</td> <th>  Cond. No.          </th> <td>    3.55</td>\n",
       "</tr>\n",
       "</table><br/><br/>Notes:<br/>[1] Standard Errors assume that the covariance matrix of the errors is correctly specified."
      ],
      "text/latex": [
       "\\begin{center}\n",
       "\\begin{tabular}{lclc}\n",
       "\\toprule\n",
       "\\textbf{Dep. Variable:}    &        y         & \\textbf{  R-squared:         } &     0.849   \\\\\n",
       "\\textbf{Model:}            &       OLS        & \\textbf{  Adj. R-squared:    } &     0.848   \\\\\n",
       "\\textbf{Method:}           &  Least Squares   & \\textbf{  F-statistic:       } &     555.4   \\\\\n",
       "\\textbf{Date:}             & Fri, 16 Feb 2024 & \\textbf{  Prob (F-statistic):} &  1.07e-81   \\\\\n",
       "\\textbf{Time:}             &     12:32:19     & \\textbf{  Log-Likelihood:    } &   -132.13   \\\\\n",
       "\\textbf{No. Observations:} &         200      & \\textbf{  AIC:               } &     270.3   \\\\\n",
       "\\textbf{Df Residuals:}     &         197      & \\textbf{  BIC:               } &     280.2   \\\\\n",
       "\\textbf{Df Model:}         &           2      & \\textbf{                     } &             \\\\\n",
       "\\textbf{Covariance Type:}  &    nonrobust     & \\textbf{                     } &             \\\\\n",
       "\\bottomrule\n",
       "\\end{tabular}\n",
       "\\begin{tabular}{lcccccc}\n",
       "               & \\textbf{coef} & \\textbf{std err} & \\textbf{t} & \\textbf{P$> |$t$|$} & \\textbf{[0.025} & \\textbf{0.975]}  \\\\\n",
       "\\midrule\n",
       "\\textbf{const} &       5.0316  &        0.033     &   150.595  &         0.000        &        4.966    &        5.098     \\\\\n",
       "\\textbf{x1}    &       2.2922  &        0.114     &    20.145  &         0.000        &        2.068    &        2.517     \\\\\n",
       "\\textbf{x2}    &       2.9148  &        0.116     &    25.194  &         0.000        &        2.687    &        3.143     \\\\\n",
       "\\bottomrule\n",
       "\\end{tabular}\n",
       "\\begin{tabular}{lclc}\n",
       "\\textbf{Omnibus:}       &  3.741 & \\textbf{  Durbin-Watson:     } &    1.912  \\\\\n",
       "\\textbf{Prob(Omnibus):} &  0.154 & \\textbf{  Jarque-Bera (JB):  } &    4.541  \\\\\n",
       "\\textbf{Skew:}          &  0.024 & \\textbf{  Prob(JB):          } &    0.103  \\\\\n",
       "\\textbf{Kurtosis:}      &  3.737 & \\textbf{  Cond. No.          } &     3.55  \\\\\n",
       "\\bottomrule\n",
       "\\end{tabular}\n",
       "%\\caption{OLS Regression Results}\n",
       "\\end{center}\n",
       "\n",
       "Notes: \\newline\n",
       " [1] Standard Errors assume that the covariance matrix of the errors is correctly specified."
      ],
      "text/plain": [
       "<class 'statsmodels.iolib.summary.Summary'>\n",
       "\"\"\"\n",
       "                            OLS Regression Results                            \n",
       "==============================================================================\n",
       "Dep. Variable:                      y   R-squared:                       0.849\n",
       "Model:                            OLS   Adj. R-squared:                  0.848\n",
       "Method:                 Least Squares   F-statistic:                     555.4\n",
       "Date:                Fri, 16 Feb 2024   Prob (F-statistic):           1.07e-81\n",
       "Time:                        12:32:19   Log-Likelihood:                -132.13\n",
       "No. Observations:                 200   AIC:                             270.3\n",
       "Df Residuals:                     197   BIC:                             280.2\n",
       "Df Model:                           2                                         \n",
       "Covariance Type:            nonrobust                                         \n",
       "==============================================================================\n",
       "                 coef    std err          t      P>|t|      [0.025      0.975]\n",
       "------------------------------------------------------------------------------\n",
       "const          5.0316      0.033    150.595      0.000       4.966       5.098\n",
       "x1             2.2922      0.114     20.145      0.000       2.068       2.517\n",
       "x2             2.9148      0.116     25.194      0.000       2.687       3.143\n",
       "==============================================================================\n",
       "Omnibus:                        3.741   Durbin-Watson:                   1.912\n",
       "Prob(Omnibus):                  0.154   Jarque-Bera (JB):                4.541\n",
       "Skew:                           0.024   Prob(JB):                        0.103\n",
       "Kurtosis:                       3.737   Cond. No.                         3.55\n",
       "==============================================================================\n",
       "\n",
       "Notes:\n",
       "[1] Standard Errors assume that the covariance matrix of the errors is correctly specified.\n",
       "\"\"\""
      ]
     },
     "execution_count": 32,
     "metadata": {},
     "output_type": "execute_result"
    }
   ],
   "source": [
    "model = sm.OLS(y, X)\n",
    "result= model.fit()\n",
    "result.summary()"
   ]
  },
  {
   "cell_type": "markdown",
   "id": "676a6f74",
   "metadata": {},
   "source": [
    "We can compare this with the values of `b` we obtained:"
   ]
  },
  {
   "cell_type": "code",
   "execution_count": 33,
   "id": "b7561237",
   "metadata": {},
   "outputs": [
    {
     "data": {
      "text/plain": [
       "array([5.03162789, 2.29218352, 2.91480841])"
      ]
     },
     "execution_count": 33,
     "metadata": {},
     "output_type": "execute_result"
    }
   ],
   "source": [
    "result.params"
   ]
  },
  {
   "cell_type": "code",
   "execution_count": 35,
   "id": "fbb55af1",
   "metadata": {},
   "outputs": [
    {
     "data": {
      "text/plain": [
       "array([5.03162789, 2.29218352, 2.91480841])"
      ]
     },
     "execution_count": 35,
     "metadata": {},
     "output_type": "execute_result"
    }
   ],
   "source": [
    "b"
   ]
  },
  {
   "cell_type": "markdown",
   "id": "4d7054b7",
   "metadata": {},
   "source": [
    "Also, statsmodels has a convenient formula interface that allows you to specify the model using a formula string with the dependent variable on the left-hand side and the independent variables on the right-hand side. The formula string is similar to the ones used in R and other statistical software. Here is an example of how to use the formula interface with the OLS class:\n",
    "\n"
   ]
  },
  {
   "cell_type": "code",
   "execution_count": 44,
   "id": "77a65246",
   "metadata": {},
   "outputs": [
    {
     "data": {
      "text/html": [
       "<table class=\"simpletable\">\n",
       "<caption>OLS Regression Results</caption>\n",
       "<tr>\n",
       "  <th>Dep. Variable:</th>            <td>y</td>        <th>  R-squared:         </th> <td>   0.849</td>\n",
       "</tr>\n",
       "<tr>\n",
       "  <th>Model:</th>                   <td>OLS</td>       <th>  Adj. R-squared:    </th> <td>   0.848</td>\n",
       "</tr>\n",
       "<tr>\n",
       "  <th>Method:</th>             <td>Least Squares</td>  <th>  F-statistic:       </th> <td>   555.4</td>\n",
       "</tr>\n",
       "<tr>\n",
       "  <th>Date:</th>             <td>Fri, 16 Feb 2024</td> <th>  Prob (F-statistic):</th> <td>1.07e-81</td>\n",
       "</tr>\n",
       "<tr>\n",
       "  <th>Time:</th>                 <td>12:36:31</td>     <th>  Log-Likelihood:    </th> <td> -132.13</td>\n",
       "</tr>\n",
       "<tr>\n",
       "  <th>No. Observations:</th>      <td>   200</td>      <th>  AIC:               </th> <td>   270.3</td>\n",
       "</tr>\n",
       "<tr>\n",
       "  <th>Df Residuals:</th>          <td>   197</td>      <th>  BIC:               </th> <td>   280.2</td>\n",
       "</tr>\n",
       "<tr>\n",
       "  <th>Df Model:</th>              <td>     2</td>      <th>                     </th>     <td> </td>   \n",
       "</tr>\n",
       "<tr>\n",
       "  <th>Covariance Type:</th>      <td>nonrobust</td>    <th>                     </th>     <td> </td>   \n",
       "</tr>\n",
       "</table>\n",
       "<table class=\"simpletable\">\n",
       "<tr>\n",
       "      <td></td>         <th>coef</th>     <th>std err</th>      <th>t</th>      <th>P>|t|</th>  <th>[0.025</th>    <th>0.975]</th>  \n",
       "</tr>\n",
       "<tr>\n",
       "  <th>Intercept</th> <td>    5.0316</td> <td>    0.033</td> <td>  150.595</td> <td> 0.000</td> <td>    4.966</td> <td>    5.098</td>\n",
       "</tr>\n",
       "<tr>\n",
       "  <th>pred1</th>     <td>    2.2922</td> <td>    0.114</td> <td>   20.145</td> <td> 0.000</td> <td>    2.068</td> <td>    2.517</td>\n",
       "</tr>\n",
       "<tr>\n",
       "  <th>pred2</th>     <td>    2.9148</td> <td>    0.116</td> <td>   25.194</td> <td> 0.000</td> <td>    2.687</td> <td>    3.143</td>\n",
       "</tr>\n",
       "</table>\n",
       "<table class=\"simpletable\">\n",
       "<tr>\n",
       "  <th>Omnibus:</th>       <td> 3.741</td> <th>  Durbin-Watson:     </th> <td>   1.912</td>\n",
       "</tr>\n",
       "<tr>\n",
       "  <th>Prob(Omnibus):</th> <td> 0.154</td> <th>  Jarque-Bera (JB):  </th> <td>   4.541</td>\n",
       "</tr>\n",
       "<tr>\n",
       "  <th>Skew:</th>          <td> 0.024</td> <th>  Prob(JB):          </th> <td>   0.103</td>\n",
       "</tr>\n",
       "<tr>\n",
       "  <th>Kurtosis:</th>      <td> 3.737</td> <th>  Cond. No.          </th> <td>    3.55</td>\n",
       "</tr>\n",
       "</table><br/><br/>Notes:<br/>[1] Standard Errors assume that the covariance matrix of the errors is correctly specified."
      ],
      "text/latex": [
       "\\begin{center}\n",
       "\\begin{tabular}{lclc}\n",
       "\\toprule\n",
       "\\textbf{Dep. Variable:}    &        y         & \\textbf{  R-squared:         } &     0.849   \\\\\n",
       "\\textbf{Model:}            &       OLS        & \\textbf{  Adj. R-squared:    } &     0.848   \\\\\n",
       "\\textbf{Method:}           &  Least Squares   & \\textbf{  F-statistic:       } &     555.4   \\\\\n",
       "\\textbf{Date:}             & Fri, 16 Feb 2024 & \\textbf{  Prob (F-statistic):} &  1.07e-81   \\\\\n",
       "\\textbf{Time:}             &     12:36:31     & \\textbf{  Log-Likelihood:    } &   -132.13   \\\\\n",
       "\\textbf{No. Observations:} &         200      & \\textbf{  AIC:               } &     270.3   \\\\\n",
       "\\textbf{Df Residuals:}     &         197      & \\textbf{  BIC:               } &     280.2   \\\\\n",
       "\\textbf{Df Model:}         &           2      & \\textbf{                     } &             \\\\\n",
       "\\textbf{Covariance Type:}  &    nonrobust     & \\textbf{                     } &             \\\\\n",
       "\\bottomrule\n",
       "\\end{tabular}\n",
       "\\begin{tabular}{lcccccc}\n",
       "                   & \\textbf{coef} & \\textbf{std err} & \\textbf{t} & \\textbf{P$> |$t$|$} & \\textbf{[0.025} & \\textbf{0.975]}  \\\\\n",
       "\\midrule\n",
       "\\textbf{Intercept} &       5.0316  &        0.033     &   150.595  &         0.000        &        4.966    &        5.098     \\\\\n",
       "\\textbf{pred1}     &       2.2922  &        0.114     &    20.145  &         0.000        &        2.068    &        2.517     \\\\\n",
       "\\textbf{pred2}     &       2.9148  &        0.116     &    25.194  &         0.000        &        2.687    &        3.143     \\\\\n",
       "\\bottomrule\n",
       "\\end{tabular}\n",
       "\\begin{tabular}{lclc}\n",
       "\\textbf{Omnibus:}       &  3.741 & \\textbf{  Durbin-Watson:     } &    1.912  \\\\\n",
       "\\textbf{Prob(Omnibus):} &  0.154 & \\textbf{  Jarque-Bera (JB):  } &    4.541  \\\\\n",
       "\\textbf{Skew:}          &  0.024 & \\textbf{  Prob(JB):          } &    0.103  \\\\\n",
       "\\textbf{Kurtosis:}      &  3.737 & \\textbf{  Cond. No.          } &     3.55  \\\\\n",
       "\\bottomrule\n",
       "\\end{tabular}\n",
       "%\\caption{OLS Regression Results}\n",
       "\\end{center}\n",
       "\n",
       "Notes: \\newline\n",
       " [1] Standard Errors assume that the covariance matrix of the errors is correctly specified."
      ],
      "text/plain": [
       "<class 'statsmodels.iolib.summary.Summary'>\n",
       "\"\"\"\n",
       "                            OLS Regression Results                            \n",
       "==============================================================================\n",
       "Dep. Variable:                      y   R-squared:                       0.849\n",
       "Model:                            OLS   Adj. R-squared:                  0.848\n",
       "Method:                 Least Squares   F-statistic:                     555.4\n",
       "Date:                Fri, 16 Feb 2024   Prob (F-statistic):           1.07e-81\n",
       "Time:                        12:36:31   Log-Likelihood:                -132.13\n",
       "No. Observations:                 200   AIC:                             270.3\n",
       "Df Residuals:                     197   BIC:                             280.2\n",
       "Df Model:                           2                                         \n",
       "Covariance Type:            nonrobust                                         \n",
       "==============================================================================\n",
       "                 coef    std err          t      P>|t|      [0.025      0.975]\n",
       "------------------------------------------------------------------------------\n",
       "Intercept      5.0316      0.033    150.595      0.000       4.966       5.098\n",
       "pred1          2.2922      0.114     20.145      0.000       2.068       2.517\n",
       "pred2          2.9148      0.116     25.194      0.000       2.687       3.143\n",
       "==============================================================================\n",
       "Omnibus:                        3.741   Durbin-Watson:                   1.912\n",
       "Prob(Omnibus):                  0.154   Jarque-Bera (JB):                4.541\n",
       "Skew:                           0.024   Prob(JB):                        0.103\n",
       "Kurtosis:                       3.737   Cond. No.                         3.55\n",
       "==============================================================================\n",
       "\n",
       "Notes:\n",
       "[1] Standard Errors assume that the covariance matrix of the errors is correctly specified.\n",
       "\"\"\""
      ]
     },
     "execution_count": 44,
     "metadata": {},
     "output_type": "execute_result"
    }
   ],
   "source": [
    "model = smf.ols('y ~  pred1 + pred2', data={'pred1': x1, 'pred2': x2, 'y': y})\n",
    "model.fit().summary()"
   ]
  },
  {
   "cell_type": "markdown",
   "id": "78c13203",
   "metadata": {},
   "source": [
    "By default the model is fit with an intercept, but we can also add a constant to the input data. We can do this using the `add_constant` function from the `statsmodels.api` module."
   ]
  },
  {
   "cell_type": "code",
   "execution_count": 47,
   "id": "4778965a",
   "metadata": {},
   "outputs": [],
   "source": [
    "# sm.add_constant(x1)"
   ]
  },
  {
   "cell_type": "markdown",
   "id": "44daa507",
   "metadata": {},
   "source": [
    "If we don't want a constant term in the model, we can specify zero intercept in the model formula."
   ]
  },
  {
   "cell_type": "code",
   "execution_count": 60,
   "id": "6953dee8",
   "metadata": {},
   "outputs": [
    {
     "data": {
      "text/html": [
       "<table class=\"simpletable\">\n",
       "<caption>OLS Regression Results</caption>\n",
       "<tr>\n",
       "  <th>Dep. Variable:</th>            <td>y</td>        <th>  R-squared:         </th> <td>   0.849</td>\n",
       "</tr>\n",
       "<tr>\n",
       "  <th>Model:</th>                   <td>OLS</td>       <th>  Adj. R-squared:    </th> <td>   0.848</td>\n",
       "</tr>\n",
       "<tr>\n",
       "  <th>Method:</th>             <td>Least Squares</td>  <th>  F-statistic:       </th> <td>   555.4</td>\n",
       "</tr>\n",
       "<tr>\n",
       "  <th>Date:</th>             <td>Fri, 16 Feb 2024</td> <th>  Prob (F-statistic):</th> <td>1.07e-81</td>\n",
       "</tr>\n",
       "<tr>\n",
       "  <th>Time:</th>                 <td>12:41:08</td>     <th>  Log-Likelihood:    </th> <td> -132.13</td>\n",
       "</tr>\n",
       "<tr>\n",
       "  <th>No. Observations:</th>      <td>   200</td>      <th>  AIC:               </th> <td>   270.3</td>\n",
       "</tr>\n",
       "<tr>\n",
       "  <th>Df Residuals:</th>          <td>   197</td>      <th>  BIC:               </th> <td>   280.2</td>\n",
       "</tr>\n",
       "<tr>\n",
       "  <th>Df Model:</th>              <td>     2</td>      <th>                     </th>     <td> </td>   \n",
       "</tr>\n",
       "<tr>\n",
       "  <th>Covariance Type:</th>      <td>nonrobust</td>    <th>                     </th>     <td> </td>   \n",
       "</tr>\n",
       "</table>\n",
       "<table class=\"simpletable\">\n",
       "<tr>\n",
       "      <td></td>         <th>coef</th>     <th>std err</th>      <th>t</th>      <th>P>|t|</th>  <th>[0.025</th>    <th>0.975]</th>  \n",
       "</tr>\n",
       "<tr>\n",
       "  <th>Intercept</th> <td>    5.0316</td> <td>    0.033</td> <td>  150.595</td> <td> 0.000</td> <td>    4.966</td> <td>    5.098</td>\n",
       "</tr>\n",
       "<tr>\n",
       "  <th>x1</th>        <td>    2.2922</td> <td>    0.114</td> <td>   20.145</td> <td> 0.000</td> <td>    2.068</td> <td>    2.517</td>\n",
       "</tr>\n",
       "<tr>\n",
       "  <th>x2</th>        <td>    2.9148</td> <td>    0.116</td> <td>   25.194</td> <td> 0.000</td> <td>    2.687</td> <td>    3.143</td>\n",
       "</tr>\n",
       "</table>\n",
       "<table class=\"simpletable\">\n",
       "<tr>\n",
       "  <th>Omnibus:</th>       <td> 3.741</td> <th>  Durbin-Watson:     </th> <td>   1.912</td>\n",
       "</tr>\n",
       "<tr>\n",
       "  <th>Prob(Omnibus):</th> <td> 0.154</td> <th>  Jarque-Bera (JB):  </th> <td>   4.541</td>\n",
       "</tr>\n",
       "<tr>\n",
       "  <th>Skew:</th>          <td> 0.024</td> <th>  Prob(JB):          </th> <td>   0.103</td>\n",
       "</tr>\n",
       "<tr>\n",
       "  <th>Kurtosis:</th>      <td> 3.737</td> <th>  Cond. No.          </th> <td>    3.55</td>\n",
       "</tr>\n",
       "</table><br/><br/>Notes:<br/>[1] Standard Errors assume that the covariance matrix of the errors is correctly specified."
      ],
      "text/latex": [
       "\\begin{center}\n",
       "\\begin{tabular}{lclc}\n",
       "\\toprule\n",
       "\\textbf{Dep. Variable:}    &        y         & \\textbf{  R-squared:         } &     0.849   \\\\\n",
       "\\textbf{Model:}            &       OLS        & \\textbf{  Adj. R-squared:    } &     0.848   \\\\\n",
       "\\textbf{Method:}           &  Least Squares   & \\textbf{  F-statistic:       } &     555.4   \\\\\n",
       "\\textbf{Date:}             & Fri, 16 Feb 2024 & \\textbf{  Prob (F-statistic):} &  1.07e-81   \\\\\n",
       "\\textbf{Time:}             &     12:41:08     & \\textbf{  Log-Likelihood:    } &   -132.13   \\\\\n",
       "\\textbf{No. Observations:} &         200      & \\textbf{  AIC:               } &     270.3   \\\\\n",
       "\\textbf{Df Residuals:}     &         197      & \\textbf{  BIC:               } &     280.2   \\\\\n",
       "\\textbf{Df Model:}         &           2      & \\textbf{                     } &             \\\\\n",
       "\\textbf{Covariance Type:}  &    nonrobust     & \\textbf{                     } &             \\\\\n",
       "\\bottomrule\n",
       "\\end{tabular}\n",
       "\\begin{tabular}{lcccccc}\n",
       "                   & \\textbf{coef} & \\textbf{std err} & \\textbf{t} & \\textbf{P$> |$t$|$} & \\textbf{[0.025} & \\textbf{0.975]}  \\\\\n",
       "\\midrule\n",
       "\\textbf{Intercept} &       5.0316  &        0.033     &   150.595  &         0.000        &        4.966    &        5.098     \\\\\n",
       "\\textbf{x1}        &       2.2922  &        0.114     &    20.145  &         0.000        &        2.068    &        2.517     \\\\\n",
       "\\textbf{x2}        &       2.9148  &        0.116     &    25.194  &         0.000        &        2.687    &        3.143     \\\\\n",
       "\\bottomrule\n",
       "\\end{tabular}\n",
       "\\begin{tabular}{lclc}\n",
       "\\textbf{Omnibus:}       &  3.741 & \\textbf{  Durbin-Watson:     } &    1.912  \\\\\n",
       "\\textbf{Prob(Omnibus):} &  0.154 & \\textbf{  Jarque-Bera (JB):  } &    4.541  \\\\\n",
       "\\textbf{Skew:}          &  0.024 & \\textbf{  Prob(JB):          } &    0.103  \\\\\n",
       "\\textbf{Kurtosis:}      &  3.737 & \\textbf{  Cond. No.          } &     3.55  \\\\\n",
       "\\bottomrule\n",
       "\\end{tabular}\n",
       "%\\caption{OLS Regression Results}\n",
       "\\end{center}\n",
       "\n",
       "Notes: \\newline\n",
       " [1] Standard Errors assume that the covariance matrix of the errors is correctly specified."
      ],
      "text/plain": [
       "<class 'statsmodels.iolib.summary.Summary'>\n",
       "\"\"\"\n",
       "                            OLS Regression Results                            \n",
       "==============================================================================\n",
       "Dep. Variable:                      y   R-squared:                       0.849\n",
       "Model:                            OLS   Adj. R-squared:                  0.848\n",
       "Method:                 Least Squares   F-statistic:                     555.4\n",
       "Date:                Fri, 16 Feb 2024   Prob (F-statistic):           1.07e-81\n",
       "Time:                        12:41:08   Log-Likelihood:                -132.13\n",
       "No. Observations:                 200   AIC:                             270.3\n",
       "Df Residuals:                     197   BIC:                             280.2\n",
       "Df Model:                           2                                         \n",
       "Covariance Type:            nonrobust                                         \n",
       "==============================================================================\n",
       "                 coef    std err          t      P>|t|      [0.025      0.975]\n",
       "------------------------------------------------------------------------------\n",
       "Intercept      5.0316      0.033    150.595      0.000       4.966       5.098\n",
       "x1             2.2922      0.114     20.145      0.000       2.068       2.517\n",
       "x2             2.9148      0.116     25.194      0.000       2.687       3.143\n",
       "==============================================================================\n",
       "Omnibus:                        3.741   Durbin-Watson:                   1.912\n",
       "Prob(Omnibus):                  0.154   Jarque-Bera (JB):                4.541\n",
       "Skew:                           0.024   Prob(JB):                        0.103\n",
       "Kurtosis:                       3.737   Cond. No.                         3.55\n",
       "==============================================================================\n",
       "\n",
       "Notes:\n",
       "[1] Standard Errors assume that the covariance matrix of the errors is correctly specified.\n",
       "\"\"\""
      ]
     },
     "execution_count": 60,
     "metadata": {},
     "output_type": "execute_result"
    }
   ],
   "source": [
    "smf.ols('y ~ 1 + x1 + x2', data={'x1': x1, 'x2': x2, 'y': y}).fit().summary()"
   ]
  },
  {
   "cell_type": "markdown",
   "id": "a2989492",
   "metadata": {},
   "source": [
    "The fitted values and residuals can be obtained using the `fittedvalues` and `resid` attributes of the fitted model."
   ]
  },
  {
   "cell_type": "code",
   "execution_count": 50,
   "id": "6a88dffa",
   "metadata": {},
   "outputs": [
    {
     "data": {
      "text/plain": [
       "0     -0.613632\n",
       "1     -0.146231\n",
       "2      0.072951\n",
       "3      0.010343\n",
       "4      0.146237\n",
       "         ...   \n",
       "195   -0.125468\n",
       "196    1.188680\n",
       "197    0.364987\n",
       "198   -0.180857\n",
       "199   -0.197276\n",
       "Length: 200, dtype: float64"
      ]
     },
     "execution_count": 50,
     "metadata": {},
     "output_type": "execute_result"
    }
   ],
   "source": [
    "model.fit().fittedvalues\n",
    "model.fit().resid"
   ]
  },
  {
   "cell_type": "markdown",
   "id": "0ca719f5",
   "metadata": {},
   "source": [
    "---\n",
    "\n",
    "<br></br><br></br><br></br>\n",
    "<br></br><br></br><br></br>\n"
   ]
  },
  {
   "cell_type": "markdown",
   "id": "666752b4",
   "metadata": {},
   "source": [
    "# §4. Diagnostics\n",
    "\n",
    "The main assumptions of the regression model are as follows:\n",
    "\n",
    "1. The relationship between the independent and dependent variables is linear, i.e., $y = \\beta_0 + \\beta_1 x_1 + \\beta_2 x_2 + \\dots + \\beta_p x_p + \\epsilon$.\n",
    "2. The error terms $\\epsilon_i$ are normally distributed with mean 0 and variance $\\sigma^2$, i.e., $\\epsilon_i \\sim N(0, \\sigma^2)$.\n",
    "3. The error terms $\\epsilon_i$ are independent and identically distributed, i.e., $\\epsilon_1, \\epsilon_2, \\dots, \\epsilon_n$ are independent and identically distributed.\n",
    "\n",
    "Here, $\\beta_0, \\beta_1, \\dots, \\beta_p$ with $\\sigma^2$ are the population parameters, and $\\hat\\beta_0, \\hat\\beta_1, \\dots, \\hat\\beta_p$ with $\\hat\\sigma^2$ are the statistics corresponding to the population parameters.\n",
    "\n",
    "**The residuals are the key tool used to diagnose the assumptions of a regression model.**"
   ]
  },
  {
   "cell_type": "markdown",
   "id": "b0c03d3b",
   "metadata": {},
   "source": [
    "<br></br><br></br><br></br>\n",
    "<br></br><br></br><br></br>"
   ]
  },
  {
   "cell_type": "markdown",
   "id": "9451834f",
   "metadata": {},
   "source": [
    "\n",
    "> ## Checking for Normality of the Residuals\n",
    "\n",
    "1. QQ-plot"
   ]
  },
  {
   "cell_type": "code",
   "execution_count": 67,
   "id": "105459dc",
   "metadata": {},
   "outputs": [],
   "source": [
    "# Lets simulate 3 datasets with different types of residuals\n",
    "\n",
    "np.random.seed(0)\n",
    "n = 100\n",
    "\n",
    "x1 = np.linspace(0, 1, n)\n",
    "x2 = np.random.rand(n)\n",
    "\n",
    "data = [\n",
    "    pd.DataFrame({'x1': x1, 'x2': x2, 'y': 2 + 3*x1 + 4*x2 + stats.norm(0, 0.5).rvs(n)}),\n",
    "    pd.DataFrame({'x1': x1, 'x2': x2, 'y': 2 + 3*x1 + 4*x2 + stats.norm(10, 1).rvs(n)}),\n",
    "    pd.DataFrame({'x1': x1, 'x2': x2, 'y': 2 + 3*x1 + 4*x2 + stats.expon(10).rvs(n)}),\n",
    "]"
   ]
  },
  {
   "cell_type": "code",
   "execution_count": 68,
   "id": "72f06451",
   "metadata": {},
   "outputs": [],
   "source": [
    "results = [smf.ols('y ~ x1 + x2', data=df).fit() for df in data]"
   ]
  },
  {
   "cell_type": "code",
   "execution_count": 71,
   "id": "bdd93814",
   "metadata": {},
   "outputs": [
    {
     "data": {
      "image/png": "[encoded data removed]",
      "text/plain": [
       "<Figure size 1500x500 with 3 Axes>"
      ]
     },
     "metadata": {},
     "output_type": "display_data"
    }
   ],
   "source": [
    "fig, axs = plt.subplots(1, len(results), figsize=(5 * len(results), 5))\n",
    "for i, res in enumerate(results):\n",
    "    sm.qqplot(res.resid, line='r', ax=axs[i])\n",
    "\n",
    "plt.show()"
   ]
  },
  {
   "cell_type": "code",
   "execution_count": 73,
   "id": "d015367b",
   "metadata": {},
   "outputs": [
    {
     "name": "stdout",
     "output_type": "stream",
     "text": [
      "coefficients: [2.338747903782675, 2.6333520768173013, 3.8746667887765587]\n",
      "coefficients: [12.043667249396865, 2.8462094866739323, 3.7503754520807]\n",
      "coefficients: [12.977380322554339, 3.1515559137360034, 4.113054204172654]\n"
     ]
    }
   ],
   "source": [
    "for r in results:\n",
    "    print(f'coefficients: {list(r.params)}')"
   ]
  },
  {
   "cell_type": "markdown",
   "id": "182c4fb4",
   "metadata": {},
   "source": [
    "2. Shapiro-Wilk test"
   ]
  },
  {
   "cell_type": "code",
   "execution_count": 74,
   "id": "bca9a141",
   "metadata": {},
   "outputs": [
    {
     "data": {
      "text/plain": [
       "[0.20844055966237196, 0.6571382875970062, 1.4983325193112733e-09]"
      ]
     },
     "execution_count": 74,
     "metadata": {},
     "output_type": "execute_result"
    }
   ],
   "source": [
    "shapiro_pvalues = [stats.shapiro(r.resid).pvalue for r in results]\n",
    "shapiro_pvalues"
   ]
  },
  {
   "cell_type": "markdown",
   "id": "6e265ccc",
   "metadata": {},
   "source": [
    "---\n",
    "\n",
    "<br></br><br></br><br></br>\n",
    "<br></br><br></br><br></br>\n"
   ]
  },
  {
   "cell_type": "markdown",
   "id": "e1e428a1",
   "metadata": {},
   "source": [
    "\n",
    "> ## Checking for Independence of the Residuals\n",
    "\n",
    "1. Scatterplot of the residuals against the observation"
   ]
  },
  {
   "cell_type": "code",
   "execution_count": 160,
   "id": "3eaff2f2",
   "metadata": {},
   "outputs": [],
   "source": [
    "# Lets simulate 2 datasets with different types of residuals\n",
    "\n",
    "np.random.seed(0)\n",
    "n = 100\n",
    "\n",
    "x1 = np.linspace(0, 1, n)\n",
    "x2 = np.random.rand(n)\n",
    "\n",
    "# Normal iid errors\n",
    "epsilon = stats.norm(0, 0.5).rvs(n)\n",
    "\n",
    "# Autoregressive errors\n",
    "ar_epsilon = np.zeros(n)\n",
    "for i in range(2, n):\n",
    "    ar_epsilon[i] = 0.8 * ar_epsilon[i-1] + 0.2 * ar_epsilon[i-2] + 0.5 * epsilon[i]\n",
    "\n",
    "\n",
    "data = [\n",
    "    pd.DataFrame({'x1': x1, 'x2': x2, 'y': 2 + 3*x1 + 4*x2 + epsilon}),\n",
    "    pd.DataFrame({'x1': x1, 'x2': x2, 'y': 2 + 3*x1 + 4*x2 + ar_epsilon}),\n",
    "]"
   ]
  },
  {
   "cell_type": "code",
   "execution_count": 161,
   "id": "84142461",
   "metadata": {},
   "outputs": [],
   "source": [
    "results = [smf.ols('y ~ x1 + x2', data=df).fit() for df in data]"
   ]
  },
  {
   "cell_type": "markdown",
   "id": "1955e23d",
   "metadata": {},
   "source": [
    "We can use the following function to take the residuals $e_1, e_2, \\dots, e_n$ and create standardized-residuals, $z_1, z_2, \\dots, z_n$ where\n",
    "\n",
    "$$\n",
    "z_i = \\frac{e_i - \\overline e}{\\sd(e)}\n",
    "$$\n",
    "\n",
    "where $\\overline e$ is the mean of the residuals and $\\sd(e)$ is the standard deviation of the residuals."
   ]
  },
  {
   "cell_type": "code",
   "execution_count": 162,
   "id": "fe1eb6e1",
   "metadata": {},
   "outputs": [],
   "source": [
    "def standardize(x):\n",
    "    return (x - x.mean()) / x.std()"
   ]
  },
  {
   "cell_type": "code",
   "execution_count": 163,
   "id": "4c01d339",
   "metadata": {},
   "outputs": [
    {
     "data": {
      "image/png": "[encoded data removed]",
      "text/plain": [
       "<Figure size 1000x500 with 2 Axes>"
      ]
     },
     "metadata": {},
     "output_type": "display_data"
    }
   ],
   "source": [
    "fig, ax = plt.subplots(1, len(results), figsize=(len(results) * 5, 5))\n",
    "for i, res in enumerate(results):\n",
    "    ax[i].scatter(range(n), standardize(res.resid))"
   ]
  },
  {
   "cell_type": "markdown",
   "id": "acdacc38",
   "metadata": {},
   "source": [
    "2. Scatterplot of the residuals against independent variables"
   ]
  },
  {
   "cell_type": "code",
   "execution_count": 164,
   "id": "5d77ecbd",
   "metadata": {},
   "outputs": [
    {
     "data": {
      "image/png": "[encoded data removed]",
      "text/plain": [
       "<Figure size 1200x700 with 4 Axes>"
      ]
     },
     "metadata": {},
     "output_type": "display_data"
    }
   ],
   "source": [
    "fig, ax = plt.subplots(2, len(results), figsize=(len(results) * 6, 7))\n",
    "for i, res in enumerate(results):\n",
    "    ax[0, i].scatter(x1, standardize(res.resid))\n",
    "    ax[0, i].set_title('Residuals vs x1')\n",
    "    ax[1, i].scatter(x2, standardize(res.resid))\n",
    "    ax[1, i].set_title('Residuals vs x2')"
   ]
  },
  {
   "cell_type": "markdown",
   "id": "0518df5c",
   "metadata": {},
   "source": [
    "3. ACF plot of residuals"
   ]
  },
  {
   "cell_type": "code",
   "execution_count": 165,
   "id": "6d9d1e86",
   "metadata": {},
   "outputs": [
    {
     "data": {
      "image/png": "[encoded data removed]",
      "text/plain": [
       "<Figure size 1000x500 with 2 Axes>"
      ]
     },
     "metadata": {},
     "output_type": "display_data"
    }
   ],
   "source": [
    "from statsmodels.tsa.stattools import acf\n",
    "\n",
    "fig, ax = plt.subplots(1, len(results), figsize=(len(results) * 5, 5))\n",
    "\n",
    "lags = 20\n",
    "for i, res in enumerate(results):\n",
    "    ax[i].bar(range(lags+1), acf(res.resid, nlags=lags))\n",
    "\n",
    "plt.show()"
   ]
  },
  {
   "cell_type": "markdown",
   "id": "20132947",
   "metadata": {},
   "source": [
    "4. Test for independence using the Durbin-Watson test or the Ljung-Box test"
   ]
  },
  {
   "cell_type": "code",
   "execution_count": 166,
   "id": "135c9900",
   "metadata": {},
   "outputs": [
    {
     "name": "stdout",
     "output_type": "stream",
     "text": [
      "'model: 0,p_values:[0.3092013386657704, 0.3934025735539676, 0.5996315661582137]'\n",
      "('model: 1,p_values:[2.5903474871072543e-20, 1.470104205543754e-35, '\n",
      " '9.760600241170173e-49]')\n"
     ]
    }
   ],
   "source": [
    "from statsmodels.stats.diagnostic import acorr_ljungbox\n",
    "\n",
    "\n",
    "for i, res in enumerate(results):\n",
    "    p_values = list(\n",
    "        acorr_ljungbox(res.resid, lags=3, return_df=False).lb_pvalue\n",
    "    )\n",
    "    print(f'model: {i},p_values:{p_values}')"
   ]
  },
  {
   "cell_type": "markdown",
   "id": "1da94ca1",
   "metadata": {},
   "source": [
    "---\n",
    "\n",
    "<br></br><br></br><br></br>\n",
    "<br></br><br></br><br></br>\n"
   ]
  },
  {
   "cell_type": "markdown",
   "id": "e2808538",
   "metadata": {},
   "source": [
    "\n",
    "> ## Checking for Heteroscedasticity"
   ]
  },
  {
   "cell_type": "code",
   "execution_count": 216,
   "id": "e228bda5",
   "metadata": {},
   "outputs": [],
   "source": [
    "# Lets simulate 3 datasets with different types of residuals\n",
    "n = 500\n",
    "\n",
    "x1 = np.linspace(0, 1, n)\n",
    "x2 = np.random.rand(n)\n",
    "\n",
    "# Normal iid errors\n",
    "epsilon = stats.norm(0, 0.5).rvs(n)\n",
    "\n",
    "# Autoregressive errors\n",
    "up_epsilon = epsilon * np.array([0.1*i for i in range(n)])\n",
    "dn_epsilon = epsilon * np.array([0.1*(n-i) for i in range(n)])\n",
    "\n",
    "data = [\n",
    "    pd.DataFrame({'x1': x1, 'x2': x2, 'y': 2 + 3*x1 + 4*x2 + epsilon}),\n",
    "    pd.DataFrame({'x1': x1, 'x2': x2, 'y': 2 + 3*x1 + 4*x2 + up_epsilon}),\n",
    "    pd.DataFrame({'x1': x1, 'x2': x2, 'y': 2 + 3*x1 + 4*x2 + dn_epsilon}),\n",
    "    pd.DataFrame({'x1': x1, 'x2': x2, 'y': 2 + 3*x1**5 + 4*x1**2*x2**3 + epsilon}),\n",
    "]"
   ]
  },
  {
   "cell_type": "code",
   "execution_count": 217,
   "id": "61d24688",
   "metadata": {},
   "outputs": [],
   "source": [
    "results = [smf.ols('y ~ x1 + x2', data=df).fit() for df in data]"
   ]
  },
  {
   "cell_type": "markdown",
   "id": "9dd33de7",
   "metadata": {},
   "source": [
    "1. Plot the residuals against the observation"
   ]
  },
  {
   "cell_type": "code",
   "execution_count": 218,
   "id": "8f1fd5d1",
   "metadata": {},
   "outputs": [
    {
     "data": {
      "image/png": "[encoded data removed]",
      "text/plain": [
       "<Figure size 2000x500 with 4 Axes>"
      ]
     },
     "metadata": {},
     "output_type": "display_data"
    }
   ],
   "source": [
    "fig, ax = plt.subplots(1, len(results), figsize=(len(results) * 5, 5))\n",
    "\n",
    "for i, res in enumerate(results):\n",
    "    ax[i].scatter(range(n), standardize(res.resid))\n",
    "\n",
    "plt.show()"
   ]
  },
  {
   "cell_type": "markdown",
   "id": "3643bfed",
   "metadata": {},
   "source": [
    "1. Plot the residuals against the fitted values"
   ]
  },
  {
   "cell_type": "code",
   "execution_count": 219,
   "id": "581e0943",
   "metadata": {},
   "outputs": [
    {
     "data": {
      "image/png": "[encoded data removed]",
      "text/plain": [
       "<Figure size 2000x500 with 4 Axes>"
      ]
     },
     "metadata": {},
     "output_type": "display_data"
    }
   ],
   "source": [
    "fig, ax = plt.subplots(1, len(results), figsize=(len(results) * 5, 5))\n",
    "\n",
    "for i, res in enumerate(results):\n",
    "    ax[i].scatter(res.fittedvalues, standardize(res.resid))\n",
    "\n",
    "plt.show()"
   ]
  },
  {
   "cell_type": "markdown",
   "id": "8aa345dd",
   "metadata": {},
   "source": [
    "3. Performing the Breusch-Pagan test or the White test"
   ]
  },
  {
   "cell_type": "code",
   "execution_count": 227,
   "id": "22e1d405",
   "metadata": {},
   "outputs": [],
   "source": [
    "from statsmodels.stats.diagnostic import het_white, het_breuschpagan"
   ]
  },
  {
   "cell_type": "code",
   "execution_count": 230,
   "id": "48100a01",
   "metadata": {},
   "outputs": [],
   "source": [
    "# het_white?\n",
    "# het_breuschpagan?"
   ]
  },
  {
   "cell_type": "code",
   "execution_count": 225,
   "id": "d41401e1",
   "metadata": {},
   "outputs": [
    {
     "name": "stdout",
     "output_type": "stream",
     "text": [
      "'model: 0, p_values: 0.7427956330992237'\n",
      "'model: 1, p_values: 6.583587409231415e-24'\n",
      "'model: 2, p_values: 1.46342117737015e-20'\n",
      "'model: 3, p_values: 9.278200611038013e-40'\n"
     ]
    }
   ],
   "source": [
    "for i, res in enumerate(results):\n",
    "    p_values = het_white(res.resid, res.model.exog)[3]\n",
    "    print(f'model: {i}, p_values: {p_values}')"
   ]
  },
  {
   "cell_type": "code",
   "execution_count": 232,
   "id": "f70bc54d",
   "metadata": {},
   "outputs": [
    {
     "name": "stdout",
     "output_type": "stream",
     "text": [
      "'model: 0, p_values: 0.3211465613761838'\n",
      "'model: 1, p_values: 3.042259609903417e-24'\n",
      "'model: 2, p_values: 3.01190183792119e-21'\n",
      "'model: 3, p_values: 2.4970100612215838e-06'\n"
     ]
    }
   ],
   "source": [
    "for i, res in enumerate(results):\n",
    "    p_values = het_breuschpagan(res.resid, res.model.exog)[3]\n",
    "    print(f'model: {i}, p_values: {p_values}')"
   ]
  }
 ],
 "metadata": {
  "celltoolbar": "Slideshow",
  "kernelspec": {
   "display_name": "Python 3 (ipykernel)",
   "language": "python",
   "name": "python3"
  },
  "language_info": {
   "codemirror_mode": {
    "name": "ipython",
    "version": 3
   },
   "file_extension": ".py",
   "mimetype": "text/x-python",
   "name": "python",
   "nbconvert_exporter": "python",
   "pygments_lexer": "ipython3",
   "version": "3.11.7"
  },
  "toc": {
   "base_numbering": 2
  }
 },
 "nbformat": 4,
 "nbformat_minor": 5
}
