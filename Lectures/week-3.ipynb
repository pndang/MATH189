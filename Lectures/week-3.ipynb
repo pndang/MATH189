{
 "cells": [
  {
   "cell_type": "markdown",
   "id": "200e3bab",
   "metadata": {
    "editable": true,
    "slideshow": {
     "slide_type": "slide"
    },
    "tags": []
   },
   "source": [
    "# Week 3\n",
    "## MATH 189 • Data Analysis & Inference • Wi 2024\n",
    "### Siddharth Vishwanath"
   ]
  },
  {
   "cell_type": "markdown",
   "id": "306c677c-d173-4612-b1db-80e072fce061",
   "metadata": {},
   "source": [
    "% # %load tex-macros\n",
    "<div hidden>\n",
    "\\newcommand{\\require}[1]{}\n",
    "\n",
    "$\\require{begingroup}\\require{newcommand}$\n",
    "$\\long\\def \\forcecommand #1{\\providecommand{#1}{}\\renewcommand{#1}}$\n",
    "$\\forcecommand{\\defeq}{\\stackrel{\\small\\bullet}{=}}$\n",
    "$\\forcecommand{\\ra}{\\rangle}$\n",
    "$\\forcecommand{\\la}{\\langle}$\n",
    "$\\forcecommand{\\pr}{{\\mathbb P}}$\n",
    "$\\forcecommand{\\qr}{{\\mathbb Q}}$\n",
    "$\\forcecommand{\\xv}{{\\boldsymbol{x}}}$\n",
    "$\\forcecommand{\\av}{{\\boldsymbol{a}}}$\n",
    "$\\forcecommand{\\bv}{{\\boldsymbol{b}}}$\n",
    "$\\forcecommand{\\cv}{{\\boldsymbol{c}}}$\n",
    "$\\forcecommand{\\dv}{{\\boldsymbol{d}}}$\n",
    "$\\forcecommand{\\ev}{{\\boldsymbol{e}}}$\n",
    "$\\forcecommand{\\fv}{{\\boldsymbol{f}}}$\n",
    "$\\forcecommand{\\gv}{{\\boldsymbol{g}}}$\n",
    "$\\forcecommand{\\hv}{{\\boldsymbol{h}}}$\n",
    "$\\forcecommand{\\nv}{{\\boldsymbol{n}}}$\n",
    "$\\forcecommand{\\sv}{{\\boldsymbol{s}}}$\n",
    "$\\forcecommand{\\tv}{{\\boldsymbol{t}}}$\n",
    "$\\forcecommand{\\uv}{{\\boldsymbol{u}}}$\n",
    "$\\forcecommand{\\vv}{{\\boldsymbol{v}}}$\n",
    "$\\forcecommand{\\wv}{{\\boldsymbol{w}}}$\n",
    "$\\forcecommand{\\zerov}{{\\mathbf{0}}}$\n",
    "$\\forcecommand{\\onev}{{\\mathbf{0}}}$\n",
    "$\\forcecommand{\\phiv}{{\\boldsymbol{\\phi}}}$\n",
    "$\\forcecommand{\\cc}{{\\check{C}}}$\n",
    "$\\forcecommand{\\xv}{{\\boldsymbol{x}}}$\n",
    "$\\forcecommand{\\Xv}{{\\boldsymbol{X}\\!}}$\n",
    "$\\forcecommand{\\yv}{{\\boldsymbol{y}}}$\n",
    "$\\forcecommand{\\Yv}{{\\boldsymbol{Y}}}$\n",
    "$\\forcecommand{\\zv}{{\\boldsymbol{z}}}$\n",
    "$\\forcecommand{\\Zv}{{\\boldsymbol{Z}}}$\n",
    "$\\forcecommand{\\Iv}{{\\boldsymbol{I}}}$\n",
    "$\\forcecommand{\\Jv}{{\\boldsymbol{J}}}$\n",
    "$\\forcecommand{\\Cv}{{\\boldsymbol{C}}}$\n",
    "$\\forcecommand{\\Ev}{{\\boldsymbol{E}}}$\n",
    "$\\forcecommand{\\Fv}{{\\boldsymbol{F}}}$\n",
    "$\\forcecommand{\\Gv}{{\\boldsymbol{G}}}$\n",
    "$\\forcecommand{\\Hv}{{\\boldsymbol{H}}}$\n",
    "$\\forcecommand{\\alphav}{{\\boldsymbol{\\alpha}}}$\n",
    "$\\forcecommand{\\epsilonv}{{\\boldsymbol{\\epsilon}}}$\n",
    "$\\forcecommand{\\betav}{{\\boldsymbol{\\beta}}}$\n",
    "$\\forcecommand{\\deltav}{{\\boldsymbol{\\delta}}}$\n",
    "$\\forcecommand{\\gammav}{{\\boldsymbol{\\gamma}}}$\n",
    "$\\forcecommand{\\etav}{{\\boldsymbol{\\eta}}}$\n",
    "$\\forcecommand{\\piv}{{\\boldsymbol{\\pi}}}$\n",
    "$\\forcecommand{\\thetav}{{\\boldsymbol{\\theta}}}$\n",
    "$\\forcecommand{\\tauv}{{\\boldsymbol{\\tau}}}$\n",
    "$\\forcecommand{\\muv}{{\\boldsymbol{\\mu}}}$\n",
    "$%$\n",
    "$\\forcecommand{\\sd}{\\text{SD}}$\n",
    "$\\forcecommand{\\se}{\\text{SE}}$\n",
    "$\\forcecommand{\\med}{\\text{median}}$\n",
    "$\\forcecommand{\\median}{\\text{median}}$\n",
    "$%$\n",
    "$\\forcecommand{\\Ber}{{\\text{Ber}}}$\n",
    "$\\forcecommand{\\Bin}{{\\text{Bin}}}$\n",
    "$\\forcecommand{\\Geo}{{\\text{Geo}}}$\n",
    "$\\forcecommand{\\Unif}{{\\text{Unif}}}$\n",
    "$\\forcecommand{\\Poi}{{\\text{Poi}}}$\n",
    "$\\forcecommand{\\Exp}{{\\text{Exp}}}$\n",
    "$\\forcecommand{\\Chisq}{{\\chi^2}}$\n",
    "$\\forcecommand{\\N}{\\mathbb{N}}$\n",
    "$\\forcecommand{\\iid}{{\\stackrel{iid}{\\sim}}}$\n",
    "$\\forcecommand{\\px}{p_{X}}$\n",
    "$\\forcecommand{\\fx}{f_{X}}$\n",
    "$\\forcecommand{\\Fx}{F_{X}}$\n",
    "$\\forcecommand{\\py}{p_{Y}}$\n",
    "$\\forcecommand{\\pxy}{p_{X,Y}}$\n",
    "$\\forcecommand{\\po}{{p_0}}$\n",
    "$\\forcecommand{\\pa}{{p_a}}$\n",
    "$\\forcecommand{\\Xbar}{\\overline{X}}$\n",
    "$\\forcecommand{\\Ybar}{\\overline{Y}}$\n",
    "$\\forcecommand{\\Zbar}{\\overline{Z}}$\n",
    "$\\forcecommand{\\nXbar}{n \\cdot \\overline{X}}$\n",
    "$\\forcecommand{\\nYbar}{n \\cdot \\overline{Y}}$\n",
    "$\\forcecommand{\\nZbar}{n \\cdot \\overline{Z}}$\n",
    "$\\forcecommand{\\Xn}{X_1, X_2, \\dots, X_n}$\n",
    "$\\forcecommand{\\Xm}{{X_1, X_2, \\dots, X_m}}$\n",
    "$\\forcecommand{\\Yn}{Y_1, Y_2, \\dots, Y_n}$\n",
    "$\\forcecommand{\\Ym}{{Y_1, Y_2, \\dots, Y_m}}$\n",
    "$\\forcecommand{\\sumXn}{X_1 + X_2 + \\dots + X_n}$\n",
    "$\\forcecommand{\\sumym}{Y_1 + Y_2 + \\dots + Y_m}$\n",
    "$\\forcecommand{\\la}{\\ell_\\alpha}$\n",
    "$\\forcecommand{\\ua}{u_\\alpha}$\n",
    "$\\forcecommand{\\at}{{\\alpha/2}}$\n",
    "$\\forcecommand{\\mux}{\\mu_{X}}$\n",
    "$\\forcecommand{\\muy}{\\mu_{Y}}$\n",
    "$\\forcecommand{\\sx}{\\sigma_{X}}$\n",
    "$\\forcecommand{\\sy}{\\sigma_{Y}}$\n",
    "$\\forcecommand{\\pvalue}{$p$-value}$\n",
    "$\\forcecommand{\\Ho}{H_{0}}$\n",
    "$\\forcecommand{\\Ha}{H_{a}}$\n",
    "\n",
    "\\vskip-\\parskip\n",
    "\\vskip-\\baselineskip\n",
    "</div>"
   ]
  },
  {
   "cell_type": "markdown",
   "id": "3b96abc1",
   "metadata": {
    "editable": true,
    "slideshow": {
     "slide_type": "slide"
    },
    "tags": []
   },
   "source": [
    "## Agenda\n",
    "---\n",
    "\n",
    "1. Review of Statistical Inference\n",
    "    * One sample proportion\n",
    "    * Two sample proportions\n",
    "    * One sample mean\n",
    "    * Two sample means\n",
    "\n",
    "---"
   ]
  },
  {
   "cell_type": "code",
   "execution_count": 1,
   "id": "36f314af",
   "metadata": {
    "editable": true,
    "slideshow": {
     "slide_type": ""
    },
    "tags": []
   },
   "outputs": [
    {
     "name": "stderr",
     "output_type": "stream",
     "text": [
      "/var/folders/hj/8xqq0_jd37l1yy3gsych74_r0000gq/T/ipykernel_51192/2191251519.py:2: DeprecationWarning: \n",
      "Pyarrow will become a required dependency of pandas in the next major release of pandas (pandas 3.0),\n",
      "(to allow more performant data types, such as the Arrow string type, and better interoperability with other libraries)\n",
      "but was not found to be installed on your system.\n",
      "If this would cause problems for you,\n",
      "please provide us feedback at https://github.com/pandas-dev/pandas/issues/54466\n",
      "        \n",
      "  import pandas as pd\n"
     ]
    }
   ],
   "source": [
    "import numpy as np\n",
    "import pandas as pd\n",
    "import seaborn as sns\n",
    "import matplotlib.pyplot as plt\n",
    "import seaborn as sns\n",
    "import scipy.stats as stats\n",
    "\n",
    "# Optional \n",
    "import ipywidgets as widgets\n",
    "from ipywidgets import interact, fixed\n",
    "%matplotlib inline"
   ]
  },
  {
   "cell_type": "markdown",
   "id": "0ed87b17",
   "metadata": {},
   "source": [
    "> helper plotting functions from week 2"
   ]
  },
  {
   "cell_type": "code",
   "execution_count": 2,
   "id": "744778c1",
   "metadata": {
    "tags": []
   },
   "outputs": [],
   "source": [
    "# Helper function to plot the pmf of a discrete random variable\n",
    "def plot_X(X, ax, type='pmf', **kwargs):\n",
    "    ax.set_xlabel('Support')\n",
    "    ax.set_title(f'{X.dist.name}{X.args}')\n",
    "    \n",
    "    min_X, max_X = X.ppf((1e-3, 1-1e-3))\n",
    "    supp_X = np.linspace(min_X-1, max_X + 1, 200)\n",
    "    \n",
    "    if type == 'pmf':\n",
    "        supp_X = np.arange(min_X-1, max_X + 1)\n",
    "        ax.bar(supp_X, X.pmf(supp_X), **kwargs)\n",
    "        ax.set_ylabel('PMF')\n",
    "    elif type == 'pdf':\n",
    "        ax.plot(supp_X, X.pdf(supp_X), **kwargs)\n",
    "        ax.set_ylabel('PDF')\n",
    "    elif type == 'cdf':\n",
    "        ax.plot(supp_X, X.cdf(supp_X), **kwargs)\n",
    "        ax.set_ylabel('CDF')\n",
    "    else:\n",
    "        raise ValueError('type must be pmf or cdf')"
   ]
  },
  {
   "cell_type": "markdown",
   "id": "b9176d7f",
   "metadata": {},
   "source": [
    "\n",
    "---\n",
    "\n",
    "# §1. Preliminaries\n",
    "\n",
    "\n",
    "---\n",
    "\n",
    "## Recap of Sampling Distributions\n",
    "\n",
    "* Suppose we observe a sample $\\Xn \\sim D(\\theta)$, i.e., a sample of size $n$ from a distribution $D$ with parameter $\\theta$.\n",
    "* Let $\\hat\\theta$ be a statistic computed from the sample $\\Xn$.\n",
    "    * This statistic is **our best guess** for the parameter $\\theta$.\n",
    "    * Since $\\Xn$ are random variables, $\\hat\\theta$ is also random.\n",
    "\n",
    "> ##### Definition\n",
    ">\n",
    "> The **Sampling distribution** of $\\hat\\theta$ is the distribution of $\\hat\\theta$ when $\\Xn$ are drawn from $D(\\theta)$.\n",
    "\n",
    "The sampling distribution depends on: \n",
    "\n",
    "* the distribution $D$,\n",
    "* the parameter $\\theta$, and\n",
    "* the sample size $n$."
   ]
  },
  {
   "cell_type": "markdown",
   "id": "5ef1e8da",
   "metadata": {},
   "source": [
    "\n",
    "---\n",
    "\n",
    "## How do you intuitively think about sampling distributions?\n",
    "\n",
    "Let's call the process of collecting the data $\\Xn \\sim D(\\theta)$ an **experiment**.<br></br><br></br><br></br>\n",
    "\n",
    "Now, suppose we repeat the experiment many times, each time collecting a new sample $\\Xn$, i.e., <br></br>\n",
    "\n",
    "* **_1st experiment:_** $X^{(1)}_1, X^{(1)}_2, \\dots, X^{(1)}_n \\sim D(\\theta)$ and $\\hat\\theta^{(1)}$ is the statistic computed from this sample.<br></br>\n",
    "* **_2nd experiment:_** $X^{(2)}_1, X^{(2)}_2, \\dots, X^{(2)}_n \\sim D(\\theta)$ and $\\hat\\theta^{(2)}$ is the statistic computed from this sample.<br></br>\n",
    "* **_3rd experiment:_** $X^{(3)}_1, X^{(3)}_2, \\dots, X^{(3)}_n \\sim D(\\theta)$ and $\\hat\\theta^{(3)}$ is the statistic computed from this sample.<br></br>\n",
    "* $\\vdots$\n",
    "* **_$N$-th experiment:_** $X^{(N)}_1, X^{(N)}_2, \\dots, X^{(N)}_n \\sim D(\\theta)$ and $\\hat\\theta^{(N)}$ is the statistic computed from this sample.<br></br><br></br>\n",
    "\n",
    "If we look at the histogram of $\\hat\\theta^{(1)}, \\hat\\theta^{(2)}, \\dots, \\hat\\theta^{(N)}$, we get an approximation of the sampling distribution of $\\hat\\theta$.\n",
    "\n"
   ]
  },
  {
   "cell_type": "markdown",
   "id": "995c2658",
   "metadata": {},
   "source": [
    "---\n",
    "##### Example 1\n",
    "\n",
    "Suppose $\\Xn \\sim Ber(\\theta)$ and $\\hat\\theta = \\overline{X}$ is the sample proportion. \n",
    "\n",
    "Then, the sampling distribution of $\\hat\\theta$ is:\n",
    "\n",
    "$$\n",
    "\\hat\\theta \\sim \\frac{1}{n}\\Bin(n, \\theta)\n",
    "$$"
   ]
  },
  {
   "cell_type": "code",
   "execution_count": 3,
   "id": "be64ce43",
   "metadata": {
    "tags": []
   },
   "outputs": [
    {
     "data": {
      "image/png": "[encoded data removed]",
      "text/plain": [
       "<Figure size 1000x500 with 2 Axes>"
      ]
     },
     "metadata": {},
     "output_type": "display_data"
    }
   ],
   "source": [
    "p = 0.4134\n",
    "n, N = 100, 10000\n",
    "theta_hats = [stats.bernoulli(p).rvs(n).sum() for _ in range(N)]\n",
    "\n",
    "fig, ax = plt.subplots(1, 2, figsize=(10, 5))\n",
    "sns.histplot(theta_hats, ax=ax[0], stat='density', color='red')\n",
    "plot_X(stats.binom(n, p), ax[1], type='pmf')"
   ]
  },
  {
   "cell_type": "markdown",
   "id": "5c8ea2b9",
   "metadata": {},
   "source": [
    "---\n",
    "##### Example 2\n",
    "\n",
    "Suppose $\\Xn \\sim N(\\mu, \\sigma^2)$ and $\\hat\\mu = \\overline{X}$ is the sample mean. \n",
    "\n",
    "Then, the sampling distribution of $\\hat\\mu$ is:\n",
    "\n",
    "$$\n",
    "\\hat\\mu \\sim N(\\mu, \\sigma^2/n)\n",
    "$$"
   ]
  },
  {
   "cell_type": "code",
   "execution_count": 4,
   "id": "b5c8b947",
   "metadata": {
    "tags": []
   },
   "outputs": [
    {
     "data": {
      "image/png": "[encoded data removed]",
      "text/plain": [
       "<Figure size 500x500 with 1 Axes>"
      ]
     },
     "metadata": {},
     "output_type": "display_data"
    }
   ],
   "source": [
    "mu, sigma = 3.141, 2.718\n",
    "n, N = 100, 10000\n",
    "theta_hats = [stats.norm(mu, sigma).rvs(n).mean() for _ in range(N)]\n",
    "\n",
    "fig, ax = plt.subplots(1, 1, figsize=(5, 5))\n",
    "sns.histplot(theta_hats, ax=ax, stat='density', color='red')\n",
    "plot_X(stats.norm(mu, sigma/np.sqrt(n)), ax, type='pdf')"
   ]
  },
  {
   "cell_type": "markdown",
   "id": "6ac5e4b9",
   "metadata": {},
   "source": [
    "---\n",
    "##### Example 3\n",
    "\n",
    "Suppose $\\Xn \\sim N(\\mu, \\sigma^2)$ and:\n",
    "\n",
    "* $\\hat\\mu = \\overline{X}$ is the sample mean\n",
    "* $\\hat\\sigma^2 = \\frac{1}{n-1} \\sum_{i=1}^n (X_i - \\overline{X})^2$ is the sample variance\n",
    "\n",
    "Then, \n",
    "\n",
    "$$\n",
    "\\hat\\mu \\sim N(\\mu, \\sigma^2/n) \\quad\\quad \\text{and} \\quad\\quad \\hat\\sigma^2 \\sim \\frac{\\sigma^2}{n-1} \\cdot \\Chisq(n-1)\n",
    "$$\n",
    "\n",
    "Moreover, \n",
    "\n",
    "$$\n",
    "\\frac{\\hat\\mu - \\mu}{\\sqrt{{\\hat\\sigma^2}\\big/{{n}}}} \\sim t(n-1)\n",
    "$$"
   ]
  },
  {
   "cell_type": "code",
   "execution_count": 5,
   "id": "caaa2d9b",
   "metadata": {
    "tags": []
   },
   "outputs": [
    {
     "data": {
      "application/vnd.jupyter.widget-view+json": {
       "model_id": "ab5082f2052a48dab1f1e78bde4b7f7f",
       "version_major": 2,
       "version_minor": 0
      },
      "text/plain": [
       "interactive(children=(IntSlider(value=16, description='n', max=30, min=2), FloatSlider(value=0.0, description=…"
      ]
     },
     "metadata": {},
     "output_type": "display_data"
    }
   ],
   "source": [
    "@interact(n=(2, 30, 1), mu=(-3, 3, 0.1), sigma = (0.1, 5.0, 0.1))\n",
    "def sampling_distribution(n, mu, sigma):\n",
    "    N = 5000\n",
    "    mu_hats, sigma_hats, theta_hats = (np.zeros(N) for _ in range(3))\n",
    "\n",
    "    for i in range(N):\n",
    "        Xn = stats.norm(mu, sigma).rvs(n)\n",
    "        mu_hats[i] = Xn.mean()\n",
    "        sigma_hats[i] = Xn.std(ddof=1)\n",
    "        theta_hats[i] = (mu_hats[i] - mu) / (sigma_hats[i] / np.sqrt(n))\n",
    "\n",
    "    fig, ax = plt.subplots(1, 1, figsize=(5, 5))\n",
    "    sns.histplot(theta_hats, ax=ax, stat='density', color='red', bins=50)\n",
    "    plot_X(stats.norm(), ax, type='pdf', color='black', linestyle=':')\n",
    "    plot_X(stats.t(n-1), ax, type='pdf')"
   ]
  },
  {
   "cell_type": "markdown",
   "id": "f5130d54",
   "metadata": {},
   "source": [
    "---\n",
    "##### Example 4\n",
    "\n",
    "Suppose $\\Xn \\sim \\Exp(\\lambda)$ and $\\hat\\lambda = \\overline{X}$ is the sample mean. \n",
    "\n",
    "Then, the sampling distribution of $\\hat\\lambda$ is:\n",
    "\n",
    "$$\n",
    "\\hat\\lambda \\sim \\frac{1}{n} \\cdot \\Gamma(n, n \\cdot \\lambda) \\quad\\quad \\text{where } \\Gamma(n, \\lambda) \\text{ is the Gamma distribution with parameters } n \\text{ and } n \\cdot \\lambda.\n",
    "$$\n"
   ]
  },
  {
   "cell_type": "code",
   "execution_count": 6,
   "id": "d77593cc",
   "metadata": {
    "tags": []
   },
   "outputs": [
    {
     "data": {
      "image/png": "[encoded data removed]",
      "text/plain": [
       "<Figure size 500x500 with 1 Axes>"
      ]
     },
     "metadata": {},
     "output_type": "display_data"
    }
   ],
   "source": [
    "lambda_ = np.exp(0.5)\n",
    "n, N = 2000, 5000\n",
    "\n",
    "theta_hats = [stats.expon(lambda_).rvs(n).sum() for _ in range(N)]\n",
    "\n",
    "fig, ax = plt.subplots(1, 1, figsize=(5, 5))\n",
    "sns.histplot(theta_hats, ax=ax, stat='density', color='red')\n",
    "plot_X(stats.gamma(n, n * lambda_), ax, type='pdf')"
   ]
  },
  {
   "cell_type": "markdown",
   "id": "9f5c14aa-0910-4f75-8962-be47f9a14708",
   "metadata": {},
   "source": [
    "---\n",
    "\n",
    "# §2. Confidence Intervals"
   ]
  },
  {
   "cell_type": "markdown",
   "id": "fcbab4b0",
   "metadata": {},
   "source": [
    "## §2.1 Motivation"
   ]
  },
  {
   "cell_type": "markdown",
   "id": "61354cd2",
   "metadata": {},
   "source": [
    "The **$100 \\times (1-\\alpha)\\%$ confidence interval** for a parameter $\\theta$ is an interval $[\\la, \\ua]$ such that:\n",
    "\n",
    "\n",
    "$$\n",
    "\\pr(\\la \\leq \\theta \\leq \\ua) = 1 - \\alpha\n",
    "$$\n"
   ]
  },
  {
   "cell_type": "markdown",
   "id": "cd036d58-9b64-46b6-b10a-c5a7ac2be03b",
   "metadata": {},
   "source": [
    "#### Consider the following experiment: \n",
    "\n",
    "\n",
    "* You go and ask $n=100$ people at UCSD whether or not they are part of a club. \n",
    "\n",
    "$$\n",
    "X  = \\begin{cases}\n",
    "1 & \\text{if the student is part of a club}\\\\\n",
    "0 & \\text{if the student is NOT part of a club}\\\\\n",
    "\\end{cases}\n",
    "$$\n",
    "* Their responses are assumed to be $X_1, X_2, \\dots, X_n \\sim \\Ber(\\theta)$\n",
    "* Here $\\theta$ is the **true** proportion of people at UCSD who are part of a club.\n",
    "\n",
    "Let's assume that **I know** the true value of $\\theta$ to be $\\theta = 0.646$"
   ]
  },
  {
   "cell_type": "code",
   "execution_count": 40,
   "id": "977555a3",
   "metadata": {
    "tags": []
   },
   "outputs": [
    {
     "data": {
      "text/plain": [
       "array([0, 1, 0, 0, 1, 1, 1, 1, 1, 1, 1, 0, 1, 0, 1, 0, 1, 1, 1, 1, 1, 1,\n",
       "       0, 1, 1, 1, 1, 1, 0, 1, 0, 1, 1, 1, 0, 0, 0, 1, 1, 1, 0, 1, 0, 1,\n",
       "       0, 1, 0, 1, 1, 1, 0, 0, 0, 0, 0, 0, 0, 0, 1, 0, 1, 1, 1, 1, 1, 1,\n",
       "       1, 1, 0, 1, 0, 1, 1, 1, 0, 1, 1, 1, 1, 1, 0, 1, 1, 1, 1, 0, 0, 1,\n",
       "       0, 1, 0, 1, 1, 0, 0, 1, 0, 1, 1, 1])"
      ]
     },
     "execution_count": 40,
     "metadata": {},
     "output_type": "execute_result"
    }
   ],
   "source": [
    "theta_true = 0.646\n",
    "\n",
    "def ask_survey(n):\n",
    "    return stats.bernoulli.rvs(theta_true, size=n)\n",
    "\n",
    "responses = ask_survey(100)\n",
    "responses"
   ]
  },
  {
   "cell_type": "markdown",
   "id": "05ef6cfa",
   "metadata": {},
   "source": [
    "Our best **guess** for the true value of $\\theta$ is the sample proportion \n",
    "$$\\hat{\\theta} = \\frac{1}{n} \\sum_{i=1}^n X_i.$$\n",
    "\n",
    "Here, $\\hat\\theta$ is the **statistic** and $\\theta$ is the **parameter**."
   ]
  },
  {
   "cell_type": "code",
   "execution_count": 41,
   "id": "e6ccecdc",
   "metadata": {
    "tags": []
   },
   "outputs": [
    {
     "data": {
      "text/plain": [
       "0.64"
      ]
     },
     "execution_count": 41,
     "metadata": {},
     "output_type": "execute_result"
    }
   ],
   "source": [
    "theta_hat = np.mean(responses)\n",
    "theta_hat"
   ]
  },
  {
   "cell_type": "markdown",
   "id": "b5274760",
   "metadata": {},
   "source": [
    "But, of course, **you** don't know that the true $\\theta=0.646$, and we can only report our best guess $\\hat{\\theta}$. Let's see how far off we are from the true value."
   ]
  },
  {
   "cell_type": "code",
   "execution_count": 42,
   "id": "fe9f2f3b",
   "metadata": {
    "tags": []
   },
   "outputs": [
    {
     "data": {
      "text/plain": [
       "0.006000000000000005"
      ]
     },
     "execution_count": 42,
     "metadata": {},
     "output_type": "execute_result"
    }
   ],
   "source": [
    "abs(theta_hat - theta_true)"
   ]
  },
  {
   "cell_type": "markdown",
   "id": "1fc066b5",
   "metadata": {},
   "source": [
    "Note that:\n",
    "\n",
    "* the true population parameter $\\theta$ is a fixed value\n",
    "* the statistic $\\hat\\theta$ is a random variable that depends on the sample.\n",
    "\n",
    "Therefore, if we collect different samples, we will get different values of $\\hat\\theta$."
   ]
  },
  {
   "cell_type": "code",
   "execution_count": 43,
   "id": "b457da3b",
   "metadata": {
    "tags": []
   },
   "outputs": [
    {
     "data": {
      "text/plain": [
       "array([0.62, 0.68, 0.64, 0.67, 0.59, 0.63, 0.6 , 0.71, 0.68, 0.68, 0.68,\n",
       "       0.68, 0.67, 0.63, 0.65, 0.59, 0.64, 0.59, 0.68, 0.68, 0.63, 0.61,\n",
       "       0.68, 0.7 , 0.57, 0.69, 0.64, 0.62, 0.59, 0.72, 0.67, 0.63, 0.59,\n",
       "       0.65, 0.65, 0.61, 0.64, 0.61, 0.62, 0.61, 0.69, 0.64, 0.67, 0.65,\n",
       "       0.6 , 0.68, 0.66, 0.66, 0.69, 0.65, 0.61, 0.66, 0.71, 0.64, 0.68,\n",
       "       0.59, 0.67, 0.68, 0.74, 0.55, 0.7 , 0.59, 0.65, 0.66, 0.6 , 0.65,\n",
       "       0.66, 0.77, 0.61, 0.61, 0.63, 0.6 , 0.61, 0.55, 0.6 , 0.64, 0.63,\n",
       "       0.65, 0.58, 0.64, 0.64, 0.64, 0.69, 0.64, 0.62, 0.67, 0.55, 0.58,\n",
       "       0.61, 0.61, 0.6 , 0.6 , 0.72, 0.66, 0.7 , 0.63, 0.58, 0.7 , 0.71,\n",
       "       0.62, 0.63, 0.7 , 0.69, 0.73, 0.6 , 0.69, 0.75, 0.68, 0.58, 0.69,\n",
       "       0.7 , 0.65, 0.69, 0.73, 0.57, 0.62, 0.7 , 0.72, 0.68, 0.64, 0.67,\n",
       "       0.63, 0.65, 0.66, 0.62, 0.64, 0.73, 0.66, 0.73, 0.6 , 0.63, 0.6 ,\n",
       "       0.73, 0.58, 0.58, 0.57, 0.64, 0.62, 0.64, 0.6 , 0.69, 0.73, 0.67,\n",
       "       0.64, 0.62, 0.64, 0.59, 0.61, 0.67, 0.63, 0.58, 0.53, 0.61, 0.75,\n",
       "       0.61, 0.6 , 0.58, 0.65, 0.7 , 0.66, 0.7 , 0.76, 0.62, 0.68, 0.63,\n",
       "       0.58, 0.67, 0.71, 0.69, 0.7 , 0.67, 0.59, 0.67, 0.62, 0.68, 0.64,\n",
       "       0.6 , 0.68, 0.65, 0.63, 0.65, 0.67, 0.63, 0.69, 0.58, 0.7 , 0.61,\n",
       "       0.68, 0.67, 0.66, 0.63, 0.64, 0.57, 0.62, 0.66, 0.7 , 0.69, 0.71,\n",
       "       0.65, 0.57, 0.57, 0.61, 0.64, 0.59, 0.66, 0.6 , 0.63, 0.71, 0.54,\n",
       "       0.6 , 0.7 , 0.69, 0.65, 0.7 , 0.58, 0.77, 0.64, 0.65, 0.73, 0.57])"
      ]
     },
     "execution_count": 43,
     "metadata": {},
     "output_type": "execute_result"
    }
   ],
   "source": [
    "surveys = [ask_survey(100) for _ in range(220)]\n",
    "\n",
    "theta_hats = np.array([np.mean(survey) for survey in surveys])\n",
    "\n",
    "theta_hats"
   ]
  },
  {
   "cell_type": "markdown",
   "id": "f8802368",
   "metadata": {},
   "source": [
    "Okay, so each of you have gone and collected a sample of size $n=100$ and computed the sample proportion $\\hat\\theta$. Who do we trust? How do we know if someone got a \"bad\" sample?"
   ]
  },
  {
   "cell_type": "markdown",
   "id": "b5f1f391",
   "metadata": {},
   "source": [
    "##### Answer: \n",
    "\n",
    "Instead of just reporting $\\hat\\theta$, we report a **confidence interval** $[\\la, \\ua]$. The confidence interval gives us a range of values that we are confident the true parameter $\\theta$ lies in."
   ]
  },
  {
   "cell_type": "markdown",
   "id": "d190dab9",
   "metadata": {},
   "source": [
    "---\n",
    "\n",
    "## §2.2 Confidence Intervals for One Sample Proportion\n",
    "\n",
    "Let $X_1, X_2, \\dots, X_n \\sim \\Ber(\\theta)$ be a random sample of size $n$ from a population with proportion $\\theta$.\n",
    "\n",
    "The **$100 \\times (1-\\alpha)\\%$ confidence interval** for $\\theta$ is given by\n",
    "\n",
    "$$\n",
    "\\begin{aligned}\n",
    "CI(\\theta, \\alpha)\n",
    " &= \\Bigg[\\hat{\\theta} - z_{\\alpha/2} \\cdot \\se, \\ \\  \\hat{\\theta} + z_{\\alpha/2} \\cdot \\se \\Bigg]\\\\ \\\\\n",
    " &= \\Bigg[\\hat{\\theta} - z_{\\alpha/2} \\sqrt{\\frac{\\hat{\\theta}(1-\\hat{\\theta})}{n}}, \\ \\  \\hat{\\theta} + z_{\\alpha/2} \\sqrt{\\frac{\\hat{\\theta}(1-\\hat{\\theta})}{n}}\\Bigg]\n",
    "\\end{aligned}\n",
    "$$\n",
    "\n",
    "where $z_{\\alpha/2}$ is the $(1-\\alpha/2)$ quantile of the standard normal distribution."
   ]
  },
  {
   "cell_type": "code",
   "execution_count": 44,
   "id": "9f4917cf",
   "metadata": {
    "tags": []
   },
   "outputs": [
    {
     "name": "stdout",
     "output_type": "stream",
     "text": [
      "[0 1 1 0 0 0 0 1 1 1 0 0 1 0 1 1 0 1 1 1 0 0 1 0 0 1 1 1 1 0 0 1 1 0 0 1 0\n",
      " 0 0 0 1 1 1 1 0 1 1 1 1 1 0 1 0 1 0 1 0 1 0 1 1 1 1 1 1 1 1 0 1 1 1 1 0 1\n",
      " 1 1 1 0 1 0 1 0 0 1 1 1 1 1 0 1 1 0 1 0 1 1 1 0 1 1], \n",
      " \n",
      " 0.63, 0.646\n"
     ]
    }
   ],
   "source": [
    "# let's choose a random survey\n",
    "i = 20\n",
    "print(f'{surveys[i]}, \\n \\n {np.mean(surveys[i])}, {theta_true}')"
   ]
  },
  {
   "cell_type": "code",
   "execution_count": 45,
   "id": "505634f5",
   "metadata": {
    "tags": []
   },
   "outputs": [
    {
     "data": {
      "application/vnd.jupyter.widget-view+json": {
       "model_id": "0034ca9a44464994a344ff280a8f9c21",
       "version_major": 2,
       "version_minor": 0
      },
      "text/plain": [
       "interactive(children=(FloatSlider(value=0.5, description='alpha', max=1.0, min=0.005, step=0.005), Output()), …"
      ]
     },
     "metadata": {},
     "output_type": "display_data"
    }
   ],
   "source": [
    "@interact(X = fixed(stats.chi2(5)), alpha=(0.005, 1.000, 0.005))\n",
    "def plot_quantile(X, alpha):\n",
    "    z_alpha = X.ppf(1-alpha)\n",
    "    fig, axes = plt.subplots(1, 2, figsize=(12, 5))\n",
    "    plot_X(X, axes[0], type='pdf')\n",
    "    plot_X(X, axes[1], type='pdf')\n",
    "    x = np.linspace(*X.ppf((1e-3, 1-1e-3)), 100)\n",
    "    y = X.pdf(x)\n",
    "    \n",
    "    axes[0].axvline(x=X.ppf(alpha), color='red', linestyle='--')\n",
    "    axes[0].fill_between(x, 0, y, where=x <= X.ppf(alpha), alpha=0.2, color='grey')\n",
    "    axes[0].set_title(rf'($\\alpha$)-quantile = {X.ppf(alpha): .2f}')\n",
    "    \n",
    "    axes[1].axvline(x=z_alpha, color='red', linestyle='--')\n",
    "    axes[1].fill_between(x, 0, y, where=x >= z_alpha, alpha=0.2)\n",
    "    axes[1].set_title(rf'$z_\\alpha$ = {z_alpha: .2f}')\n",
    "    fig.suptitle(rf'$\\alpha$ = {alpha: .3f}', fontsize=16)"
   ]
  },
  {
   "cell_type": "code",
   "execution_count": 46,
   "id": "56d42012",
   "metadata": {
    "tags": []
   },
   "outputs": [],
   "source": [
    "def CI_1proportion(sample, alpha):\n",
    "    n = len(sample)\n",
    "    Z = stats.norm(0, 1)\n",
    "    z_alpha_by_2 = Z.ppf(1-alpha/2)\n",
    "    \n",
    "    theta_hat = np.mean(sample)\n",
    "    se = np.sqrt(theta_hat * (1-theta_hat) / n)\n",
    "    ci = np.array((-1, +1)) * z_alpha_by_2 * se + theta_hat\n",
    "    return ci"
   ]
  },
  {
   "cell_type": "code",
   "execution_count": 47,
   "id": "e284f506",
   "metadata": {
    "tags": []
   },
   "outputs": [
    {
     "data": {
      "text/plain": [
       "array([0.53537209, 0.72462791])"
      ]
     },
     "execution_count": 47,
     "metadata": {},
     "output_type": "execute_result"
    }
   ],
   "source": [
    "alpha = 0.05\n",
    "CI_1proportion(surveys[20], alpha)"
   ]
  },
  {
   "cell_type": "code",
   "execution_count": 48,
   "id": "abc05de7",
   "metadata": {},
   "outputs": [
    {
     "data": {
      "text/plain": [
       "[array([0.52486601, 0.71513399]),\n",
       " array([0.58857235, 0.77142765]),\n",
       " array([0.54592173, 0.73407827]),\n",
       " array([0.57784, 0.76216]),\n",
       " array([0.49360244, 0.68639756]),\n",
       " array([0.53537209, 0.72462791]),\n",
       " array([0.50398177, 0.69601823]),\n",
       " array([0.62106427, 0.79893573]),\n",
       " array([0.58857235, 0.77142765]),\n",
       " array([0.58857235, 0.77142765]),\n",
       " array([0.58857235, 0.77142765]),\n",
       " array([0.58857235, 0.77142765]),\n",
       " array([0.57784, 0.76216]),\n",
       " array([0.53537209, 0.72462791]),\n",
       " array([0.55651568, 0.74348432]),\n",
       " array([0.49360244, 0.68639756]),\n",
       " array([0.54592173, 0.73407827]),\n",
       " array([0.49360244, 0.68639756]),\n",
       " array([0.58857235, 0.77142765]),\n",
       " array([0.58857235, 0.77142765]),\n",
       " array([0.53537209, 0.72462791]),\n",
       " array([0.51440277, 0.70559723]),\n",
       " array([0.58857235, 0.77142765]),\n",
       " array([0.61018317, 0.78981683]),\n",
       " array([0.47296694, 0.66703306]),\n",
       " array([0.59935299, 0.78064701]),\n",
       " array([0.54592173, 0.73407827]),\n",
       " array([0.52486601, 0.71513399]),\n",
       " array([0.49360244, 0.68639756]),\n",
       " array([0.63199784, 0.80800216]),\n",
       " array([0.57784, 0.76216]),\n",
       " array([0.53537209, 0.72462791]),\n",
       " array([0.49360244, 0.68639756]),\n",
       " array([0.55651568, 0.74348432]),\n",
       " array([0.55651568, 0.74348432]),\n",
       " array([0.51440277, 0.70559723]),\n",
       " array([0.54592173, 0.73407827]),\n",
       " array([0.51440277, 0.70559723]),\n",
       " array([0.52486601, 0.71513399]),\n",
       " array([0.51440277, 0.70559723]),\n",
       " array([0.59935299, 0.78064701]),\n",
       " array([0.54592173, 0.73407827]),\n",
       " array([0.57784, 0.76216]),\n",
       " array([0.55651568, 0.74348432]),\n",
       " array([0.50398177, 0.69601823]),\n",
       " array([0.58857235, 0.77142765]),\n",
       " array([0.56715479, 0.75284521]),\n",
       " array([0.56715479, 0.75284521]),\n",
       " array([0.59935299, 0.78064701]),\n",
       " array([0.55651568, 0.74348432]),\n",
       " array([0.51440277, 0.70559723]),\n",
       " array([0.56715479, 0.75284521]),\n",
       " array([0.62106427, 0.79893573]),\n",
       " array([0.54592173, 0.73407827]),\n",
       " array([0.58857235, 0.77142765]),\n",
       " array([0.49360244, 0.68639756]),\n",
       " array([0.57784, 0.76216]),\n",
       " array([0.58857235, 0.77142765]),\n",
       " array([0.65402927, 0.82597073]),\n",
       " array([0.45249302, 0.64750698]),\n",
       " array([0.61018317, 0.78981683]),\n",
       " array([0.49360244, 0.68639756]),\n",
       " array([0.55651568, 0.74348432]),\n",
       " array([0.56715479, 0.75284521]),\n",
       " array([0.50398177, 0.69601823]),\n",
       " array([0.55651568, 0.74348432]),\n",
       " array([0.56715479, 0.75284521]),\n",
       " array([0.68751834, 0.85248166]),\n",
       " array([0.51440277, 0.70559723]),\n",
       " array([0.51440277, 0.70559723]),\n",
       " array([0.53537209, 0.72462791]),\n",
       " array([0.50398177, 0.69601823]),\n",
       " array([0.51440277, 0.70559723]),\n",
       " array([0.45249302, 0.64750698]),\n",
       " array([0.50398177, 0.69601823]),\n",
       " array([0.54592173, 0.73407827]),\n",
       " array([0.53537209, 0.72462791]),\n",
       " array([0.55651568, 0.74348432]),\n",
       " array([0.48326431, 0.67673569]),\n",
       " array([0.54592173, 0.73407827]),\n",
       " array([0.54592173, 0.73407827]),\n",
       " array([0.54592173, 0.73407827]),\n",
       " array([0.59935299, 0.78064701]),\n",
       " array([0.54592173, 0.73407827]),\n",
       " array([0.52486601, 0.71513399]),\n",
       " array([0.57784, 0.76216]),\n",
       " array([0.45249302, 0.64750698]),\n",
       " array([0.48326431, 0.67673569]),\n",
       " array([0.51440277, 0.70559723]),\n",
       " array([0.51440277, 0.70559723]),\n",
       " array([0.50398177, 0.69601823]),\n",
       " array([0.50398177, 0.69601823]),\n",
       " array([0.63199784, 0.80800216]),\n",
       " array([0.56715479, 0.75284521]),\n",
       " array([0.61018317, 0.78981683]),\n",
       " array([0.53537209, 0.72462791]),\n",
       " array([0.48326431, 0.67673569]),\n",
       " array([0.61018317, 0.78981683]),\n",
       " array([0.62106427, 0.79893573]),\n",
       " array([0.52486601, 0.71513399]),\n",
       " array([0.53537209, 0.72462791]),\n",
       " array([0.61018317, 0.78981683]),\n",
       " array([0.59935299, 0.78064701]),\n",
       " array([0.64298555, 0.81701445]),\n",
       " array([0.50398177, 0.69601823]),\n",
       " array([0.59935299, 0.78064701]),\n",
       " array([0.66513107, 0.83486893]),\n",
       " array([0.58857235, 0.77142765]),\n",
       " array([0.48326431, 0.67673569]),\n",
       " array([0.59935299, 0.78064701]),\n",
       " array([0.61018317, 0.78981683]),\n",
       " array([0.55651568, 0.74348432]),\n",
       " array([0.59935299, 0.78064701]),\n",
       " array([0.64298555, 0.81701445]),\n",
       " array([0.47296694, 0.66703306]),\n",
       " array([0.52486601, 0.71513399]),\n",
       " array([0.61018317, 0.78981683]),\n",
       " array([0.63199784, 0.80800216]),\n",
       " array([0.58857235, 0.77142765]),\n",
       " array([0.54592173, 0.73407827]),\n",
       " array([0.57784, 0.76216]),\n",
       " array([0.53537209, 0.72462791]),\n",
       " array([0.55651568, 0.74348432]),\n",
       " array([0.56715479, 0.75284521]),\n",
       " array([0.52486601, 0.71513399]),\n",
       " array([0.54592173, 0.73407827]),\n",
       " array([0.64298555, 0.81701445]),\n",
       " array([0.56715479, 0.75284521]),\n",
       " array([0.64298555, 0.81701445]),\n",
       " array([0.50398177, 0.69601823]),\n",
       " array([0.53537209, 0.72462791]),\n",
       " array([0.50398177, 0.69601823]),\n",
       " array([0.64298555, 0.81701445]),\n",
       " array([0.48326431, 0.67673569]),\n",
       " array([0.48326431, 0.67673569]),\n",
       " array([0.47296694, 0.66703306]),\n",
       " array([0.54592173, 0.73407827]),\n",
       " array([0.52486601, 0.71513399]),\n",
       " array([0.54592173, 0.73407827]),\n",
       " array([0.50398177, 0.69601823]),\n",
       " array([0.59935299, 0.78064701]),\n",
       " array([0.64298555, 0.81701445]),\n",
       " array([0.57784, 0.76216]),\n",
       " array([0.54592173, 0.73407827]),\n",
       " array([0.52486601, 0.71513399]),\n",
       " array([0.54592173, 0.73407827]),\n",
       " array([0.49360244, 0.68639756]),\n",
       " array([0.51440277, 0.70559723]),\n",
       " array([0.57784, 0.76216]),\n",
       " array([0.53537209, 0.72462791]),\n",
       " array([0.48326431, 0.67673569]),\n",
       " array([0.43217836, 0.62782164]),\n",
       " array([0.51440277, 0.70559723]),\n",
       " array([0.66513107, 0.83486893]),\n",
       " array([0.51440277, 0.70559723]),\n",
       " array([0.50398177, 0.69601823]),\n",
       " array([0.48326431, 0.67673569]),\n",
       " array([0.55651568, 0.74348432]),\n",
       " array([0.61018317, 0.78981683]),\n",
       " array([0.56715479, 0.75284521]),\n",
       " array([0.61018317, 0.78981683]),\n",
       " array([0.67629324, 0.84370676]),\n",
       " array([0.52486601, 0.71513399]),\n",
       " array([0.58857235, 0.77142765]),\n",
       " array([0.53537209, 0.72462791]),\n",
       " array([0.48326431, 0.67673569]),\n",
       " array([0.57784, 0.76216]),\n",
       " array([0.62106427, 0.79893573]),\n",
       " array([0.59935299, 0.78064701]),\n",
       " array([0.61018317, 0.78981683]),\n",
       " array([0.57784, 0.76216]),\n",
       " array([0.49360244, 0.68639756]),\n",
       " array([0.57784, 0.76216]),\n",
       " array([0.52486601, 0.71513399]),\n",
       " array([0.58857235, 0.77142765]),\n",
       " array([0.54592173, 0.73407827]),\n",
       " array([0.50398177, 0.69601823]),\n",
       " array([0.58857235, 0.77142765]),\n",
       " array([0.55651568, 0.74348432]),\n",
       " array([0.53537209, 0.72462791]),\n",
       " array([0.55651568, 0.74348432]),\n",
       " array([0.57784, 0.76216]),\n",
       " array([0.53537209, 0.72462791]),\n",
       " array([0.59935299, 0.78064701]),\n",
       " array([0.48326431, 0.67673569]),\n",
       " array([0.61018317, 0.78981683]),\n",
       " array([0.51440277, 0.70559723]),\n",
       " array([0.58857235, 0.77142765]),\n",
       " array([0.57784, 0.76216]),\n",
       " array([0.56715479, 0.75284521]),\n",
       " array([0.53537209, 0.72462791]),\n",
       " array([0.54592173, 0.73407827]),\n",
       " array([0.47296694, 0.66703306]),\n",
       " array([0.52486601, 0.71513399]),\n",
       " array([0.56715479, 0.75284521]),\n",
       " array([0.61018317, 0.78981683]),\n",
       " array([0.59935299, 0.78064701]),\n",
       " array([0.62106427, 0.79893573]),\n",
       " array([0.55651568, 0.74348432]),\n",
       " array([0.47296694, 0.66703306]),\n",
       " array([0.47296694, 0.66703306]),\n",
       " array([0.51440277, 0.70559723]),\n",
       " array([0.54592173, 0.73407827]),\n",
       " array([0.49360244, 0.68639756]),\n",
       " array([0.56715479, 0.75284521]),\n",
       " array([0.50398177, 0.69601823]),\n",
       " array([0.53537209, 0.72462791]),\n",
       " array([0.62106427, 0.79893573]),\n",
       " array([0.4423159, 0.6376841]),\n",
       " array([0.50398177, 0.69601823]),\n",
       " array([0.61018317, 0.78981683]),\n",
       " array([0.59935299, 0.78064701]),\n",
       " array([0.55651568, 0.74348432]),\n",
       " array([0.61018317, 0.78981683]),\n",
       " array([0.48326431, 0.67673569]),\n",
       " array([0.68751834, 0.85248166]),\n",
       " array([0.54592173, 0.73407827]),\n",
       " array([0.55651568, 0.74348432]),\n",
       " array([0.64298555, 0.81701445]),\n",
       " array([0.47296694, 0.66703306])]"
      ]
     },
     "execution_count": 48,
     "metadata": {},
     "output_type": "execute_result"
    }
   ],
   "source": [
    "[CI_1proportion(survey, alpha) for survey in surveys]"
   ]
  },
  {
   "cell_type": "markdown",
   "id": "3548f943",
   "metadata": {},
   "source": [
    "Let's make a plot of all the confidence intervals for the different surveys you all conducted."
   ]
  },
  {
   "cell_type": "code",
   "execution_count": 49,
   "id": "4f6878e8",
   "metadata": {
    "tags": []
   },
   "outputs": [
    {
     "data": {
      "image/png": "[encoded data removed]",
      "text/plain": [
       "<Figure size 1500x300 with 1 Axes>"
      ]
     },
     "metadata": {},
     "output_type": "display_data"
    }
   ],
   "source": [
    "fig, ax = plt.subplots(1, 1, figsize=(15, 3))\n",
    "\n",
    "cis = [CI_1proportion(survey, alpha) for survey in surveys]\n",
    "\n",
    "ax.axhline(y=theta_true, color='red', linestyle='--')\n",
    "ax.set_ylabel(r'CI($\\theta$, 0.05)')\n",
    "for i, ci in enumerate(cis):\n",
    "    cl = 'black' if ci[0] <= theta_true <= ci[1] else 'red'\n",
    "    ax.plot([i, i], ci, color=cl, linewidth=1.0)"
   ]
  },
  {
   "cell_type": "code",
   "execution_count": 50,
   "id": "f290f564",
   "metadata": {
    "tags": []
   },
   "outputs": [
    {
     "data": {
      "text/plain": [
       "0.9636363636363636"
      ]
     },
     "execution_count": 50,
     "metadata": {},
     "output_type": "execute_result"
    }
   ],
   "source": [
    "coverage = np.mean([ci[0] <= theta_true <= ci[1] for ci in cis])\n",
    "coverage"
   ]
  },
  {
   "cell_type": "markdown",
   "id": "0ea36461",
   "metadata": {},
   "source": [
    "Let's repeat this, but now with more surveys. "
   ]
  },
  {
   "cell_type": "code",
   "execution_count": 51,
   "id": "42e8cc32",
   "metadata": {
    "tags": []
   },
   "outputs": [
    {
     "data": {
      "text/plain": [
       "0.9542"
      ]
     },
     "execution_count": 51,
     "metadata": {},
     "output_type": "execute_result"
    }
   ],
   "source": [
    "num_respondents, num_surveys = 1000, 10000\n",
    "surveys = [ask_survey(num_respondents) for _ in range(num_surveys)]\n",
    "cis = [CI_1proportion(survey, alpha) for survey in surveys]\n",
    "coverage = np.mean([ci[0] <= theta_true <= ci[1] for ci in cis])\n",
    "coverage"
   ]
  },
  {
   "cell_type": "markdown",
   "id": "6c8d45ee",
   "metadata": {},
   "source": [
    "The interpretation of the confidence interval is as follows:\n",
    "\n",
    "\n",
    "> If we were to repeat this experiment many times and compute the confidence interval $[\\la, \\ua]$ every single time,\n",
    ">\n",
    "> then $100 \\times (1-\\alpha)\\%$ of the time the true parameter $\\theta$ will lie in these intervals.\n",
    ">\n",
    "> The proportion of times that the true parameter $\\theta$ lies in the interval $[\\la, \\ua]$ is called the **coverage probability** of the interval."
   ]
  },
  {
   "cell_type": "markdown",
   "id": "4d872e99",
   "metadata": {},
   "source": [
    "---\n",
    "\n",
    "## §2.3 Confidence Intervals for difference of two proportions\n",
    "\n",
    "Let:\n",
    "\n",
    "* $\\Xn \\sim \\Ber(\\theta_X)$ be a random sample of size $n$ from a population with proportion $\\theta_Y$.\n",
    "* $\\Ym \\sim \\Ber(\\theta_Y)$ be a random sample of size $m$ from a population with proportion $\\theta_Y$.\n",
    "\n",
    "\n",
    "Then:\n",
    "* The parameter of interest is $\\theta_X - \\theta_Y$.\n",
    "* The statistic of interest is $\\hat \\theta = \\hat{\\theta}_X - \\hat{\\theta}_Y$.\n",
    "\n",
    "The **$100 \\times (1-\\alpha)\\%$ confidence interval** for $\\theta_X - \\theta_Y$ is given by\n",
    "\n",
    "$$\n",
    "\\begin{aligned}\n",
    "CI(\\theta_X - \\theta_Y, \\alpha) &= \\Bigg[\\hat{\\theta} - z_{\\alpha/2} \\cdot \\se, \\ \\  \\hat{\\theta} + z_{\\alpha/2} \\cdot \\se \\Bigg]\\\\\n",
    "\\end{aligned}\n",
    "$$\n",
    "\n",
    "where\n",
    "\n",
    "$$\n",
    "\\se = \\sqrt{\\frac{\\hat{\\theta}_X(1-\\hat{\\theta}_X)}{n} + \\frac{\\hat{\\theta}_Y(1-\\hat{\\theta}_Y)}{m}}\n",
    "$$\n",
    "\n"
   ]
  },
  {
   "cell_type": "markdown",
   "id": "1e2ac135",
   "metadata": {},
   "source": [
    "Suppose we know that $\\theta_X = 0.646$ and $\\theta_Y = 0.628$. Let's see how well our confidence interval does."
   ]
  },
  {
   "cell_type": "code",
   "execution_count": 52,
   "id": "785faf57",
   "metadata": {
    "tags": []
   },
   "outputs": [
    {
     "data": {
      "text/plain": [
       "{'x': array([1, 1, 0, 0, 0, 0, 0, 1, 1, 1, 0, 0, 1, 1, 1, 1, 0, 0, 1, 1, 1, 1,\n",
       "        0, 1, 1, 0, 1, 1, 1, 0, 1, 1, 1, 1, 1, 1, 1, 1, 0, 0, 1, 0, 0, 0,\n",
       "        0, 1, 1, 1, 0, 1]),\n",
       " 'y': array([0, 0, 1, 0, 0, 0, 0, 1, 1, 0, 1, 0, 0, 0, 0, 1, 0, 1, 1, 1, 1, 0,\n",
       "        1, 1, 1, 1, 1, 1, 1, 1, 0, 1, 1, 1, 1, 1, 0, 1, 1, 0])}"
      ]
     },
     "execution_count": 52,
     "metadata": {},
     "output_type": "execute_result"
    }
   ],
   "source": [
    "theta_x = 0.646\n",
    "theta_y = 0.628\n",
    "\n",
    "def ask_surveys(n, m):\n",
    "    return {\n",
    "        'x': stats.bernoulli.rvs(theta_x, size=n), \n",
    "        'y': stats.bernoulli.rvs(theta_y, size=m)\n",
    "    }\n",
    "\n",
    "ask_surveys(n=50, m=40)"
   ]
  },
  {
   "cell_type": "markdown",
   "id": "321e0ad2",
   "metadata": {},
   "source": [
    "* The true value of $\\theta$ is \n",
    "$$\n",
    "\\begin{aligned}\n",
    "\\theta &= \\theta_X - \\theta_Y\\\\ \n",
    "&= 0.646 - 0.628 \\\\\n",
    "&= 0.018.\n",
    "\\end{aligned}\n",
    "$$ \n",
    "* The sample estimator is \n",
    "$$\n",
    "\\begin{aligned}\n",
    "\\hat\\theta &= \\hat{\\theta}_X - \\hat{\\theta}_Y\\\\ &= \\overline{X} - \\overline{Y}.\n",
    "\\end{aligned}\n",
    "$$"
   ]
  },
  {
   "cell_type": "code",
   "execution_count": 53,
   "id": "6781c281",
   "metadata": {
    "tags": []
   },
   "outputs": [
    {
     "data": {
      "text/plain": [
       "-0.08499999999999996"
      ]
     },
     "execution_count": 53,
     "metadata": {},
     "output_type": "execute_result"
    }
   ],
   "source": [
    "theta_hat = lambda survey: np.mean(survey['x']) - np.mean(survey['y'])\n",
    "\n",
    "survey = ask_surveys(50, 40)\n",
    "theta_hat(survey)"
   ]
  },
  {
   "cell_type": "code",
   "execution_count": 54,
   "id": "e5796b61",
   "metadata": {
    "tags": []
   },
   "outputs": [
    {
     "data": {
      "text/plain": [
       "array([-0.28894341,  0.11894341])"
      ]
     },
     "execution_count": 54,
     "metadata": {},
     "output_type": "execute_result"
    }
   ],
   "source": [
    "def CI_2proportion(survey, alpha):\n",
    "    n, m = len(survey['x']), len(survey['y'])\n",
    "    theta_hat = np.mean(survey['x']) - np.mean(survey['y'])\n",
    "    se = np.sqrt(np.mean(survey['x']) * (1 - np.mean(survey['x'])) / n + np.mean(survey['y']) * (1 - np.mean(survey['y'])) / m)\n",
    "    Z = stats.norm(0, 1)\n",
    "    z_alpha_by_2 = Z.ppf(1-alpha/2)\n",
    "    ci = np.array((-1, +1)) * z_alpha_by_2 * se + theta_hat\n",
    "    return ci\n",
    "\n",
    "CI_2proportion(survey, alpha)"
   ]
  },
  {
   "cell_type": "code",
   "execution_count": 55,
   "id": "43477a07",
   "metadata": {
    "tags": []
   },
   "outputs": [
    {
     "data": {
      "image/png": "[encoded data removed]",
      "text/plain": [
       "<Figure size 1500x300 with 1 Axes>"
      ]
     },
     "metadata": {},
     "output_type": "display_data"
    }
   ],
   "source": [
    "num_surveys = 250\n",
    "surveys = [ask_surveys(50, 40) for _ in range(num_surveys)]\n",
    "theta_hats = np.array([theta_hat(survey) for survey in surveys])\n",
    "cis = [CI_2proportion(survey, alpha) for survey in surveys]\n",
    "\n",
    "fig, ax = plt.subplots(1, 1, figsize=(15, 3))\n",
    "\n",
    "ax.axhline(y=theta_x-theta_y, color='red', linestyle='--')\n",
    "ax.set_ylabel(r'CI($\\theta$, 0.05)')\n",
    "ax.set_xlabel('Survey number')\n",
    "for i, ci in enumerate(cis):\n",
    "    cl = 'black' if ci[0] <= theta_x - theta_y <= ci[1] else 'red'\n",
    "    ax.plot([i, i], ci, color=cl, linewidth=1.0)\n"
   ]
  },
  {
   "cell_type": "code",
   "execution_count": 56,
   "id": "0162893f",
   "metadata": {
    "tags": []
   },
   "outputs": [
    {
     "data": {
      "text/plain": [
       "0.944"
      ]
     },
     "execution_count": 56,
     "metadata": {},
     "output_type": "execute_result"
    }
   ],
   "source": [
    "coverage = np.mean([ci[0] <= theta_x - theta_y <= ci[1] for ci in cis])\n",
    "coverage"
   ]
  },
  {
   "cell_type": "markdown",
   "id": "f03ed832",
   "metadata": {},
   "source": [
    "Let's repeat this, but now with more surveys. "
   ]
  },
  {
   "cell_type": "code",
   "execution_count": 57,
   "id": "474fe965",
   "metadata": {},
   "outputs": [
    {
     "data": {
      "text/plain": [
       "0.94802"
      ]
     },
     "execution_count": 57,
     "metadata": {},
     "output_type": "execute_result"
    }
   ],
   "source": [
    "n, m, num_surveys = 1000, 2000, 50000\n",
    "surveys = [ask_surveys(n, m) for _ in range(num_surveys)]\n",
    "cis = [CI_2proportion(survey, alpha) for survey in surveys]\n",
    "coverage = np.mean([ci[0] <= theta_x - theta_y <= ci[1] for ci in cis])\n",
    "coverage"
   ]
  },
  {
   "cell_type": "markdown",
   "id": "f5df4512",
   "metadata": {},
   "source": [
    "---"
   ]
  },
  {
   "cell_type": "markdown",
   "id": "1386b752",
   "metadata": {},
   "source": [
    "## §2.4 Example with HW-0 Data\n",
    "\n",
    "Let's construct confidence intervals for the data you guys submitted in HW-0. "
   ]
  },
  {
   "cell_type": "code",
   "execution_count": 58,
   "id": "43527244",
   "metadata": {},
   "outputs": [
    {
     "data": {
      "text/html": [
       "<div>\n",
       "<style scoped>\n",
       "    .dataframe tbody tr th:only-of-type {\n",
       "        vertical-align: middle;\n",
       "    }\n",
       "\n",
       "    .dataframe tbody tr th {\n",
       "        vertical-align: top;\n",
       "    }\n",
       "\n",
       "    .dataframe thead th {\n",
       "        text-align: right;\n",
       "    }\n",
       "</style>\n",
       "<table border=\"1\" class=\"dataframe\">\n",
       "  <thead>\n",
       "    <tr style=\"text-align: right;\">\n",
       "      <th></th>\n",
       "      <th>name</th>\n",
       "      <th>fav_color</th>\n",
       "      <th>math183_excited</th>\n",
       "      <th>seat_comfort</th>\n",
       "      <th>year</th>\n",
       "      <th>major</th>\n",
       "      <th>wi24_credits</th>\n",
       "      <th>time_reading</th>\n",
       "      <th>time_physical</th>\n",
       "      <th>time_online</th>\n",
       "      <th>sex</th>\n",
       "    </tr>\n",
       "  </thead>\n",
       "  <tbody>\n",
       "    <tr>\n",
       "      <th>0</th>\n",
       "      <td>student 1</td>\n",
       "      <td>Purple</td>\n",
       "      <td>Very excited</td>\n",
       "      <td>Meh</td>\n",
       "      <td>3</td>\n",
       "      <td>Engineering</td>\n",
       "      <td>16</td>\n",
       "      <td>1.0</td>\n",
       "      <td>0.5</td>\n",
       "      <td>8.0</td>\n",
       "      <td>M</td>\n",
       "    </tr>\n",
       "    <tr>\n",
       "      <th>1</th>\n",
       "      <td>student 2</td>\n",
       "      <td>Pink</td>\n",
       "      <td>Very excited</td>\n",
       "      <td>Meh</td>\n",
       "      <td>4</td>\n",
       "      <td>Social Sciences</td>\n",
       "      <td>20</td>\n",
       "      <td>0.5</td>\n",
       "      <td>1.0</td>\n",
       "      <td>1.5</td>\n",
       "      <td>F</td>\n",
       "    </tr>\n",
       "    <tr>\n",
       "      <th>2</th>\n",
       "      <td>student 3</td>\n",
       "      <td>black</td>\n",
       "      <td>Super stoked</td>\n",
       "      <td>Meh</td>\n",
       "      <td>3</td>\n",
       "      <td>Data Science</td>\n",
       "      <td>16</td>\n",
       "      <td>0.0</td>\n",
       "      <td>2.0</td>\n",
       "      <td>2.0</td>\n",
       "      <td>M</td>\n",
       "    </tr>\n",
       "    <tr>\n",
       "      <th>3</th>\n",
       "      <td>student 4</td>\n",
       "      <td>NaN</td>\n",
       "      <td>Slightly excited</td>\n",
       "      <td>Meh</td>\n",
       "      <td>3</td>\n",
       "      <td>Data Science</td>\n",
       "      <td>12</td>\n",
       "      <td>0.1</td>\n",
       "      <td>1.0</td>\n",
       "      <td>2.0</td>\n",
       "      <td>M</td>\n",
       "    </tr>\n",
       "    <tr>\n",
       "      <th>4</th>\n",
       "      <td>student 5</td>\n",
       "      <td>red</td>\n",
       "      <td>Slightly excited</td>\n",
       "      <td>Meh</td>\n",
       "      <td>4</td>\n",
       "      <td>Engineering</td>\n",
       "      <td>16</td>\n",
       "      <td>0.0</td>\n",
       "      <td>2.0</td>\n",
       "      <td>3.0</td>\n",
       "      <td>M</td>\n",
       "    </tr>\n",
       "    <tr>\n",
       "      <th>5</th>\n",
       "      <td>student 6</td>\n",
       "      <td>white</td>\n",
       "      <td>Not at all excited</td>\n",
       "      <td>Awful</td>\n",
       "      <td>3</td>\n",
       "      <td>Data Science</td>\n",
       "      <td>16</td>\n",
       "      <td>1.0</td>\n",
       "      <td>1.0</td>\n",
       "      <td>50.0</td>\n",
       "      <td>F</td>\n",
       "    </tr>\n",
       "    <tr>\n",
       "      <th>6</th>\n",
       "      <td>student 7</td>\n",
       "      <td>skyblue</td>\n",
       "      <td>Very excited</td>\n",
       "      <td>Bad</td>\n",
       "      <td>2</td>\n",
       "      <td>Data Science</td>\n",
       "      <td>12</td>\n",
       "      <td>8.0</td>\n",
       "      <td>1.0</td>\n",
       "      <td>1.0</td>\n",
       "      <td>F</td>\n",
       "    </tr>\n",
       "    <tr>\n",
       "      <th>7</th>\n",
       "      <td>student 8</td>\n",
       "      <td>Blue</td>\n",
       "      <td>Slightly excited</td>\n",
       "      <td>Bad</td>\n",
       "      <td>&gt;4</td>\n",
       "      <td>Engineering</td>\n",
       "      <td>16</td>\n",
       "      <td>1.0</td>\n",
       "      <td>2.0</td>\n",
       "      <td>3.0</td>\n",
       "      <td>M</td>\n",
       "    </tr>\n",
       "    <tr>\n",
       "      <th>8</th>\n",
       "      <td>student 9</td>\n",
       "      <td>Blue</td>\n",
       "      <td>Slightly excited</td>\n",
       "      <td>Meh</td>\n",
       "      <td>3</td>\n",
       "      <td>Social Sciences</td>\n",
       "      <td>16</td>\n",
       "      <td>0.0</td>\n",
       "      <td>3.0</td>\n",
       "      <td>2.0</td>\n",
       "      <td>M</td>\n",
       "    </tr>\n",
       "    <tr>\n",
       "      <th>9</th>\n",
       "      <td>student 10</td>\n",
       "      <td>Blue</td>\n",
       "      <td>Very excited</td>\n",
       "      <td>Pretty good</td>\n",
       "      <td>3</td>\n",
       "      <td>Physical Sciences</td>\n",
       "      <td>16</td>\n",
       "      <td>0.5</td>\n",
       "      <td>1.0</td>\n",
       "      <td>4.0</td>\n",
       "      <td>M</td>\n",
       "    </tr>\n",
       "  </tbody>\n",
       "</table>\n",
       "</div>"
      ],
      "text/plain": [
       "         name fav_color     math183_excited seat_comfort year  \\\n",
       "0   student 1    Purple        Very excited          Meh    3   \n",
       "1   student 2      Pink        Very excited          Meh    4   \n",
       "2   student 3     black        Super stoked          Meh    3   \n",
       "3   student 4       NaN    Slightly excited          Meh    3   \n",
       "4   student 5       red    Slightly excited          Meh    4   \n",
       "5   student 6     white  Not at all excited        Awful    3   \n",
       "6   student 7   skyblue        Very excited          Bad    2   \n",
       "7   student 8      Blue    Slightly excited          Bad   >4   \n",
       "8   student 9      Blue    Slightly excited          Meh    3   \n",
       "9  student 10      Blue        Very excited  Pretty good    3   \n",
       "\n",
       "               major  wi24_credits  time_reading  time_physical  time_online  \\\n",
       "0        Engineering            16           1.0            0.5          8.0   \n",
       "1    Social Sciences            20           0.5            1.0          1.5   \n",
       "2       Data Science            16           0.0            2.0          2.0   \n",
       "3       Data Science            12           0.1            1.0          2.0   \n",
       "4        Engineering            16           0.0            2.0          3.0   \n",
       "5       Data Science            16           1.0            1.0         50.0   \n",
       "6       Data Science            12           8.0            1.0          1.0   \n",
       "7        Engineering            16           1.0            2.0          3.0   \n",
       "8    Social Sciences            16           0.0            3.0          2.0   \n",
       "9  Physical Sciences            16           0.5            1.0          4.0   \n",
       "\n",
       "  sex  \n",
       "0   M  \n",
       "1   F  \n",
       "2   M  \n",
       "3   M  \n",
       "4   M  \n",
       "5   F  \n",
       "6   F  \n",
       "7   M  \n",
       "8   M  \n",
       "9   M  "
      ]
     },
     "execution_count": 58,
     "metadata": {},
     "output_type": "execute_result"
    }
   ],
   "source": [
    "url = 'https://raw.githubusercontent.com/ucsd-math189-wi24/materials/main/data/student_data_189.csv'\n",
    "df = pd.read_csv(url)\n",
    "df.head(10)"
   ]
  },
  {
   "cell_type": "markdown",
   "id": "d347419e-5fa6-4fa6-8c30-7532f8a4037d",
   "metadata": {},
   "source": [
    "$$\n",
    "X = \\begin{cases}\n",
    "1 & \\text{if 'F'}\\\\\n",
    "0 & \\text{if 'M'}\n",
    "\\end{cases}\n",
    "$$\n",
    "\n",
    "$X_1, ... X_n \\sim \\Ber(\\theta)$"
   ]
  },
  {
   "cell_type": "markdown",
   "id": "fe60953d",
   "metadata": {},
   "source": [
    "---"
   ]
  },
  {
   "cell_type": "markdown",
   "id": "5ea26386",
   "metadata": {},
   "source": [
    "> ### Question\n",
    ">\n",
    "> Is there a noticeable difference in the number of `F` vs. `M` students in this class?"
   ]
  },
  {
   "cell_type": "markdown",
   "id": "1e3736f8",
   "metadata": {},
   "source": [
    "`CI_1proportion()` takes as input a vector of `{0, 1}` and returns the confidence interval for the proportion of `1`s in the vector:"
   ]
  },
  {
   "cell_type": "code",
   "execution_count": 59,
   "id": "4f457b8c",
   "metadata": {},
   "outputs": [
    {
     "data": {
      "text/plain": [
       "array([0.32439752, 0.43923884])"
      ]
     },
     "execution_count": 59,
     "metadata": {},
     "output_type": "execute_result"
    }
   ],
   "source": [
    "x_vector = df.loc[:, 'sex'].map(lambda x: 1 if x == 'F' else 0)\n",
    "CI_1proportion(x_vector, alpha=0.05)"
   ]
  },
  {
   "cell_type": "markdown",
   "id": "0ff22743",
   "metadata": {},
   "source": [
    "> ##### Conclusion\n",
    ">\n",
    "> What can we conclude from this confidence interval?"
   ]
  },
  {
   "cell_type": "markdown",
   "id": "58540ff0",
   "metadata": {},
   "source": [
    "---"
   ]
  },
  {
   "cell_type": "markdown",
   "id": "3ff6e0a8",
   "metadata": {},
   "source": [
    "> ### Question\n",
    ">\n",
    "> Is there a disproportionate difference in the proportion of `F` vs. `M` who are Engineering, Physical or Data Science majors?"
   ]
  },
  {
   "cell_type": "code",
   "execution_count": 60,
   "id": "b8d6c98f",
   "metadata": {},
   "outputs": [],
   "source": [
    "group = ['Engineering', 'Physical Sciences', 'Data Science']\n",
    "\n",
    "m_in_group = df.loc[df['sex'] == 'M', 'major'].map(lambda x: 1 if x in group else 0)\n",
    "f_in_group = df.loc[df['sex'] == 'F', 'major'].map(lambda x: 1 if x in group else 0)"
   ]
  },
  {
   "cell_type": "markdown",
   "id": "63545fdb",
   "metadata": {},
   "source": [
    "`CI_2proportion()` takes as input a Dict of `'x': {0, 1, 1, ...}, 'y': {0,1,0...}` and returns the confidence interval for the difference in proportion of `1`s in the two vectors for `'x'` and `'y'`:"
   ]
  },
  {
   "cell_type": "code",
   "execution_count": 61,
   "id": "88f74a1a",
   "metadata": {},
   "outputs": [
    {
     "data": {
      "text/plain": [
       "array([-0.2578507 , -0.05383761])"
      ]
     },
     "execution_count": 61,
     "metadata": {},
     "output_type": "execute_result"
    }
   ],
   "source": [
    "data = {'x': f_in_group, 'y': m_in_group}\n",
    "CI_2proportion(data, alpha=0.05)"
   ]
  },
  {
   "cell_type": "markdown",
   "id": "178784f2",
   "metadata": {},
   "source": [
    "> ##### Conclusion\n",
    ">\n",
    "> What can we conclude from this confidence interval?"
   ]
  },
  {
   "cell_type": "markdown",
   "id": "dcbef898",
   "metadata": {},
   "source": [
    "---"
   ]
  },
  {
   "cell_type": "markdown",
   "id": "f8daf61f",
   "metadata": {},
   "source": [
    "These functions are built into the `statsmodels` library in python."
   ]
  },
  {
   "cell_type": "code",
   "execution_count": 63,
   "id": "a80423c2",
   "metadata": {},
   "outputs": [],
   "source": [
    "# !pip install statsmodels"
   ]
  },
  {
   "cell_type": "code",
   "execution_count": 65,
   "id": "6cd4fa91",
   "metadata": {},
   "outputs": [],
   "source": [
    "import statsmodels.api as sm\n",
    "import statsmodels.formula.api as smf\n",
    "\n",
    "# help(sm.stats.proportion_confint)\n",
    "# sm.stats.proportion_confint?"
   ]
  },
  {
   "cell_type": "code",
   "execution_count": null,
   "id": "011e362d-f5e2-48c9-827a-a3a36618b13d",
   "metadata": {},
   "outputs": [],
   "source": []
  },
  {
   "cell_type": "code",
   "execution_count": 67,
   "id": "3fff39b7-b32b-4388-8e6a-4cdc0f841bd5",
   "metadata": {},
   "outputs": [
    {
     "data": {
      "text/plain": [
       "\u001b[0;31mSignature:\u001b[0m\n",
       "\u001b[0msm\u001b[0m\u001b[0;34m.\u001b[0m\u001b[0mstats\u001b[0m\u001b[0;34m.\u001b[0m\u001b[0mproportion_confint\u001b[0m\u001b[0;34m(\u001b[0m\u001b[0;34m\u001b[0m\n",
       "\u001b[0;34m\u001b[0m    \u001b[0mcount\u001b[0m\u001b[0;34m,\u001b[0m\u001b[0;34m\u001b[0m\n",
       "\u001b[0;34m\u001b[0m    \u001b[0mnobs\u001b[0m\u001b[0;34m,\u001b[0m\u001b[0;34m\u001b[0m\n",
       "\u001b[0;34m\u001b[0m    \u001b[0malpha\u001b[0m\u001b[0;34m:\u001b[0m \u001b[0mfloat\u001b[0m \u001b[0;34m=\u001b[0m \u001b[0;36m0.05\u001b[0m\u001b[0;34m,\u001b[0m\u001b[0;34m\u001b[0m\n",
       "\u001b[0;34m\u001b[0m    \u001b[0mmethod\u001b[0m\u001b[0;34m=\u001b[0m\u001b[0;34m'normal'\u001b[0m\u001b[0;34m,\u001b[0m\u001b[0;34m\u001b[0m\n",
       "\u001b[0;34m\u001b[0m\u001b[0;34m)\u001b[0m\u001b[0;34m\u001b[0m\u001b[0;34m\u001b[0m\u001b[0m\n",
       "\u001b[0;31mDocstring:\u001b[0m\n",
       "Confidence interval for a binomial proportion\n",
       "\n",
       "Parameters\n",
       "----------\n",
       "count : {int or float, array_like}\n",
       "    number of successes, can be pandas Series or DataFrame. Arrays\n",
       "    must contain integer values if method is \"binom_test\".\n",
       "nobs : {int or float, array_like}\n",
       "    total number of trials.  Arrays must contain integer values if method\n",
       "    is \"binom_test\".\n",
       "alpha : float\n",
       "    Significance level, default 0.05. Must be in (0, 1)\n",
       "method : {\"normal\", \"agresti_coull\", \"beta\", \"wilson\", \"binom_test\"}\n",
       "    default: \"normal\"\n",
       "    method to use for confidence interval. Supported methods:\n",
       "\n",
       "     - `normal` : asymptotic normal approximation\n",
       "     - `agresti_coull` : Agresti-Coull interval\n",
       "     - `beta` : Clopper-Pearson interval based on Beta distribution\n",
       "     - `wilson` : Wilson Score interval\n",
       "     - `jeffreys` : Jeffreys Bayesian Interval\n",
       "     - `binom_test` : Numerical inversion of binom_test\n",
       "\n",
       "Returns\n",
       "-------\n",
       "ci_low, ci_upp : {float, ndarray, Series DataFrame}\n",
       "    lower and upper confidence level with coverage (approximately) 1-alpha.\n",
       "    When a pandas object is returned, then the index is taken from `count`.\n",
       "\n",
       "Notes\n",
       "-----\n",
       "Beta, the Clopper-Pearson exact interval has coverage at least 1-alpha,\n",
       "but is in general conservative. Most of the other methods have average\n",
       "coverage equal to 1-alpha, but will have smaller coverage in some cases.\n",
       "\n",
       "The \"beta\" and \"jeffreys\" interval are central, they use alpha/2 in each\n",
       "tail, and alpha is not adjusted at the boundaries. In the extreme case\n",
       "when `count` is zero or equal to `nobs`, then the coverage will be only\n",
       "1 - alpha/2 in the case of \"beta\".\n",
       "\n",
       "The confidence intervals are clipped to be in the [0, 1] interval in the\n",
       "case of \"normal\" and \"agresti_coull\".\n",
       "\n",
       "Method \"binom_test\" directly inverts the binomial test in scipy.stats.\n",
       "which has discrete steps.\n",
       "\n",
       "TODO: binom_test intervals raise an exception in small samples if one\n",
       "   interval bound is close to zero or one.\n",
       "\n",
       "References\n",
       "----------\n",
       ".. [*] https://en.wikipedia.org/wiki/Binomial_proportion_confidence_interval\n",
       "\n",
       ".. [*] Brown, Lawrence D.; Cai, T. Tony; DasGupta, Anirban (2001).\n",
       "   \"Interval Estimation for a Binomial Proportion\", Statistical\n",
       "   Science 16 (2): 101–133. doi:10.1214/ss/1009213286.\n",
       "\u001b[0;31mFile:\u001b[0m      ~/mambaforge/lib/python3.11/site-packages/statsmodels/stats/proportion.py\n",
       "\u001b[0;31mType:\u001b[0m      function"
      ]
     },
     "metadata": {},
     "output_type": "display_data"
    }
   ],
   "source": [
    "sm.stats.proportion_confint?"
   ]
  },
  {
   "cell_type": "code",
   "execution_count": 69,
   "id": "46c1fe6f-8500-40f1-b1d3-262af461ff49",
   "metadata": {},
   "outputs": [],
   "source": [
    "x_vector = ask_survey(100)"
   ]
  },
  {
   "cell_type": "code",
   "execution_count": 70,
   "id": "11927326",
   "metadata": {},
   "outputs": [
    {
     "name": "stdout",
     "output_type": "stream",
     "text": [
      "Our method: [0.57784 0.76216]\n",
      "Statsmodels api: (0.5778400007999419, 0.7621599992000582)\n"
     ]
    }
   ],
   "source": [
    "# Our method\n",
    "our_result = CI_1proportion(x_vector, alpha=0.05)\n",
    "print(f'Our method: {our_result}')\n",
    "\n",
    "# Statsmodels api\n",
    "sm_result = sm.stats.proportion_confint(np.sum(x_vector), len(x_vector), alpha=0.05)\n",
    "print(f'Statsmodels api: {sm_result}')"
   ]
  },
  {
   "cell_type": "code",
   "execution_count": 71,
   "id": "58533ed3",
   "metadata": {},
   "outputs": [
    {
     "data": {
      "text/plain": [
       "\u001b[0;31mSignature:\u001b[0m\n",
       "\u001b[0msm\u001b[0m\u001b[0;34m.\u001b[0m\u001b[0mstats\u001b[0m\u001b[0;34m.\u001b[0m\u001b[0mconfint_proportions_2indep\u001b[0m\u001b[0;34m(\u001b[0m\u001b[0;34m\u001b[0m\n",
       "\u001b[0;34m\u001b[0m    \u001b[0mcount1\u001b[0m\u001b[0;34m,\u001b[0m\u001b[0;34m\u001b[0m\n",
       "\u001b[0;34m\u001b[0m    \u001b[0mnobs1\u001b[0m\u001b[0;34m,\u001b[0m\u001b[0;34m\u001b[0m\n",
       "\u001b[0;34m\u001b[0m    \u001b[0mcount2\u001b[0m\u001b[0;34m,\u001b[0m\u001b[0;34m\u001b[0m\n",
       "\u001b[0;34m\u001b[0m    \u001b[0mnobs2\u001b[0m\u001b[0;34m,\u001b[0m\u001b[0;34m\u001b[0m\n",
       "\u001b[0;34m\u001b[0m    \u001b[0mmethod\u001b[0m\u001b[0;34m=\u001b[0m\u001b[0;32mNone\u001b[0m\u001b[0;34m,\u001b[0m\u001b[0;34m\u001b[0m\n",
       "\u001b[0;34m\u001b[0m    \u001b[0mcompare\u001b[0m\u001b[0;34m=\u001b[0m\u001b[0;34m'diff'\u001b[0m\u001b[0;34m,\u001b[0m\u001b[0;34m\u001b[0m\n",
       "\u001b[0;34m\u001b[0m    \u001b[0malpha\u001b[0m\u001b[0;34m=\u001b[0m\u001b[0;36m0.05\u001b[0m\u001b[0;34m,\u001b[0m\u001b[0;34m\u001b[0m\n",
       "\u001b[0;34m\u001b[0m    \u001b[0mcorrection\u001b[0m\u001b[0;34m=\u001b[0m\u001b[0;32mTrue\u001b[0m\u001b[0;34m,\u001b[0m\u001b[0;34m\u001b[0m\n",
       "\u001b[0;34m\u001b[0m\u001b[0;34m)\u001b[0m\u001b[0;34m\u001b[0m\u001b[0;34m\u001b[0m\u001b[0m\n",
       "\u001b[0;31mDocstring:\u001b[0m\n",
       "Confidence intervals for comparing two independent proportions.\n",
       "\n",
       "This assumes that we have two independent binomial samples.\n",
       "\n",
       "Parameters\n",
       "----------\n",
       "count1, nobs1 : float\n",
       "    Count and sample size for first sample.\n",
       "count2, nobs2 : float\n",
       "    Count and sample size for the second sample.\n",
       "method : str\n",
       "    Method for computing confidence interval. If method is None, then a\n",
       "    default method is used. The default might change as more methods are\n",
       "    added.\n",
       "\n",
       "    diff:\n",
       "     - 'wald',\n",
       "     - 'agresti-caffo'\n",
       "     - 'newcomb' (default)\n",
       "     - 'score'\n",
       "\n",
       "    ratio:\n",
       "     - 'log'\n",
       "     - 'log-adjusted' (default)\n",
       "     - 'score'\n",
       "\n",
       "    odds-ratio:\n",
       "     - 'logit'\n",
       "     - 'logit-adjusted' (default)\n",
       "     - 'score'\n",
       "\n",
       "compare : string in ['diff', 'ratio' 'odds-ratio']\n",
       "    If compare is diff, then the confidence interval is for diff = p1 - p2.\n",
       "    If compare is ratio, then the confidence interval is for the risk ratio\n",
       "    defined by ratio = p1 / p2.\n",
       "    If compare is odds-ratio, then the confidence interval is for the\n",
       "    odds-ratio defined by or = p1 / (1 - p1) / (p2 / (1 - p2).\n",
       "alpha : float\n",
       "    Significance level for the confidence interval, default is 0.05.\n",
       "    The nominal coverage probability is 1 - alpha.\n",
       "\n",
       "Returns\n",
       "-------\n",
       "low, upp\n",
       "\n",
       "See Also\n",
       "--------\n",
       "test_proportions_2indep\n",
       "tost_proportions_2indep\n",
       "\n",
       "Notes\n",
       "-----\n",
       "Status: experimental, API and defaults might still change.\n",
       "    more ``methods`` will be added.\n",
       "\n",
       "References\n",
       "----------\n",
       ".. [1] Fagerland, Morten W., Stian Lydersen, and Petter Laake. 2015.\n",
       "   “Recommended Confidence Intervals for Two Independent Binomial\n",
       "   Proportions.” Statistical Methods in Medical Research 24 (2): 224–54.\n",
       "   https://doi.org/10.1177/0962280211415469.\n",
       ".. [2] Koopman, P. A. R. 1984. “Confidence Intervals for the Ratio of Two\n",
       "   Binomial Proportions.” Biometrics 40 (2): 513–17.\n",
       "   https://doi.org/10.2307/2531405.\n",
       ".. [3] Miettinen, Olli, and Markku Nurminen. \"Comparative analysis of two\n",
       "   rates.\" Statistics in medicine 4, no. 2 (1985): 213-226.\n",
       ".. [4] Newcombe, Robert G. 1998. “Interval Estimation for the Difference\n",
       "   between Independent Proportions: Comparison of Eleven Methods.”\n",
       "   Statistics in Medicine 17 (8): 873–90.\n",
       "   https://doi.org/10.1002/(SICI)1097-0258(19980430)17:8<873::AID-\n",
       "   SIM779>3.0.CO;2-I.\n",
       ".. [5] Newcombe, Robert G., and Markku M. Nurminen. 2011. “In Defence of\n",
       "   Score Intervals for Proportions and Their Differences.” Communications\n",
       "   in Statistics - Theory and Methods 40 (7): 1271–82.\n",
       "   https://doi.org/10.1080/03610920903576580.\n",
       "\u001b[0;31mFile:\u001b[0m      ~/mambaforge/lib/python3.11/site-packages/statsmodels/stats/proportion.py\n",
       "\u001b[0;31mType:\u001b[0m      function"
      ]
     },
     "metadata": {},
     "output_type": "display_data"
    }
   ],
   "source": [
    "sm.stats.confint_proportions_2indep?"
   ]
  },
  {
   "cell_type": "code",
   "execution_count": 75,
   "id": "f1511033",
   "metadata": {},
   "outputs": [
    {
     "name": "stdout",
     "output_type": "stream",
     "text": [
      "Our method: [-0.2578507  -0.05383761]\n",
      "Statsmodels api: (-0.2578506987403416, -0.05383761294796997)\n"
     ]
    }
   ],
   "source": [
    "# Our method\n",
    "our_result = CI_2proportion(data, alpha=0.05)\n",
    "print(f'Our method: {our_result}')\n",
    "\n",
    "# Statsmodels api\n",
    "sm_result = sm.stats.confint_proportions_2indep(\n",
    "    np.sum(data['x']), \n",
    "    len(data['x']), \n",
    "    np.sum(data['y']), \n",
    "    len(data['y']), \n",
    "    alpha=0.05,\n",
    "    method = 'wald'\n",
    "    )\n",
    "print(f'Statsmodels api: {sm_result}')"
   ]
  },
  {
   "cell_type": "markdown",
   "id": "ed5a8722",
   "metadata": {},
   "source": [
    "Note that the statsmodels api uses the `newcomb` method by default. The method we used is called the `Wald` method (the simpler one), and is based on the **central limit theorem** approximation."
   ]
  },
  {
   "cell_type": "code",
   "execution_count": 77,
   "id": "a8af9537",
   "metadata": {},
   "outputs": [
    {
     "data": {
      "text/plain": [
       "(array([-0.0643025,  0.1443025]), (-0.06430249939577556, 0.14430249939577564))"
      ]
     },
     "execution_count": 77,
     "metadata": {},
     "output_type": "execute_result"
    }
   ],
   "source": [
    "n, m = 100, 200\n",
    "test_data = {'x': stats.bernoulli(0.75).rvs(n), 'y': stats.bernoulli(0.7).rvs(m)}\n",
    "CI_2proportion(test_data, alpha=0.05), sm.stats.confint_proportions_2indep(np.sum(test_data['x']), len(test_data['x']), np.sum(test_data['y']), len(test_data['y']), alpha=0.05, method = 'wald')"
   ]
  },
  {
   "cell_type": "markdown",
   "id": "b487c1c7",
   "metadata": {},
   "source": [
    "---\n",
    "---"
   ]
  },
  {
   "cell_type": "markdown",
   "id": "bbed84be",
   "metadata": {},
   "source": [
    "## §2.5 Confidence Intervals for One Sample Mean\n",
    "\n",
    "Let $X_1, X_2, \\dots, X_n \\sim \\N(\\mu, \\sigma^2)$ be a random sample of size $n$ from a population with mean $\\mu$ and variance $\\sigma^2$.\n",
    "\n",
    "Let:\n",
    "$$\n",
    "\\begin{aligned}\n",
    "\\hat{\\mu} &= \\overline{X} = \\frac{1}{n} \\sum_{i=1}^n X_i \\quad\\quad \\text{be the sample mean}\\\\ \\\\\n",
    "\\hat{\\sigma}^2 &= \\frac{1}{n-1} \\sum_{i=1}^n (X_i - \\overline{X})^2 \\quad\\quad \\text{be the sample variance}\\\\\n",
    "\\end{aligned}\n",
    "$$\n",
    "\n",
    "\n",
    "> ##### **CASE 1**: When $\\sigma^2$ is KNOWN\n",
    "> \n",
    "The **$100 \\times (1-\\alpha)\\%$ confidence interval** for $\\mu$ is given by:\n",
    "\n",
    "$$\n",
    "\\begin{aligned}\n",
    "CI(\\mu, \\alpha) &= \\Bigg[\\hat{\\mu} - z_{\\alpha/2} \\cdot \\se, \\ \\  \\hat{\\mu} + z_{\\alpha/2} \\cdot \\se \\Bigg]\\\\\n",
    "\\end{aligned}\n",
    "$$\n",
    "\n",
    "where\n",
    "\n",
    "$$\n",
    "\\se = \\frac{\\sigma}{\\sqrt{n}}\n",
    "$$\n",
    "\n",
    "***\n",
    "\n",
    "> ##### **CASE 2**: When $\\sigma^2$ is NOT KNOWN\n",
    "> \n",
    "The **$100 \\times (1-\\alpha)\\%$ confidence interval** for $\\mu$ is given by:\n",
    "\n",
    "$$\n",
    "\\begin{aligned}\n",
    "CI(\\mu, \\alpha) &= \\Bigg[\\hat{\\mu} - t_{n-1; \\alpha/2} \\cdot \\se, \\ \\  \\hat{\\mu} + t_{n-1; \\alpha/2} \\cdot \\se \\Bigg]\\\\\n",
    "\\end{aligned}\n",
    "$$\n",
    "\n",
    "where\n",
    "\n",
    "$$\n",
    "\\se = \\frac{\\hat\\sigma}{\\sqrt{n}}\n",
    "$$\n"
   ]
  },
  {
   "cell_type": "markdown",
   "id": "2500467f-7ce1-44c5-a59f-91fbd43ecfdb",
   "metadata": {},
   "source": [
    "$t_{n-1; \\alpha/2}$ is the $\\alpha/2$ upper quantile of the $t-$distribution with $n-1$ degrees of freedom"
   ]
  },
  {
   "cell_type": "markdown",
   "id": "2373950d",
   "metadata": {},
   "source": [
    "#### Consider the following experiment: \n",
    "\n",
    "\n",
    "* You go and ask $n=20$ people at UCSD how many hours they sleep per night.\n",
    "\n",
    "$$\n",
    "X_i  = \\text{number of hours respondent $i$ sleeps per night}\\\\\n",
    "$$\n",
    "\n",
    "* Their responses are assumed to be $X_1, X_2, \\dots, X_n \\sim N(\\mu, \\sigma^2)$\n",
    "* Here $\\mu$ is the **true** average number of hours people at UCSD sleep per night.\n",
    "\n",
    "Let's assume that **I know** the true value of $\\mu$ to be $\\mu = 7.2$ hours."
   ]
  },
  {
   "cell_type": "code",
   "execution_count": 85,
   "id": "035d0805",
   "metadata": {},
   "outputs": [
    {
     "data": {
      "text/plain": [
       "array([ 7.25479035,  6.06652919, 10.65437929, 10.69384742,  8.65647844,\n",
       "        4.95104081,  5.22078819,  5.05196096,  9.28654613,  9.639386  ,\n",
       "        7.90530812, 11.21443462,  3.56309309,  8.81260436,  9.40355428,\n",
       "        8.19791584, 10.03037857,  8.76600029,  5.4478193 ,  7.56394311])"
      ]
     },
     "execution_count": 85,
     "metadata": {},
     "output_type": "execute_result"
    }
   ],
   "source": [
    "mu_true = 7.2\n",
    "\n",
    "def sleep_survey(n):\n",
    "    return stats.norm.rvs(mu_true, 2.5, size=n)\n",
    "\n",
    "survey = sleep_survey(20)\n",
    "survey"
   ]
  },
  {
   "cell_type": "code",
   "execution_count": 86,
   "id": "07087207",
   "metadata": {},
   "outputs": [
    {
     "data": {
      "text/plain": [
       "(7.2, 7.919039919136727)"
      ]
     },
     "execution_count": 86,
     "metadata": {},
     "output_type": "execute_result"
    }
   ],
   "source": [
    "mu_true, np.mean(survey)"
   ]
  },
  {
   "cell_type": "code",
   "execution_count": 87,
   "id": "1e57319c",
   "metadata": {},
   "outputs": [
    {
     "data": {
      "text/plain": [
       "array([6.88326799, 8.95481184])"
      ]
     },
     "execution_count": 87,
     "metadata": {},
     "output_type": "execute_result"
    }
   ],
   "source": [
    "def CI_1mean(data, alpha=0.05, method='t'):\n",
    "    n = len(data)\n",
    "    q_alpha_by_2 = stats.t(n-1).ppf(1-alpha/2) if method == 't' else stats.norm(0, 1).ppf(1-alpha/2)\n",
    "    \n",
    "    mu_hat = np.mean(data)\n",
    "    se = np.std(data, ddof=1) / np.sqrt(n)\n",
    "    ci = np.array((-1, +1)) * q_alpha_by_2 * se + mu_hat\n",
    "    return ci\n",
    "\n",
    "CI_1mean(survey, alpha=0.05)"
   ]
  },
  {
   "cell_type": "code",
   "execution_count": 90,
   "id": "2125acf2",
   "metadata": {},
   "outputs": [],
   "source": [
    "# np.std?"
   ]
  },
  {
   "cell_type": "code",
   "execution_count": 91,
   "id": "f6a5180c",
   "metadata": {},
   "outputs": [
    {
     "data": {
      "image/png": "[encoded data removed]",
      "text/plain": [
       "<Figure size 1500x300 with 1 Axes>"
      ]
     },
     "metadata": {},
     "output_type": "display_data"
    }
   ],
   "source": [
    "num_respondents, num_surveys = 10, 250\n",
    "surveys = [sleep_survey(10) for _ in range(num_surveys)]\n",
    "cis = [CI_1mean(survey, alpha) for survey in surveys]\n",
    "\n",
    "fig, ax = plt.subplots(1, 1, figsize=(15, 3))\n",
    "\n",
    "ax.axhline(y=mu_true, color='red', linestyle='--')\n",
    "ax.set_ylabel(r'CI($\\mu$, 0.05)')\n",
    "ax.set_xlabel('Survey number')\n",
    "for i, ci in enumerate(cis):\n",
    "    cl = 'black' if ci[0] <= mu_true <= ci[1] else 'red'\n",
    "    ax.plot([i, i], ci, color=cl, linewidth=1.0)\n"
   ]
  },
  {
   "cell_type": "code",
   "execution_count": 92,
   "id": "b49836ad",
   "metadata": {},
   "outputs": [
    {
     "data": {
      "text/plain": [
       "0.96"
      ]
     },
     "execution_count": 92,
     "metadata": {},
     "output_type": "execute_result"
    }
   ],
   "source": [
    "coverage = np.mean([ci[0] <= mu_true <= ci[1] for ci in cis])\n",
    "coverage"
   ]
  },
  {
   "cell_type": "markdown",
   "id": "d118627e",
   "metadata": {},
   "source": [
    "---"
   ]
  },
  {
   "cell_type": "markdown",
   "id": "a891290a",
   "metadata": {},
   "source": [
    "> You seem to make a big deal about this whole $z_{\\alpha/2}$ vs. $t_{n-1; \\alpha/2}$ business. What's the difference?"
   ]
  },
  {
   "cell_type": "code",
   "execution_count": 94,
   "id": "c71b4bf1",
   "metadata": {},
   "outputs": [
    {
     "data": {
      "application/vnd.jupyter.widget-view+json": {
       "model_id": "f183b446f8bd44ba8a0c212e5ac30e64",
       "version_major": 2,
       "version_minor": 0
      },
      "text/plain": [
       "interactive(children=(IntSlider(value=26, description='n', max=50, min=2), Output()), _dom_classes=('widget-in…"
      ]
     },
     "metadata": {},
     "output_type": "display_data"
    }
   ],
   "source": [
    "@interact(n = (2, 50, 1))\n",
    "def z_vs_t_coverage(n):\n",
    "    num_surveys = 5000\n",
    "    surveys = [sleep_survey(n) for _ in range(num_surveys)]\n",
    "    ci_z = [CI_1mean(survey, alpha, method='z') for survey in surveys]\n",
    "    ci_t = [CI_1mean(survey, alpha, method='t') for survey in surveys]\n",
    "\n",
    "    coverage_z = np.mean([ci[0] <= mu_true <= ci[1] for ci in ci_z])\n",
    "    coverage_t = np.mean([ci[0] <= mu_true <= ci[1] for ci in ci_t])\n",
    "\n",
    "    print({'z coverage': coverage_z, 't coverage': coverage_t})"
   ]
  },
  {
   "cell_type": "markdown",
   "id": "c3dcc16c",
   "metadata": {},
   "source": [
    "---"
   ]
  },
  {
   "cell_type": "markdown",
   "id": "a06486ee",
   "metadata": {},
   "source": [
    "## §2.6 Confidence Intervals for difference of two means\n",
    "\n",
    "Let:\n",
    "\n",
    "* $\\Xn \\sim N(\\mu_X, \\sigma_X^2)$ be a random sample of size $n$ from a population with mean $\\mu_X$ and variance $\\sigma_X^2$.\n",
    "* $\\Ym \\sim N(\\mu_Y, \\sigma_Y^2)$ be a random sample of size $m$ from a population with mean $\\mu_Y$ and variance $\\sigma_Y^2$.\n",
    "\n",
    "> ***\n",
    "> ##### Confidence interval for $\\mu_X - \\mu_Y$\n",
    "> \n",
    "The **$100 \\times (1-\\alpha)\\%$ confidence interval** for $\\mu_X - \\mu_Y$ is given by\n",
    "\n",
    "$$\n",
    "\\begin{aligned}\n",
    "CI(\\mu_X - \\mu_Y, \\alpha) &= \\Bigg[(\\hat{\\mu}_X - \\hat{\\mu}_Y) - t_{n+m-2; \\alpha/2} \\times \\se, \\ \\  (\\hat{\\mu}_X - \\hat{\\mu}_Y) + t_{n+m-2; \\alpha/2} \\times \\se \\Bigg]\\\\\n",
    "\\end{aligned}\n",
    "$$\n",
    "\n",
    "where\n",
    "\n",
    "$$\n",
    "\\se = \\sqrt{\\frac{\\hat{\\sigma}_X^2}{n} + \\frac{\\hat{\\sigma}_Y^2}{m}}\n",
    "$$\n",
    "\n",
    "and\n",
    "\n",
    "$$\n",
    "\\begin{aligned}\n",
    "\\hat{\\sigma}_X^2 &= \\frac{1}{n-1} \\sum_{i=1}^n (X_i - \\overline{X})^2 \\quad\\quad \\text{is the sample variance of $X$}\\\\\n",
    "\\hat{\\sigma}_Y^2 &= \\frac{1}{m-1} \\sum_{i=1}^m (Y_i - \\overline{Y})^2 \\quad\\quad \\text{is the sample variance of $Y$}\\\\\n",
    "\\end{aligned}\n",
    "$$\n",
    "***\n"
   ]
  },
  {
   "cell_type": "markdown",
   "id": "b3c4cefc",
   "metadata": {},
   "source": [
    "##### Consider the following experiment:\n",
    "\n",
    "* You go and ask $n=15$ freshmen and $m=20$ seniors at UCSD how many hours they sleep per night.\n",
    "\n",
    "$$\n",
    "\\begin{aligned}\n",
    "X_i  &= \\text{number of hours freshman $i$ sleeps per night}\\\\\n",
    "Y_j  &= \\text{number of hours senior $j$ sleeps per night}\\\\\n",
    "\\end{aligned}\n",
    "$$\n",
    "\n",
    "Suppose we know that $\\mu_X = 7.2$ and $\\mu_Y = 6.2$. Let's see how well our confidence interval does."
   ]
  },
  {
   "cell_type": "code",
   "execution_count": 42,
   "id": "106a2e82",
   "metadata": {
    "collapsed": true,
    "jupyter": {
     "outputs_hidden": true
    }
   },
   "outputs": [
    {
     "data": {
      "text/plain": [
       "{'x': array([ 4.29203377,  7.35671806,  6.14688259,  4.33198216,  3.36137694,\n",
       "         6.88647651,  9.92784315,  6.24950401,  6.50868696, 12.43535057,\n",
       "         7.1592912 , 10.59333623,  6.15826185,  7.94681472,  7.65402792]),\n",
       " 'y': array([ 5.73210848,  8.6598467 ,  7.99493759,  9.42370641,  6.48207909,\n",
       "         4.95228665,  7.24797776,  3.07975877,  3.88379316,  6.13423857,\n",
       "         6.31008659,  6.27685882,  4.61467879,  5.76136805,  6.81497586,\n",
       "         3.69767989, 11.48666575,  8.87536902,  5.51077904,  4.92959538])}"
      ]
     },
     "execution_count": 42,
     "metadata": {},
     "output_type": "execute_result"
    }
   ],
   "source": [
    "mu_x = 7.2\n",
    "mu_y = 6.2\n",
    "mu_xy = mu_x - mu_y\n",
    "\n",
    "s_x, s_y = 2.5, 2.0\n",
    "\n",
    "def sleep_surveys(n, m):\n",
    "    return {\n",
    "        'x': stats.norm.rvs(mu_x, 2.5, size=n), \n",
    "        'y': stats.norm.rvs(mu_y, 2.0, size=m)\n",
    "    }\n",
    "\n",
    "survey = sleep_surveys(15, 20)\n",
    "survey"
   ]
  },
  {
   "cell_type": "code",
   "execution_count": 43,
   "id": "f977a1da",
   "metadata": {
    "collapsed": true,
    "jupyter": {
     "outputs_hidden": true
    }
   },
   "outputs": [
    {
     "data": {
      "text/plain": [
       "array([-0.85005106,  2.33098358])"
      ]
     },
     "execution_count": 43,
     "metadata": {},
     "output_type": "execute_result"
    }
   ],
   "source": [
    "def CI_2mean(survey, alpha=0.05, method='t'):\n",
    "    n, m = len(survey['x']), len(survey['y'])\n",
    "    mu_hat = np.mean(survey['x']) - np.mean(survey['y'])\n",
    "    se = np.sqrt(np.std(survey['x'], ddof=1)**2 / n + np.std(survey['y'], ddof=1)**2 / m)\n",
    "    q_alpha_by_2 = stats.t(n+m-2).ppf(1-alpha/2) if method == 't' else stats.norm(0, 1).ppf(1-alpha/2)\n",
    "    ci = np.array((-1, +1)) * q_alpha_by_2 * se + mu_hat\n",
    "    return ci\n",
    "\n",
    "CI_2mean(survey, alpha=0.05)"
   ]
  },
  {
   "cell_type": "code",
   "execution_count": 44,
   "id": "d18497dc",
   "metadata": {
    "collapsed": true,
    "jupyter": {
     "outputs_hidden": true
    }
   },
   "outputs": [
    {
     "data": {
      "text/plain": [
       "True"
      ]
     },
     "execution_count": 44,
     "metadata": {},
     "output_type": "execute_result"
    }
   ],
   "source": [
    "CI_2mean(survey, alpha=0.05)[0] <= mu_xy <= CI_2mean(survey, alpha=0.05)[1]"
   ]
  },
  {
   "cell_type": "code",
   "execution_count": 45,
   "id": "6d7f240e",
   "metadata": {
    "collapsed": true,
    "jupyter": {
     "outputs_hidden": true
    }
   },
   "outputs": [
    {
     "data": {
      "image/png": "[encoded data removed]",
      "text/plain": [
       "<Figure size 1500x300 with 1 Axes>"
      ]
     },
     "metadata": {},
     "output_type": "display_data"
    }
   ],
   "source": [
    "n, m, num_surveys = 15, 20, 200\n",
    "surveys = [sleep_surveys(n, m) for _ in range(num_surveys)]\n",
    "cis = [CI_2mean(survey, alpha) for survey in surveys]\n",
    "\n",
    "fig, ax = plt.subplots(1, 1, figsize=(15, 3))\n",
    "\n",
    "ax.axhline(y=mu_xy, color='red', linestyle='--')\n",
    "ax.set_ylabel(r'CI($\\mu_X - \\mu_Y$, 0.05)')\n",
    "ax.set_xlabel('Survey number')\n",
    "for i, ci in enumerate(cis):\n",
    "    cl = 'black' if ci[0] <= mu_xy <= ci[1] else 'red'\n",
    "    ax.plot([i, i], ci, color=cl, linewidth=1.0)\n"
   ]
  },
  {
   "cell_type": "code",
   "execution_count": 46,
   "id": "c82cadb6",
   "metadata": {
    "collapsed": true,
    "jupyter": {
     "outputs_hidden": true
    }
   },
   "outputs": [
    {
     "data": {
      "text/plain": [
       "0.91"
      ]
     },
     "execution_count": 46,
     "metadata": {},
     "output_type": "execute_result"
    }
   ],
   "source": [
    "coverage = np.mean([ci[0] <= mu_xy <= ci[1] for ci in cis])\n",
    "coverage"
   ]
  },
  {
   "cell_type": "markdown",
   "id": "67154236",
   "metadata": {},
   "source": [
    "---"
   ]
  },
  {
   "cell_type": "markdown",
   "id": "1b03980f",
   "metadata": {},
   "source": [
    "> What's going on with this coverage probability?"
   ]
  },
  {
   "cell_type": "code",
   "execution_count": 47,
   "id": "3f1b54bb",
   "metadata": {
    "collapsed": true,
    "jupyter": {
     "outputs_hidden": true
    }
   },
   "outputs": [
    {
     "name": "stdout",
     "output_type": "stream",
     "text": [
      "coverage probability: 0.933\n"
     ]
    }
   ],
   "source": [
    "n, m, num_surveys = 5, 10, 10000\n",
    "surveys = [sleep_surveys(n, m) for _ in range(num_surveys)]\n",
    "cis = [CI_2mean(survey, alpha) for survey in surveys]\n",
    "coverage = [ci[0] <= mu_xy <= ci[1] for ci in cis]\n",
    "print(f'coverage probability: {np.mean(coverage):.3f}')"
   ]
  },
  {
   "cell_type": "markdown",
   "id": "36cd31e0",
   "metadata": {},
   "source": [
    "> Answer:\n",
    ">\n",
    ">  It's because of the $t_{n+m-2; \\alpha/2}$ quantile in the confidence interval\n",
    "\n",
    "* The $t_{n+m-2}$ distribution is a reasonable approximation of the _sampling distribution_ \n",
    "* But, the  [_Welch-Satterthwaite approximation_](https://en.wikipedia.org/wiki/Welch%27s_t-test#Calculations) is much better and results in $t_k$—a **t-distribution** with \n",
    "\n",
    "$$\n",
    "k=\\frac{(\\frac{\\sx^2}{n} + \\frac{\\sy^2}{m})^2}{(\\frac{\\sx^4}{n^2(n-1)} + \\frac{\\sy^4}{m^2(m-1)})}\n",
    "$$ \n",
    "degrees of freedom."
   ]
  },
  {
   "cell_type": "markdown",
   "id": "38e99b97",
   "metadata": {},
   "source": [
    "> Do I need to know this?\n",
    "\n",
    "No, but it's good to know that there are better approximations out there. The `statsmodels` library uses the Welch-Satterthwaite approximation by default.\n",
    "\n"
   ]
  },
  {
   "cell_type": "code",
   "execution_count": 48,
   "id": "cff9efa9",
   "metadata": {
    "collapsed": true,
    "jupyter": {
     "outputs_hidden": true
    }
   },
   "outputs": [],
   "source": [
    "i = 10\n",
    "survey = surveys[i]"
   ]
  },
  {
   "cell_type": "code",
   "execution_count": 54,
   "id": "398cb42b",
   "metadata": {
    "collapsed": true,
    "jupyter": {
     "outputs_hidden": true
    }
   },
   "outputs": [],
   "source": [
    "# sm.stats.CompareMeans?"
   ]
  },
  {
   "cell_type": "code",
   "execution_count": 50,
   "id": "b091a02d",
   "metadata": {
    "collapsed": true,
    "jupyter": {
     "outputs_hidden": true
    }
   },
   "outputs": [],
   "source": [
    "xy_object = sm.stats.CompareMeans(\n",
    "    sm.stats.DescrStatsW(survey['x']), \n",
    "    sm.stats.DescrStatsW(survey['y'])\n",
    ")"
   ]
  },
  {
   "cell_type": "code",
   "execution_count": 55,
   "id": "0e6ef2b1",
   "metadata": {
    "collapsed": true,
    "jupyter": {
     "outputs_hidden": true
    }
   },
   "outputs": [],
   "source": [
    "# xy_object.tconfint_diff?"
   ]
  },
  {
   "cell_type": "code",
   "execution_count": 52,
   "id": "189f6246",
   "metadata": {
    "collapsed": true,
    "jupyter": {
     "outputs_hidden": true
    }
   },
   "outputs": [
    {
     "name": "stdout",
     "output_type": "stream",
     "text": [
      "Our method: [0.99291716 6.10460901]\n",
      "Statsmodels api: (0.6552589601113201, 6.442267206867319)\n"
     ]
    }
   ],
   "source": [
    "our_result = CI_2mean(survey, alpha=0.05)\n",
    "print(f'Our method: {our_result}')\n",
    "\n",
    "sm_result = xy_object.tconfint_diff(alpha=0.05, usevar='unequal')\n",
    "print(f'Statsmodels api: {sm_result}')"
   ]
  },
  {
   "cell_type": "markdown",
   "id": "d8f1503b",
   "metadata": {},
   "source": [
    "> Does it really make a difference?"
   ]
  },
  {
   "cell_type": "code",
   "execution_count": 53,
   "id": "5cf1a24e",
   "metadata": {
    "collapsed": true,
    "jupyter": {
     "outputs_hidden": true
    }
   },
   "outputs": [
    {
     "data": {
      "application/vnd.jupyter.widget-view+json": {
       "model_id": "b7a4fd74868840e392f708f56a083ce1",
       "version_major": 2,
       "version_minor": 0
      },
      "text/plain": [
       "interactive(children=(IntSlider(value=26, description='n', max=50, min=2), Output()), _dom_classes=('widget-in…"
      ]
     },
     "metadata": {},
     "output_type": "display_data"
    }
   ],
   "source": [
    "@interact(n = (2, 50, 1))\n",
    "def z_vs_t_coverage(n):\n",
    "    num_surveys = 1000\n",
    "    surveys = [sleep_surveys(n, n) for _ in range(num_surveys)]\n",
    "    our_ci = [CI_2mean(survey, alpha, method='t') for survey in surveys]\n",
    "    \n",
    "    sm_ci  = np.zeros((num_surveys, 2))\n",
    "    for i, survey in enumerate(surveys):\n",
    "        xy_object = sm.stats.CompareMeans(\n",
    "            sm.stats.DescrStatsW(survey['x']), \n",
    "            sm.stats.DescrStatsW(survey['y'])\n",
    "        )\n",
    "        sm_ci[i, :] = xy_object.tconfint_diff(alpha=0.05, usevar='unequal')\n",
    "\n",
    "\n",
    "    our_coverage = np.mean([ci[0] <= mu_xy <= ci[1] for ci in our_ci])\n",
    "    sm_coverage = np.mean([ci[0] <= mu_xy <= ci[1] for ci in sm_ci])\n",
    "\n",
    "    print({'our coverage': our_coverage, 'sm coverage': sm_coverage})"
   ]
  },
  {
   "cell_type": "markdown",
   "id": "adba327a",
   "metadata": {},
   "source": [
    "> #### Observations\n",
    "\n",
    "The Welch-Satterthwaite approximation is much more conservative than the $t_{n+m-2}$ approximation, i.e., the confidence intervals using the `statsmodels` method is much wider, and is therefore capturing the true parameter more often. "
   ]
  }
 ],
 "metadata": {
  "celltoolbar": "Slideshow",
  "kernelspec": {
   "display_name": "Python 3 (ipykernel)",
   "language": "python",
   "name": "python3"
  },
  "language_info": {
   "codemirror_mode": {
    "name": "ipython",
    "version": 3
   },
   "file_extension": ".py",
   "mimetype": "text/x-python",
   "name": "python",
   "nbconvert_exporter": "python",
   "pygments_lexer": "ipython3",
   "version": "3.12.1"
  },
  "toc": {
   "base_numbering": 2
  }
 },
 "nbformat": 4,
 "nbformat_minor": 5
}
