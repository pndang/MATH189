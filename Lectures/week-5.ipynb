{
 "cells": [
  {
   "cell_type": "markdown",
   "id": "200e3bab",
   "metadata": {
    "editable": true,
    "slideshow": {
     "slide_type": "slide"
    },
    "tags": []
   },
   "source": [
    "# Week 5\n",
    "## MATH 189 • Data Analysis & Inference • Wi 2024\n",
    "### Siddharth Vishwanath"
   ]
  },
  {
   "cell_type": "markdown",
   "id": "8700143e-29e1-4307-9662-02a03e22ef20",
   "metadata": {},
   "source": [
    "% # %load tex-macros\n",
    "<div hidden>\n",
    "\\newcommand{\\require}[1]{}\n",
    "\n",
    "$\\require{begingroup}\\require{newcommand}$\n",
    "$\\long\\def \\forcecommand #1{\\providecommand{#1}{}\\renewcommand{#1}}$\n",
    "$\\forcecommand{\\defeq}{\\stackrel{\\small\\bullet}{=}}$\n",
    "$\\forcecommand{\\ra}{\\rangle}$\n",
    "$\\forcecommand{\\la}{\\langle}$\n",
    "$\\forcecommand{\\pr}{{\\mathbb P}}$\n",
    "$\\forcecommand{\\qr}{{\\mathbb Q}}$\n",
    "$\\forcecommand{\\xv}{{\\boldsymbol{x}}}$\n",
    "$\\forcecommand{\\av}{{\\boldsymbol{a}}}$\n",
    "$\\forcecommand{\\bv}{{\\boldsymbol{b}}}$\n",
    "$\\forcecommand{\\cv}{{\\boldsymbol{c}}}$\n",
    "$\\forcecommand{\\dv}{{\\boldsymbol{d}}}$\n",
    "$\\forcecommand{\\ev}{{\\boldsymbol{e}}}$\n",
    "$\\forcecommand{\\fv}{{\\boldsymbol{f}}}$\n",
    "$\\forcecommand{\\gv}{{\\boldsymbol{g}}}$\n",
    "$\\forcecommand{\\hv}{{\\boldsymbol{h}}}$\n",
    "$\\forcecommand{\\nv}{{\\boldsymbol{n}}}$\n",
    "$\\forcecommand{\\sv}{{\\boldsymbol{s}}}$\n",
    "$\\forcecommand{\\tv}{{\\boldsymbol{t}}}$\n",
    "$\\forcecommand{\\uv}{{\\boldsymbol{u}}}$\n",
    "$\\forcecommand{\\vv}{{\\boldsymbol{v}}}$\n",
    "$\\forcecommand{\\wv}{{\\boldsymbol{w}}}$\n",
    "$\\forcecommand{\\zerov}{{\\mathbf{0}}}$\n",
    "$\\forcecommand{\\onev}{{\\mathbf{0}}}$\n",
    "$\\forcecommand{\\phiv}{{\\boldsymbol{\\phi}}}$\n",
    "$\\forcecommand{\\cc}{{\\check{C}}}$\n",
    "$\\forcecommand{\\xv}{{\\boldsymbol{x}}}$\n",
    "$\\forcecommand{\\Xv}{{\\boldsymbol{X}\\!}}$\n",
    "$\\forcecommand{\\yv}{{\\boldsymbol{y}}}$\n",
    "$\\forcecommand{\\Yv}{{\\boldsymbol{Y}}}$\n",
    "$\\forcecommand{\\zv}{{\\boldsymbol{z}}}$\n",
    "$\\forcecommand{\\Zv}{{\\boldsymbol{Z}}}$\n",
    "$\\forcecommand{\\Iv}{{\\boldsymbol{I}}}$\n",
    "$\\forcecommand{\\Jv}{{\\boldsymbol{J}}}$\n",
    "$\\forcecommand{\\Cv}{{\\boldsymbol{C}}}$\n",
    "$\\forcecommand{\\Ev}{{\\boldsymbol{E}}}$\n",
    "$\\forcecommand{\\Fv}{{\\boldsymbol{F}}}$\n",
    "$\\forcecommand{\\Gv}{{\\boldsymbol{G}}}$\n",
    "$\\forcecommand{\\Hv}{{\\boldsymbol{H}}}$\n",
    "$\\forcecommand{\\alphav}{{\\boldsymbol{\\alpha}}}$\n",
    "$\\forcecommand{\\epsilonv}{{\\boldsymbol{\\epsilon}}}$\n",
    "$\\forcecommand{\\betav}{{\\boldsymbol{\\beta}}}$\n",
    "$\\forcecommand{\\deltav}{{\\boldsymbol{\\delta}}}$\n",
    "$\\forcecommand{\\gammav}{{\\boldsymbol{\\gamma}}}$\n",
    "$\\forcecommand{\\etav}{{\\boldsymbol{\\eta}}}$\n",
    "$\\forcecommand{\\piv}{{\\boldsymbol{\\pi}}}$\n",
    "$\\forcecommand{\\thetav}{{\\boldsymbol{\\theta}}}$\n",
    "$\\forcecommand{\\tauv}{{\\boldsymbol{\\tau}}}$\n",
    "$\\forcecommand{\\muv}{{\\boldsymbol{\\mu}}}$\n",
    "$%$\n",
    "$\\forcecommand{\\sd}{\\text{SD}}$\n",
    "$\\forcecommand{\\se}{\\text{SE}}$\n",
    "$\\forcecommand{\\med}{\\text{median}}$\n",
    "$\\forcecommand{\\median}{\\text{median}}$\n",
    "$%$\n",
    "$\\forcecommand{\\Ber}{{\\text{Ber}}}$\n",
    "$\\forcecommand{\\Bin}{{\\text{Bin}}}$\n",
    "$\\forcecommand{\\Geo}{{\\text{Geo}}}$\n",
    "$\\forcecommand{\\Unif}{{\\text{Unif}}}$\n",
    "$\\forcecommand{\\Poi}{{\\text{Poi}}}$\n",
    "$\\forcecommand{\\Exp}{{\\text{Exp}}}$\n",
    "$\\forcecommand{\\Chisq}{{\\chi^2}}$\n",
    "$\\forcecommand{\\N}{\\mathbb{N}}$\n",
    "$\\forcecommand{\\iid}{{\\stackrel{iid}{\\sim}}}$\n",
    "$\\forcecommand{\\px}{p_{X}}$\n",
    "$\\forcecommand{\\fx}{f_{X}}$\n",
    "$\\forcecommand{\\Fx}{F_{X}}$\n",
    "$\\forcecommand{\\py}{p_{Y}}$\n",
    "$\\forcecommand{\\pxy}{p_{X,Y}}$\n",
    "$\\forcecommand{\\po}{{p_0}}$\n",
    "$\\forcecommand{\\pa}{{p_a}}$\n",
    "$\\forcecommand{\\Xbar}{\\overline{X}}$\n",
    "$\\forcecommand{\\Ybar}{\\overline{Y}}$\n",
    "$\\forcecommand{\\Zbar}{\\overline{Z}}$\n",
    "$\\forcecommand{\\nXbar}{n \\cdot \\overline{X}}$\n",
    "$\\forcecommand{\\nYbar}{n \\cdot \\overline{Y}}$\n",
    "$\\forcecommand{\\nZbar}{n \\cdot \\overline{Z}}$\n",
    "$\\forcecommand{\\Xn}{X_1, X_2, \\dots, X_n}$\n",
    "$\\forcecommand{\\Xm}{{X_1, X_2, \\dots, X_m}}$\n",
    "$\\forcecommand{\\Yn}{Y_1, Y_2, \\dots, Y_n}$\n",
    "$\\forcecommand{\\Ym}{{Y_1, Y_2, \\dots, Y_m}}$\n",
    "$\\forcecommand{\\sumXn}{X_1 + X_2 + \\dots + X_n}$\n",
    "$\\forcecommand{\\sumym}{Y_1 + Y_2 + \\dots + Y_m}$\n",
    "$\\forcecommand{\\la}{\\ell_\\alpha}$\n",
    "$\\forcecommand{\\ua}{u_\\alpha}$\n",
    "$\\forcecommand{\\at}{{\\alpha/2}}$\n",
    "$\\forcecommand{\\mux}{\\mu_{X}}$\n",
    "$\\forcecommand{\\muy}{\\mu_{Y}}$\n",
    "$\\forcecommand{\\sx}{\\sigma_{X}}$\n",
    "$\\forcecommand{\\sy}{\\sigma_{Y}}$\n",
    "$\\forcecommand{\\pvalue}{$p$-value}$\n",
    "$\\forcecommand{\\Ho}{H_{0}}$\n",
    "$\\forcecommand{\\Ha}{H_{a}}$\n",
    "$\\forcecommand{\\pvalue}{p\\text{-value}}$\n",
    "\n",
    "\\vskip-\\parskip\n",
    "\\vskip-\\baselineskip\n",
    "</div>"
   ]
  },
  {
   "cell_type": "markdown",
   "id": "3b96abc1",
   "metadata": {
    "editable": true,
    "slideshow": {
     "slide_type": "slide"
    },
    "tags": []
   },
   "source": [
    "## Agenda\n",
    "---\n",
    "\n",
    "1. Hypothesis testing beyond the popualtion mean and population proportion\n",
    "    * Maximum Likelihood Estimation\n",
    "    * Likelihood Ratio\n",
    "    * Wilk's Likelihood Ratio Test\n",
    "\n",
    "1. Hypothesis testing with minimal assumptions\n",
    "    * Nonparametric tests\n",
    "    * Wilcoxon's Tests\n",
    "    * Kolmogoov-Smirnov Test\n",
    "---"
   ]
  },
  {
   "cell_type": "markdown",
   "id": "d19ea4ab",
   "metadata": {},
   "source": [
    "Packages:"
   ]
  },
  {
   "cell_type": "code",
   "execution_count": 1,
   "id": "36f314af",
   "metadata": {
    "editable": true,
    "slideshow": {
     "slide_type": ""
    },
    "tags": []
   },
   "outputs": [
    {
     "name": "stderr",
     "output_type": "stream",
     "text": [
      "/var/folders/hj/8xqq0_jd37l1yy3gsych74_r0000gq/T/ipykernel_63609/779697241.py:2: DeprecationWarning: \n",
      "Pyarrow will become a required dependency of pandas in the next major release of pandas (pandas 3.0),\n",
      "(to allow more performant data types, such as the Arrow string type, and better interoperability with other libraries)\n",
      "but was not found to be installed on your system.\n",
      "If this would cause problems for you,\n",
      "please provide us feedback at https://github.com/pandas-dev/pandas/issues/54466\n",
      "        \n",
      "  import pandas as pd\n"
     ]
    }
   ],
   "source": [
    "import numpy as np\n",
    "import pandas as pd\n",
    "import scipy.stats as stats\n",
    "\n",
    "import seaborn as sns\n",
    "import matplotlib.pyplot as plt\n",
    "\n",
    "import statsmodels\n",
    "import statsmodels.api as sm\n",
    "import statsmodels.formula.api as smf\n",
    "\n",
    "# Optional \n",
    "import ipywidgets as widgets\n",
    "from ipywidgets import interact, fixed\n",
    "%matplotlib inline"
   ]
  },
  {
   "cell_type": "markdown",
   "id": "0ed87b17",
   "metadata": {},
   "source": [
    "> helper plotting functions from week 2"
   ]
  },
  {
   "cell_type": "code",
   "execution_count": 2,
   "id": "744778c1",
   "metadata": {
    "tags": []
   },
   "outputs": [],
   "source": [
    "# Helper function to plot the pmf of a discrete random variable\n",
    "def plot_X(X, ax, type='pmf', **kwargs):\n",
    "    ax.set_xlabel('Support')\n",
    "    ax.set_title(f'{X.dist.name}{X.args}')\n",
    "    \n",
    "    min_X, max_X = X.ppf((1e-3, 1-1e-3))\n",
    "    supp_X = np.linspace(min_X-1, max_X + 1, 200)\n",
    "    \n",
    "    if type == 'pmf':\n",
    "        supp_X = np.arange(min_X-1, max_X + 1)\n",
    "        ax.bar(supp_X, X.pmf(supp_X), **kwargs)\n",
    "        ax.set_ylabel('PMF')\n",
    "    elif type == 'pdf':\n",
    "        ax.plot(supp_X, X.pdf(supp_X), **kwargs)\n",
    "        ax.set_ylabel('PDF')\n",
    "    elif type == 'cdf':\n",
    "        ax.plot(supp_X, X.cdf(supp_X), **kwargs)\n",
    "        ax.set_ylabel('CDF')\n",
    "    else:\n",
    "        raise ValueError('type must be pmf or cdf')"
   ]
  },
  {
   "cell_type": "markdown",
   "id": "b9176d7f",
   "metadata": {},
   "source": [
    "\n",
    "---\n",
    "\n",
    "# §1. Hypothesis testing beyond the population mean and population proportion\n",
    "\n",
    "* Suppose we have a collection $X_1, X_2, \\dots, X_n \\sim D(\\theta)$, observed iid from a distribution $D$ with unknown population parameter $\\theta$.\n",
    "\n",
    "* So far, we have considered the cases when:\n",
    "    * $D(\\theta) = N(\\mu, \\sigma^2)$, or\n",
    "    * $D(\\theta) = \\Ber(p)$\n",
    "\n",
    "* And, we have considered the following types of hypotheses:\n",
    "    * $H_0: \\theta = \\theta_0$ vs $H_a: \\theta \\lessgtr \\theta_0$\n",
    "    * $H_0: \\theta = \\theta_0$ vs $H_a: \\theta \\neq \\theta_0$\n",
    "\n",
    "\n",
    "* We have also looked at their \"two-sample\" varaints, i.e., \n",
    "    * $X_1, X_2, \\dots, X_n \\sim D(\\theta_X)$ and $Y_1, Y_2, \\dots, Y_m \\sim D(\\theta_Y)$<br></br>\n",
    "    * $H_0: \\theta_X = \\theta_Y$ vs $H_a: \\theta_X \\lessgtr \\theta_Y$\n",
    "    * $H_0: \\theta_X = \\theta_Y$ vs $H_a: \\theta_X \\neq \\theta_Y$\n"
   ]
  },
  {
   "cell_type": "markdown",
   "id": "69ee1821",
   "metadata": {},
   "source": [
    "<br></br><br></br><br></br>\n",
    "\n",
    "> ### Question\n",
    ">\n",
    "> #### How do we test hypotheses about $\\theta$ when $D$ is not Normal or Bernoulli?\n",
    "\n",
    "<br></br><br></br><br></br>"
   ]
  },
  {
   "cell_type": "markdown",
   "id": "eb51abfb",
   "metadata": {},
   "source": [
    "## §1.1 Maximum Likelihood Estimation\n",
    "\n",
    "Given a collection $X_1, X_2, \\dots, X_n \\sim D(\\theta)$, where $D(\\theta)$ is a distribution with probability density function $f(x; \\theta)$, the likelihood function is defined as:\n",
    "\n",
    "$$\n",
    "L(\\theta) = \\prod_{i=1}^n f(x_i; \\theta)\n",
    "$$\n",
    "\n",
    "> Intuitively, the likelihood function is a measure of **how likely the observed data is, given the parameter $\\theta$**.\n",
    "\n",
    "The **Maximum Likelihood Estimator (MLE)** is the value of $\\theta$ that maximizes the likelihood function, i.e.,\n",
    "\n",
    "$$\n",
    "\\hat{\\theta} = \\arg\\max_{\\theta} L(\\theta)\n",
    "$$\n",
    "\n",
    "\n",
    "---\n",
    "\n",
    "Equivalently, the log-likelihood function is given by:\n",
    "\n",
    "$$\n",
    "\\ell(\\theta) = \\log L(\\theta) = \\sum_{i=1}^n \\log f(x_i; \\theta)\n",
    "$$\n",
    "\n",
    "and, the **MLE** is the value of $\\theta$ that maximizes the log-likelihood function, i.e.,\n",
    "\n",
    "$$\n",
    "\\hat{\\theta} = \\arg\\max_{\\theta} \\ell(\\theta)\n",
    "$$\n",
    "\n",
    "---\n",
    "\n",
    "\n",
    "### Example\n",
    "\n",
    "Suppose we have a collection $X_1, X_2, \\dots, X_n \\sim \\Exp(\\lambda)$, where $\\Exp(\\lambda)$ is the exponential distribution with probability density function \n",
    "\n",
    "$$\n",
    "f(x; \\lambda) = \\lambda e^{-\\lambda x} \\quad\\text{, for }x \\geq 0, \\lambda > 0.\n",
    "$$"
   ]
  },
  {
   "cell_type": "code",
   "execution_count": 3,
   "id": "b447b0fe-b80d-460d-8d9a-6efe88ce007e",
   "metadata": {},
   "outputs": [
    {
     "data": {
      "text/plain": [
       "\u001b[0;31mSignature:\u001b[0m       \u001b[0mstats\u001b[0m\u001b[0;34m.\u001b[0m\u001b[0mexpon\u001b[0m\u001b[0;34m(\u001b[0m\u001b[0;34m*\u001b[0m\u001b[0margs\u001b[0m\u001b[0;34m,\u001b[0m \u001b[0;34m**\u001b[0m\u001b[0mkwds\u001b[0m\u001b[0;34m)\u001b[0m\u001b[0;34m\u001b[0m\u001b[0;34m\u001b[0m\u001b[0m\n",
       "\u001b[0;31mType:\u001b[0m            expon_gen\n",
       "\u001b[0;31mString form:\u001b[0m     <scipy.stats._continuous_distns.expon_gen object at 0x13548ae50>\n",
       "\u001b[0;31mFile:\u001b[0m            ~/mambaforge/lib/python3.11/site-packages/scipy/stats/_continuous_distns.py\n",
       "\u001b[0;31mDocstring:\u001b[0m      \n",
       "An exponential continuous random variable.\n",
       "\n",
       "As an instance of the `rv_continuous` class, `expon` object inherits from it\n",
       "a collection of generic methods (see below for the full list),\n",
       "and completes them with details specific for this particular distribution.\n",
       "\n",
       "Methods\n",
       "-------\n",
       "rvs(loc=0, scale=1, size=1, random_state=None)\n",
       "    Random variates.\n",
       "pdf(x, loc=0, scale=1)\n",
       "    Probability density function.\n",
       "logpdf(x, loc=0, scale=1)\n",
       "    Log of the probability density function.\n",
       "cdf(x, loc=0, scale=1)\n",
       "    Cumulative distribution function.\n",
       "logcdf(x, loc=0, scale=1)\n",
       "    Log of the cumulative distribution function.\n",
       "sf(x, loc=0, scale=1)\n",
       "    Survival function  (also defined as ``1 - cdf``, but `sf` is sometimes more accurate).\n",
       "logsf(x, loc=0, scale=1)\n",
       "    Log of the survival function.\n",
       "ppf(q, loc=0, scale=1)\n",
       "    Percent point function (inverse of ``cdf`` --- percentiles).\n",
       "isf(q, loc=0, scale=1)\n",
       "    Inverse survival function (inverse of ``sf``).\n",
       "moment(order, loc=0, scale=1)\n",
       "    Non-central moment of the specified order.\n",
       "stats(loc=0, scale=1, moments='mv')\n",
       "    Mean('m'), variance('v'), skew('s'), and/or kurtosis('k').\n",
       "entropy(loc=0, scale=1)\n",
       "    (Differential) entropy of the RV.\n",
       "fit(data)\n",
       "    Parameter estimates for generic data.\n",
       "    See `scipy.stats.rv_continuous.fit <https://docs.scipy.org/doc/scipy/reference/generated/scipy.stats.rv_continuous.fit.html#scipy.stats.rv_continuous.fit>`__ for detailed documentation of the\n",
       "    keyword arguments.\n",
       "expect(func, args=(), loc=0, scale=1, lb=None, ub=None, conditional=False, **kwds)\n",
       "    Expected value of a function (of one argument) with respect to the distribution.\n",
       "median(loc=0, scale=1)\n",
       "    Median of the distribution.\n",
       "mean(loc=0, scale=1)\n",
       "    Mean of the distribution.\n",
       "var(loc=0, scale=1)\n",
       "    Variance of the distribution.\n",
       "std(loc=0, scale=1)\n",
       "    Standard deviation of the distribution.\n",
       "interval(confidence, loc=0, scale=1)\n",
       "    Confidence interval with equal areas around the median.\n",
       "\n",
       "Notes\n",
       "-----\n",
       "The probability density function for `expon` is:\n",
       "\n",
       ".. math::\n",
       "\n",
       "    f(x) = \\exp(-x)\n",
       "\n",
       "for :math:`x \\ge 0`.\n",
       "\n",
       "The probability density above is defined in the \"standardized\" form. To shift\n",
       "and/or scale the distribution use the ``loc`` and ``scale`` parameters.\n",
       "Specifically, ``expon.pdf(x, loc, scale)`` is identically\n",
       "equivalent to ``expon.pdf(y) / scale`` with\n",
       "``y = (x - loc) / scale``. Note that shifting the location of a distribution\n",
       "does not make it a \"noncentral\" distribution; noncentral generalizations of\n",
       "some distributions are available in separate classes.\n",
       "\n",
       "A common parameterization for `expon` is in terms of the rate parameter\n",
       "``lambda``, such that ``pdf = lambda * exp(-lambda * x)``. This\n",
       "parameterization corresponds to using ``scale = 1 / lambda``.\n",
       "\n",
       "The exponential distribution is a special case of the gamma\n",
       "distributions, with gamma shape parameter ``a = 1``.\n",
       "\n",
       "Examples\n",
       "--------\n",
       ">>> import numpy as np\n",
       ">>> from scipy.stats import expon\n",
       ">>> import matplotlib.pyplot as plt\n",
       ">>> fig, ax = plt.subplots(1, 1)\n",
       "\n",
       "Calculate the first four moments:\n",
       "\n",
       "\n",
       ">>> mean, var, skew, kurt = expon.stats(moments='mvsk')\n",
       "\n",
       "Display the probability density function (``pdf``):\n",
       "\n",
       ">>> x = np.linspace(expon.ppf(0.01),\n",
       "...                 expon.ppf(0.99), 100)\n",
       ">>> ax.plot(x, expon.pdf(x),\n",
       "...        'r-', lw=5, alpha=0.6, label='expon pdf')\n",
       "\n",
       "Alternatively, the distribution object can be called (as a function)\n",
       "to fix the shape, location and scale parameters. This returns a \"frozen\"\n",
       "RV object holding the given parameters fixed.\n",
       "\n",
       "Freeze the distribution and display the frozen ``pdf``:\n",
       "\n",
       ">>> rv = expon()\n",
       ">>> ax.plot(x, rv.pdf(x), 'k-', lw=2, label='frozen pdf')\n",
       "\n",
       "Check accuracy of ``cdf`` and ``ppf``:\n",
       "\n",
       ">>> vals = expon.ppf([0.001, 0.5, 0.999])\n",
       ">>> np.allclose([0.001, 0.5, 0.999], expon.cdf(vals))\n",
       "True\n",
       "\n",
       "Generate random numbers:\n",
       "\n",
       ">>> r = expon.rvs(size=1000)\n",
       "\n",
       "And compare the histogram:\n",
       "\n",
       ">>> ax.hist(r, density=True, bins='auto', histtype='stepfilled', alpha=0.2)\n",
       ">>> ax.set_xlim([x[0], x[-1]])\n",
       ">>> ax.legend(loc='best', frameon=False)\n",
       ">>> plt.show()\n",
       "\u001b[0;31mClass docstring:\u001b[0m\n",
       "An exponential continuous random variable.\n",
       "\n",
       "%(before_notes)s\n",
       "\n",
       "Notes\n",
       "-----\n",
       "The probability density function for `expon` is:\n",
       "\n",
       ".. math::\n",
       "\n",
       "    f(x) = \\exp(-x)\n",
       "\n",
       "for :math:`x \\ge 0`.\n",
       "\n",
       "%(after_notes)s\n",
       "\n",
       "A common parameterization for `expon` is in terms of the rate parameter\n",
       "``lambda``, such that ``pdf = lambda * exp(-lambda * x)``. This\n",
       "parameterization corresponds to using ``scale = 1 / lambda``.\n",
       "\n",
       "The exponential distribution is a special case of the gamma\n",
       "distributions, with gamma shape parameter ``a = 1``.\n",
       "\n",
       "%(example)s\n",
       "\u001b[0;31mCall docstring:\u001b[0m \n",
       "Freeze the distribution for the given arguments.\n",
       "\n",
       "Parameters\n",
       "----------\n",
       "arg1, arg2, arg3,... : array_like\n",
       "    The shape parameter(s) for the distribution.  Should include all\n",
       "    the non-optional arguments, may include ``loc`` and ``scale``.\n",
       "\n",
       "Returns\n",
       "-------\n",
       "rv_frozen : rv_frozen instance\n",
       "    The frozen distribution."
      ]
     },
     "metadata": {},
     "output_type": "display_data"
    }
   ],
   "source": [
    "stats.expon?"
   ]
  },
  {
   "cell_type": "code",
   "execution_count": 11,
   "id": "82707873",
   "metadata": {},
   "outputs": [],
   "source": [
    "lambda_true = 2.1"
   ]
  },
  {
   "cell_type": "code",
   "execution_count": 12,
   "id": "8fce8bdb",
   "metadata": {},
   "outputs": [
    {
     "data": {
      "text/plain": [
       "<Axes: ylabel='Count'>"
      ]
     },
     "execution_count": 12,
     "metadata": {},
     "output_type": "execute_result"
    },
    {
     "data": {
      "image/png": "[encoded data removed]",
      "text/plain": [
       "<Figure size 640x480 with 1 Axes>"
      ]
     },
     "metadata": {},
     "output_type": "display_data"
    }
   ],
   "source": [
    "X = stats.expon(scale=1/lambda_true)\n",
    "data = X.rvs(1000)\n",
    "sns.histplot(data)"
   ]
  },
  {
   "cell_type": "markdown",
   "id": "a112c0d0",
   "metadata": {},
   "source": [
    "\n",
    "The likelihood function is\n",
    "\n",
    "$$\n",
    "\\begin{aligned}\n",
    "L(\\lambda) &= \\prod_{i=1}^n f(x; \\lambda)\\\\\n",
    "&= \\prod_{i=1}^n \\lambda e^{-\\lambda x_i}\\\\ \n",
    "&= \\lambda^n \\exp\\Big(-\\lambda \\sum_{i=1}^n x_i\\Big)\n",
    "\\end{aligned}$$\n",
    "\n",
    "and the log-likelihood function is\n",
    "\n",
    "$$\\begin{aligned}\n",
    "\\ell(\\lambda) &= \\sum_{i=1}^n \\log f(x_i; \\lambda)\\\\\n",
    "&= \\sum_{i=1}^n \\log(\\lambda) - \\lambda x_i\\\\\n",
    "&= n \\log \\lambda - \\lambda \\sum_{i=1}^n x_i\n",
    "\\end{aligned}$$\n"
   ]
  },
  {
   "cell_type": "code",
   "execution_count": 13,
   "id": "ef3c3e36",
   "metadata": {},
   "outputs": [],
   "source": [
    "# likelihood function and log-likelihood function\n",
    "def likelihood(lambda_, data):\n",
    "    return np.prod(stats.expon(scale=1/lambda_).pdf(data))\n",
    "    # return lambda_**len(data) * np.exp(-lambda_*np.sum(data))\n",
    "\n",
    "def log_likelihood(lambda_, data):\n",
    "    return np.sum(stats.expon(scale=1/lambda_).logpdf(data))\n",
    "    # return len(data)*np.log(lambda_) - lambda_*np.sum(data)"
   ]
  },
  {
   "cell_type": "code",
   "execution_count": 14,
   "id": "5f1ad415",
   "metadata": {},
   "outputs": [
    {
     "data": {
      "application/vnd.jupyter.widget-view+json": {
       "model_id": "c6388279084449deadaf9f4af4e8e15c",
       "version_major": 2,
       "version_minor": 0
      },
      "text/plain": [
       "interactive(children=(FloatSlider(value=1.55, description='lambda_', max=3.0, min=0.1, step=0.01), Output()), …"
      ]
     },
     "metadata": {},
     "output_type": "display_data"
    }
   ],
   "source": [
    "@interact(lambda_ = (0.1, 3, 0.01))\n",
    "def plot_likeliohood(lambda_):\n",
    "    params = np.arange(0.1, 3, 0.01)\n",
    "    likelihoods = [likelihood(lambda_, data) for lambda_ in params]\n",
    "    log_likelihoods = [log_likelihood(lambda_, data) for lambda_ in params]\n",
    "\n",
    "    fig, ax = plt.subplots(1, 2, figsize=(12, 4))\n",
    "    ax[0].plot(params, likelihoods)\n",
    "    ax[0].vlines(lambda_, np.min(likelihoods), np.max(likelihoods), color='r', label='True value')\n",
    "    ax[0].set_title('Likelihood function'); ax[0].set_xlabel('lambda'); ax[0].set_ylabel('likelihood')\n",
    "\n",
    "    ax[1].plot(params, log_likelihoods)\n",
    "    ax[1].vlines(lambda_, np.min(log_likelihoods), np.max(log_likelihoods), color='r', label='True value')\n",
    "    ax[1].set_title('Log-likelihood function'); ax[1].set_xlabel('lambda');ax[1].set_ylabel('log-likelihood')\n"
   ]
  },
  {
   "cell_type": "markdown",
   "id": "177ffb36",
   "metadata": {},
   "source": [
    "> #### How do you do this automatically?"
   ]
  },
  {
   "cell_type": "code",
   "execution_count": 15,
   "id": "470fcec8",
   "metadata": {},
   "outputs": [],
   "source": [
    "from scipy.optimize import minimize"
   ]
  },
  {
   "cell_type": "code",
   "execution_count": 16,
   "id": "8955861c",
   "metadata": {},
   "outputs": [
    {
     "data": {
      "text/plain": [
       "  message: CONVERGENCE: NORM_OF_PROJECTED_GRADIENT_<=_PGTOL\n",
       "  success: True\n",
       "   status: 0\n",
       "      fun: 293.3213165620681\n",
       "        x: [ 2.027e+00]\n",
       "      nit: 9\n",
       "      jac: [ 0.000e+00]\n",
       "     nfev: 24\n",
       "     njev: 12\n",
       " hess_inv: <1x1 LbfgsInvHessProduct with dtype=float64>"
      ]
     },
     "execution_count": 16,
     "metadata": {},
     "output_type": "execute_result"
    }
   ],
   "source": [
    "nll_function = lambda x: -log_likelihood(x, data)\n",
    "lambda_init = 0.01\n",
    "res = minimize(nll_function, lambda_init, bounds=[(0, np.inf)])\n",
    "res"
   ]
  },
  {
   "cell_type": "code",
   "execution_count": 17,
   "id": "2c13eac3",
   "metadata": {},
   "outputs": [
    {
     "data": {
      "text/plain": [
       "2.0272468864331046"
      ]
     },
     "execution_count": 17,
     "metadata": {},
     "output_type": "execute_result"
    }
   ],
   "source": [
    "mle_lambda = res.x[0]\n",
    "mle_lambda"
   ]
  },
  {
   "cell_type": "markdown",
   "id": "5aad11c5",
   "metadata": {},
   "source": [
    "<br></br><br></br><br></br>\n",
    "\n",
    "---\n",
    "\n",
    "## §1.2 Likehood ratio test\n",
    "\n",
    "Suppose we want to test the hypotheses \n",
    "$$\n",
    "H_0: \\theta \\in \\Theta_0 \\quad \\quad \\text{vs} \\quad \\quad H_a: \\theta \\in \\Theta_1.\n",
    "$$\n",
    "\n",
    "For example,\n",
    "\n",
    "* For $H_0: \\theta=\\theta_0$ vs $H_a: \\theta \\neq \\theta_0$, \n",
    "    * we have $\\Theta_0 = \\{\\theta_0\\}$ and $\\Theta_1 = \\{\\theta: \\theta \\neq \\theta_0\\}$.\n",
    "* For $H_0: \\theta \\leq \\theta_0$ vs $H_a: \\theta > \\theta_0$,\n",
    "    * we have $\\Theta_0 = \\{\\theta: \\theta \\leq \\theta_0\\}$ and $\\Theta_1 = \\{\\theta: \\theta > \\theta_0\\}$.\n",
    "* For $H_0: \\theta \\geq \\theta_0$ vs $H_a: \\theta < \\theta_0$,\n",
    "    * we have $\\Theta_0 = \\{\\theta: \\theta \\geq \\theta_0\\}$ and $\\Theta_1 = \\{\\theta: \\theta < \\theta_0\\}$.\n"
   ]
  },
  {
   "cell_type": "markdown",
   "id": "b8fd2b9a",
   "metadata": {},
   "source": [
    "> #### Likelihood Ratio Statistic\n",
    "\n",
    "The (log-)likelihood ratio statistic is defined as\n",
    "\n",
    "$$\n",
    "\\begin{aligned}\n",
    "\\Lambda &= \n",
    "-2 \\log \\frac{L(\\hat{\\theta}_0)}{L(\\hat{\\theta})}\\\\ \n",
    "&= 2 \\times (\\ell(\\hat{\\theta}) - \\ell(\\hat{\\theta}_0))\n",
    "\\end{aligned}\n",
    "$$\n",
    "\n",
    "where $\\hat{\\theta}_0$ is the MLE under the null hypothesis $H_0$, and $\\hat{\\theta}$ is the MLE under the alternative hypothesis $H_a$.\n"
   ]
  },
  {
   "cell_type": "markdown",
   "id": "095de9dd",
   "metadata": {},
   "source": [
    "> ## Wilk's Theorem\n",
    ">\n",
    "> Under some mild conditions on $f(x;\\theta)$, the likelihood ratio statistic $\\Lambda$ is $\\Chisq$-distributed with degrees of freedom equal to the difference in the number of parameters under the null and alternative hypotheses.\n",
    "\n",
    "\n",
    "$$\n",
    "\\Lambda \\sim \\Chisq(df) = \\Chisq(dim(\\Theta_1) - dim(\\Theta_0))\n",
    "$$"
   ]
  },
  {
   "cell_type": "markdown",
   "id": "6498187d",
   "metadata": {},
   "source": [
    "Suppose we want to test:\n",
    "\n",
    "$$\n",
    "H_0: \\lambda \\le 2 \\quad \\quad \\text{vs} \\quad \\quad H_a: \\lambda > 2\n",
    "$$"
   ]
  },
  {
   "cell_type": "code",
   "execution_count": 18,
   "id": "bedd3f65",
   "metadata": {},
   "outputs": [
    {
     "data": {
      "text/plain": [
       "(-293.3213165620682, -293.4124558003848)"
      ]
     },
     "execution_count": 18,
     "metadata": {},
     "output_type": "execute_result"
    }
   ],
   "source": [
    "l_alternative = -minimize(\n",
    "    nll_function, \n",
    "    lambda_init, \n",
    "    bounds=[(2, np.inf)]\n",
    ").fun\n",
    "\n",
    "\n",
    "l_null = -minimize(\n",
    "    nll_function, \n",
    "    lambda_init, \n",
    "    bounds=[(2, 2)]\n",
    ").fun\n",
    "\n",
    "l_alternative, l_null"
   ]
  },
  {
   "cell_type": "code",
   "execution_count": 19,
   "id": "a0a266ad",
   "metadata": {},
   "outputs": [
    {
     "data": {
      "text/plain": [
       "0.6694224217931075"
      ]
     },
     "execution_count": 19,
     "metadata": {},
     "output_type": "execute_result"
    }
   ],
   "source": [
    "1 - stats.chi2(1).cdf(2*(l_alternative - l_null))"
   ]
  },
  {
   "cell_type": "code",
   "execution_count": 20,
   "id": "466315db",
   "metadata": {},
   "outputs": [
    {
     "data": {
      "text/plain": [
       "0.18227847663320063"
      ]
     },
     "execution_count": 20,
     "metadata": {},
     "output_type": "execute_result"
    }
   ],
   "source": [
    "l_ratio = 2 * (l_alternative - l_null)\n",
    "l_ratio"
   ]
  },
  {
   "cell_type": "code",
   "execution_count": 21,
   "id": "972be84b",
   "metadata": {},
   "outputs": [
    {
     "data": {
      "text/plain": [
       "0.6694224217931075"
      ]
     },
     "execution_count": 21,
     "metadata": {},
     "output_type": "execute_result"
    }
   ],
   "source": [
    "p_value = 1 - stats.chi2(1).cdf(l_ratio)\n",
    "p_value"
   ]
  },
  {
   "cell_type": "code",
   "execution_count": 22,
   "id": "d6aefe5e-8943-45bc-8bd2-58e9607af0fe",
   "metadata": {},
   "outputs": [
    {
     "data": {
      "application/vnd.jupyter.widget-view+json": {
       "model_id": "2552c4e377264a26b35271849627b060",
       "version_major": 2,
       "version_minor": 0
      },
      "text/plain": [
       "interactive(children=(IntSlider(value=505, description='n', max=1000, min=10), Output()), _dom_classes=('widge…"
      ]
     },
     "metadata": {},
     "output_type": "display_data"
    }
   ],
   "source": [
    "@interact(n=(10, 1000, 1))\n",
    "\n",
    "def lr_test(n):\n",
    "    lambda_true = 2.5\n",
    "    X = stats.expon(scale=1/lambda_true)\n",
    "    data = X.rvs(n)\n",
    "    nll_function = lambda x: -log_likelihood(x, data)\n",
    "    l_alternative = -minimize(nll_function, lambda_init, bounds=[(2, np.inf)]).fun\n",
    "    l_null = -minimize(nll_function, lambda_init, bounds=[(0, 2)]).fun\n",
    "    l_ratio = 2*(l_alternative - l_null)\n",
    "    p_value = 1 - stats.chi2(1).cdf(l_ratio)\n",
    "    return p_value"
   ]
  },
  {
   "cell_type": "markdown",
   "id": "54b59b31",
   "metadata": {},
   "source": [
    "---"
   ]
  },
  {
   "cell_type": "markdown",
   "id": "908a7f09",
   "metadata": {},
   "source": [
    "# §2. Hypothesis testing with minimal assumptions\n",
    "\n",
    "\n",
    "> #### Nonparametric Tests\n",
    "> \n",
    "> **Nonparametric tests** are hypothesis tests that make minimal assumptions about the distribution of the data.\n",
    ">\n",
    "> They are used when it's not reasonable to assume that the data follows a known distribution, or when the data is ordinal or nominal."
   ]
  },
  {
   "cell_type": "markdown",
   "id": "abddb972",
   "metadata": {},
   "source": [
    "> Question: Why are they called \"nonparametric\"?\n",
    "\n",
    "<br></br><br></br><br></br>\n",
    "\n",
    "> Answer:\n",
    "\n",
    "The tests which we have looked at so far, such as the $t$-test, $z$-test, and $\\Chisq$-test, are called **parametric tests** because they make assumptions about the distribution of the data, such as the mean, variance, or proportion, e.g., \n",
    "\n",
    "* $X_1, X_2, \\dots, X_n \\sim N(\\mu, \\sigma^2)$,\n",
    "* $\\Xn \\sim N(\\mux, \\sx^2)$ and $\\Ym \\sim N(\\muy, \\sy^2)$,.\n",
    "* $X_1, X_2, \\dots, X_n \\sim \\Ber(p)$,\n",
    "* $X_1, X_2, \\dots, X_n \\sim \\Exp(\\lambda)$,\n",
    "\n",
    "The parameters here are the population parameters $\\mu$, $\\sigma^2$, $\\mux, \\sx, \\muy, \\sy$, $p$, $\\lambda$, $\\piv$, etc.\n",
    "\n",
    "\n",
    "<br></br><br></br><br></br>\n",
    "\n",
    "Nonparametric tests, on the other hand, are based on assumptions such as:\n",
    "\n",
    "* The data is exchangeable, i.e., the order in which the data is observed does not matter,<br></br>\n",
    "* $X_1, X_2, \\dots, X_n \\sim F$\n",
    "    * $F$ is some probability distribution, but we don't know what $F$ is,<br></br>\n",
    "* $\\Xn \\sim F_X$ and $\\Ym \\sim F_Y$\n",
    "    * where $F_X$ and $F_Y$ are some probability distributions, but we don't know what $F_X$ and $F_Y$ are\n",
    "* etc...\n",
    "\n",
    "⚠️In fact, the family of $\\chi^2$ tests we looked at in the last lecture are actually nonparametric tests.⚠️"
   ]
  },
  {
   "cell_type": "markdown",
   "id": "693dcc3b",
   "metadata": {},
   "source": [
    "<br></br><br></br><br></br>"
   ]
  },
  {
   "cell_type": "markdown",
   "id": "8bec8029",
   "metadata": {},
   "source": [
    "## §2.1 Runs Test\n",
    "\n",
    "The **Wald-Wolfowitz runs test** is a nonparametric test for two independent samples. The test is used to determine if the two samples are from the same distribution, i.e., \n",
    "\n",
    "$$\n",
    "X_1, X_2, \\dots, X_n \\sim F_X \\quad \\text{and} \\quad Y_1, Y_2, \\dots, Y_m \\sim F_Y\n",
    "$$\n",
    "\n",
    "and, \n",
    "\n",
    "$$\n",
    "H_0: F_X = F_Y \\quad \\quad \\text{vs} \\quad \\quad H_a: F_X \\neq F_Y\n",
    "$$\n",
    "\n",
    "\n",
    "> #### Run\n",
    "\n",
    "A **run** is a sequence of consecutive observations of the same type, i.e., all $X$'s or all $Y$'s. More conceretly, \n",
    "\n",
    "* Arrange $X_1, X_2, \\dots, X_n, Y_1, Y_2, \\dots, Y_m$ in increasing order,\n",
    "* Suppose it looks like \n",
    "$$\n",
    "Y_{10}, X_3, X_7, Y_5, X_1, X_2, Y_1, Y_2, X_4, X_5, X_6, Y_3, Y_4, X_8, X_9, Y_6, Y_7, Y_8, Y_9, Y_{11},\n",
    "$$\n",
    "\n",
    "For simplicity, let \"$+$\" denote a sample from $X$ and \"$-$\" denote a sample from $Y$. Then the sequence above looks like:\n",
    "\n",
    "$$\n",
    "-  +   +   -   +   +   -   -   +   +   +   -   -   +   +   -   -   -   -   - \n",
    "$$"
   ]
  },
  {
   "cell_type": "markdown",
   "id": "b27b2d67",
   "metadata": {},
   "source": [
    "A **run** is a sequence of consecutive $+$'s or $-$'s. In the sequence above, there are 9 runs, i.e.,\n",
    "\n",
    "$$\n",
    "- \\quad\\Big|\\quad +   +  \\quad\\Big|\\quad  - \\quad\\Big|\\quad  +   + \\quad\\Big|\\quad  -   - \\quad\\Big|\\quad  +   +   + \\quad\\Big|\\quad  -   -  \\quad\\Big|\\quad  +   + \\quad\\Big|\\quad  -   -   -   -   - \n",
    "$$"
   ]
  },
  {
   "cell_type": "markdown",
   "id": "5f101b20",
   "metadata": {},
   "source": [
    "> #### Question: How do runs behave?"
   ]
  },
  {
   "cell_type": "markdown",
   "id": "f58767ff",
   "metadata": {},
   "source": [
    "If the two distributions $F_X$ and $F_Y$ are different, then $\\#$ runs will be small:\n",
    "\n",
    "* If the two means or medians are very different, then your ordered sequence will look something like:\n",
    "$$\n",
    "  -   -   -   -   - \\quad\\Big|\\quad + \\quad\\Big|\\quad  - \\quad\\Big|\\quad   +  +   +   +   +   +\n",
    "$$"
   ]
  },
  {
   "cell_type": "markdown",
   "id": "be761b0b",
   "metadata": {},
   "source": [
    "* If the two means are similar but the variances are very different, then your ordered sequence will look something like:\n",
    "$$\n",
    "+  +   +   \\quad\\Big|\\quad   -   -   -   -   -  \\quad\\Big|\\quad +   +  +  +\n",
    "$$"
   ]
  },
  {
   "cell_type": "markdown",
   "id": "acaadb6f",
   "metadata": {},
   "source": [
    "If the two distributions $F_X$ and $F_Y$ are the indistinguishable, then $\\#$ runs will be large:\n",
    "\n",
    "* If the two means or medians are very different, then your ordered sequence will look something like:\n",
    "\n",
    "$$\n",
    "  - \\quad\\Big|\\quad + \\quad\\Big|\\quad - \\quad\\Big|\\quad + + \\quad\\Big|\\quad - \\quad\\Big|\\quad  + \\quad\\Big|\\quad - - - \\quad\\Big|\\quad + + \\quad\\Big|\\quad -\n",
    "$$"
   ]
  },
  {
   "cell_type": "markdown",
   "id": "bab41332",
   "metadata": {},
   "source": [
    "### §2.1.1 The Hypothesis Test\n",
    "\n",
    "> ##### Assuption \n",
    "\n",
    "$$\n",
    "X_1, X_2, \\dots, X_n \\sim F_X \\quad \\text{and} \\quad Y_1, Y_2, \\dots, Y_m \\sim F_Y\n",
    "$$\n",
    "\n",
    "> ##### Hypotheses\n",
    "\n",
    "$$\n",
    "H_0: F_X = F_Y \\quad \\quad \\text{vs} \\quad \\quad H_a: F_X \\neq F_Y\n",
    "$$\n",
    "\n",
    "> ##### Test Statistic\n",
    "\n",
    "If $\\hat R$ is the observed number of runs, then the test statistic is\n",
    "\n",
    "$$\n",
    "Z = \\frac{\\hat R - \\mu_R}{s_R}\n",
    "$$\n",
    "\n",
    "where \n",
    "$$\n",
    "\\mu_R = 1 + 2\\frac{n_X \\cdot n_Y}{n_X + n_Y} \\quad \\quad \\text{and} \\quad \\quad s_R = \\sqrt\\frac{2 n_x \\cdot n_y \\cdot (2 n_X n_Y - n_X - n_Y) }{(n_X + n_Y)^2 \\cdot (n_X + n_Y - 1)}\n",
    "$$ \n",
    "are the expected value and variance of the number of runs under the null hypothesis.\n",
    "\n",
    "> ##### Rejection Region\n",
    "\n",
    "For the most common use case, we reject the null hypothesis if the number of runs is too small, i.e.,\n",
    "\n",
    "$$\n",
    "\\text{rejection region} = (-\\infty, x_\\alpha)\n",
    "$$\n",
    "\n",
    "where $x_\\alpha = z_{1-\\alpha}$ is the $1-\\alpha$-th **upper quantile** of the standard normal distribution $N(0, 1)$.\n"
   ]
  },
  {
   "cell_type": "markdown",
   "id": "78fc9a14",
   "metadata": {},
   "source": [
    "<br></br><br></br><br></br>\n",
    "\n",
    "---\n",
    "\n",
    "<br></br><br></br><br></br>"
   ]
  },
  {
   "cell_type": "markdown",
   "id": "bceaed3b",
   "metadata": {},
   "source": [
    "## §2.2 Kolmogorov Smirnov Test\n",
    "\n",
    "The Kolmogorov-Smirnov test is a nonparametric test for the equality of two probability distributions. It comes in two variants:\n",
    "\n",
    "> #### One sample K-S Test\n",
    "\n",
    "$$\n",
    "X_1, X_2, \\dots, X_n \\sim F_X\n",
    "$$\n",
    "and,\n",
    "$$\n",
    "H_0: F_X = F_0 \\quad \\quad \\text{vs} \\quad \\quad H_a: F_X \\neq F_0,\n",
    "$$\n",
    "\n",
    "where $F_0$ is some known hypothesized, reference distribution, e.g., $N(\\mu, \\sigma^2)$, $\\Gamma(\\alpha, \\lambda)$, $\\text{Beta}(\\alpha, \\beta)$, etc.\n",
    "\n",
    "\n",
    "<br></br><br></br><br></br>\n",
    "\n",
    "\n",
    "> #### Two sample K-S Test\n",
    "\n",
    "$$\n",
    "X_1, X_2, \\dots, X_n \\sim F_X \\quad \\text{and} \\quad Y_1, Y_2, \\dots, Y_m \\sim F_Y\n",
    "$$\n",
    "\n",
    "and,\n",
    "\n",
    "$$\n",
    "H_0: F_X = F_Y \\quad \\quad \\text{vs} \\quad \\quad H_a: F_X \\neq F_Y\n",
    "$$\n",
    "\n"
   ]
  },
  {
   "cell_type": "markdown",
   "id": "9af76e93",
   "metadata": {},
   "source": [
    "<br></br><br></br><br></br>\n"
   ]
  },
  {
   "cell_type": "markdown",
   "id": "8190a86a",
   "metadata": {},
   "source": [
    "To develop some intuition, let's take a look at the one-sample K-S test.\n",
    "\n",
    "\n",
    "### §2.2.1 One-sample K-S Test\n",
    "\n",
    "Suppose we have a collection $X_1, X_2, \\dots, X_n \\sim F_X$, where $F_X$ is some unknown distribution, and we want to test the hypothesis\n",
    "\n",
    "$$\n",
    "H_0: F_X = F_0 \\quad \\quad \\text{vs} \\quad \\quad H_a: F_X \\neq F_0,\n",
    "$$\n",
    "\n",
    "We can use the **empirical distribution function (EDF)** to estimate $F_X$. The EDF is defined as\n",
    "\n",
    "$$\n",
    "\\hat F_n(x) = \\frac{1}{n} \\sum_{i=1}^n \\mathbb{1}(X_i \\leq x)\n",
    "$$\n",
    "\n",
    "where $\\mathbb{1}(X_i \\leq x)$ is the indicator function, i.e., \n",
    "$$\n",
    "\\mathbb{1}(X_i \\leq x) = \\begin{cases}\n",
    "1 & \\text{if } X_i \\leq x\\\\\n",
    "0 & \\text{if } X_i > x\n",
    "\\end{cases}\n",
    "$$"
   ]
  },
  {
   "cell_type": "code",
   "execution_count": 10,
   "id": "c6495478",
   "metadata": {},
   "outputs": [],
   "source": [
    "X_true = stats.norm(0, 2)\n",
    "X_loc = stats.norm(2, 2)\n",
    "X_scale = stats.norm(0, 4)\n",
    "data = X_true.rvs(20)"
   ]
  },
  {
   "cell_type": "code",
   "execution_count": 11,
   "id": "6695db29",
   "metadata": {},
   "outputs": [
    {
     "data": {
      "text/plain": [
       "<matplotlib.legend.Legend at 0x17fe27a50>"
      ]
     },
     "execution_count": 11,
     "metadata": {},
     "output_type": "execute_result"
    },
    {
     "data": {
      "image/png": "[encoded data removed]",
      "text/plain": [
       "<Figure size 500x500 with 1 Axes>"
      ]
     },
     "metadata": {},
     "output_type": "display_data"
    }
   ],
   "source": [
    "xrange = np.linspace(-6, 6, 100)\n",
    "\n",
    "F0 = X_true.cdf(xrange)\n",
    "\n",
    "FX = np.array([sum(data < x) for x in xrange]) / len(data)\n",
    "\n",
    "fig, ax = plt.subplots(1, 1, figsize=(5, 5))\n",
    "ax.plot(xrange, F0, label='Null CDF')\n",
    "ax.plot(xrange, FX, label='EDF')\n",
    "ax.legend()"
   ]
  },
  {
   "cell_type": "markdown",
   "id": "17c2dc8b",
   "metadata": {},
   "source": [
    "> If the distributions are different, i.e., \n",
    "> \n",
    "> * Their means are different, or \n",
    "> * their variances are different,\n",
    "> \n",
    ">> then the EDF is not going to match the CDF. "
   ]
  },
  {
   "cell_type": "code",
   "execution_count": 12,
   "id": "4110ec39",
   "metadata": {},
   "outputs": [
    {
     "data": {
      "text/plain": [
       "<matplotlib.legend.Legend at 0x17fc8c910>"
      ]
     },
     "execution_count": 12,
     "metadata": {},
     "output_type": "execute_result"
    },
    {
     "data": {
      "image/png": "[encoded data removed]",
      "text/plain": [
       "<Figure size 1500x500 with 3 Axes>"
      ]
     },
     "metadata": {},
     "output_type": "display_data"
    }
   ],
   "source": [
    "data_loc = X_loc.rvs(20)\n",
    "data_scale = X_scale.rvs(20)\n",
    "\n",
    "FX_loc = np.array([sum(data_loc < x) for x in xrange]) / len(data_loc)\n",
    "FX_scale = np.array([sum(data_scale < x) for x in xrange]) / len(data_scale)\n",
    "\n",
    "\n",
    "fig, axs = plt.subplots(1, 3, figsize=(15, 5))\n",
    "axs[0].plot(xrange, F0, label='Null CDF'); axs[0].plot(xrange, FX, label='EDF');        axs[0].legend()\n",
    "axs[1].plot(xrange, F0, label='Null CDF'); axs[1].plot(xrange, FX_loc, label='EDF');    axs[1].legend()\n",
    "axs[2].plot(xrange, F0, label='Null CDF'); axs[2].plot(xrange, FX_scale, label='EDF');  axs[2].legend()"
   ]
  },
  {
   "cell_type": "code",
   "execution_count": 13,
   "id": "2a3ad1c5",
   "metadata": {},
   "outputs": [
    {
     "data": {
      "application/vnd.jupyter.widget-view+json": {
       "model_id": "110b4eeec7484b15830433d7a553b4f0",
       "version_major": 2,
       "version_minor": 0
      },
      "text/plain": [
       "interactive(children=(IntSlider(value=504, description='n', max=1000, min=10, step=2), Output()), _dom_classes…"
      ]
     },
     "metadata": {},
     "output_type": "display_data"
    }
   ],
   "source": [
    "@interact(n = (10, 1000, 2))\n",
    "\n",
    "def plot_edf(n):\n",
    "\n",
    "    data       = X_true.rvs(n)\n",
    "    data_loc   = X_loc.rvs(n)\n",
    "    data_scale = X_scale.rvs(n)\n",
    "\n",
    "    F0 = X_true.cdf(xrange)\n",
    "\n",
    "    FX = np.array([sum(data < x) for x in xrange]) / len(data)\n",
    "    FX_loc = np.array([sum(data_loc < x) for x in xrange]) / len(data_loc)\n",
    "    FX_scale = np.array([sum(data_scale < x) for x in xrange]) / len(data_scale)\n",
    "\n",
    "    fig, axs = plt.subplots(1, 3, figsize=(15, 5))\n",
    "    axs[0].plot(xrange, F0, label='Null CDF'); axs[0].plot(xrange, FX, label='EDF');        axs[0].legend()\n",
    "    axs[1].plot(xrange, F0, label='Null CDF'); axs[1].plot(xrange, FX_loc, label='EDF');    axs[1].legend()\n",
    "    axs[2].plot(xrange, F0, label='Null CDF'); axs[2].plot(xrange, FX_scale, label='EDF');  axs[2].legend()"
   ]
  },
  {
   "cell_type": "markdown",
   "id": "f1846570",
   "metadata": {},
   "source": [
    "The test statistic is the **Kolmogorov-Smirnov statistic**, defined as\n",
    "\n",
    "$$\n",
    "D_n = \\sup_x | \\hat F_n(x) - F_0(x) |\n",
    "$$\n",
    "\n",
    "where $\\sup_x$ is the supremum over all $x$ in the support of $F_0$. Intuitively, this is the maximum veritical distance between the orange and the blue lines in the plots above. \n",
    "\n",
    "\n",
    "* If $D_n$ is small, then we have evidence that $F_X$ is close to $F_0$.\n",
    "* If $D_n$ is large, then we have evidence that $F_X$ is different from $F_0$.\n"
   ]
  },
  {
   "cell_type": "markdown",
   "id": "2dd79241",
   "metadata": {},
   "source": [
    "---\n",
    "\n",
    "#### Extension to two-sample K-S Test\n",
    "\n",
    "The two-sample K-S test is a generalization of the one-sample K-S test. Given \n",
    "\n",
    "$$\n",
    "X_1, X_2, \\dots, X_n \\sim F_X \\quad \\text{and} \\quad Y_1, Y_2, \\dots, Y_m \\sim F_Y\n",
    "$$\n",
    "and the hypotheses\n",
    "$$\n",
    "H_0: F_X = F_Y \\quad \\quad \\text{vs} \\quad \\quad H_a: F_X \\neq F_Y\n",
    "$$\n",
    "\n",
    "the test statistic is given by\n",
    "\n",
    "$$\n",
    "D_{n,m} = \\sup_{x} \\Big| \\hat F_n(x) - \\hat F_m(x) \\Big|\n",
    "$$\n",
    "\n",
    "where $\\hat F_n(x)$ and $\\hat F_m(x)$ are the empirical distribution functions of $X_1, X_2, \\dots, X_n$ and $Y_1, Y_2, \\dots, Y_m$, respectively.\n",
    "\n",
    "---"
   ]
  },
  {
   "cell_type": "markdown",
   "id": "308ac51c",
   "metadata": {},
   "source": [
    "### §2.2.2 The Hypothesis Test\n",
    "\n",
    "> ##### Assuption \n",
    "\n",
    "$$\n",
    "X_1, X_2, \\dots, X_n \\sim F_X \\quad \\text{and} \\quad Y_1, Y_2, \\dots, Y_m \\sim F_Y\n",
    "$$\n",
    "\n",
    "> ##### Hypotheses\n",
    "\n",
    "$$\n",
    "H_0: F_X = F_Y \\quad \\quad \\text{vs} \\quad \\quad H_a: F_X \\neq F_Y\n",
    "$$\n",
    "\n",
    "> ##### Test Statistic\n",
    "\n",
    "The test statistic is given by\n",
    "\n",
    "$$\n",
    "D_{n,m} = \\sup_{x} \\Big| \\hat F_n(x) - \\hat F_m(x) \\Big|\n",
    "$$\n",
    "\n",
    "where $\\hat F_n(x)$ and $\\hat F_m(x)$ are the empirical distribution functions of $X_1, X_2, \\dots, X_n$ and $Y_1, Y_2, \\dots, Y_m$, respectively.\n",
    "\n",
    "> ##### Rejection Region\n",
    "\n",
    "We reject the null hypothesis if the deviation of EDFs, $D_{m, n}$ is large, i.e.,\n",
    "\n",
    "$$\n",
    "\\text{rejection region} = (x_\\alpha, \\infty)\n",
    "$$\n",
    "\n",
    "where $x_\\alpha$ is given by\n",
    "\n",
    "$$\n",
    "x_\\alpha = \\sqrt{\\frac 12 \\log\\Big(\\frac{\\alpha}{2}\\Big) \\times \\frac{m+n}{m \\cdot n}}\n",
    "$$"
   ]
  },
  {
   "cell_type": "code",
   "execution_count": 19,
   "id": "7541cf67",
   "metadata": {},
   "outputs": [],
   "source": [
    "# stats.kstest?\n",
    "# stats.ks_2samp?\n",
    "# stats.ks_1samp?"
   ]
  },
  {
   "cell_type": "code",
   "execution_count": 43,
   "id": "ab00cd58",
   "metadata": {},
   "outputs": [
    {
     "name": "stdout",
     "output_type": "stream",
     "text": [
      "p-value = 0.26347172719864703, so Reject H0 at level 0.05\n"
     ]
    },
    {
     "data": {
      "text/plain": [
       "0.0364680711769906"
      ]
     },
     "execution_count": 43,
     "metadata": {},
     "output_type": "execute_result"
    }
   ],
   "source": [
    "X_data = stats.norm(100, 200).rvs(10000)\n",
    "Y_data = stats.norm(105, 210).rvs(10000)\n",
    "# Y_data = stats.chi2(105).rvs(10000)\n",
    "\n",
    "result = stats.kstest(X_data, Y_data)\n",
    "# result = stats.ttest_ind(X_data, Y_data, equal_var=False, alternative='two-sided')\n",
    "\n",
    "\n",
    "alpha = 0.05\n",
    "\n",
    "if result.pvalue < alpha:\n",
    "    print(f'p-value = {KS_result.pvalue}, so Reject H0 at level {alpha}')  \n",
    "else:\n",
    "    print(f'p-value = {KS_result.pvalue}, so Fail to Reject H0 at level {alpha}')\n",
    "\n",
    "stats.ttest_ind(X_data, Y_data, equal_var=False, alternative='two-sided').pvalue"
   ]
  },
  {
   "cell_type": "code",
   "execution_count": 45,
   "id": "20e25f03",
   "metadata": {},
   "outputs": [
    {
     "data": {
      "text/html": [
       "<div>\n",
       "<style scoped>\n",
       "    .dataframe tbody tr th:only-of-type {\n",
       "        vertical-align: middle;\n",
       "    }\n",
       "\n",
       "    .dataframe tbody tr th {\n",
       "        vertical-align: top;\n",
       "    }\n",
       "\n",
       "    .dataframe thead th {\n",
       "        text-align: right;\n",
       "    }\n",
       "</style>\n",
       "<table border=\"1\" class=\"dataframe\">\n",
       "  <thead>\n",
       "    <tr style=\"text-align: right;\">\n",
       "      <th></th>\n",
       "      <th>rownames</th>\n",
       "      <th>minority</th>\n",
       "      <th>age</th>\n",
       "      <th>gender</th>\n",
       "      <th>credits</th>\n",
       "      <th>beauty</th>\n",
       "      <th>eval</th>\n",
       "      <th>division</th>\n",
       "      <th>native</th>\n",
       "      <th>tenure</th>\n",
       "      <th>students</th>\n",
       "      <th>allstudents</th>\n",
       "      <th>prof</th>\n",
       "    </tr>\n",
       "  </thead>\n",
       "  <tbody>\n",
       "    <tr>\n",
       "      <th>0</th>\n",
       "      <td>1</td>\n",
       "      <td>yes</td>\n",
       "      <td>36</td>\n",
       "      <td>female</td>\n",
       "      <td>more</td>\n",
       "      <td>0.289916</td>\n",
       "      <td>4.3</td>\n",
       "      <td>upper</td>\n",
       "      <td>yes</td>\n",
       "      <td>yes</td>\n",
       "      <td>24</td>\n",
       "      <td>43</td>\n",
       "      <td>1</td>\n",
       "    </tr>\n",
       "    <tr>\n",
       "      <th>1</th>\n",
       "      <td>2</td>\n",
       "      <td>no</td>\n",
       "      <td>59</td>\n",
       "      <td>male</td>\n",
       "      <td>more</td>\n",
       "      <td>-0.737732</td>\n",
       "      <td>4.5</td>\n",
       "      <td>upper</td>\n",
       "      <td>yes</td>\n",
       "      <td>yes</td>\n",
       "      <td>17</td>\n",
       "      <td>20</td>\n",
       "      <td>2</td>\n",
       "    </tr>\n",
       "    <tr>\n",
       "      <th>2</th>\n",
       "      <td>3</td>\n",
       "      <td>no</td>\n",
       "      <td>51</td>\n",
       "      <td>male</td>\n",
       "      <td>more</td>\n",
       "      <td>-0.571984</td>\n",
       "      <td>3.7</td>\n",
       "      <td>upper</td>\n",
       "      <td>yes</td>\n",
       "      <td>yes</td>\n",
       "      <td>55</td>\n",
       "      <td>55</td>\n",
       "      <td>3</td>\n",
       "    </tr>\n",
       "    <tr>\n",
       "      <th>3</th>\n",
       "      <td>4</td>\n",
       "      <td>no</td>\n",
       "      <td>40</td>\n",
       "      <td>female</td>\n",
       "      <td>more</td>\n",
       "      <td>-0.677963</td>\n",
       "      <td>4.3</td>\n",
       "      <td>upper</td>\n",
       "      <td>yes</td>\n",
       "      <td>yes</td>\n",
       "      <td>40</td>\n",
       "      <td>46</td>\n",
       "      <td>4</td>\n",
       "    </tr>\n",
       "    <tr>\n",
       "      <th>4</th>\n",
       "      <td>5</td>\n",
       "      <td>no</td>\n",
       "      <td>31</td>\n",
       "      <td>female</td>\n",
       "      <td>more</td>\n",
       "      <td>1.509794</td>\n",
       "      <td>4.4</td>\n",
       "      <td>upper</td>\n",
       "      <td>yes</td>\n",
       "      <td>yes</td>\n",
       "      <td>42</td>\n",
       "      <td>48</td>\n",
       "      <td>5</td>\n",
       "    </tr>\n",
       "    <tr>\n",
       "      <th>5</th>\n",
       "      <td>6</td>\n",
       "      <td>no</td>\n",
       "      <td>62</td>\n",
       "      <td>male</td>\n",
       "      <td>more</td>\n",
       "      <td>0.588569</td>\n",
       "      <td>4.2</td>\n",
       "      <td>upper</td>\n",
       "      <td>yes</td>\n",
       "      <td>yes</td>\n",
       "      <td>182</td>\n",
       "      <td>282</td>\n",
       "      <td>6</td>\n",
       "    </tr>\n",
       "    <tr>\n",
       "      <th>6</th>\n",
       "      <td>7</td>\n",
       "      <td>no</td>\n",
       "      <td>33</td>\n",
       "      <td>female</td>\n",
       "      <td>more</td>\n",
       "      <td>-0.126001</td>\n",
       "      <td>4.0</td>\n",
       "      <td>upper</td>\n",
       "      <td>yes</td>\n",
       "      <td>yes</td>\n",
       "      <td>33</td>\n",
       "      <td>41</td>\n",
       "      <td>7</td>\n",
       "    </tr>\n",
       "    <tr>\n",
       "      <th>7</th>\n",
       "      <td>8</td>\n",
       "      <td>no</td>\n",
       "      <td>51</td>\n",
       "      <td>female</td>\n",
       "      <td>more</td>\n",
       "      <td>-0.258190</td>\n",
       "      <td>3.4</td>\n",
       "      <td>upper</td>\n",
       "      <td>yes</td>\n",
       "      <td>yes</td>\n",
       "      <td>25</td>\n",
       "      <td>41</td>\n",
       "      <td>8</td>\n",
       "    </tr>\n",
       "    <tr>\n",
       "      <th>8</th>\n",
       "      <td>9</td>\n",
       "      <td>no</td>\n",
       "      <td>33</td>\n",
       "      <td>female</td>\n",
       "      <td>more</td>\n",
       "      <td>0.149693</td>\n",
       "      <td>4.5</td>\n",
       "      <td>upper</td>\n",
       "      <td>yes</td>\n",
       "      <td>yes</td>\n",
       "      <td>48</td>\n",
       "      <td>60</td>\n",
       "      <td>9</td>\n",
       "    </tr>\n",
       "    <tr>\n",
       "      <th>9</th>\n",
       "      <td>10</td>\n",
       "      <td>no</td>\n",
       "      <td>47</td>\n",
       "      <td>male</td>\n",
       "      <td>more</td>\n",
       "      <td>0.540917</td>\n",
       "      <td>3.9</td>\n",
       "      <td>upper</td>\n",
       "      <td>yes</td>\n",
       "      <td>no</td>\n",
       "      <td>16</td>\n",
       "      <td>19</td>\n",
       "      <td>10</td>\n",
       "    </tr>\n",
       "  </tbody>\n",
       "</table>\n",
       "</div>"
      ],
      "text/plain": [
       "   rownames minority  age  gender credits    beauty  eval division native  \\\n",
       "0         1      yes   36  female    more  0.289916   4.3    upper    yes   \n",
       "1         2       no   59    male    more -0.737732   4.5    upper    yes   \n",
       "2         3       no   51    male    more -0.571984   3.7    upper    yes   \n",
       "3         4       no   40  female    more -0.677963   4.3    upper    yes   \n",
       "4         5       no   31  female    more  1.509794   4.4    upper    yes   \n",
       "5         6       no   62    male    more  0.588569   4.2    upper    yes   \n",
       "6         7       no   33  female    more -0.126001   4.0    upper    yes   \n",
       "7         8       no   51  female    more -0.258190   3.4    upper    yes   \n",
       "8         9       no   33  female    more  0.149693   4.5    upper    yes   \n",
       "9        10       no   47    male    more  0.540917   3.9    upper    yes   \n",
       "\n",
       "  tenure  students  allstudents  prof  \n",
       "0    yes        24           43     1  \n",
       "1    yes        17           20     2  \n",
       "2    yes        55           55     3  \n",
       "3    yes        40           46     4  \n",
       "4    yes        42           48     5  \n",
       "5    yes       182          282     6  \n",
       "6    yes        33           41     7  \n",
       "7    yes        25           41     8  \n",
       "8    yes        48           60     9  \n",
       "9     no        16           19    10  "
      ]
     },
     "execution_count": 45,
     "metadata": {},
     "output_type": "execute_result"
    }
   ],
   "source": [
    "## Example\n",
    "\n",
    "url = 'https://vincentarelbundock.github.io/Rdatasets/csv/AER/TeachingRatings.csv'\n",
    "df = pd.read_csv(url)\n",
    "df.head(10)"
   ]
  },
  {
   "cell_type": "code",
   "execution_count": 50,
   "id": "1982ddf1-fd87-429e-8dfd-ddfe68532801",
   "metadata": {},
   "outputs": [
    {
     "data": {
      "text/plain": [
       "minority\n",
       "no     [4.5, 3.7, 4.3, 4.4, 4.2, 4.0, 3.4, 4.5, 3.9, ...\n",
       "yes    [4.3, 3.1, 3.3, 4.0, 4.0, 3.8, 3.8, 4.6, 3.6, ...\n",
       "Name: eval, dtype: object"
      ]
     },
     "execution_count": 50,
     "metadata": {},
     "output_type": "execute_result"
    }
   ],
   "source": [
    "df.groupby('minority')['eval'].apply(lambda x: x.values)"
   ]
  },
  {
   "cell_type": "code",
   "execution_count": 57,
   "id": "6d328fe9-9872-4f74-9a74-4deb7d8b5a21",
   "metadata": {},
   "outputs": [
    {
     "name": "stderr",
     "output_type": "stream",
     "text": [
      "/Users/svishwanath/mambaforge/lib/python3.11/site-packages/seaborn/_base.py:949: FutureWarning: When grouping with a length-1 list-like, you will need to pass a length-1 tuple to get_group in a future version of pandas. Pass `(name,)` instead of `name` to silence this warning.\n",
      "  data_subset = grouped_data.get_group(pd_key)\n",
      "/Users/svishwanath/mambaforge/lib/python3.11/site-packages/seaborn/categorical.py:640: FutureWarning: SeriesGroupBy.grouper is deprecated and will be removed in a future version of pandas.\n",
      "  positions = grouped.grouper.result_index.to_numpy(dtype=float)\n",
      "/Users/svishwanath/mambaforge/lib/python3.11/site-packages/seaborn/_base.py:949: FutureWarning: When grouping with a length-1 list-like, you will need to pass a length-1 tuple to get_group in a future version of pandas. Pass `(name,)` instead of `name` to silence this warning.\n",
      "  data_subset = grouped_data.get_group(pd_key)\n",
      "/Users/svishwanath/mambaforge/lib/python3.11/site-packages/seaborn/categorical.py:640: FutureWarning: SeriesGroupBy.grouper is deprecated and will be removed in a future version of pandas.\n",
      "  positions = grouped.grouper.result_index.to_numpy(dtype=float)\n"
     ]
    },
    {
     "data": {
      "text/plain": [
       "<Axes: xlabel='minority', ylabel='eval'>"
      ]
     },
     "execution_count": 57,
     "metadata": {},
     "output_type": "execute_result"
    },
    {
     "data": {
      "image/png": "[encoded data removed]",
      "text/plain": [
       "<Figure size 640x480 with 1 Axes>"
      ]
     },
     "metadata": {},
     "output_type": "display_data"
    }
   ],
   "source": [
    "sns.boxplot(df, x='minority', y='eval', hue='minority')"
   ]
  },
  {
   "cell_type": "code",
   "execution_count": 51,
   "id": "64865f4d",
   "metadata": {},
   "outputs": [
    {
     "name": "stderr",
     "output_type": "stream",
     "text": [
      "/var/folders/hj/8xqq0_jd37l1yy3gsych74_r0000gq/T/ipykernel_63609/1532036473.py:4: FutureWarning: Series.__getitem__ treating keys as positions is deprecated. In a future version, integer keys will always be treated as labels (consistent with DataFrame behavior). To access a value by position, use `ser.iloc[pos]`\n",
      "  sns.histplot(two_samples[0], kde=True, ax=axs[0], bins=20, color='dodgerblue')\n",
      "/var/folders/hj/8xqq0_jd37l1yy3gsych74_r0000gq/T/ipykernel_63609/1532036473.py:5: FutureWarning: Series.__getitem__ treating keys as positions is deprecated. In a future version, integer keys will always be treated as labels (consistent with DataFrame behavior). To access a value by position, use `ser.iloc[pos]`\n",
      "  sns.histplot(two_samples[1], kde=True, ax=axs[1], bins=20, color='firebrick')\n"
     ]
    },
    {
     "data": {
      "text/plain": [
       "<Axes: ylabel='Count'>"
      ]
     },
     "execution_count": 51,
     "metadata": {},
     "output_type": "execute_result"
    },
    {
     "data": {
      "image/png": "[encoded data removed]",
      "text/plain": [
       "<Figure size 1000x500 with 2 Axes>"
      ]
     },
     "metadata": {},
     "output_type": "display_data"
    }
   ],
   "source": [
    "two_samples = df.groupby('minority')['eval'].apply(lambda x: x.values)\n",
    "\n",
    "fig, axs = plt.subplots(1, 2, figsize=(10, 5))\n",
    "sns.histplot(two_samples[0], kde=True, ax=axs[0], bins=20, color='dodgerblue')\n",
    "sns.histplot(two_samples[1], kde=True, ax=axs[1], bins=20, color='firebrick')"
   ]
  },
  {
   "cell_type": "code",
   "execution_count": 54,
   "id": "8352110c",
   "metadata": {},
   "outputs": [
    {
     "data": {
      "text/plain": [
       "TtestResult(statistic=1.5383871090489505, pvalue=0.12787503573025388, df=80.51241483513661)"
      ]
     },
     "execution_count": 54,
     "metadata": {},
     "output_type": "execute_result"
    }
   ],
   "source": [
    "stats.ttest_ind(*two_samples, equal_var=False)"
   ]
  },
  {
   "cell_type": "code",
   "execution_count": 55,
   "id": "e43d1df0",
   "metadata": {},
   "outputs": [
    {
     "data": {
      "text/plain": [
       "KstestResult(statistic=0.20101033834586465, pvalue=0.01960089316440552, statistic_location=3.8, statistic_sign=-1)"
      ]
     },
     "execution_count": 55,
     "metadata": {},
     "output_type": "execute_result"
    }
   ],
   "source": [
    "stats.kstest(*two_samples)"
   ]
  },
  {
   "cell_type": "markdown",
   "id": "28a5a693",
   "metadata": {},
   "source": [
    "<br></br><br></br><br></br>\n",
    "\n",
    "---\n",
    "\n",
    "<br></br><br></br><br></br>"
   ]
  },
  {
   "cell_type": "markdown",
   "id": "dc959566",
   "metadata": {},
   "source": [
    "# §3: More Exploratory Data Analysis"
   ]
  },
  {
   "cell_type": "markdown",
   "id": "0a418c99",
   "metadata": {},
   "source": [
    "> ### Question\n",
    ">\n",
    "> Suppose we are given a sample $X_1, X_2, ..., X_n$, can we visualize if it comes from a reference distribution $D(\\theta)$?"
   ]
  },
  {
   "cell_type": "markdown",
   "id": "5c054b55",
   "metadata": {},
   "source": [
    "### §3.1: QQ Plots\n",
    "\n",
    "A **quantile-quantile (QQ) plot** is a graphical tool to compare two probability distributions. It is used to check if a given data follows a known distribution, or if two data sets are from the same distribution.\n",
    "\n",
    "\n",
    "Essentially, a QQ plot is a scatter plot of the quantiles of one distribution against the quantiles of another distribution. This is similar to the idea of plotting two CDFs against each other, but it's easier to visualize."
   ]
  },
  {
   "cell_type": "code",
   "execution_count": 58,
   "id": "13400d93",
   "metadata": {},
   "outputs": [
    {
     "data": {
      "application/vnd.jupyter.widget-view+json": {
       "model_id": "af5a2fe3788345f6ac9542bef35b9f05",
       "version_major": 2,
       "version_minor": 0
      },
      "text/plain": [
       "interactive(children=(FloatSlider(value=0.0, description='mu', max=3.0, min=-3.0), FloatSlider(value=1.5000000…"
      ]
     },
     "metadata": {},
     "output_type": "display_data"
    }
   ],
   "source": [
    "X_reference = stats.norm(0, 1)\n",
    "\n",
    "@interact(mu=(-3, 3, 0.1), sigma=(0.1, 3, 0.1), n=(10, 1000, 10))\n",
    "def qqplot(mu, sigma, n):\n",
    "    Y = stats.norm(mu, sigma)\n",
    "    \n",
    "    fig, ax = plt.subplots(1, 2, figsize=(12, 5))\n",
    "    sm.qqplot(Y.rvs(n), X_reference, ax=ax[1], line='45')\n",
    "    \n",
    "    plot_X(X_reference, ax[0], type='pdf', label='Theoretical', color='red')\n",
    "    plot_X(Y, ax[0], type='pdf', label='Samples', color='dodgerblue')\n",
    "    ax[0].set_xlim(-5, 5);  ax[0].legend()"
   ]
  },
  {
   "cell_type": "markdown",
   "id": "c173b78c",
   "metadata": {},
   "source": [
    "> The effect of variance\n",
    "* If $\\text{Var}(Y) \\uparrow$, the slope of the QQ-plot $\\uparrow$\n",
    "* If $\\text{Var}(Y) \\downarrow$, the slope of the QQ-plot $\\downarrow$"
   ]
  },
  {
   "cell_type": "code",
   "execution_count": 59,
   "id": "d6be105f",
   "metadata": {},
   "outputs": [
    {
     "data": {
      "application/vnd.jupyter.widget-view+json": {
       "model_id": "7469041233e74723a64c9a81469cde47",
       "version_major": 2,
       "version_minor": 0
      },
      "text/plain": [
       "interactive(children=(FloatSlider(value=2.5000000000000004, description='alpha', max=5.0, min=0.1), FloatSlide…"
      ]
     },
     "metadata": {},
     "output_type": "display_data"
    }
   ],
   "source": [
    "X_reference = stats.beta(1, 1)\n",
    "\n",
    "@interact(alpha=(0.1, 5, 0.1), beta=(0.1, 5, 0.1), n=(10, 1000, 10))\n",
    "def qqplot(alpha, beta, n):\n",
    "    Y = stats.beta(alpha, beta)\n",
    "    fig, ax = plt.subplots(1, 2, figsize=(12, 5))\n",
    "    sm.qqplot(Y.rvs(n), X_reference, ax=ax[1], line='45')\n",
    "\n",
    "    plot_X(X_reference, ax[0], type='pdf', label='Theoretical', color='red')\n",
    "    plot_X(Y, ax[0], type='pdf', label='Samples', color='dodgerblue')\n",
    "    ax[0].set_xlim(-0.1, 1.1);   ax[0].legend()"
   ]
  },
  {
   "cell_type": "markdown",
   "id": "7bf27455",
   "metadata": {},
   "source": [
    "> The effect of skew\n",
    "* As $\\text{skew}(Y) \\uparrow$, the curvature of the QQ-plot becomes more pronounced below the line $y=x$.\n",
    "* As $\\text{skew}(Y) \\downarrow$, the curvature of the QQ-plot becomes more pronounced above the line $y=x$."
   ]
  },
  {
   "cell_type": "code",
   "execution_count": 60,
   "id": "67edb74c",
   "metadata": {},
   "outputs": [
    {
     "data": {
      "application/vnd.jupyter.widget-view+json": {
       "model_id": "8796272ff7ad4a608a73cb76dcaae990",
       "version_major": 2,
       "version_minor": 0
      },
      "text/plain": [
       "interactive(children=(IntSlider(value=10, description='df', max=20, min=1), IntSlider(value=500, description='…"
      ]
     },
     "metadata": {},
     "output_type": "display_data"
    }
   ],
   "source": [
    "@interact(df=(1, 20, 1), n=(10, 1000, 10), swap=(False, True))\n",
    "def qqplot(df, n, swap=False):\n",
    "    X_reference = stats.norm(0, 1)\n",
    "    Y = stats.t(df)\n",
    "    if swap:\n",
    "        Z = X_reference\n",
    "        X_reference = Y\n",
    "        Y = Z\n",
    "\n",
    "    fig, ax = plt.subplots(1, 2, figsize=(10, 5))\n",
    "    sm.qqplot(Y.rvs(n), X_reference, ax=ax[1], line='45')\n",
    "\n",
    "    plot_X(X_reference, ax[0], type='pdf', label='Theoretical', color='red')\n",
    "    plot_X(Y, ax[0], type='pdf', label='Samples', color='dodgerblue')\n",
    "    ax[0].set_xlim(-5, 5); ax[0].legend()"
   ]
  },
  {
   "cell_type": "markdown",
   "id": "12eabac8",
   "metadata": {},
   "source": [
    "> Effect of the tails\n",
    "\n",
    "* If the tails of $Y$ are heavier than the tails of $X$, then the QQ-plot will curve upwards.\n",
    "* On the other hand, if the tails of $Y$ are lighter than the tails of $X$, then the QQ-plot will curve downwards."
   ]
  },
  {
   "cell_type": "markdown",
   "id": "13f70658",
   "metadata": {},
   "source": [
    "## Example\n",
    "\n",
    "The method of looking at the quantiles of the QQ-plot is a good way to check if the data is normally distributed. In fact, this idea is used in the **Shapiro-Wilk test** for normality.\n"
   ]
  },
  {
   "cell_type": "markdown",
   "id": "4cf23a3d",
   "metadata": {},
   "source": [
    "$$\n",
    "\\begin{aligned}\n",
    "H_0&: X_1, X_2, \\dots, X_n \\sim N(\\mu, \\sigma^2) && \\text{ for some } \\mu \\in \\R, \\ \\sigma > 0\\\\ \\\\\n",
    "H_a&: X_1, X_2, \\dots, X_n \\not\\sim N(\\mu, \\sigma^2) && \\text{ for any } \\mu \\in \\R, \\ \\sigma > 0\n",
    "\\end{aligned}\n",
    "$$"
   ]
  },
  {
   "cell_type": "code",
   "execution_count": 64,
   "id": "51ede5fc",
   "metadata": {},
   "outputs": [
    {
     "data": {
      "text/plain": [
       "(ShapiroResult(statistic=0.853955636491515, pvalue=1.983220000142381e-05),\n",
       " ShapiroResult(statistic=0.9809788987664875, pvalue=0.5939226142334102))"
      ]
     },
     "execution_count": 64,
     "metadata": {},
     "output_type": "execute_result"
    }
   ],
   "source": [
    "not_normal = stats.chi2(3).rvs(50)\n",
    "normal = stats.norm(0, 1).rvs(50)\n",
    "\n",
    "stats.shapiro(not_normal), stats.shapiro(normal)"
   ]
  },
  {
   "cell_type": "markdown",
   "id": "43de064c",
   "metadata": {},
   "source": [
    "<br></br><br></br><br></br>\n",
    "\n",
    "---\n",
    "\n",
    "<br></br><br></br><br></br>\n"
   ]
  },
  {
   "cell_type": "markdown",
   "id": "3014598d",
   "metadata": {},
   "source": [
    "## §3.2 Checking for independence\n",
    "\n",
    "\n",
    "> ### Question\n",
    "> \n",
    "> Suppose we are given a sample $X_1, X_2, \\dots, X_n$ and we want to check if the observations are independent. How do we do that?\n",
    "\n",
    "\n",
    "### §3.2.1: Autocorrelation\n",
    "\n",
    "\n",
    "The **autocorrelation function (ACF)** is a measure of the correlation between a time series and a lagged version of itself. It is used to check if the observations are independent.\n",
    "\n",
    "The ACF is defined as\n",
    "\n",
    "$$\n",
    "\\text{ACF}(k) = \\frac{\\sum_{i=1}^{n-k} (X_i - \\bar X)(X_{i+k} - \\bar X)}{\\sum_{i=1}^n (X_i - \\bar X)^2}\n",
    "$$\n",
    "\n",
    "where $k$ is the lag, i.e., the number of time steps between the two observations. _⚠️Note that the ACF presented here is actually a **biased** estimate of the true ACF.⚠️_ But this method suffices for getting a \"_general sense of the data_\".\n",
    "\n",
    "\n",
    "> If the observations are independent, then the ACF should be close to zero for all lags."
   ]
  },
  {
   "cell_type": "code",
   "execution_count": 65,
   "id": "681f320f",
   "metadata": {},
   "outputs": [],
   "source": [
    "# acf function for a non independent time series using statsmodels\n",
    "from statsmodels.tsa.stattools import acf\n",
    "\n",
    "n = 2000\n",
    "X = np.random.normal(size=n)\n",
    "Y = np.zeros(n)\n",
    "Y[0] = X[0]\n",
    "for t in range(1, n):\n",
    "    Y[t] = 0.5*Y[t-1] + X[t]"
   ]
  },
  {
   "cell_type": "code",
   "execution_count": 66,
   "id": "0619df70",
   "metadata": {},
   "outputs": [
    {
     "name": "stderr",
     "output_type": "stream",
     "text": [
      "No artists with labels found to put in legend.  Note that artists whose label start with an underscore are ignored when legend() is called with no argument.\n"
     ]
    },
    {
     "data": {
      "text/plain": [
       "Text(0, 0.5, 'ACF')"
      ]
     },
     "execution_count": 66,
     "metadata": {},
     "output_type": "execute_result"
    },
    {
     "data": {
      "image/png": "[encoded data removed]",
      "text/plain": [
       "<Figure size 1500x700 with 4 Axes>"
      ]
     },
     "metadata": {},
     "output_type": "display_data"
    }
   ],
   "source": [
    "fig, ax = plt.subplots(2, 2, figsize=(15, 7))\n",
    "ax[0, 0].plot(X, label='X', alpha=0.5, linewidth=1); ax[0, 0].legend()\n",
    "\n",
    "ax[1, 0].plot(Y, label='Y', alpha=0.5, linewidth=1); ax[0, 1].legend()\n",
    "\n",
    "ax[0, 1].bar(range(0, 21), acf(X, nlags=20))\n",
    "ax[0, 1].set_xlabel('Lag'); ax[0, 1].set_ylabel('ACF')\n",
    "\n",
    "ax[1, 1].bar(range(0, 21), acf(Y, nlags=20))\n",
    "ax[1, 1].set_xlabel('Lag'); ax[1, 1].set_ylabel('ACF')"
   ]
  },
  {
   "cell_type": "markdown",
   "id": "d420cafc",
   "metadata": {},
   "source": [
    "The **Ljung-Box test** uses the autocorrelation function to test for independence. The test statistic is given by\n",
    "\n",
    "$$\n",
    "Q = n(n+2) \\sum_{k=1}^h \\frac{\\text{ACF}(k)^2}{n-k}\n",
    "$$\n",
    "\n",
    "where $h$ is the number of lags to consider. The test statistic $Q$ is $\\Chisq$-distributed with $h$ degrees of freedom.\n"
   ]
  },
  {
   "cell_type": "code",
   "execution_count": 227,
   "id": "4c13f78e",
   "metadata": {},
   "outputs": [
    {
     "data": {
      "text/html": [
       "<div>\n",
       "<style scoped>\n",
       "    .dataframe tbody tr th:only-of-type {\n",
       "        vertical-align: middle;\n",
       "    }\n",
       "\n",
       "    .dataframe tbody tr th {\n",
       "        vertical-align: top;\n",
       "    }\n",
       "\n",
       "    .dataframe thead th {\n",
       "        text-align: right;\n",
       "    }\n",
       "</style>\n",
       "<table border=\"1\" class=\"dataframe\">\n",
       "  <thead>\n",
       "    <tr style=\"text-align: right;\">\n",
       "      <th></th>\n",
       "      <th>lb_stat</th>\n",
       "      <th>lb_pvalue</th>\n",
       "    </tr>\n",
       "  </thead>\n",
       "  <tbody>\n",
       "    <tr>\n",
       "      <th>1</th>\n",
       "      <td>0.318607</td>\n",
       "      <td>0.572446</td>\n",
       "    </tr>\n",
       "    <tr>\n",
       "      <th>2</th>\n",
       "      <td>1.644248</td>\n",
       "      <td>0.439497</td>\n",
       "    </tr>\n",
       "    <tr>\n",
       "      <th>3</th>\n",
       "      <td>2.178635</td>\n",
       "      <td>0.536169</td>\n",
       "    </tr>\n",
       "  </tbody>\n",
       "</table>\n",
       "</div>"
      ],
      "text/plain": [
       "    lb_stat  lb_pvalue\n",
       "1  0.318607   0.572446\n",
       "2  1.644248   0.439497\n",
       "3  2.178635   0.536169"
      ]
     },
     "execution_count": 227,
     "metadata": {},
     "output_type": "execute_result"
    }
   ],
   "source": [
    "from statsmodels.stats.diagnostic import acorr_ljungbox\n",
    "\n",
    "acorr_ljungbox(X, lags=3, return_df=False)"
   ]
  },
  {
   "cell_type": "code",
   "execution_count": 228,
   "id": "9089da3f",
   "metadata": {},
   "outputs": [
    {
     "data": {
      "text/html": [
       "<div>\n",
       "<style scoped>\n",
       "    .dataframe tbody tr th:only-of-type {\n",
       "        vertical-align: middle;\n",
       "    }\n",
       "\n",
       "    .dataframe tbody tr th {\n",
       "        vertical-align: top;\n",
       "    }\n",
       "\n",
       "    .dataframe thead th {\n",
       "        text-align: right;\n",
       "    }\n",
       "</style>\n",
       "<table border=\"1\" class=\"dataframe\">\n",
       "  <thead>\n",
       "    <tr style=\"text-align: right;\">\n",
       "      <th></th>\n",
       "      <th>lb_stat</th>\n",
       "      <th>lb_pvalue</th>\n",
       "    </tr>\n",
       "  </thead>\n",
       "  <tbody>\n",
       "    <tr>\n",
       "      <th>1</th>\n",
       "      <td>502.081206</td>\n",
       "      <td>3.350763e-111</td>\n",
       "    </tr>\n",
       "    <tr>\n",
       "      <th>2</th>\n",
       "      <td>610.784453</td>\n",
       "      <td>2.343371e-133</td>\n",
       "    </tr>\n",
       "    <tr>\n",
       "      <th>3</th>\n",
       "      <td>639.685183</td>\n",
       "      <td>2.510313e-138</td>\n",
       "    </tr>\n",
       "  </tbody>\n",
       "</table>\n",
       "</div>"
      ],
      "text/plain": [
       "      lb_stat      lb_pvalue\n",
       "1  502.081206  3.350763e-111\n",
       "2  610.784453  2.343371e-133\n",
       "3  639.685183  2.510313e-138"
      ]
     },
     "execution_count": 228,
     "metadata": {},
     "output_type": "execute_result"
    }
   ],
   "source": [
    "acorr_ljungbox(Y, lags=3, return_df=False)"
   ]
  },
  {
   "cell_type": "markdown",
   "id": "fbca44d4",
   "metadata": {},
   "source": [
    "<br></br><br></br><br></br>\n",
    "\n",
    "---\n",
    "\n",
    "<br></br><br></br><br></br>\n"
   ]
  },
  {
   "cell_type": "markdown",
   "id": "9de5e4f9",
   "metadata": {},
   "source": [
    "## §3.2 Checking for identical assumption\n",
    "\n",
    "\n",
    "> ### Question\n",
    "> \n",
    "> Suppose we are given a sample $X_1, X_2, \\dots, X_n$ and we want to check if the observations are identically distributed. How do we do that?\n",
    "\n",
    "\n",
    "For this, you might want to use a mixture of the methods we have looked at so far, such as the QQ-plot, the K-S test.\n",
    "\n",
    "\n",
    "---\n"
   ]
  },
  {
   "cell_type": "code",
   "execution_count": 241,
   "id": "7d015e70",
   "metadata": {},
   "outputs": [
    {
     "data": {
      "image/png": "[encoded data removed]",
      "text/plain": [
       "<Figure size 1200x500 with 2 Axes>"
      ]
     },
     "metadata": {},
     "output_type": "display_data"
    }
   ],
   "source": [
    "data = np.append(stats.norm().rvs(100), stats.chi2(20).rvs(3))\n",
    "\n",
    "fig, ax = plt.subplots(1, 2, figsize=(12, 5))\n",
    "sm.qqplot(data, stats.norm, line='45', ax=ax[1])\n",
    "sns.scatterplot(data, ax=ax[0])\n",
    "plt.show()"
   ]
  },
  {
   "cell_type": "code",
   "execution_count": 254,
   "id": "16ad0029",
   "metadata": {},
   "outputs": [
    {
     "data": {
      "text/plain": [
       "<Axes: >"
      ]
     },
     "execution_count": 254,
     "metadata": {},
     "output_type": "execute_result"
    },
    {
     "data": {
      "image/png": "[encoded data removed]",
      "text/plain": [
       "<Figure size 1200x500 with 2 Axes>"
      ]
     },
     "metadata": {},
     "output_type": "display_data"
    }
   ],
   "source": [
    "n = 100\n",
    "\n",
    "x = np.array([stats.norm(0, i).rvs(5) for i in range(n)]).reshape(-1)\n",
    "\n",
    "fig, ax = plt.subplots(1, 2, figsize=(12, 5))\n",
    "sm.qqplot(x, stats.norm, line='45', ax=ax[1])\n",
    "sns.scatterplot(x, ax=ax[0])"
   ]
  }
 ],
 "metadata": {
  "celltoolbar": "Slideshow",
  "kernelspec": {
   "display_name": "Python 3 (ipykernel)",
   "language": "python",
   "name": "python3"
  },
  "language_info": {
   "codemirror_mode": {
    "name": "ipython",
    "version": 3
   },
   "file_extension": ".py",
   "mimetype": "text/x-python",
   "name": "python",
   "nbconvert_exporter": "python",
   "pygments_lexer": "ipython3",
   "version": "3.11.7"
  },
  "toc": {
   "base_numbering": 2
  }
 },
 "nbformat": 4,
 "nbformat_minor": 5
}
