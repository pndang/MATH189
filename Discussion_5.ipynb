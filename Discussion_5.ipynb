{
  "nbformat": 4,
  "nbformat_minor": 0,
  "metadata": {
    "colab": {
      "provenance": [],
      "include_colab_link": true
    },
    "kernelspec": {
      "name": "python3",
      "display_name": "Python 3"
    },
    "language_info": {
      "name": "python"
    }
  },
  "cells": [
    {
      "cell_type": "markdown",
      "metadata": {
        "id": "view-in-github",
        "colab_type": "text"
      },
      "source": [
        "<a href=\"https://colab.research.google.com/github/pndang/MATH189/blob/main/Discussion_5.ipynb\" target=\"_parent\"><img src=\"https://colab.research.google.com/assets/colab-badge.svg\" alt=\"Open In Colab\"/></a>"
      ]
    },
    {
      "cell_type": "markdown",
      "source": [
        "# This notebook may contain mistakes. Please use it cautiously and write your own code and explanation for your homework."
      ],
      "metadata": {
        "id": "KO-mPPeT8vLQ"
      }
    },
    {
      "cell_type": "code",
      "source": [
        "import pandas as pd\n",
        "import numpy as np\n",
        "\n",
        "# Seed for reproducibility\n",
        "np.random.seed(42)\n",
        "\n",
        "# Generate toy dataset\n",
        "data = pd.DataFrame({\n",
        "    'group': ['female'] * 100 + ['male'] * 100,\n",
        "    'value': np.concatenate([np.random.normal(70, 10, 100), np.random.normal(75, 15, 100)])\n",
        "})\n",
        "\n",
        "data.head()"
      ],
      "metadata": {
        "colab": {
          "base_uri": "https://localhost:8080/",
          "height": 206
        },
        "id": "epeqshcbrDCG",
        "outputId": "509a7ce6-e82c-4b63-b57b-cb68baba78cb"
      },
      "execution_count": null,
      "outputs": [
        {
          "output_type": "execute_result",
          "data": {
            "text/plain": [
              "    group      value\n",
              "0  female  74.967142\n",
              "1  female  68.617357\n",
              "2  female  76.476885\n",
              "3  female  85.230299\n",
              "4  female  67.658466"
            ],
            "text/html": [
              "\n",
              "  <div id=\"df-810b3b34-ed3e-4c33-bba7-8291f9852d97\" class=\"colab-df-container\">\n",
              "    <div>\n",
              "<style scoped>\n",
              "    .dataframe tbody tr th:only-of-type {\n",
              "        vertical-align: middle;\n",
              "    }\n",
              "\n",
              "    .dataframe tbody tr th {\n",
              "        vertical-align: top;\n",
              "    }\n",
              "\n",
              "    .dataframe thead th {\n",
              "        text-align: right;\n",
              "    }\n",
              "</style>\n",
              "<table border=\"1\" class=\"dataframe\">\n",
              "  <thead>\n",
              "    <tr style=\"text-align: right;\">\n",
              "      <th></th>\n",
              "      <th>group</th>\n",
              "      <th>value</th>\n",
              "    </tr>\n",
              "  </thead>\n",
              "  <tbody>\n",
              "    <tr>\n",
              "      <th>0</th>\n",
              "      <td>female</td>\n",
              "      <td>74.967142</td>\n",
              "    </tr>\n",
              "    <tr>\n",
              "      <th>1</th>\n",
              "      <td>female</td>\n",
              "      <td>68.617357</td>\n",
              "    </tr>\n",
              "    <tr>\n",
              "      <th>2</th>\n",
              "      <td>female</td>\n",
              "      <td>76.476885</td>\n",
              "    </tr>\n",
              "    <tr>\n",
              "      <th>3</th>\n",
              "      <td>female</td>\n",
              "      <td>85.230299</td>\n",
              "    </tr>\n",
              "    <tr>\n",
              "      <th>4</th>\n",
              "      <td>female</td>\n",
              "      <td>67.658466</td>\n",
              "    </tr>\n",
              "  </tbody>\n",
              "</table>\n",
              "</div>\n",
              "    <div class=\"colab-df-buttons\">\n",
              "\n",
              "  <div class=\"colab-df-container\">\n",
              "    <button class=\"colab-df-convert\" onclick=\"convertToInteractive('df-810b3b34-ed3e-4c33-bba7-8291f9852d97')\"\n",
              "            title=\"Convert this dataframe to an interactive table.\"\n",
              "            style=\"display:none;\">\n",
              "\n",
              "  <svg xmlns=\"http://www.w3.org/2000/svg\" height=\"24px\" viewBox=\"0 -960 960 960\">\n",
              "    <path d=\"M120-120v-720h720v720H120Zm60-500h600v-160H180v160Zm220 220h160v-160H400v160Zm0 220h160v-160H400v160ZM180-400h160v-160H180v160Zm440 0h160v-160H620v160ZM180-180h160v-160H180v160Zm440 0h160v-160H620v160Z\"/>\n",
              "  </svg>\n",
              "    </button>\n",
              "\n",
              "  <style>\n",
              "    .colab-df-container {\n",
              "      display:flex;\n",
              "      gap: 12px;\n",
              "    }\n",
              "\n",
              "    .colab-df-convert {\n",
              "      background-color: #E8F0FE;\n",
              "      border: none;\n",
              "      border-radius: 50%;\n",
              "      cursor: pointer;\n",
              "      display: none;\n",
              "      fill: #1967D2;\n",
              "      height: 32px;\n",
              "      padding: 0 0 0 0;\n",
              "      width: 32px;\n",
              "    }\n",
              "\n",
              "    .colab-df-convert:hover {\n",
              "      background-color: #E2EBFA;\n",
              "      box-shadow: 0px 1px 2px rgba(60, 64, 67, 0.3), 0px 1px 3px 1px rgba(60, 64, 67, 0.15);\n",
              "      fill: #174EA6;\n",
              "    }\n",
              "\n",
              "    .colab-df-buttons div {\n",
              "      margin-bottom: 4px;\n",
              "    }\n",
              "\n",
              "    [theme=dark] .colab-df-convert {\n",
              "      background-color: #3B4455;\n",
              "      fill: #D2E3FC;\n",
              "    }\n",
              "\n",
              "    [theme=dark] .colab-df-convert:hover {\n",
              "      background-color: #434B5C;\n",
              "      box-shadow: 0px 1px 3px 1px rgba(0, 0, 0, 0.15);\n",
              "      filter: drop-shadow(0px 1px 2px rgba(0, 0, 0, 0.3));\n",
              "      fill: #FFFFFF;\n",
              "    }\n",
              "  </style>\n",
              "\n",
              "    <script>\n",
              "      const buttonEl =\n",
              "        document.querySelector('#df-810b3b34-ed3e-4c33-bba7-8291f9852d97 button.colab-df-convert');\n",
              "      buttonEl.style.display =\n",
              "        google.colab.kernel.accessAllowed ? 'block' : 'none';\n",
              "\n",
              "      async function convertToInteractive(key) {\n",
              "        const element = document.querySelector('#df-810b3b34-ed3e-4c33-bba7-8291f9852d97');\n",
              "        const dataTable =\n",
              "          await google.colab.kernel.invokeFunction('convertToInteractive',\n",
              "                                                    [key], {});\n",
              "        if (!dataTable) return;\n",
              "\n",
              "        const docLinkHtml = 'Like what you see? Visit the ' +\n",
              "          '<a target=\"_blank\" href=https://colab.research.google.com/notebooks/data_table.ipynb>data table notebook</a>'\n",
              "          + ' to learn more about interactive tables.';\n",
              "        element.innerHTML = '';\n",
              "        dataTable['output_type'] = 'display_data';\n",
              "        await google.colab.output.renderOutput(dataTable, element);\n",
              "        const docLink = document.createElement('div');\n",
              "        docLink.innerHTML = docLinkHtml;\n",
              "        element.appendChild(docLink);\n",
              "      }\n",
              "    </script>\n",
              "  </div>\n",
              "\n",
              "\n",
              "<div id=\"df-ce57e6d0-9f86-415a-aa47-8555b41baa96\">\n",
              "  <button class=\"colab-df-quickchart\" onclick=\"quickchart('df-ce57e6d0-9f86-415a-aa47-8555b41baa96')\"\n",
              "            title=\"Suggest charts\"\n",
              "            style=\"display:none;\">\n",
              "\n",
              "<svg xmlns=\"http://www.w3.org/2000/svg\" height=\"24px\"viewBox=\"0 0 24 24\"\n",
              "     width=\"24px\">\n",
              "    <g>\n",
              "        <path d=\"M19 3H5c-1.1 0-2 .9-2 2v14c0 1.1.9 2 2 2h14c1.1 0 2-.9 2-2V5c0-1.1-.9-2-2-2zM9 17H7v-7h2v7zm4 0h-2V7h2v10zm4 0h-2v-4h2v4z\"/>\n",
              "    </g>\n",
              "</svg>\n",
              "  </button>\n",
              "\n",
              "<style>\n",
              "  .colab-df-quickchart {\n",
              "      --bg-color: #E8F0FE;\n",
              "      --fill-color: #1967D2;\n",
              "      --hover-bg-color: #E2EBFA;\n",
              "      --hover-fill-color: #174EA6;\n",
              "      --disabled-fill-color: #AAA;\n",
              "      --disabled-bg-color: #DDD;\n",
              "  }\n",
              "\n",
              "  [theme=dark] .colab-df-quickchart {\n",
              "      --bg-color: #3B4455;\n",
              "      --fill-color: #D2E3FC;\n",
              "      --hover-bg-color: #434B5C;\n",
              "      --hover-fill-color: #FFFFFF;\n",
              "      --disabled-bg-color: #3B4455;\n",
              "      --disabled-fill-color: #666;\n",
              "  }\n",
              "\n",
              "  .colab-df-quickchart {\n",
              "    background-color: var(--bg-color);\n",
              "    border: none;\n",
              "    border-radius: 50%;\n",
              "    cursor: pointer;\n",
              "    display: none;\n",
              "    fill: var(--fill-color);\n",
              "    height: 32px;\n",
              "    padding: 0;\n",
              "    width: 32px;\n",
              "  }\n",
              "\n",
              "  .colab-df-quickchart:hover {\n",
              "    background-color: var(--hover-bg-color);\n",
              "    box-shadow: 0 1px 2px rgba(60, 64, 67, 0.3), 0 1px 3px 1px rgba(60, 64, 67, 0.15);\n",
              "    fill: var(--button-hover-fill-color);\n",
              "  }\n",
              "\n",
              "  .colab-df-quickchart-complete:disabled,\n",
              "  .colab-df-quickchart-complete:disabled:hover {\n",
              "    background-color: var(--disabled-bg-color);\n",
              "    fill: var(--disabled-fill-color);\n",
              "    box-shadow: none;\n",
              "  }\n",
              "\n",
              "  .colab-df-spinner {\n",
              "    border: 2px solid var(--fill-color);\n",
              "    border-color: transparent;\n",
              "    border-bottom-color: var(--fill-color);\n",
              "    animation:\n",
              "      spin 1s steps(1) infinite;\n",
              "  }\n",
              "\n",
              "  @keyframes spin {\n",
              "    0% {\n",
              "      border-color: transparent;\n",
              "      border-bottom-color: var(--fill-color);\n",
              "      border-left-color: var(--fill-color);\n",
              "    }\n",
              "    20% {\n",
              "      border-color: transparent;\n",
              "      border-left-color: var(--fill-color);\n",
              "      border-top-color: var(--fill-color);\n",
              "    }\n",
              "    30% {\n",
              "      border-color: transparent;\n",
              "      border-left-color: var(--fill-color);\n",
              "      border-top-color: var(--fill-color);\n",
              "      border-right-color: var(--fill-color);\n",
              "    }\n",
              "    40% {\n",
              "      border-color: transparent;\n",
              "      border-right-color: var(--fill-color);\n",
              "      border-top-color: var(--fill-color);\n",
              "    }\n",
              "    60% {\n",
              "      border-color: transparent;\n",
              "      border-right-color: var(--fill-color);\n",
              "    }\n",
              "    80% {\n",
              "      border-color: transparent;\n",
              "      border-right-color: var(--fill-color);\n",
              "      border-bottom-color: var(--fill-color);\n",
              "    }\n",
              "    90% {\n",
              "      border-color: transparent;\n",
              "      border-bottom-color: var(--fill-color);\n",
              "    }\n",
              "  }\n",
              "</style>\n",
              "\n",
              "  <script>\n",
              "    async function quickchart(key) {\n",
              "      const quickchartButtonEl =\n",
              "        document.querySelector('#' + key + ' button');\n",
              "      quickchartButtonEl.disabled = true;  // To prevent multiple clicks.\n",
              "      quickchartButtonEl.classList.add('colab-df-spinner');\n",
              "      try {\n",
              "        const charts = await google.colab.kernel.invokeFunction(\n",
              "            'suggestCharts', [key], {});\n",
              "      } catch (error) {\n",
              "        console.error('Error during call to suggestCharts:', error);\n",
              "      }\n",
              "      quickchartButtonEl.classList.remove('colab-df-spinner');\n",
              "      quickchartButtonEl.classList.add('colab-df-quickchart-complete');\n",
              "    }\n",
              "    (() => {\n",
              "      let quickchartButtonEl =\n",
              "        document.querySelector('#df-ce57e6d0-9f86-415a-aa47-8555b41baa96 button');\n",
              "      quickchartButtonEl.style.display =\n",
              "        google.colab.kernel.accessAllowed ? 'block' : 'none';\n",
              "    })();\n",
              "  </script>\n",
              "</div>\n",
              "    </div>\n",
              "  </div>\n"
            ]
          },
          "metadata": {},
          "execution_count": 1
        }
      ]
    },
    {
      "cell_type": "code",
      "source": [
        "female_data = data[data['group'] == 'female']['value']\n",
        "male_data = data[data['group'] == 'male']['value']\n",
        "len(female_data), len(male_data)"
      ],
      "metadata": {
        "id": "OqZr7FWvrMxW",
        "colab": {
          "base_uri": "https://localhost:8080/"
        },
        "outputId": "2cf35b6b-e5cd-4b1f-82c5-38bb0b2d2058"
      },
      "execution_count": null,
      "outputs": [
        {
          "output_type": "execute_result",
          "data": {
            "text/plain": [
              "(100, 100)"
            ]
          },
          "metadata": {},
          "execution_count": 3
        }
      ]
    },
    {
      "cell_type": "markdown",
      "source": [
        "## Confidence Intervals for difference of two means"
      ],
      "metadata": {
        "id": "N05BBVVWos4A"
      }
    },
    {
      "cell_type": "markdown",
      "source": [
        "The code snippet uses the `statsmodels` library to compute the confidence interval of the difference between the means of two independent samples. This is particularly useful in understanding how different the two groups are, with a specified level of confidence. Here's a breakdown of the code and its components:\n",
        "\n",
        "1. **Creating `CompareMeans` object**:\n",
        "   - `sms.CompareMeans(sms.DescrStatsW(female_data), sms.DescrStatsW(male_data))` creates a `CompareMeans` object. This object is used to compare two sets of data.\n",
        "   - `sms.DescrStatsW` is a class for descriptive statistics with weights. In this context, weights are assumed to be 1 for all data points, effectively calculating unweighted statistics.\n",
        "\n",
        "2. **`tconfint_diff` method**:\n",
        "   - `conf_int = cm.tconfint_diff(alpha=0.01, alternative='two-sided', usevar='unequal')`\n",
        "   - `alpha=0.01`: This specifies the confidence level for the interval. With `alpha=0.01`, we're asking for a 99% confidence interval. It's calculated as `1 - alpha`, so in this case, `1 - 0.01 = 0.99` or 99%.\n",
        "   - `alternative='two-sided'`: This indicates that we're interested in differences in both directions, meaning we're testing if the first mean is either greater than or less than the second mean.\n",
        "   - `usevar='unequal'`: This argument specifies that the method should assume unequal variances in the two samples. This is important for the Welch's t-test, which does not assume equal population variances.\n",
        "\n",
        "In summary, this code calculates the 99% confidence interval for the difference between the means of two samples, assuming they have unequal variances, and considers both possible directions of difference. This approach is generally more conservative and is suitable for a wide range of applications, especially when the sample sizes or variances are different.\n"
      ],
      "metadata": {
        "id": "Sv-uPMwVrRnn"
      }
    },
    {
      "cell_type": "code",
      "source": [
        "female_data.var(), male_data.var()"
      ],
      "metadata": {
        "colab": {
          "base_uri": "https://localhost:8080/"
        },
        "id": "mEuxVftfjuoQ",
        "outputId": "d4b90f97-c2dc-4137-c580-10507a84edc8"
      },
      "execution_count": null,
      "outputs": [
        {
          "output_type": "execute_result",
          "data": {
            "text/plain": [
              "(82.476989363016, 204.6340118386687)"
            ]
          },
          "metadata": {},
          "execution_count": 5
        }
      ]
    },
    {
      "cell_type": "code",
      "execution_count": null,
      "metadata": {
        "colab": {
          "base_uri": "https://localhost:8080/"
        },
        "id": "nhgMXJ7qlLMu",
        "outputId": "44a1406e-62ba-4891-d93d-b936e3b615b5"
      },
      "outputs": [
        {
          "output_type": "stream",
          "name": "stdout",
          "text": [
            "99% CI for the difference in means: (-10.787837466759164, -1.958230492620424)\n"
          ]
        }
      ],
      "source": [
        "import statsmodels.stats.api as sms\n",
        "\n",
        "cm = sms.CompareMeans(sms.DescrStatsW(female_data), sms.DescrStatsW(male_data))\n",
        "conf_int = cm.tconfint_diff(alpha=0.01, alternative='two-sided', usevar='unequal')  # 99% CI\n",
        "print(f\"99% CI for the difference in means: {conf_int}\")"
      ]
    },
    {
      "cell_type": "markdown",
      "source": [
        "## Two-sample t-test"
      ],
      "metadata": {
        "id": "cb7z1mzmwD5e"
      }
    },
    {
      "cell_type": "markdown",
      "source": [
        "### Function Overview\n",
        "\n",
        "- `stats.ttest_ind` is a function from the SciPy library that conducts a t-test for the means of two independent samples. This test assumes that the populations have identical variances by default.\n",
        "\n",
        "### Arguments Explained\n",
        "\n",
        "- `male_data, female_data`: These are the two arrays of sample observations. They must be independent of each other, meaning that the samples come from two distinct groups.\n",
        "- `equal_var=False`: This argument specifies whether the variance of the two groups should be assumed to be equal. When set to `False`, it performs Welch's t-test, which does not assume equal population variance. This is appropriate when the two samples have different variances and possibly different sample sizes. If set to `True`, a standard independent 2 sample t-test is performed assuming equal population variances.\n",
        "\n",
        "### Other Possible Options\n",
        "\n",
        "- `alternative`: This argument specifies the alternative hypothesis. The options are:\n",
        "  - `'two-sided'`: Tests against the hypothesis that the means are not equal. This is the default behavior.\n",
        "  - `'less'`: Tests against the hypothesis that the mean of the first group is less than the mean of the second group.\n",
        "  - `'greater'`: Tests against the hypothesis that the mean of the first group is greater than the mean of the second group.\n",
        "  Choosing the correct `alternative` is crucial for the interpretation of the test. It should be selected based on the specific research question or hypothesis being tested.\n",
        "\n",
        "### Output Explained\n",
        "\n",
        "- `T-statistic`: This is the calculated t-statistic value. It represents the degree to which the groups differ, in terms of the number of standard errors. A larger absolute value of the t-statistic indicates a greater difference between the groups.\n",
        "- `P-value`: This value indicates the probability of observing the data (or something more extreme) if the null hypothesis is true. A small p-value (typically ≤ 0.05) indicates strong evidence against the null hypothesis, so you reject the null hypothesis.\n"
      ],
      "metadata": {
        "id": "Jruno6cHunS4"
      }
    },
    {
      "cell_type": "code",
      "source": [
        "from scipy import stats\n",
        "\n",
        "t_stat, p_value = stats.ttest_ind(male_data, female_data, equal_var=False)\n",
        "\n",
        "# Printing the results\n",
        "print(f\"T-statistic: {t_stat}\")\n",
        "print(f\"P-value: {p_value}\")"
      ],
      "metadata": {
        "colab": {
          "base_uri": "https://localhost:8080/"
        },
        "id": "SYIyk_4VsVOX",
        "outputId": "0a94d1af-4a5f-4b58-aab1-c3847edc49bb"
      },
      "execution_count": null,
      "outputs": [
        {
          "output_type": "stream",
          "name": "stdout",
          "text": [
            "T-statistic: 3.7611557434761536\n",
            "P-value: 0.00023342322674345948\n"
          ]
        }
      ]
    },
    {
      "cell_type": "code",
      "source": [
        "alpha = 0.01  # Significance level\n",
        "if p_value < alpha:\n",
        "    print(\"Reject the null hypothesis: There is a significant difference in mean of 'value' between males and females.\")\n",
        "else:\n",
        "    print(\"Fail to reject the null hypothesis: There is no significant difference in mean of 'value' between males and females.\")"
      ],
      "metadata": {
        "colab": {
          "base_uri": "https://localhost:8080/"
        },
        "id": "ux-U--qtt5OM",
        "outputId": "62965a9d-b0f5-4544-b894-4923a5dcaf1b"
      },
      "execution_count": null,
      "outputs": [
        {
          "output_type": "stream",
          "name": "stdout",
          "text": [
            "Reject the null hypothesis: There is a significant difference in mean of 'value' between males and females.\n"
          ]
        }
      ]
    },
    {
      "cell_type": "markdown",
      "source": [
        "# Chi-Square Tests Overview\n",
        "\n",
        "The chi-square test is a statistical method used to compare categorical data. Despite the different types of chi-square tests, the core idea remains the same: to evaluate how well the observed data fit an expected distribution. The general chi-square test statistic is defined as:\n",
        "\n",
        "$$ \\chi^2 = \\sum \\frac{(O - E)^2}{E} $$\n",
        "\n",
        "Where:\n",
        "- $O$ represents the observed frequency counts.\n",
        "- $E$ represents the expected frequency counts under the null hypothesis.\n",
        "\n",
        "The expected counts are determined differently depending on the type of test: goodness of fit, independence, or homogeneity. Below we explore these three tests in more detail.\n"
      ],
      "metadata": {
        "id": "U3xdMwkf7Bqa"
      }
    },
    {
      "cell_type": "markdown",
      "source": [
        "## Test for Goodness of Fit\n",
        "\n",
        "The test for goodness of fit is applied when you have one categorical variable from a single population and want to compare the observed counts to expected counts that have been predetermined or are theoretically expected.\n",
        "\n",
        "- **Null Hypothesis** ($H_0$): The observed distribution fits the expected distribution $p_i$.\n",
        "- **Alternative Hypothesis** ($H_a$): The observed distribution does not fit the expected distribution $p_i$.\n",
        "\n",
        "The expected counts $E$ are calculated based on the preset proportions for each category. If the expected proportion for a category is $p_i$, and there are $n$ total observations, then the expected count for that category is: $$ E_i = n \\times p_i.$$\n"
      ],
      "metadata": {
        "id": "Vhp3IRKQ7EkB"
      }
    },
    {
      "cell_type": "markdown",
      "source": [
        "## Test for Independence\n",
        "\n",
        "The test for independence is used to determine whether there is a significant association between two categorical variables in a single population. It is typically represented in a contingency table format.\n",
        "\n",
        "- **Null Hypothesis** ($H_0$): The two variables are independent.\n",
        "- **Alternative Hypothesis** ($H_a$): The two variables are not independent.\n",
        "\n",
        "To calculate the expected counts $E$, we use the marginal totals of the contingency table. The observed count $O_{ij}$ is the number in the cell at the intersection of the $i$-th row and $j$-th column. The expected count $E_{ij}$ is calculated as:\n",
        "\n",
        "$$ E_{ij} = \\frac{(\\text{row total}_i \\times \\text{column total}_j)}{\\text{grand total}} $$\n",
        "\n",
        "Here is an example of a 2x2 contingency table:\n",
        "\n",
        "|               | Category A | Category B | Row Total |\n",
        "|---------------|------------|------------|-----------|\n",
        "| **Group 1**   | $O_{11}$ | $O_{12}$ | $n_{1.}$ |\n",
        "| **Group 2**   | $O_{21}$ | $O_{22}$ | $n_{2.}$ |\n",
        "| **Col Total** | $n_{.1}$ | $n_{.2}$ | $n$     |\n",
        "\n",
        "The expected frequency for the cell at the intersection of Group 1 and Category A would be calculated as: $$ E_{11} = \\frac{n_{1.} \\times n_{.1}}{n} .$$\n"
      ],
      "metadata": {
        "id": "75djJ6Fv7J9k"
      }
    },
    {
      "cell_type": "markdown",
      "source": [
        "## Test for Homogeneity\n",
        "\n",
        "The Chi-square test for homogeneity is similar to the test for independence in terms of its application and calculation, but it is used to compare the distribution of a categorical variable across two or more populations or groups to see if they have the same distribution.\n",
        "\n",
        "### Null Hypothesis ($H_0$):\n",
        "\n",
        "The distribution of the categorical variable is the same across all populations or groups.\n",
        "\n",
        "### Alternative Hypothesis ($H_1$):\n",
        "\n",
        "At least one population or group has a different distribution of the categorical variable.\n",
        "\n",
        "### Contingency Table for Homogeneity Test:\n",
        "\n",
        "The contingency table for a homogeneity test is constructed similarly to the one for the independence test, with each row representing a different population or group and each column representing the categories of the variable of interest.\n",
        "\n",
        "#### Example Contingency Table:\n",
        "\n",
        "|               | Category A | Category B | Row Total |\n",
        "|---------------|------------|------------|-----------|\n",
        "| **Population 1**   | $O_{11}$ | $O_{12}$ | $n_{1.}$ |\n",
        "| **Population 2**   | $O_{21}$ | $O_{22}$ | $n_{2.}$ |\n",
        "| **Col Total** | $n_{.1}$ | $n_{.2}$ | $n$     |\n",
        "\n",
        "The expected frequencies are calculated in the same way as in the test for independence, considering the row and column totals to assess the distribution across different populations or groups.\n"
      ],
      "metadata": {
        "id": "AlHzwvbK7Mz7"
      }
    },
    {
      "cell_type": "markdown",
      "source": [
        "## $\\chi^2$-test for homogeneity"
      ],
      "metadata": {
        "id": "4r2pHpihwA-n"
      }
    },
    {
      "cell_type": "code",
      "source": [
        "import pandas as pd\n",
        "import numpy as np\n",
        "from scipy import stats\n",
        "\n",
        "# Sample data generation\n",
        "np.random.seed(42)  # For reproducibility\n",
        "data = {\n",
        "    'sex': np.random.choice(['Male', 'Female'], size=200),\n",
        "    'education': np.random.choice(['High School', 'Bachelor', 'Master', 'PhD'], size=200)\n",
        "}\n",
        "df_filtered = pd.DataFrame(data)\n",
        "df_filtered"
      ],
      "metadata": {
        "id": "fXe2073q2Fha",
        "colab": {
          "base_uri": "https://localhost:8080/",
          "height": 423
        },
        "outputId": "ab9b6bdb-a511-4653-bc15-363a450a7365"
      },
      "execution_count": null,
      "outputs": [
        {
          "output_type": "execute_result",
          "data": {
            "text/plain": [
              "        sex    education\n",
              "0      Male       Master\n",
              "1    Female          PhD\n",
              "2      Male       Master\n",
              "3      Male  High School\n",
              "4      Male          PhD\n",
              "..      ...          ...\n",
              "195  Female          PhD\n",
              "196  Female          PhD\n",
              "197  Female     Bachelor\n",
              "198    Male          PhD\n",
              "199    Male  High School\n",
              "\n",
              "[200 rows x 2 columns]"
            ],
            "text/html": [
              "\n",
              "  <div id=\"df-997e8cf3-2459-4b86-b719-677e6f32e9d9\" class=\"colab-df-container\">\n",
              "    <div>\n",
              "<style scoped>\n",
              "    .dataframe tbody tr th:only-of-type {\n",
              "        vertical-align: middle;\n",
              "    }\n",
              "\n",
              "    .dataframe tbody tr th {\n",
              "        vertical-align: top;\n",
              "    }\n",
              "\n",
              "    .dataframe thead th {\n",
              "        text-align: right;\n",
              "    }\n",
              "</style>\n",
              "<table border=\"1\" class=\"dataframe\">\n",
              "  <thead>\n",
              "    <tr style=\"text-align: right;\">\n",
              "      <th></th>\n",
              "      <th>sex</th>\n",
              "      <th>education</th>\n",
              "    </tr>\n",
              "  </thead>\n",
              "  <tbody>\n",
              "    <tr>\n",
              "      <th>0</th>\n",
              "      <td>Male</td>\n",
              "      <td>Master</td>\n",
              "    </tr>\n",
              "    <tr>\n",
              "      <th>1</th>\n",
              "      <td>Female</td>\n",
              "      <td>PhD</td>\n",
              "    </tr>\n",
              "    <tr>\n",
              "      <th>2</th>\n",
              "      <td>Male</td>\n",
              "      <td>Master</td>\n",
              "    </tr>\n",
              "    <tr>\n",
              "      <th>3</th>\n",
              "      <td>Male</td>\n",
              "      <td>High School</td>\n",
              "    </tr>\n",
              "    <tr>\n",
              "      <th>4</th>\n",
              "      <td>Male</td>\n",
              "      <td>PhD</td>\n",
              "    </tr>\n",
              "    <tr>\n",
              "      <th>...</th>\n",
              "      <td>...</td>\n",
              "      <td>...</td>\n",
              "    </tr>\n",
              "    <tr>\n",
              "      <th>195</th>\n",
              "      <td>Female</td>\n",
              "      <td>PhD</td>\n",
              "    </tr>\n",
              "    <tr>\n",
              "      <th>196</th>\n",
              "      <td>Female</td>\n",
              "      <td>PhD</td>\n",
              "    </tr>\n",
              "    <tr>\n",
              "      <th>197</th>\n",
              "      <td>Female</td>\n",
              "      <td>Bachelor</td>\n",
              "    </tr>\n",
              "    <tr>\n",
              "      <th>198</th>\n",
              "      <td>Male</td>\n",
              "      <td>PhD</td>\n",
              "    </tr>\n",
              "    <tr>\n",
              "      <th>199</th>\n",
              "      <td>Male</td>\n",
              "      <td>High School</td>\n",
              "    </tr>\n",
              "  </tbody>\n",
              "</table>\n",
              "<p>200 rows × 2 columns</p>\n",
              "</div>\n",
              "    <div class=\"colab-df-buttons\">\n",
              "\n",
              "  <div class=\"colab-df-container\">\n",
              "    <button class=\"colab-df-convert\" onclick=\"convertToInteractive('df-997e8cf3-2459-4b86-b719-677e6f32e9d9')\"\n",
              "            title=\"Convert this dataframe to an interactive table.\"\n",
              "            style=\"display:none;\">\n",
              "\n",
              "  <svg xmlns=\"http://www.w3.org/2000/svg\" height=\"24px\" viewBox=\"0 -960 960 960\">\n",
              "    <path d=\"M120-120v-720h720v720H120Zm60-500h600v-160H180v160Zm220 220h160v-160H400v160Zm0 220h160v-160H400v160ZM180-400h160v-160H180v160Zm440 0h160v-160H620v160ZM180-180h160v-160H180v160Zm440 0h160v-160H620v160Z\"/>\n",
              "  </svg>\n",
              "    </button>\n",
              "\n",
              "  <style>\n",
              "    .colab-df-container {\n",
              "      display:flex;\n",
              "      gap: 12px;\n",
              "    }\n",
              "\n",
              "    .colab-df-convert {\n",
              "      background-color: #E8F0FE;\n",
              "      border: none;\n",
              "      border-radius: 50%;\n",
              "      cursor: pointer;\n",
              "      display: none;\n",
              "      fill: #1967D2;\n",
              "      height: 32px;\n",
              "      padding: 0 0 0 0;\n",
              "      width: 32px;\n",
              "    }\n",
              "\n",
              "    .colab-df-convert:hover {\n",
              "      background-color: #E2EBFA;\n",
              "      box-shadow: 0px 1px 2px rgba(60, 64, 67, 0.3), 0px 1px 3px 1px rgba(60, 64, 67, 0.15);\n",
              "      fill: #174EA6;\n",
              "    }\n",
              "\n",
              "    .colab-df-buttons div {\n",
              "      margin-bottom: 4px;\n",
              "    }\n",
              "\n",
              "    [theme=dark] .colab-df-convert {\n",
              "      background-color: #3B4455;\n",
              "      fill: #D2E3FC;\n",
              "    }\n",
              "\n",
              "    [theme=dark] .colab-df-convert:hover {\n",
              "      background-color: #434B5C;\n",
              "      box-shadow: 0px 1px 3px 1px rgba(0, 0, 0, 0.15);\n",
              "      filter: drop-shadow(0px 1px 2px rgba(0, 0, 0, 0.3));\n",
              "      fill: #FFFFFF;\n",
              "    }\n",
              "  </style>\n",
              "\n",
              "    <script>\n",
              "      const buttonEl =\n",
              "        document.querySelector('#df-997e8cf3-2459-4b86-b719-677e6f32e9d9 button.colab-df-convert');\n",
              "      buttonEl.style.display =\n",
              "        google.colab.kernel.accessAllowed ? 'block' : 'none';\n",
              "\n",
              "      async function convertToInteractive(key) {\n",
              "        const element = document.querySelector('#df-997e8cf3-2459-4b86-b719-677e6f32e9d9');\n",
              "        const dataTable =\n",
              "          await google.colab.kernel.invokeFunction('convertToInteractive',\n",
              "                                                    [key], {});\n",
              "        if (!dataTable) return;\n",
              "\n",
              "        const docLinkHtml = 'Like what you see? Visit the ' +\n",
              "          '<a target=\"_blank\" href=https://colab.research.google.com/notebooks/data_table.ipynb>data table notebook</a>'\n",
              "          + ' to learn more about interactive tables.';\n",
              "        element.innerHTML = '';\n",
              "        dataTable['output_type'] = 'display_data';\n",
              "        await google.colab.output.renderOutput(dataTable, element);\n",
              "        const docLink = document.createElement('div');\n",
              "        docLink.innerHTML = docLinkHtml;\n",
              "        element.appendChild(docLink);\n",
              "      }\n",
              "    </script>\n",
              "  </div>\n",
              "\n",
              "\n",
              "<div id=\"df-4549a413-77c2-4b5d-a509-11262758eb8d\">\n",
              "  <button class=\"colab-df-quickchart\" onclick=\"quickchart('df-4549a413-77c2-4b5d-a509-11262758eb8d')\"\n",
              "            title=\"Suggest charts\"\n",
              "            style=\"display:none;\">\n",
              "\n",
              "<svg xmlns=\"http://www.w3.org/2000/svg\" height=\"24px\"viewBox=\"0 0 24 24\"\n",
              "     width=\"24px\">\n",
              "    <g>\n",
              "        <path d=\"M19 3H5c-1.1 0-2 .9-2 2v14c0 1.1.9 2 2 2h14c1.1 0 2-.9 2-2V5c0-1.1-.9-2-2-2zM9 17H7v-7h2v7zm4 0h-2V7h2v10zm4 0h-2v-4h2v4z\"/>\n",
              "    </g>\n",
              "</svg>\n",
              "  </button>\n",
              "\n",
              "<style>\n",
              "  .colab-df-quickchart {\n",
              "      --bg-color: #E8F0FE;\n",
              "      --fill-color: #1967D2;\n",
              "      --hover-bg-color: #E2EBFA;\n",
              "      --hover-fill-color: #174EA6;\n",
              "      --disabled-fill-color: #AAA;\n",
              "      --disabled-bg-color: #DDD;\n",
              "  }\n",
              "\n",
              "  [theme=dark] .colab-df-quickchart {\n",
              "      --bg-color: #3B4455;\n",
              "      --fill-color: #D2E3FC;\n",
              "      --hover-bg-color: #434B5C;\n",
              "      --hover-fill-color: #FFFFFF;\n",
              "      --disabled-bg-color: #3B4455;\n",
              "      --disabled-fill-color: #666;\n",
              "  }\n",
              "\n",
              "  .colab-df-quickchart {\n",
              "    background-color: var(--bg-color);\n",
              "    border: none;\n",
              "    border-radius: 50%;\n",
              "    cursor: pointer;\n",
              "    display: none;\n",
              "    fill: var(--fill-color);\n",
              "    height: 32px;\n",
              "    padding: 0;\n",
              "    width: 32px;\n",
              "  }\n",
              "\n",
              "  .colab-df-quickchart:hover {\n",
              "    background-color: var(--hover-bg-color);\n",
              "    box-shadow: 0 1px 2px rgba(60, 64, 67, 0.3), 0 1px 3px 1px rgba(60, 64, 67, 0.15);\n",
              "    fill: var(--button-hover-fill-color);\n",
              "  }\n",
              "\n",
              "  .colab-df-quickchart-complete:disabled,\n",
              "  .colab-df-quickchart-complete:disabled:hover {\n",
              "    background-color: var(--disabled-bg-color);\n",
              "    fill: var(--disabled-fill-color);\n",
              "    box-shadow: none;\n",
              "  }\n",
              "\n",
              "  .colab-df-spinner {\n",
              "    border: 2px solid var(--fill-color);\n",
              "    border-color: transparent;\n",
              "    border-bottom-color: var(--fill-color);\n",
              "    animation:\n",
              "      spin 1s steps(1) infinite;\n",
              "  }\n",
              "\n",
              "  @keyframes spin {\n",
              "    0% {\n",
              "      border-color: transparent;\n",
              "      border-bottom-color: var(--fill-color);\n",
              "      border-left-color: var(--fill-color);\n",
              "    }\n",
              "    20% {\n",
              "      border-color: transparent;\n",
              "      border-left-color: var(--fill-color);\n",
              "      border-top-color: var(--fill-color);\n",
              "    }\n",
              "    30% {\n",
              "      border-color: transparent;\n",
              "      border-left-color: var(--fill-color);\n",
              "      border-top-color: var(--fill-color);\n",
              "      border-right-color: var(--fill-color);\n",
              "    }\n",
              "    40% {\n",
              "      border-color: transparent;\n",
              "      border-right-color: var(--fill-color);\n",
              "      border-top-color: var(--fill-color);\n",
              "    }\n",
              "    60% {\n",
              "      border-color: transparent;\n",
              "      border-right-color: var(--fill-color);\n",
              "    }\n",
              "    80% {\n",
              "      border-color: transparent;\n",
              "      border-right-color: var(--fill-color);\n",
              "      border-bottom-color: var(--fill-color);\n",
              "    }\n",
              "    90% {\n",
              "      border-color: transparent;\n",
              "      border-bottom-color: var(--fill-color);\n",
              "    }\n",
              "  }\n",
              "</style>\n",
              "\n",
              "  <script>\n",
              "    async function quickchart(key) {\n",
              "      const quickchartButtonEl =\n",
              "        document.querySelector('#' + key + ' button');\n",
              "      quickchartButtonEl.disabled = true;  // To prevent multiple clicks.\n",
              "      quickchartButtonEl.classList.add('colab-df-spinner');\n",
              "      try {\n",
              "        const charts = await google.colab.kernel.invokeFunction(\n",
              "            'suggestCharts', [key], {});\n",
              "      } catch (error) {\n",
              "        console.error('Error during call to suggestCharts:', error);\n",
              "      }\n",
              "      quickchartButtonEl.classList.remove('colab-df-spinner');\n",
              "      quickchartButtonEl.classList.add('colab-df-quickchart-complete');\n",
              "    }\n",
              "    (() => {\n",
              "      let quickchartButtonEl =\n",
              "        document.querySelector('#df-4549a413-77c2-4b5d-a509-11262758eb8d button');\n",
              "      quickchartButtonEl.style.display =\n",
              "        google.colab.kernel.accessAllowed ? 'block' : 'none';\n",
              "    })();\n",
              "  </script>\n",
              "</div>\n",
              "    </div>\n",
              "  </div>\n"
            ]
          },
          "metadata": {},
          "execution_count": 9
        }
      ]
    },
    {
      "cell_type": "code",
      "source": [
        "# Crosstab to get observed frequencies\n",
        "O_table = pd.crosstab(df_filtered['sex'], df_filtered['education'])\n",
        "print(\"Observed frequencies table:\")\n",
        "print(O_table)\n",
        "\n",
        "p_table = O_table.div(O_table.sum(axis=1), axis=0)\n",
        "total_proportions = O_table.sum(axis=0) / O_table.values.sum()\n",
        "p_table.loc['total'] = total_proportions\n",
        "print(p_table)\n",
        "\n",
        "# Chi-squared test\n",
        "chi2, p, dof, expected = stats.chi2_contingency(O_table)\n",
        "print(f\"\\nChi-squared: {chi2}\")\n",
        "print(f\"P-value: {p}\")\n",
        "print(f\"Degrees of freedom: {dof}\")\n",
        "print(\"Expected frequencies table:\")\n",
        "print(expected)"
      ],
      "metadata": {
        "colab": {
          "base_uri": "https://localhost:8080/"
        },
        "id": "1WHjtoyj2LKU",
        "outputId": "fc65b7f7-93d6-4b77-e424-752fc68f7aeb"
      },
      "execution_count": null,
      "outputs": [
        {
          "output_type": "stream",
          "name": "stdout",
          "text": [
            "Observed frequencies table:\n",
            "education  Bachelor  High School  Master  PhD\n",
            "sex                                          \n",
            "Female           21           24      24   31\n",
            "Male             19           25      26   30\n",
            "education  Bachelor  High School  Master    PhD\n",
            "sex                                            \n",
            "Female         0.21        0.240    0.24  0.310\n",
            "Male           0.19        0.250    0.26  0.300\n",
            "total          0.20        0.245    0.25  0.305\n",
            "\n",
            "Chi-squared: 0.21680160588825695\n",
            "P-value: 0.9748324264267186\n",
            "Degrees of freedom: 3\n",
            "Expected frequencies table:\n",
            "[[20.  24.5 25.  30.5]\n",
            " [20.  24.5 25.  30.5]]\n"
          ]
        }
      ]
    },
    {
      "cell_type": "markdown",
      "source": [
        "# For manual computation:"
      ],
      "metadata": {
        "id": "9wGHZDInrtuK"
      }
    },
    {
      "cell_type": "code",
      "source": [
        "O_table = np.array(O_table)\n",
        "manual_chi2 = ((O_table-expected)**2/expected).sum().sum()\n",
        "manual_chi2"
      ],
      "metadata": {
        "colab": {
          "base_uri": "https://localhost:8080/"
        },
        "id": "GFDHb_vDrOFr",
        "outputId": "949eaed7-a158-48da-9578-8e5b5e3c7b8e"
      },
      "execution_count": null,
      "outputs": [
        {
          "output_type": "execute_result",
          "data": {
            "text/plain": [
              "0.21680160588825695"
            ]
          },
          "metadata": {},
          "execution_count": 17
        }
      ]
    },
    {
      "cell_type": "code",
      "source": [
        "alpha = 0.05\n",
        "if p < alpha:\n",
        "  print('reject')\n",
        "else:\n",
        "  print('null')"
      ],
      "metadata": {
        "colab": {
          "base_uri": "https://localhost:8080/"
        },
        "id": "Jq-6Zi7Op3KI",
        "outputId": "b13ef887-1c21-40c4-c38e-0dcd44dd43ca"
      },
      "execution_count": null,
      "outputs": [
        {
          "output_type": "stream",
          "name": "stdout",
          "text": [
            "null\n"
          ]
        }
      ]
    },
    {
      "cell_type": "markdown",
      "source": [
        "| \\ | Category 1 | Category 2 | $\\dots$ | Category $k$ | Total |\n",
        "|:--------:|:-------------------:|:-------------------:|:-------------------:|:-------------------:|:-------------------:|\n",
        "| $X_1$ | $O_{11}$               | $O_{12}$               | $\\dots$ | $O_{1k}$ | $n_1$ |\n",
        "| $X_2$ | $O_{21}$               | $O_{22}$               | $\\dots$ | $O_{2k}$ | $n_2$ |\n",
        "| $\\vdots$ | $\\vdots$ | $\\vdots$ | $\\vdots$ | $\\dots$ | $\\vdots$ | $\\vdots$ |\n",
        "| $X_r$ | $O_{r1}$               | $O_{r2}$               | $\\dots$ | $O_{rk}$ | $n_r$ |\n",
        "| Total | $T_{1}$               | $T_{2}$               | $\\dots$ | $T_{k}$ | $n$ |\n",
        "\n"
      ],
      "metadata": {
        "id": "bzlENew7Kmfz"
      }
    },
    {
      "cell_type": "markdown",
      "source": [
        "| \\ | Category 1 | Category 2 | $\\dots$ | Category $k$ | Total |\n",
        "|:--------:|:-------------------:|:-------------------:|:-------------------:|:-------------------:|:-------------------:|\n",
        "| $X_1$ | $\\hat{p}_{11} = {O_{11}}/{n_1}$               | $\\hat{p}_{12} = {O_{12}}/{n_1}$               | $\\dots$ | $\\hat{p}_{1k} = {O_{1k}}/{n_1}$ | $n_1$ |\n",
        "| $X_2$ | $\\hat{p}_{21} = {O_{21}}/{n_2}$               | $\\hat{p}_{22} = {O_{22}}/{n_2}$               | $\\dots$ | $\\hat{p}_{2k} = {O_{2k}}/{n_2}$ | $n_2$ |\n",
        "| $\\vdots$ | $\\vdots$ | $\\vdots$ | $\\vdots$ | $\\dots$ | $\\vdots$ | $\\vdots$ |\n",
        "| $X_r$ | $\\hat{p}_{r1} = {O_{r1}}/{n_r}$               | $\\hat{p}_{r2} = {O_{r2}}/{n_r}$               | $\\dots$ | $\\hat{p}_{rk} = {O_{rk}}/{n_r}$ | $n_r$ |\n",
        "| Total | $\\hat{p}_{1} = {T_{1}}/{n}$               | $\\hat{p}_{2} = {T_{2}}/{n}$               | $\\dots$ | $\\hat{p}_{k} = {T_{k}}/{n}$ | $n$ |"
      ],
      "metadata": {
        "id": "r257H51qKsha"
      }
    },
    {
      "cell_type": "markdown",
      "source": [
        "| Anatomy of the hypothesis test    |  Answer  |\n",
        "|:---------------------------------:|:--------:|\n",
        "| Assumption                        | $X_1 \\sim \\text{Multinomial}(n_1, p_{11}, p_{12}, \\dots, p_{1k})$, $X_2 \\sim \\text{Multinomial}(n_1, p_{21}, p_{22}, \\dots, p_{2k})$ |\n",
        "| Population parameter              | $\\theta = (p_{11}, p_{12}, \\dots, p_{kr})$ where $p_{ij}$ represents the proportion of the $j$th category in the $i$th population. |\n",
        "| Sample statistic                  | $\\hat\\theta = (\\hat p_{11}, \\hat p_{12}, \\dots, \\hat p_{kr})$ where $\\hat p_{ij}$ is the observed proportion of the $j$th category in the $i$th sample. |\n",
        "| Test statistic                    | $\\displaystyle T = \\sum_{i=1}^k \\sum_{j=1}^r \\frac{(O_{ij} - E_{ij})^2}{E_{ij}} \\sim {\\chi}^2_{(k-1) \\times (r-1)}$ where $O_{ij}$ is the observed frequency and $E_{ij}$ is the expected frequency for the $j$th category in the $i$th population. |\n",
        "| Null hypothesis                   | $H_0: p_{1j} = p_{2j} = \\cdots = p_{kj}$ for all $j$. This states that the proportions for each category are the same across all populations. |\n",
        "| Alternate hypothesis              | $H_a: p_{ij} \\neq p_{i'j}$ for some $i \\neq i'$ and any $j$. This suggests that at least one population proportion is different. |\n",
        "\n",
        "\n",
        " Definition of $E_{ij}$: $E_{ij} = n_i \\times p_j$ where $n_i$ is the total number of observations in the $i$th sample, and $p_j$ is the overall proportion of the $j$th category across all samples combined. The overall proportion $p_j$ is calculated as the sum of all observations of the $j$th category across all groups divided by the total number of observations across all groups.\n"
      ],
      "metadata": {
        "id": "Is-CdEknHEsp"
      }
    }
  ]
}