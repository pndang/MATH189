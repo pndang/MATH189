{
 "cells": [
  {
   "cell_type": "markdown",
   "id": "f5699a71",
   "metadata": {},
   "source": [
    "# Week 3 Summary\n",
    "> NAME: $\\color{red}{\\text{    Phu Dang     }}$\n",
    "> \n",
    "> PID: $\\color{red}{\\text{    A16913100     }}$\n",
    ">\n",
    "> \n",
    "---"
   ]
  },
  {
   "cell_type": "markdown",
   "id": "b0e61ba4-c23c-44b6-8933-ad5c5013a12d",
   "metadata": {},
   "source": [
    "I certify that the following write-up is my own work, and have abided by the UCSD Academic Integrity Guidelines.\n",
    "\n",
    "- [x] Yes\n",
    "- [ ] No"
   ]
  },
  {
   "cell_type": "markdown",
   "id": "2e3d69d4-fc3b-467c-867a-232ea44b034d",
   "metadata": {},
   "source": [
    "---"
   ]
  },
  {
   "cell_type": "code",
   "execution_count": 75,
   "id": "4cdf6b84",
   "metadata": {},
   "outputs": [],
   "source": [
    "import numpy as np\n",
    "import pandas as pd\n",
    "import seaborn as sns\n",
    "import matplotlib.pyplot as plt\n",
    "import scipy.stats as stats\n",
    "import statsmodels.api as sm\n",
    "\n",
    "import warnings\n",
    "warnings.filterwarnings(\"ignore\")"
   ]
  },
  {
   "cell_type": "markdown",
   "id": "de700466",
   "metadata": {},
   "source": [
    "## Key Takeaways from Week 3"
   ]
  },
  {
   "cell_type": "markdown",
   "id": "e89169e3",
   "metadata": {},
   "source": [
    "\n",
    "#### Monday: \n",
    "\n",
    "Review of different sampling distributions, one/two sample proportions/means, and confidence intervals\n",
    "\n",
    "- Looked into how the Binomial rv is essentially an aggregation of Bernoullis\n",
    "- Similarly, how the Gamma distribution is essentially the sum of n exponential rvs if the number of event occurrence is n\n",
    "- Examined the meaning behind confidence intervals and how they represent the capture rate of the true parameter over different confidence intervals generated from different experiments\n"
   ]
  },
  {
   "cell_type": "markdown",
   "id": "29081a6f",
   "metadata": {},
   "source": [
    "#### Wednesday\n",
    "\n",
    "Review of 1 sample proportion confidence intervals and covered confidence intervals for difference of two proportions. Notably, the standard error is comprised of the sum of the individual variances, which resembles the overall variance of the difference. Including how to interpret a confidence interval in the case of only 1 experiment sample; essentially, can not conclude capture rate, however, the CI still provides insights into the skewedness. or not, of the sampling distribution with x% confidence. \n",
    "\n",
    "- Confidence intervals for difference of two proportions\n",
    "- Interpretation of confidence intervals in the case of two sample proportions\n"
   ]
  },
  {
   "cell_type": "markdown",
   "id": "56f24688",
   "metadata": {},
   "source": [
    "#### Friday: \n",
    "\n",
    "Review of topics from monday and wednesday. Covered confidence intervals for one sample mean and difference of two sample means. Compared manually calculated results with those from the Statsmodels api. Contrasted the Student's t distribution and the standard normal distribution and how one may be more accurate over the other depending on our knowing of $\\sigma^2$, this is examined by comparing the distribution's coverage with the initial desired confidence level.\n",
    "\n",
    "- Confidence intervals for one sample means\n",
    "- Confidence intervals for difference of two sample means\n",
    "- Student's t distribution vs. standard normal\n",
    "    - Which to use depending on the information available"
   ]
  },
  {
   "cell_type": "markdown",
   "id": "5928a1a1",
   "metadata": {},
   "source": [
    "---"
   ]
  },
  {
   "cell_type": "markdown",
   "id": "71b30092-0b40-4853-bee7-9fb6b040490d",
   "metadata": {},
   "source": [
    "%%latex\n",
    "\\newpage"
   ]
  },
  {
   "cell_type": "markdown",
   "id": "d9ac3593",
   "metadata": {},
   "source": [
    "## Monday, Jan 22nd"
   ]
  },
  {
   "cell_type": "markdown",
   "id": "3d181512",
   "metadata": {},
   "source": [
    "Monday was a review of sampling distributions, especially the idea of repeating an experiment multiple times, which results in different distribution parameters depending on the empirical data observations."
   ]
  },
  {
   "cell_type": "markdown",
   "id": "36ae94c2",
   "metadata": {},
   "source": [
    "Key concepts covered:\n",
    "\n",
    "- One sample proportion\n",
    "- Two sample proportions\n",
    "- One sample mean\n",
    "- Two sample means\n",
    "- Confidence intervals\n"
   ]
  },
  {
   "cell_type": "markdown",
   "id": "f388e08a",
   "metadata": {},
   "source": [
    "#### More notes\n",
    "\n",
    "- Student's t distribution with n-1 degrees of freedom is followed by:\n",
    "    - Resembles the normal distribution \n",
    "\n",
    "$$ \\frac{\\hat\\mu - \\mu}{\\sqrt{\\hat\\sigma^2 / n}} \\text{ ~ t(n-1)} $$\n",
    "\n",
    "    \n",
    "- The Gamma distribution reduces to the exponential distribution, they are exactly the same when the number of event occurrence equals 1\n",
    "\n",
    "$$ \\hat \\lambda \\text{ ~ } \\frac{1}{n} \\times \\Gamma(n, n \\times \\lambda) $$\n",
    "\n",
    "- Confidence interval fundamentals\n",
    "    - Area of confidence is 1- $\\alpha$\n",
    "    "
   ]
  },
  {
   "cell_type": "code",
   "execution_count": 24,
   "id": "20b3eac4",
   "metadata": {},
   "outputs": [
    {
     "data": {
      "image/png": "[encoded data removed]",
      "text/plain": [
       "<Figure size 720x360 with 2 Axes>"
      ]
     },
     "metadata": {
      "needs_background": "light"
     },
     "output_type": "display_data"
    }
   ],
   "source": [
    "# Quick illustration of the Central Limit Theorem\n",
    "\n",
    "p = 0.5\n",
    "n, N = 100, 2500\n",
    "thetaHats = [stats.bernoulli(p).rvs(n).sum() for _ in range(N)]\n",
    "\n",
    "fig, ax = plt.subplots(1, 2, figsize=(10, 5))\n",
    "ax[0].set_title(\"empirical\")\n",
    "sns.histplot(thetaHats, ax=ax[0], stat='density', color='green');\n",
    "\n",
    "minX, maxX = stats.binom(n, p).ppf((0.01, 1-0.01))\n",
    "suppX = np.arange(minX-1, maxX+1)\n",
    "ax[1].bar(suppX, stats.binom(n, p).pmf(suppX))\n",
    "ax[1].set_title('pmf');"
   ]
  },
  {
   "cell_type": "markdown",
   "id": "f324d624",
   "metadata": {},
   "source": [
    "#### Two sample proportions example\n",
    "\n",
    "$$ \\hat \\mu \\text{ ~ N(} \\mu,\\sigma^2/n \\text{)}  $$"
   ]
  },
  {
   "cell_type": "code",
   "execution_count": 26,
   "id": "df358218",
   "metadata": {},
   "outputs": [
    {
     "data": {
      "image/png": "[encoded data removed]",
      "text/plain": [
       "<Figure size 360x360 with 1 Axes>"
      ]
     },
     "metadata": {
      "needs_background": "light"
     },
     "output_type": "display_data"
    }
   ],
   "source": [
    "# Two sample proportions\n",
    "\n",
    "mu = 5\n",
    "sigma = 1.2\n",
    "n, N = 100, 2500\n",
    "thetaHats = [stats.norm(mu, sigma).rvs(n).mean() for _ in range(N)]\n",
    "\n",
    "fig, ax = plt.subplots(1, 1, figsize=(5, 5))\n",
    "sns.histplot(thetaHats, ax=ax, stat='density', color='green');\n",
    "minX, maxX = stats.norm(mu, sigma/np.sqrt(n)).ppf((0.01, 1-0.01))\n",
    "suppX = np.linspace(minX-1, maxX+1, 200)\n",
    "ax.plot(suppX, stats.norm(mu, sigma/np.sqrt(n)).pdf(suppX))\n",
    "ax.set_title('norm');"
   ]
  },
  {
   "cell_type": "markdown",
   "id": "d562170b",
   "metadata": {},
   "source": [
    "#### Confidence Intervals"
   ]
  },
  {
   "cell_type": "code",
   "execution_count": 67,
   "id": "5096bd1f",
   "metadata": {},
   "outputs": [],
   "source": [
    "# Simulate binary survey data (bernoulli)\n",
    "\n",
    "thetaTrue = 0.75\n",
    "\n",
    "def survey(n):\n",
    "    return stats.bernoulli.rvs(thetaTrue, size=n)"
   ]
  },
  {
   "cell_type": "code",
   "execution_count": 68,
   "id": "22f1e8d6",
   "metadata": {},
   "outputs": [
    {
     "data": {
      "text/plain": [
       "array([0, 1, 1, 1, 0, 1, 1, 1, 1, 1, 1, 0, 1, 1, 1, 1, 1, 1, 0, 1, 1, 0,\n",
       "       0, 1, 1, 1, 0, 0, 0, 1, 1, 1, 0, 1, 1, 1, 1, 1, 0, 1, 1, 1, 1, 0,\n",
       "       1, 1, 1, 1, 1, 1, 1, 1, 0, 1, 1, 1, 1, 1, 1, 1, 1, 0, 1, 1, 1, 0,\n",
       "       0, 0, 1, 1, 1, 1, 1, 1, 1, 1, 0, 1, 1, 1, 1, 1, 0, 1, 1, 1, 1, 1,\n",
       "       1, 1, 1, 1, 1, 0, 1, 1, 1, 0, 1, 1])"
      ]
     },
     "execution_count": 68,
     "metadata": {},
     "output_type": "execute_result"
    }
   ],
   "source": [
    "responses = survey(100)\n",
    "responses"
   ]
  },
  {
   "cell_type": "code",
   "execution_count": 30,
   "id": "0b8b5167",
   "metadata": {},
   "outputs": [
    {
     "data": {
      "text/plain": [
       "0.78"
      ]
     },
     "execution_count": 30,
     "metadata": {},
     "output_type": "execute_result"
    }
   ],
   "source": [
    "thetaHat = np.mean(responses)\n",
    "thetaHat"
   ]
  },
  {
   "cell_type": "code",
   "execution_count": 55,
   "id": "da06e458",
   "metadata": {},
   "outputs": [
    {
     "name": "stdout",
     "output_type": "stream",
     "text": [
      "Capture rate: 0.9515\n",
      "Confidence: 95.2%\n"
     ]
    }
   ],
   "source": [
    "# Illustrate the capture of confidence interval (95%)\n",
    "\n",
    "N = 2000\n",
    "n = 100\n",
    "capture = []\n",
    "\n",
    "for _ in range(N):\n",
    "    responses = survey(n)\n",
    "    thetaHat = np.mean(responses)\n",
    "    LB = thetaHat - 1.96*np.sqrt(thetaHat*(1-thetaHat)/n)\n",
    "    UB = thetaHat + 1.96*np.sqrt(thetaHat*(1-thetaHat)/n)\n",
    "    capture.append(thetaTrue > LB and thetaTrue < UB)\n",
    "\n",
    "print(f\"Capture rate: {np.mean(capture)}\")\n",
    "print(f\"Confidence: {np.round(np.mean(capture)*100, 1)}%\")"
   ]
  },
  {
   "cell_type": "markdown",
   "id": "c3d4b14f",
   "metadata": {},
   "source": [
    "---"
   ]
  },
  {
   "cell_type": "markdown",
   "id": "89f279dc-cd10-4ca3-b94b-046971a93e54",
   "metadata": {},
   "source": [
    "%%latex \n",
    "\\newpage"
   ]
  },
  {
   "cell_type": "markdown",
   "id": "9e527d83",
   "metadata": {},
   "source": [
    "## Wed, Jan 24th"
   ]
  },
  {
   "cell_type": "markdown",
   "id": "97cba7b9",
   "metadata": {},
   "source": [
    "Wednesday was a review of confidence intervals for one sample proportion, including graphical demonstration of how the confidence \"width\" changes as alpha changes, where $ \\alpha $ represents the two-tail area of the standard normal distribution. Then, followed by confidence intervals for difference of two proportions with demo using class survey data. \n",
    "\n",
    "An interpretation of the confidence interval was explained to show with x% confidence that there is, or not, a skewedness in the distribution (e.g. enrollment by gender in class --> can claim skewedness if 50% is not in the interval with x% confidence)."
   ]
  },
  {
   "cell_type": "markdown",
   "id": "ad2d56af",
   "metadata": {},
   "source": [
    "Key concepts covered:\n",
    "\n",
    "- Confidence interval for 1 sample proportion\n",
    "- Confidence interval for 2 sample proportions\n",
    "- Confidence interval for difference of two proportions"
   ]
  },
  {
   "cell_type": "markdown",
   "id": "4ef45cc0",
   "metadata": {},
   "source": [
    "#### Extra notes\n",
    "\n",
    "- For 1 sample prop confidence intervals, the standard error (SE) is:\n",
    "  \n",
    "$$ \\sqrt\\frac{\\hat\\theta(1-\\hat\\theta)}{n} $$\n",
    "\n",
    "- \"A probabilistic statement only hold for something that is random\" - SV\n",
    "- \"Probabilities refer to random processes\" - DQ\n",
    "- For confidence intervals of difference of two proportions:\n",
    "    - Parameter of interest is: $ \\theta_X - \\theta_Y $\n",
    "    - Statistic of interest is: $ \\hat\\theta_X - \\hat\\theta_Y $ \n",
    "    - Standard error (SE) is:\n",
    "    \n",
    "    $$ SE = \\sqrt{\\frac{\\hat\\theta_X(1-\\hat\\theta_X)}{n} + \\frac{\\hat\\theta_Y(1-\\hat\\theta_Y)}{m}} $$\n",
    "    \n",
    "    - Logic: The variance of a difference is the sum of the individual variances\n",
    "\n",
    "\n",
    "- Definition of a standard $\\alpha$-quantile: the area under the standard normal distribution to the left of the x value, $ q_{\\alpha} $, where the area is $\\alpha$ \n",
    "\n",
    "    - Or:\n",
    "\n",
    "    $$\n",
    "    P(X \\le q_{\\alpha}) = \\alpha\n",
    "    $$"
   ]
  },
  {
   "cell_type": "markdown",
   "id": "c2b14c58",
   "metadata": {},
   "source": [
    "#### Demo of CI for difference of 2 proportions and show capture rate"
   ]
  },
  {
   "cell_type": "code",
   "execution_count": 60,
   "id": "d9d393ea",
   "metadata": {},
   "outputs": [],
   "source": [
    "# Simulate two surveys\n",
    "\n",
    "thetaX = 0.8\n",
    "thetaY = 0.6\n",
    "diffTrue = thetaX - thetaY\n",
    "\n",
    "def twoSurveys(n, m):\n",
    "    return ({\n",
    "        \"x\": stats.bernoulli.rvs(thetaX, size=n),\n",
    "        \"y\": stats.bernoulli.rvs(thetaY, size=m)\n",
    "    })"
   ]
  },
  {
   "cell_type": "code",
   "execution_count": 58,
   "id": "17da9f42",
   "metadata": {},
   "outputs": [],
   "source": [
    "results = twoSurveys(50, 50)"
   ]
  },
  {
   "cell_type": "code",
   "execution_count": 59,
   "id": "7ebfc26e",
   "metadata": {},
   "outputs": [
    {
     "data": {
      "text/plain": [
       "{'x': array([1, 1, 0, 0, 1, 0, 1, 0, 1, 1, 1, 1, 1, 1, 1, 1, 1, 1, 1, 1, 1, 1,\n",
       "        0, 1, 1, 1, 1, 0, 1, 1, 0, 1, 1, 1, 1, 1, 1, 1, 1, 1, 1, 1, 1, 1,\n",
       "        1, 1, 1, 1, 1, 1]),\n",
       " 'y': array([1, 1, 0, 1, 1, 1, 1, 0, 1, 1, 0, 1, 1, 1, 0, 1, 1, 1, 1, 0, 1, 1,\n",
       "        1, 0, 1, 0, 0, 1, 0, 1, 1, 1, 1, 1, 1, 0, 0, 1, 1, 0, 0, 1, 0, 0,\n",
       "        1, 0, 0, 0, 0, 1])}"
      ]
     },
     "execution_count": 59,
     "metadata": {},
     "output_type": "execute_result"
    }
   ],
   "source": [
    "results"
   ]
  },
  {
   "cell_type": "code",
   "execution_count": 65,
   "id": "dcaee5b8",
   "metadata": {},
   "outputs": [
    {
     "name": "stdout",
     "output_type": "stream",
     "text": [
      "Capture rate: 0.9065\n",
      "Confidence: 90.6%\n"
     ]
    }
   ],
   "source": [
    "# Illustrate the capture of confidence interval (90%)\n",
    "\n",
    "N = 2000\n",
    "n, m = 50, 50\n",
    "capture = []\n",
    "\n",
    "for _ in range(N):\n",
    "    responses = twoSurveys(n, m)\n",
    "    thetaHatX = np.mean(responses['x'])\n",
    "    thetaHatY = np.mean(responses['y'])\n",
    "    diffHat = thetaHatX - thetaHatY\n",
    "    LB = diffHat - 1.64*np.sqrt(thetaHatX*(1-thetaHatX)/n + thetaHatY*(1-thetaHatY)/n)\n",
    "    UB = diffHat + 1.64*np.sqrt(thetaHatX*(1-thetaHatX)/n + thetaHatY*(1-thetaHatY)/n)\n",
    "    capture.append(diffTrue > LB and diffTrue < UB)\n",
    "\n",
    "print(f\"Capture rate: {np.mean(capture)}\")\n",
    "print(f\"Confidence: {np.round(np.mean(capture)*100, 1)}%\")"
   ]
  },
  {
   "cell_type": "markdown",
   "id": "05187baf",
   "metadata": {},
   "source": [
    "---"
   ]
  },
  {
   "cell_type": "markdown",
   "id": "e6be712f-4560-4b32-ac50-b3db9cfaad0a",
   "metadata": {},
   "source": [
    "%%latex \n",
    "\\newpage"
   ]
  },
  {
   "cell_type": "markdown",
   "id": "3525e5fa",
   "metadata": {},
   "source": [
    "## Fri, Jan 12th"
   ]
  },
  {
   "cell_type": "markdown",
   "id": "39c814b7",
   "metadata": {},
   "source": [
    "Friday started with a quick review of topics from monday and wednesday. Covered what the annotation $ \\alpha $-quantile represents graphically (left tail), contrary to $ z_\\alpha $ that corresponds to the right tail. Reviewed CIs for 1 sample proportion and 2 sample proportions. Then moved towards confidence intervals for one sample mean, and compared the differences in coverage between the Student's t and z standard normal distributions.\n",
    "\n",
    "Key concepts covered:\n",
    "\n",
    "- How to interpret statistical observations, confidence intervals, numeric quantities, etc.\n",
    "- Confirm confidence intervals using statsmodels api\n",
    "- Confidence intervals for one sample mean\n",
    "\n",
    "When $\\sigma^2$ is known:\n",
    "    \n",
    "$$\n",
    "CI(\\mu, \\alpha) = \\biggr[\\hat\\mu - z_{\\alpha/2} \\cdot SE, \\hat\\mu + z_{\\alpha/2} \\cdot SE \\biggr]\n",
    "$$\n",
    "\n",
    "$$\n",
    "SE = \\frac{\\sigma}{\\sqrt{n}}\n",
    "$$\n",
    "\n",
    "When $\\sigma^2$ is NOT known:\n",
    "\n",
    "$$\n",
    "CI(\\mu, \\alpha) = \\biggr[\\hat\\mu - t_{n-1; \\alpha/2} \\cdot SE, \\hat\\mu + t_{n-1; \\alpha/2} \\cdot SE \\biggr]\n",
    "$$\n",
    "\n",
    "$$\n",
    "SE = \\frac{\\hat\\sigma}{\\sqrt{n}}\n",
    "$$\n",
    "\n",
    "Note: $t_{n-1; \\alpha/2}$ is the $\\alpha/2$ upper quantile of the $t-$distribution with $n-1$ degrees of freedom\n",
    "\n",
    "- Confidence intervals for difference of two means\n",
    "\n",
    "$$\n",
    "CI(\\mu_X - \\mu_Y, \\alpha) = \\biggr[(\\hat\\mu_X-\\hat\\mu_Y) - t_{n+m-2;\\alpha/2} \\cdot SE, (\\hat\\mu_X-\\hat\\mu_Y) + t_{n+m-2;\\alpha/2} \\cdot SE \\biggr]\n",
    "$$\n",
    "\n",
    "$$\n",
    "SE = \\sqrt{\\frac{{\\hat\\sigma^2}_X}{n} + \\frac{{\\hat\\sigma^2}_Y}{m}}\n",
    "$$\n",
    "\n",
    "$$\n",
    "\\text{Sample variance of X:} \\;\\;\\;\\; {\\hat\\sigma^2}_X = \\frac{1}{n-1} \\sum_{i=1}^{n} (X_i-\\overline X)^2 \n",
    "$$\n",
    "\n",
    "$$\n",
    "\\text{Sample variance of Y:} \\;\\;\\;\\; {\\hat\\sigma^2}_Y = \\frac{1}{m-1} \\sum_{i=1}^{m} (Y_i-\\overline Y)^2 \n",
    "$$\n",
    "\n",
    "- Student's t vs z standard normal\n",
    "    - When $\\sigma^2$ is not known, the sampling distribution follows the t distribution with n-1 dof. When $\\sigma^2$ is known, the sampling distribution follows a standard normal distribution."
   ]
  },
  {
   "cell_type": "markdown",
   "id": "68fbc057",
   "metadata": {},
   "source": [
    "#### Using scipy.stats functions to generate confidence intervals"
   ]
  },
  {
   "cell_type": "code",
   "execution_count": 69,
   "id": "587a7987",
   "metadata": {},
   "outputs": [],
   "source": [
    "x = survey(100)"
   ]
  },
  {
   "cell_type": "code",
   "execution_count": 76,
   "id": "7f9a3c33",
   "metadata": {},
   "outputs": [
    {
     "name": "stdout",
     "output_type": "stream",
     "text": [
      "Statsmodels api: (0.6540292679395162, 0.8259707320604838)\n"
     ]
    }
   ],
   "source": [
    "# Statsmodels api\n",
    "\n",
    "result = sm.stats.proportion_confint(np.sum(x), len(x), alpha=0.05)\n",
    "print(f'Statsmodels api: {result}')"
   ]
  },
  {
   "cell_type": "markdown",
   "id": "86dacd63",
   "metadata": {},
   "source": [
    "#### Repeat for 2 sample proportions confidence intervals"
   ]
  },
  {
   "cell_type": "code",
   "execution_count": 78,
   "id": "6ff80208",
   "metadata": {},
   "outputs": [],
   "source": [
    "data = twoSurveys(n, m)"
   ]
  },
  {
   "cell_type": "code",
   "execution_count": 88,
   "id": "50f221b3",
   "metadata": {},
   "outputs": [
    {
     "name": "stdout",
     "output_type": "stream",
     "text": [
      "Statsmodels api: (0.057818211089040894, 0.4221817889109591)\n"
     ]
    }
   ],
   "source": [
    "# Statsmodels api\n",
    "\n",
    "result = sm.stats.confint_proportions_2indep(\n",
    "    np.sum(data['x']),\n",
    "    len(data['x']),\n",
    "    np.sum(data['y']),\n",
    "    len(data['y']),\n",
    "    alpha=0.05,\n",
    "    method='wald'\n",
    ")\n",
    "\n",
    "print(f'Statsmodels api: {result}')"
   ]
  },
  {
   "cell_type": "code",
   "execution_count": 91,
   "id": "7e43f914",
   "metadata": {},
   "outputs": [
    {
     "name": "stdout",
     "output_type": "stream",
     "text": [
      "Our calc: (0.057814863394403115, 0.42218513660559687)\n",
      "Statsmodels api: (0.057818211089040894, 0.4221817889109591)\n"
     ]
    }
   ],
   "source": [
    "# Manual\n",
    "\n",
    "thetaHatX = np.mean(data['x'])\n",
    "thetaHatY = np.mean(data['y'])\n",
    "diffHat = thetaHatX - thetaHatY\n",
    "LB = diffHat - 1.96*np.sqrt(thetaHatX*(1-thetaHatX)/n + thetaHatY*(1-thetaHatY)/n)\n",
    "UB = diffHat + 1.96*np.sqrt(thetaHatX*(1-thetaHatX)/n + thetaHatY*(1-thetaHatY)/n)\n",
    "\n",
    "print(f\"Our calc: {(LB, UB)}\")\n",
    "print(f'Statsmodels api: {result}')"
   ]
  },
  {
   "cell_type": "markdown",
   "id": "0480f9ab",
   "metadata": {},
   "source": [
    "#### Demo confidence interval for 1 sample mean"
   ]
  },
  {
   "cell_type": "code",
   "execution_count": 95,
   "id": "c30a6459",
   "metadata": {},
   "outputs": [
    {
     "data": {
      "text/plain": [
       "array([ 3.19520328,  4.90269117,  8.0974771 , 11.44438122,  8.16833906,\n",
       "       13.35993661,  7.19693308, 11.54944179,  6.39099356,  9.91520471,\n",
       "        4.17504948,  1.86250549,  7.01931147,  9.24601135, 12.11431207,\n",
       "        8.34872387, 10.91746602, 11.38856178, 11.29358629,  8.53579966])"
      ]
     },
     "execution_count": 95,
     "metadata": {},
     "output_type": "execute_result"
    }
   ],
   "source": [
    "# Generate sleep surveys\n",
    "\n",
    "muTrue = 8\n",
    "\n",
    "def meanSurvey(n):\n",
    "    return stats.norm.rvs(muTrue, 2.8, size=n)\n",
    "\n",
    "meanSurvey(20)"
   ]
  },
  {
   "cell_type": "code",
   "execution_count": 103,
   "id": "24fba2cd",
   "metadata": {},
   "outputs": [
    {
     "name": "stdout",
     "output_type": "stream",
     "text": [
      "0.95\n"
     ]
    }
   ],
   "source": [
    "# Illustrate capture rate over repeated survyes\n",
    "\n",
    "N = 1000\n",
    "n = 50\n",
    "alpha = 0.05\n",
    "capture = []\n",
    "\n",
    "for _ in range(N):\n",
    "    result = meanSurvey(n)\n",
    "    muHat = np.mean(result)\n",
    "    se = np.std(result, ddof=1) / np.sqrt(n)\n",
    "    ci = np.array((-1, +1)) * stats.t(n-1).ppf(1-alpha/2) * se + muHat\n",
    "    capture.append(muTrue > ci[0] and muTrue < ci[1])\n",
    "\n",
    "print(np.mean(capture))"
   ]
  },
  {
   "cell_type": "markdown",
   "id": "6ac3415f",
   "metadata": {},
   "source": [
    "#### Extra notes"
   ]
  },
  {
   "cell_type": "code",
   "execution_count": 105,
   "id": "25f7e9d6",
   "metadata": {},
   "outputs": [
    {
     "data": {
      "text/plain": [
       "1.959963984540054"
      ]
     },
     "execution_count": 105,
     "metadata": {},
     "output_type": "execute_result"
    }
   ],
   "source": [
    "# How to get z-sub-alpha/2 from desired confidence level\n",
    "# confidence % = (1-alpha)*100\n",
    "\n",
    "# for 95& confidence\n",
    "alpha = 0.05\n",
    "stats.norm(0, 1).ppf(1-alpha/2)"
   ]
  },
  {
   "cell_type": "code",
   "execution_count": null,
   "id": "77f4b58b",
   "metadata": {},
   "outputs": [],
   "source": []
  }
 ],
 "metadata": {
  "kernelspec": {
   "display_name": "Python 3 (ipykernel)",
   "language": "python",
   "name": "python3"
  },
  "language_info": {
   "codemirror_mode": {
    "name": "ipython",
    "version": 3
   },
   "file_extension": ".py",
   "mimetype": "text/x-python",
   "name": "python",
   "nbconvert_exporter": "python",
   "pygments_lexer": "ipython3",
   "version": "3.9.12"
  }
 },
 "nbformat": 4,
 "nbformat_minor": 5
}
