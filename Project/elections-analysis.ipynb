{
 "cells": [
  {
   "cell_type": "code",
   "execution_count": 1,
   "metadata": {},
   "outputs": [],
   "source": [
    "import numpy as np\n",
    "import pandas as pd\n",
    "import scipy.stats as stats\n",
    "\n",
    "import seaborn as sns\n",
    "import matplotlib.pyplot as plt\n",
    "import plotly.express as px\n",
    "import plotly.graph_objects as go\n",
    "from plotly.subplots import make_subplots\n",
    "\n",
    "import warnings\n",
    "warnings.filterwarnings('ignore')"
   ]
  },
  {
   "cell_type": "code",
   "execution_count": 2,
   "metadata": {},
   "outputs": [
    {
     "data": {
      "text/html": [
       "<div>\n",
       "<style scoped>\n",
       "    .dataframe tbody tr th:only-of-type {\n",
       "        vertical-align: middle;\n",
       "    }\n",
       "\n",
       "    .dataframe tbody tr th {\n",
       "        vertical-align: top;\n",
       "    }\n",
       "\n",
       "    .dataframe thead th {\n",
       "        text-align: right;\n",
       "    }\n",
       "</style>\n",
       "<table border=\"1\" class=\"dataframe\">\n",
       "  <thead>\n",
       "    <tr style=\"text-align: right;\">\n",
       "      <th></th>\n",
       "      <th>year</th>\n",
       "      <th>state</th>\n",
       "      <th>state_po</th>\n",
       "      <th>state_fips</th>\n",
       "      <th>state_cen</th>\n",
       "      <th>state_ic</th>\n",
       "      <th>office</th>\n",
       "      <th>candidate</th>\n",
       "      <th>party_detailed</th>\n",
       "      <th>writein</th>\n",
       "      <th>candidatevotes</th>\n",
       "      <th>totalvotes</th>\n",
       "      <th>version</th>\n",
       "      <th>notes</th>\n",
       "      <th>party_simplified</th>\n",
       "    </tr>\n",
       "  </thead>\n",
       "  <tbody>\n",
       "    <tr>\n",
       "      <th>0</th>\n",
       "      <td>1976</td>\n",
       "      <td>ALABAMA</td>\n",
       "      <td>AL</td>\n",
       "      <td>1</td>\n",
       "      <td>63</td>\n",
       "      <td>41</td>\n",
       "      <td>US PRESIDENT</td>\n",
       "      <td>CARTER, JIMMY</td>\n",
       "      <td>DEMOCRAT</td>\n",
       "      <td>False</td>\n",
       "      <td>659170</td>\n",
       "      <td>1182850</td>\n",
       "      <td>20210113</td>\n",
       "      <td>NaN</td>\n",
       "      <td>DEMOCRAT</td>\n",
       "    </tr>\n",
       "    <tr>\n",
       "      <th>1</th>\n",
       "      <td>1976</td>\n",
       "      <td>ALABAMA</td>\n",
       "      <td>AL</td>\n",
       "      <td>1</td>\n",
       "      <td>63</td>\n",
       "      <td>41</td>\n",
       "      <td>US PRESIDENT</td>\n",
       "      <td>FORD, GERALD</td>\n",
       "      <td>REPUBLICAN</td>\n",
       "      <td>False</td>\n",
       "      <td>504070</td>\n",
       "      <td>1182850</td>\n",
       "      <td>20210113</td>\n",
       "      <td>NaN</td>\n",
       "      <td>REPUBLICAN</td>\n",
       "    </tr>\n",
       "    <tr>\n",
       "      <th>2</th>\n",
       "      <td>1976</td>\n",
       "      <td>ALABAMA</td>\n",
       "      <td>AL</td>\n",
       "      <td>1</td>\n",
       "      <td>63</td>\n",
       "      <td>41</td>\n",
       "      <td>US PRESIDENT</td>\n",
       "      <td>MADDOX, LESTER</td>\n",
       "      <td>AMERICAN INDEPENDENT PARTY</td>\n",
       "      <td>False</td>\n",
       "      <td>9198</td>\n",
       "      <td>1182850</td>\n",
       "      <td>20210113</td>\n",
       "      <td>NaN</td>\n",
       "      <td>OTHER</td>\n",
       "    </tr>\n",
       "    <tr>\n",
       "      <th>3</th>\n",
       "      <td>1976</td>\n",
       "      <td>ALABAMA</td>\n",
       "      <td>AL</td>\n",
       "      <td>1</td>\n",
       "      <td>63</td>\n",
       "      <td>41</td>\n",
       "      <td>US PRESIDENT</td>\n",
       "      <td>BUBAR, BENJAMIN \"\"BEN\"\"</td>\n",
       "      <td>PROHIBITION</td>\n",
       "      <td>False</td>\n",
       "      <td>6669</td>\n",
       "      <td>1182850</td>\n",
       "      <td>20210113</td>\n",
       "      <td>NaN</td>\n",
       "      <td>OTHER</td>\n",
       "    </tr>\n",
       "    <tr>\n",
       "      <th>4</th>\n",
       "      <td>1976</td>\n",
       "      <td>ALABAMA</td>\n",
       "      <td>AL</td>\n",
       "      <td>1</td>\n",
       "      <td>63</td>\n",
       "      <td>41</td>\n",
       "      <td>US PRESIDENT</td>\n",
       "      <td>HALL, GUS</td>\n",
       "      <td>COMMUNIST PARTY USE</td>\n",
       "      <td>False</td>\n",
       "      <td>1954</td>\n",
       "      <td>1182850</td>\n",
       "      <td>20210113</td>\n",
       "      <td>NaN</td>\n",
       "      <td>OTHER</td>\n",
       "    </tr>\n",
       "  </tbody>\n",
       "</table>\n",
       "</div>"
      ],
      "text/plain": [
       "   year    state state_po  state_fips  state_cen  state_ic        office  \\\n",
       "0  1976  ALABAMA       AL           1         63        41  US PRESIDENT   \n",
       "1  1976  ALABAMA       AL           1         63        41  US PRESIDENT   \n",
       "2  1976  ALABAMA       AL           1         63        41  US PRESIDENT   \n",
       "3  1976  ALABAMA       AL           1         63        41  US PRESIDENT   \n",
       "4  1976  ALABAMA       AL           1         63        41  US PRESIDENT   \n",
       "\n",
       "                 candidate              party_detailed writein  \\\n",
       "0            CARTER, JIMMY                    DEMOCRAT   False   \n",
       "1             FORD, GERALD                  REPUBLICAN   False   \n",
       "2           MADDOX, LESTER  AMERICAN INDEPENDENT PARTY   False   \n",
       "3  BUBAR, BENJAMIN \"\"BEN\"\"                 PROHIBITION   False   \n",
       "4                HALL, GUS         COMMUNIST PARTY USE   False   \n",
       "\n",
       "   candidatevotes  totalvotes   version  notes party_simplified  \n",
       "0          659170     1182850  20210113    NaN         DEMOCRAT  \n",
       "1          504070     1182850  20210113    NaN       REPUBLICAN  \n",
       "2            9198     1182850  20210113    NaN            OTHER  \n",
       "3            6669     1182850  20210113    NaN            OTHER  \n",
       "4            1954     1182850  20210113    NaN            OTHER  "
      ]
     },
     "execution_count": 2,
     "metadata": {},
     "output_type": "execute_result"
    }
   ],
   "source": [
    "# import dataset\n",
    "\n",
    "df = pd.read_csv('data/1976-2020-president.csv')\n",
    "df.head()"
   ]
  },
  {
   "cell_type": "markdown",
   "metadata": {},
   "source": [
    "##### Exploratory analysis\n",
    "\n",
    "[Project Master Document](https://docs.google.com/document/d/1gahC29lp4TdxrA2PnUVGcLdlwcdKvBaaSxkmxr35FZE/edit?usp=sharing})\n",
    "\n",
    "Focus:\n",
    "Incorporate economic indicators (make new variables or merge with external datasets)\n",
    "- Analyze political preference over time against economic cycles\n",
    "    - (e.g. inflation, peaks/troughs, mark the 2007-8 economic crisis, 9/11) for noteworthy trends/graphs/stats\n"
   ]
  },
  {
   "cell_type": "code",
   "execution_count": 42,
   "metadata": {},
   "outputs": [],
   "source": [
    "# useful data structures\n",
    "\n",
    "months = ['Jan', 'Feb', 'Mar', 'Apr', 'May', 'Jun', 'Jul', 'Aug', 'Sep', 'Oct',\\\n",
    "    'Nov', 'Dec']\n",
    "\n",
    "elecYears = [str(_) for _ in df['year'].unique()]\n",
    "\n",
    "# top 5 swing states by population\n",
    "top5swing = ['florida', 'pennsylvania', 'ohio', 'michigan', 'north carolina']"
   ]
  },
  {
   "cell_type": "code",
   "execution_count": 4,
   "metadata": {},
   "outputs": [],
   "source": [
    "# useful functions\n",
    "\n",
    "# scrollable\n",
    "pd.set_option(\"display.max_columns\", None)\n",
    "\n",
    "def showAll(status=True):\n",
    "    if status:\n",
    "        pd.set_option(\"display.max_rows\", None)\n",
    "    else:\n",
    "        pd.set_option(\"display.max_rows\", 10)"
   ]
  },
  {
   "cell_type": "code",
   "execution_count": 5,
   "metadata": {},
   "outputs": [
    {
     "data": {
      "text/plain": [
       "year                  int64\n",
       "state                object\n",
       "state_po             object\n",
       "state_fips            int64\n",
       "state_cen             int64\n",
       "state_ic              int64\n",
       "office               object\n",
       "candidate            object\n",
       "party_detailed       object\n",
       "writein              object\n",
       "candidatevotes        int64\n",
       "totalvotes            int64\n",
       "version               int64\n",
       "notes               float64\n",
       "party_simplified     object\n",
       "dtype: object"
      ]
     },
     "execution_count": 5,
     "metadata": {},
     "output_type": "execute_result"
    }
   ],
   "source": [
    "df.dtypes"
   ]
  },
  {
   "cell_type": "code",
   "execution_count": 6,
   "metadata": {},
   "outputs": [],
   "source": [
    "# import economic datasets\n",
    "\n",
    "cpia = pd.read_excel('data/cpi/cpi-all-items.xlsx', header=11) \n",
    "cpig = pd.read_excel('data/cpi/cpi-gasoline.xlsx', header=11)\n",
    "cpih = pd.read_excel('data/cpi/cpi-housing.xlsx', header=11)\n",
    "cpim = pd.read_excel('data/cpi/cpi-medical-care.xlsx', header=11)"
   ]
  },
  {
   "cell_type": "code",
   "execution_count": 7,
   "metadata": {},
   "outputs": [
    {
     "name": "stdout",
     "output_type": "stream",
     "text": [
      "['US PRESIDENT']\n",
      "\n",
      "False    3807\n",
      "True      477\n",
      "Name: writein, dtype: int64\n",
      "\n",
      "OTHER          2524\n",
      "DEMOCRAT        615\n",
      "REPUBLICAN      613\n",
      "LIBERTARIAN     535\n",
      "Name: party_simplified, dtype: int64\n",
      "\n",
      "Series([], Name: notes, dtype: int64)\n"
     ]
    }
   ],
   "source": [
    "# sanity check\n",
    "print(df['office'].unique())\n",
    "print()\n",
    "print(df['writein'].value_counts())\n",
    "print()\n",
    "print(df['party_simplified'].value_counts())\n",
    "print()\n",
    "print(df['notes'].value_counts())"
   ]
  },
  {
   "cell_type": "code",
   "execution_count": 8,
   "metadata": {},
   "outputs": [],
   "source": [
    "df.drop(columns={'state_po', 'state_fips', 'state_cen', 'state_ic', 'office', \\\n",
    "    'party_detailed', 'version', 'notes'}, inplace=True)\n",
    "\n",
    "df.rename(columns={'party_simplified': 'party'}, inplace=True)\n",
    "\n",
    "for col in df.columns:\n",
    "    if isinstance(df[col][0], str):\n",
    "        df[col] = df[col].str.lower()"
   ]
  },
  {
   "cell_type": "code",
   "execution_count": 9,
   "metadata": {},
   "outputs": [
    {
     "data": {
      "text/html": [
       "<div>\n",
       "<style scoped>\n",
       "    .dataframe tbody tr th:only-of-type {\n",
       "        vertical-align: middle;\n",
       "    }\n",
       "\n",
       "    .dataframe tbody tr th {\n",
       "        vertical-align: top;\n",
       "    }\n",
       "\n",
       "    .dataframe thead th {\n",
       "        text-align: right;\n",
       "    }\n",
       "</style>\n",
       "<table border=\"1\" class=\"dataframe\">\n",
       "  <thead>\n",
       "    <tr style=\"text-align: right;\">\n",
       "      <th></th>\n",
       "      <th>year</th>\n",
       "      <th>state</th>\n",
       "      <th>candidate</th>\n",
       "      <th>writein</th>\n",
       "      <th>candidatevotes</th>\n",
       "      <th>totalvotes</th>\n",
       "      <th>party</th>\n",
       "    </tr>\n",
       "  </thead>\n",
       "  <tbody>\n",
       "    <tr>\n",
       "      <th>0</th>\n",
       "      <td>1976</td>\n",
       "      <td>alabama</td>\n",
       "      <td>carter, jimmy</td>\n",
       "      <td>False</td>\n",
       "      <td>659170</td>\n",
       "      <td>1182850</td>\n",
       "      <td>democrat</td>\n",
       "    </tr>\n",
       "    <tr>\n",
       "      <th>1</th>\n",
       "      <td>1976</td>\n",
       "      <td>alabama</td>\n",
       "      <td>ford, gerald</td>\n",
       "      <td>False</td>\n",
       "      <td>504070</td>\n",
       "      <td>1182850</td>\n",
       "      <td>republican</td>\n",
       "    </tr>\n",
       "    <tr>\n",
       "      <th>2</th>\n",
       "      <td>1976</td>\n",
       "      <td>alabama</td>\n",
       "      <td>maddox, lester</td>\n",
       "      <td>False</td>\n",
       "      <td>9198</td>\n",
       "      <td>1182850</td>\n",
       "      <td>other</td>\n",
       "    </tr>\n",
       "  </tbody>\n",
       "</table>\n",
       "</div>"
      ],
      "text/plain": [
       "   year    state       candidate writein  candidatevotes  totalvotes  \\\n",
       "0  1976  alabama   carter, jimmy   False          659170     1182850   \n",
       "1  1976  alabama    ford, gerald   False          504070     1182850   \n",
       "2  1976  alabama  maddox, lester   False            9198     1182850   \n",
       "\n",
       "        party  \n",
       "0    democrat  \n",
       "1  republican  \n",
       "2       other  "
      ]
     },
     "execution_count": 9,
     "metadata": {},
     "output_type": "execute_result"
    }
   ],
   "source": [
    "df.head(3)"
   ]
  },
  {
   "cell_type": "code",
   "execution_count": 10,
   "metadata": {},
   "outputs": [
    {
     "data": {
      "text/html": [
       "<div>\n",
       "<style scoped>\n",
       "    .dataframe tbody tr th:only-of-type {\n",
       "        vertical-align: middle;\n",
       "    }\n",
       "\n",
       "    .dataframe tbody tr th {\n",
       "        vertical-align: top;\n",
       "    }\n",
       "\n",
       "    .dataframe thead th {\n",
       "        text-align: right;\n",
       "    }\n",
       "</style>\n",
       "<table border=\"1\" class=\"dataframe\">\n",
       "  <thead>\n",
       "    <tr style=\"text-align: right;\">\n",
       "      <th></th>\n",
       "      <th>Year</th>\n",
       "      <th>Jan</th>\n",
       "      <th>Feb</th>\n",
       "      <th>Mar</th>\n",
       "      <th>Apr</th>\n",
       "      <th>May</th>\n",
       "      <th>Jun</th>\n",
       "      <th>Jul</th>\n",
       "      <th>Aug</th>\n",
       "      <th>Sep</th>\n",
       "      <th>Oct</th>\n",
       "      <th>Nov</th>\n",
       "      <th>Dec</th>\n",
       "      <th>HALF1</th>\n",
       "      <th>HALF2</th>\n",
       "    </tr>\n",
       "  </thead>\n",
       "  <tbody>\n",
       "    <tr>\n",
       "      <th>0</th>\n",
       "      <td>1976.0</td>\n",
       "      <td>55.6</td>\n",
       "      <td>55.8</td>\n",
       "      <td>55.9</td>\n",
       "      <td>56.1</td>\n",
       "      <td>56.5</td>\n",
       "      <td>56.8</td>\n",
       "      <td>57.1</td>\n",
       "      <td>57.4</td>\n",
       "      <td>57.6</td>\n",
       "      <td>57.9</td>\n",
       "      <td>58.0</td>\n",
       "      <td>58.2</td>\n",
       "      <td>NaN</td>\n",
       "      <td>NaN</td>\n",
       "    </tr>\n",
       "    <tr>\n",
       "      <th>1</th>\n",
       "      <td>1977.0</td>\n",
       "      <td>58.5</td>\n",
       "      <td>59.1</td>\n",
       "      <td>59.5</td>\n",
       "      <td>60.0</td>\n",
       "      <td>60.3</td>\n",
       "      <td>60.7</td>\n",
       "      <td>61.0</td>\n",
       "      <td>61.2</td>\n",
       "      <td>61.4</td>\n",
       "      <td>61.6</td>\n",
       "      <td>61.9</td>\n",
       "      <td>62.1</td>\n",
       "      <td>NaN</td>\n",
       "      <td>NaN</td>\n",
       "    </tr>\n",
       "    <tr>\n",
       "      <th>2</th>\n",
       "      <td>1978.0</td>\n",
       "      <td>62.5</td>\n",
       "      <td>62.9</td>\n",
       "      <td>63.4</td>\n",
       "      <td>63.9</td>\n",
       "      <td>64.5</td>\n",
       "      <td>65.2</td>\n",
       "      <td>65.7</td>\n",
       "      <td>66.0</td>\n",
       "      <td>66.5</td>\n",
       "      <td>67.1</td>\n",
       "      <td>67.4</td>\n",
       "      <td>67.7</td>\n",
       "      <td>NaN</td>\n",
       "      <td>NaN</td>\n",
       "    </tr>\n",
       "  </tbody>\n",
       "</table>\n",
       "</div>"
      ],
      "text/plain": [
       "     Year   Jan   Feb   Mar   Apr   May   Jun   Jul   Aug   Sep   Oct   Nov  \\\n",
       "0  1976.0  55.6  55.8  55.9  56.1  56.5  56.8  57.1  57.4  57.6  57.9  58.0   \n",
       "1  1977.0  58.5  59.1  59.5  60.0  60.3  60.7  61.0  61.2  61.4  61.6  61.9   \n",
       "2  1978.0  62.5  62.9  63.4  63.9  64.5  65.2  65.7  66.0  66.5  67.1  67.4   \n",
       "\n",
       "    Dec  HALF1  HALF2  \n",
       "0  58.2    NaN    NaN  \n",
       "1  62.1    NaN    NaN  \n",
       "2  67.7    NaN    NaN  "
      ]
     },
     "execution_count": 10,
     "metadata": {},
     "output_type": "execute_result"
    }
   ],
   "source": [
    "cpia.head(3)"
   ]
  },
  {
   "cell_type": "code",
   "execution_count": 11,
   "metadata": {},
   "outputs": [
    {
     "data": {
      "text/html": [
       "<div>\n",
       "<style scoped>\n",
       "    .dataframe tbody tr th:only-of-type {\n",
       "        vertical-align: middle;\n",
       "    }\n",
       "\n",
       "    .dataframe tbody tr th {\n",
       "        vertical-align: top;\n",
       "    }\n",
       "\n",
       "    .dataframe thead th {\n",
       "        text-align: right;\n",
       "    }\n",
       "</style>\n",
       "<table border=\"1\" class=\"dataframe\">\n",
       "  <thead>\n",
       "    <tr style=\"text-align: right;\">\n",
       "      <th></th>\n",
       "      <th></th>\n",
       "      <th>candidatevotes</th>\n",
       "      <th>totalvotes</th>\n",
       "      <th>support</th>\n",
       "    </tr>\n",
       "    <tr>\n",
       "      <th>year</th>\n",
       "      <th>party</th>\n",
       "      <th></th>\n",
       "      <th></th>\n",
       "      <th></th>\n",
       "    </tr>\n",
       "  </thead>\n",
       "  <tbody>\n",
       "    <tr>\n",
       "      <th rowspan=\"4\" valign=\"top\">1976</th>\n",
       "      <th>democrat</th>\n",
       "      <td>40680446</td>\n",
       "      <td>81601344</td>\n",
       "      <td>0.499</td>\n",
       "    </tr>\n",
       "    <tr>\n",
       "      <th>libertarian</th>\n",
       "      <td>95626</td>\n",
       "      <td>37855605</td>\n",
       "      <td>0.003</td>\n",
       "    </tr>\n",
       "    <tr>\n",
       "      <th>other</th>\n",
       "      <td>1954379</td>\n",
       "      <td>404885771</td>\n",
       "      <td>0.005</td>\n",
       "    </tr>\n",
       "    <tr>\n",
       "      <th>republican</th>\n",
       "      <td>38870893</td>\n",
       "      <td>81601344</td>\n",
       "      <td>0.476</td>\n",
       "    </tr>\n",
       "    <tr>\n",
       "      <th>1980</th>\n",
       "      <th>democrat</th>\n",
       "      <td>35480948</td>\n",
       "      <td>86496851</td>\n",
       "      <td>0.410</td>\n",
       "    </tr>\n",
       "  </tbody>\n",
       "</table>\n",
       "</div>"
      ],
      "text/plain": [
       "                  candidatevotes  totalvotes  support\n",
       "year party                                           \n",
       "1976 democrat           40680446    81601344    0.499\n",
       "     libertarian           95626    37855605    0.003\n",
       "     other               1954379   404885771    0.005\n",
       "     republican         38870893    81601344    0.476\n",
       "1980 democrat           35480948    86496851    0.410"
      ]
     },
     "execution_count": 11,
     "metadata": {},
     "output_type": "execute_result"
    }
   ],
   "source": [
    "# get party support percentages by year\n",
    "\n",
    "# add a column showing supporting percentage for each party each election year\n",
    "# pp ~ party preference\n",
    "pp = df.groupby(['year', 'party'])[['candidatevotes', 'totalvotes']].sum()\n",
    "pp['support'] = np.round(pp['candidatevotes'] / pp['totalvotes'], 3)\n",
    "pp.head()"
   ]
  },
  {
   "cell_type": "code",
   "execution_count": 12,
   "metadata": {},
   "outputs": [
    {
     "data": {
      "text/html": [
       "<div>\n",
       "<style scoped>\n",
       "    .dataframe tbody tr th:only-of-type {\n",
       "        vertical-align: middle;\n",
       "    }\n",
       "\n",
       "    .dataframe tbody tr th {\n",
       "        vertical-align: top;\n",
       "    }\n",
       "\n",
       "    .dataframe thead th {\n",
       "        text-align: right;\n",
       "    }\n",
       "</style>\n",
       "<table border=\"1\" class=\"dataframe\">\n",
       "  <thead>\n",
       "    <tr style=\"text-align: right;\">\n",
       "      <th></th>\n",
       "      <th>Year</th>\n",
       "      <th>Jan</th>\n",
       "      <th>Feb</th>\n",
       "      <th>Mar</th>\n",
       "      <th>Apr</th>\n",
       "      <th>May</th>\n",
       "      <th>Jun</th>\n",
       "      <th>Jul</th>\n",
       "      <th>Aug</th>\n",
       "      <th>Sep</th>\n",
       "      <th>Oct</th>\n",
       "      <th>Nov</th>\n",
       "      <th>Dec</th>\n",
       "      <th>HALF1</th>\n",
       "      <th>HALF2</th>\n",
       "    </tr>\n",
       "  </thead>\n",
       "  <tbody>\n",
       "    <tr>\n",
       "      <th>0</th>\n",
       "      <td>1976.0</td>\n",
       "      <td>55.6</td>\n",
       "      <td>55.8</td>\n",
       "      <td>55.9</td>\n",
       "      <td>56.1</td>\n",
       "      <td>56.5</td>\n",
       "      <td>56.8</td>\n",
       "      <td>57.1</td>\n",
       "      <td>57.4</td>\n",
       "      <td>57.6</td>\n",
       "      <td>57.9</td>\n",
       "      <td>58.0</td>\n",
       "      <td>58.2</td>\n",
       "      <td>NaN</td>\n",
       "      <td>NaN</td>\n",
       "    </tr>\n",
       "    <tr>\n",
       "      <th>1</th>\n",
       "      <td>1977.0</td>\n",
       "      <td>58.5</td>\n",
       "      <td>59.1</td>\n",
       "      <td>59.5</td>\n",
       "      <td>60.0</td>\n",
       "      <td>60.3</td>\n",
       "      <td>60.7</td>\n",
       "      <td>61.0</td>\n",
       "      <td>61.2</td>\n",
       "      <td>61.4</td>\n",
       "      <td>61.6</td>\n",
       "      <td>61.9</td>\n",
       "      <td>62.1</td>\n",
       "      <td>NaN</td>\n",
       "      <td>NaN</td>\n",
       "    </tr>\n",
       "    <tr>\n",
       "      <th>2</th>\n",
       "      <td>1978.0</td>\n",
       "      <td>62.5</td>\n",
       "      <td>62.9</td>\n",
       "      <td>63.4</td>\n",
       "      <td>63.9</td>\n",
       "      <td>64.5</td>\n",
       "      <td>65.2</td>\n",
       "      <td>65.7</td>\n",
       "      <td>66.0</td>\n",
       "      <td>66.5</td>\n",
       "      <td>67.1</td>\n",
       "      <td>67.4</td>\n",
       "      <td>67.7</td>\n",
       "      <td>NaN</td>\n",
       "      <td>NaN</td>\n",
       "    </tr>\n",
       "    <tr>\n",
       "      <th>3</th>\n",
       "      <td>1979.0</td>\n",
       "      <td>68.3</td>\n",
       "      <td>69.1</td>\n",
       "      <td>69.8</td>\n",
       "      <td>70.6</td>\n",
       "      <td>71.5</td>\n",
       "      <td>72.3</td>\n",
       "      <td>73.1</td>\n",
       "      <td>73.8</td>\n",
       "      <td>74.6</td>\n",
       "      <td>75.2</td>\n",
       "      <td>75.9</td>\n",
       "      <td>76.7</td>\n",
       "      <td>NaN</td>\n",
       "      <td>NaN</td>\n",
       "    </tr>\n",
       "    <tr>\n",
       "      <th>4</th>\n",
       "      <td>1980.0</td>\n",
       "      <td>77.8</td>\n",
       "      <td>78.9</td>\n",
       "      <td>80.1</td>\n",
       "      <td>81.0</td>\n",
       "      <td>81.8</td>\n",
       "      <td>82.7</td>\n",
       "      <td>82.7</td>\n",
       "      <td>83.3</td>\n",
       "      <td>84.0</td>\n",
       "      <td>84.8</td>\n",
       "      <td>85.5</td>\n",
       "      <td>86.3</td>\n",
       "      <td>NaN</td>\n",
       "      <td>NaN</td>\n",
       "    </tr>\n",
       "  </tbody>\n",
       "</table>\n",
       "</div>"
      ],
      "text/plain": [
       "     Year   Jan   Feb   Mar   Apr   May   Jun   Jul   Aug   Sep   Oct   Nov  \\\n",
       "0  1976.0  55.6  55.8  55.9  56.1  56.5  56.8  57.1  57.4  57.6  57.9  58.0   \n",
       "1  1977.0  58.5  59.1  59.5  60.0  60.3  60.7  61.0  61.2  61.4  61.6  61.9   \n",
       "2  1978.0  62.5  62.9  63.4  63.9  64.5  65.2  65.7  66.0  66.5  67.1  67.4   \n",
       "3  1979.0  68.3  69.1  69.8  70.6  71.5  72.3  73.1  73.8  74.6  75.2  75.9   \n",
       "4  1980.0  77.8  78.9  80.1  81.0  81.8  82.7  82.7  83.3  84.0  84.8  85.5   \n",
       "\n",
       "    Dec  HALF1  HALF2  \n",
       "0  58.2    NaN    NaN  \n",
       "1  62.1    NaN    NaN  \n",
       "2  67.7    NaN    NaN  \n",
       "3  76.7    NaN    NaN  \n",
       "4  86.3    NaN    NaN  "
      ]
     },
     "execution_count": 12,
     "metadata": {},
     "output_type": "execute_result"
    }
   ],
   "source": [
    "cpia.head()"
   ]
  },
  {
   "cell_type": "code",
   "execution_count": 13,
   "metadata": {},
   "outputs": [
    {
     "data": {
      "text/plain": [
       "'1976'"
      ]
     },
     "execution_count": 13,
     "metadata": {},
     "output_type": "execute_result"
    }
   ],
   "source": [
    "str(cpia['Year'][0])[:-2]"
   ]
  },
  {
   "cell_type": "code",
   "execution_count": 14,
   "metadata": {},
   "outputs": [],
   "source": [
    "def getAvgCPI(df):\n",
    "    \n",
    "    \"\"\" \n",
    "        Get average CPI per year\n",
    "\n",
    "    \"\"\" \n",
    "\n",
    "    output = df.drop(columns={'HALF1', 'HALF2'})\n",
    "    output.set_index('Year', drop=True, inplace=True)\n",
    "    output = output.T.apply(np.mean, axis=0)\n",
    "    output = pd.DataFrame(data=output)\n",
    "    output.reset_index(inplace=True)\n",
    "    output['Year'] = [str(_)[:-2] for _ in output['Year']]\n",
    "    output.rename(columns={0:'cpi'}, inplace=True)\n",
    "    \n",
    "    return output[output['Year'].isin(elecYears)]"
   ]
  },
  {
   "cell_type": "code",
   "execution_count": 15,
   "metadata": {},
   "outputs": [
    {
     "data": {
      "text/html": [
       "<div>\n",
       "<style scoped>\n",
       "    .dataframe tbody tr th:only-of-type {\n",
       "        vertical-align: middle;\n",
       "    }\n",
       "\n",
       "    .dataframe tbody tr th {\n",
       "        vertical-align: top;\n",
       "    }\n",
       "\n",
       "    .dataframe thead th {\n",
       "        text-align: right;\n",
       "    }\n",
       "</style>\n",
       "<table border=\"1\" class=\"dataframe\">\n",
       "  <thead>\n",
       "    <tr style=\"text-align: right;\">\n",
       "      <th></th>\n",
       "      <th>Year</th>\n",
       "      <th>cpi</th>\n",
       "    </tr>\n",
       "  </thead>\n",
       "  <tbody>\n",
       "    <tr>\n",
       "      <th>0</th>\n",
       "      <td>1976</td>\n",
       "      <td>56.908333</td>\n",
       "    </tr>\n",
       "    <tr>\n",
       "      <th>4</th>\n",
       "      <td>1980</td>\n",
       "      <td>82.408333</td>\n",
       "    </tr>\n",
       "    <tr>\n",
       "      <th>8</th>\n",
       "      <td>1984</td>\n",
       "      <td>103.883333</td>\n",
       "    </tr>\n",
       "    <tr>\n",
       "      <th>12</th>\n",
       "      <td>1988</td>\n",
       "      <td>118.258333</td>\n",
       "    </tr>\n",
       "    <tr>\n",
       "      <th>16</th>\n",
       "      <td>1992</td>\n",
       "      <td>140.316667</td>\n",
       "    </tr>\n",
       "  </tbody>\n",
       "</table>\n",
       "</div>"
      ],
      "text/plain": [
       "    Year         cpi\n",
       "0   1976   56.908333\n",
       "4   1980   82.408333\n",
       "8   1984  103.883333\n",
       "12  1988  118.258333\n",
       "16  1992  140.316667"
      ]
     },
     "execution_count": 15,
     "metadata": {},
     "output_type": "execute_result"
    }
   ],
   "source": [
    "cpiaNew = getAvgCPI(cpia)\n",
    "cpiaNew.head()"
   ]
  },
  {
   "cell_type": "code",
   "execution_count": 16,
   "metadata": {},
   "outputs": [
    {
     "data": {
      "text/html": [
       "<div>\n",
       "<style scoped>\n",
       "    .dataframe tbody tr th:only-of-type {\n",
       "        vertical-align: middle;\n",
       "    }\n",
       "\n",
       "    .dataframe tbody tr th {\n",
       "        vertical-align: top;\n",
       "    }\n",
       "\n",
       "    .dataframe thead th {\n",
       "        text-align: right;\n",
       "    }\n",
       "</style>\n",
       "<table border=\"1\" class=\"dataframe\">\n",
       "  <thead>\n",
       "    <tr style=\"text-align: right;\">\n",
       "      <th></th>\n",
       "      <th></th>\n",
       "      <th>candidatevotes</th>\n",
       "      <th>totalvotes</th>\n",
       "      <th>support</th>\n",
       "    </tr>\n",
       "    <tr>\n",
       "      <th>year</th>\n",
       "      <th>party</th>\n",
       "      <th></th>\n",
       "      <th></th>\n",
       "      <th></th>\n",
       "    </tr>\n",
       "  </thead>\n",
       "  <tbody>\n",
       "    <tr>\n",
       "      <th rowspan=\"4\" valign=\"top\">1976</th>\n",
       "      <th>democrat</th>\n",
       "      <td>40680446</td>\n",
       "      <td>81601344</td>\n",
       "      <td>0.499</td>\n",
       "    </tr>\n",
       "    <tr>\n",
       "      <th>libertarian</th>\n",
       "      <td>95626</td>\n",
       "      <td>37855605</td>\n",
       "      <td>0.003</td>\n",
       "    </tr>\n",
       "    <tr>\n",
       "      <th>other</th>\n",
       "      <td>1954379</td>\n",
       "      <td>404885771</td>\n",
       "      <td>0.005</td>\n",
       "    </tr>\n",
       "    <tr>\n",
       "      <th>republican</th>\n",
       "      <td>38870893</td>\n",
       "      <td>81601344</td>\n",
       "      <td>0.476</td>\n",
       "    </tr>\n",
       "    <tr>\n",
       "      <th>1980</th>\n",
       "      <th>democrat</th>\n",
       "      <td>35480948</td>\n",
       "      <td>86496851</td>\n",
       "      <td>0.410</td>\n",
       "    </tr>\n",
       "  </tbody>\n",
       "</table>\n",
       "</div>"
      ],
      "text/plain": [
       "                  candidatevotes  totalvotes  support\n",
       "year party                                           \n",
       "1976 democrat           40680446    81601344    0.499\n",
       "     libertarian           95626    37855605    0.003\n",
       "     other               1954379   404885771    0.005\n",
       "     republican         38870893    81601344    0.476\n",
       "1980 democrat           35480948    86496851    0.410"
      ]
     },
     "execution_count": 16,
     "metadata": {},
     "output_type": "execute_result"
    }
   ],
   "source": [
    "pp.head(5)"
   ]
  },
  {
   "cell_type": "code",
   "execution_count": 17,
   "metadata": {},
   "outputs": [
    {
     "data": {
      "text/html": [
       "<div>\n",
       "<style scoped>\n",
       "    .dataframe tbody tr th:only-of-type {\n",
       "        vertical-align: middle;\n",
       "    }\n",
       "\n",
       "    .dataframe tbody tr th {\n",
       "        vertical-align: top;\n",
       "    }\n",
       "\n",
       "    .dataframe thead th {\n",
       "        text-align: right;\n",
       "    }\n",
       "</style>\n",
       "<table border=\"1\" class=\"dataframe\">\n",
       "  <thead>\n",
       "    <tr style=\"text-align: right;\">\n",
       "      <th></th>\n",
       "      <th>candidatevotes</th>\n",
       "      <th>totalvotes</th>\n",
       "      <th>support</th>\n",
       "    </tr>\n",
       "    <tr>\n",
       "      <th>party</th>\n",
       "      <th></th>\n",
       "      <th></th>\n",
       "      <th></th>\n",
       "    </tr>\n",
       "  </thead>\n",
       "  <tbody>\n",
       "    <tr>\n",
       "      <th>democrat</th>\n",
       "      <td>37449813</td>\n",
       "      <td>92654861</td>\n",
       "      <td>0.404</td>\n",
       "    </tr>\n",
       "    <tr>\n",
       "      <th>libertarian</th>\n",
       "      <td>227204</td>\n",
       "      <td>68802822</td>\n",
       "      <td>0.003</td>\n",
       "    </tr>\n",
       "    <tr>\n",
       "      <th>other</th>\n",
       "      <td>811015</td>\n",
       "      <td>355824312</td>\n",
       "      <td>0.002</td>\n",
       "    </tr>\n",
       "    <tr>\n",
       "      <th>republican</th>\n",
       "      <td>54166829</td>\n",
       "      <td>92654861</td>\n",
       "      <td>0.585</td>\n",
       "    </tr>\n",
       "  </tbody>\n",
       "</table>\n",
       "</div>"
      ],
      "text/plain": [
       "             candidatevotes  totalvotes  support\n",
       "party                                           \n",
       "democrat           37449813    92654861    0.404\n",
       "libertarian          227204    68802822    0.003\n",
       "other                811015   355824312    0.002\n",
       "republican         54166829    92654861    0.585"
      ]
     },
     "execution_count": 17,
     "metadata": {},
     "output_type": "execute_result"
    }
   ],
   "source": [
    "# sanity check\n",
    "pp.loc[1984]"
   ]
  },
  {
   "cell_type": "code",
   "execution_count": 18,
   "metadata": {},
   "outputs": [],
   "source": [
    "# Merge cpi data with elections data (pp)\n",
    "\n",
    "def mergeCPI(cpiData, elecData):\n",
    "    \n",
    "    # merge dem data\n",
    "    mergeDem = lambda row: elecData.loc[int(row['Year'])].loc['democrat']['support']\n",
    "    cpiData['democrat support'] = cpiData.apply(mergeDem, axis=1)\n",
    "\n",
    "    # merge rep data\n",
    "    mergeRep = lambda row: elecData.loc[int(row['Year'])].loc['republican']['support']\n",
    "    cpiData['republican support'] = cpiData.apply(mergeRep, axis=1)\n",
    "\n",
    "    # merge lib data\n",
    "    mergeLib = lambda row: elecData.loc[int(row['Year'])].loc['libertarian']['support']\n",
    "    cpiData['libertarian support'] = cpiData.apply(mergeLib, axis=1)\n",
    "\n",
    "    # merge other data\n",
    "    mergeOther = lambda row: elecData.loc[int(row['Year'])].loc['other']['support']\n",
    "    cpiData['other support'] = cpiData.apply(mergeOther, axis=1)\n",
    "\n",
    "    return None"
   ]
  },
  {
   "cell_type": "code",
   "execution_count": 19,
   "metadata": {},
   "outputs": [],
   "source": [
    "mergeCPI(cpiaNew, pp)"
   ]
  },
  {
   "cell_type": "code",
   "execution_count": 20,
   "metadata": {},
   "outputs": [
    {
     "data": {
      "text/plain": [
       "0     0.983\n",
       "4     0.942\n",
       "8     0.994\n",
       "12    0.994\n",
       "16    0.847\n",
       "20    0.923\n",
       "24    0.970\n",
       "28    0.984\n",
       "32    0.989\n",
       "36    0.993\n",
       "40    0.951\n",
       "44    0.994\n",
       "dtype: float64"
      ]
     },
     "execution_count": 20,
     "metadata": {},
     "output_type": "execute_result"
    }
   ],
   "source": [
    "# sanity check\n",
    "cpiaNew[[_ for _ in cpiaNew.columns if 'support' in _]].sum(axis=1)"
   ]
  },
  {
   "cell_type": "code",
   "execution_count": 21,
   "metadata": {},
   "outputs": [
    {
     "data": {
      "text/html": [
       "<div>\n",
       "<style scoped>\n",
       "    .dataframe tbody tr th:only-of-type {\n",
       "        vertical-align: middle;\n",
       "    }\n",
       "\n",
       "    .dataframe tbody tr th {\n",
       "        vertical-align: top;\n",
       "    }\n",
       "\n",
       "    .dataframe thead th {\n",
       "        text-align: right;\n",
       "    }\n",
       "</style>\n",
       "<table border=\"1\" class=\"dataframe\">\n",
       "  <thead>\n",
       "    <tr style=\"text-align: right;\">\n",
       "      <th></th>\n",
       "      <th>Year</th>\n",
       "      <th>cpi</th>\n",
       "      <th>democrat support</th>\n",
       "      <th>republican support</th>\n",
       "      <th>libertarian support</th>\n",
       "      <th>other support</th>\n",
       "    </tr>\n",
       "  </thead>\n",
       "  <tbody>\n",
       "    <tr>\n",
       "      <th>0</th>\n",
       "      <td>1976</td>\n",
       "      <td>56.908333</td>\n",
       "      <td>0.499</td>\n",
       "      <td>0.476</td>\n",
       "      <td>0.003</td>\n",
       "      <td>0.005</td>\n",
       "    </tr>\n",
       "    <tr>\n",
       "      <th>4</th>\n",
       "      <td>1980</td>\n",
       "      <td>82.408333</td>\n",
       "      <td>0.410</td>\n",
       "      <td>0.505</td>\n",
       "      <td>0.011</td>\n",
       "      <td>0.016</td>\n",
       "    </tr>\n",
       "    <tr>\n",
       "      <th>8</th>\n",
       "      <td>1984</td>\n",
       "      <td>103.883333</td>\n",
       "      <td>0.404</td>\n",
       "      <td>0.585</td>\n",
       "      <td>0.003</td>\n",
       "      <td>0.002</td>\n",
       "    </tr>\n",
       "    <tr>\n",
       "      <th>12</th>\n",
       "      <td>1988</td>\n",
       "      <td>118.258333</td>\n",
       "      <td>0.455</td>\n",
       "      <td>0.531</td>\n",
       "      <td>0.005</td>\n",
       "      <td>0.003</td>\n",
       "    </tr>\n",
       "    <tr>\n",
       "      <th>16</th>\n",
       "      <td>1992</td>\n",
       "      <td>140.316667</td>\n",
       "      <td>0.429</td>\n",
       "      <td>0.371</td>\n",
       "      <td>0.003</td>\n",
       "      <td>0.044</td>\n",
       "    </tr>\n",
       "    <tr>\n",
       "      <th>20</th>\n",
       "      <td>1996</td>\n",
       "      <td>156.850000</td>\n",
       "      <td>0.491</td>\n",
       "      <td>0.405</td>\n",
       "      <td>0.005</td>\n",
       "      <td>0.022</td>\n",
       "    </tr>\n",
       "    <tr>\n",
       "      <th>24</th>\n",
       "      <td>2000</td>\n",
       "      <td>172.200000</td>\n",
       "      <td>0.481</td>\n",
       "      <td>0.476</td>\n",
       "      <td>0.004</td>\n",
       "      <td>0.009</td>\n",
       "    </tr>\n",
       "    <tr>\n",
       "      <th>28</th>\n",
       "      <td>2004</td>\n",
       "      <td>188.883333</td>\n",
       "      <td>0.472</td>\n",
       "      <td>0.506</td>\n",
       "      <td>0.003</td>\n",
       "      <td>0.003</td>\n",
       "    </tr>\n",
       "    <tr>\n",
       "      <th>32</th>\n",
       "      <td>2008</td>\n",
       "      <td>215.302500</td>\n",
       "      <td>0.528</td>\n",
       "      <td>0.454</td>\n",
       "      <td>0.004</td>\n",
       "      <td>0.003</td>\n",
       "    </tr>\n",
       "    <tr>\n",
       "      <th>36</th>\n",
       "      <td>2012</td>\n",
       "      <td>229.593917</td>\n",
       "      <td>0.509</td>\n",
       "      <td>0.470</td>\n",
       "      <td>0.011</td>\n",
       "      <td>0.003</td>\n",
       "    </tr>\n",
       "    <tr>\n",
       "      <th>40</th>\n",
       "      <td>2016</td>\n",
       "      <td>240.007167</td>\n",
       "      <td>0.462</td>\n",
       "      <td>0.449</td>\n",
       "      <td>0.032</td>\n",
       "      <td>0.008</td>\n",
       "    </tr>\n",
       "    <tr>\n",
       "      <th>44</th>\n",
       "      <td>2020</td>\n",
       "      <td>258.811167</td>\n",
       "      <td>0.513</td>\n",
       "      <td>0.468</td>\n",
       "      <td>0.012</td>\n",
       "      <td>0.001</td>\n",
       "    </tr>\n",
       "  </tbody>\n",
       "</table>\n",
       "</div>"
      ],
      "text/plain": [
       "    Year         cpi  democrat support  republican support  \\\n",
       "0   1976   56.908333             0.499               0.476   \n",
       "4   1980   82.408333             0.410               0.505   \n",
       "8   1984  103.883333             0.404               0.585   \n",
       "12  1988  118.258333             0.455               0.531   \n",
       "16  1992  140.316667             0.429               0.371   \n",
       "20  1996  156.850000             0.491               0.405   \n",
       "24  2000  172.200000             0.481               0.476   \n",
       "28  2004  188.883333             0.472               0.506   \n",
       "32  2008  215.302500             0.528               0.454   \n",
       "36  2012  229.593917             0.509               0.470   \n",
       "40  2016  240.007167             0.462               0.449   \n",
       "44  2020  258.811167             0.513               0.468   \n",
       "\n",
       "    libertarian support  other support  \n",
       "0                 0.003          0.005  \n",
       "4                 0.011          0.016  \n",
       "8                 0.003          0.002  \n",
       "12                0.005          0.003  \n",
       "16                0.003          0.044  \n",
       "20                0.005          0.022  \n",
       "24                0.004          0.009  \n",
       "28                0.003          0.003  \n",
       "32                0.004          0.003  \n",
       "36                0.011          0.003  \n",
       "40                0.032          0.008  \n",
       "44                0.012          0.001  "
      ]
     },
     "execution_count": 21,
     "metadata": {},
     "output_type": "execute_result"
    }
   ],
   "source": [
    "cpiaNew"
   ]
  },
  {
   "cell_type": "code",
   "execution_count": 22,
   "metadata": {},
   "outputs": [],
   "source": [
    "# merge with other forms of cpi\n",
    "\n",
    "dfPlot1 = cpiaNew.copy()\n",
    "dfPlot1['cpig'] = getAvgCPI(cpig)['cpi'] \n",
    "dfPlot1['cpih'] = getAvgCPI(cpih)['cpi'] \n",
    "dfPlot1['cpim'] = getAvgCPI(cpim)['cpi'] "
   ]
  },
  {
   "cell_type": "code",
   "execution_count": 23,
   "metadata": {},
   "outputs": [],
   "source": [
    "# get party majority support\n",
    "\n",
    "repTurnouts = []\n",
    "\n",
    "for year in elecYears:\n",
    "    dem = df[(df['year'] == int(year)) & (df['party'].isin(['democrat', 'republican']))].groupby(['party', 'state'])['candidatevotes'].sum()['democrat']\n",
    "    rep = df[(df['year'] ==  int(year)) & (df['party'].isin(['democrat', 'republican']))].groupby(['party', 'state'])['candidatevotes'].sum()['republican']\n",
    "    repTurnouts.append(np.mean(rep.reset_index()['candidatevotes'] > dem.reset_index()['candidatevotes']))\n",
    "\n",
    "dfPlot1['republican turnout'] = repTurnouts\n",
    "dfPlot1['democrat turnout'] = 1 - dfPlot1['republican turnout']"
   ]
  },
  {
   "cell_type": "code",
   "execution_count": 24,
   "metadata": {},
   "outputs": [
    {
     "data": {
      "text/html": [
       "<div>\n",
       "<style scoped>\n",
       "    .dataframe tbody tr th:only-of-type {\n",
       "        vertical-align: middle;\n",
       "    }\n",
       "\n",
       "    .dataframe tbody tr th {\n",
       "        vertical-align: top;\n",
       "    }\n",
       "\n",
       "    .dataframe thead th {\n",
       "        text-align: right;\n",
       "    }\n",
       "</style>\n",
       "<table border=\"1\" class=\"dataframe\">\n",
       "  <thead>\n",
       "    <tr style=\"text-align: right;\">\n",
       "      <th></th>\n",
       "      <th>Year</th>\n",
       "      <th>cpi</th>\n",
       "      <th>democrat support</th>\n",
       "      <th>republican support</th>\n",
       "      <th>libertarian support</th>\n",
       "      <th>other support</th>\n",
       "      <th>cpig</th>\n",
       "      <th>cpih</th>\n",
       "      <th>cpim</th>\n",
       "      <th>republican turnout</th>\n",
       "      <th>democrat turnout</th>\n",
       "    </tr>\n",
       "  </thead>\n",
       "  <tbody>\n",
       "    <tr>\n",
       "      <th>0</th>\n",
       "      <td>1976</td>\n",
       "      <td>56.908333</td>\n",
       "      <td>0.499</td>\n",
       "      <td>0.476</td>\n",
       "      <td>0.003</td>\n",
       "      <td>0.005</td>\n",
       "      <td>46.991667</td>\n",
       "      <td>53.758333</td>\n",
       "      <td>51.991667</td>\n",
       "      <td>0.529412</td>\n",
       "      <td>0.470588</td>\n",
       "    </tr>\n",
       "    <tr>\n",
       "      <th>4</th>\n",
       "      <td>1980</td>\n",
       "      <td>82.408333</td>\n",
       "      <td>0.410</td>\n",
       "      <td>0.505</td>\n",
       "      <td>0.011</td>\n",
       "      <td>0.016</td>\n",
       "      <td>97.516667</td>\n",
       "      <td>81.058333</td>\n",
       "      <td>74.875000</td>\n",
       "      <td>0.843137</td>\n",
       "      <td>0.156863</td>\n",
       "    </tr>\n",
       "    <tr>\n",
       "      <th>8</th>\n",
       "      <td>1984</td>\n",
       "      <td>103.883333</td>\n",
       "      <td>0.404</td>\n",
       "      <td>0.585</td>\n",
       "      <td>0.003</td>\n",
       "      <td>0.002</td>\n",
       "      <td>97.766667</td>\n",
       "      <td>103.616667</td>\n",
       "      <td>106.858333</td>\n",
       "      <td>0.960784</td>\n",
       "      <td>0.039216</td>\n",
       "    </tr>\n",
       "    <tr>\n",
       "      <th>12</th>\n",
       "      <td>1988</td>\n",
       "      <td>118.258333</td>\n",
       "      <td>0.455</td>\n",
       "      <td>0.531</td>\n",
       "      <td>0.005</td>\n",
       "      <td>0.003</td>\n",
       "      <td>80.800000</td>\n",
       "      <td>118.491667</td>\n",
       "      <td>138.641667</td>\n",
       "      <td>0.784314</td>\n",
       "      <td>0.215686</td>\n",
       "    </tr>\n",
       "    <tr>\n",
       "      <th>16</th>\n",
       "      <td>1992</td>\n",
       "      <td>140.316667</td>\n",
       "      <td>0.429</td>\n",
       "      <td>0.371</td>\n",
       "      <td>0.003</td>\n",
       "      <td>0.044</td>\n",
       "      <td>98.975000</td>\n",
       "      <td>137.508333</td>\n",
       "      <td>190.066667</td>\n",
       "      <td>0.352941</td>\n",
       "      <td>0.647059</td>\n",
       "    </tr>\n",
       "    <tr>\n",
       "      <th>20</th>\n",
       "      <td>1996</td>\n",
       "      <td>156.850000</td>\n",
       "      <td>0.491</td>\n",
       "      <td>0.405</td>\n",
       "      <td>0.005</td>\n",
       "      <td>0.022</td>\n",
       "      <td>105.866667</td>\n",
       "      <td>152.783333</td>\n",
       "      <td>228.225000</td>\n",
       "      <td>0.372549</td>\n",
       "      <td>0.627451</td>\n",
       "    </tr>\n",
       "    <tr>\n",
       "      <th>24</th>\n",
       "      <td>2000</td>\n",
       "      <td>172.200000</td>\n",
       "      <td>0.481</td>\n",
       "      <td>0.476</td>\n",
       "      <td>0.004</td>\n",
       "      <td>0.009</td>\n",
       "      <td>128.566667</td>\n",
       "      <td>169.550000</td>\n",
       "      <td>260.750000</td>\n",
       "      <td>0.588235</td>\n",
       "      <td>0.411765</td>\n",
       "    </tr>\n",
       "    <tr>\n",
       "      <th>28</th>\n",
       "      <td>2004</td>\n",
       "      <td>188.883333</td>\n",
       "      <td>0.472</td>\n",
       "      <td>0.506</td>\n",
       "      <td>0.003</td>\n",
       "      <td>0.003</td>\n",
       "      <td>159.666667</td>\n",
       "      <td>189.533333</td>\n",
       "      <td>310.133333</td>\n",
       "      <td>0.607843</td>\n",
       "      <td>0.392157</td>\n",
       "    </tr>\n",
       "    <tr>\n",
       "      <th>32</th>\n",
       "      <td>2008</td>\n",
       "      <td>215.302500</td>\n",
       "      <td>0.528</td>\n",
       "      <td>0.454</td>\n",
       "      <td>0.004</td>\n",
       "      <td>0.003</td>\n",
       "      <td>277.456667</td>\n",
       "      <td>216.263667</td>\n",
       "      <td>364.064833</td>\n",
       "      <td>0.431373</td>\n",
       "      <td>0.568627</td>\n",
       "    </tr>\n",
       "    <tr>\n",
       "      <th>36</th>\n",
       "      <td>2012</td>\n",
       "      <td>229.593917</td>\n",
       "      <td>0.509</td>\n",
       "      <td>0.470</td>\n",
       "      <td>0.011</td>\n",
       "      <td>0.003</td>\n",
       "      <td>311.469750</td>\n",
       "      <td>222.715250</td>\n",
       "      <td>414.923917</td>\n",
       "      <td>0.470588</td>\n",
       "      <td>0.529412</td>\n",
       "    </tr>\n",
       "    <tr>\n",
       "      <th>40</th>\n",
       "      <td>2016</td>\n",
       "      <td>240.007167</td>\n",
       "      <td>0.462</td>\n",
       "      <td>0.449</td>\n",
       "      <td>0.032</td>\n",
       "      <td>0.008</td>\n",
       "      <td>187.601917</td>\n",
       "      <td>243.972500</td>\n",
       "      <td>463.674667</td>\n",
       "      <td>0.588235</td>\n",
       "      <td>0.411765</td>\n",
       "    </tr>\n",
       "    <tr>\n",
       "      <th>44</th>\n",
       "      <td>2020</td>\n",
       "      <td>258.811167</td>\n",
       "      <td>0.513</td>\n",
       "      <td>0.468</td>\n",
       "      <td>0.012</td>\n",
       "      <td>0.001</td>\n",
       "      <td>194.129500</td>\n",
       "      <td>271.772917</td>\n",
       "      <td>518.875500</td>\n",
       "      <td>0.490196</td>\n",
       "      <td>0.509804</td>\n",
       "    </tr>\n",
       "  </tbody>\n",
       "</table>\n",
       "</div>"
      ],
      "text/plain": [
       "    Year         cpi  democrat support  republican support  \\\n",
       "0   1976   56.908333             0.499               0.476   \n",
       "4   1980   82.408333             0.410               0.505   \n",
       "8   1984  103.883333             0.404               0.585   \n",
       "12  1988  118.258333             0.455               0.531   \n",
       "16  1992  140.316667             0.429               0.371   \n",
       "20  1996  156.850000             0.491               0.405   \n",
       "24  2000  172.200000             0.481               0.476   \n",
       "28  2004  188.883333             0.472               0.506   \n",
       "32  2008  215.302500             0.528               0.454   \n",
       "36  2012  229.593917             0.509               0.470   \n",
       "40  2016  240.007167             0.462               0.449   \n",
       "44  2020  258.811167             0.513               0.468   \n",
       "\n",
       "    libertarian support  other support        cpig        cpih        cpim  \\\n",
       "0                 0.003          0.005   46.991667   53.758333   51.991667   \n",
       "4                 0.011          0.016   97.516667   81.058333   74.875000   \n",
       "8                 0.003          0.002   97.766667  103.616667  106.858333   \n",
       "12                0.005          0.003   80.800000  118.491667  138.641667   \n",
       "16                0.003          0.044   98.975000  137.508333  190.066667   \n",
       "20                0.005          0.022  105.866667  152.783333  228.225000   \n",
       "24                0.004          0.009  128.566667  169.550000  260.750000   \n",
       "28                0.003          0.003  159.666667  189.533333  310.133333   \n",
       "32                0.004          0.003  277.456667  216.263667  364.064833   \n",
       "36                0.011          0.003  311.469750  222.715250  414.923917   \n",
       "40                0.032          0.008  187.601917  243.972500  463.674667   \n",
       "44                0.012          0.001  194.129500  271.772917  518.875500   \n",
       "\n",
       "    republican turnout  democrat turnout  \n",
       "0             0.529412          0.470588  \n",
       "4             0.843137          0.156863  \n",
       "8             0.960784          0.039216  \n",
       "12            0.784314          0.215686  \n",
       "16            0.352941          0.647059  \n",
       "20            0.372549          0.627451  \n",
       "24            0.588235          0.411765  \n",
       "28            0.607843          0.392157  \n",
       "32            0.431373          0.568627  \n",
       "36            0.470588          0.529412  \n",
       "40            0.588235          0.411765  \n",
       "44            0.490196          0.509804  "
      ]
     },
     "execution_count": 24,
     "metadata": {},
     "output_type": "execute_result"
    }
   ],
   "source": [
    "dfPlot1"
   ]
  },
  {
   "cell_type": "code",
   "execution_count": 25,
   "metadata": {},
   "outputs": [
    {
     "data": {
      "application/vnd.plotly.v1+json": {
       "config": {
        "plotlyServerURL": "https://plot.ly"
       },
       "data": [
        {
         "line": {
          "color": "gray"
         },
         "name": "cpi - all items",
         "type": "scatter",
         "x": [
          "1976",
          "1980",
          "1984",
          "1988",
          "1992",
          "1996",
          "2000",
          "2004",
          "2008",
          "2012",
          "2016",
          "2020"
         ],
         "xaxis": "x",
         "y": [
          56.90833333333334,
          82.40833333333332,
          103.88333333333333,
          118.25833333333333,
          140.31666666666666,
          156.84999999999997,
          172.19999999999996,
          188.88333333333335,
          215.3025,
          229.5939166666667,
          240.00716666666665,
          258.8111666666667
         ],
         "yaxis": "y"
        },
        {
         "line": {
          "color": "orange",
          "dash": "dot"
         },
         "name": "cpi - gasoline",
         "type": "scatter",
         "x": [
          "1976",
          "1980",
          "1984",
          "1988",
          "1992",
          "1996",
          "2000",
          "2004",
          "2008",
          "2012",
          "2016",
          "2020"
         ],
         "xaxis": "x",
         "y": [
          46.99166666666667,
          97.51666666666665,
          97.76666666666665,
          80.8,
          98.97499999999998,
          105.86666666666667,
          128.56666666666666,
          159.66666666666669,
          277.45666666666665,
          311.46975000000003,
          187.60191666666665,
          194.1295
         ],
         "yaxis": "y"
        },
        {
         "line": {
          "color": "orange"
         },
         "mode": "lines",
         "name": "cpi - medical care",
         "type": "scatter",
         "x": [
          "1976",
          "1980",
          "1984",
          "1988",
          "1992",
          "1996",
          "2000",
          "2004",
          "2008",
          "2012",
          "2016",
          "2020"
         ],
         "xaxis": "x",
         "y": [
          51.99166666666667,
          74.87499999999999,
          106.85833333333333,
          138.64166666666668,
          190.06666666666663,
          228.225,
          260.75,
          310.1333333333334,
          364.06483333333335,
          414.9239166666668,
          463.67466666666655,
          518.8755
         ],
         "yaxis": "y"
        },
        {
         "line": {
          "color": "rgb(0,174,243)"
         },
         "mode": "lines",
         "name": "democrat support",
         "type": "scatter",
         "x": [
          "1976",
          "1980",
          "1984",
          "1988",
          "1992",
          "1996",
          "2000",
          "2004",
          "2008",
          "2012",
          "2016",
          "2020"
         ],
         "xaxis": "x",
         "y": [
          0.499,
          0.41,
          0.404,
          0.455,
          0.429,
          0.491,
          0.481,
          0.472,
          0.528,
          0.509,
          0.462,
          0.513
         ],
         "yaxis": "y2"
        },
        {
         "line": {
          "color": "rgb(232,27,35)"
         },
         "mode": "lines",
         "name": "republican support",
         "type": "scatter",
         "x": [
          "1976",
          "1980",
          "1984",
          "1988",
          "1992",
          "1996",
          "2000",
          "2004",
          "2008",
          "2012",
          "2016",
          "2020"
         ],
         "xaxis": "x",
         "y": [
          0.476,
          0.505,
          0.585,
          0.531,
          0.371,
          0.405,
          0.476,
          0.506,
          0.454,
          0.47,
          0.449,
          0.468
         ],
         "yaxis": "y2"
        },
        {
         "line": {
          "color": "rgb(0,174,243)",
          "dash": "dash"
         },
         "name": "democrat turnout",
         "type": "scatter",
         "x": [
          "1976",
          "1980",
          "1984",
          "1988",
          "1992",
          "1996",
          "2000",
          "2004",
          "2008",
          "2012",
          "2016",
          "2020"
         ],
         "xaxis": "x",
         "y": [
          0.47058823529411764,
          0.1568627450980392,
          0.039215686274509776,
          0.21568627450980393,
          0.6470588235294117,
          0.6274509803921569,
          0.4117647058823529,
          0.3921568627450981,
          0.5686274509803921,
          0.5294117647058824,
          0.4117647058823529,
          0.5098039215686274
         ],
         "yaxis": "y2"
        },
        {
         "line": {
          "color": "rgb(232,27,35)",
          "dash": "dash"
         },
         "name": "republican turnout",
         "type": "scatter",
         "x": [
          "1976",
          "1980",
          "1984",
          "1988",
          "1992",
          "1996",
          "2000",
          "2004",
          "2008",
          "2012",
          "2016",
          "2020"
         ],
         "xaxis": "x",
         "y": [
          0.5294117647058824,
          0.8431372549019608,
          0.9607843137254902,
          0.7843137254901961,
          0.35294117647058826,
          0.37254901960784315,
          0.5882352941176471,
          0.6078431372549019,
          0.43137254901960786,
          0.47058823529411764,
          0.5882352941176471,
          0.49019607843137253
         ],
         "yaxis": "y2"
        }
       ],
       "layout": {
        "paper_bgcolor": "rgba(0, 0, 0, 0)",
        "plot_bgcolor": "rgba(1, 1, 1, 0.05)",
        "template": {
         "data": {
          "bar": [
           {
            "error_x": {
             "color": "#2a3f5f"
            },
            "error_y": {
             "color": "#2a3f5f"
            },
            "marker": {
             "line": {
              "color": "#E5ECF6",
              "width": 0.5
             },
             "pattern": {
              "fillmode": "overlay",
              "size": 10,
              "solidity": 0.2
             }
            },
            "type": "bar"
           }
          ],
          "barpolar": [
           {
            "marker": {
             "line": {
              "color": "#E5ECF6",
              "width": 0.5
             },
             "pattern": {
              "fillmode": "overlay",
              "size": 10,
              "solidity": 0.2
             }
            },
            "type": "barpolar"
           }
          ],
          "carpet": [
           {
            "aaxis": {
             "endlinecolor": "#2a3f5f",
             "gridcolor": "white",
             "linecolor": "white",
             "minorgridcolor": "white",
             "startlinecolor": "#2a3f5f"
            },
            "baxis": {
             "endlinecolor": "#2a3f5f",
             "gridcolor": "white",
             "linecolor": "white",
             "minorgridcolor": "white",
             "startlinecolor": "#2a3f5f"
            },
            "type": "carpet"
           }
          ],
          "choropleth": [
           {
            "colorbar": {
             "outlinewidth": 0,
             "ticks": ""
            },
            "type": "choropleth"
           }
          ],
          "contour": [
           {
            "colorbar": {
             "outlinewidth": 0,
             "ticks": ""
            },
            "colorscale": [
             [
              0,
              "#0d0887"
             ],
             [
              0.1111111111111111,
              "#46039f"
             ],
             [
              0.2222222222222222,
              "#7201a8"
             ],
             [
              0.3333333333333333,
              "#9c179e"
             ],
             [
              0.4444444444444444,
              "#bd3786"
             ],
             [
              0.5555555555555556,
              "#d8576b"
             ],
             [
              0.6666666666666666,
              "#ed7953"
             ],
             [
              0.7777777777777778,
              "#fb9f3a"
             ],
             [
              0.8888888888888888,
              "#fdca26"
             ],
             [
              1,
              "#f0f921"
             ]
            ],
            "type": "contour"
           }
          ],
          "contourcarpet": [
           {
            "colorbar": {
             "outlinewidth": 0,
             "ticks": ""
            },
            "type": "contourcarpet"
           }
          ],
          "heatmap": [
           {
            "colorbar": {
             "outlinewidth": 0,
             "ticks": ""
            },
            "colorscale": [
             [
              0,
              "#0d0887"
             ],
             [
              0.1111111111111111,
              "#46039f"
             ],
             [
              0.2222222222222222,
              "#7201a8"
             ],
             [
              0.3333333333333333,
              "#9c179e"
             ],
             [
              0.4444444444444444,
              "#bd3786"
             ],
             [
              0.5555555555555556,
              "#d8576b"
             ],
             [
              0.6666666666666666,
              "#ed7953"
             ],
             [
              0.7777777777777778,
              "#fb9f3a"
             ],
             [
              0.8888888888888888,
              "#fdca26"
             ],
             [
              1,
              "#f0f921"
             ]
            ],
            "type": "heatmap"
           }
          ],
          "heatmapgl": [
           {
            "colorbar": {
             "outlinewidth": 0,
             "ticks": ""
            },
            "colorscale": [
             [
              0,
              "#0d0887"
             ],
             [
              0.1111111111111111,
              "#46039f"
             ],
             [
              0.2222222222222222,
              "#7201a8"
             ],
             [
              0.3333333333333333,
              "#9c179e"
             ],
             [
              0.4444444444444444,
              "#bd3786"
             ],
             [
              0.5555555555555556,
              "#d8576b"
             ],
             [
              0.6666666666666666,
              "#ed7953"
             ],
             [
              0.7777777777777778,
              "#fb9f3a"
             ],
             [
              0.8888888888888888,
              "#fdca26"
             ],
             [
              1,
              "#f0f921"
             ]
            ],
            "type": "heatmapgl"
           }
          ],
          "histogram": [
           {
            "marker": {
             "pattern": {
              "fillmode": "overlay",
              "size": 10,
              "solidity": 0.2
             }
            },
            "type": "histogram"
           }
          ],
          "histogram2d": [
           {
            "colorbar": {
             "outlinewidth": 0,
             "ticks": ""
            },
            "colorscale": [
             [
              0,
              "#0d0887"
             ],
             [
              0.1111111111111111,
              "#46039f"
             ],
             [
              0.2222222222222222,
              "#7201a8"
             ],
             [
              0.3333333333333333,
              "#9c179e"
             ],
             [
              0.4444444444444444,
              "#bd3786"
             ],
             [
              0.5555555555555556,
              "#d8576b"
             ],
             [
              0.6666666666666666,
              "#ed7953"
             ],
             [
              0.7777777777777778,
              "#fb9f3a"
             ],
             [
              0.8888888888888888,
              "#fdca26"
             ],
             [
              1,
              "#f0f921"
             ]
            ],
            "type": "histogram2d"
           }
          ],
          "histogram2dcontour": [
           {
            "colorbar": {
             "outlinewidth": 0,
             "ticks": ""
            },
            "colorscale": [
             [
              0,
              "#0d0887"
             ],
             [
              0.1111111111111111,
              "#46039f"
             ],
             [
              0.2222222222222222,
              "#7201a8"
             ],
             [
              0.3333333333333333,
              "#9c179e"
             ],
             [
              0.4444444444444444,
              "#bd3786"
             ],
             [
              0.5555555555555556,
              "#d8576b"
             ],
             [
              0.6666666666666666,
              "#ed7953"
             ],
             [
              0.7777777777777778,
              "#fb9f3a"
             ],
             [
              0.8888888888888888,
              "#fdca26"
             ],
             [
              1,
              "#f0f921"
             ]
            ],
            "type": "histogram2dcontour"
           }
          ],
          "mesh3d": [
           {
            "colorbar": {
             "outlinewidth": 0,
             "ticks": ""
            },
            "type": "mesh3d"
           }
          ],
          "parcoords": [
           {
            "line": {
             "colorbar": {
              "outlinewidth": 0,
              "ticks": ""
             }
            },
            "type": "parcoords"
           }
          ],
          "pie": [
           {
            "automargin": true,
            "type": "pie"
           }
          ],
          "scatter": [
           {
            "fillpattern": {
             "fillmode": "overlay",
             "size": 10,
             "solidity": 0.2
            },
            "type": "scatter"
           }
          ],
          "scatter3d": [
           {
            "line": {
             "colorbar": {
              "outlinewidth": 0,
              "ticks": ""
             }
            },
            "marker": {
             "colorbar": {
              "outlinewidth": 0,
              "ticks": ""
             }
            },
            "type": "scatter3d"
           }
          ],
          "scattercarpet": [
           {
            "marker": {
             "colorbar": {
              "outlinewidth": 0,
              "ticks": ""
             }
            },
            "type": "scattercarpet"
           }
          ],
          "scattergeo": [
           {
            "marker": {
             "colorbar": {
              "outlinewidth": 0,
              "ticks": ""
             }
            },
            "type": "scattergeo"
           }
          ],
          "scattergl": [
           {
            "marker": {
             "colorbar": {
              "outlinewidth": 0,
              "ticks": ""
             }
            },
            "type": "scattergl"
           }
          ],
          "scattermapbox": [
           {
            "marker": {
             "colorbar": {
              "outlinewidth": 0,
              "ticks": ""
             }
            },
            "type": "scattermapbox"
           }
          ],
          "scatterpolar": [
           {
            "marker": {
             "colorbar": {
              "outlinewidth": 0,
              "ticks": ""
             }
            },
            "type": "scatterpolar"
           }
          ],
          "scatterpolargl": [
           {
            "marker": {
             "colorbar": {
              "outlinewidth": 0,
              "ticks": ""
             }
            },
            "type": "scatterpolargl"
           }
          ],
          "scatterternary": [
           {
            "marker": {
             "colorbar": {
              "outlinewidth": 0,
              "ticks": ""
             }
            },
            "type": "scatterternary"
           }
          ],
          "surface": [
           {
            "colorbar": {
             "outlinewidth": 0,
             "ticks": ""
            },
            "colorscale": [
             [
              0,
              "#0d0887"
             ],
             [
              0.1111111111111111,
              "#46039f"
             ],
             [
              0.2222222222222222,
              "#7201a8"
             ],
             [
              0.3333333333333333,
              "#9c179e"
             ],
             [
              0.4444444444444444,
              "#bd3786"
             ],
             [
              0.5555555555555556,
              "#d8576b"
             ],
             [
              0.6666666666666666,
              "#ed7953"
             ],
             [
              0.7777777777777778,
              "#fb9f3a"
             ],
             [
              0.8888888888888888,
              "#fdca26"
             ],
             [
              1,
              "#f0f921"
             ]
            ],
            "type": "surface"
           }
          ],
          "table": [
           {
            "cells": {
             "fill": {
              "color": "#EBF0F8"
             },
             "line": {
              "color": "white"
             }
            },
            "header": {
             "fill": {
              "color": "#C8D4E3"
             },
             "line": {
              "color": "white"
             }
            },
            "type": "table"
           }
          ]
         },
         "layout": {
          "annotationdefaults": {
           "arrowcolor": "#2a3f5f",
           "arrowhead": 0,
           "arrowwidth": 1
          },
          "autotypenumbers": "strict",
          "coloraxis": {
           "colorbar": {
            "outlinewidth": 0,
            "ticks": ""
           }
          },
          "colorscale": {
           "diverging": [
            [
             0,
             "#8e0152"
            ],
            [
             0.1,
             "#c51b7d"
            ],
            [
             0.2,
             "#de77ae"
            ],
            [
             0.3,
             "#f1b6da"
            ],
            [
             0.4,
             "#fde0ef"
            ],
            [
             0.5,
             "#f7f7f7"
            ],
            [
             0.6,
             "#e6f5d0"
            ],
            [
             0.7,
             "#b8e186"
            ],
            [
             0.8,
             "#7fbc41"
            ],
            [
             0.9,
             "#4d9221"
            ],
            [
             1,
             "#276419"
            ]
           ],
           "sequential": [
            [
             0,
             "#0d0887"
            ],
            [
             0.1111111111111111,
             "#46039f"
            ],
            [
             0.2222222222222222,
             "#7201a8"
            ],
            [
             0.3333333333333333,
             "#9c179e"
            ],
            [
             0.4444444444444444,
             "#bd3786"
            ],
            [
             0.5555555555555556,
             "#d8576b"
            ],
            [
             0.6666666666666666,
             "#ed7953"
            ],
            [
             0.7777777777777778,
             "#fb9f3a"
            ],
            [
             0.8888888888888888,
             "#fdca26"
            ],
            [
             1,
             "#f0f921"
            ]
           ],
           "sequentialminus": [
            [
             0,
             "#0d0887"
            ],
            [
             0.1111111111111111,
             "#46039f"
            ],
            [
             0.2222222222222222,
             "#7201a8"
            ],
            [
             0.3333333333333333,
             "#9c179e"
            ],
            [
             0.4444444444444444,
             "#bd3786"
            ],
            [
             0.5555555555555556,
             "#d8576b"
            ],
            [
             0.6666666666666666,
             "#ed7953"
            ],
            [
             0.7777777777777778,
             "#fb9f3a"
            ],
            [
             0.8888888888888888,
             "#fdca26"
            ],
            [
             1,
             "#f0f921"
            ]
           ]
          },
          "colorway": [
           "#636efa",
           "#EF553B",
           "#00cc96",
           "#ab63fa",
           "#FFA15A",
           "#19d3f3",
           "#FF6692",
           "#B6E880",
           "#FF97FF",
           "#FECB52"
          ],
          "font": {
           "color": "#2a3f5f"
          },
          "geo": {
           "bgcolor": "white",
           "lakecolor": "white",
           "landcolor": "#E5ECF6",
           "showlakes": true,
           "showland": true,
           "subunitcolor": "white"
          },
          "hoverlabel": {
           "align": "left"
          },
          "hovermode": "closest",
          "mapbox": {
           "style": "light"
          },
          "paper_bgcolor": "white",
          "plot_bgcolor": "#E5ECF6",
          "polar": {
           "angularaxis": {
            "gridcolor": "white",
            "linecolor": "white",
            "ticks": ""
           },
           "bgcolor": "#E5ECF6",
           "radialaxis": {
            "gridcolor": "white",
            "linecolor": "white",
            "ticks": ""
           }
          },
          "scene": {
           "xaxis": {
            "backgroundcolor": "#E5ECF6",
            "gridcolor": "white",
            "gridwidth": 2,
            "linecolor": "white",
            "showbackground": true,
            "ticks": "",
            "zerolinecolor": "white"
           },
           "yaxis": {
            "backgroundcolor": "#E5ECF6",
            "gridcolor": "white",
            "gridwidth": 2,
            "linecolor": "white",
            "showbackground": true,
            "ticks": "",
            "zerolinecolor": "white"
           },
           "zaxis": {
            "backgroundcolor": "#E5ECF6",
            "gridcolor": "white",
            "gridwidth": 2,
            "linecolor": "white",
            "showbackground": true,
            "ticks": "",
            "zerolinecolor": "white"
           }
          },
          "shapedefaults": {
           "line": {
            "color": "#2a3f5f"
           }
          },
          "ternary": {
           "aaxis": {
            "gridcolor": "white",
            "linecolor": "white",
            "ticks": ""
           },
           "baxis": {
            "gridcolor": "white",
            "linecolor": "white",
            "ticks": ""
           },
           "bgcolor": "#E5ECF6",
           "caxis": {
            "gridcolor": "white",
            "linecolor": "white",
            "ticks": ""
           }
          },
          "title": {
           "x": 0.05
          },
          "xaxis": {
           "automargin": true,
           "gridcolor": "white",
           "linecolor": "white",
           "ticks": "",
           "title": {
            "standoff": 15
           },
           "zerolinecolor": "white",
           "zerolinewidth": 2
          },
          "yaxis": {
           "automargin": true,
           "gridcolor": "white",
           "linecolor": "white",
           "ticks": "",
           "title": {
            "standoff": 15
           },
           "zerolinecolor": "white",
           "zerolinewidth": 2
          }
         }
        },
        "title": {
         "text": "CPI and party preference over time"
        },
        "xaxis": {
         "anchor": "y",
         "domain": [
          0,
          0.94
         ],
         "title": {
          "text": "election year"
         }
        },
        "yaxis": {
         "anchor": "x",
         "domain": [
          0,
          1
         ],
         "title": {
          "text": "cpi"
         }
        },
        "yaxis2": {
         "anchor": "x",
         "overlaying": "y",
         "side": "right",
         "title": {
          "text": "support %"
         }
        }
       }
      }
     },
     "metadata": {},
     "output_type": "display_data"
    }
   ],
   "source": [
    "# Plot cpi-all-items against political preference over time\n",
    "\n",
    "fig1 = make_subplots(specs=[[{'secondary_y': True}]])\n",
    "\n",
    "fig1.add_trace(go.Scatter(\n",
    "    x=dfPlot1['Year'],\n",
    "    y=dfPlot1['cpi'],\n",
    "    name='cpi - all items',\n",
    "    line=dict(color='gray')),\n",
    "    secondary_y=False,\n",
    ")\n",
    "\n",
    "fig1.add_trace(go.Scatter(\n",
    "    x=dfPlot1['Year'],\n",
    "    y=dfPlot1['cpig'],\n",
    "    name='cpi - gasoline',\n",
    "    line=dict(color='orange', dash='dot')),\n",
    "    secondary_y=False,\n",
    ")\n",
    "\n",
    "# fig1.add_trace(go.Scatter(\n",
    "#     x=dfPlot1['Year'],\n",
    "#     y=dfPlot1['cpih'],\n",
    "#     name='cpi - housing',\n",
    "#     line=dict(color='black', dash='dash')),\n",
    "#     secondary_y=False,\n",
    "# )\n",
    "\n",
    "fig1.add_trace(go.Scatter(\n",
    "    x=dfPlot1['Year'],\n",
    "    y=dfPlot1['cpim'],\n",
    "    name='cpi - medical care',\n",
    "    mode='lines',\n",
    "    line=dict(color='orange')),\n",
    "    secondary_y=False,\n",
    ")\n",
    "\n",
    "fig1.add_trace(go.Scatter(\n",
    "    x=dfPlot1['Year'],\n",
    "    y=dfPlot1['democrat support'],\n",
    "    name='democrat support',\n",
    "    mode='lines',\n",
    "    line=dict(color='rgb(0,174,243)')),\n",
    "    secondary_y=True,\n",
    ")\n",
    "\n",
    "fig1.add_trace(go.Scatter(\n",
    "    x=dfPlot1['Year'],\n",
    "    y=dfPlot1['republican support'],\n",
    "    name='republican support',\n",
    "    mode='lines',\n",
    "    line=dict(color='rgb(232,27,35)')),\n",
    "    secondary_y=True,\n",
    ")\n",
    "\n",
    "# fig1.add_trace(go.Scatter(\n",
    "#     x=dfPlot1['Year'],\n",
    "#     y=dfPlot1['libertarian support'],\n",
    "#     name='libertarian support',\n",
    "#     line=dict(color='gold')),\n",
    "#     secondary_y=True,\n",
    "# )\n",
    "\n",
    "fig1.add_trace(go.Scatter(\n",
    "    x=dfPlot1['Year'],\n",
    "    y=dfPlot1['democrat turnout'],\n",
    "    name='democrat turnout',\n",
    "    line=dict(color='rgb(0,174,243)', dash='dash')),\n",
    "    secondary_y=True,\n",
    ")\n",
    "\n",
    "fig1.add_trace(go.Scatter(\n",
    "    x=dfPlot1['Year'],\n",
    "    y=dfPlot1['republican turnout'],\n",
    "    name='republican turnout',\n",
    "    line=dict(color='rgb(232,27,35)', dash='dash')),\n",
    "    secondary_y=True,\n",
    ")\n",
    "\n",
    "fig1.update_layout(title_text='CPI and party preference over time')\n",
    "\n",
    "fig1.update_xaxes(title_text='election year')\n",
    "\n",
    "fig1.update_yaxes(title_text='cpi', secondary_y=False)\n",
    "fig1.update_yaxes(title_text='support %', secondary_y=True)\n",
    "\n",
    "fig1.update_layout(\n",
    "    {\n",
    "        \"paper_bgcolor\": \"rgba(0, 0, 0, 0)\",\n",
    "        \"plot_bgcolor\": \"rgba(1, 1, 1, 0.05)\",\n",
    "    }\n",
    ")\n",
    "\n",
    "fig1.show()"
   ]
  },
  {
   "cell_type": "code",
   "execution_count": 40,
   "metadata": {},
   "outputs": [
    {
     "data": {
      "text/html": [
       "<div>\n",
       "<style scoped>\n",
       "    .dataframe tbody tr th:only-of-type {\n",
       "        vertical-align: middle;\n",
       "    }\n",
       "\n",
       "    .dataframe tbody tr th {\n",
       "        vertical-align: top;\n",
       "    }\n",
       "\n",
       "    .dataframe thead th {\n",
       "        text-align: right;\n",
       "    }\n",
       "</style>\n",
       "<table border=\"1\" class=\"dataframe\">\n",
       "  <thead>\n",
       "    <tr style=\"text-align: right;\">\n",
       "      <th></th>\n",
       "      <th>year</th>\n",
       "      <th>state</th>\n",
       "      <th>candidate</th>\n",
       "      <th>writein</th>\n",
       "      <th>candidatevotes</th>\n",
       "      <th>totalvotes</th>\n",
       "      <th>party</th>\n",
       "    </tr>\n",
       "  </thead>\n",
       "  <tbody>\n",
       "    <tr>\n",
       "      <th>329</th>\n",
       "      <td>1976</td>\n",
       "      <td>wyoming</td>\n",
       "      <td>ford, gerald</td>\n",
       "      <td>False</td>\n",
       "      <td>92717</td>\n",
       "      <td>156343</td>\n",
       "      <td>republican</td>\n",
       "    </tr>\n",
       "    <tr>\n",
       "      <th>330</th>\n",
       "      <td>1976</td>\n",
       "      <td>wyoming</td>\n",
       "      <td>carter, jimmy</td>\n",
       "      <td>False</td>\n",
       "      <td>62239</td>\n",
       "      <td>156343</td>\n",
       "      <td>democrat</td>\n",
       "    </tr>\n",
       "    <tr>\n",
       "      <th>331</th>\n",
       "      <td>1976</td>\n",
       "      <td>wyoming</td>\n",
       "      <td>NaN</td>\n",
       "      <td>True</td>\n",
       "      <td>1387</td>\n",
       "      <td>156343</td>\n",
       "      <td>other</td>\n",
       "    </tr>\n",
       "    <tr>\n",
       "      <th>692</th>\n",
       "      <td>1980</td>\n",
       "      <td>wyoming</td>\n",
       "      <td>reagan, ronald</td>\n",
       "      <td>False</td>\n",
       "      <td>110700</td>\n",
       "      <td>176713</td>\n",
       "      <td>republican</td>\n",
       "    </tr>\n",
       "    <tr>\n",
       "      <th>693</th>\n",
       "      <td>1980</td>\n",
       "      <td>wyoming</td>\n",
       "      <td>carter, jimmy</td>\n",
       "      <td>False</td>\n",
       "      <td>49427</td>\n",
       "      <td>176713</td>\n",
       "      <td>democrat</td>\n",
       "    </tr>\n",
       "    <tr>\n",
       "      <th>...</th>\n",
       "      <td>...</td>\n",
       "      <td>...</td>\n",
       "      <td>...</td>\n",
       "      <td>...</td>\n",
       "      <td>...</td>\n",
       "      <td>...</td>\n",
       "      <td>...</td>\n",
       "    </tr>\n",
       "    <tr>\n",
       "      <th>4282</th>\n",
       "      <td>2020</td>\n",
       "      <td>wyoming</td>\n",
       "      <td>jorgensen, jo</td>\n",
       "      <td>False</td>\n",
       "      <td>5768</td>\n",
       "      <td>278503</td>\n",
       "      <td>libertarian</td>\n",
       "    </tr>\n",
       "    <tr>\n",
       "      <th>4283</th>\n",
       "      <td>2020</td>\n",
       "      <td>wyoming</td>\n",
       "      <td>pierce, brock</td>\n",
       "      <td>False</td>\n",
       "      <td>2208</td>\n",
       "      <td>278503</td>\n",
       "      <td>other</td>\n",
       "    </tr>\n",
       "    <tr>\n",
       "      <th>4284</th>\n",
       "      <td>2020</td>\n",
       "      <td>wyoming</td>\n",
       "      <td>NaN</td>\n",
       "      <td>True</td>\n",
       "      <td>1739</td>\n",
       "      <td>278503</td>\n",
       "      <td>other</td>\n",
       "    </tr>\n",
       "    <tr>\n",
       "      <th>4285</th>\n",
       "      <td>2020</td>\n",
       "      <td>wyoming</td>\n",
       "      <td>overvotes</td>\n",
       "      <td>False</td>\n",
       "      <td>279</td>\n",
       "      <td>278503</td>\n",
       "      <td>other</td>\n",
       "    </tr>\n",
       "    <tr>\n",
       "      <th>4286</th>\n",
       "      <td>2020</td>\n",
       "      <td>wyoming</td>\n",
       "      <td>undervotes</td>\n",
       "      <td>False</td>\n",
       "      <td>1459</td>\n",
       "      <td>278503</td>\n",
       "      <td>other</td>\n",
       "    </tr>\n",
       "  </tbody>\n",
       "</table>\n",
       "<p>64 rows × 7 columns</p>\n",
       "</div>"
      ],
      "text/plain": [
       "      year    state       candidate writein  candidatevotes  totalvotes  \\\n",
       "329   1976  wyoming    ford, gerald   False           92717      156343   \n",
       "330   1976  wyoming   carter, jimmy   False           62239      156343   \n",
       "331   1976  wyoming             NaN    True            1387      156343   \n",
       "692   1980  wyoming  reagan, ronald   False          110700      176713   \n",
       "693   1980  wyoming   carter, jimmy   False           49427      176713   \n",
       "...    ...      ...             ...     ...             ...         ...   \n",
       "4282  2020  wyoming   jorgensen, jo   False            5768      278503   \n",
       "4283  2020  wyoming   pierce, brock   False            2208      278503   \n",
       "4284  2020  wyoming             NaN    True            1739      278503   \n",
       "4285  2020  wyoming       overvotes   False             279      278503   \n",
       "4286  2020  wyoming      undervotes   False            1459      278503   \n",
       "\n",
       "            party  \n",
       "329    republican  \n",
       "330      democrat  \n",
       "331         other  \n",
       "692    republican  \n",
       "693      democrat  \n",
       "...           ...  \n",
       "4282  libertarian  \n",
       "4283        other  \n",
       "4284        other  \n",
       "4285        other  \n",
       "4286        other  \n",
       "\n",
       "[64 rows x 7 columns]"
      ]
     },
     "execution_count": 40,
     "metadata": {},
     "output_type": "execute_result"
    }
   ],
   "source": [
    "df[df['state'] == 'wyoming']"
   ]
  },
  {
   "cell_type": "code",
   "execution_count": 38,
   "metadata": {},
   "outputs": [
    {
     "data": {
      "text/html": [
       "<div>\n",
       "<style scoped>\n",
       "    .dataframe tbody tr th:only-of-type {\n",
       "        vertical-align: middle;\n",
       "    }\n",
       "\n",
       "    .dataframe tbody tr th {\n",
       "        vertical-align: top;\n",
       "    }\n",
       "\n",
       "    .dataframe thead th {\n",
       "        text-align: right;\n",
       "    }\n",
       "</style>\n",
       "<table border=\"1\" class=\"dataframe\">\n",
       "  <thead>\n",
       "    <tr style=\"text-align: right;\">\n",
       "      <th></th>\n",
       "      <th></th>\n",
       "      <th></th>\n",
       "      <th>candidatevotes</th>\n",
       "      <th>totalvotes</th>\n",
       "    </tr>\n",
       "    <tr>\n",
       "      <th>year</th>\n",
       "      <th>state</th>\n",
       "      <th>party</th>\n",
       "      <th></th>\n",
       "      <th></th>\n",
       "    </tr>\n",
       "  </thead>\n",
       "  <tbody>\n",
       "    <tr>\n",
       "      <th rowspan=\"5\" valign=\"top\">1976</th>\n",
       "      <th rowspan=\"4\" valign=\"top\">alabama</th>\n",
       "      <th>democrat</th>\n",
       "      <td>659170</td>\n",
       "      <td>1182850</td>\n",
       "    </tr>\n",
       "    <tr>\n",
       "      <th>libertarian</th>\n",
       "      <td>1481</td>\n",
       "      <td>1182850</td>\n",
       "    </tr>\n",
       "    <tr>\n",
       "      <th>other</th>\n",
       "      <td>18129</td>\n",
       "      <td>1182850</td>\n",
       "    </tr>\n",
       "    <tr>\n",
       "      <th>republican</th>\n",
       "      <td>504070</td>\n",
       "      <td>1182850</td>\n",
       "    </tr>\n",
       "    <tr>\n",
       "      <th>alaska</th>\n",
       "      <th>democrat</th>\n",
       "      <td>44058</td>\n",
       "      <td>123574</td>\n",
       "    </tr>\n",
       "    <tr>\n",
       "      <th>...</th>\n",
       "      <th>...</th>\n",
       "      <th>...</th>\n",
       "      <td>...</td>\n",
       "      <td>...</td>\n",
       "    </tr>\n",
       "    <tr>\n",
       "      <th rowspan=\"5\" valign=\"top\">2020</th>\n",
       "      <th>wisconsin</th>\n",
       "      <th>republican</th>\n",
       "      <td>1610184</td>\n",
       "      <td>3298041</td>\n",
       "    </tr>\n",
       "    <tr>\n",
       "      <th rowspan=\"4\" valign=\"top\">wyoming</th>\n",
       "      <th>democrat</th>\n",
       "      <td>73491</td>\n",
       "      <td>278503</td>\n",
       "    </tr>\n",
       "    <tr>\n",
       "      <th>libertarian</th>\n",
       "      <td>5768</td>\n",
       "      <td>278503</td>\n",
       "    </tr>\n",
       "    <tr>\n",
       "      <th>other</th>\n",
       "      <td>5685</td>\n",
       "      <td>278503</td>\n",
       "    </tr>\n",
       "    <tr>\n",
       "      <th>republican</th>\n",
       "      <td>193559</td>\n",
       "      <td>278503</td>\n",
       "    </tr>\n",
       "  </tbody>\n",
       "</table>\n",
       "<p>2354 rows × 2 columns</p>\n",
       "</div>"
      ],
      "text/plain": [
       "                            candidatevotes  totalvotes\n",
       "year state     party                                  \n",
       "1976 alabama   democrat             659170     1182850\n",
       "               libertarian            1481     1182850\n",
       "               other                 18129     1182850\n",
       "               republican           504070     1182850\n",
       "     alaska    democrat              44058      123574\n",
       "...                                    ...         ...\n",
       "2020 wisconsin republican          1610184     3298041\n",
       "     wyoming   democrat              73491      278503\n",
       "               libertarian            5768      278503\n",
       "               other                  5685      278503\n",
       "               republican           193559      278503\n",
       "\n",
       "[2354 rows x 2 columns]"
      ]
     },
     "execution_count": 38,
     "metadata": {},
     "output_type": "execute_result"
    }
   ],
   "source": [
    "df.groupby(['year', 'state', 'party']).agg({\n",
    "    'candidatevotes': 'sum', \n",
    "    'totalvotes': 'max'\n",
    "})"
   ]
  },
  {
   "cell_type": "code",
   "execution_count": 32,
   "metadata": {},
   "outputs": [
    {
     "data": {
      "text/html": [
       "<div>\n",
       "<style scoped>\n",
       "    .dataframe tbody tr th:only-of-type {\n",
       "        vertical-align: middle;\n",
       "    }\n",
       "\n",
       "    .dataframe tbody tr th {\n",
       "        vertical-align: top;\n",
       "    }\n",
       "\n",
       "    .dataframe thead th {\n",
       "        text-align: right;\n",
       "    }\n",
       "</style>\n",
       "<table border=\"1\" class=\"dataframe\">\n",
       "  <thead>\n",
       "    <tr style=\"text-align: right;\">\n",
       "      <th></th>\n",
       "      <th>Year</th>\n",
       "      <th>cpi</th>\n",
       "      <th>democrat support</th>\n",
       "      <th>republican support</th>\n",
       "      <th>libertarian support</th>\n",
       "      <th>other support</th>\n",
       "      <th>cpig</th>\n",
       "      <th>cpih</th>\n",
       "      <th>cpim</th>\n",
       "      <th>republican turnout</th>\n",
       "      <th>democrat turnout</th>\n",
       "    </tr>\n",
       "  </thead>\n",
       "  <tbody>\n",
       "    <tr>\n",
       "      <th>0</th>\n",
       "      <td>1976</td>\n",
       "      <td>56.908333</td>\n",
       "      <td>0.499</td>\n",
       "      <td>0.476</td>\n",
       "      <td>0.003</td>\n",
       "      <td>0.005</td>\n",
       "      <td>46.991667</td>\n",
       "      <td>53.758333</td>\n",
       "      <td>51.991667</td>\n",
       "      <td>0.529412</td>\n",
       "      <td>0.470588</td>\n",
       "    </tr>\n",
       "    <tr>\n",
       "      <th>4</th>\n",
       "      <td>1980</td>\n",
       "      <td>82.408333</td>\n",
       "      <td>0.410</td>\n",
       "      <td>0.505</td>\n",
       "      <td>0.011</td>\n",
       "      <td>0.016</td>\n",
       "      <td>97.516667</td>\n",
       "      <td>81.058333</td>\n",
       "      <td>74.875000</td>\n",
       "      <td>0.843137</td>\n",
       "      <td>0.156863</td>\n",
       "    </tr>\n",
       "    <tr>\n",
       "      <th>8</th>\n",
       "      <td>1984</td>\n",
       "      <td>103.883333</td>\n",
       "      <td>0.404</td>\n",
       "      <td>0.585</td>\n",
       "      <td>0.003</td>\n",
       "      <td>0.002</td>\n",
       "      <td>97.766667</td>\n",
       "      <td>103.616667</td>\n",
       "      <td>106.858333</td>\n",
       "      <td>0.960784</td>\n",
       "      <td>0.039216</td>\n",
       "    </tr>\n",
       "    <tr>\n",
       "      <th>12</th>\n",
       "      <td>1988</td>\n",
       "      <td>118.258333</td>\n",
       "      <td>0.455</td>\n",
       "      <td>0.531</td>\n",
       "      <td>0.005</td>\n",
       "      <td>0.003</td>\n",
       "      <td>80.800000</td>\n",
       "      <td>118.491667</td>\n",
       "      <td>138.641667</td>\n",
       "      <td>0.784314</td>\n",
       "      <td>0.215686</td>\n",
       "    </tr>\n",
       "    <tr>\n",
       "      <th>16</th>\n",
       "      <td>1992</td>\n",
       "      <td>140.316667</td>\n",
       "      <td>0.429</td>\n",
       "      <td>0.371</td>\n",
       "      <td>0.003</td>\n",
       "      <td>0.044</td>\n",
       "      <td>98.975000</td>\n",
       "      <td>137.508333</td>\n",
       "      <td>190.066667</td>\n",
       "      <td>0.352941</td>\n",
       "      <td>0.647059</td>\n",
       "    </tr>\n",
       "    <tr>\n",
       "      <th>...</th>\n",
       "      <td>...</td>\n",
       "      <td>...</td>\n",
       "      <td>...</td>\n",
       "      <td>...</td>\n",
       "      <td>...</td>\n",
       "      <td>...</td>\n",
       "      <td>...</td>\n",
       "      <td>...</td>\n",
       "      <td>...</td>\n",
       "      <td>...</td>\n",
       "      <td>...</td>\n",
       "    </tr>\n",
       "    <tr>\n",
       "      <th>28</th>\n",
       "      <td>2004</td>\n",
       "      <td>188.883333</td>\n",
       "      <td>0.472</td>\n",
       "      <td>0.506</td>\n",
       "      <td>0.003</td>\n",
       "      <td>0.003</td>\n",
       "      <td>159.666667</td>\n",
       "      <td>189.533333</td>\n",
       "      <td>310.133333</td>\n",
       "      <td>0.607843</td>\n",
       "      <td>0.392157</td>\n",
       "    </tr>\n",
       "    <tr>\n",
       "      <th>32</th>\n",
       "      <td>2008</td>\n",
       "      <td>215.302500</td>\n",
       "      <td>0.528</td>\n",
       "      <td>0.454</td>\n",
       "      <td>0.004</td>\n",
       "      <td>0.003</td>\n",
       "      <td>277.456667</td>\n",
       "      <td>216.263667</td>\n",
       "      <td>364.064833</td>\n",
       "      <td>0.431373</td>\n",
       "      <td>0.568627</td>\n",
       "    </tr>\n",
       "    <tr>\n",
       "      <th>36</th>\n",
       "      <td>2012</td>\n",
       "      <td>229.593917</td>\n",
       "      <td>0.509</td>\n",
       "      <td>0.470</td>\n",
       "      <td>0.011</td>\n",
       "      <td>0.003</td>\n",
       "      <td>311.469750</td>\n",
       "      <td>222.715250</td>\n",
       "      <td>414.923917</td>\n",
       "      <td>0.470588</td>\n",
       "      <td>0.529412</td>\n",
       "    </tr>\n",
       "    <tr>\n",
       "      <th>40</th>\n",
       "      <td>2016</td>\n",
       "      <td>240.007167</td>\n",
       "      <td>0.462</td>\n",
       "      <td>0.449</td>\n",
       "      <td>0.032</td>\n",
       "      <td>0.008</td>\n",
       "      <td>187.601917</td>\n",
       "      <td>243.972500</td>\n",
       "      <td>463.674667</td>\n",
       "      <td>0.588235</td>\n",
       "      <td>0.411765</td>\n",
       "    </tr>\n",
       "    <tr>\n",
       "      <th>44</th>\n",
       "      <td>2020</td>\n",
       "      <td>258.811167</td>\n",
       "      <td>0.513</td>\n",
       "      <td>0.468</td>\n",
       "      <td>0.012</td>\n",
       "      <td>0.001</td>\n",
       "      <td>194.129500</td>\n",
       "      <td>271.772917</td>\n",
       "      <td>518.875500</td>\n",
       "      <td>0.490196</td>\n",
       "      <td>0.509804</td>\n",
       "    </tr>\n",
       "  </tbody>\n",
       "</table>\n",
       "<p>12 rows × 11 columns</p>\n",
       "</div>"
      ],
      "text/plain": [
       "    Year         cpi  democrat support  republican support  \\\n",
       "0   1976   56.908333             0.499               0.476   \n",
       "4   1980   82.408333             0.410               0.505   \n",
       "8   1984  103.883333             0.404               0.585   \n",
       "12  1988  118.258333             0.455               0.531   \n",
       "16  1992  140.316667             0.429               0.371   \n",
       "..   ...         ...               ...                 ...   \n",
       "28  2004  188.883333             0.472               0.506   \n",
       "32  2008  215.302500             0.528               0.454   \n",
       "36  2012  229.593917             0.509               0.470   \n",
       "40  2016  240.007167             0.462               0.449   \n",
       "44  2020  258.811167             0.513               0.468   \n",
       "\n",
       "    libertarian support  other support        cpig        cpih        cpim  \\\n",
       "0                 0.003          0.005   46.991667   53.758333   51.991667   \n",
       "4                 0.011          0.016   97.516667   81.058333   74.875000   \n",
       "8                 0.003          0.002   97.766667  103.616667  106.858333   \n",
       "12                0.005          0.003   80.800000  118.491667  138.641667   \n",
       "16                0.003          0.044   98.975000  137.508333  190.066667   \n",
       "..                  ...            ...         ...         ...         ...   \n",
       "28                0.003          0.003  159.666667  189.533333  310.133333   \n",
       "32                0.004          0.003  277.456667  216.263667  364.064833   \n",
       "36                0.011          0.003  311.469750  222.715250  414.923917   \n",
       "40                0.032          0.008  187.601917  243.972500  463.674667   \n",
       "44                0.012          0.001  194.129500  271.772917  518.875500   \n",
       "\n",
       "    republican turnout  democrat turnout  \n",
       "0             0.529412          0.470588  \n",
       "4             0.843137          0.156863  \n",
       "8             0.960784          0.039216  \n",
       "12            0.784314          0.215686  \n",
       "16            0.352941          0.647059  \n",
       "..                 ...               ...  \n",
       "28            0.607843          0.392157  \n",
       "32            0.431373          0.568627  \n",
       "36            0.470588          0.529412  \n",
       "40            0.588235          0.411765  \n",
       "44            0.490196          0.509804  \n",
       "\n",
       "[12 rows x 11 columns]"
      ]
     },
     "execution_count": 32,
     "metadata": {},
     "output_type": "execute_result"
    }
   ],
   "source": [
    "dfPlot1"
   ]
  },
  {
   "cell_type": "code",
   "execution_count": 31,
   "metadata": {},
   "outputs": [],
   "source": [
    "dfPlot1.to_csv(\"data/predictive_dataset.csv\")"
   ]
  },
  {
   "cell_type": "code",
   "execution_count": 26,
   "metadata": {},
   "outputs": [
    {
     "data": {
      "text/html": [
       "<div>\n",
       "<style scoped>\n",
       "    .dataframe tbody tr th:only-of-type {\n",
       "        vertical-align: middle;\n",
       "    }\n",
       "\n",
       "    .dataframe tbody tr th {\n",
       "        vertical-align: top;\n",
       "    }\n",
       "\n",
       "    .dataframe thead th {\n",
       "        text-align: right;\n",
       "    }\n",
       "</style>\n",
       "<table border=\"1\" class=\"dataframe\">\n",
       "  <thead>\n",
       "    <tr style=\"text-align: right;\">\n",
       "      <th></th>\n",
       "      <th>year</th>\n",
       "      <th>state</th>\n",
       "      <th>candidate</th>\n",
       "      <th>writein</th>\n",
       "      <th>candidatevotes</th>\n",
       "      <th>totalvotes</th>\n",
       "      <th>party</th>\n",
       "    </tr>\n",
       "  </thead>\n",
       "  <tbody>\n",
       "    <tr>\n",
       "      <th>0</th>\n",
       "      <td>1976</td>\n",
       "      <td>alabama</td>\n",
       "      <td>carter, jimmy</td>\n",
       "      <td>False</td>\n",
       "      <td>659170</td>\n",
       "      <td>1182850</td>\n",
       "      <td>democrat</td>\n",
       "    </tr>\n",
       "  </tbody>\n",
       "</table>\n",
       "</div>"
      ],
      "text/plain": [
       "   year    state      candidate writein  candidatevotes  totalvotes     party\n",
       "0  1976  alabama  carter, jimmy   False          659170     1182850  democrat"
      ]
     },
     "execution_count": 26,
     "metadata": {},
     "output_type": "execute_result"
    }
   ],
   "source": [
    "df.head(1)"
   ]
  },
  {
   "cell_type": "code",
   "execution_count": 27,
   "metadata": {},
   "outputs": [
    {
     "data": {
      "text/plain": [
       "0.5882352941176471"
      ]
     },
     "execution_count": 27,
     "metadata": {},
     "output_type": "execute_result"
    }
   ],
   "source": [
    "# sanity check (confirming President Donald Trump won 2016)\n",
    "showAll(False)\n",
    "dem16 = df[(df['year'] == 2016) & (df['party'].isin(['democrat', 'republican']))].groupby(['party', 'state', 'candidate'])['candidatevotes'].sum()['democrat']\n",
    "rep16 = df[(df['year'] == 2016) & (df['party'].isin(['democrat', 'republican']))].groupby(['party', 'state', 'candidate'])['candidatevotes'].sum()['republican']\n",
    "np.mean(rep16.reset_index()['candidatevotes'] > dem16.reset_index()['candidatevotes'])"
   ]
  },
  {
   "cell_type": "code",
   "execution_count": 56,
   "metadata": {},
   "outputs": [],
   "source": [
    "# sanity check\n",
    "\n",
    "test = df[df['state']=='florida'].groupby(['year', 'party']).agg({\n",
    "    'candidatevotes': 'sum',\n",
    "    'totalvotes': 'max'\n",
    "})"
   ]
  },
  {
   "cell_type": "code",
   "execution_count": 359,
   "metadata": {},
   "outputs": [
    {
     "name": "stdout",
     "output_type": "stream",
     "text": [
      "['democrat', 'republican', 'republican', 'republican', 'democrat', 'democrat', 'republican', 'republican', 'democrat', 'democrat', 'republican', 'republican']\n"
     ]
    }
   ],
   "source": [
    "# sanity check\n",
    "\n",
    "test = df[df['state']=='ohio'].groupby(['year', 'party']).agg({\n",
    "    'candidatevotes': 'sum',\n",
    "    'totalvotes': 'max'\n",
    "})\n",
    "\n",
    "ohioTurnout = []\n",
    "for yr in elecYears:\n",
    "    votes = test.loc[int(yr)]\n",
    "    turnout = votes['candidatevotes']==max(votes['candidatevotes'])\n",
    "    turnout = turnout[turnout].index[0]\n",
    "    ohioTurnout.append(turnout)\n",
    "\n",
    "print(ohioTurnout)"
   ]
  },
  {
   "cell_type": "code",
   "execution_count": 360,
   "metadata": {},
   "outputs": [
    {
     "data": {
      "application/vnd.plotly.v1+json": {
       "config": {
        "plotlyServerURL": "https://plot.ly"
       },
       "data": [
        {
         "marker": {
          "color": "rgb(0,174,243)"
         },
         "mode": "markers",
         "name": "democrat turnout",
         "type": "scatter",
         "x": [
          "1976-01-01T00:00:00",
          "1992-01-01T00:00:00",
          "1996-01-01T00:00:00",
          "2008-01-01T00:00:00",
          "2012-01-01T00:00:00"
         ],
         "y": [
          "democrat",
          "democrat",
          "democrat",
          "democrat",
          "democrat"
         ]
        },
        {
         "marker": {
          "color": "rgb(232,27,35)"
         },
         "mode": "markers",
         "name": "republican turnout",
         "type": "scatter",
         "x": [
          "1980-01-01T00:00:00",
          "1984-01-01T00:00:00",
          "1988-01-01T00:00:00",
          "2000-01-01T00:00:00",
          "2004-01-01T00:00:00",
          "2016-01-01T00:00:00",
          "2020-01-01T00:00:00"
         ],
         "y": [
          "republican",
          "republican",
          "republican",
          "republican",
          "republican",
          "republican",
          "republican"
         ]
        }
       ],
       "layout": {
        "paper_bgcolor": "rgba(0, 0, 0, 0)",
        "plot_bgcolor": "rgba(1, 1, 1, 0.05)",
        "template": {
         "data": {
          "bar": [
           {
            "error_x": {
             "color": "#2a3f5f"
            },
            "error_y": {
             "color": "#2a3f5f"
            },
            "marker": {
             "line": {
              "color": "#E5ECF6",
              "width": 0.5
             },
             "pattern": {
              "fillmode": "overlay",
              "size": 10,
              "solidity": 0.2
             }
            },
            "type": "bar"
           }
          ],
          "barpolar": [
           {
            "marker": {
             "line": {
              "color": "#E5ECF6",
              "width": 0.5
             },
             "pattern": {
              "fillmode": "overlay",
              "size": 10,
              "solidity": 0.2
             }
            },
            "type": "barpolar"
           }
          ],
          "carpet": [
           {
            "aaxis": {
             "endlinecolor": "#2a3f5f",
             "gridcolor": "white",
             "linecolor": "white",
             "minorgridcolor": "white",
             "startlinecolor": "#2a3f5f"
            },
            "baxis": {
             "endlinecolor": "#2a3f5f",
             "gridcolor": "white",
             "linecolor": "white",
             "minorgridcolor": "white",
             "startlinecolor": "#2a3f5f"
            },
            "type": "carpet"
           }
          ],
          "choropleth": [
           {
            "colorbar": {
             "outlinewidth": 0,
             "ticks": ""
            },
            "type": "choropleth"
           }
          ],
          "contour": [
           {
            "colorbar": {
             "outlinewidth": 0,
             "ticks": ""
            },
            "colorscale": [
             [
              0,
              "#0d0887"
             ],
             [
              0.1111111111111111,
              "#46039f"
             ],
             [
              0.2222222222222222,
              "#7201a8"
             ],
             [
              0.3333333333333333,
              "#9c179e"
             ],
             [
              0.4444444444444444,
              "#bd3786"
             ],
             [
              0.5555555555555556,
              "#d8576b"
             ],
             [
              0.6666666666666666,
              "#ed7953"
             ],
             [
              0.7777777777777778,
              "#fb9f3a"
             ],
             [
              0.8888888888888888,
              "#fdca26"
             ],
             [
              1,
              "#f0f921"
             ]
            ],
            "type": "contour"
           }
          ],
          "contourcarpet": [
           {
            "colorbar": {
             "outlinewidth": 0,
             "ticks": ""
            },
            "type": "contourcarpet"
           }
          ],
          "heatmap": [
           {
            "colorbar": {
             "outlinewidth": 0,
             "ticks": ""
            },
            "colorscale": [
             [
              0,
              "#0d0887"
             ],
             [
              0.1111111111111111,
              "#46039f"
             ],
             [
              0.2222222222222222,
              "#7201a8"
             ],
             [
              0.3333333333333333,
              "#9c179e"
             ],
             [
              0.4444444444444444,
              "#bd3786"
             ],
             [
              0.5555555555555556,
              "#d8576b"
             ],
             [
              0.6666666666666666,
              "#ed7953"
             ],
             [
              0.7777777777777778,
              "#fb9f3a"
             ],
             [
              0.8888888888888888,
              "#fdca26"
             ],
             [
              1,
              "#f0f921"
             ]
            ],
            "type": "heatmap"
           }
          ],
          "heatmapgl": [
           {
            "colorbar": {
             "outlinewidth": 0,
             "ticks": ""
            },
            "colorscale": [
             [
              0,
              "#0d0887"
             ],
             [
              0.1111111111111111,
              "#46039f"
             ],
             [
              0.2222222222222222,
              "#7201a8"
             ],
             [
              0.3333333333333333,
              "#9c179e"
             ],
             [
              0.4444444444444444,
              "#bd3786"
             ],
             [
              0.5555555555555556,
              "#d8576b"
             ],
             [
              0.6666666666666666,
              "#ed7953"
             ],
             [
              0.7777777777777778,
              "#fb9f3a"
             ],
             [
              0.8888888888888888,
              "#fdca26"
             ],
             [
              1,
              "#f0f921"
             ]
            ],
            "type": "heatmapgl"
           }
          ],
          "histogram": [
           {
            "marker": {
             "pattern": {
              "fillmode": "overlay",
              "size": 10,
              "solidity": 0.2
             }
            },
            "type": "histogram"
           }
          ],
          "histogram2d": [
           {
            "colorbar": {
             "outlinewidth": 0,
             "ticks": ""
            },
            "colorscale": [
             [
              0,
              "#0d0887"
             ],
             [
              0.1111111111111111,
              "#46039f"
             ],
             [
              0.2222222222222222,
              "#7201a8"
             ],
             [
              0.3333333333333333,
              "#9c179e"
             ],
             [
              0.4444444444444444,
              "#bd3786"
             ],
             [
              0.5555555555555556,
              "#d8576b"
             ],
             [
              0.6666666666666666,
              "#ed7953"
             ],
             [
              0.7777777777777778,
              "#fb9f3a"
             ],
             [
              0.8888888888888888,
              "#fdca26"
             ],
             [
              1,
              "#f0f921"
             ]
            ],
            "type": "histogram2d"
           }
          ],
          "histogram2dcontour": [
           {
            "colorbar": {
             "outlinewidth": 0,
             "ticks": ""
            },
            "colorscale": [
             [
              0,
              "#0d0887"
             ],
             [
              0.1111111111111111,
              "#46039f"
             ],
             [
              0.2222222222222222,
              "#7201a8"
             ],
             [
              0.3333333333333333,
              "#9c179e"
             ],
             [
              0.4444444444444444,
              "#bd3786"
             ],
             [
              0.5555555555555556,
              "#d8576b"
             ],
             [
              0.6666666666666666,
              "#ed7953"
             ],
             [
              0.7777777777777778,
              "#fb9f3a"
             ],
             [
              0.8888888888888888,
              "#fdca26"
             ],
             [
              1,
              "#f0f921"
             ]
            ],
            "type": "histogram2dcontour"
           }
          ],
          "mesh3d": [
           {
            "colorbar": {
             "outlinewidth": 0,
             "ticks": ""
            },
            "type": "mesh3d"
           }
          ],
          "parcoords": [
           {
            "line": {
             "colorbar": {
              "outlinewidth": 0,
              "ticks": ""
             }
            },
            "type": "parcoords"
           }
          ],
          "pie": [
           {
            "automargin": true,
            "type": "pie"
           }
          ],
          "scatter": [
           {
            "fillpattern": {
             "fillmode": "overlay",
             "size": 10,
             "solidity": 0.2
            },
            "type": "scatter"
           }
          ],
          "scatter3d": [
           {
            "line": {
             "colorbar": {
              "outlinewidth": 0,
              "ticks": ""
             }
            },
            "marker": {
             "colorbar": {
              "outlinewidth": 0,
              "ticks": ""
             }
            },
            "type": "scatter3d"
           }
          ],
          "scattercarpet": [
           {
            "marker": {
             "colorbar": {
              "outlinewidth": 0,
              "ticks": ""
             }
            },
            "type": "scattercarpet"
           }
          ],
          "scattergeo": [
           {
            "marker": {
             "colorbar": {
              "outlinewidth": 0,
              "ticks": ""
             }
            },
            "type": "scattergeo"
           }
          ],
          "scattergl": [
           {
            "marker": {
             "colorbar": {
              "outlinewidth": 0,
              "ticks": ""
             }
            },
            "type": "scattergl"
           }
          ],
          "scattermapbox": [
           {
            "marker": {
             "colorbar": {
              "outlinewidth": 0,
              "ticks": ""
             }
            },
            "type": "scattermapbox"
           }
          ],
          "scatterpolar": [
           {
            "marker": {
             "colorbar": {
              "outlinewidth": 0,
              "ticks": ""
             }
            },
            "type": "scatterpolar"
           }
          ],
          "scatterpolargl": [
           {
            "marker": {
             "colorbar": {
              "outlinewidth": 0,
              "ticks": ""
             }
            },
            "type": "scatterpolargl"
           }
          ],
          "scatterternary": [
           {
            "marker": {
             "colorbar": {
              "outlinewidth": 0,
              "ticks": ""
             }
            },
            "type": "scatterternary"
           }
          ],
          "surface": [
           {
            "colorbar": {
             "outlinewidth": 0,
             "ticks": ""
            },
            "colorscale": [
             [
              0,
              "#0d0887"
             ],
             [
              0.1111111111111111,
              "#46039f"
             ],
             [
              0.2222222222222222,
              "#7201a8"
             ],
             [
              0.3333333333333333,
              "#9c179e"
             ],
             [
              0.4444444444444444,
              "#bd3786"
             ],
             [
              0.5555555555555556,
              "#d8576b"
             ],
             [
              0.6666666666666666,
              "#ed7953"
             ],
             [
              0.7777777777777778,
              "#fb9f3a"
             ],
             [
              0.8888888888888888,
              "#fdca26"
             ],
             [
              1,
              "#f0f921"
             ]
            ],
            "type": "surface"
           }
          ],
          "table": [
           {
            "cells": {
             "fill": {
              "color": "#EBF0F8"
             },
             "line": {
              "color": "white"
             }
            },
            "header": {
             "fill": {
              "color": "#C8D4E3"
             },
             "line": {
              "color": "white"
             }
            },
            "type": "table"
           }
          ]
         },
         "layout": {
          "annotationdefaults": {
           "arrowcolor": "#2a3f5f",
           "arrowhead": 0,
           "arrowwidth": 1
          },
          "autotypenumbers": "strict",
          "coloraxis": {
           "colorbar": {
            "outlinewidth": 0,
            "ticks": ""
           }
          },
          "colorscale": {
           "diverging": [
            [
             0,
             "#8e0152"
            ],
            [
             0.1,
             "#c51b7d"
            ],
            [
             0.2,
             "#de77ae"
            ],
            [
             0.3,
             "#f1b6da"
            ],
            [
             0.4,
             "#fde0ef"
            ],
            [
             0.5,
             "#f7f7f7"
            ],
            [
             0.6,
             "#e6f5d0"
            ],
            [
             0.7,
             "#b8e186"
            ],
            [
             0.8,
             "#7fbc41"
            ],
            [
             0.9,
             "#4d9221"
            ],
            [
             1,
             "#276419"
            ]
           ],
           "sequential": [
            [
             0,
             "#0d0887"
            ],
            [
             0.1111111111111111,
             "#46039f"
            ],
            [
             0.2222222222222222,
             "#7201a8"
            ],
            [
             0.3333333333333333,
             "#9c179e"
            ],
            [
             0.4444444444444444,
             "#bd3786"
            ],
            [
             0.5555555555555556,
             "#d8576b"
            ],
            [
             0.6666666666666666,
             "#ed7953"
            ],
            [
             0.7777777777777778,
             "#fb9f3a"
            ],
            [
             0.8888888888888888,
             "#fdca26"
            ],
            [
             1,
             "#f0f921"
            ]
           ],
           "sequentialminus": [
            [
             0,
             "#0d0887"
            ],
            [
             0.1111111111111111,
             "#46039f"
            ],
            [
             0.2222222222222222,
             "#7201a8"
            ],
            [
             0.3333333333333333,
             "#9c179e"
            ],
            [
             0.4444444444444444,
             "#bd3786"
            ],
            [
             0.5555555555555556,
             "#d8576b"
            ],
            [
             0.6666666666666666,
             "#ed7953"
            ],
            [
             0.7777777777777778,
             "#fb9f3a"
            ],
            [
             0.8888888888888888,
             "#fdca26"
            ],
            [
             1,
             "#f0f921"
            ]
           ]
          },
          "colorway": [
           "#636efa",
           "#EF553B",
           "#00cc96",
           "#ab63fa",
           "#FFA15A",
           "#19d3f3",
           "#FF6692",
           "#B6E880",
           "#FF97FF",
           "#FECB52"
          ],
          "font": {
           "color": "#2a3f5f"
          },
          "geo": {
           "bgcolor": "white",
           "lakecolor": "white",
           "landcolor": "#E5ECF6",
           "showlakes": true,
           "showland": true,
           "subunitcolor": "white"
          },
          "hoverlabel": {
           "align": "left"
          },
          "hovermode": "closest",
          "mapbox": {
           "style": "light"
          },
          "paper_bgcolor": "white",
          "plot_bgcolor": "#E5ECF6",
          "polar": {
           "angularaxis": {
            "gridcolor": "white",
            "linecolor": "white",
            "ticks": ""
           },
           "bgcolor": "#E5ECF6",
           "radialaxis": {
            "gridcolor": "white",
            "linecolor": "white",
            "ticks": ""
           }
          },
          "scene": {
           "xaxis": {
            "backgroundcolor": "#E5ECF6",
            "gridcolor": "white",
            "gridwidth": 2,
            "linecolor": "white",
            "showbackground": true,
            "ticks": "",
            "zerolinecolor": "white"
           },
           "yaxis": {
            "backgroundcolor": "#E5ECF6",
            "gridcolor": "white",
            "gridwidth": 2,
            "linecolor": "white",
            "showbackground": true,
            "ticks": "",
            "zerolinecolor": "white"
           },
           "zaxis": {
            "backgroundcolor": "#E5ECF6",
            "gridcolor": "white",
            "gridwidth": 2,
            "linecolor": "white",
            "showbackground": true,
            "ticks": "",
            "zerolinecolor": "white"
           }
          },
          "shapedefaults": {
           "line": {
            "color": "#2a3f5f"
           }
          },
          "ternary": {
           "aaxis": {
            "gridcolor": "white",
            "linecolor": "white",
            "ticks": ""
           },
           "baxis": {
            "gridcolor": "white",
            "linecolor": "white",
            "ticks": ""
           },
           "bgcolor": "#E5ECF6",
           "caxis": {
            "gridcolor": "white",
            "linecolor": "white",
            "ticks": ""
           }
          },
          "title": {
           "x": 0.05
          },
          "xaxis": {
           "automargin": true,
           "gridcolor": "white",
           "linecolor": "white",
           "ticks": "",
           "title": {
            "standoff": 15
           },
           "zerolinecolor": "white",
           "zerolinewidth": 2
          },
          "yaxis": {
           "automargin": true,
           "gridcolor": "white",
           "linecolor": "white",
           "ticks": "",
           "title": {
            "standoff": 15
           },
           "zerolinecolor": "white",
           "zerolinewidth": 2
          }
         }
        },
        "title": {
         "text": "Ohio turnout"
        }
       }
      }
     },
     "metadata": {},
     "output_type": "display_data"
    }
   ],
   "source": [
    "# plot ohio's turnout\n",
    "\n",
    "dfPlot2 = pd.DataFrame(data=list(zip(elecYears, ohioTurnout)))\n",
    "\n",
    "demTurnout = dfPlot2[dfPlot2[1] == 'democrat'] \n",
    "repTurnout = dfPlot2[dfPlot2[1] == 'republican'] \n",
    "\n",
    "demTrace = go.Scatter(\n",
    "    x=pd.to_datetime(demTurnout[0]), \n",
    "    y=demTurnout[1], \n",
    "    mode='markers',\n",
    "    marker=dict(color='rgb(0,174,243)'),\n",
    "    name='democrat turnout'\n",
    ")\n",
    "\n",
    "repTrace = go.Scatter(\n",
    "    x=pd.to_datetime(repTurnout[0]), \n",
    "    y=repTurnout[1], \n",
    "    mode='markers',\n",
    "    marker=dict(color='rgb(232,27,35)'),\n",
    "    name='republican turnout'\n",
    ")\n",
    "\n",
    "fig2 = go.Figure()\n",
    "fig2.add_trace(demTrace)\n",
    "fig2.add_trace(repTrace)\n",
    "\n",
    "fig2.update_layout(\n",
    "    {\n",
    "        \"paper_bgcolor\": \"rgba(0, 0, 0, 0)\",\n",
    "        \"plot_bgcolor\": \"rgba(1, 1, 1, 0.05)\",\n",
    "    }\n",
    ")\n",
    "\n",
    "fig2.update_layout(title='Ohio turnout')\n",
    "\n",
    "fig2.show()"
   ]
  },
  {
   "cell_type": "markdown",
   "metadata": {},
   "source": [
    "##### Make dataset for predictive analysis"
   ]
  },
  {
   "cell_type": "code",
   "execution_count": 45,
   "metadata": {},
   "outputs": [
    {
     "data": {
      "text/html": [
       "<div>\n",
       "<style scoped>\n",
       "    .dataframe tbody tr th:only-of-type {\n",
       "        vertical-align: middle;\n",
       "    }\n",
       "\n",
       "    .dataframe tbody tr th {\n",
       "        vertical-align: top;\n",
       "    }\n",
       "\n",
       "    .dataframe thead th {\n",
       "        text-align: right;\n",
       "    }\n",
       "</style>\n",
       "<table border=\"1\" class=\"dataframe\">\n",
       "  <thead>\n",
       "    <tr style=\"text-align: right;\">\n",
       "      <th></th>\n",
       "      <th>year</th>\n",
       "      <th>state</th>\n",
       "      <th>candidate</th>\n",
       "      <th>writein</th>\n",
       "      <th>candidatevotes</th>\n",
       "      <th>totalvotes</th>\n",
       "      <th>party</th>\n",
       "    </tr>\n",
       "  </thead>\n",
       "  <tbody>\n",
       "    <tr>\n",
       "      <th>55</th>\n",
       "      <td>1976</td>\n",
       "      <td>florida</td>\n",
       "      <td>carter, jimmy</td>\n",
       "      <td>False</td>\n",
       "      <td>1636000</td>\n",
       "      <td>3150631</td>\n",
       "      <td>democrat</td>\n",
       "    </tr>\n",
       "    <tr>\n",
       "      <th>56</th>\n",
       "      <td>1976</td>\n",
       "      <td>florida</td>\n",
       "      <td>ford, gerald</td>\n",
       "      <td>False</td>\n",
       "      <td>1469531</td>\n",
       "      <td>3150631</td>\n",
       "      <td>republican</td>\n",
       "    </tr>\n",
       "    <tr>\n",
       "      <th>57</th>\n",
       "      <td>1976</td>\n",
       "      <td>florida</td>\n",
       "      <td>mccarthy, eugene \"\"gene\"\"</td>\n",
       "      <td>False</td>\n",
       "      <td>23643</td>\n",
       "      <td>3150631</td>\n",
       "      <td>other</td>\n",
       "    </tr>\n",
       "    <tr>\n",
       "      <th>58</th>\n",
       "      <td>1976</td>\n",
       "      <td>florida</td>\n",
       "      <td>anderson, thomas j.</td>\n",
       "      <td>False</td>\n",
       "      <td>21325</td>\n",
       "      <td>3150631</td>\n",
       "      <td>other</td>\n",
       "    </tr>\n",
       "    <tr>\n",
       "      <th>59</th>\n",
       "      <td>1976</td>\n",
       "      <td>florida</td>\n",
       "      <td>NaN</td>\n",
       "      <td>True</td>\n",
       "      <td>132</td>\n",
       "      <td>3150631</td>\n",
       "      <td>other</td>\n",
       "    </tr>\n",
       "  </tbody>\n",
       "</table>\n",
       "</div>"
      ],
      "text/plain": [
       "    year    state                  candidate writein  candidatevotes  \\\n",
       "55  1976  florida              carter, jimmy   False         1636000   \n",
       "56  1976  florida               ford, gerald   False         1469531   \n",
       "57  1976  florida  mccarthy, eugene \"\"gene\"\"   False           23643   \n",
       "58  1976  florida        anderson, thomas j.   False           21325   \n",
       "59  1976  florida                        NaN    True             132   \n",
       "\n",
       "    totalvotes       party  \n",
       "55     3150631    democrat  \n",
       "56     3150631  republican  \n",
       "57     3150631       other  \n",
       "58     3150631       other  \n",
       "59     3150631       other  "
      ]
     },
     "execution_count": 45,
     "metadata": {},
     "output_type": "execute_result"
    }
   ],
   "source": [
    "mlData = df[df['state'].isin(top5swing)]\n",
    "mlData.head()"
   ]
  },
  {
   "cell_type": "code",
   "execution_count": 258,
   "metadata": {},
   "outputs": [],
   "source": [
    "# get turnout by state by election year\n",
    "\n",
    "mlDf = mlData.groupby(['year', 'state', 'party']).agg({\n",
    "    'candidatevotes': 'sum',\n",
    "    'totalvotes': 'max'\n",
    "})\n",
    "\n",
    "mlDf.reset_index(inplace=True)\n",
    "\n",
    "years = []\n",
    "turnouts = []\n",
    "states = []\n",
    "for y in elecYears:\n",
    "    for s in top5swing:\n",
    "        subset = mlDf[(mlDf['year'] == int(y)) & (mlDf['state'] == s)]\n",
    "        turnout = subset[subset['candidatevotes']==max(subset['candidatevotes'])]['party'].values[0]\n",
    "        turnouts.append(turnout)\n",
    "        states.append(s)\n",
    "        years.append(y)\n",
    "\n",
    "mlDf = pd.DataFrame(data={'year': years, 'state': states, 'turnout': turnouts})\n",
    "mlDf['year'] = mlDf['year'].astype(int)"
   ]
  },
  {
   "cell_type": "code",
   "execution_count": 298,
   "metadata": {},
   "outputs": [],
   "source": [
    "# adding economic indicators features\n",
    "\n",
    "unemploymentRates, manufacturingJobs = [], []\n",
    "\n",
    "state = 'florida'\n",
    "manu = pd.read_csv(f'data/{state}_manufacturing.csv')\n",
    "unem = pd.read_csv(f'data/{state}_unemployment.csv')\n",
    "for y in elecYears:\n",
    "    for s in top5swing:\n",
    "        if s == 'north carolina': s = s.replace(' ', '')\n",
    "        manu = pd.read_csv(f'data/{s}_manufacturing.csv')\n",
    "        unem = pd.read_csv(f'data/{s}_unemployment.csv')\n",
    "        unemploymentRates.append(unem[unem['Year'] == int(y)]['unemployment rate'].to_list()[0])\n",
    "        try:\n",
    "            manufacturingJobs.append(manu[manu['Year'] == int(y)]['0'].to_list()[0])\n",
    "        except:\n",
    "            manufacturingJobs.append(np.NaN)\n",
    "\n",
    "mlDf['manufacturing_jobs'] = manufacturingJobs\n",
    "mlDf['unemployment_rate'] = unemploymentRates"
   ]
  },
  {
   "cell_type": "code",
   "execution_count": 299,
   "metadata": {},
   "outputs": [
    {
     "data": {
      "text/html": [
       "<div>\n",
       "<style scoped>\n",
       "    .dataframe tbody tr th:only-of-type {\n",
       "        vertical-align: middle;\n",
       "    }\n",
       "\n",
       "    .dataframe tbody tr th {\n",
       "        vertical-align: top;\n",
       "    }\n",
       "\n",
       "    .dataframe thead th {\n",
       "        text-align: right;\n",
       "    }\n",
       "</style>\n",
       "<table border=\"1\" class=\"dataframe\">\n",
       "  <thead>\n",
       "    <tr style=\"text-align: right;\">\n",
       "      <th></th>\n",
       "      <th>year</th>\n",
       "      <th>state</th>\n",
       "      <th>turnout</th>\n",
       "      <th>manufacturing_jobs</th>\n",
       "      <th>unemployment_rate</th>\n",
       "    </tr>\n",
       "  </thead>\n",
       "  <tbody>\n",
       "    <tr>\n",
       "      <th>0</th>\n",
       "      <td>1976</td>\n",
       "      <td>florida</td>\n",
       "      <td>democrat</td>\n",
       "      <td>NaN</td>\n",
       "      <td>9.300000</td>\n",
       "    </tr>\n",
       "    <tr>\n",
       "      <th>1</th>\n",
       "      <td>1976</td>\n",
       "      <td>pennsylvania</td>\n",
       "      <td>democrat</td>\n",
       "      <td>NaN</td>\n",
       "      <td>8.008333</td>\n",
       "    </tr>\n",
       "    <tr>\n",
       "      <th>2</th>\n",
       "      <td>1976</td>\n",
       "      <td>ohio</td>\n",
       "      <td>democrat</td>\n",
       "      <td>NaN</td>\n",
       "      <td>7.725000</td>\n",
       "    </tr>\n",
       "    <tr>\n",
       "      <th>3</th>\n",
       "      <td>1976</td>\n",
       "      <td>michigan</td>\n",
       "      <td>republican</td>\n",
       "      <td>NaN</td>\n",
       "      <td>9.400000</td>\n",
       "    </tr>\n",
       "    <tr>\n",
       "      <th>4</th>\n",
       "      <td>1976</td>\n",
       "      <td>north carolina</td>\n",
       "      <td>democrat</td>\n",
       "      <td>NaN</td>\n",
       "      <td>6.191667</td>\n",
       "    </tr>\n",
       "    <tr>\n",
       "      <th>...</th>\n",
       "      <td>...</td>\n",
       "      <td>...</td>\n",
       "      <td>...</td>\n",
       "      <td>...</td>\n",
       "      <td>...</td>\n",
       "    </tr>\n",
       "    <tr>\n",
       "      <th>55</th>\n",
       "      <td>2020</td>\n",
       "      <td>florida</td>\n",
       "      <td>republican</td>\n",
       "      <td>378.591667</td>\n",
       "      <td>8.191667</td>\n",
       "    </tr>\n",
       "    <tr>\n",
       "      <th>56</th>\n",
       "      <td>2020</td>\n",
       "      <td>pennsylvania</td>\n",
       "      <td>democrat</td>\n",
       "      <td>537.808333</td>\n",
       "      <td>8.875000</td>\n",
       "    </tr>\n",
       "    <tr>\n",
       "      <th>57</th>\n",
       "      <td>2020</td>\n",
       "      <td>ohio</td>\n",
       "      <td>republican</td>\n",
       "      <td>653.066667</td>\n",
       "      <td>8.266667</td>\n",
       "    </tr>\n",
       "    <tr>\n",
       "      <th>58</th>\n",
       "      <td>2020</td>\n",
       "      <td>michigan</td>\n",
       "      <td>democrat</td>\n",
       "      <td>556.758333</td>\n",
       "      <td>10.050000</td>\n",
       "    </tr>\n",
       "    <tr>\n",
       "      <th>59</th>\n",
       "      <td>2020</td>\n",
       "      <td>north carolina</td>\n",
       "      <td>republican</td>\n",
       "      <td>453.258333</td>\n",
       "      <td>7.283333</td>\n",
       "    </tr>\n",
       "  </tbody>\n",
       "</table>\n",
       "<p>60 rows × 5 columns</p>\n",
       "</div>"
      ],
      "text/plain": [
       "    year           state     turnout  manufacturing_jobs  unemployment_rate\n",
       "0   1976         florida    democrat                 NaN           9.300000\n",
       "1   1976    pennsylvania    democrat                 NaN           8.008333\n",
       "2   1976            ohio    democrat                 NaN           7.725000\n",
       "3   1976        michigan  republican                 NaN           9.400000\n",
       "4   1976  north carolina    democrat                 NaN           6.191667\n",
       "..   ...             ...         ...                 ...                ...\n",
       "55  2020         florida  republican          378.591667           8.191667\n",
       "56  2020    pennsylvania    democrat          537.808333           8.875000\n",
       "57  2020            ohio  republican          653.066667           8.266667\n",
       "58  2020        michigan    democrat          556.758333          10.050000\n",
       "59  2020  north carolina  republican          453.258333           7.283333\n",
       "\n",
       "[60 rows x 5 columns]"
      ]
     },
     "execution_count": 299,
     "metadata": {},
     "output_type": "execute_result"
    }
   ],
   "source": [
    "mlDf"
   ]
  },
  {
   "cell_type": "code",
   "execution_count": 322,
   "metadata": {},
   "outputs": [
    {
     "data": {
      "text/html": [
       "<div>\n",
       "<style scoped>\n",
       "    .dataframe tbody tr th:only-of-type {\n",
       "        vertical-align: middle;\n",
       "    }\n",
       "\n",
       "    .dataframe tbody tr th {\n",
       "        vertical-align: top;\n",
       "    }\n",
       "\n",
       "    .dataframe thead th {\n",
       "        text-align: right;\n",
       "    }\n",
       "</style>\n",
       "<table border=\"1\" class=\"dataframe\">\n",
       "  <thead>\n",
       "    <tr style=\"text-align: right;\">\n",
       "      <th></th>\n",
       "      <th>year</th>\n",
       "      <th>state</th>\n",
       "      <th>turnout</th>\n",
       "      <th>manufacturing_jobs</th>\n",
       "      <th>unemployment_rate</th>\n",
       "      <th>cpi_all_items</th>\n",
       "      <th>cpi_gasoline</th>\n",
       "      <th>cpi_medical_care</th>\n",
       "    </tr>\n",
       "  </thead>\n",
       "  <tbody>\n",
       "    <tr>\n",
       "      <th>0</th>\n",
       "      <td>1976</td>\n",
       "      <td>florida</td>\n",
       "      <td>democrat</td>\n",
       "      <td>NaN</td>\n",
       "      <td>9.300000</td>\n",
       "      <td>56.908333</td>\n",
       "      <td>46.991667</td>\n",
       "      <td>51.991667</td>\n",
       "    </tr>\n",
       "    <tr>\n",
       "      <th>1</th>\n",
       "      <td>1976</td>\n",
       "      <td>pennsylvania</td>\n",
       "      <td>democrat</td>\n",
       "      <td>NaN</td>\n",
       "      <td>8.008333</td>\n",
       "      <td>56.908333</td>\n",
       "      <td>46.991667</td>\n",
       "      <td>51.991667</td>\n",
       "    </tr>\n",
       "    <tr>\n",
       "      <th>2</th>\n",
       "      <td>1976</td>\n",
       "      <td>ohio</td>\n",
       "      <td>democrat</td>\n",
       "      <td>NaN</td>\n",
       "      <td>7.725000</td>\n",
       "      <td>56.908333</td>\n",
       "      <td>46.991667</td>\n",
       "      <td>51.991667</td>\n",
       "    </tr>\n",
       "    <tr>\n",
       "      <th>3</th>\n",
       "      <td>1976</td>\n",
       "      <td>michigan</td>\n",
       "      <td>republican</td>\n",
       "      <td>NaN</td>\n",
       "      <td>9.400000</td>\n",
       "      <td>56.908333</td>\n",
       "      <td>46.991667</td>\n",
       "      <td>51.991667</td>\n",
       "    </tr>\n",
       "    <tr>\n",
       "      <th>4</th>\n",
       "      <td>1976</td>\n",
       "      <td>north carolina</td>\n",
       "      <td>democrat</td>\n",
       "      <td>NaN</td>\n",
       "      <td>6.191667</td>\n",
       "      <td>56.908333</td>\n",
       "      <td>46.991667</td>\n",
       "      <td>51.991667</td>\n",
       "    </tr>\n",
       "    <tr>\n",
       "      <th>5</th>\n",
       "      <td>1980</td>\n",
       "      <td>florida</td>\n",
       "      <td>republican</td>\n",
       "      <td>NaN</td>\n",
       "      <td>5.983333</td>\n",
       "      <td>82.408333</td>\n",
       "      <td>97.516667</td>\n",
       "      <td>74.875000</td>\n",
       "    </tr>\n",
       "    <tr>\n",
       "      <th>6</th>\n",
       "      <td>1980</td>\n",
       "      <td>pennsylvania</td>\n",
       "      <td>republican</td>\n",
       "      <td>NaN</td>\n",
       "      <td>8.141667</td>\n",
       "      <td>82.408333</td>\n",
       "      <td>97.516667</td>\n",
       "      <td>74.875000</td>\n",
       "    </tr>\n",
       "    <tr>\n",
       "      <th>7</th>\n",
       "      <td>1980</td>\n",
       "      <td>ohio</td>\n",
       "      <td>republican</td>\n",
       "      <td>NaN</td>\n",
       "      <td>8.316667</td>\n",
       "      <td>82.408333</td>\n",
       "      <td>97.516667</td>\n",
       "      <td>74.875000</td>\n",
       "    </tr>\n",
       "    <tr>\n",
       "      <th>8</th>\n",
       "      <td>1980</td>\n",
       "      <td>michigan</td>\n",
       "      <td>republican</td>\n",
       "      <td>NaN</td>\n",
       "      <td>12.300000</td>\n",
       "      <td>82.408333</td>\n",
       "      <td>97.516667</td>\n",
       "      <td>74.875000</td>\n",
       "    </tr>\n",
       "    <tr>\n",
       "      <th>9</th>\n",
       "      <td>1980</td>\n",
       "      <td>north carolina</td>\n",
       "      <td>republican</td>\n",
       "      <td>NaN</td>\n",
       "      <td>6.425000</td>\n",
       "      <td>82.408333</td>\n",
       "      <td>97.516667</td>\n",
       "      <td>74.875000</td>\n",
       "    </tr>\n",
       "  </tbody>\n",
       "</table>\n",
       "</div>"
      ],
      "text/plain": [
       "   year           state     turnout  manufacturing_jobs  unemployment_rate  \\\n",
       "0  1976         florida    democrat                 NaN           9.300000   \n",
       "1  1976    pennsylvania    democrat                 NaN           8.008333   \n",
       "2  1976            ohio    democrat                 NaN           7.725000   \n",
       "3  1976        michigan  republican                 NaN           9.400000   \n",
       "4  1976  north carolina    democrat                 NaN           6.191667   \n",
       "5  1980         florida  republican                 NaN           5.983333   \n",
       "6  1980    pennsylvania  republican                 NaN           8.141667   \n",
       "7  1980            ohio  republican                 NaN           8.316667   \n",
       "8  1980        michigan  republican                 NaN          12.300000   \n",
       "9  1980  north carolina  republican                 NaN           6.425000   \n",
       "\n",
       "   cpi_all_items  cpi_gasoline  cpi_medical_care  \n",
       "0      56.908333     46.991667         51.991667  \n",
       "1      56.908333     46.991667         51.991667  \n",
       "2      56.908333     46.991667         51.991667  \n",
       "3      56.908333     46.991667         51.991667  \n",
       "4      56.908333     46.991667         51.991667  \n",
       "5      82.408333     97.516667         74.875000  \n",
       "6      82.408333     97.516667         74.875000  \n",
       "7      82.408333     97.516667         74.875000  \n",
       "8      82.408333     97.516667         74.875000  \n",
       "9      82.408333     97.516667         74.875000  "
      ]
     },
     "execution_count": 322,
     "metadata": {},
     "output_type": "execute_result"
    }
   ],
   "source": [
    "# merge ml dataset with cpi data\n",
    "\n",
    "cpiData = dfPlot1.groupby('Year')['cpi', 'cpig', 'cpih', 'cpim'].mean()\n",
    "\n",
    "cpis, cpigs, cpims = [], [], []\n",
    "for y in mlDf['year']:\n",
    "    cpis.append(cpiData.loc[str(y)]['cpi'])\n",
    "    cpigs.append(cpiData.loc[str(y)]['cpig'])\n",
    "    cpims.append(cpiData.loc[str(y)]['cpim'])\n",
    "\n",
    "mlDf['cpi_all_items'] = cpis\n",
    "mlDf['cpi_gasoline'] = cpigs\n",
    "mlDf['cpi_medical_care'] = cpims\n",
    "\n",
    "mlDf.head(10)"
   ]
  },
  {
   "cell_type": "code",
   "execution_count": 370,
   "metadata": {},
   "outputs": [
    {
     "data": {
      "text/plain": [
       "<AxesSubplot:>"
      ]
     },
     "execution_count": 370,
     "metadata": {},
     "output_type": "execute_result"
    },
    {
     "data": {
      "image/png": "[encoded data removed]",
      "text/plain": [
       "<Figure size 432x288 with 1 Axes>"
      ]
     },
     "metadata": {
      "needs_background": "light"
     },
     "output_type": "display_data"
    }
   ],
   "source": [
    "mlDf[mlDf['state']=='pennsylvania']['manufacturing_jobs'].plot()"
   ]
  },
  {
   "cell_type": "code",
   "execution_count": 372,
   "metadata": {},
   "outputs": [
    {
     "data": {
      "text/plain": [
       "<AxesSubplot:>"
      ]
     },
     "execution_count": 372,
     "metadata": {},
     "output_type": "execute_result"
    },
    {
     "data": {
      "image/png": "[encoded data removed]",
      "text/plain": [
       "<Figure size 432x288 with 1 Axes>"
      ]
     },
     "metadata": {
      "needs_background": "light"
     },
     "output_type": "display_data"
    }
   ],
   "source": [
    "mlDf[mlDf['state']=='north carolina']['manufacturing_jobs'].plot()"
   ]
  },
  {
   "cell_type": "code",
   "execution_count": 369,
   "metadata": {},
   "outputs": [
    {
     "data": {
      "text/html": [
       "<div>\n",
       "<style scoped>\n",
       "    .dataframe tbody tr th:only-of-type {\n",
       "        vertical-align: middle;\n",
       "    }\n",
       "\n",
       "    .dataframe tbody tr th {\n",
       "        vertical-align: top;\n",
       "    }\n",
       "\n",
       "    .dataframe thead th {\n",
       "        text-align: right;\n",
       "    }\n",
       "</style>\n",
       "<table border=\"1\" class=\"dataframe\">\n",
       "  <thead>\n",
       "    <tr style=\"text-align: right;\">\n",
       "      <th></th>\n",
       "      <th>year</th>\n",
       "      <th>state</th>\n",
       "      <th>turnout</th>\n",
       "      <th>manufacturing_jobs</th>\n",
       "      <th>unemployment_rate</th>\n",
       "      <th>cpi_all_items</th>\n",
       "      <th>cpi_gasoline</th>\n",
       "      <th>cpi_medical_care</th>\n",
       "    </tr>\n",
       "  </thead>\n",
       "  <tbody>\n",
       "    <tr>\n",
       "      <th>0</th>\n",
       "      <td>1976</td>\n",
       "      <td>florida</td>\n",
       "      <td>democrat</td>\n",
       "      <td>NaN</td>\n",
       "      <td>9.300000</td>\n",
       "      <td>56.908333</td>\n",
       "      <td>46.991667</td>\n",
       "      <td>51.991667</td>\n",
       "    </tr>\n",
       "    <tr>\n",
       "      <th>1</th>\n",
       "      <td>1976</td>\n",
       "      <td>pennsylvania</td>\n",
       "      <td>democrat</td>\n",
       "      <td>NaN</td>\n",
       "      <td>8.008333</td>\n",
       "      <td>56.908333</td>\n",
       "      <td>46.991667</td>\n",
       "      <td>51.991667</td>\n",
       "    </tr>\n",
       "    <tr>\n",
       "      <th>2</th>\n",
       "      <td>1976</td>\n",
       "      <td>ohio</td>\n",
       "      <td>democrat</td>\n",
       "      <td>NaN</td>\n",
       "      <td>7.725000</td>\n",
       "      <td>56.908333</td>\n",
       "      <td>46.991667</td>\n",
       "      <td>51.991667</td>\n",
       "    </tr>\n",
       "    <tr>\n",
       "      <th>3</th>\n",
       "      <td>1976</td>\n",
       "      <td>michigan</td>\n",
       "      <td>republican</td>\n",
       "      <td>NaN</td>\n",
       "      <td>9.400000</td>\n",
       "      <td>56.908333</td>\n",
       "      <td>46.991667</td>\n",
       "      <td>51.991667</td>\n",
       "    </tr>\n",
       "    <tr>\n",
       "      <th>4</th>\n",
       "      <td>1976</td>\n",
       "      <td>north carolina</td>\n",
       "      <td>democrat</td>\n",
       "      <td>NaN</td>\n",
       "      <td>6.191667</td>\n",
       "      <td>56.908333</td>\n",
       "      <td>46.991667</td>\n",
       "      <td>51.991667</td>\n",
       "    </tr>\n",
       "    <tr>\n",
       "      <th>5</th>\n",
       "      <td>1980</td>\n",
       "      <td>florida</td>\n",
       "      <td>republican</td>\n",
       "      <td>NaN</td>\n",
       "      <td>5.983333</td>\n",
       "      <td>82.408333</td>\n",
       "      <td>97.516667</td>\n",
       "      <td>74.875000</td>\n",
       "    </tr>\n",
       "    <tr>\n",
       "      <th>6</th>\n",
       "      <td>1980</td>\n",
       "      <td>pennsylvania</td>\n",
       "      <td>republican</td>\n",
       "      <td>NaN</td>\n",
       "      <td>8.141667</td>\n",
       "      <td>82.408333</td>\n",
       "      <td>97.516667</td>\n",
       "      <td>74.875000</td>\n",
       "    </tr>\n",
       "    <tr>\n",
       "      <th>7</th>\n",
       "      <td>1980</td>\n",
       "      <td>ohio</td>\n",
       "      <td>republican</td>\n",
       "      <td>NaN</td>\n",
       "      <td>8.316667</td>\n",
       "      <td>82.408333</td>\n",
       "      <td>97.516667</td>\n",
       "      <td>74.875000</td>\n",
       "    </tr>\n",
       "    <tr>\n",
       "      <th>8</th>\n",
       "      <td>1980</td>\n",
       "      <td>michigan</td>\n",
       "      <td>republican</td>\n",
       "      <td>NaN</td>\n",
       "      <td>12.300000</td>\n",
       "      <td>82.408333</td>\n",
       "      <td>97.516667</td>\n",
       "      <td>74.875000</td>\n",
       "    </tr>\n",
       "    <tr>\n",
       "      <th>9</th>\n",
       "      <td>1980</td>\n",
       "      <td>north carolina</td>\n",
       "      <td>republican</td>\n",
       "      <td>NaN</td>\n",
       "      <td>6.425000</td>\n",
       "      <td>82.408333</td>\n",
       "      <td>97.516667</td>\n",
       "      <td>74.875000</td>\n",
       "    </tr>\n",
       "    <tr>\n",
       "      <th>10</th>\n",
       "      <td>1984</td>\n",
       "      <td>florida</td>\n",
       "      <td>republican</td>\n",
       "      <td>NaN</td>\n",
       "      <td>6.591667</td>\n",
       "      <td>103.883333</td>\n",
       "      <td>97.766667</td>\n",
       "      <td>106.858333</td>\n",
       "    </tr>\n",
       "    <tr>\n",
       "      <th>11</th>\n",
       "      <td>1984</td>\n",
       "      <td>pennsylvania</td>\n",
       "      <td>republican</td>\n",
       "      <td>NaN</td>\n",
       "      <td>8.933333</td>\n",
       "      <td>103.883333</td>\n",
       "      <td>97.766667</td>\n",
       "      <td>106.858333</td>\n",
       "    </tr>\n",
       "    <tr>\n",
       "      <th>12</th>\n",
       "      <td>1984</td>\n",
       "      <td>ohio</td>\n",
       "      <td>republican</td>\n",
       "      <td>NaN</td>\n",
       "      <td>9.466667</td>\n",
       "      <td>103.883333</td>\n",
       "      <td>97.766667</td>\n",
       "      <td>106.858333</td>\n",
       "    </tr>\n",
       "    <tr>\n",
       "      <th>13</th>\n",
       "      <td>1984</td>\n",
       "      <td>michigan</td>\n",
       "      <td>republican</td>\n",
       "      <td>NaN</td>\n",
       "      <td>11.233333</td>\n",
       "      <td>103.883333</td>\n",
       "      <td>97.766667</td>\n",
       "      <td>106.858333</td>\n",
       "    </tr>\n",
       "    <tr>\n",
       "      <th>14</th>\n",
       "      <td>1984</td>\n",
       "      <td>north carolina</td>\n",
       "      <td>republican</td>\n",
       "      <td>NaN</td>\n",
       "      <td>6.575000</td>\n",
       "      <td>103.883333</td>\n",
       "      <td>97.766667</td>\n",
       "      <td>106.858333</td>\n",
       "    </tr>\n",
       "    <tr>\n",
       "      <th>15</th>\n",
       "      <td>1988</td>\n",
       "      <td>florida</td>\n",
       "      <td>republican</td>\n",
       "      <td>NaN</td>\n",
       "      <td>5.191667</td>\n",
       "      <td>118.258333</td>\n",
       "      <td>80.800000</td>\n",
       "      <td>138.641667</td>\n",
       "    </tr>\n",
       "    <tr>\n",
       "      <th>16</th>\n",
       "      <td>1988</td>\n",
       "      <td>pennsylvania</td>\n",
       "      <td>republican</td>\n",
       "      <td>NaN</td>\n",
       "      <td>5.133333</td>\n",
       "      <td>118.258333</td>\n",
       "      <td>80.800000</td>\n",
       "      <td>138.641667</td>\n",
       "    </tr>\n",
       "    <tr>\n",
       "      <th>17</th>\n",
       "      <td>1988</td>\n",
       "      <td>ohio</td>\n",
       "      <td>republican</td>\n",
       "      <td>NaN</td>\n",
       "      <td>6.016667</td>\n",
       "      <td>118.258333</td>\n",
       "      <td>80.800000</td>\n",
       "      <td>138.641667</td>\n",
       "    </tr>\n",
       "    <tr>\n",
       "      <th>18</th>\n",
       "      <td>1988</td>\n",
       "      <td>michigan</td>\n",
       "      <td>republican</td>\n",
       "      <td>NaN</td>\n",
       "      <td>7.566667</td>\n",
       "      <td>118.258333</td>\n",
       "      <td>80.800000</td>\n",
       "      <td>138.641667</td>\n",
       "    </tr>\n",
       "    <tr>\n",
       "      <th>19</th>\n",
       "      <td>1988</td>\n",
       "      <td>north carolina</td>\n",
       "      <td>republican</td>\n",
       "      <td>NaN</td>\n",
       "      <td>3.700000</td>\n",
       "      <td>118.258333</td>\n",
       "      <td>80.800000</td>\n",
       "      <td>138.641667</td>\n",
       "    </tr>\n",
       "    <tr>\n",
       "      <th>20</th>\n",
       "      <td>1992</td>\n",
       "      <td>florida</td>\n",
       "      <td>republican</td>\n",
       "      <td>473.016667</td>\n",
       "      <td>8.366667</td>\n",
       "      <td>140.316667</td>\n",
       "      <td>98.975000</td>\n",
       "      <td>190.066667</td>\n",
       "    </tr>\n",
       "    <tr>\n",
       "      <th>21</th>\n",
       "      <td>1992</td>\n",
       "      <td>pennsylvania</td>\n",
       "      <td>democrat</td>\n",
       "      <td>891.266667</td>\n",
       "      <td>7.450000</td>\n",
       "      <td>140.316667</td>\n",
       "      <td>98.975000</td>\n",
       "      <td>190.066667</td>\n",
       "    </tr>\n",
       "    <tr>\n",
       "      <th>22</th>\n",
       "      <td>1992</td>\n",
       "      <td>ohio</td>\n",
       "      <td>democrat</td>\n",
       "      <td>993.358333</td>\n",
       "      <td>7.391667</td>\n",
       "      <td>140.316667</td>\n",
       "      <td>98.975000</td>\n",
       "      <td>190.066667</td>\n",
       "    </tr>\n",
       "    <tr>\n",
       "      <th>23</th>\n",
       "      <td>1992</td>\n",
       "      <td>michigan</td>\n",
       "      <td>democrat</td>\n",
       "      <td>788.208333</td>\n",
       "      <td>9.066667</td>\n",
       "      <td>140.316667</td>\n",
       "      <td>98.975000</td>\n",
       "      <td>190.066667</td>\n",
       "    </tr>\n",
       "    <tr>\n",
       "      <th>24</th>\n",
       "      <td>1992</td>\n",
       "      <td>north carolina</td>\n",
       "      <td>republican</td>\n",
       "      <td>803.266667</td>\n",
       "      <td>6.250000</td>\n",
       "      <td>140.316667</td>\n",
       "      <td>98.975000</td>\n",
       "      <td>190.066667</td>\n",
       "    </tr>\n",
       "    <tr>\n",
       "      <th>25</th>\n",
       "      <td>1996</td>\n",
       "      <td>florida</td>\n",
       "      <td>democrat</td>\n",
       "      <td>485.941667</td>\n",
       "      <td>5.283333</td>\n",
       "      <td>156.850000</td>\n",
       "      <td>105.866667</td>\n",
       "      <td>228.225000</td>\n",
       "    </tr>\n",
       "    <tr>\n",
       "      <th>26</th>\n",
       "      <td>1996</td>\n",
       "      <td>pennsylvania</td>\n",
       "      <td>democrat</td>\n",
       "      <td>868.208333</td>\n",
       "      <td>5.491667</td>\n",
       "      <td>156.850000</td>\n",
       "      <td>105.866667</td>\n",
       "      <td>228.225000</td>\n",
       "    </tr>\n",
       "    <tr>\n",
       "      <th>27</th>\n",
       "      <td>1996</td>\n",
       "      <td>ohio</td>\n",
       "      <td>democrat</td>\n",
       "      <td>1030.225000</td>\n",
       "      <td>4.991667</td>\n",
       "      <td>156.850000</td>\n",
       "      <td>105.866667</td>\n",
       "      <td>228.225000</td>\n",
       "    </tr>\n",
       "    <tr>\n",
       "      <th>28</th>\n",
       "      <td>1996</td>\n",
       "      <td>michigan</td>\n",
       "      <td>democrat</td>\n",
       "      <td>857.216667</td>\n",
       "      <td>4.891667</td>\n",
       "      <td>156.850000</td>\n",
       "      <td>105.866667</td>\n",
       "      <td>228.225000</td>\n",
       "    </tr>\n",
       "    <tr>\n",
       "      <th>29</th>\n",
       "      <td>1996</td>\n",
       "      <td>north carolina</td>\n",
       "      <td>republican</td>\n",
       "      <td>809.825000</td>\n",
       "      <td>4.341667</td>\n",
       "      <td>156.850000</td>\n",
       "      <td>105.866667</td>\n",
       "      <td>228.225000</td>\n",
       "    </tr>\n",
       "    <tr>\n",
       "      <th>30</th>\n",
       "      <td>2000</td>\n",
       "      <td>florida</td>\n",
       "      <td>republican</td>\n",
       "      <td>478.133333</td>\n",
       "      <td>3.758333</td>\n",
       "      <td>172.200000</td>\n",
       "      <td>128.566667</td>\n",
       "      <td>260.750000</td>\n",
       "    </tr>\n",
       "    <tr>\n",
       "      <th>31</th>\n",
       "      <td>2000</td>\n",
       "      <td>pennsylvania</td>\n",
       "      <td>democrat</td>\n",
       "      <td>865.108333</td>\n",
       "      <td>4.225000</td>\n",
       "      <td>172.200000</td>\n",
       "      <td>128.566667</td>\n",
       "      <td>260.750000</td>\n",
       "    </tr>\n",
       "    <tr>\n",
       "      <th>32</th>\n",
       "      <td>2000</td>\n",
       "      <td>ohio</td>\n",
       "      <td>republican</td>\n",
       "      <td>1022.325000</td>\n",
       "      <td>4.116667</td>\n",
       "      <td>172.200000</td>\n",
       "      <td>128.566667</td>\n",
       "      <td>260.750000</td>\n",
       "    </tr>\n",
       "    <tr>\n",
       "      <th>33</th>\n",
       "      <td>2000</td>\n",
       "      <td>michigan</td>\n",
       "      <td>democrat</td>\n",
       "      <td>886.258333</td>\n",
       "      <td>3.691667</td>\n",
       "      <td>172.200000</td>\n",
       "      <td>128.566667</td>\n",
       "      <td>260.750000</td>\n",
       "    </tr>\n",
       "    <tr>\n",
       "      <th>34</th>\n",
       "      <td>2000</td>\n",
       "      <td>north carolina</td>\n",
       "      <td>republican</td>\n",
       "      <td>758.675000</td>\n",
       "      <td>3.758333</td>\n",
       "      <td>172.200000</td>\n",
       "      <td>128.566667</td>\n",
       "      <td>260.750000</td>\n",
       "    </tr>\n",
       "    <tr>\n",
       "      <th>35</th>\n",
       "      <td>2004</td>\n",
       "      <td>florida</td>\n",
       "      <td>republican</td>\n",
       "      <td>410.866667</td>\n",
       "      <td>3.750000</td>\n",
       "      <td>188.883333</td>\n",
       "      <td>159.666667</td>\n",
       "      <td>310.133333</td>\n",
       "    </tr>\n",
       "    <tr>\n",
       "      <th>36</th>\n",
       "      <td>2004</td>\n",
       "      <td>pennsylvania</td>\n",
       "      <td>democrat</td>\n",
       "      <td>691.416667</td>\n",
       "      <td>5.358333</td>\n",
       "      <td>188.883333</td>\n",
       "      <td>159.666667</td>\n",
       "      <td>310.133333</td>\n",
       "    </tr>\n",
       "    <tr>\n",
       "      <th>37</th>\n",
       "      <td>2004</td>\n",
       "      <td>ohio</td>\n",
       "      <td>republican</td>\n",
       "      <td>823.458333</td>\n",
       "      <td>6.250000</td>\n",
       "      <td>188.883333</td>\n",
       "      <td>159.666667</td>\n",
       "      <td>310.133333</td>\n",
       "    </tr>\n",
       "    <tr>\n",
       "      <th>38</th>\n",
       "      <td>2004</td>\n",
       "      <td>michigan</td>\n",
       "      <td>democrat</td>\n",
       "      <td>688.883333</td>\n",
       "      <td>6.950000</td>\n",
       "      <td>188.883333</td>\n",
       "      <td>159.666667</td>\n",
       "      <td>310.133333</td>\n",
       "    </tr>\n",
       "    <tr>\n",
       "      <th>39</th>\n",
       "      <td>2004</td>\n",
       "      <td>north carolina</td>\n",
       "      <td>republican</td>\n",
       "      <td>577.366667</td>\n",
       "      <td>5.858333</td>\n",
       "      <td>188.883333</td>\n",
       "      <td>159.666667</td>\n",
       "      <td>310.133333</td>\n",
       "    </tr>\n",
       "    <tr>\n",
       "      <th>40</th>\n",
       "      <td>2008</td>\n",
       "      <td>florida</td>\n",
       "      <td>democrat</td>\n",
       "      <td>371.891667</td>\n",
       "      <td>5.691667</td>\n",
       "      <td>215.302500</td>\n",
       "      <td>277.456667</td>\n",
       "      <td>364.064833</td>\n",
       "    </tr>\n",
       "    <tr>\n",
       "      <th>41</th>\n",
       "      <td>2008</td>\n",
       "      <td>pennsylvania</td>\n",
       "      <td>democrat</td>\n",
       "      <td>644.433333</td>\n",
       "      <td>5.350000</td>\n",
       "      <td>215.302500</td>\n",
       "      <td>277.456667</td>\n",
       "      <td>364.064833</td>\n",
       "    </tr>\n",
       "    <tr>\n",
       "      <th>42</th>\n",
       "      <td>2008</td>\n",
       "      <td>ohio</td>\n",
       "      <td>democrat</td>\n",
       "      <td>739.516667</td>\n",
       "      <td>6.600000</td>\n",
       "      <td>215.302500</td>\n",
       "      <td>277.456667</td>\n",
       "      <td>364.064833</td>\n",
       "    </tr>\n",
       "    <tr>\n",
       "      <th>43</th>\n",
       "      <td>2008</td>\n",
       "      <td>michigan</td>\n",
       "      <td>democrat</td>\n",
       "      <td>563.000000</td>\n",
       "      <td>8.216667</td>\n",
       "      <td>215.302500</td>\n",
       "      <td>277.456667</td>\n",
       "      <td>364.064833</td>\n",
       "    </tr>\n",
       "    <tr>\n",
       "      <th>44</th>\n",
       "      <td>2008</td>\n",
       "      <td>north carolina</td>\n",
       "      <td>democrat</td>\n",
       "      <td>516.050000</td>\n",
       "      <td>6.208333</td>\n",
       "      <td>215.302500</td>\n",
       "      <td>277.456667</td>\n",
       "      <td>364.064833</td>\n",
       "    </tr>\n",
       "    <tr>\n",
       "      <th>45</th>\n",
       "      <td>2012</td>\n",
       "      <td>florida</td>\n",
       "      <td>democrat</td>\n",
       "      <td>319.158333</td>\n",
       "      <td>8.666667</td>\n",
       "      <td>229.593917</td>\n",
       "      <td>311.469750</td>\n",
       "      <td>414.923917</td>\n",
       "    </tr>\n",
       "    <tr>\n",
       "      <th>46</th>\n",
       "      <td>2012</td>\n",
       "      <td>pennsylvania</td>\n",
       "      <td>democrat</td>\n",
       "      <td>568.483333</td>\n",
       "      <td>7.658333</td>\n",
       "      <td>229.593917</td>\n",
       "      <td>311.469750</td>\n",
       "      <td>414.923917</td>\n",
       "    </tr>\n",
       "    <tr>\n",
       "      <th>47</th>\n",
       "      <td>2012</td>\n",
       "      <td>ohio</td>\n",
       "      <td>democrat</td>\n",
       "      <td>657.066667</td>\n",
       "      <td>7.408333</td>\n",
       "      <td>229.593917</td>\n",
       "      <td>311.469750</td>\n",
       "      <td>414.923917</td>\n",
       "    </tr>\n",
       "    <tr>\n",
       "      <th>48</th>\n",
       "      <td>2012</td>\n",
       "      <td>michigan</td>\n",
       "      <td>democrat</td>\n",
       "      <td>530.533333</td>\n",
       "      <td>9.058333</td>\n",
       "      <td>229.593917</td>\n",
       "      <td>311.469750</td>\n",
       "      <td>414.923917</td>\n",
       "    </tr>\n",
       "    <tr>\n",
       "      <th>49</th>\n",
       "      <td>2012</td>\n",
       "      <td>north carolina</td>\n",
       "      <td>republican</td>\n",
       "      <td>440.550000</td>\n",
       "      <td>9.516667</td>\n",
       "      <td>229.593917</td>\n",
       "      <td>311.469750</td>\n",
       "      <td>414.923917</td>\n",
       "    </tr>\n",
       "    <tr>\n",
       "      <th>50</th>\n",
       "      <td>2016</td>\n",
       "      <td>florida</td>\n",
       "      <td>republican</td>\n",
       "      <td>357.933333</td>\n",
       "      <td>4.916667</td>\n",
       "      <td>240.007167</td>\n",
       "      <td>187.601917</td>\n",
       "      <td>463.674667</td>\n",
       "    </tr>\n",
       "    <tr>\n",
       "      <th>51</th>\n",
       "      <td>2016</td>\n",
       "      <td>pennsylvania</td>\n",
       "      <td>republican</td>\n",
       "      <td>561.308333</td>\n",
       "      <td>5.341667</td>\n",
       "      <td>240.007167</td>\n",
       "      <td>187.601917</td>\n",
       "      <td>463.674667</td>\n",
       "    </tr>\n",
       "    <tr>\n",
       "      <th>52</th>\n",
       "      <td>2016</td>\n",
       "      <td>ohio</td>\n",
       "      <td>republican</td>\n",
       "      <td>686.516667</td>\n",
       "      <td>5.075000</td>\n",
       "      <td>240.007167</td>\n",
       "      <td>187.601917</td>\n",
       "      <td>463.674667</td>\n",
       "    </tr>\n",
       "    <tr>\n",
       "      <th>53</th>\n",
       "      <td>2016</td>\n",
       "      <td>michigan</td>\n",
       "      <td>republican</td>\n",
       "      <td>605.758333</td>\n",
       "      <td>5.008333</td>\n",
       "      <td>240.007167</td>\n",
       "      <td>187.601917</td>\n",
       "      <td>463.674667</td>\n",
       "    </tr>\n",
       "    <tr>\n",
       "      <th>54</th>\n",
       "      <td>2016</td>\n",
       "      <td>north carolina</td>\n",
       "      <td>republican</td>\n",
       "      <td>465.333333</td>\n",
       "      <td>5.100000</td>\n",
       "      <td>240.007167</td>\n",
       "      <td>187.601917</td>\n",
       "      <td>463.674667</td>\n",
       "    </tr>\n",
       "    <tr>\n",
       "      <th>55</th>\n",
       "      <td>2020</td>\n",
       "      <td>florida</td>\n",
       "      <td>republican</td>\n",
       "      <td>378.591667</td>\n",
       "      <td>8.191667</td>\n",
       "      <td>258.811167</td>\n",
       "      <td>194.129500</td>\n",
       "      <td>518.875500</td>\n",
       "    </tr>\n",
       "    <tr>\n",
       "      <th>56</th>\n",
       "      <td>2020</td>\n",
       "      <td>pennsylvania</td>\n",
       "      <td>democrat</td>\n",
       "      <td>537.808333</td>\n",
       "      <td>8.875000</td>\n",
       "      <td>258.811167</td>\n",
       "      <td>194.129500</td>\n",
       "      <td>518.875500</td>\n",
       "    </tr>\n",
       "    <tr>\n",
       "      <th>57</th>\n",
       "      <td>2020</td>\n",
       "      <td>ohio</td>\n",
       "      <td>republican</td>\n",
       "      <td>653.066667</td>\n",
       "      <td>8.266667</td>\n",
       "      <td>258.811167</td>\n",
       "      <td>194.129500</td>\n",
       "      <td>518.875500</td>\n",
       "    </tr>\n",
       "    <tr>\n",
       "      <th>58</th>\n",
       "      <td>2020</td>\n",
       "      <td>michigan</td>\n",
       "      <td>democrat</td>\n",
       "      <td>556.758333</td>\n",
       "      <td>10.050000</td>\n",
       "      <td>258.811167</td>\n",
       "      <td>194.129500</td>\n",
       "      <td>518.875500</td>\n",
       "    </tr>\n",
       "    <tr>\n",
       "      <th>59</th>\n",
       "      <td>2020</td>\n",
       "      <td>north carolina</td>\n",
       "      <td>republican</td>\n",
       "      <td>453.258333</td>\n",
       "      <td>7.283333</td>\n",
       "      <td>258.811167</td>\n",
       "      <td>194.129500</td>\n",
       "      <td>518.875500</td>\n",
       "    </tr>\n",
       "  </tbody>\n",
       "</table>\n",
       "</div>"
      ],
      "text/plain": [
       "    year           state     turnout  manufacturing_jobs  unemployment_rate  \\\n",
       "0   1976         florida    democrat                 NaN           9.300000   \n",
       "1   1976    pennsylvania    democrat                 NaN           8.008333   \n",
       "2   1976            ohio    democrat                 NaN           7.725000   \n",
       "3   1976        michigan  republican                 NaN           9.400000   \n",
       "4   1976  north carolina    democrat                 NaN           6.191667   \n",
       "5   1980         florida  republican                 NaN           5.983333   \n",
       "6   1980    pennsylvania  republican                 NaN           8.141667   \n",
       "7   1980            ohio  republican                 NaN           8.316667   \n",
       "8   1980        michigan  republican                 NaN          12.300000   \n",
       "9   1980  north carolina  republican                 NaN           6.425000   \n",
       "10  1984         florida  republican                 NaN           6.591667   \n",
       "11  1984    pennsylvania  republican                 NaN           8.933333   \n",
       "12  1984            ohio  republican                 NaN           9.466667   \n",
       "13  1984        michigan  republican                 NaN          11.233333   \n",
       "14  1984  north carolina  republican                 NaN           6.575000   \n",
       "15  1988         florida  republican                 NaN           5.191667   \n",
       "16  1988    pennsylvania  republican                 NaN           5.133333   \n",
       "17  1988            ohio  republican                 NaN           6.016667   \n",
       "18  1988        michigan  republican                 NaN           7.566667   \n",
       "19  1988  north carolina  republican                 NaN           3.700000   \n",
       "20  1992         florida  republican          473.016667           8.366667   \n",
       "21  1992    pennsylvania    democrat          891.266667           7.450000   \n",
       "22  1992            ohio    democrat          993.358333           7.391667   \n",
       "23  1992        michigan    democrat          788.208333           9.066667   \n",
       "24  1992  north carolina  republican          803.266667           6.250000   \n",
       "25  1996         florida    democrat          485.941667           5.283333   \n",
       "26  1996    pennsylvania    democrat          868.208333           5.491667   \n",
       "27  1996            ohio    democrat         1030.225000           4.991667   \n",
       "28  1996        michigan    democrat          857.216667           4.891667   \n",
       "29  1996  north carolina  republican          809.825000           4.341667   \n",
       "30  2000         florida  republican          478.133333           3.758333   \n",
       "31  2000    pennsylvania    democrat          865.108333           4.225000   \n",
       "32  2000            ohio  republican         1022.325000           4.116667   \n",
       "33  2000        michigan    democrat          886.258333           3.691667   \n",
       "34  2000  north carolina  republican          758.675000           3.758333   \n",
       "35  2004         florida  republican          410.866667           3.750000   \n",
       "36  2004    pennsylvania    democrat          691.416667           5.358333   \n",
       "37  2004            ohio  republican          823.458333           6.250000   \n",
       "38  2004        michigan    democrat          688.883333           6.950000   \n",
       "39  2004  north carolina  republican          577.366667           5.858333   \n",
       "40  2008         florida    democrat          371.891667           5.691667   \n",
       "41  2008    pennsylvania    democrat          644.433333           5.350000   \n",
       "42  2008            ohio    democrat          739.516667           6.600000   \n",
       "43  2008        michigan    democrat          563.000000           8.216667   \n",
       "44  2008  north carolina    democrat          516.050000           6.208333   \n",
       "45  2012         florida    democrat          319.158333           8.666667   \n",
       "46  2012    pennsylvania    democrat          568.483333           7.658333   \n",
       "47  2012            ohio    democrat          657.066667           7.408333   \n",
       "48  2012        michigan    democrat          530.533333           9.058333   \n",
       "49  2012  north carolina  republican          440.550000           9.516667   \n",
       "50  2016         florida  republican          357.933333           4.916667   \n",
       "51  2016    pennsylvania  republican          561.308333           5.341667   \n",
       "52  2016            ohio  republican          686.516667           5.075000   \n",
       "53  2016        michigan  republican          605.758333           5.008333   \n",
       "54  2016  north carolina  republican          465.333333           5.100000   \n",
       "55  2020         florida  republican          378.591667           8.191667   \n",
       "56  2020    pennsylvania    democrat          537.808333           8.875000   \n",
       "57  2020            ohio  republican          653.066667           8.266667   \n",
       "58  2020        michigan    democrat          556.758333          10.050000   \n",
       "59  2020  north carolina  republican          453.258333           7.283333   \n",
       "\n",
       "    cpi_all_items  cpi_gasoline  cpi_medical_care  \n",
       "0       56.908333     46.991667         51.991667  \n",
       "1       56.908333     46.991667         51.991667  \n",
       "2       56.908333     46.991667         51.991667  \n",
       "3       56.908333     46.991667         51.991667  \n",
       "4       56.908333     46.991667         51.991667  \n",
       "5       82.408333     97.516667         74.875000  \n",
       "6       82.408333     97.516667         74.875000  \n",
       "7       82.408333     97.516667         74.875000  \n",
       "8       82.408333     97.516667         74.875000  \n",
       "9       82.408333     97.516667         74.875000  \n",
       "10     103.883333     97.766667        106.858333  \n",
       "11     103.883333     97.766667        106.858333  \n",
       "12     103.883333     97.766667        106.858333  \n",
       "13     103.883333     97.766667        106.858333  \n",
       "14     103.883333     97.766667        106.858333  \n",
       "15     118.258333     80.800000        138.641667  \n",
       "16     118.258333     80.800000        138.641667  \n",
       "17     118.258333     80.800000        138.641667  \n",
       "18     118.258333     80.800000        138.641667  \n",
       "19     118.258333     80.800000        138.641667  \n",
       "20     140.316667     98.975000        190.066667  \n",
       "21     140.316667     98.975000        190.066667  \n",
       "22     140.316667     98.975000        190.066667  \n",
       "23     140.316667     98.975000        190.066667  \n",
       "24     140.316667     98.975000        190.066667  \n",
       "25     156.850000    105.866667        228.225000  \n",
       "26     156.850000    105.866667        228.225000  \n",
       "27     156.850000    105.866667        228.225000  \n",
       "28     156.850000    105.866667        228.225000  \n",
       "29     156.850000    105.866667        228.225000  \n",
       "30     172.200000    128.566667        260.750000  \n",
       "31     172.200000    128.566667        260.750000  \n",
       "32     172.200000    128.566667        260.750000  \n",
       "33     172.200000    128.566667        260.750000  \n",
       "34     172.200000    128.566667        260.750000  \n",
       "35     188.883333    159.666667        310.133333  \n",
       "36     188.883333    159.666667        310.133333  \n",
       "37     188.883333    159.666667        310.133333  \n",
       "38     188.883333    159.666667        310.133333  \n",
       "39     188.883333    159.666667        310.133333  \n",
       "40     215.302500    277.456667        364.064833  \n",
       "41     215.302500    277.456667        364.064833  \n",
       "42     215.302500    277.456667        364.064833  \n",
       "43     215.302500    277.456667        364.064833  \n",
       "44     215.302500    277.456667        364.064833  \n",
       "45     229.593917    311.469750        414.923917  \n",
       "46     229.593917    311.469750        414.923917  \n",
       "47     229.593917    311.469750        414.923917  \n",
       "48     229.593917    311.469750        414.923917  \n",
       "49     229.593917    311.469750        414.923917  \n",
       "50     240.007167    187.601917        463.674667  \n",
       "51     240.007167    187.601917        463.674667  \n",
       "52     240.007167    187.601917        463.674667  \n",
       "53     240.007167    187.601917        463.674667  \n",
       "54     240.007167    187.601917        463.674667  \n",
       "55     258.811167    194.129500        518.875500  \n",
       "56     258.811167    194.129500        518.875500  \n",
       "57     258.811167    194.129500        518.875500  \n",
       "58     258.811167    194.129500        518.875500  \n",
       "59     258.811167    194.129500        518.875500  "
      ]
     },
     "execution_count": 369,
     "metadata": {},
     "output_type": "execute_result"
    }
   ],
   "source": [
    "showAll()\n",
    "mlDf"
   ]
  },
  {
   "cell_type": "markdown",
   "metadata": {},
   "source": [
    "##### Goodness-of-fit tests"
   ]
  },
  {
   "cell_type": "code",
   "execution_count": 342,
   "metadata": {},
   "outputs": [],
   "source": [
    "showAll(False)"
   ]
  },
  {
   "cell_type": "code",
   "execution_count": 349,
   "metadata": {},
   "outputs": [
    {
     "data": {
      "text/html": [
       "<div>\n",
       "<style scoped>\n",
       "    .dataframe tbody tr th:only-of-type {\n",
       "        vertical-align: middle;\n",
       "    }\n",
       "\n",
       "    .dataframe tbody tr th {\n",
       "        vertical-align: top;\n",
       "    }\n",
       "\n",
       "    .dataframe thead th {\n",
       "        text-align: right;\n",
       "    }\n",
       "</style>\n",
       "<table border=\"1\" class=\"dataframe\">\n",
       "  <thead>\n",
       "    <tr style=\"text-align: right;\">\n",
       "      <th></th>\n",
       "      <th>year</th>\n",
       "      <th>state</th>\n",
       "      <th>party</th>\n",
       "      <th>candidatevotes</th>\n",
       "      <th>totalvotes</th>\n",
       "      <th>rate</th>\n",
       "    </tr>\n",
       "  </thead>\n",
       "  <tbody>\n",
       "    <tr>\n",
       "      <th>0</th>\n",
       "      <td>1976</td>\n",
       "      <td>florida</td>\n",
       "      <td>democrat</td>\n",
       "      <td>1636000</td>\n",
       "      <td>3150631</td>\n",
       "      <td>0.519261</td>\n",
       "    </tr>\n",
       "    <tr>\n",
       "      <th>1</th>\n",
       "      <td>1976</td>\n",
       "      <td>florida</td>\n",
       "      <td>other</td>\n",
       "      <td>45100</td>\n",
       "      <td>3150631</td>\n",
       "      <td>0.014315</td>\n",
       "    </tr>\n",
       "    <tr>\n",
       "      <th>2</th>\n",
       "      <td>1976</td>\n",
       "      <td>florida</td>\n",
       "      <td>republican</td>\n",
       "      <td>1469531</td>\n",
       "      <td>3150631</td>\n",
       "      <td>0.466424</td>\n",
       "    </tr>\n",
       "    <tr>\n",
       "      <th>3</th>\n",
       "      <td>1976</td>\n",
       "      <td>michigan</td>\n",
       "      <td>democrat</td>\n",
       "      <td>1696714</td>\n",
       "      <td>3651590</td>\n",
       "      <td>0.464651</td>\n",
       "    </tr>\n",
       "    <tr>\n",
       "      <th>4</th>\n",
       "      <td>1976</td>\n",
       "      <td>michigan</td>\n",
       "      <td>libertarian</td>\n",
       "      <td>5407</td>\n",
       "      <td>3651590</td>\n",
       "      <td>0.001481</td>\n",
       "    </tr>\n",
       "  </tbody>\n",
       "</table>\n",
       "</div>"
      ],
      "text/plain": [
       "   year     state        party  candidatevotes  totalvotes      rate\n",
       "0  1976   florida     democrat         1636000     3150631  0.519261\n",
       "1  1976   florida        other           45100     3150631  0.014315\n",
       "2  1976   florida   republican         1469531     3150631  0.466424\n",
       "3  1976  michigan     democrat         1696714     3651590  0.464651\n",
       "4  1976  michigan  libertarian            5407     3651590  0.001481"
      ]
     },
     "execution_count": 349,
     "metadata": {},
     "output_type": "execute_result"
    }
   ],
   "source": [
    "swing = df[df['state'].isin(top5swing)].groupby(['year', 'state', 'party']).agg({\n",
    "    'candidatevotes': 'sum',\n",
    "    'totalvotes': 'max'\n",
    "})\n",
    "\n",
    "swing['rate'] = swing['candidatevotes'] / swing['totalvotes']\n",
    "swing.reset_index(inplace=True)\n",
    "swing.head()"
   ]
  },
  {
   "cell_type": "code",
   "execution_count": null,
   "metadata": {},
   "outputs": [],
   "source": [
    "Let theta represent the support rate for the republican party for each state in an election year \n",
    "\n",
    "Null: theta = 0.5  Alt: theta != 0.5 \n",
    "\n",
    "Null: theta > 0.5  Alt: theta <= 0.5 "
   ]
  },
  {
   "cell_type": "code",
   "execution_count": 356,
   "metadata": {},
   "outputs": [
    {
     "data": {
      "text/html": [
       "<div>\n",
       "<style scoped>\n",
       "    .dataframe tbody tr th:only-of-type {\n",
       "        vertical-align: middle;\n",
       "    }\n",
       "\n",
       "    .dataframe tbody tr th {\n",
       "        vertical-align: top;\n",
       "    }\n",
       "\n",
       "    .dataframe thead th {\n",
       "        text-align: right;\n",
       "    }\n",
       "</style>\n",
       "<table border=\"1\" class=\"dataframe\">\n",
       "  <thead>\n",
       "    <tr style=\"text-align: right;\">\n",
       "      <th></th>\n",
       "      <th>year</th>\n",
       "      <th>state</th>\n",
       "      <th>party</th>\n",
       "      <th>candidatevotes</th>\n",
       "      <th>totalvotes</th>\n",
       "      <th>rate</th>\n",
       "    </tr>\n",
       "  </thead>\n",
       "  <tbody>\n",
       "    <tr>\n",
       "      <th>2</th>\n",
       "      <td>1976</td>\n",
       "      <td>florida</td>\n",
       "      <td>republican</td>\n",
       "      <td>1469531</td>\n",
       "      <td>3150631</td>\n",
       "      <td>0.466424</td>\n",
       "    </tr>\n",
       "    <tr>\n",
       "      <th>6</th>\n",
       "      <td>1976</td>\n",
       "      <td>michigan</td>\n",
       "      <td>republican</td>\n",
       "      <td>1893742</td>\n",
       "      <td>3651590</td>\n",
       "      <td>0.518608</td>\n",
       "    </tr>\n",
       "    <tr>\n",
       "      <th>10</th>\n",
       "      <td>1976</td>\n",
       "      <td>north carolina</td>\n",
       "      <td>republican</td>\n",
       "      <td>741960</td>\n",
       "      <td>1677906</td>\n",
       "      <td>0.442194</td>\n",
       "    </tr>\n",
       "    <tr>\n",
       "      <th>14</th>\n",
       "      <td>1976</td>\n",
       "      <td>ohio</td>\n",
       "      <td>republican</td>\n",
       "      <td>2000626</td>\n",
       "      <td>4110456</td>\n",
       "      <td>0.486716</td>\n",
       "    </tr>\n",
       "    <tr>\n",
       "      <th>17</th>\n",
       "      <td>1976</td>\n",
       "      <td>pennsylvania</td>\n",
       "      <td>republican</td>\n",
       "      <td>2205604</td>\n",
       "      <td>4620787</td>\n",
       "      <td>0.477322</td>\n",
       "    </tr>\n",
       "    <tr>\n",
       "      <th>...</th>\n",
       "      <td>...</td>\n",
       "      <td>...</td>\n",
       "      <td>...</td>\n",
       "      <td>...</td>\n",
       "      <td>...</td>\n",
       "      <td>...</td>\n",
       "    </tr>\n",
       "    <tr>\n",
       "      <th>215</th>\n",
       "      <td>2020</td>\n",
       "      <td>florida</td>\n",
       "      <td>republican</td>\n",
       "      <td>5668731</td>\n",
       "      <td>11067456</td>\n",
       "      <td>0.512198</td>\n",
       "    </tr>\n",
       "    <tr>\n",
       "      <th>219</th>\n",
       "      <td>2020</td>\n",
       "      <td>michigan</td>\n",
       "      <td>republican</td>\n",
       "      <td>2649852</td>\n",
       "      <td>5539302</td>\n",
       "      <td>0.478373</td>\n",
       "    </tr>\n",
       "    <tr>\n",
       "      <th>223</th>\n",
       "      <td>2020</td>\n",
       "      <td>north carolina</td>\n",
       "      <td>republican</td>\n",
       "      <td>2758773</td>\n",
       "      <td>5524802</td>\n",
       "      <td>0.499343</td>\n",
       "    </tr>\n",
       "    <tr>\n",
       "      <th>227</th>\n",
       "      <td>2020</td>\n",
       "      <td>ohio</td>\n",
       "      <td>republican</td>\n",
       "      <td>3154834</td>\n",
       "      <td>5922202</td>\n",
       "      <td>0.532713</td>\n",
       "    </tr>\n",
       "    <tr>\n",
       "      <th>230</th>\n",
       "      <td>2020</td>\n",
       "      <td>pennsylvania</td>\n",
       "      <td>republican</td>\n",
       "      <td>3377674</td>\n",
       "      <td>6915283</td>\n",
       "      <td>0.488436</td>\n",
       "    </tr>\n",
       "  </tbody>\n",
       "</table>\n",
       "<p>60 rows × 6 columns</p>\n",
       "</div>"
      ],
      "text/plain": [
       "     year           state       party  candidatevotes  totalvotes      rate\n",
       "2    1976         florida  republican         1469531     3150631  0.466424\n",
       "6    1976        michigan  republican         1893742     3651590  0.518608\n",
       "10   1976  north carolina  republican          741960     1677906  0.442194\n",
       "14   1976            ohio  republican         2000626     4110456  0.486716\n",
       "17   1976    pennsylvania  republican         2205604     4620787  0.477322\n",
       "..    ...             ...         ...             ...         ...       ...\n",
       "215  2020         florida  republican         5668731    11067456  0.512198\n",
       "219  2020        michigan  republican         2649852     5539302  0.478373\n",
       "223  2020  north carolina  republican         2758773     5524802  0.499343\n",
       "227  2020            ohio  republican         3154834     5922202  0.532713\n",
       "230  2020    pennsylvania  republican         3377674     6915283  0.488436\n",
       "\n",
       "[60 rows x 6 columns]"
      ]
     },
     "execution_count": 356,
     "metadata": {},
     "output_type": "execute_result"
    }
   ],
   "source": [
    "data = swing[swing['party'] == 'republican']\n",
    "data "
   ]
  },
  {
   "cell_type": "code",
   "execution_count": 363,
   "metadata": {},
   "outputs": [
    {
     "data": {
      "text/html": [
       "<div>\n",
       "<style scoped>\n",
       "    .dataframe tbody tr th:only-of-type {\n",
       "        vertical-align: middle;\n",
       "    }\n",
       "\n",
       "    .dataframe tbody tr th {\n",
       "        vertical-align: top;\n",
       "    }\n",
       "\n",
       "    .dataframe thead th {\n",
       "        text-align: right;\n",
       "    }\n",
       "</style>\n",
       "<table border=\"1\" class=\"dataframe\">\n",
       "  <thead>\n",
       "    <tr style=\"text-align: right;\">\n",
       "      <th></th>\n",
       "      <th>year</th>\n",
       "      <th>state</th>\n",
       "      <th>party</th>\n",
       "      <th>candidatevotes</th>\n",
       "      <th>totalvotes</th>\n",
       "      <th>rate</th>\n",
       "    </tr>\n",
       "  </thead>\n",
       "  <tbody>\n",
       "    <tr>\n",
       "      <th>3</th>\n",
       "      <td>1976</td>\n",
       "      <td>alabama</td>\n",
       "      <td>republican</td>\n",
       "      <td>504070</td>\n",
       "      <td>1182850</td>\n",
       "      <td>0.426149</td>\n",
       "    </tr>\n",
       "    <tr>\n",
       "      <th>6</th>\n",
       "      <td>1976</td>\n",
       "      <td>indiana</td>\n",
       "      <td>republican</td>\n",
       "      <td>1183958</td>\n",
       "      <td>2220362</td>\n",
       "      <td>0.533227</td>\n",
       "    </tr>\n",
       "    <tr>\n",
       "      <th>9</th>\n",
       "      <td>1976</td>\n",
       "      <td>missouri</td>\n",
       "      <td>republican</td>\n",
       "      <td>927443</td>\n",
       "      <td>1953600</td>\n",
       "      <td>0.474735</td>\n",
       "    </tr>\n",
       "    <tr>\n",
       "      <th>12</th>\n",
       "      <td>1976</td>\n",
       "      <td>tennessee</td>\n",
       "      <td>republican</td>\n",
       "      <td>633969</td>\n",
       "      <td>1476346</td>\n",
       "      <td>0.429418</td>\n",
       "    </tr>\n",
       "    <tr>\n",
       "      <th>15</th>\n",
       "      <td>1976</td>\n",
       "      <td>texas</td>\n",
       "      <td>republican</td>\n",
       "      <td>1953300</td>\n",
       "      <td>4071884</td>\n",
       "      <td>0.479704</td>\n",
       "    </tr>\n",
       "    <tr>\n",
       "      <th>...</th>\n",
       "      <td>...</td>\n",
       "      <td>...</td>\n",
       "      <td>...</td>\n",
       "      <td>...</td>\n",
       "      <td>...</td>\n",
       "      <td>...</td>\n",
       "    </tr>\n",
       "    <tr>\n",
       "      <th>203</th>\n",
       "      <td>2020</td>\n",
       "      <td>alabama</td>\n",
       "      <td>republican</td>\n",
       "      <td>1441170</td>\n",
       "      <td>2323282</td>\n",
       "      <td>0.620316</td>\n",
       "    </tr>\n",
       "    <tr>\n",
       "      <th>207</th>\n",
       "      <td>2020</td>\n",
       "      <td>indiana</td>\n",
       "      <td>republican</td>\n",
       "      <td>1729519</td>\n",
       "      <td>3033118</td>\n",
       "      <td>0.570212</td>\n",
       "    </tr>\n",
       "    <tr>\n",
       "      <th>211</th>\n",
       "      <td>2020</td>\n",
       "      <td>missouri</td>\n",
       "      <td>republican</td>\n",
       "      <td>1718736</td>\n",
       "      <td>3025962</td>\n",
       "      <td>0.567997</td>\n",
       "    </tr>\n",
       "    <tr>\n",
       "      <th>214</th>\n",
       "      <td>2020</td>\n",
       "      <td>tennessee</td>\n",
       "      <td>republican</td>\n",
       "      <td>1852475</td>\n",
       "      <td>3053851</td>\n",
       "      <td>0.606603</td>\n",
       "    </tr>\n",
       "    <tr>\n",
       "      <th>218</th>\n",
       "      <td>2020</td>\n",
       "      <td>texas</td>\n",
       "      <td>republican</td>\n",
       "      <td>5890347</td>\n",
       "      <td>11315056</td>\n",
       "      <td>0.520576</td>\n",
       "    </tr>\n",
       "  </tbody>\n",
       "</table>\n",
       "<p>60 rows × 6 columns</p>\n",
       "</div>"
      ],
      "text/plain": [
       "     year      state       party  candidatevotes  totalvotes      rate\n",
       "3    1976    alabama  republican          504070     1182850  0.426149\n",
       "6    1976    indiana  republican         1183958     2220362  0.533227\n",
       "9    1976   missouri  republican          927443     1953600  0.474735\n",
       "12   1976  tennessee  republican          633969     1476346  0.429418\n",
       "15   1976      texas  republican         1953300     4071884  0.479704\n",
       "..    ...        ...         ...             ...         ...       ...\n",
       "203  2020    alabama  republican         1441170     2323282  0.620316\n",
       "207  2020    indiana  republican         1729519     3033118  0.570212\n",
       "211  2020   missouri  republican         1718736     3025962  0.567997\n",
       "214  2020  tennessee  republican         1852475     3053851  0.606603\n",
       "218  2020      texas  republican         5890347    11315056  0.520576\n",
       "\n",
       "[60 rows x 6 columns]"
      ]
     },
     "execution_count": 363,
     "metadata": {},
     "output_type": "execute_result"
    }
   ],
   "source": [
    "top5red = ['texas', 'tennessee', 'indiana', 'missouri', 'alabama']\n",
    "red = df[df['state'].isin(top5red)].groupby(['year', 'state', 'party']).agg({\n",
    "    'candidatevotes': 'sum',\n",
    "    'totalvotes': 'max'\n",
    "})\n",
    "\n",
    "red['rate'] = red['candidatevotes'] / red['totalvotes']\n",
    "red.reset_index(inplace=True)\n",
    "redData = red[red['party'] == 'republican']\n",
    "redData"
   ]
  },
  {
   "cell_type": "code",
   "execution_count": 364,
   "metadata": {},
   "outputs": [],
   "source": [
    "redData.to_csv('data/partARedStates.csv')"
   ]
  },
  {
   "cell_type": "code",
   "execution_count": 366,
   "metadata": {},
   "outputs": [
    {
     "data": {
      "text/html": [
       "<div>\n",
       "<style scoped>\n",
       "    .dataframe tbody tr th:only-of-type {\n",
       "        vertical-align: middle;\n",
       "    }\n",
       "\n",
       "    .dataframe tbody tr th {\n",
       "        vertical-align: top;\n",
       "    }\n",
       "\n",
       "    .dataframe thead th {\n",
       "        text-align: right;\n",
       "    }\n",
       "</style>\n",
       "<table border=\"1\" class=\"dataframe\">\n",
       "  <thead>\n",
       "    <tr style=\"text-align: right;\">\n",
       "      <th></th>\n",
       "      <th>year</th>\n",
       "      <th>state</th>\n",
       "      <th>party</th>\n",
       "      <th>candidatevotes</th>\n",
       "      <th>totalvotes</th>\n",
       "      <th>rate</th>\n",
       "    </tr>\n",
       "  </thead>\n",
       "  <tbody>\n",
       "    <tr>\n",
       "      <th>0</th>\n",
       "      <td>1976</td>\n",
       "      <td>california</td>\n",
       "      <td>democrat</td>\n",
       "      <td>3742284</td>\n",
       "      <td>7803770</td>\n",
       "      <td>0.479548</td>\n",
       "    </tr>\n",
       "    <tr>\n",
       "      <th>3</th>\n",
       "      <td>1976</td>\n",
       "      <td>illinois</td>\n",
       "      <td>democrat</td>\n",
       "      <td>2271295</td>\n",
       "      <td>4721282</td>\n",
       "      <td>0.481076</td>\n",
       "    </tr>\n",
       "    <tr>\n",
       "      <th>7</th>\n",
       "      <td>1976</td>\n",
       "      <td>maryland</td>\n",
       "      <td>democrat</td>\n",
       "      <td>759612</td>\n",
       "      <td>1432273</td>\n",
       "      <td>0.530354</td>\n",
       "    </tr>\n",
       "    <tr>\n",
       "      <th>9</th>\n",
       "      <td>1976</td>\n",
       "      <td>massachusetts</td>\n",
       "      <td>democrat</td>\n",
       "      <td>1429475</td>\n",
       "      <td>2547558</td>\n",
       "      <td>0.561116</td>\n",
       "    </tr>\n",
       "    <tr>\n",
       "      <th>13</th>\n",
       "      <td>1976</td>\n",
       "      <td>new york</td>\n",
       "      <td>democrat</td>\n",
       "      <td>3244165</td>\n",
       "      <td>6668262</td>\n",
       "      <td>0.486508</td>\n",
       "    </tr>\n",
       "    <tr>\n",
       "      <th>...</th>\n",
       "      <td>...</td>\n",
       "      <td>...</td>\n",
       "      <td>...</td>\n",
       "      <td>...</td>\n",
       "      <td>...</td>\n",
       "      <td>...</td>\n",
       "    </tr>\n",
       "    <tr>\n",
       "      <th>214</th>\n",
       "      <td>2020</td>\n",
       "      <td>california</td>\n",
       "      <td>democrat</td>\n",
       "      <td>11110250</td>\n",
       "      <td>17500881</td>\n",
       "      <td>0.634839</td>\n",
       "    </tr>\n",
       "    <tr>\n",
       "      <th>218</th>\n",
       "      <td>2020</td>\n",
       "      <td>illinois</td>\n",
       "      <td>democrat</td>\n",
       "      <td>3471915</td>\n",
       "      <td>6033743</td>\n",
       "      <td>0.575416</td>\n",
       "    </tr>\n",
       "    <tr>\n",
       "      <th>222</th>\n",
       "      <td>2020</td>\n",
       "      <td>maryland</td>\n",
       "      <td>democrat</td>\n",
       "      <td>1985023</td>\n",
       "      <td>3037030</td>\n",
       "      <td>0.653607</td>\n",
       "    </tr>\n",
       "    <tr>\n",
       "      <th>226</th>\n",
       "      <td>2020</td>\n",
       "      <td>massachusetts</td>\n",
       "      <td>democrat</td>\n",
       "      <td>2382202</td>\n",
       "      <td>3658005</td>\n",
       "      <td>0.651230</td>\n",
       "    </tr>\n",
       "    <tr>\n",
       "      <th>230</th>\n",
       "      <td>2020</td>\n",
       "      <td>new york</td>\n",
       "      <td>democrat</td>\n",
       "      <td>5230985</td>\n",
       "      <td>8661735</td>\n",
       "      <td>0.603919</td>\n",
       "    </tr>\n",
       "  </tbody>\n",
       "</table>\n",
       "<p>60 rows × 6 columns</p>\n",
       "</div>"
      ],
      "text/plain": [
       "     year          state     party  candidatevotes  totalvotes      rate\n",
       "0    1976     california  democrat         3742284     7803770  0.479548\n",
       "3    1976       illinois  democrat         2271295     4721282  0.481076\n",
       "7    1976       maryland  democrat          759612     1432273  0.530354\n",
       "9    1976  massachusetts  democrat         1429475     2547558  0.561116\n",
       "13   1976       new york  democrat         3244165     6668262  0.486508\n",
       "..    ...            ...       ...             ...         ...       ...\n",
       "214  2020     california  democrat        11110250    17500881  0.634839\n",
       "218  2020       illinois  democrat         3471915     6033743  0.575416\n",
       "222  2020       maryland  democrat         1985023     3037030  0.653607\n",
       "226  2020  massachusetts  democrat         2382202     3658005  0.651230\n",
       "230  2020       new york  democrat         5230985     8661735  0.603919\n",
       "\n",
       "[60 rows x 6 columns]"
      ]
     },
     "execution_count": 366,
     "metadata": {},
     "output_type": "execute_result"
    }
   ],
   "source": [
    "top5blue = ['california', 'new york', 'illinois', 'massachusetts', 'maryland']\n",
    "\n",
    "blue = df[df['state'].isin(top5blue)].groupby(['year', 'state', 'party']).agg({\n",
    "    'candidatevotes': 'sum',\n",
    "    'totalvotes': 'max'\n",
    "})\n",
    "\n",
    "blue['rate'] = blue['candidatevotes'] / blue['totalvotes']\n",
    "blue.reset_index(inplace=True)\n",
    "blueData = blue[blue['party'] == 'democrat']\n",
    "blueData"
   ]
  },
  {
   "cell_type": "code",
   "execution_count": 367,
   "metadata": {},
   "outputs": [],
   "source": [
    "blueData.to_csv('data/partABlueStates.csv')"
   ]
  },
  {
   "cell_type": "code",
   "execution_count": 365,
   "metadata": {},
   "outputs": [
    {
     "data": {
      "text/plain": [
       "array(['alabama', 'alaska', 'arizona', 'arkansas', 'california',\n",
       "       'colorado', 'connecticut', 'delaware', 'district of columbia',\n",
       "       'florida', 'georgia', 'hawaii', 'idaho', 'illinois', 'indiana',\n",
       "       'iowa', 'kansas', 'kentucky', 'louisiana', 'maine', 'maryland',\n",
       "       'massachusetts', 'michigan', 'minnesota', 'mississippi',\n",
       "       'missouri', 'montana', 'nebraska', 'nevada', 'new hampshire',\n",
       "       'new jersey', 'new mexico', 'new york', 'north carolina',\n",
       "       'north dakota', 'ohio', 'oklahoma', 'oregon', 'pennsylvania',\n",
       "       'rhode island', 'south carolina', 'south dakota', 'tennessee',\n",
       "       'texas', 'utah', 'vermont', 'virginia', 'washington',\n",
       "       'west virginia', 'wisconsin', 'wyoming'], dtype=object)"
      ]
     },
     "execution_count": 365,
     "metadata": {},
     "output_type": "execute_result"
    }
   ],
   "source": [
    "df['state'].unique()"
   ]
  },
  {
   "cell_type": "code",
   "execution_count": 28,
   "metadata": {},
   "outputs": [],
   "source": [
    "# Unused code archive\n",
    "\n",
    "# def restructureCPIData(df):\n",
    "    \n",
    "#     \"\"\" \n",
    "#         Reorganize the cpi datasets to combine the months and years into one\n",
    "#         variable in datetime type. Each row is now associated with only one \n",
    "#         cpi number.\n",
    "\n",
    "#     \"\"\" \n",
    "\n",
    "#     rowsModified = []\n",
    "\n",
    "#     def processOneRow(row):\n",
    "#         timeline, data = [], []\n",
    "#         year = row['Year']\n",
    "\n",
    "#         for m in months:\n",
    "#             time = pd.to_datetime(str(year)[:-2]+' '+m)\n",
    "#             datum = row[m]\n",
    "#             timeline.append(time)\n",
    "#             data.append(datum)\n",
    "        \n",
    "#         rowsModified.append(pd.DataFrame(data={'timeline':timeline,'cpi': data}))\n",
    "    \n",
    "#     df.apply(processOneRow, axis=1)\n",
    "\n",
    "#     return pd.concat(rowsModified)"
   ]
  }
 ],
 "metadata": {
  "kernelspec": {
   "display_name": "Python 3",
   "language": "python",
   "name": "python3"
  },
  "language_info": {
   "codemirror_mode": {
    "name": "ipython",
    "version": 3
   },
   "file_extension": ".py",
   "mimetype": "text/x-python",
   "name": "python",
   "nbconvert_exporter": "python",
   "pygments_lexer": "ipython3",
   "version": "3.9.2"
  }
 },
 "nbformat": 4,
 "nbformat_minor": 2
}
