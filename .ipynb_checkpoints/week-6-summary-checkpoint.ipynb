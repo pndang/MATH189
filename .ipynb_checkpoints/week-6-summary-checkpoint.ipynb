{
 "cells": [
  {
   "cell_type": "markdown",
   "id": "f5699a71",
   "metadata": {},
   "source": [
    "# Week 6 Summary\n",
    "> NAME: $\\color{red}{\\text{    Phu Dang     }}$\n",
    "> \n",
    "> PID: $\\color{red}{\\text{    A16913100    }}$\n",
    ">\n",
    "> \n",
    "---"
   ]
  },
  {
   "cell_type": "markdown",
   "id": "b0e61ba4-c23c-44b6-8933-ad5c5013a12d",
   "metadata": {},
   "source": [
    "I certify that the following write-up is my own work, and have abided by the UCSD Academic Integrity Guidelines.\n",
    "\n",
    "- [x] Yes\n",
    "- [ ] No"
   ]
  },
  {
   "cell_type": "markdown",
   "id": "2e3d69d4-fc3b-467c-867a-232ea44b034d",
   "metadata": {},
   "source": [
    "---"
   ]
  },
  {
   "cell_type": "markdown",
   "id": "de700466",
   "metadata": {},
   "source": [
    "## Key Takeaways from Week 6"
   ]
  },
  {
   "cell_type": "markdown",
   "id": "e89169e3",
   "metadata": {},
   "source": [
    "\n",
    "#### Monday: \n",
    "\n",
    "Regression Analysis\n",
    "\n",
    "- Simple linear regression\n",
    "- Estimation of the regression line\n",
    "- Coefficients, predictions, residuals\n"
   ]
  },
  {
   "cell_type": "markdown",
   "id": "29081a6f",
   "metadata": {},
   "source": [
    "#### Wednesday\n",
    "\n",
    "Course evaluation and multivariate regression\n",
    "\n",
    "- Normal random variable realization\n",
    "    \n",
    "- Log-likelihood function\n",
    "    \n",
    "- Maximum likelihood estimation\n",
    "    \n",
    "- Regression in multiple variables\n"
   ]
  },
  {
   "cell_type": "markdown",
   "id": "56f24688",
   "metadata": {},
   "source": [
    "#### Friday: \n",
    "\n",
    "Pandas and Plotting\n",
    "\n",
    "- Introduction to Pandas for data manipulation\n",
    "- Creating and manipulating DataFrames\n",
    "- Basic data visualization techniques\n"
   ]
  },
  {
   "cell_type": "markdown",
   "id": "5928a1a1",
   "metadata": {},
   "source": [
    "---"
   ]
  },
  {
   "cell_type": "markdown",
   "id": "71b30092-0b40-4853-bee7-9fb6b040490d",
   "metadata": {},
   "source": [
    "%%latex\n",
    "\\newpage"
   ]
  },
  {
   "cell_type": "code",
   "execution_count": 1,
   "id": "96e95b70",
   "metadata": {},
   "outputs": [],
   "source": [
    "import numpy as np\n",
    "import pandas as pd\n",
    "import scipy.stats as stats\n",
    "\n",
    "import seaborn as sns\n",
    "import matplotlib.pyplot as plt\n",
    "import plotly.express as px\n",
    "import plotly.graph_objects as go\n",
    "\n",
    "import statsmodels\n",
    "import statsmodels.api as sm\n",
    "import statsmodels.formula.api as smf\n",
    "\n",
    "import ipywidgets as widgets\n",
    "from ipywidgets import interact, fixed\n",
    "%matplotlib inline"
   ]
  },
  {
   "cell_type": "markdown",
   "id": "d9ac3593",
   "metadata": {},
   "source": [
    "## Monday, Feb 12th"
   ]
  },
  {
   "cell_type": "markdown",
   "id": "3d181512",
   "metadata": {},
   "source": [
    "Monday was coverage of linear regression"
   ]
  },
  {
   "cell_type": "markdown",
   "id": "36ae94c2",
   "metadata": {},
   "source": [
    "Key concepts covered:\n",
    "\n",
    "- **Regression analysis**\n",
    "    - Regression in a single variable\n",
    "        - Modelling the relationship between x and y (x's influences on y)\n",
    "        - Can be expressed as:\n",
    "        $$\n",
    "        y_i = \\beta_0 + \\beta_1 x_i + \\epsilon_i\n",
    "        $$\n",
    "        \n",
    "        where $\\beta_0 \\text{ and } \\beta_1$ are the intercept and slope of the line, and $\\epsilon_i$ is the error term.\n",
    "        \n",
    "        The least squares method is used to estimate the values of $\\beta_0 \\text{ and } \\beta_1$ that minimioze the sum of the squared differences between the observed and predicted values.\n",
    "        \n",
    "        $$\n",
    "        Loss(\\beta_0, \\beta_1) = \\sum_{i=1}^n (y_i - \\hat y_i)^2 = \\sum_{i=1}^n (y_i - \\beta_0 - \\beta_1 x_i)^2\n",
    "        $$\n",
    "        \n",
    "        The regression line can be estimated by:\n",
    "        \n",
    "        $$\n",
    "        (X^T X)^{-1} X^T y\n",
    "        $$\n",
    "        \n",
    "    - Coefficients, predictions, residuals\n",
    "        - Predicted values: \n",
    "        $$\n",
    "        \\hat y = \\hat \\beta_0 + \\hat \\beta_1 x\n",
    "        $$\n",
    "        \n",
    "        - Residuals\n",
    "            - The residual for the i-th observation is the difference between the observed and predicted values for y:    \n",
    "            $$\n",
    "            \\epsilon_i = y_i - \\hat y_i\n",
    "            $$\n",
    "    \n",
    "    \n",
    "    \n",
    "- **Interpretation of regression line**:\n",
    "    - Three different interpretations of the regression line:\n",
    "    \n",
    "        - (1) Sum of squares - the line as the best linear approximation to the relationship between x and y in terms of minimizing the sum of squares of the residuals\n",
    "        \n",
    "        - (2) Correlation interpretation - the slope of the regression line, $\\hat \\beta_1$ is a measure of the correlation between the independent and dependent variables \n",
    "        \n",
    "        $$\n",
    "        \\hat \\beta_1 = \\frac{\\sum_{i=1}^n (x_i - \\overline x) (y_i - \\overline y)}{\\sum_{i=1}^n (x_i - \\overline x)^2} = r_{xy} \\frac{s_y}{s_x}\n",
    "        $$\n",
    "        \n",
    "        where $s_x$ and $s_y$ are the standard deviations of x and y, and $r_{xy}$ is the correlation coefficient between x and y given by:\n",
    "        \n",
    "        $$\n",
    "        r_{xy} = \\frac{\\sum_{i=1}^n (x_i - \\overline x)(y_i - \\overline y)}{\\sqrt{\\sum_{i=1}^n (x_i - \\overline x)^2} \\times \\sqrt{\\sum_{i=1}^n (y_i - \\overline y)^2}}\n",
    "        $$\n",
    "        \n",
    "        - (3) Maximum likelihood interpretation:\n",
    "        \n",
    "        Assume the error terms $\\epsilon_i$ are normally distributed with mean 0 and variance $\\sigma^2$. Then the distribution of the dependent variable y given the independent variable x is given by:\n",
    "        \n",
    "        $$\n",
    "        y_i \\approx N(\\beta_0 + \\beta_1 x_i, \\sigma^2),\n",
    "        $$\n",
    "        \n",
    "        where the unknown population parameters are $\\beta_0, \\beta_1, \\text{ and } \\sigma^2$.\n",
    "        \n",
    "        Probability density function\n",
    "        \n",
    "        If $y_i|x_i \\approx N(\\beta_0 + \\beta_1 x_i, \\sigma^2$, the pdf of $y_i$ given $x_i$ is given by:\n",
    "        \n",
    "        $$\n",
    "        f(y_i|x_i, \\beta_0, \\beta_1, \\sigma^2 = \\frac{1}{\\sqrt{2 \\pi \\sigma^2}} \\exp{(-\\frac{(y_i - \\beta_0 - \\beta_1 x_i)^2}{2 \\sigma^2})}\n",
    "        $$\n",
    "        \n",
    "        Likelihood function\n",
    "        \n",
    "        The likelihood function is given by:\n",
    "        \n",
    "        $$\n",
    "        L(\\beta_0, \\beta_1, \\sigma^2) = \\prod_{i=1}^n f(y_i|x_i, \\beta_0, \\beta_1, \\sigma^2)\n",
    "        $$\n",
    "        \n",
    "        Log likelihood function:\n",
    "        \n",
    "        $$\n",
    "        l = \\sum_{i=1}^n log (y_i|x_i, \\beta_0, \\beta_1, \\sigma^2) \n",
    "        $$\n",
    "        $$\n",
    "        = -\\frac{n}{2} log (2 \\pi \\sigma^2) - \\frac{1}{2 \\sigma^2} \\sum_{i=1}^n (y_i - \\beta_0 - \\beta_1 x_i)^2\n",
    "        $$\n",
    "        \n",
    "        Additionally\n",
    "        \n",
    "        $$\n",
    "        \\hat \\sigma^2 = \\frac{1}{n-2} \\sum_{i=1}^n (y_i - \\hat y_i)^2\n",
    "        $$\n",
    "        \n",
    "\n",
    "- **Regression in multiple variables**:\n",
    "\n",
    "    - y is a linear combination of x's\n"
   ]
  },
  {
   "cell_type": "code",
   "execution_count": 2,
   "id": "20b3eac4",
   "metadata": {},
   "outputs": [
    {
     "data": {
      "image/png": "[encoded data removed]",
      "text/plain": [
       "<Figure size 432x288 with 1 Axes>"
      ]
     },
     "metadata": {
      "needs_background": "light"
     },
     "output_type": "display_data"
    }
   ],
   "source": [
    "# Simple linear regression\n",
    "\n",
    "x, y = np.random.multivariate_normal([0,1], [[1, 0.96], [0.96, 1]], 50).T\n",
    "sns.scatterplot(x=x, y=y);"
   ]
  },
  {
   "cell_type": "code",
   "execution_count": 3,
   "id": "df358218",
   "metadata": {},
   "outputs": [],
   "source": [
    "# Get params\n",
    "\n",
    "X = np.array([np.array([1,datum]) for datum in x])\n",
    "ws = np.dot(np.linalg.inv(np.dot(X.T,X)), np.dot(X.T,y))"
   ]
  },
  {
   "cell_type": "code",
   "execution_count": 4,
   "id": "374debbf",
   "metadata": {},
   "outputs": [
    {
     "data": {
      "text/plain": [
       "array([0.98759982, 0.90684261])"
      ]
     },
     "execution_count": 4,
     "metadata": {},
     "output_type": "execute_result"
    }
   ],
   "source": [
    "ws"
   ]
  },
  {
   "cell_type": "code",
   "execution_count": 5,
   "id": "88baca90",
   "metadata": {},
   "outputs": [
    {
     "data": {
      "image/png": "[encoded data removed]",
      "text/plain": [
       "<Figure size 432x288 with 1 Axes>"
      ]
     },
     "metadata": {
      "needs_background": "light"
     },
     "output_type": "display_data"
    }
   ],
   "source": [
    "# Plot line of best fit\n",
    "\n",
    "sns.scatterplot(x=x, y=y)\n",
    "plt.plot(x, x*ws[1]+ws[0], 'r');"
   ]
  },
  {
   "cell_type": "code",
   "execution_count": 6,
   "id": "5096bd1f",
   "metadata": {},
   "outputs": [],
   "source": [
    "# Get residuals\n",
    "\n",
    "yHat = x*ws[1]+ws[0]\n",
    "resids = y - yHat"
   ]
  },
  {
   "cell_type": "code",
   "execution_count": 7,
   "id": "22f1e8d6",
   "metadata": {},
   "outputs": [
    {
     "data": {
      "image/png": "[encoded data removed]",
      "text/plain": [
       "<Figure size 432x288 with 1 Axes>"
      ]
     },
     "metadata": {
      "needs_background": "light"
     },
     "output_type": "display_data"
    }
   ],
   "source": [
    "# Plot residuals\n",
    "\n",
    "plt.plot(resids);"
   ]
  },
  {
   "cell_type": "markdown",
   "id": "c3d4b14f",
   "metadata": {},
   "source": [
    "---"
   ]
  },
  {
   "cell_type": "markdown",
   "id": "89f279dc-cd10-4ca3-b94b-046971a93e54",
   "metadata": {},
   "source": [
    "%%latex \n",
    "\\newpage"
   ]
  },
  {
   "cell_type": "markdown",
   "id": "9e527d83",
   "metadata": {},
   "source": [
    "## Wed, Feb 14th"
   ]
  },
  {
   "cell_type": "markdown",
   "id": "97cba7b9",
   "metadata": {},
   "source": [
    "Wednesday was a reassessment of the course structure and life. Followed by a recap of monday, including single variable linear regression and its interpretation through the maximum likelihood. We then covered the log-likelihood function and how to perform maximum likelihood estimation.\n",
    "\n",
    "Key concepts covered:\n",
    "\n",
    "- Normal random variable realization\n",
    "    - Idea: each point is one normal r.v. whose mean is its prediction on the regression line, with variance $\\sigma^2$\n",
    "    \n",
    "- Log-likelihood function\n",
    "    - Essentially the sum of log densities (summation over n)\n",
    "    \n",
    "- Maximum likelihood estimation\n",
    "    - Find $\\hat \\beta_0,\\hat \\beta_1,\\hat \\sigma^2$ using argmax of the log-likelihood\n",
    "    \n",
    "    - Plus:\n",
    "    $$\n",
    "    \\hat \\sigma^2 = \\frac{1}{n-2} \\sum_{i=1}^n (y_i - \\hat y_i)^2\n",
    "    $$\n",
    "    \n",
    "- Regression in multiple variables\n",
    "    - Rows are observations, columns are variables\n",
    "    - Our \"object\" of best fit becomes a plane\n",
    "    - Changing $\\beta_0$ changes the vertical placement of the plane, changing $\\beta_1$ changes the slope of the plane along the $x_1$ axis, changing $\\beta_2$ changes the slope of the plane along the $x_2$ axis.\n"
   ]
  },
  {
   "cell_type": "code",
   "execution_count": 8,
   "id": "8da27a86",
   "metadata": {},
   "outputs": [],
   "source": [
    "x1 = np.random.rand(200) - 0.5\n",
    "x2 = np.random.rand(200) - 0.5\n",
    "y = 5 + 2*x1 + 3*x2 + 0.5 * np.random.normal(size=200)"
   ]
  },
  {
   "cell_type": "code",
   "execution_count": 9,
   "id": "27cef97f",
   "metadata": {},
   "outputs": [
    {
     "data": {
      "application/vnd.jupyter.widget-view+json": {
       "model_id": "b2717e6a25fd4b63ac01e5dabeb42641",
       "version_major": 2,
       "version_minor": 0
      },
      "text/plain": [
       "interactive(children=(FloatSlider(value=0.0, description='b0', max=10.0, min=-10.0, step=0.5), FloatSlider(val…"
      ]
     },
     "metadata": {},
     "output_type": "display_data"
    }
   ],
   "source": [
    "# Multivariate regression plane visualized\n",
    "\n",
    "@interact(b0=(-10, 10, 0.5), b1=(-5, 5, 0.25), b2=(-5, 5, 0.25), residuals=False)\n",
    "\n",
    "def plot_regression(b0, b1, b2, residuals):\n",
    "\n",
    "    fig = px.scatter_3d(x=x1, y=x2, z=y)\n",
    "\n",
    "    # set axis labels and decrease marker size\n",
    "    fig.update_layout(\n",
    "        scene = dict(\n",
    "            xaxis_title='X1',\n",
    "            yaxis_title='X2',\n",
    "            zaxis_title='Y'),\n",
    "            margin=dict(l=0, r=0, b=0, t=0)\n",
    "    )\n",
    "\n",
    "    fig.update_traces(marker=dict(size=5))\n",
    "    \n",
    "    x1_grid, x2_grid = np.meshgrid(np.linspace(-0.5, 0.5, 100), np.linspace(-0.5, 0.5, 100))\n",
    "    yHat = b0 + b1*x1_grid + b2*x2_grid\n",
    "    \n",
    "    fig.add_trace(\n",
    "        go.Surface(x=x1_grid, y=x2_grid, z=yHat, opacity=0.5)\n",
    "    )\n",
    "    \n",
    "    if residuals:\n",
    "        for i in range(len(x1)):\n",
    "            fig.add_trace(\n",
    "                go.Scatter3d(\n",
    "                    x=[x1[i], x1[i]], \n",
    "                    y=[x2[i], x2[i]], \n",
    "                    z=[b0+b1*x1[i]+b2*x2[i], y[i]],\n",
    "                    mode='lines',\n",
    "                    line=dict(color='black', width=2))\n",
    "            )\n",
    "        \n",
    "    fig.update_layout(showlegend=False, scene_camera=dict(eye=dict(x=2.0, y=0.5, z=0.1)))    \n",
    "    \n",
    "    fig.show()"
   ]
  },
  {
   "cell_type": "markdown",
   "id": "05187baf",
   "metadata": {},
   "source": [
    "---"
   ]
  },
  {
   "cell_type": "code",
   "execution_count": 11,
   "id": "9dd2a17b",
   "metadata": {},
   "outputs": [],
   "source": [
    "# Get plane of best fit\n",
    "\n",
    "X = []\n",
    "\n",
    "for i in range(len(x1)):\n",
    "    X.append(np.array([1, x1[i], x2[i]]))\n",
    "\n",
    "X = np.array(X)"
   ]
  },
  {
   "cell_type": "code",
   "execution_count": 12,
   "id": "c1a85bf6",
   "metadata": {},
   "outputs": [
    {
     "data": {
      "text/plain": [
       "array([4.9638418 , 2.00124368, 2.87512978])"
      ]
     },
     "execution_count": 12,
     "metadata": {},
     "output_type": "execute_result"
    }
   ],
   "source": [
    "ws = np.dot(np.linalg.inv(np.dot(X.T,X)), np.dot(X.T,y))\n",
    "ws"
   ]
  },
  {
   "cell_type": "markdown",
   "id": "e6be712f-4560-4b32-ac50-b3db9cfaad0a",
   "metadata": {},
   "source": [
    "%%latex \n",
    "\\newpage"
   ]
  },
  {
   "cell_type": "markdown",
   "id": "3525e5fa",
   "metadata": {},
   "source": [
    "## Fri, Feb 16th"
   ]
  },
  {
   "cell_type": "markdown",
   "id": "39c814b7",
   "metadata": {},
   "source": [
    "Friday was a review of regression in multiple variables with a review of how the plane of best fit lies and changes across the data as its components changes. We then covered generating predictions in the multivariate case and getting residuals. Calculations were done both manually using numpy and black-box using OLS from statsmodels.\n",
    "\n",
    "Key concepts covered:\n",
    "\n",
    "- Multivariate regression \n",
    "    - The components (predictive function, squared error, loss function) are the same as single variable, except having more weights in the form of (+ $w_i x_i$) for feature i.\n",
    "    \n",
    "    \n",
    "- Coefficients, predictions, residuals\n",
    "    - The feature matrix is known as the \"design matrix\"\n",
    "        - Dimension: (num of observations) x (num of features)\n",
    "        \n",
    "    - Same normal equation to solve for optimal weights\n",
    "    \n",
    "- Interpretation of results\n",
    "    - First: plane of best fit\n",
    "    \n",
    "    - Second: maximum likelihood estimator\n",
    "        - Assuming all $y_i$'s are essentially linear combinations of x's plus some error $\\epsilon_i$.\n",
    "        - Additionally, the errors, $\\sigma_i$, follows $N \\approx (0, \\sigma^2)$\n",
    "        - Then, the key is: our true value lies somewhere on the plane, and our observed values is basically the realization of the point on the regression plane plus some normally-distributed noise captured by the residuals.\n",
    "        - The estimated value $\\hat \\beta$ is the maximum likelihood estiamte of the population params, $\\beta$, and the estimated value, $\\hat \\sigma^2$, is the maximum likelihood estimate of hte variance of the error term $\\epsilon_i$ given by:\n",
    "        \n",
    "$$\n",
    "\\hat \\sigma^2 = \\frac{1}{n-p} \\sum_{i=1}^n (y_i - \\hat y_i)^2\n",
    "$$\n",
    "\n",
    "--> Key to allowing us to perform statistical inference on the estimated regression params\n",
    "\n",
    "- **Interpretation of the partial derivative** of the expected value of $y_i$ w.r.t. the $j^{th}$ independent variable is the **rate of change of the y variable in the direction of $x_j$, one unit change**."
   ]
  },
  {
   "cell_type": "code",
   "execution_count": 13,
   "id": "587a7987",
   "metadata": {},
   "outputs": [
    {
     "data": {
      "text/plain": [
       "array([4.9638418 , 2.00124368, 2.87512978])"
      ]
     },
     "execution_count": 13,
     "metadata": {},
     "output_type": "execute_result"
    }
   ],
   "source": [
    "# Demo\n",
    "\n",
    "n = len(y)\n",
    "X = np.column_stack((np.ones(n), x1, x2))\n",
    "b = np.linalg.inv(X.T.dot(X)).dot(X.T).dot(y)\n",
    "b"
   ]
  },
  {
   "cell_type": "code",
   "execution_count": 16,
   "id": "f731c645",
   "metadata": {},
   "outputs": [],
   "source": [
    "# Get predictions\n",
    "\n",
    "yHat = X @ b"
   ]
  },
  {
   "cell_type": "code",
   "execution_count": 20,
   "id": "24fba2cd",
   "metadata": {},
   "outputs": [
    {
     "data": {
      "text/plain": [
       "True"
      ]
     },
     "execution_count": 20,
     "metadata": {},
     "output_type": "execute_result"
    }
   ],
   "source": [
    "# sanity check\n",
    "\n",
    "test = X.dot(b)\n",
    "np.sum(test == yHat) == n"
   ]
  },
  {
   "cell_type": "code",
   "execution_count": 23,
   "id": "ac92d244",
   "metadata": {},
   "outputs": [
    {
     "data": {
      "image/png": "[encoded data removed]",
      "text/plain": [
       "<Figure size 432x288 with 1 Axes>"
      ]
     },
     "metadata": {
      "needs_background": "light"
     },
     "output_type": "display_data"
    }
   ],
   "source": [
    "sns.histplot(yHat);"
   ]
  },
  {
   "cell_type": "code",
   "execution_count": 24,
   "id": "66d375f2",
   "metadata": {},
   "outputs": [
    {
     "data": {
      "text/html": [
       "<table class=\"simpletable\">\n",
       "<caption>OLS Regression Results</caption>\n",
       "<tr>\n",
       "  <th>Dep. Variable:</th>            <td>y</td>        <th>  R-squared:         </th> <td>   0.818</td>\n",
       "</tr>\n",
       "<tr>\n",
       "  <th>Model:</th>                   <td>OLS</td>       <th>  Adj. R-squared:    </th> <td>   0.816</td>\n",
       "</tr>\n",
       "<tr>\n",
       "  <th>Method:</th>             <td>Least Squares</td>  <th>  F-statistic:       </th> <td>   442.8</td>\n",
       "</tr>\n",
       "<tr>\n",
       "  <th>Date:</th>             <td>Sun, 18 Feb 2024</td> <th>  Prob (F-statistic):</th> <td>1.28e-73</td>\n",
       "</tr>\n",
       "<tr>\n",
       "  <th>Time:</th>                 <td>23:05:19</td>     <th>  Log-Likelihood:    </th> <td> -135.66</td>\n",
       "</tr>\n",
       "<tr>\n",
       "  <th>No. Observations:</th>      <td>   200</td>      <th>  AIC:               </th> <td>   277.3</td>\n",
       "</tr>\n",
       "<tr>\n",
       "  <th>Df Residuals:</th>          <td>   197</td>      <th>  BIC:               </th> <td>   287.2</td>\n",
       "</tr>\n",
       "<tr>\n",
       "  <th>Df Model:</th>              <td>     2</td>      <th>                     </th>     <td> </td>   \n",
       "</tr>\n",
       "<tr>\n",
       "  <th>Covariance Type:</th>      <td>nonrobust</td>    <th>                     </th>     <td> </td>   \n",
       "</tr>\n",
       "</table>\n",
       "<table class=\"simpletable\">\n",
       "<tr>\n",
       "    <td></td>       <th>coef</th>     <th>std err</th>      <th>t</th>      <th>P>|t|</th>  <th>[0.025</th>    <th>0.975]</th>  \n",
       "</tr>\n",
       "<tr>\n",
       "  <th>const</th> <td>    4.9638</td> <td>    0.035</td> <td>  143.610</td> <td> 0.000</td> <td>    4.896</td> <td>    5.032</td>\n",
       "</tr>\n",
       "<tr>\n",
       "  <th>x1</th>    <td>    2.0012</td> <td>    0.117</td> <td>   17.151</td> <td> 0.000</td> <td>    1.771</td> <td>    2.231</td>\n",
       "</tr>\n",
       "<tr>\n",
       "  <th>x2</th>    <td>    2.8751</td> <td>    0.117</td> <td>   24.630</td> <td> 0.000</td> <td>    2.645</td> <td>    3.105</td>\n",
       "</tr>\n",
       "</table>\n",
       "<table class=\"simpletable\">\n",
       "<tr>\n",
       "  <th>Omnibus:</th>       <td> 1.584</td> <th>  Durbin-Watson:     </th> <td>   1.937</td>\n",
       "</tr>\n",
       "<tr>\n",
       "  <th>Prob(Omnibus):</th> <td> 0.453</td> <th>  Jarque-Bera (JB):  </th> <td>   1.434</td>\n",
       "</tr>\n",
       "<tr>\n",
       "  <th>Skew:</th>          <td> 0.207</td> <th>  Prob(JB):          </th> <td>   0.488</td>\n",
       "</tr>\n",
       "<tr>\n",
       "  <th>Kurtosis:</th>      <td> 3.014</td> <th>  Cond. No.          </th> <td>    3.47</td>\n",
       "</tr>\n",
       "</table><br/><br/>Notes:<br/>[1] Standard Errors assume that the covariance matrix of the errors is correctly specified."
      ],
      "text/plain": [
       "<class 'statsmodels.iolib.summary.Summary'>\n",
       "\"\"\"\n",
       "                            OLS Regression Results                            \n",
       "==============================================================================\n",
       "Dep. Variable:                      y   R-squared:                       0.818\n",
       "Model:                            OLS   Adj. R-squared:                  0.816\n",
       "Method:                 Least Squares   F-statistic:                     442.8\n",
       "Date:                Sun, 18 Feb 2024   Prob (F-statistic):           1.28e-73\n",
       "Time:                        23:05:19   Log-Likelihood:                -135.66\n",
       "No. Observations:                 200   AIC:                             277.3\n",
       "Df Residuals:                     197   BIC:                             287.2\n",
       "Df Model:                           2                                         \n",
       "Covariance Type:            nonrobust                                         \n",
       "==============================================================================\n",
       "                 coef    std err          t      P>|t|      [0.025      0.975]\n",
       "------------------------------------------------------------------------------\n",
       "const          4.9638      0.035    143.610      0.000       4.896       5.032\n",
       "x1             2.0012      0.117     17.151      0.000       1.771       2.231\n",
       "x2             2.8751      0.117     24.630      0.000       2.645       3.105\n",
       "==============================================================================\n",
       "Omnibus:                        1.584   Durbin-Watson:                   1.937\n",
       "Prob(Omnibus):                  0.453   Jarque-Bera (JB):                1.434\n",
       "Skew:                           0.207   Prob(JB):                        0.488\n",
       "Kurtosis:                       3.014   Cond. No.                         3.47\n",
       "==============================================================================\n",
       "\n",
       "Notes:\n",
       "[1] Standard Errors assume that the covariance matrix of the errors is correctly specified.\n",
       "\"\"\""
      ]
     },
     "execution_count": 24,
     "metadata": {},
     "output_type": "execute_result"
    }
   ],
   "source": [
    "# Demo using statsmodels approach (OLS)\n",
    "\n",
    "model = sm.OLS(y, X)\n",
    "result = model.fit()\n",
    "result.summary()"
   ]
  },
  {
   "cell_type": "code",
   "execution_count": 25,
   "id": "74ffb4d1",
   "metadata": {},
   "outputs": [
    {
     "data": {
      "text/html": [
       "<table class=\"simpletable\">\n",
       "<caption>OLS Regression Results</caption>\n",
       "<tr>\n",
       "  <th>Dep. Variable:</th>            <td>y</td>        <th>  R-squared:         </th> <td>   0.818</td>\n",
       "</tr>\n",
       "<tr>\n",
       "  <th>Model:</th>                   <td>OLS</td>       <th>  Adj. R-squared:    </th> <td>   0.816</td>\n",
       "</tr>\n",
       "<tr>\n",
       "  <th>Method:</th>             <td>Least Squares</td>  <th>  F-statistic:       </th> <td>   442.8</td>\n",
       "</tr>\n",
       "<tr>\n",
       "  <th>Date:</th>             <td>Sun, 18 Feb 2024</td> <th>  Prob (F-statistic):</th> <td>1.28e-73</td>\n",
       "</tr>\n",
       "<tr>\n",
       "  <th>Time:</th>                 <td>23:17:36</td>     <th>  Log-Likelihood:    </th> <td> -135.66</td>\n",
       "</tr>\n",
       "<tr>\n",
       "  <th>No. Observations:</th>      <td>   200</td>      <th>  AIC:               </th> <td>   277.3</td>\n",
       "</tr>\n",
       "<tr>\n",
       "  <th>Df Residuals:</th>          <td>   197</td>      <th>  BIC:               </th> <td>   287.2</td>\n",
       "</tr>\n",
       "<tr>\n",
       "  <th>Df Model:</th>              <td>     2</td>      <th>                     </th>     <td> </td>   \n",
       "</tr>\n",
       "<tr>\n",
       "  <th>Covariance Type:</th>      <td>nonrobust</td>    <th>                     </th>     <td> </td>   \n",
       "</tr>\n",
       "</table>\n",
       "<table class=\"simpletable\">\n",
       "<tr>\n",
       "      <td></td>         <th>coef</th>     <th>std err</th>      <th>t</th>      <th>P>|t|</th>  <th>[0.025</th>    <th>0.975]</th>  \n",
       "</tr>\n",
       "<tr>\n",
       "  <th>Intercept</th> <td>    4.9638</td> <td>    0.035</td> <td>  143.610</td> <td> 0.000</td> <td>    4.896</td> <td>    5.032</td>\n",
       "</tr>\n",
       "<tr>\n",
       "  <th>x1</th>        <td>    2.0012</td> <td>    0.117</td> <td>   17.151</td> <td> 0.000</td> <td>    1.771</td> <td>    2.231</td>\n",
       "</tr>\n",
       "<tr>\n",
       "  <th>x2</th>        <td>    2.8751</td> <td>    0.117</td> <td>   24.630</td> <td> 0.000</td> <td>    2.645</td> <td>    3.105</td>\n",
       "</tr>\n",
       "</table>\n",
       "<table class=\"simpletable\">\n",
       "<tr>\n",
       "  <th>Omnibus:</th>       <td> 1.584</td> <th>  Durbin-Watson:     </th> <td>   1.937</td>\n",
       "</tr>\n",
       "<tr>\n",
       "  <th>Prob(Omnibus):</th> <td> 0.453</td> <th>  Jarque-Bera (JB):  </th> <td>   1.434</td>\n",
       "</tr>\n",
       "<tr>\n",
       "  <th>Skew:</th>          <td> 0.207</td> <th>  Prob(JB):          </th> <td>   0.488</td>\n",
       "</tr>\n",
       "<tr>\n",
       "  <th>Kurtosis:</th>      <td> 3.014</td> <th>  Cond. No.          </th> <td>    3.47</td>\n",
       "</tr>\n",
       "</table><br/><br/>Notes:<br/>[1] Standard Errors assume that the covariance matrix of the errors is correctly specified."
      ],
      "text/plain": [
       "<class 'statsmodels.iolib.summary.Summary'>\n",
       "\"\"\"\n",
       "                            OLS Regression Results                            \n",
       "==============================================================================\n",
       "Dep. Variable:                      y   R-squared:                       0.818\n",
       "Model:                            OLS   Adj. R-squared:                  0.816\n",
       "Method:                 Least Squares   F-statistic:                     442.8\n",
       "Date:                Sun, 18 Feb 2024   Prob (F-statistic):           1.28e-73\n",
       "Time:                        23:17:36   Log-Likelihood:                -135.66\n",
       "No. Observations:                 200   AIC:                             277.3\n",
       "Df Residuals:                     197   BIC:                             287.2\n",
       "Df Model:                           2                                         \n",
       "Covariance Type:            nonrobust                                         \n",
       "==============================================================================\n",
       "                 coef    std err          t      P>|t|      [0.025      0.975]\n",
       "------------------------------------------------------------------------------\n",
       "Intercept      4.9638      0.035    143.610      0.000       4.896       5.032\n",
       "x1             2.0012      0.117     17.151      0.000       1.771       2.231\n",
       "x2             2.8751      0.117     24.630      0.000       2.645       3.105\n",
       "==============================================================================\n",
       "Omnibus:                        1.584   Durbin-Watson:                   1.937\n",
       "Prob(Omnibus):                  0.453   Jarque-Bera (JB):                1.434\n",
       "Skew:                           0.207   Prob(JB):                        0.488\n",
       "Kurtosis:                       3.014   Cond. No.                         3.47\n",
       "==============================================================================\n",
       "\n",
       "Notes:\n",
       "[1] Standard Errors assume that the covariance matrix of the errors is correctly specified.\n",
       "\"\"\""
      ]
     },
     "execution_count": 25,
     "metadata": {},
     "output_type": "execute_result"
    }
   ],
   "source": [
    "# Additionally\n",
    "\n",
    "smf.ols('y ~ 1 + x1 + x2', data={'x1': x1, 'x2': x2, 'y': y}).fit().summary()"
   ]
  },
  {
   "cell_type": "code",
   "execution_count": null,
   "id": "0d7057e2",
   "metadata": {},
   "outputs": [],
   "source": []
  }
 ],
 "metadata": {
  "kernelspec": {
   "display_name": "Python 3 (ipykernel)",
   "language": "python",
   "name": "python3"
  },
  "language_info": {
   "codemirror_mode": {
    "name": "ipython",
    "version": 3
   },
   "file_extension": ".py",
   "mimetype": "text/x-python",
   "name": "python",
   "nbconvert_exporter": "python",
   "pygments_lexer": "ipython3",
   "version": "3.9.12"
  }
 },
 "nbformat": 4,
 "nbformat_minor": 5
}
