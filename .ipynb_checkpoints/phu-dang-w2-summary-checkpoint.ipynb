{
 "cells": [
  {
   "cell_type": "markdown",
   "id": "f5699a71",
   "metadata": {},
   "source": [
    "# Week 2 Summary\n",
    "> NAME: $\\color{red}{\\text{    Phu Dang     }}$\n",
    "> \n",
    "> PID: $\\color{red}{\\text{    A16913100     }}$\n",
    ">\n",
    "> \n",
    "---"
   ]
  },
  {
   "cell_type": "markdown",
   "id": "b0e61ba4-c23c-44b6-8933-ad5c5013a12d",
   "metadata": {},
   "source": [
    "I certify that the following write-up is my own work, and have abided by the UCSD Academic Integrity Guidelines.\n",
    "\n",
    "- [x] Yes\n",
    "- [ ] No"
   ]
  },
  {
   "cell_type": "markdown",
   "id": "2e3d69d4-fc3b-467c-867a-232ea44b034d",
   "metadata": {},
   "source": [
    "---"
   ]
  },
  {
   "cell_type": "markdown",
   "id": "de700466",
   "metadata": {},
   "source": [
    "## Key Takeaways from Week 2"
   ]
  },
  {
   "cell_type": "markdown",
   "id": "e89169e3",
   "metadata": {},
   "source": [
    "\n",
    "#### Monday: \n",
    "\n",
    "Holiday\n"
   ]
  },
  {
   "cell_type": "markdown",
   "id": "29081a6f",
   "metadata": {},
   "source": [
    "#### Wednesday\n",
    "\n",
    "Probability distributions\n",
    "\n",
    "- Review of types of probability\n",
    "- Law of Large Numbers\n",
    "- Expected value\n",
    "- Variance\n"
   ]
  },
  {
   "cell_type": "markdown",
   "id": "56f24688",
   "metadata": {},
   "source": [
    "#### Friday: \n",
    "\n",
    "Pandas and Plotting\n",
    "\n",
    "- Introduction to Pandas for data manipulation\n",
    "- Creating and manipulating DataFrames\n",
    "- Basic data visualization techniques\n"
   ]
  },
  {
   "cell_type": "markdown",
   "id": "5928a1a1",
   "metadata": {},
   "source": [
    "%%latex\n",
    "\\newpage"
   ]
  },
  {
   "cell_type": "code",
   "execution_count": 45,
   "id": "3874d1d9",
   "metadata": {},
   "outputs": [],
   "source": [
    "import numpy as np\n",
    "import pandas as pd\n",
    "import seaborn as sns\n",
    "import matplotlib.pyplot as plt\n",
    "import scipy.stats as stats"
   ]
  },
  {
   "cell_type": "markdown",
   "id": "d9ac3593",
   "metadata": {},
   "source": [
    "## Wednesday, Jan 17th"
   ]
  },
  {
   "cell_type": "markdown",
   "id": "3d181512",
   "metadata": {},
   "source": [
    "A brief review of probability concepts, specifically the types of probability, different random variables, such as discrete and continuous random variables, and explanatory and response variables. The Law of Large Numbers was repeatedly mentioned, along with a graphical proof, to illustrate how the empirical average converges at the theoretical mean, or expected value (easiest to show for the Normal distribution as the first moment (expectation) is the mean). The expectation and variance were also discussed and how they vary between discrete and continuous random variables."
   ]
  },
  {
   "cell_type": "markdown",
   "id": "36ae94c2",
   "metadata": {},
   "source": [
    "Key concepts covered:\n",
    "\n",
    "- **Probabiltity:** Types of probability, random variables (e.g., Binomial, Poisson, Exponential, Uniform, Normal), discrete vs. continuous random variables, explanatory vs. response variables)\n",
    "    - Notes:\n",
    "        - Probabilities can be empirical, theoretical, or subjective\n",
    "        - The Law of Large Number suggests that the empirical probability becomes the theoretical probability after repeated trials \n",
    "        - PMF for discrete rvs, PDF for continuous rvs\n",
    "        - CDF measures the area to the left of a particular point in distribution \n",
    "    - The **Probability mass function** assigns probabilities to each value of the support (only for discrete rvs)\n",
    "    - The **Probability density function** gives the probability that a particular value falls in some interval (any exact point has probability zero)\n",
    "    - The **Cummulative distribution function** gives the probability that a value is less than or equal to a particular value (let's call z)\n",
    "        - If discrete: sum of probabilities associated with values less than or equal to z\n",
    "        - If continuous: the integral from negative infinity to z over the PMF\n",
    "\n",
    "\n",
    "- **Law of Large Numbers** As the number of trial increases, the expectation of a random variable gradually becomes the mean of the population\n",
    "\n",
    "- **Expected Value**\n",
    "    - If discrete: Sum of the product of a value and its corresponding probability, across the entire support\n",
    "    - If continuous: The integral from negative infinity to positive infinity (or the support to be precise) of the product of x and the pdf\n",
    "    \n",
    "- **Variance**\n",
    "    - Measures the spread of the values of a random variable \n",
    "    - Equals the expectation of the squared differences between the values and the mean\n",
    "\n"
   ]
  },
  {
   "cell_type": "markdown",
   "id": "3eb03db4",
   "metadata": {},
   "source": [
    "# Discrete and continuous rvs examples\n",
    "\n",
    "**Discrete**: coin flips, number of students in a classroom, dice tosses, etc.\n",
    "\n",
    "**Continuous**: trolley arrival times, students heights, fuel consumption of daily commutes, etc."
   ]
  },
  {
   "cell_type": "code",
   "execution_count": 17,
   "id": "df358218",
   "metadata": {},
   "outputs": [
    {
     "name": "stdout",
     "output_type": "stream",
     "text": [
      "(0, 1)\n",
      "[1 1 0 0 0 0 1 0 0 0]\n"
     ]
    }
   ],
   "source": [
    "# Code demo for probabilities\n",
    "\n",
    "# Can check out the support of rvs using scipy.stats\n",
    "XBer = stats.bernoulli(p=0.5)\n",
    "print(XBer.support())\n",
    "\n",
    "# Generate observations\n",
    "print(XBer.rvs(10))"
   ]
  },
  {
   "cell_type": "code",
   "execution_count": 15,
   "id": "5096bd1f",
   "metadata": {},
   "outputs": [
    {
     "data": {
      "image/png": "[encoded data removed]",
      "text/plain": [
       "<Figure size 432x288 with 1 Axes>"
      ]
     },
     "metadata": {
      "needs_background": "light"
     },
     "output_type": "display_data"
    }
   ],
   "source": [
    "# Code demo for visualization of a rv\n",
    "\n",
    "# Initialize a normal distribution with mean 0 and standard deviation 1\n",
    "XNormal = stats.norm(0, 1)\n",
    "\n",
    "# Generate samples\n",
    "XNormal.rvs(10)\n",
    "\n",
    "# Get support\n",
    "suppXNormal = XNormal.support()\n",
    "\n",
    "# Get pdf\n",
    "xs = np.linspace(-5, 5, 100)\n",
    "pdf = XNormal.pdf(xs)\n",
    "\n",
    "# Plot\n",
    "plt.plot(xs, pdf)\n",
    "plt.xlabel(\"support\")\n",
    "plt.ylabel(\"pdf\")\n",
    "plt.title(r\"$N(\\mu, \\sigma^2)$\");"
   ]
  },
  {
   "cell_type": "code",
   "execution_count": 44,
   "id": "22f1e8d6",
   "metadata": {},
   "outputs": [
    {
     "data": {
      "image/png": "[encoded data removed]",
      "text/plain": [
       "<Figure size 432x288 with 1 Axes>"
      ]
     },
     "metadata": {
      "needs_background": "light"
     },
     "output_type": "display_data"
    },
    {
     "data": {
      "image/png": "[encoded data removed]",
      "text/plain": [
       "<Figure size 432x288 with 1 Axes>"
      ]
     },
     "metadata": {
      "needs_background": "light"
     },
     "output_type": "display_data"
    }
   ],
   "source": [
    "# Code demo for CDFs\n",
    "\n",
    "# For bernoulli\n",
    "supportBer = np.arange(0, 2, step=0.01)\n",
    "cdfBer = XBer.cdf(supportBer)\n",
    "\n",
    "# Plot\n",
    "plt.plot(supportBer, cdfBer);\n",
    "plt.title(\"Bernoulli CDF\")\n",
    "plt.show()\n",
    "\n",
    "# For poisson\n",
    "XPois = stats.poisson(1)  # Lambda param represents the average # of times the event occurs\n",
    "supportPois = np.arange(-5, 5, step=0.01)\n",
    "cdfPois = XPois.cdf(supportPois)\n",
    "\n",
    "# Plot\n",
    "plt.plot(supportPois, cdfPois);\n",
    "plt.title(\"Poisson CDF\")\n",
    "plt.show()"
   ]
  },
  {
   "cell_type": "markdown",
   "id": "47b88afc",
   "metadata": {},
   "source": [
    "\n",
    "#### Notes from code demo for Law of Large Numbers\n",
    "- The variance hyperparameter determines how fast/quickly the empirical mean converges to the true/theoretical mean (a.k.a. expected value)\n"
   ]
  },
  {
   "cell_type": "markdown",
   "id": "a99e76d4",
   "metadata": {},
   "source": [
    "### Extras\n",
    "\n",
    "np.inf --> infinity in Python\n",
    "\n",
    "X.dist --> get distribution info of rv X\n",
    "\n",
    "stats.rv_discrete --> object usable to check if a rv is discrete, or not\n",
    "\n",
    "X.ppf --> percentage point function"
   ]
  },
  {
   "cell_type": "markdown",
   "id": "c3d4b14f",
   "metadata": {},
   "source": [
    "---"
   ]
  },
  {
   "cell_type": "markdown",
   "id": "89f279dc-cd10-4ca3-b94b-046971a93e54",
   "metadata": {},
   "source": [
    "%%latex \n",
    "\\newpage"
   ]
  },
  {
   "cell_type": "markdown",
   "id": "3525e5fa",
   "metadata": {},
   "source": [
    "## Fri, Jan 19th"
   ]
  },
  {
   "cell_type": "markdown",
   "id": "39c814b7",
   "metadata": {},
   "source": [
    "Friday was a review of probability concepts from Wednesday, especially the visualizations of PMF/PDF and CDF. Also, reviewed expected value and variance, what happens when certain parameters of a random variable changes and observed those changes visually.\n",
    "\n",
    "Notes:\n",
    "* The CDF possesses a step pattern for discrete rvs, whereas continuous rvs have a smooth curve. \n",
    "* Variance can be roughly understood as a measure of how much the values of a rv deviates from the prototypical \"guess\", or theoretical expectation.\n",
    "* **Uniform RV** has the same probability for every value of support (boring one)\n",
    "    - CDF for discrete Unif has steps with equal increases over the support\n",
    "    - CDF for continuous Unif is a straight line (equal accumulations over the support) (uniformly increases)\n",
    "* **Poisson RV**: As lambda increases, the bulk of the PMF lies at lambda\n",
    "    - As lambda increases, the variance also increases, and vice versa. The CDF also becomes similar to that of a normal distribution.\n",
    "* **Chi-Squared RV**: Essentially the sum of the squared of iid normal distributions with mean 0, sd 1 (a.k.a. standard normal). The number of the squared rvs (size of summation) is the degree of freedom.\n",
    "* **Student's t RV**: Can take on values (-inf, inf), equals the standard normal distribution over the square root of the Chisq dist. with k df over k, this k is also the degree of freedom of the Student's t RV.\n",
    "    - Known as a heavy-tailed distribution. \n",
    "    - At lower degrees of freedom, the Student's t dist. has more mass (heavier) than the normal dist. --> More sensitive to edge cases (outliers), important to consider in cases of small sample sizes\n",
    "    - --> Common saying is \"you need a golden number of 30 samples to do statistical analysis\" --> because the dist. resembles the normal dist. at 30 degrees of freedom."
   ]
  },
  {
   "cell_type": "markdown",
   "id": "e68d074d",
   "metadata": {},
   "source": [
    "### Review of Random Variables"
   ]
  },
  {
   "cell_type": "markdown",
   "id": "5fe37260",
   "metadata": {},
   "source": [
    "Binomial Random Variables\n",
    "\n",
    "$ X \\sim \\text{Bin}(n, p) $ with values 0, 1, 2,..., n.\n",
    "\n",
    "$$ P(X = k) = \\binom{n}{k} p^k (1-p)^{n-k} \\text{if x = 0, 1,..., n} $$ \n",
    "$$ \\text{0 if otherwise} $$"
   ]
  },
  {
   "cell_type": "code",
   "execution_count": 85,
   "id": "587a7987",
   "metadata": {},
   "outputs": [
    {
     "data": {
      "image/png": "[encoded data removed]",
      "text/plain": [
       "<Figure size 432x288 with 1 Axes>"
      ]
     },
     "metadata": {
      "needs_background": "light"
     },
     "output_type": "display_data"
    }
   ],
   "source": [
    "# PMF and CDF of Binom RV\n",
    "\n",
    "XBin = stats.binom(n=200, p=0.5)\n",
    "minXBin, maxXBin = XBin.ppf((0.0, 0.999))\n",
    "suppXBin = np.arange(minXBin-1, maxXBin+1)\n",
    "pmfXBin = XBin.pmf(suppXBin)\n",
    "plt.bar(x=suppXBin, height=pmfXBin);\n",
    "\n",
    "plt.ylabel(\"pmf\")\n",
    "plt.xlabel(\"support\")\n",
    "plt.title(\"PMF of Binomial RV\");"
   ]
  },
  {
   "cell_type": "code",
   "execution_count": 86,
   "id": "3120e541",
   "metadata": {},
   "outputs": [
    {
     "data": {
      "image/png": "[encoded data removed]",
      "text/plain": [
       "<Figure size 432x288 with 1 Axes>"
      ]
     },
     "metadata": {
      "needs_background": "light"
     },
     "output_type": "display_data"
    }
   ],
   "source": [
    "suppCDFXBin = np.linspace(minXBin, maxXBin, 100)\n",
    "cdfXBin = XBin.cdf(suppCDFXBin)\n",
    "plt.plot(suppCDFXBin, cdfXBin);\n",
    "\n",
    "plt.ylabel(\"cdf\")\n",
    "plt.xlabel(\"support\")\n",
    "plt.title(\"CDF of Binomial RV\");"
   ]
  },
  {
   "cell_type": "code",
   "execution_count": 83,
   "id": "b168df10",
   "metadata": {},
   "outputs": [
    {
     "data": {
      "image/png": "[encoded data removed]",
      "text/plain": [
       "<Figure size 432x288 with 1 Axes>"
      ]
     },
     "metadata": {
      "needs_background": "light"
     },
     "output_type": "display_data"
    }
   ],
   "source": [
    "# What happens when we decrease n?\n",
    "\n",
    "XBin = stats.binom(n=5, p=0.5)\n",
    "minXBin, maxXBin = XBin.ppf((0.0, 0.999))\n",
    "suppXBin = np.arange(minXBin-1, maxXBin+1)\n",
    "pmfXBin = XBin.pmf(suppXBin)\n",
    "plt.bar(x=suppXBin, height=pmfXBin);\n",
    "\n",
    "plt.ylabel(\"pmf\")\n",
    "plt.xlabel(\"support\")\n",
    "plt.title(\"PMF of Binomial RV\");"
   ]
  },
  {
   "cell_type": "code",
   "execution_count": 84,
   "id": "af748a88",
   "metadata": {},
   "outputs": [
    {
     "data": {
      "image/png": "[encoded data removed]",
      "text/plain": [
       "<Figure size 432x288 with 1 Axes>"
      ]
     },
     "metadata": {
      "needs_background": "light"
     },
     "output_type": "display_data"
    }
   ],
   "source": [
    "suppCDFXBin = np.linspace(minXBin, maxXBin, 100)\n",
    "cdfXBin = XBin.cdf(suppCDFXBin)\n",
    "plt.plot(suppCDFXBin, cdfXBin);\n",
    "\n",
    "plt.ylabel(\"cdf\")\n",
    "plt.xlabel(\"support\")\n",
    "plt.title(\"CDF of Binomial RV\");"
   ]
  },
  {
   "cell_type": "markdown",
   "id": "7a2fddd1",
   "metadata": {},
   "source": [
    "**Observation**: The steps are back (discrete RV)"
   ]
  },
  {
   "cell_type": "code",
   "execution_count": 87,
   "id": "e157c13b",
   "metadata": {},
   "outputs": [
    {
     "data": {
      "image/png": "[encoded data removed]",
      "text/plain": [
       "<Figure size 432x288 with 1 Axes>"
      ]
     },
     "metadata": {
      "needs_background": "light"
     },
     "output_type": "display_data"
    }
   ],
   "source": [
    "# What happens when n=1?\n",
    "\n",
    "XBin = stats.binom(n=1, p=0.2)\n",
    "minXBin, maxXBin = XBin.ppf((0.0, 0.999))\n",
    "suppXBin = np.arange(minXBin-1, maxXBin+1)\n",
    "pmfXBin = XBin.pmf(suppXBin)\n",
    "plt.bar(x=suppXBin, height=pmfXBin);\n",
    "\n",
    "plt.ylabel(\"pmf\")\n",
    "plt.xlabel(\"support\")\n",
    "plt.title(\"PMF of Binomial RV\");"
   ]
  },
  {
   "cell_type": "markdown",
   "id": "304bfc4d",
   "metadata": {},
   "source": [
    "**Observation**: Essentially a Bernoulli RV"
   ]
  },
  {
   "cell_type": "code",
   "execution_count": 89,
   "id": "672814f3",
   "metadata": {},
   "outputs": [
    {
     "data": {
      "image/png": "[encoded data removed]",
      "text/plain": [
       "<Figure size 432x288 with 1 Axes>"
      ]
     },
     "metadata": {
      "needs_background": "light"
     },
     "output_type": "display_data"
    }
   ],
   "source": [
    "suppCDFXBin = np.linspace(minXBin, maxXBin, 100)\n",
    "cdfXBin = XBin.cdf(suppCDFXBin)\n",
    "plt.plot(suppCDFXBin, cdfXBin);\n",
    "\n",
    "plt.ylabel(\"cdf\")\n",
    "plt.xlabel(\"support\")\n",
    "plt.title(\"CDF of Binomial RV\");"
   ]
  },
  {
   "cell_type": "markdown",
   "id": "20b0b575",
   "metadata": {},
   "source": [
    "**Observation**: The CDF of a Bernoulli RV with p = 0.2"
   ]
  },
  {
   "cell_type": "code",
   "execution_count": null,
   "id": "178ee380",
   "metadata": {},
   "outputs": [],
   "source": []
  }
 ],
 "metadata": {
  "kernelspec": {
   "display_name": "Python 3 (ipykernel)",
   "language": "python",
   "name": "python3"
  },
  "language_info": {
   "codemirror_mode": {
    "name": "ipython",
    "version": 3
   },
   "file_extension": ".py",
   "mimetype": "text/x-python",
   "name": "python",
   "nbconvert_exporter": "python",
   "pygments_lexer": "ipython3",
   "version": "3.9.12"
  }
 },
 "nbformat": 4,
 "nbformat_minor": 5
}
