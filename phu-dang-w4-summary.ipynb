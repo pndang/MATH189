{
 "cells": [
  {
   "cell_type": "markdown",
   "id": "f5699a71",
   "metadata": {},
   "source": [
    "# Week 4 Summary\n",
    "> NAME: $\\color{red}{\\text{    Phu Dang     }}$\n",
    "> \n",
    "> PID: $\\color{red}{\\text{    A16913100     }}$\n",
    ">\n",
    "> \n",
    "---"
   ]
  },
  {
   "cell_type": "markdown",
   "id": "b0e61ba4-c23c-44b6-8933-ad5c5013a12d",
   "metadata": {},
   "source": [
    "I certify that the following write-up is my own work, and have abided by the UCSD Academic Integrity Guidelines.\n",
    "\n",
    "- [x] Yes\n",
    "- [ ] No"
   ]
  },
  {
   "cell_type": "markdown",
   "id": "2e3d69d4-fc3b-467c-867a-232ea44b034d",
   "metadata": {},
   "source": [
    "---"
   ]
  },
  {
   "cell_type": "markdown",
   "id": "de700466",
   "metadata": {},
   "source": [
    "## Key Takeaways from Week 4"
   ]
  },
  {
   "cell_type": "markdown",
   "id": "e89169e3",
   "metadata": {},
   "source": [
    "\n",
    "#### Monday: \n",
    "\n",
    "Hypothesis testing types and construction for one sample proportion and one sample mean.\n",
    "\n",
    "- Review of hypothesis testing\n",
    "- One sample proportion\n",
    "- One sample mean\n"
   ]
  },
  {
   "cell_type": "markdown",
   "id": "29081a6f",
   "metadata": {},
   "source": [
    "#### Wednesday\n",
    "\n",
    "Continue from Monday with code demonstrations of the hypothesis tests prepared on Monday.\n",
    "\n",
    "- P-value interpretations\n",
    "- stats.ttest_1samp\n"
   ]
  },
  {
   "cell_type": "markdown",
   "id": "56f24688",
   "metadata": {},
   "source": [
    "#### Friday: \n",
    "\n",
    "Covered the categorical and multinomial distributions, with code demonstration for a chi-squared goodness of fit test among categories in a dataset.\n",
    "\n",
    "- Goodness of fit test\n",
    "- Test for independence\n",
    "- Test for homogeneity\n"
   ]
  },
  {
   "cell_type": "markdown",
   "id": "5928a1a1",
   "metadata": {},
   "source": [
    "---"
   ]
  },
  {
   "cell_type": "markdown",
   "id": "71b30092-0b40-4853-bee7-9fb6b040490d",
   "metadata": {},
   "source": [
    "%%latex\n",
    "\\newpage"
   ]
  },
  {
   "cell_type": "code",
   "execution_count": 2,
   "id": "54f4f777",
   "metadata": {},
   "outputs": [],
   "source": [
    "import numpy as np\n",
    "import pandas as pd\n",
    "\n",
    "import seaborn as sns\n",
    "import matplotlib.pyplot as plt\n",
    "\n",
    "import scipy.stats as stats\n",
    "import statsmodels.api as sm\n",
    "import statsmodels.formula.api as smf"
   ]
  },
  {
   "cell_type": "markdown",
   "id": "d9ac3593",
   "metadata": {},
   "source": [
    "## Monday, Jan 29th"
   ]
  },
  {
   "cell_type": "markdown",
   "id": "3d181512",
   "metadata": {},
   "source": [
    "Monday was a review of hypothesis testing from the previous week, followed with coverage of hypothesis tests for one sample mean and one sample proportion. Specific focus was one constructing the hypothesis tests and choosing the suitable choices for each component of the tests (e.g. population param, test statistic, null/alt hypotheses, etc.)"
   ]
  },
  {
   "cell_type": "markdown",
   "id": "36ae94c2",
   "metadata": {},
   "source": [
    "Key concepts covered:\n",
    "\n",
    "- Univariate Hypothesis Testing\n",
    "    - One sample proportion\n",
    "    - Two sample proportions\n",
    "    - One sample mean\n",
    "    - Two sample means\n",
    "    \n",
    "**Notes**: \n",
    "\n",
    "Motivation for hypothesis tests: (Broadly) We want to examine whether the true population parameter, $\\theta$, is equal to some value $\\theta_0$\n",
    "\n",
    "- Assumptions: the distribution from which the data points follow, use this information to determine the **population parameter**\n",
    "- Hypothesis Test Components:\n",
    "    - Null Hypothesis:\n",
    "        - $H_0$ is a statement about the value of $\\theta$ under the most conservative claims.\n",
    "    - Alternative Hypothesis:\n",
    "        - $H_a$ is a statement about the value of $\\theta$ we are seeking statistical evidence/significance for. \n",
    "    - Sample statistic\n",
    "        - The sample statistic, $\\hat\\theta$, is a function of the data we use to estimate $\\theta$.\n",
    "    - Test statistic\n",
    "        - $\\hat T$ = $\\hat T(X_1, X_2,...,X_n)$ is a function of the data used to decide between $H_0$ and $H_1$.\n",
    "        - The sampling distribution of the test statistic does not depend on $\\theta$.\n",
    "    - Rejection region\n",
    "        - Level $\\alpha$ rejection region, the set of values of the observed test statistic for which we reject the null in favor of the alternate.\n",
    "     \n",
    "  \n",
    "- Types of Errors\n",
    "    - Type I Error: Reject the null while it is true\n",
    "    - Type II Error: Fail to reject the null while the alternate hypothesis is true\n",
    "    \n",
    "    \n",
    "- Significance level\n",
    "    - $\\alpha$ is the probability of making a Type I Error\n",
    "\n",
    "$$\n",
    "\\alpha = P(\\text{reject } H_0 | H_0 \\text{ is true})\n",
    "$$\n"
   ]
  },
  {
   "cell_type": "markdown",
   "id": "cfdb0ae2",
   "metadata": {},
   "source": [
    "#### One sample mean HT Construction\n",
    "\n",
    "Are cars driven by UCSD students fuel efficient? Assuming an efficiency threshold of 21 mpg. Sampled 100 students, observed average fuel efficiency is 20.2 mpg.\n",
    "\n",
    "Hypothesis Test Structure:\n",
    "- Assumption: $ X_1, X_2, \\dots, X_{100} \\sim N(\\mu, \\sigma^2) $\n",
    "\n",
    "- Population param: $\\theta = \\mu$\n",
    "\n",
    "- Sample statistic: $\\hat\\theta = \\overline X$\n",
    "\n",
    "- Test statistics: $T = \\frac{\\hat\\theta-\\theta}{\\hat\\sigma/\\sqrt{n}} \\sim t(n-1)$\n",
    "\n",
    "- Null Hypothesis: $H_0: \\theta = 21$ or $H_0: \\theta > 21$\n",
    "\n",
    "- Alternative Hypothesis: $H_a: \\theta < 21$\n",
    "\n",
    "- Rejection region shape: $(-\\infty, x_\\alpha)$ \n",
    "\n"
   ]
  },
  {
   "cell_type": "markdown",
   "id": "524040d4",
   "metadata": {},
   "source": [
    "#### One sample proportion HT Construction\n",
    "\n",
    "Is the number of students who prefer to study in Geisel Library different from the number of students who prefer to study at WongAvery Library? Sampled 100 students, 80 preferred Geisel and 20 preferred WongAvery.\n",
    "\n",
    "We want to see if this is evidence to say that the proportion of students who prefer Geisel is more than the number of students who prefer WongAvery.\n",
    "\n",
    "Hypothesis Test Structure:\n",
    "\n",
    "- Assumption: $ X_1, \\dots, X_n \\sim Ber(p) $\n",
    "\n",
    "- Population param: $ \\theta $\n",
    "\n",
    "- Sample statistic: $ \\hat\\theta = \\overline X $\n",
    "\n",
    "- Test statistics: $ T = \\displaystyle \\frac{\\hat\\theta-\\theta}{\\sqrt{\\frac{\\hat\\theta(1-\\hat\\theta)}{n}}} $\n",
    "\n",
    "- Null Hypothesis: $ H_0: \\theta = 0.5 $\n",
    "\n",
    "- Alternative Hypothesis: $ H_a: \\theta \\neq 0.5 $\n",
    "\n",
    "- Rejection region shape: $ (-\\infty, -x_{\\alpha/2}) \\cup (x_{\\alpha/2}, \\infty) $"
   ]
  },
  {
   "cell_type": "markdown",
   "id": "c3d4b14f",
   "metadata": {},
   "source": [
    "---"
   ]
  },
  {
   "cell_type": "markdown",
   "id": "89f279dc-cd10-4ca3-b94b-046971a93e54",
   "metadata": {},
   "source": [
    "%%latex \n",
    "\\newpage"
   ]
  },
  {
   "cell_type": "markdown",
   "id": "9e527d83",
   "metadata": {},
   "source": [
    "## Wed, Jan 31st"
   ]
  },
  {
   "cell_type": "markdown",
   "id": "97cba7b9",
   "metadata": {},
   "source": [
    "Review of one sample mean and one sample proportion hypothesis tests from Monday with code demonstration of the tests. Showed how the test is done both manually and using the scipy.stats api.\n",
    "\n",
    "Key concepts covered: \n",
    "\n",
    "- Univariate Hypothesis Testing\n",
    "    - Two sample proportions \n",
    "    - Code demonstration of one sample proportion HT (from Monday)"
   ]
  },
  {
   "cell_type": "markdown",
   "id": "61553b50",
   "metadata": {},
   "source": [
    "#### Two sample proportions HT Construction\n",
    "\n",
    "Is the proportion of data science students enrolled in MATH 189 different from the proportion of mathematics students enrolled in MATH 189? Randomly sampled 50 data science students and 50 math students, found out that 20 dsc students are enrolled and 25 math students are enrolled. \n",
    "\n",
    "We want to see if this is evidence that the proportion of math students who are enrolled in MATH 189 is different from the proportion of dsc students who are enrolled. \n",
    "\n",
    "Assumption: $X_1, \\dots, X_n \\sim Ber(p_X) \\text{ and } Y_1, \\dots, Y_n \\sim Ber(p_Y)$\n",
    "\n",
    "Population param: $\\theta = p_X - p_Y$\n",
    "\n",
    "Sample statistics: $\\hat\\theta = \\overline X - \\overline Y$\n",
    "\n",
    "Test statistics: $T = \\frac{\\hat\\theta-\\theta}{SE} \\approx N(0,1)$\n",
    "\n",
    "Null Hypothesis: $ H_0 : \\theta = 0 $\n",
    "\n",
    "Alternative Hypothesis: $ H_\\alpha : \\theta \\neq 0 $\n",
    "\n",
    "Rejection region shape: $ (-\\infty, -x_{\\alpha}) \\cup (x_{\\alpha}, \\infty) $\n",
    "\n",
    "**Extra Notes**:\n",
    "\n",
    "- Standard error for two sample proportions\n",
    "\n",
    "$$\n",
    "SE = \\sqrt{\\frac{\\hat\\theta_X \\times (1-\\hat\\theta_X)}{n} + \\frac{\\hat\\theta_Y \\times (1-\\hat\\theta_Y)}{m}}\n",
    "$$\n",
    "\n",
    "- Rejection region shape depends on the direction of our question. E.g. \"different\" often means two directions (two tails) (one population can be more or less than the other, meaning no particular direction specified), versus \"one population more or less than the other\" has a one-sided rejection region.\n",
    "\n",
    "- **P-value interpretation**: the smallest alpha where we can reject the null hypothesis for the observed test statistics\n",
    "\n",
    "- **stats.ttest_1samp** can be used for one sample mean HT"
   ]
  },
  {
   "cell_type": "markdown",
   "id": "6712d8a5",
   "metadata": {},
   "source": [
    "#### One sample mean HT demo"
   ]
  },
  {
   "cell_type": "code",
   "execution_count": 6,
   "id": "17da9f42",
   "metadata": {},
   "outputs": [],
   "source": [
    "muTrue = 20.2\n",
    "mu0 = 21\n",
    "\n",
    "def simulateMPG(n):\n",
    "    return np.random.normal(muTrue, 1, size=n)"
   ]
  },
  {
   "cell_type": "code",
   "execution_count": 7,
   "id": "dfcbea41",
   "metadata": {},
   "outputs": [
    {
     "data": {
      "text/plain": [
       "array([20.15391811, 20.99370345, 18.89886548, 20.15277512, 21.40036934,\n",
       "       20.73562851, 21.73240277, 21.50811739, 17.93102821, 21.375922  ,\n",
       "       18.85940823, 18.22500049, 18.98123211, 17.88569199, 21.70065397,\n",
       "       20.45322948, 20.35290157, 19.67177703, 20.69878226, 21.12806824,\n",
       "       19.0505609 , 20.30565778, 18.92305929, 19.58630251, 20.72822706,\n",
       "       20.41706087, 21.44581482, 18.75098085, 19.91896419, 19.18852413,\n",
       "       21.33971507])"
      ]
     },
     "execution_count": 7,
     "metadata": {},
     "output_type": "execute_result"
    }
   ],
   "source": [
    "# Generate surveys\n",
    "\n",
    "mpgData = simulateMPG(31)\n",
    "mpgData"
   ]
  },
  {
   "cell_type": "code",
   "execution_count": 8,
   "id": "f2d4b0fc",
   "metadata": {},
   "outputs": [
    {
     "data": {
      "text/plain": [
       "20.08046268423384"
      ]
     },
     "execution_count": 8,
     "metadata": {},
     "output_type": "execute_result"
    }
   ],
   "source": [
    "thetaHat = mpgData.mean()\n",
    "thetaHat"
   ]
  },
  {
   "cell_type": "code",
   "execution_count": 27,
   "id": "8cc6d38e",
   "metadata": {},
   "outputs": [
    {
     "data": {
      "text/plain": [
       "-4.423421782557434"
      ]
     },
     "execution_count": 27,
     "metadata": {},
     "output_type": "execute_result"
    }
   ],
   "source": [
    "tHat = (mpgData.mean() - mu0) / (mpgData.std(ddof=1) / np.sqrt(31))\n",
    "tHat"
   ]
  },
  {
   "cell_type": "code",
   "execution_count": 28,
   "id": "d59d4b25",
   "metadata": {},
   "outputs": [
    {
     "data": {
      "image/png": "[encoded data removed]",
      "text/plain": [
       "<Figure size 432x288 with 1 Axes>"
      ]
     },
     "metadata": {
      "needs_background": "light"
     },
     "output_type": "display_data"
    }
   ],
   "source": [
    "# Plot t distribution and observed test statistic (tHat)\n",
    "\n",
    "minX, maxX = stats.t(30).ppf((1e-3, 1-1e-3))\n",
    "suppX = np.linspace(minX-1, maxX+1, 200)\n",
    "plt.plot(suppX, stats.t(30).pdf(suppX))\n",
    "plt.vlines(tHat, 0, 0.4, color='red', linestyles='--')\n",
    "plt.xlabel(\"support\")\n",
    "plt.ylabel(\"pdf\");"
   ]
  },
  {
   "cell_type": "code",
   "execution_count": 29,
   "id": "e8caf56b",
   "metadata": {},
   "outputs": [
    {
     "data": {
      "text/plain": [
       "5.8975515097677657e-05"
      ]
     },
     "execution_count": 29,
     "metadata": {},
     "output_type": "execute_result"
    }
   ],
   "source": [
    "# Get rejection region and p-value\n",
    "\n",
    "pVal = stats.t(30).cdf(tHat)\n",
    "pVal"
   ]
  },
  {
   "cell_type": "markdown",
   "id": "39a70789",
   "metadata": {},
   "source": [
    "--> Reject the null hypothesis"
   ]
  },
  {
   "cell_type": "code",
   "execution_count": 30,
   "id": "3e3894ef",
   "metadata": {},
   "outputs": [
    {
     "data": {
      "text/plain": [
       "Ttest_1sampResult(statistic=-4.423421782557434, pvalue=5.8975515097677657e-05)"
      ]
     },
     "execution_count": 30,
     "metadata": {},
     "output_type": "execute_result"
    }
   ],
   "source": [
    "# stats.ttest_1samp demo\n",
    "\n",
    "stats.ttest_1samp(mpgData, mu0, alternative='less')"
   ]
  },
  {
   "cell_type": "markdown",
   "id": "e6be712f-4560-4b32-ac50-b3db9cfaad0a",
   "metadata": {},
   "source": [
    "%%latex \n",
    "\\newpage"
   ]
  },
  {
   "cell_type": "markdown",
   "id": "3525e5fa",
   "metadata": {},
   "source": [
    "## Fri, Feb 2nd"
   ]
  },
  {
   "cell_type": "markdown",
   "id": "39c814b7",
   "metadata": {},
   "source": [
    "Review the anatomy of hypothesis tests with code demonstrations, and additional parametric hypothesis tests, including goodness of fit test, test for independence, and test for homogeneity.\n",
    "\n",
    "Key concepts covered:\n",
    "\n",
    "- Code demonstrations of one sample proportion and two sample proportions hypothesis tests\n",
    "- Goodness of fit test\n",
    "\n",
    "    - Used to see if the observed frequencies of categories of a categorical variable are consistent with some expected frequencies.\n",
    "    \n",
    "    - **Categorical distribution**:\n",
    "        - A RV $X \\sim Categorical(\\pi)$ has a categorical distribution with parameters $\\pi$ = $(p_1, \\dots, p_n)$ if:\n",
    "        \n",
    "$$\n",
    "P(X = i) = p_i \\text{ for } i = 1, 2, \\dots, k\n",
    "$$\n",
    "\n",
    "with the following conditions:\n",
    "\n",
    "$$\n",
    "0 \\leq p_i \\leq 1 \\text{ for } i = 1, 2, \\dots, k\n",
    "$$\n",
    "\n",
    "$$\n",
    "\\sum_{i=1}^{k}p_i = 1\n",
    "$$\n",
    "\n",
    "**Multinomial distribution**:\n",
    "- A random vector $X = (X_1, \\dots, X_k)$ has a multinomial distribution with params n and $\\pi = (p_1, \\dots, p_k)$, is $X \\sim Multinomial(n, \\pi) \\text{ if:}$\n",
    "\n",
    "$$\n",
    "P(X_1 = O_1, X_2 = 0_2, \\dots, X_k = O_k) = \\frac{n!}{O_1! \\times O_2! \\times \\dots \\times O_k!} \\times p_{1}^{O_1} \\times p_{2}^{O_2} \\times \\dots \\times p_{k}^{O_k}\n",
    "$$\n",
    "\n",
    "where the total number of observations is n = $O_1 + O_2 + \\dots + O_k$.\n",
    "\n",
    "- Test for independence\n",
    "- Test for homogeneity\n",
    "\n",
    "**Extra Notes**:\n",
    "\n",
    "- P-value can also be understood as the minimum probability for a Type I Error we would accept to reject the null hypothesis.\n",
    "\n",
    "- \"What the multinomial distribution is to a categorical variable is the same as what a binomial distribution is to a bernoulli distribution\" -SV\n",
    "\n",
    "- When n = 1, the multinomial distribution becomes the categorical distribution\n",
    "\n",
    "- The multinomial distribution is a generalization of the binomial distribution to more than two categories.\n",
    "    - When k = 2 and $\\pi = (p, 1-p)$, the categorical distribtution is exactly the Bernoulli distribution.\n",
    "    - For k = 2 and n > 1, the PMF of the multinomial distribution is the same as the PMF of the binomial distribution.\n",
    " \n",
    " \n",
    "- The test statistics of observed frequencies consistency with expected frequencies follow the chi-squared distribution with dof k-1, where k is the number of categories."
   ]
  },
  {
   "cell_type": "code",
   "execution_count": 32,
   "id": "587a7987",
   "metadata": {},
   "outputs": [
    {
     "data": {
      "text/html": [
       "<div>\n",
       "<style scoped>\n",
       "    .dataframe tbody tr th:only-of-type {\n",
       "        vertical-align: middle;\n",
       "    }\n",
       "\n",
       "    .dataframe tbody tr th {\n",
       "        vertical-align: top;\n",
       "    }\n",
       "\n",
       "    .dataframe thead th {\n",
       "        text-align: right;\n",
       "    }\n",
       "</style>\n",
       "<table border=\"1\" class=\"dataframe\">\n",
       "  <thead>\n",
       "    <tr style=\"text-align: right;\">\n",
       "      <th></th>\n",
       "      <th>subject_id</th>\n",
       "      <th>fake_first_name</th>\n",
       "      <th>fake_last_name</th>\n",
       "      <th>gender</th>\n",
       "      <th>pan_day</th>\n",
       "      <th>test_id</th>\n",
       "      <th>clinic_name</th>\n",
       "      <th>result</th>\n",
       "      <th>demo_group</th>\n",
       "      <th>age</th>\n",
       "      <th>drive_thru_ind</th>\n",
       "      <th>ct_result</th>\n",
       "      <th>orderset</th>\n",
       "      <th>payor_group</th>\n",
       "      <th>patient_class</th>\n",
       "      <th>col_rec_tat</th>\n",
       "      <th>rec_ver_tat</th>\n",
       "    </tr>\n",
       "    <tr>\n",
       "      <th>rownames</th>\n",
       "      <th></th>\n",
       "      <th></th>\n",
       "      <th></th>\n",
       "      <th></th>\n",
       "      <th></th>\n",
       "      <th></th>\n",
       "      <th></th>\n",
       "      <th></th>\n",
       "      <th></th>\n",
       "      <th></th>\n",
       "      <th></th>\n",
       "      <th></th>\n",
       "      <th></th>\n",
       "      <th></th>\n",
       "      <th></th>\n",
       "      <th></th>\n",
       "      <th></th>\n",
       "    </tr>\n",
       "  </thead>\n",
       "  <tbody>\n",
       "    <tr>\n",
       "      <th>1</th>\n",
       "      <td>1412</td>\n",
       "      <td>jhezane</td>\n",
       "      <td>westerling</td>\n",
       "      <td>female</td>\n",
       "      <td>4</td>\n",
       "      <td>covid</td>\n",
       "      <td>inpatient ward a</td>\n",
       "      <td>negative</td>\n",
       "      <td>patient</td>\n",
       "      <td>0.0</td>\n",
       "      <td>0</td>\n",
       "      <td>45.0</td>\n",
       "      <td>0</td>\n",
       "      <td>government</td>\n",
       "      <td>inpatient</td>\n",
       "      <td>1.4</td>\n",
       "      <td>5.2</td>\n",
       "    </tr>\n",
       "    <tr>\n",
       "      <th>2</th>\n",
       "      <td>533</td>\n",
       "      <td>penny</td>\n",
       "      <td>targaryen</td>\n",
       "      <td>female</td>\n",
       "      <td>7</td>\n",
       "      <td>covid</td>\n",
       "      <td>clinical lab</td>\n",
       "      <td>negative</td>\n",
       "      <td>patient</td>\n",
       "      <td>0.0</td>\n",
       "      <td>1</td>\n",
       "      <td>45.0</td>\n",
       "      <td>0</td>\n",
       "      <td>commercial</td>\n",
       "      <td>not applicable</td>\n",
       "      <td>2.3</td>\n",
       "      <td>5.8</td>\n",
       "    </tr>\n",
       "    <tr>\n",
       "      <th>3</th>\n",
       "      <td>9134</td>\n",
       "      <td>grunt</td>\n",
       "      <td>rivers</td>\n",
       "      <td>male</td>\n",
       "      <td>7</td>\n",
       "      <td>covid</td>\n",
       "      <td>clinical lab</td>\n",
       "      <td>negative</td>\n",
       "      <td>patient</td>\n",
       "      <td>0.8</td>\n",
       "      <td>1</td>\n",
       "      <td>45.0</td>\n",
       "      <td>1</td>\n",
       "      <td>NaN</td>\n",
       "      <td>NaN</td>\n",
       "      <td>7.3</td>\n",
       "      <td>4.7</td>\n",
       "    </tr>\n",
       "    <tr>\n",
       "      <th>4</th>\n",
       "      <td>8518</td>\n",
       "      <td>melisandre</td>\n",
       "      <td>swyft</td>\n",
       "      <td>female</td>\n",
       "      <td>8</td>\n",
       "      <td>covid</td>\n",
       "      <td>clinical lab</td>\n",
       "      <td>negative</td>\n",
       "      <td>patient</td>\n",
       "      <td>0.8</td>\n",
       "      <td>1</td>\n",
       "      <td>45.0</td>\n",
       "      <td>1</td>\n",
       "      <td>NaN</td>\n",
       "      <td>NaN</td>\n",
       "      <td>5.8</td>\n",
       "      <td>5.0</td>\n",
       "    </tr>\n",
       "    <tr>\n",
       "      <th>5</th>\n",
       "      <td>8967</td>\n",
       "      <td>rolley</td>\n",
       "      <td>karstark</td>\n",
       "      <td>male</td>\n",
       "      <td>8</td>\n",
       "      <td>covid</td>\n",
       "      <td>emergency dept</td>\n",
       "      <td>negative</td>\n",
       "      <td>patient</td>\n",
       "      <td>0.8</td>\n",
       "      <td>0</td>\n",
       "      <td>45.0</td>\n",
       "      <td>1</td>\n",
       "      <td>government</td>\n",
       "      <td>emergency</td>\n",
       "      <td>1.2</td>\n",
       "      <td>6.4</td>\n",
       "    </tr>\n",
       "  </tbody>\n",
       "</table>\n",
       "</div>"
      ],
      "text/plain": [
       "          subject_id fake_first_name fake_last_name  gender  pan_day test_id  \\\n",
       "rownames                                                                       \n",
       "1               1412         jhezane     westerling  female        4   covid   \n",
       "2                533           penny      targaryen  female        7   covid   \n",
       "3               9134           grunt         rivers    male        7   covid   \n",
       "4               8518      melisandre          swyft  female        8   covid   \n",
       "5               8967          rolley       karstark    male        8   covid   \n",
       "\n",
       "               clinic_name    result demo_group  age  drive_thru_ind  \\\n",
       "rownames                                                               \n",
       "1         inpatient ward a  negative    patient  0.0               0   \n",
       "2             clinical lab  negative    patient  0.0               1   \n",
       "3             clinical lab  negative    patient  0.8               1   \n",
       "4             clinical lab  negative    patient  0.8               1   \n",
       "5           emergency dept  negative    patient  0.8               0   \n",
       "\n",
       "          ct_result  orderset payor_group   patient_class  col_rec_tat  \\\n",
       "rownames                                                                 \n",
       "1              45.0         0  government       inpatient          1.4   \n",
       "2              45.0         0  commercial  not applicable          2.3   \n",
       "3              45.0         1         NaN             NaN          7.3   \n",
       "4              45.0         1         NaN             NaN          5.8   \n",
       "5              45.0         1  government       emergency          1.2   \n",
       "\n",
       "          rec_ver_tat  \n",
       "rownames               \n",
       "1                 5.2  \n",
       "2                 5.8  \n",
       "3                 4.7  \n",
       "4                 5.0  \n",
       "5                 6.4  "
      ]
     },
     "execution_count": 32,
     "metadata": {},
     "output_type": "execute_result"
    }
   ],
   "source": [
    "# Import covid-19 dataset\n",
    "\n",
    "url = 'https://vincentarelbundock.github.io/Rdatasets/csv/medicaldata/covid_testing.csv'\n",
    "df = pd.read_csv(url, index_col=0)\n",
    "df.head()"
   ]
  },
  {
   "cell_type": "markdown",
   "id": "410cd4c0",
   "metadata": {},
   "source": [
    "#### One sample proportion "
   ]
  },
  {
   "cell_type": "code",
   "execution_count": 37,
   "id": "f731c645",
   "metadata": {},
   "outputs": [
    {
     "data": {
      "text/plain": [
       "Ttest_1sampResult(statistic=-7.756291371840876, pvalue=0.9999999999999953)"
      ]
     },
     "execution_count": 37,
     "metadata": {},
     "output_type": "execute_result"
    }
   ],
   "source": [
    "# Do the number of positive COVID-19 tests exceed 7%?\n",
    "\n",
    "stats.ttest_1samp(\n",
    "    df['result'].map(lambda x: x == 'positive'),\n",
    "    0.07,\n",
    "    alternative='greater'\n",
    ")"
   ]
  },
  {
   "cell_type": "markdown",
   "id": "d8628356",
   "metadata": {},
   "source": [
    "--> We fail to reject the null hypothesis and conclude that there is not enough evidence that the number of positive COVID-19 tests exceed 7%."
   ]
  },
  {
   "cell_type": "markdown",
   "id": "b6520f6f",
   "metadata": {},
   "source": [
    "#### Two sample proportions "
   ]
  },
  {
   "cell_type": "code",
   "execution_count": 43,
   "id": "6ff80208",
   "metadata": {},
   "outputs": [
    {
     "data": {
      "text/html": [
       "<div>\n",
       "<style scoped>\n",
       "    .dataframe tbody tr th:only-of-type {\n",
       "        vertical-align: middle;\n",
       "    }\n",
       "\n",
       "    .dataframe tbody tr th {\n",
       "        vertical-align: top;\n",
       "    }\n",
       "\n",
       "    .dataframe thead th {\n",
       "        text-align: right;\n",
       "    }\n",
       "</style>\n",
       "<table border=\"1\" class=\"dataframe\">\n",
       "  <thead>\n",
       "    <tr style=\"text-align: right;\">\n",
       "      <th>result</th>\n",
       "      <th>negative</th>\n",
       "      <th>positive</th>\n",
       "    </tr>\n",
       "    <tr>\n",
       "      <th>drive_thru_ind</th>\n",
       "      <th></th>\n",
       "      <th></th>\n",
       "    </tr>\n",
       "  </thead>\n",
       "  <tbody>\n",
       "    <tr>\n",
       "      <th>0</th>\n",
       "      <td>0.457728</td>\n",
       "      <td>0.025356</td>\n",
       "    </tr>\n",
       "    <tr>\n",
       "      <th>1</th>\n",
       "      <td>0.485450</td>\n",
       "      <td>0.031466</td>\n",
       "    </tr>\n",
       "  </tbody>\n",
       "</table>\n",
       "</div>"
      ],
      "text/plain": [
       "result          negative  positive\n",
       "drive_thru_ind                    \n",
       "0               0.457728  0.025356\n",
       "1               0.485450  0.031466"
      ]
     },
     "execution_count": 43,
     "metadata": {},
     "output_type": "execute_result"
    }
   ],
   "source": [
    "# Do drive-thru tests have a higher proportion of positive COVID-19 tests than walk-in tests?\n",
    "\n",
    "pd.crosstab(df[df['result'] != 'invalid']['drive_thru_ind'], df['result'], normalize=True)"
   ]
  },
  {
   "cell_type": "code",
   "execution_count": 52,
   "id": "6255a224",
   "metadata": {},
   "outputs": [],
   "source": [
    "# Exclude tests with \"invalid\" as result\n",
    "\n",
    "df = df[df['result'] != 'invalid']"
   ]
  },
  {
   "cell_type": "code",
   "execution_count": 53,
   "id": "50f221b3",
   "metadata": {},
   "outputs": [
    {
     "data": {
      "text/plain": [
       "Ttest_indResult(statistic=2.238193444580982, pvalue=0.012611422243054001)"
      ]
     },
     "execution_count": 53,
     "metadata": {},
     "output_type": "execute_result"
    }
   ],
   "source": [
    "stats.ttest_ind(\n",
    "    df[df['drive_thru_ind'] == 1]['result'].map(lambda x: x == 'positive'),\n",
    "    df[df['drive_thru_ind'] == 0]['result'].map(lambda x: x == 'positive'),\n",
    "    equal_var=False,\n",
    "    alternative='greater'\n",
    ")"
   ]
  },
  {
   "cell_type": "markdown",
   "id": "40e1f5f9",
   "metadata": {},
   "source": [
    "--> At a 1% significance level, we fail to reject the null hypothesis and conclude that there is not enough evidence that drive-thru tests have a higher proportion of positive results than walk-in tests."
   ]
  },
  {
   "cell_type": "markdown",
   "id": "f1f94645",
   "metadata": {},
   "source": [
    "#### Get pmf of multinomial distribution"
   ]
  },
  {
   "cell_type": "code",
   "execution_count": 59,
   "id": "24fba2cd",
   "metadata": {},
   "outputs": [
    {
     "data": {
      "text/plain": [
       "0.10581580799999993"
      ]
     },
     "execution_count": 59,
     "metadata": {},
     "output_type": "execute_result"
    }
   ],
   "source": [
    "X = stats.multinomial(10, [0.1, 0.3, 0.6]) # 10 observations\n",
    "X.pmf([1, 3, 6])"
   ]
  },
  {
   "cell_type": "code",
   "execution_count": 60,
   "id": "51d54c30",
   "metadata": {},
   "outputs": [
    {
     "data": {
      "text/plain": [
       "array([[0, 4, 6],\n",
       "       [2, 4, 4],\n",
       "       [2, 4, 4],\n",
       "       [1, 3, 6],\n",
       "       [2, 1, 7]])"
      ]
     },
     "execution_count": 60,
     "metadata": {},
     "output_type": "execute_result"
    }
   ],
   "source": [
    "# Generate rvs\n",
    "\n",
    "X.rvs(5)"
   ]
  },
  {
   "cell_type": "markdown",
   "id": "943bda02",
   "metadata": {},
   "source": [
    "#### Goodness of fit test"
   ]
  },
  {
   "cell_type": "code",
   "execution_count": 61,
   "id": "3feca8fb",
   "metadata": {},
   "outputs": [
    {
     "data": {
      "text/html": [
       "<div>\n",
       "<style scoped>\n",
       "    .dataframe tbody tr th:only-of-type {\n",
       "        vertical-align: middle;\n",
       "    }\n",
       "\n",
       "    .dataframe tbody tr th {\n",
       "        vertical-align: top;\n",
       "    }\n",
       "\n",
       "    .dataframe thead th {\n",
       "        text-align: right;\n",
       "    }\n",
       "</style>\n",
       "<table border=\"1\" class=\"dataframe\">\n",
       "  <thead>\n",
       "    <tr style=\"text-align: right;\">\n",
       "      <th></th>\n",
       "      <th>Year</th>\n",
       "      <th>Sex</th>\n",
       "      <th>Vote</th>\n",
       "      <th>Paper</th>\n",
       "      <th>Edit</th>\n",
       "      <th>TV</th>\n",
       "      <th>Ethics</th>\n",
       "      <th>Inform</th>\n",
       "      <th>Participate</th>\n",
       "    </tr>\n",
       "    <tr>\n",
       "      <th>rownames</th>\n",
       "      <th></th>\n",
       "      <th></th>\n",
       "      <th></th>\n",
       "      <th></th>\n",
       "      <th></th>\n",
       "      <th></th>\n",
       "      <th></th>\n",
       "      <th></th>\n",
       "      <th></th>\n",
       "    </tr>\n",
       "  </thead>\n",
       "  <tbody>\n",
       "    <tr>\n",
       "      <th>1</th>\n",
       "      <td>1</td>\n",
       "      <td>1</td>\n",
       "      <td>1</td>\n",
       "      <td>3</td>\n",
       "      <td>1</td>\n",
       "      <td>0</td>\n",
       "      <td>2</td>\n",
       "      <td>2</td>\n",
       "      <td>0.0</td>\n",
       "    </tr>\n",
       "    <tr>\n",
       "      <th>2</th>\n",
       "      <td>4</td>\n",
       "      <td>1</td>\n",
       "      <td>3</td>\n",
       "      <td>1</td>\n",
       "      <td>1</td>\n",
       "      <td>3</td>\n",
       "      <td>2</td>\n",
       "      <td>2</td>\n",
       "      <td>1.0</td>\n",
       "    </tr>\n",
       "    <tr>\n",
       "      <th>3</th>\n",
       "      <td>2</td>\n",
       "      <td>0</td>\n",
       "      <td>3</td>\n",
       "      <td>4</td>\n",
       "      <td>1</td>\n",
       "      <td>3</td>\n",
       "      <td>2</td>\n",
       "      <td>3</td>\n",
       "      <td>1.0</td>\n",
       "    </tr>\n",
       "    <tr>\n",
       "      <th>4</th>\n",
       "      <td>3</td>\n",
       "      <td>1</td>\n",
       "      <td>3</td>\n",
       "      <td>3</td>\n",
       "      <td>1</td>\n",
       "      <td>0</td>\n",
       "      <td>3</td>\n",
       "      <td>2</td>\n",
       "      <td>1.0</td>\n",
       "    </tr>\n",
       "    <tr>\n",
       "      <th>5</th>\n",
       "      <td>1</td>\n",
       "      <td>1</td>\n",
       "      <td>3</td>\n",
       "      <td>2</td>\n",
       "      <td>0</td>\n",
       "      <td>0</td>\n",
       "      <td>2</td>\n",
       "      <td>3</td>\n",
       "      <td>1.0</td>\n",
       "    </tr>\n",
       "  </tbody>\n",
       "</table>\n",
       "</div>"
      ],
      "text/plain": [
       "          Year  Sex  Vote  Paper  Edit  TV  Ethics  Inform  Participate\n",
       "rownames                                                               \n",
       "1            1    1     1      3     1   0       2       2          0.0\n",
       "2            4    1     3      1     1   3       2       2          1.0\n",
       "3            2    0     3      4     1   3       2       3          1.0\n",
       "4            3    1     3      3     1   0       3       2          1.0\n",
       "5            1    1     3      2     0   0       2       3          1.0"
      ]
     },
     "execution_count": 61,
     "metadata": {},
     "output_type": "execute_result"
    }
   ],
   "source": [
    "# Import a political dataset\n",
    "\n",
    "url = 'https://vincentarelbundock.github.io/Rdatasets/csv/Stat2Data/Political.csv'\n",
    "df = pd.read_csv(url, index_col=0)\n",
    "df.head()"
   ]
  },
  {
   "cell_type": "markdown",
   "id": "4b66a734",
   "metadata": {},
   "source": [
    "Ethics column ranges from 1 (ultra liberal) to 5 (ultra conservative)"
   ]
  },
  {
   "cell_type": "code",
   "execution_count": 63,
   "id": "42146985",
   "metadata": {},
   "outputs": [
    {
     "data": {
      "text/plain": [
       "2    26\n",
       "3    19\n",
       "4    11\n",
       "5     3\n",
       "Name: Ethics, dtype: int64"
      ]
     },
     "execution_count": 63,
     "metadata": {},
     "output_type": "execute_result"
    }
   ],
   "source": [
    "# Are the ethical beliefs of college students uniformly representatie, or are they skewed towards one particular belief?\n",
    "\n",
    "df['Ethics'].value_counts()"
   ]
  },
  {
   "cell_type": "markdown",
   "id": "6615cb77",
   "metadata": {},
   "source": [
    "#### Chi-squared goodness of fit test"
   ]
  },
  {
   "cell_type": "code",
   "execution_count": 65,
   "id": "867ae139",
   "metadata": {},
   "outputs": [],
   "source": [
    "n = df.shape[0]\n",
    "k = df['Ethics'].nunique()\n",
    "\n",
    "pHat = df['Ethics'].value_counts() / n\n",
    "p = np.repeat(1/4, 4)"
   ]
  },
  {
   "cell_type": "code",
   "execution_count": 66,
   "id": "409c208c",
   "metadata": {},
   "outputs": [
    {
     "data": {
      "text/plain": [
       "20.11864406779661"
      ]
     },
     "execution_count": 66,
     "metadata": {},
     "output_type": "execute_result"
    }
   ],
   "source": [
    "tHat = n * np.sum([(x[0] - x[1])**2 / x[1] for x in zip(pHat, p)])\n",
    "tHat"
   ]
  },
  {
   "cell_type": "code",
   "execution_count": 68,
   "id": "caf175ec",
   "metadata": {},
   "outputs": [
    {
     "data": {
      "text/plain": [
       "0.00016039817465407502"
      ]
     },
     "execution_count": 68,
     "metadata": {},
     "output_type": "execute_result"
    }
   ],
   "source": [
    "T = stats.chi2(k-1)\n",
    "pVal = 1 - T.cdf(tHat)\n",
    "pVal"
   ]
  },
  {
   "cell_type": "code",
   "execution_count": 70,
   "id": "a8508e79",
   "metadata": {},
   "outputs": [
    {
     "data": {
      "text/plain": [
       "Power_divergenceResult(statistic=20.11864406779661, pvalue=0.0001603981746541034)"
      ]
     },
     "execution_count": 70,
     "metadata": {},
     "output_type": "execute_result"
    }
   ],
   "source": [
    "# Redo using stats.chisquare\n",
    "\n",
    "stats.chisquare(df['Ethics'].value_counts())"
   ]
  },
  {
   "cell_type": "code",
   "execution_count": null,
   "id": "60ec60c6",
   "metadata": {},
   "outputs": [],
   "source": []
  }
 ],
 "metadata": {
  "kernelspec": {
   "display_name": "Python 3 (ipykernel)",
   "language": "python",
   "name": "python3"
  },
  "language_info": {
   "codemirror_mode": {
    "name": "ipython",
    "version": 3
   },
   "file_extension": ".py",
   "mimetype": "text/x-python",
   "name": "python",
   "nbconvert_exporter": "python",
   "pygments_lexer": "ipython3",
   "version": "3.9.12"
  }
 },
 "nbformat": 4,
 "nbformat_minor": 5
}
